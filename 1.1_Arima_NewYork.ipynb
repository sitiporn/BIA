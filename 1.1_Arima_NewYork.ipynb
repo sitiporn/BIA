{
 "cells": [
  {
   "cell_type": "code",
   "execution_count": 1,
   "id": "ZymfhJQ_63Lj",
   "metadata": {
    "colab": {
     "base_uri": "https://localhost:8080/"
    },
    "executionInfo": {
     "elapsed": 33083,
     "status": "ok",
     "timestamp": 1619509187255,
     "user": {
      "displayName": "Sitiporn Saelim",
      "photoUrl": "",
      "userId": "04392232392828254116"
     },
     "user_tz": -420
    },
    "id": "ZymfhJQ_63Lj",
    "outputId": "10bc1c00-f2bc-4f1b-f4a8-2fd51e72d47f"
   },
   "outputs": [],
   "source": [
    "# from google.colab import drive\n",
    "# drive.mount('/content/drive')"
   ]
  },
  {
   "cell_type": "code",
   "execution_count": 2,
   "id": "96b5819f-e8ac-4c3c-9c28-93afb6ac738f",
   "metadata": {
    "executionInfo": {
     "elapsed": 37627,
     "status": "ok",
     "timestamp": 1619509191805,
     "user": {
      "displayName": "Sitiporn Saelim",
      "photoUrl": "",
      "userId": "04392232392828254116"
     },
     "user_tz": -420
    },
    "id": "96b5819f-e8ac-4c3c-9c28-93afb6ac738f"
   },
   "outputs": [],
   "source": [
    "import numpy as np\n",
    "import pandas as pd\n",
    "import torch\n",
    "import torch.nn as nn\n",
    "import torch.nn.functional as F\n",
    "import torch.optim as optim\n",
    "from torch.utils.data import TensorDataset, DataLoader\n",
    "from sklearn.preprocessing import MinMaxScaler, StandardScaler\n",
    "import matplotlib.pyplot as plt\n",
    "from tqdm import tqdm"
   ]
  },
  {
   "cell_type": "code",
   "execution_count": 3,
   "id": "f788572f-61f5-4edd-a4b7-ba8c292c8589",
   "metadata": {
    "executionInfo": {
     "elapsed": 37626,
     "status": "ok",
     "timestamp": 1619509191807,
     "user": {
      "displayName": "Sitiporn Saelim",
      "photoUrl": "",
      "userId": "04392232392828254116"
     },
     "user_tz": -420
    },
    "id": "f788572f-61f5-4edd-a4b7-ba8c292c8589"
   },
   "outputs": [],
   "source": [
    "##===\n",
    "# Select state we want to predict\n",
    "# New York , California , Florida , Texas\n",
    "STATE = 'New York'\n",
    "\n",
    "WEIGHTDECAY = 0\n",
    "TRAIN = True\n",
    "seq_length = 21\n",
    "N_EPOCHS = 1000\n",
    "device = torch.device('cuda' if torch.cuda.is_available() else 'cpu')\n",
    "##===\n",
    "\n",
    "#### Model Config ===\n",
    "# channel_config = np.array([[1,64,128],[128,64,64],[64,32,1]])\n",
    "#channel_config = np.array([[1,7,14],[14,7,7],[7,4,1]])\n",
    "channel_config = np.array([[1,7,14],[14,21,14],[14,7,1]])"
   ]
  },
  {
   "cell_type": "markdown",
   "id": "ad882fe1-7a80-4ca8-9a54-82dc294c48df",
   "metadata": {
    "id": "ad882fe1-7a80-4ca8-9a54-82dc294c48df"
   },
   "source": [
    "## Data frame Format"
   ]
  },
  {
   "cell_type": "markdown",
   "id": "de64a227-a629-42e1-99b6-333734cca580",
   "metadata": {
    "id": "de64a227-a629-42e1-99b6-333734cca580"
   },
   "source": [
    "### Import Data from CSV file"
   ]
  },
  {
   "cell_type": "code",
   "execution_count": 4,
   "id": "5e908914-f968-489e-a2a5-ef500dc4001f",
   "metadata": {
    "executionInfo": {
     "elapsed": 46165,
     "status": "ok",
     "timestamp": 1619509200353,
     "user": {
      "displayName": "Sitiporn Saelim",
      "photoUrl": "",
      "userId": "04392232392828254116"
     },
     "user_tz": -420
    },
    "id": "5e908914-f968-489e-a2a5-ef500dc4001f"
   },
   "outputs": [],
   "source": [
    "#df = pd.read_excel(\"./drive/Shareddrives/BI&A/Data/Cleaned Data.xlsx\")\n",
    "df = pd.read_csv('Cleaned_data.csv')"
   ]
  },
  {
   "cell_type": "code",
   "execution_count": 5,
   "id": "344a4ff7-ad56-4738-93fa-6fadca83fe0f",
   "metadata": {
    "colab": {
     "base_uri": "https://localhost:8080/",
     "height": 226
    },
    "executionInfo": {
     "elapsed": 46152,
     "status": "ok",
     "timestamp": 1619509200354,
     "user": {
      "displayName": "Sitiporn Saelim",
      "photoUrl": "",
      "userId": "04392232392828254116"
     },
     "user_tz": -420
    },
    "id": "344a4ff7-ad56-4738-93fa-6fadca83fe0f",
    "outputId": "1cb3b9b8-2571-4898-ed91-0a08754b3570"
   },
   "outputs": [
    {
     "data": {
      "text/html": [
       "<div>\n",
       "<style scoped>\n",
       "    .dataframe tbody tr th:only-of-type {\n",
       "        vertical-align: middle;\n",
       "    }\n",
       "\n",
       "    .dataframe tbody tr th {\n",
       "        vertical-align: top;\n",
       "    }\n",
       "\n",
       "    .dataframe thead th {\n",
       "        text-align: right;\n",
       "    }\n",
       "</style>\n",
       "<table border=\"1\" class=\"dataframe\">\n",
       "  <thead>\n",
       "    <tr style=\"text-align: right;\">\n",
       "      <th></th>\n",
       "      <th>date</th>\n",
       "      <th>state</th>\n",
       "      <th>fips</th>\n",
       "      <th>cases</th>\n",
       "      <th>daily_cases</th>\n",
       "      <th>deaths</th>\n",
       "      <th>daily_deaths</th>\n",
       "      <th>total_vaccinations</th>\n",
       "      <th>total_distributed</th>\n",
       "      <th>daily_distributed</th>\n",
       "      <th>total_people_vaccinated</th>\n",
       "      <th>daily_people_vaccinated</th>\n",
       "      <th>total_people_fully_vaccinated</th>\n",
       "      <th>daily_people_fully_vaccinated</th>\n",
       "      <th>daily_vaccinations</th>\n",
       "      <th>mobility_composite</th>\n",
       "    </tr>\n",
       "  </thead>\n",
       "  <tbody>\n",
       "    <tr>\n",
       "      <th>0</th>\n",
       "      <td>3/13/2021</td>\n",
       "      <td>Alabama</td>\n",
       "      <td>1</td>\n",
       "      <td>503305</td>\n",
       "      <td>594</td>\n",
       "      <td>10327</td>\n",
       "      <td>28</td>\n",
       "      <td>1288242</td>\n",
       "      <td>1918560.0</td>\n",
       "      <td>80160.0</td>\n",
       "      <td>841394.0</td>\n",
       "      <td>24976.0</td>\n",
       "      <td>492755.0</td>\n",
       "      <td>20430.0</td>\n",
       "      <td>26,935</td>\n",
       "      <td>-1.013041</td>\n",
       "    </tr>\n",
       "    <tr>\n",
       "      <th>1</th>\n",
       "      <td>3/12/2021</td>\n",
       "      <td>Alabama</td>\n",
       "      <td>1</td>\n",
       "      <td>502711</td>\n",
       "      <td>448</td>\n",
       "      <td>10299</td>\n",
       "      <td>25</td>\n",
       "      <td>1249205</td>\n",
       "      <td>1838400.0</td>\n",
       "      <td>22170.0</td>\n",
       "      <td>816418.0</td>\n",
       "      <td>25554.0</td>\n",
       "      <td>472325.0</td>\n",
       "      <td>19579.0</td>\n",
       "      <td>26,375</td>\n",
       "      <td>-1.013041</td>\n",
       "    </tr>\n",
       "    <tr>\n",
       "      <th>2</th>\n",
       "      <td>3/11/2021</td>\n",
       "      <td>Alabama</td>\n",
       "      <td>1</td>\n",
       "      <td>502263</td>\n",
       "      <td>865</td>\n",
       "      <td>10274</td>\n",
       "      <td>52</td>\n",
       "      <td>1209802</td>\n",
       "      <td>1816230.0</td>\n",
       "      <td>40570.0</td>\n",
       "      <td>790864.0</td>\n",
       "      <td>22362.0</td>\n",
       "      <td>452746.0</td>\n",
       "      <td>17728.0</td>\n",
       "      <td>25,376</td>\n",
       "      <td>-1.013041</td>\n",
       "    </tr>\n",
       "    <tr>\n",
       "      <th>3</th>\n",
       "      <td>3/10/2021</td>\n",
       "      <td>Alabama</td>\n",
       "      <td>1</td>\n",
       "      <td>501398</td>\n",
       "      <td>782</td>\n",
       "      <td>10222</td>\n",
       "      <td>36</td>\n",
       "      <td>1173820</td>\n",
       "      <td>1775660.0</td>\n",
       "      <td>86610.0</td>\n",
       "      <td>768502.0</td>\n",
       "      <td>21234.0</td>\n",
       "      <td>435018.0</td>\n",
       "      <td>14935.0</td>\n",
       "      <td>24,827</td>\n",
       "      <td>-1.013041</td>\n",
       "    </tr>\n",
       "    <tr>\n",
       "      <th>4</th>\n",
       "      <td>3/9/2021</td>\n",
       "      <td>Alabama</td>\n",
       "      <td>1</td>\n",
       "      <td>500616</td>\n",
       "      <td>524</td>\n",
       "      <td>10186</td>\n",
       "      <td>38</td>\n",
       "      <td>1140984</td>\n",
       "      <td>1689050.0</td>\n",
       "      <td>60700.0</td>\n",
       "      <td>747268.0</td>\n",
       "      <td>14301.0</td>\n",
       "      <td>420083.0</td>\n",
       "      <td>10146.0</td>\n",
       "      <td>24,118</td>\n",
       "      <td>-1.013041</td>\n",
       "    </tr>\n",
       "  </tbody>\n",
       "</table>\n",
       "</div>"
      ],
      "text/plain": [
       "        date    state  fips   cases  daily_cases  deaths  daily_deaths  \\\n",
       "0  3/13/2021  Alabama     1  503305          594   10327            28   \n",
       "1  3/12/2021  Alabama     1  502711          448   10299            25   \n",
       "2  3/11/2021  Alabama     1  502263          865   10274            52   \n",
       "3  3/10/2021  Alabama     1  501398          782   10222            36   \n",
       "4   3/9/2021  Alabama     1  500616          524   10186            38   \n",
       "\n",
       "  total_vaccinations  total_distributed  daily_distributed  \\\n",
       "0            1288242          1918560.0            80160.0   \n",
       "1            1249205          1838400.0            22170.0   \n",
       "2            1209802          1816230.0            40570.0   \n",
       "3            1173820          1775660.0            86610.0   \n",
       "4            1140984          1689050.0            60700.0   \n",
       "\n",
       "   total_people_vaccinated  daily_people_vaccinated  \\\n",
       "0                 841394.0                  24976.0   \n",
       "1                 816418.0                  25554.0   \n",
       "2                 790864.0                  22362.0   \n",
       "3                 768502.0                  21234.0   \n",
       "4                 747268.0                  14301.0   \n",
       "\n",
       "   total_people_fully_vaccinated  daily_people_fully_vaccinated  \\\n",
       "0                       492755.0                        20430.0   \n",
       "1                       472325.0                        19579.0   \n",
       "2                       452746.0                        17728.0   \n",
       "3                       435018.0                        14935.0   \n",
       "4                       420083.0                        10146.0   \n",
       "\n",
       "  daily_vaccinations  mobility_composite  \n",
       "0             26,935           -1.013041  \n",
       "1             26,375           -1.013041  \n",
       "2             25,376           -1.013041  \n",
       "3             24,827           -1.013041  \n",
       "4             24,118           -1.013041  "
      ]
     },
     "execution_count": 5,
     "metadata": {},
     "output_type": "execute_result"
    }
   ],
   "source": [
    "df.head()"
   ]
  },
  {
   "cell_type": "code",
   "execution_count": 6,
   "id": "21ae967e-fe62-4c78-a5e9-b3ce7158917c",
   "metadata": {
    "colab": {
     "base_uri": "https://localhost:8080/"
    },
    "executionInfo": {
     "elapsed": 46141,
     "status": "ok",
     "timestamp": 1619509200356,
     "user": {
      "displayName": "Sitiporn Saelim",
      "photoUrl": "",
      "userId": "04392232392828254116"
     },
     "user_tz": -420
    },
    "id": "21ae967e-fe62-4c78-a5e9-b3ce7158917c",
    "outputId": "c98dc023-b5a6-446c-d9cc-ca4cb2cd3f98"
   },
   "outputs": [
    {
     "name": "stdout",
     "output_type": "stream",
     "text": [
      "<class 'pandas.core.frame.DataFrame'>\n",
      "RangeIndex: 20618 entries, 0 to 20617\n",
      "Data columns (total 16 columns):\n",
      " #   Column                         Non-Null Count  Dtype  \n",
      "---  ------                         --------------  -----  \n",
      " 0   date                           20618 non-null  object \n",
      " 1   state                          20618 non-null  object \n",
      " 2   fips                           20618 non-null  int64  \n",
      " 3   cases                          20618 non-null  int64  \n",
      " 4   daily_cases                    20618 non-null  int64  \n",
      " 5   deaths                         20618 non-null  int64  \n",
      " 6   daily_deaths                   20618 non-null  int64  \n",
      " 7   total_vaccinations             3801 non-null   object \n",
      " 8   total_distributed              3801 non-null   float64\n",
      " 9   daily_distributed              3801 non-null   float64\n",
      " 10  total_people_vaccinated        3801 non-null   float64\n",
      " 11  daily_people_vaccinated        3801 non-null   float64\n",
      " 12  total_people_fully_vaccinated  3801 non-null   float64\n",
      " 13  daily_people_fully_vaccinated  3801 non-null   float64\n",
      " 14  daily_vaccinations             3779 non-null   object \n",
      " 15  mobility_composite             19353 non-null  float64\n",
      "dtypes: float64(7), int64(5), object(4)\n",
      "memory usage: 2.5+ MB\n"
     ]
    }
   ],
   "source": [
    "df.info()"
   ]
  },
  {
   "cell_type": "code",
   "execution_count": 7,
   "id": "836c3722-619c-4ea8-a6f0-22214d8ee8b9",
   "metadata": {
    "colab": {
     "base_uri": "https://localhost:8080/",
     "height": 206
    },
    "executionInfo": {
     "elapsed": 46132,
     "status": "ok",
     "timestamp": 1619509200357,
     "user": {
      "displayName": "Sitiporn Saelim",
      "photoUrl": "",
      "userId": "04392232392828254116"
     },
     "user_tz": -420
    },
    "id": "836c3722-619c-4ea8-a6f0-22214d8ee8b9",
    "outputId": "4b3cf9f1-c8c6-4cf9-8646-de5ef6411df1"
   },
   "outputs": [
    {
     "data": {
      "text/html": [
       "<div>\n",
       "<style scoped>\n",
       "    .dataframe tbody tr th:only-of-type {\n",
       "        vertical-align: middle;\n",
       "    }\n",
       "\n",
       "    .dataframe tbody tr th {\n",
       "        vertical-align: top;\n",
       "    }\n",
       "\n",
       "    .dataframe thead th {\n",
       "        text-align: right;\n",
       "    }\n",
       "</style>\n",
       "<table border=\"1\" class=\"dataframe\">\n",
       "  <thead>\n",
       "    <tr style=\"text-align: right;\">\n",
       "      <th></th>\n",
       "      <th>date</th>\n",
       "      <th>state</th>\n",
       "      <th>fips</th>\n",
       "      <th>daily_cases</th>\n",
       "      <th>daily_deaths</th>\n",
       "      <th>daily_distributed</th>\n",
       "      <th>daily_people_vaccinated</th>\n",
       "      <th>daily_people_fully_vaccinated</th>\n",
       "      <th>daily_vaccinations</th>\n",
       "      <th>mobility_composite</th>\n",
       "    </tr>\n",
       "  </thead>\n",
       "  <tbody>\n",
       "    <tr>\n",
       "      <th>0</th>\n",
       "      <td>3/13/2021</td>\n",
       "      <td>Alabama</td>\n",
       "      <td>1</td>\n",
       "      <td>594</td>\n",
       "      <td>28</td>\n",
       "      <td>80160.0</td>\n",
       "      <td>24976.0</td>\n",
       "      <td>20430.0</td>\n",
       "      <td>26,935</td>\n",
       "      <td>-1.013041</td>\n",
       "    </tr>\n",
       "    <tr>\n",
       "      <th>1</th>\n",
       "      <td>3/12/2021</td>\n",
       "      <td>Alabama</td>\n",
       "      <td>1</td>\n",
       "      <td>448</td>\n",
       "      <td>25</td>\n",
       "      <td>22170.0</td>\n",
       "      <td>25554.0</td>\n",
       "      <td>19579.0</td>\n",
       "      <td>26,375</td>\n",
       "      <td>-1.013041</td>\n",
       "    </tr>\n",
       "    <tr>\n",
       "      <th>2</th>\n",
       "      <td>3/11/2021</td>\n",
       "      <td>Alabama</td>\n",
       "      <td>1</td>\n",
       "      <td>865</td>\n",
       "      <td>52</td>\n",
       "      <td>40570.0</td>\n",
       "      <td>22362.0</td>\n",
       "      <td>17728.0</td>\n",
       "      <td>25,376</td>\n",
       "      <td>-1.013041</td>\n",
       "    </tr>\n",
       "    <tr>\n",
       "      <th>3</th>\n",
       "      <td>3/10/2021</td>\n",
       "      <td>Alabama</td>\n",
       "      <td>1</td>\n",
       "      <td>782</td>\n",
       "      <td>36</td>\n",
       "      <td>86610.0</td>\n",
       "      <td>21234.0</td>\n",
       "      <td>14935.0</td>\n",
       "      <td>24,827</td>\n",
       "      <td>-1.013041</td>\n",
       "    </tr>\n",
       "    <tr>\n",
       "      <th>4</th>\n",
       "      <td>3/9/2021</td>\n",
       "      <td>Alabama</td>\n",
       "      <td>1</td>\n",
       "      <td>524</td>\n",
       "      <td>38</td>\n",
       "      <td>60700.0</td>\n",
       "      <td>14301.0</td>\n",
       "      <td>10146.0</td>\n",
       "      <td>24,118</td>\n",
       "      <td>-1.013041</td>\n",
       "    </tr>\n",
       "  </tbody>\n",
       "</table>\n",
       "</div>"
      ],
      "text/plain": [
       "        date    state  fips  daily_cases  daily_deaths  daily_distributed  \\\n",
       "0  3/13/2021  Alabama     1          594            28            80160.0   \n",
       "1  3/12/2021  Alabama     1          448            25            22170.0   \n",
       "2  3/11/2021  Alabama     1          865            52            40570.0   \n",
       "3  3/10/2021  Alabama     1          782            36            86610.0   \n",
       "4   3/9/2021  Alabama     1          524            38            60700.0   \n",
       "\n",
       "   daily_people_vaccinated  daily_people_fully_vaccinated daily_vaccinations  \\\n",
       "0                  24976.0                        20430.0             26,935   \n",
       "1                  25554.0                        19579.0             26,375   \n",
       "2                  22362.0                        17728.0             25,376   \n",
       "3                  21234.0                        14935.0             24,827   \n",
       "4                  14301.0                        10146.0             24,118   \n",
       "\n",
       "   mobility_composite  \n",
       "0           -1.013041  \n",
       "1           -1.013041  \n",
       "2           -1.013041  \n",
       "3           -1.013041  \n",
       "4           -1.013041  "
      ]
     },
     "execution_count": 7,
     "metadata": {},
     "output_type": "execute_result"
    }
   ],
   "source": [
    "df = df.drop(labels=['cases', 'deaths', 'total_vaccinations', 'total_distributed', 'total_people_vaccinated', 'total_people_fully_vaccinated'], axis=1)\n",
    "df.head()"
   ]
  },
  {
   "cell_type": "code",
   "execution_count": 8,
   "id": "cd39e90b-0daa-4780-a915-99e2c188b7f2",
   "metadata": {
    "colab": {
     "base_uri": "https://localhost:8080/"
    },
    "executionInfo": {
     "elapsed": 46122,
     "status": "ok",
     "timestamp": 1619509200358,
     "user": {
      "displayName": "Sitiporn Saelim",
      "photoUrl": "",
      "userId": "04392232392828254116"
     },
     "user_tz": -420
    },
    "id": "cd39e90b-0daa-4780-a915-99e2c188b7f2",
    "outputId": "f2f42d23-de95-4150-b07b-d8a731b97fb2"
   },
   "outputs": [
    {
     "data": {
      "text/plain": [
       "array(['Alabama', 'Alaska', 'Arizona', 'Arkansas', 'California',\n",
       "       'Colorado', 'Connecticut', 'Delaware', 'District of Columbia',\n",
       "       'Florida', 'Georgia', 'Guam', 'Hawaii', 'Idaho', 'Illinois',\n",
       "       'Indiana', 'Iowa', 'Kansas', 'Kentucky', 'Louisiana', 'Maine',\n",
       "       'Maryland', 'Massachusetts', 'Michigan', 'Minnesota',\n",
       "       'Mississippi', 'Missouri', 'Montana', 'Nebraska', 'Nevada',\n",
       "       'New Hampshire', 'New Jersey', 'New Mexico', 'New York',\n",
       "       'North Carolina', 'North Dakota', 'Northern Mariana Islands',\n",
       "       'Ohio', 'Oklahoma', 'Oregon', 'Pennsylvania', 'Puerto Rico',\n",
       "       'Rhode Island', 'South Carolina', 'South Dakota', 'Tennessee',\n",
       "       'Texas', 'Utah', 'Vermont', 'Virgin Islands', 'Virginia',\n",
       "       'Washington', 'West Virginia', 'Wisconsin', 'Wyoming'],\n",
       "      dtype=object)"
      ]
     },
     "execution_count": 8,
     "metadata": {},
     "output_type": "execute_result"
    }
   ],
   "source": [
    "df['state'].unique()"
   ]
  },
  {
   "cell_type": "code",
   "execution_count": 9,
   "id": "5d059c19-c413-4820-85a8-18632ef73b7f",
   "metadata": {
    "colab": {
     "base_uri": "https://localhost:8080/",
     "height": 424
    },
    "executionInfo": {
     "elapsed": 46114,
     "status": "ok",
     "timestamp": 1619509200360,
     "user": {
      "displayName": "Sitiporn Saelim",
      "photoUrl": "",
      "userId": "04392232392828254116"
     },
     "user_tz": -420
    },
    "id": "5d059c19-c413-4820-85a8-18632ef73b7f",
    "outputId": "8d30ea18-e07a-4bf3-b20c-edb24c321d1b"
   },
   "outputs": [
    {
     "data": {
      "text/html": [
       "<div>\n",
       "<style scoped>\n",
       "    .dataframe tbody tr th:only-of-type {\n",
       "        vertical-align: middle;\n",
       "    }\n",
       "\n",
       "    .dataframe tbody tr th {\n",
       "        vertical-align: top;\n",
       "    }\n",
       "\n",
       "    .dataframe thead th {\n",
       "        text-align: right;\n",
       "    }\n",
       "</style>\n",
       "<table border=\"1\" class=\"dataframe\">\n",
       "  <thead>\n",
       "    <tr style=\"text-align: right;\">\n",
       "      <th></th>\n",
       "      <th>date</th>\n",
       "      <th>state</th>\n",
       "      <th>fips</th>\n",
       "      <th>daily_cases</th>\n",
       "      <th>daily_deaths</th>\n",
       "      <th>daily_distributed</th>\n",
       "      <th>daily_people_vaccinated</th>\n",
       "      <th>daily_people_fully_vaccinated</th>\n",
       "      <th>daily_vaccinations</th>\n",
       "      <th>mobility_composite</th>\n",
       "    </tr>\n",
       "  </thead>\n",
       "  <tbody>\n",
       "    <tr>\n",
       "      <th>19484</th>\n",
       "      <td>2020-01-21</td>\n",
       "      <td>Washington</td>\n",
       "      <td>53</td>\n",
       "      <td>1</td>\n",
       "      <td>0</td>\n",
       "      <td>NaN</td>\n",
       "      <td>NaN</td>\n",
       "      <td>NaN</td>\n",
       "      <td>NaN</td>\n",
       "      <td>NaN</td>\n",
       "    </tr>\n",
       "    <tr>\n",
       "      <th>19483</th>\n",
       "      <td>2020-01-22</td>\n",
       "      <td>Washington</td>\n",
       "      <td>53</td>\n",
       "      <td>0</td>\n",
       "      <td>0</td>\n",
       "      <td>NaN</td>\n",
       "      <td>NaN</td>\n",
       "      <td>NaN</td>\n",
       "      <td>NaN</td>\n",
       "      <td>NaN</td>\n",
       "    </tr>\n",
       "    <tr>\n",
       "      <th>19482</th>\n",
       "      <td>2020-01-23</td>\n",
       "      <td>Washington</td>\n",
       "      <td>53</td>\n",
       "      <td>0</td>\n",
       "      <td>0</td>\n",
       "      <td>NaN</td>\n",
       "      <td>NaN</td>\n",
       "      <td>NaN</td>\n",
       "      <td>NaN</td>\n",
       "      <td>NaN</td>\n",
       "    </tr>\n",
       "    <tr>\n",
       "      <th>5684</th>\n",
       "      <td>2020-01-24</td>\n",
       "      <td>Illinois</td>\n",
       "      <td>17</td>\n",
       "      <td>1</td>\n",
       "      <td>0</td>\n",
       "      <td>NaN</td>\n",
       "      <td>NaN</td>\n",
       "      <td>NaN</td>\n",
       "      <td>NaN</td>\n",
       "      <td>NaN</td>\n",
       "    </tr>\n",
       "    <tr>\n",
       "      <th>19481</th>\n",
       "      <td>2020-01-24</td>\n",
       "      <td>Washington</td>\n",
       "      <td>53</td>\n",
       "      <td>0</td>\n",
       "      <td>0</td>\n",
       "      <td>NaN</td>\n",
       "      <td>NaN</td>\n",
       "      <td>NaN</td>\n",
       "      <td>NaN</td>\n",
       "      <td>NaN</td>\n",
       "    </tr>\n",
       "    <tr>\n",
       "      <th>...</th>\n",
       "      <td>...</td>\n",
       "      <td>...</td>\n",
       "      <td>...</td>\n",
       "      <td>...</td>\n",
       "      <td>...</td>\n",
       "      <td>...</td>\n",
       "      <td>...</td>\n",
       "      <td>...</td>\n",
       "      <td>...</td>\n",
       "      <td>...</td>\n",
       "    </tr>\n",
       "    <tr>\n",
       "      <th>20250</th>\n",
       "      <td>2021-03-13</td>\n",
       "      <td>Wyoming</td>\n",
       "      <td>56</td>\n",
       "      <td>0</td>\n",
       "      <td>0</td>\n",
       "      <td>0.0</td>\n",
       "      <td>4086.0</td>\n",
       "      <td>2945.0</td>\n",
       "      <td>4,085</td>\n",
       "      <td>0.000000</td>\n",
       "    </tr>\n",
       "    <tr>\n",
       "      <th>4168</th>\n",
       "      <td>2021-03-13</td>\n",
       "      <td>Guam</td>\n",
       "      <td>66</td>\n",
       "      <td>1</td>\n",
       "      <td>0</td>\n",
       "      <td>0.0</td>\n",
       "      <td>226.0</td>\n",
       "      <td>1440.0</td>\n",
       "      <td>1,272</td>\n",
       "      <td>-5.361115</td>\n",
       "    </tr>\n",
       "    <tr>\n",
       "      <th>13475</th>\n",
       "      <td>2021-03-13</td>\n",
       "      <td>Northern Mariana Islands</td>\n",
       "      <td>69</td>\n",
       "      <td>1</td>\n",
       "      <td>0</td>\n",
       "      <td>0.0</td>\n",
       "      <td>230.0</td>\n",
       "      <td>163.0</td>\n",
       "      <td>246</td>\n",
       "      <td>NaN</td>\n",
       "    </tr>\n",
       "    <tr>\n",
       "      <th>15319</th>\n",
       "      <td>2021-03-13</td>\n",
       "      <td>Puerto Rico</td>\n",
       "      <td>72</td>\n",
       "      <td>235</td>\n",
       "      <td>0</td>\n",
       "      <td>19550.0</td>\n",
       "      <td>32455.0</td>\n",
       "      <td>20400.0</td>\n",
       "      <td>19,615</td>\n",
       "      <td>0.000000</td>\n",
       "    </tr>\n",
       "    <tr>\n",
       "      <th>18330</th>\n",
       "      <td>2021-03-13</td>\n",
       "      <td>Virgin Islands</td>\n",
       "      <td>78</td>\n",
       "      <td>0</td>\n",
       "      <td>0</td>\n",
       "      <td>NaN</td>\n",
       "      <td>NaN</td>\n",
       "      <td>NaN</td>\n",
       "      <td>NaN</td>\n",
       "      <td>NaN</td>\n",
       "    </tr>\n",
       "  </tbody>\n",
       "</table>\n",
       "<p>20618 rows × 10 columns</p>\n",
       "</div>"
      ],
      "text/plain": [
       "            date                     state  fips  daily_cases  daily_deaths  \\\n",
       "19484 2020-01-21                Washington    53            1             0   \n",
       "19483 2020-01-22                Washington    53            0             0   \n",
       "19482 2020-01-23                Washington    53            0             0   \n",
       "5684  2020-01-24                  Illinois    17            1             0   \n",
       "19481 2020-01-24                Washington    53            0             0   \n",
       "...          ...                       ...   ...          ...           ...   \n",
       "20250 2021-03-13                   Wyoming    56            0             0   \n",
       "4168  2021-03-13                      Guam    66            1             0   \n",
       "13475 2021-03-13  Northern Mariana Islands    69            1             0   \n",
       "15319 2021-03-13               Puerto Rico    72          235             0   \n",
       "18330 2021-03-13            Virgin Islands    78            0             0   \n",
       "\n",
       "       daily_distributed  daily_people_vaccinated  \\\n",
       "19484                NaN                      NaN   \n",
       "19483                NaN                      NaN   \n",
       "19482                NaN                      NaN   \n",
       "5684                 NaN                      NaN   \n",
       "19481                NaN                      NaN   \n",
       "...                  ...                      ...   \n",
       "20250                0.0                   4086.0   \n",
       "4168                 0.0                    226.0   \n",
       "13475                0.0                    230.0   \n",
       "15319            19550.0                  32455.0   \n",
       "18330                NaN                      NaN   \n",
       "\n",
       "       daily_people_fully_vaccinated daily_vaccinations  mobility_composite  \n",
       "19484                            NaN                NaN                 NaN  \n",
       "19483                            NaN                NaN                 NaN  \n",
       "19482                            NaN                NaN                 NaN  \n",
       "5684                             NaN                NaN                 NaN  \n",
       "19481                            NaN                NaN                 NaN  \n",
       "...                              ...                ...                 ...  \n",
       "20250                         2945.0              4,085            0.000000  \n",
       "4168                          1440.0              1,272           -5.361115  \n",
       "13475                          163.0                246                 NaN  \n",
       "15319                        20400.0             19,615            0.000000  \n",
       "18330                            NaN                NaN                 NaN  \n",
       "\n",
       "[20618 rows x 10 columns]"
      ]
     },
     "execution_count": 9,
     "metadata": {},
     "output_type": "execute_result"
    }
   ],
   "source": [
    "# Set date to be datetime format and sort by date and fips\n",
    "df['date'] = pd.to_datetime(df.date)\n",
    "df = df.sort_values(by=['date', 'fips'], axis=0, ascending=True)\n",
    "df"
   ]
  },
  {
   "cell_type": "code",
   "execution_count": 10,
   "id": "a6675f3e-4cdc-4c46-80ab-f222d50a4f86",
   "metadata": {
    "colab": {
     "base_uri": "https://localhost:8080/",
     "height": 455
    },
    "executionInfo": {
     "elapsed": 46105,
     "status": "ok",
     "timestamp": 1619509200361,
     "user": {
      "displayName": "Sitiporn Saelim",
      "photoUrl": "",
      "userId": "04392232392828254116"
     },
     "user_tz": -420
    },
    "id": "a6675f3e-4cdc-4c46-80ab-f222d50a4f86",
    "outputId": "072e1c55-bd87-4a72-9cda-f177430f51e4"
   },
   "outputs": [
    {
     "data": {
      "text/html": [
       "<div>\n",
       "<style scoped>\n",
       "    .dataframe tbody tr th:only-of-type {\n",
       "        vertical-align: middle;\n",
       "    }\n",
       "\n",
       "    .dataframe tbody tr th {\n",
       "        vertical-align: top;\n",
       "    }\n",
       "\n",
       "    .dataframe thead th {\n",
       "        text-align: right;\n",
       "    }\n",
       "</style>\n",
       "<table border=\"1\" class=\"dataframe\">\n",
       "  <thead>\n",
       "    <tr style=\"text-align: right;\">\n",
       "      <th></th>\n",
       "      <th>state</th>\n",
       "      <th>fips</th>\n",
       "      <th>daily_cases</th>\n",
       "      <th>daily_deaths</th>\n",
       "      <th>daily_distributed</th>\n",
       "      <th>daily_people_vaccinated</th>\n",
       "      <th>daily_people_fully_vaccinated</th>\n",
       "      <th>daily_vaccinations</th>\n",
       "      <th>mobility_composite</th>\n",
       "    </tr>\n",
       "    <tr>\n",
       "      <th>date</th>\n",
       "      <th></th>\n",
       "      <th></th>\n",
       "      <th></th>\n",
       "      <th></th>\n",
       "      <th></th>\n",
       "      <th></th>\n",
       "      <th></th>\n",
       "      <th></th>\n",
       "      <th></th>\n",
       "    </tr>\n",
       "  </thead>\n",
       "  <tbody>\n",
       "    <tr>\n",
       "      <th>2020-03-01</th>\n",
       "      <td>New York</td>\n",
       "      <td>36</td>\n",
       "      <td>1</td>\n",
       "      <td>0</td>\n",
       "      <td>NaN</td>\n",
       "      <td>NaN</td>\n",
       "      <td>NaN</td>\n",
       "      <td>NaN</td>\n",
       "      <td>0.375900</td>\n",
       "    </tr>\n",
       "    <tr>\n",
       "      <th>2020-03-02</th>\n",
       "      <td>New York</td>\n",
       "      <td>36</td>\n",
       "      <td>0</td>\n",
       "      <td>0</td>\n",
       "      <td>NaN</td>\n",
       "      <td>NaN</td>\n",
       "      <td>NaN</td>\n",
       "      <td>NaN</td>\n",
       "      <td>0.506888</td>\n",
       "    </tr>\n",
       "    <tr>\n",
       "      <th>2020-03-03</th>\n",
       "      <td>New York</td>\n",
       "      <td>36</td>\n",
       "      <td>1</td>\n",
       "      <td>0</td>\n",
       "      <td>NaN</td>\n",
       "      <td>NaN</td>\n",
       "      <td>NaN</td>\n",
       "      <td>NaN</td>\n",
       "      <td>0.544271</td>\n",
       "    </tr>\n",
       "    <tr>\n",
       "      <th>2020-03-04</th>\n",
       "      <td>New York</td>\n",
       "      <td>36</td>\n",
       "      <td>9</td>\n",
       "      <td>0</td>\n",
       "      <td>NaN</td>\n",
       "      <td>NaN</td>\n",
       "      <td>NaN</td>\n",
       "      <td>NaN</td>\n",
       "      <td>0.439053</td>\n",
       "    </tr>\n",
       "    <tr>\n",
       "      <th>2020-03-05</th>\n",
       "      <td>New York</td>\n",
       "      <td>36</td>\n",
       "      <td>11</td>\n",
       "      <td>0</td>\n",
       "      <td>NaN</td>\n",
       "      <td>NaN</td>\n",
       "      <td>NaN</td>\n",
       "      <td>NaN</td>\n",
       "      <td>0.128823</td>\n",
       "    </tr>\n",
       "    <tr>\n",
       "      <th>...</th>\n",
       "      <td>...</td>\n",
       "      <td>...</td>\n",
       "      <td>...</td>\n",
       "      <td>...</td>\n",
       "      <td>...</td>\n",
       "      <td>...</td>\n",
       "      <td>...</td>\n",
       "      <td>...</td>\n",
       "      <td>...</td>\n",
       "    </tr>\n",
       "    <tr>\n",
       "      <th>2021-03-09</th>\n",
       "      <td>New York</td>\n",
       "      <td>36</td>\n",
       "      <td>6833</td>\n",
       "      <td>79</td>\n",
       "      <td>137580.0</td>\n",
       "      <td>81475.0</td>\n",
       "      <td>40249.0</td>\n",
       "      <td>147,075</td>\n",
       "      <td>-29.493292</td>\n",
       "    </tr>\n",
       "    <tr>\n",
       "      <th>2021-03-10</th>\n",
       "      <td>New York</td>\n",
       "      <td>36</td>\n",
       "      <td>6106</td>\n",
       "      <td>92</td>\n",
       "      <td>551160.0</td>\n",
       "      <td>130264.0</td>\n",
       "      <td>52850.0</td>\n",
       "      <td>154,877</td>\n",
       "      <td>-29.493292</td>\n",
       "    </tr>\n",
       "    <tr>\n",
       "      <th>2021-03-11</th>\n",
       "      <td>New York</td>\n",
       "      <td>36</td>\n",
       "      <td>7169</td>\n",
       "      <td>116</td>\n",
       "      <td>196200.0</td>\n",
       "      <td>111178.0</td>\n",
       "      <td>54745.0</td>\n",
       "      <td>158,585</td>\n",
       "      <td>-29.493292</td>\n",
       "    </tr>\n",
       "    <tr>\n",
       "      <th>2021-03-12</th>\n",
       "      <td>New York</td>\n",
       "      <td>36</td>\n",
       "      <td>8444</td>\n",
       "      <td>69</td>\n",
       "      <td>112340.0</td>\n",
       "      <td>117195.0</td>\n",
       "      <td>54201.0</td>\n",
       "      <td>162,157</td>\n",
       "      <td>-29.493292</td>\n",
       "    </tr>\n",
       "    <tr>\n",
       "      <th>2021-03-13</th>\n",
       "      <td>New York</td>\n",
       "      <td>36</td>\n",
       "      <td>6033</td>\n",
       "      <td>93</td>\n",
       "      <td>230630.0</td>\n",
       "      <td>216145.0</td>\n",
       "      <td>94651.0</td>\n",
       "      <td>178,982</td>\n",
       "      <td>-29.493292</td>\n",
       "    </tr>\n",
       "  </tbody>\n",
       "</table>\n",
       "<p>378 rows × 9 columns</p>\n",
       "</div>"
      ],
      "text/plain": [
       "               state  fips  daily_cases  daily_deaths  daily_distributed  \\\n",
       "date                                                                       \n",
       "2020-03-01  New York    36            1             0                NaN   \n",
       "2020-03-02  New York    36            0             0                NaN   \n",
       "2020-03-03  New York    36            1             0                NaN   \n",
       "2020-03-04  New York    36            9             0                NaN   \n",
       "2020-03-05  New York    36           11             0                NaN   \n",
       "...              ...   ...          ...           ...                ...   \n",
       "2021-03-09  New York    36         6833            79           137580.0   \n",
       "2021-03-10  New York    36         6106            92           551160.0   \n",
       "2021-03-11  New York    36         7169           116           196200.0   \n",
       "2021-03-12  New York    36         8444            69           112340.0   \n",
       "2021-03-13  New York    36         6033            93           230630.0   \n",
       "\n",
       "            daily_people_vaccinated  daily_people_fully_vaccinated  \\\n",
       "date                                                                 \n",
       "2020-03-01                      NaN                            NaN   \n",
       "2020-03-02                      NaN                            NaN   \n",
       "2020-03-03                      NaN                            NaN   \n",
       "2020-03-04                      NaN                            NaN   \n",
       "2020-03-05                      NaN                            NaN   \n",
       "...                             ...                            ...   \n",
       "2021-03-09                  81475.0                        40249.0   \n",
       "2021-03-10                 130264.0                        52850.0   \n",
       "2021-03-11                 111178.0                        54745.0   \n",
       "2021-03-12                 117195.0                        54201.0   \n",
       "2021-03-13                 216145.0                        94651.0   \n",
       "\n",
       "           daily_vaccinations  mobility_composite  \n",
       "date                                               \n",
       "2020-03-01                NaN            0.375900  \n",
       "2020-03-02                NaN            0.506888  \n",
       "2020-03-03                NaN            0.544271  \n",
       "2020-03-04                NaN            0.439053  \n",
       "2020-03-05                NaN            0.128823  \n",
       "...                       ...                 ...  \n",
       "2021-03-09            147,075          -29.493292  \n",
       "2021-03-10            154,877          -29.493292  \n",
       "2021-03-11            158,585          -29.493292  \n",
       "2021-03-12            162,157          -29.493292  \n",
       "2021-03-13            178,982          -29.493292  \n",
       "\n",
       "[378 rows x 9 columns]"
      ]
     },
     "execution_count": 10,
     "metadata": {},
     "output_type": "execute_result"
    }
   ],
   "source": [
    "df_clean = df[df.state == STATE]\n",
    "df_clean = df_clean.set_index('date')\n",
    "df_clean"
   ]
  },
  {
   "cell_type": "code",
   "execution_count": 11,
   "id": "a8eccf57-7c24-4496-b2fa-2af17ebf8f28",
   "metadata": {
    "colab": {
     "base_uri": "https://localhost:8080/"
    },
    "executionInfo": {
     "elapsed": 46101,
     "status": "ok",
     "timestamp": 1619509200363,
     "user": {
      "displayName": "Sitiporn Saelim",
      "photoUrl": "",
      "userId": "04392232392828254116"
     },
     "user_tz": -420
    },
    "id": "a8eccf57-7c24-4496-b2fa-2af17ebf8f28",
    "outputId": "7fa3dcff-6ae6-423b-eab1-542e1e601795"
   },
   "outputs": [
    {
     "data": {
      "text/plain": [
       "(378, 1)"
      ]
     },
     "execution_count": 11,
     "metadata": {},
     "output_type": "execute_result"
    }
   ],
   "source": [
    "rmlabels=['state', 'fips', 'daily_deaths', 'daily_distributed','daily_people_vaccinated', 'daily_people_fully_vaccinated',\n",
    "          'daily_vaccinations', 'mobility_composite']\n",
    "df_clean = df_clean.drop(labels=rmlabels, axis=1)\n",
    "df_clean = df_clean.iloc[df_clean.shape[0]-378:]\n",
    "df_clean.shape"
   ]
  },
  {
   "cell_type": "code",
   "execution_count": 12,
   "id": "c201a119-d9fa-4518-abef-46b721091fb8",
   "metadata": {
    "colab": {
     "base_uri": "https://localhost:8080/",
     "height": 324
    },
    "executionInfo": {
     "elapsed": 46924,
     "status": "ok",
     "timestamp": 1619509201196,
     "user": {
      "displayName": "Sitiporn Saelim",
      "photoUrl": "",
      "userId": "04392232392828254116"
     },
     "user_tz": -420
    },
    "id": "c201a119-d9fa-4518-abef-46b721091fb8",
    "outputId": "9e0a18be-bc92-49d7-8de0-384963febafe"
   },
   "outputs": [
    {
     "data": {
      "text/plain": [
       "<matplotlib.axes._subplots.AxesSubplot at 0x7fb2096e0ef0>"
      ]
     },
     "execution_count": 12,
     "metadata": {},
     "output_type": "execute_result"
    },
    {
     "data": {
      "image/png": "[encoded data removed]",
      "text/plain": [
       "<matplotlib.figure.Figure at 0x7fb2096e0518>"
      ]
     },
     "metadata": {
      "needs_background": "light"
     },
     "output_type": "display_data"
    }
   ],
   "source": [
    "df_clean.plot(title=f\"Daily cases :{STATE}\")"
   ]
  },
  {
   "cell_type": "code",
   "execution_count": 13,
   "id": "23c4f150-3637-4570-adb3-6b5f40617af6",
   "metadata": {
    "colab": {
     "base_uri": "https://localhost:8080/",
     "height": 206
    },
    "executionInfo": {
     "elapsed": 46917,
     "status": "ok",
     "timestamp": 1619509201196,
     "user": {
      "displayName": "Sitiporn Saelim",
      "photoUrl": "",
      "userId": "04392232392828254116"
     },
     "user_tz": -420
    },
    "id": "23c4f150-3637-4570-adb3-6b5f40617af6",
    "outputId": "8358c33b-8cd9-4df1-f937-d9ad57e69578"
   },
   "outputs": [
    {
     "data": {
      "text/html": [
       "<div>\n",
       "<style scoped>\n",
       "    .dataframe tbody tr th:only-of-type {\n",
       "        vertical-align: middle;\n",
       "    }\n",
       "\n",
       "    .dataframe tbody tr th {\n",
       "        vertical-align: top;\n",
       "    }\n",
       "\n",
       "    .dataframe thead th {\n",
       "        text-align: right;\n",
       "    }\n",
       "</style>\n",
       "<table border=\"1\" class=\"dataframe\">\n",
       "  <thead>\n",
       "    <tr style=\"text-align: right;\">\n",
       "      <th></th>\n",
       "      <th>date</th>\n",
       "      <th>state</th>\n",
       "      <th>fips</th>\n",
       "      <th>daily_cases</th>\n",
       "      <th>daily_deaths</th>\n",
       "      <th>daily_distributed</th>\n",
       "      <th>daily_people_vaccinated</th>\n",
       "      <th>daily_people_fully_vaccinated</th>\n",
       "      <th>daily_vaccinations</th>\n",
       "      <th>mobility_composite</th>\n",
       "    </tr>\n",
       "  </thead>\n",
       "  <tbody>\n",
       "    <tr>\n",
       "      <th>19484</th>\n",
       "      <td>2020-01-21</td>\n",
       "      <td>Washington</td>\n",
       "      <td>53</td>\n",
       "      <td>1</td>\n",
       "      <td>0</td>\n",
       "      <td>NaN</td>\n",
       "      <td>NaN</td>\n",
       "      <td>NaN</td>\n",
       "      <td>NaN</td>\n",
       "      <td>NaN</td>\n",
       "    </tr>\n",
       "    <tr>\n",
       "      <th>19483</th>\n",
       "      <td>2020-01-22</td>\n",
       "      <td>Washington</td>\n",
       "      <td>53</td>\n",
       "      <td>0</td>\n",
       "      <td>0</td>\n",
       "      <td>NaN</td>\n",
       "      <td>NaN</td>\n",
       "      <td>NaN</td>\n",
       "      <td>NaN</td>\n",
       "      <td>NaN</td>\n",
       "    </tr>\n",
       "    <tr>\n",
       "      <th>19482</th>\n",
       "      <td>2020-01-23</td>\n",
       "      <td>Washington</td>\n",
       "      <td>53</td>\n",
       "      <td>0</td>\n",
       "      <td>0</td>\n",
       "      <td>NaN</td>\n",
       "      <td>NaN</td>\n",
       "      <td>NaN</td>\n",
       "      <td>NaN</td>\n",
       "      <td>NaN</td>\n",
       "    </tr>\n",
       "    <tr>\n",
       "      <th>5684</th>\n",
       "      <td>2020-01-24</td>\n",
       "      <td>Illinois</td>\n",
       "      <td>17</td>\n",
       "      <td>1</td>\n",
       "      <td>0</td>\n",
       "      <td>NaN</td>\n",
       "      <td>NaN</td>\n",
       "      <td>NaN</td>\n",
       "      <td>NaN</td>\n",
       "      <td>NaN</td>\n",
       "    </tr>\n",
       "    <tr>\n",
       "      <th>19481</th>\n",
       "      <td>2020-01-24</td>\n",
       "      <td>Washington</td>\n",
       "      <td>53</td>\n",
       "      <td>0</td>\n",
       "      <td>0</td>\n",
       "      <td>NaN</td>\n",
       "      <td>NaN</td>\n",
       "      <td>NaN</td>\n",
       "      <td>NaN</td>\n",
       "      <td>NaN</td>\n",
       "    </tr>\n",
       "  </tbody>\n",
       "</table>\n",
       "</div>"
      ],
      "text/plain": [
       "            date       state  fips  daily_cases  daily_deaths  \\\n",
       "19484 2020-01-21  Washington    53            1             0   \n",
       "19483 2020-01-22  Washington    53            0             0   \n",
       "19482 2020-01-23  Washington    53            0             0   \n",
       "5684  2020-01-24    Illinois    17            1             0   \n",
       "19481 2020-01-24  Washington    53            0             0   \n",
       "\n",
       "       daily_distributed  daily_people_vaccinated  \\\n",
       "19484                NaN                      NaN   \n",
       "19483                NaN                      NaN   \n",
       "19482                NaN                      NaN   \n",
       "5684                 NaN                      NaN   \n",
       "19481                NaN                      NaN   \n",
       "\n",
       "       daily_people_fully_vaccinated daily_vaccinations  mobility_composite  \n",
       "19484                            NaN                NaN                 NaN  \n",
       "19483                            NaN                NaN                 NaN  \n",
       "19482                            NaN                NaN                 NaN  \n",
       "5684                             NaN                NaN                 NaN  \n",
       "19481                            NaN                NaN                 NaN  "
      ]
     },
     "execution_count": 13,
     "metadata": {},
     "output_type": "execute_result"
    }
   ],
   "source": [
    "df.head()"
   ]
  },
  {
   "cell_type": "code",
   "execution_count": 14,
   "id": "e8f7a48d-81a7-4b17-aedb-5923ffcbe32f",
   "metadata": {
    "executionInfo": {
     "elapsed": 46916,
     "status": "ok",
     "timestamp": 1619509201197,
     "user": {
      "displayName": "Sitiporn Saelim",
      "photoUrl": "",
      "userId": "04392232392828254116"
     },
     "user_tz": -420
    },
    "id": "e8f7a48d-81a7-4b17-aedb-5923ffcbe32f"
   },
   "outputs": [],
   "source": [
    "df_state = df[df.state == STATE]"
   ]
  },
  {
   "cell_type": "code",
   "execution_count": 15,
   "id": "db9e99af-23dc-4e4e-a124-92d83a36d885",
   "metadata": {
    "colab": {
     "base_uri": "https://localhost:8080/",
     "height": 408
    },
    "executionInfo": {
     "elapsed": 47772,
     "status": "ok",
     "timestamp": 1619509202061,
     "user": {
      "displayName": "Sitiporn Saelim",
      "photoUrl": "",
      "userId": "04392232392828254116"
     },
     "user_tz": -420
    },
    "id": "db9e99af-23dc-4e4e-a124-92d83a36d885",
    "outputId": "0ba43519-6419-485a-f90b-ea123d762d7d"
   },
   "outputs": [
    {
     "data": {
      "image/png": "[encoded data removed]",
      "text/plain": [
       "<matplotlib.figure.Figure at 0x7fb208f50ef0>"
      ]
     },
     "metadata": {
      "needs_background": "light"
     },
     "output_type": "display_data"
    }
   ],
   "source": [
    "import pandas as pd\n",
    "import seaborn as sn\n",
    "import matplotlib.pyplot as plt\n",
    "\n",
    "corrMatrix = df_state.corr()\n",
    "sn.heatmap(corrMatrix, annot=True)\n",
    "plt.show()"
   ]
  },
  {
   "cell_type": "markdown",
   "id": "6662892c-7d17-4a48-a17c-83731bd9759e",
   "metadata": {
    "id": "6662892c-7d17-4a48-a17c-83731bd9759e"
   },
   "source": [
    "### select the high correlation to be our factors"
   ]
  },
  {
   "cell_type": "markdown",
   "id": "a276e2d6-9e04-4b58-955b-a4631b50d829",
   "metadata": {
    "id": "a276e2d6-9e04-4b58-955b-a4631b50d829"
   },
   "source": [
    "- daily death\n",
    "- daily people vacinated \n",
    "- daily_distibuted  \n",
    "- daily case "
   ]
  },
  {
   "cell_type": "code",
   "execution_count": 16,
   "id": "d6229abd-17d0-4e2b-b303-f4e2044f5079",
   "metadata": {
    "colab": {
     "base_uri": "https://localhost:8080/"
    },
    "executionInfo": {
     "elapsed": 47768,
     "status": "ok",
     "timestamp": 1619509202062,
     "user": {
      "displayName": "Sitiporn Saelim",
      "photoUrl": "",
      "userId": "04392232392828254116"
     },
     "user_tz": -420
    },
    "id": "d6229abd-17d0-4e2b-b303-f4e2044f5079",
    "outputId": "7c9c1a5f-eb10-40df-ba25-ae5f3f2cfc59"
   },
   "outputs": [
    {
     "data": {
      "text/plain": [
       "Index(['date', 'state', 'fips', 'daily_cases', 'daily_deaths',\n",
       "       'daily_distributed', 'daily_people_vaccinated',\n",
       "       'daily_people_fully_vaccinated', 'daily_vaccinations',\n",
       "       'mobility_composite'],\n",
       "      dtype='object')"
      ]
     },
     "execution_count": 16,
     "metadata": {},
     "output_type": "execute_result"
    }
   ],
   "source": [
    "df_state.columns"
   ]
  },
  {
   "cell_type": "code",
   "execution_count": 17,
   "id": "39b13fd3-a58b-476e-9bdd-65c1f96f8311",
   "metadata": {
    "executionInfo": {
     "elapsed": 47765,
     "status": "ok",
     "timestamp": 1619509202062,
     "user": {
      "displayName": "Sitiporn Saelim",
      "photoUrl": "",
      "userId": "04392232392828254116"
     },
     "user_tz": -420
    },
    "id": "39b13fd3-a58b-476e-9bdd-65c1f96f8311"
   },
   "outputs": [],
   "source": [
    "df_state = df_state.set_index('date') "
   ]
  },
  {
   "cell_type": "code",
   "execution_count": 18,
   "id": "598184b0-4082-404b-9b4d-3729f6297e39",
   "metadata": {
    "colab": {
     "base_uri": "https://localhost:8080/",
     "height": 0
    },
    "executionInfo": {
     "elapsed": 47758,
     "status": "ok",
     "timestamp": 1619509202063,
     "user": {
      "displayName": "Sitiporn Saelim",
      "photoUrl": "",
      "userId": "04392232392828254116"
     },
     "user_tz": -420
    },
    "id": "598184b0-4082-404b-9b4d-3729f6297e39",
    "outputId": "7255bf5b-fbb9-416f-bea6-b833636a8c77"
   },
   "outputs": [
    {
     "data": {
      "text/html": [
       "<div>\n",
       "<style scoped>\n",
       "    .dataframe tbody tr th:only-of-type {\n",
       "        vertical-align: middle;\n",
       "    }\n",
       "\n",
       "    .dataframe tbody tr th {\n",
       "        vertical-align: top;\n",
       "    }\n",
       "\n",
       "    .dataframe thead th {\n",
       "        text-align: right;\n",
       "    }\n",
       "</style>\n",
       "<table border=\"1\" class=\"dataframe\">\n",
       "  <thead>\n",
       "    <tr style=\"text-align: right;\">\n",
       "      <th></th>\n",
       "      <th>state</th>\n",
       "      <th>fips</th>\n",
       "      <th>daily_cases</th>\n",
       "      <th>daily_deaths</th>\n",
       "      <th>daily_distributed</th>\n",
       "      <th>daily_people_vaccinated</th>\n",
       "      <th>daily_people_fully_vaccinated</th>\n",
       "      <th>daily_vaccinations</th>\n",
       "      <th>mobility_composite</th>\n",
       "    </tr>\n",
       "    <tr>\n",
       "      <th>date</th>\n",
       "      <th></th>\n",
       "      <th></th>\n",
       "      <th></th>\n",
       "      <th></th>\n",
       "      <th></th>\n",
       "      <th></th>\n",
       "      <th></th>\n",
       "      <th></th>\n",
       "      <th></th>\n",
       "    </tr>\n",
       "  </thead>\n",
       "  <tbody>\n",
       "    <tr>\n",
       "      <th>2020-03-01</th>\n",
       "      <td>New York</td>\n",
       "      <td>36</td>\n",
       "      <td>1</td>\n",
       "      <td>0</td>\n",
       "      <td>NaN</td>\n",
       "      <td>NaN</td>\n",
       "      <td>NaN</td>\n",
       "      <td>NaN</td>\n",
       "      <td>0.375900</td>\n",
       "    </tr>\n",
       "    <tr>\n",
       "      <th>2020-03-02</th>\n",
       "      <td>New York</td>\n",
       "      <td>36</td>\n",
       "      <td>0</td>\n",
       "      <td>0</td>\n",
       "      <td>NaN</td>\n",
       "      <td>NaN</td>\n",
       "      <td>NaN</td>\n",
       "      <td>NaN</td>\n",
       "      <td>0.506888</td>\n",
       "    </tr>\n",
       "    <tr>\n",
       "      <th>2020-03-03</th>\n",
       "      <td>New York</td>\n",
       "      <td>36</td>\n",
       "      <td>1</td>\n",
       "      <td>0</td>\n",
       "      <td>NaN</td>\n",
       "      <td>NaN</td>\n",
       "      <td>NaN</td>\n",
       "      <td>NaN</td>\n",
       "      <td>0.544271</td>\n",
       "    </tr>\n",
       "    <tr>\n",
       "      <th>2020-03-04</th>\n",
       "      <td>New York</td>\n",
       "      <td>36</td>\n",
       "      <td>9</td>\n",
       "      <td>0</td>\n",
       "      <td>NaN</td>\n",
       "      <td>NaN</td>\n",
       "      <td>NaN</td>\n",
       "      <td>NaN</td>\n",
       "      <td>0.439053</td>\n",
       "    </tr>\n",
       "    <tr>\n",
       "      <th>2020-03-05</th>\n",
       "      <td>New York</td>\n",
       "      <td>36</td>\n",
       "      <td>11</td>\n",
       "      <td>0</td>\n",
       "      <td>NaN</td>\n",
       "      <td>NaN</td>\n",
       "      <td>NaN</td>\n",
       "      <td>NaN</td>\n",
       "      <td>0.128823</td>\n",
       "    </tr>\n",
       "  </tbody>\n",
       "</table>\n",
       "</div>"
      ],
      "text/plain": [
       "               state  fips  daily_cases  daily_deaths  daily_distributed  \\\n",
       "date                                                                       \n",
       "2020-03-01  New York    36            1             0                NaN   \n",
       "2020-03-02  New York    36            0             0                NaN   \n",
       "2020-03-03  New York    36            1             0                NaN   \n",
       "2020-03-04  New York    36            9             0                NaN   \n",
       "2020-03-05  New York    36           11             0                NaN   \n",
       "\n",
       "            daily_people_vaccinated  daily_people_fully_vaccinated  \\\n",
       "date                                                                 \n",
       "2020-03-01                      NaN                            NaN   \n",
       "2020-03-02                      NaN                            NaN   \n",
       "2020-03-03                      NaN                            NaN   \n",
       "2020-03-04                      NaN                            NaN   \n",
       "2020-03-05                      NaN                            NaN   \n",
       "\n",
       "           daily_vaccinations  mobility_composite  \n",
       "date                                               \n",
       "2020-03-01                NaN            0.375900  \n",
       "2020-03-02                NaN            0.506888  \n",
       "2020-03-03                NaN            0.544271  \n",
       "2020-03-04                NaN            0.439053  \n",
       "2020-03-05                NaN            0.128823  "
      ]
     },
     "execution_count": 18,
     "metadata": {},
     "output_type": "execute_result"
    }
   ],
   "source": [
    "df_state.head()"
   ]
  },
  {
   "cell_type": "code",
   "execution_count": 19,
   "id": "2bd8ef7b-99ba-4c1f-8c67-df4bf7ead2b7",
   "metadata": {
    "executionInfo": {
     "elapsed": 47757,
     "status": "ok",
     "timestamp": 1619509202063,
     "user": {
      "displayName": "Sitiporn Saelim",
      "photoUrl": "",
      "userId": "04392232392828254116"
     },
     "user_tz": -420
    },
    "id": "2bd8ef7b-99ba-4c1f-8c67-df4bf7ead2b7"
   },
   "outputs": [],
   "source": [
    "df_state = df_state.drop(['state', 'fips',\n",
    "       'daily_people_vaccinated',\n",
    "       'daily_people_fully_vaccinated',\n",
    "       'mobility_composite'], axis=1)"
   ]
  },
  {
   "cell_type": "code",
   "execution_count": 20,
   "id": "8f2c8249-9da1-4cf9-b176-b70aa3610b4f",
   "metadata": {
    "colab": {
     "base_uri": "https://localhost:8080/"
    },
    "executionInfo": {
     "elapsed": 47752,
     "status": "ok",
     "timestamp": 1619509202064,
     "user": {
      "displayName": "Sitiporn Saelim",
      "photoUrl": "",
      "userId": "04392232392828254116"
     },
     "user_tz": -420
    },
    "id": "8f2c8249-9da1-4cf9-b176-b70aa3610b4f",
    "outputId": "e9d93a03-a9ba-4903-923e-2b06246f86fb"
   },
   "outputs": [
    {
     "name": "stdout",
     "output_type": "stream",
     "text": [
      "<class 'pandas.core.frame.DataFrame'>\n",
      "DatetimeIndex: 378 entries, 2020-03-01 to 2021-03-13\n",
      "Data columns (total 4 columns):\n",
      " #   Column              Non-Null Count  Dtype  \n",
      "---  ------              --------------  -----  \n",
      " 0   daily_cases         378 non-null    int64  \n",
      " 1   daily_deaths        378 non-null    int64  \n",
      " 2   daily_distributed   72 non-null     float64\n",
      " 3   daily_vaccinations  72 non-null     object \n",
      "dtypes: float64(1), int64(2), object(1)\n",
      "memory usage: 14.8+ KB\n"
     ]
    }
   ],
   "source": [
    "df_state.info()"
   ]
  },
  {
   "cell_type": "code",
   "execution_count": 21,
   "id": "d02afb67-eb2f-4da9-a7ab-75c97cc2cb93",
   "metadata": {
    "executionInfo": {
     "elapsed": 47751,
     "status": "ok",
     "timestamp": 1619509202066,
     "user": {
      "displayName": "Sitiporn Saelim",
      "photoUrl": "",
      "userId": "04392232392828254116"
     },
     "user_tz": -420
    },
    "id": "d02afb67-eb2f-4da9-a7ab-75c97cc2cb93"
   },
   "outputs": [],
   "source": [
    "df_state_clean = df_state.dropna()"
   ]
  },
  {
   "cell_type": "code",
   "execution_count": 22,
   "id": "066ceb35-f5b7-47d2-ac4a-d36f27214d34",
   "metadata": {
    "executionInfo": {
     "elapsed": 47749,
     "status": "ok",
     "timestamp": 1619509202066,
     "user": {
      "displayName": "Sitiporn Saelim",
      "photoUrl": "",
      "userId": "04392232392828254116"
     },
     "user_tz": -420
    },
    "id": "066ceb35-f5b7-47d2-ac4a-d36f27214d34"
   },
   "outputs": [],
   "source": [
    "df_state_clean = df_state_clean.replace(',','', regex=True)"
   ]
  },
  {
   "cell_type": "code",
   "execution_count": 23,
   "id": "3f9c5ecd-cbe0-45a4-9c6c-a9323ca98203",
   "metadata": {
    "colab": {
     "base_uri": "https://localhost:8080/"
    },
    "executionInfo": {
     "elapsed": 47745,
     "status": "ok",
     "timestamp": 1619509202067,
     "user": {
      "displayName": "Sitiporn Saelim",
      "photoUrl": "",
      "userId": "04392232392828254116"
     },
     "user_tz": -420
    },
    "id": "3f9c5ecd-cbe0-45a4-9c6c-a9323ca98203",
    "outputId": "645fa38f-de1c-4c93-a772-172fe2fa9511"
   },
   "outputs": [
    {
     "data": {
      "text/plain": [
       "(72, 4)"
      ]
     },
     "execution_count": 23,
     "metadata": {},
     "output_type": "execute_result"
    }
   ],
   "source": [
    "df_state_clean.shape"
   ]
  },
  {
   "cell_type": "code",
   "execution_count": 24,
   "id": "ae9bb82b-3168-4ac9-be30-f19c39c8ace6",
   "metadata": {
    "colab": {
     "base_uri": "https://localhost:8080/"
    },
    "executionInfo": {
     "elapsed": 47742,
     "status": "ok",
     "timestamp": 1619509202068,
     "user": {
      "displayName": "Sitiporn Saelim",
      "photoUrl": "",
      "userId": "04392232392828254116"
     },
     "user_tz": -420
    },
    "id": "ae9bb82b-3168-4ac9-be30-f19c39c8ace6",
    "outputId": "3c456f74-a3eb-4639-f54e-d955a4425280"
   },
   "outputs": [
    {
     "name": "stdout",
     "output_type": "stream",
     "text": [
      "<class 'pandas.core.frame.DataFrame'>\n",
      "DatetimeIndex: 72 entries, 2021-01-01 to 2021-03-13\n",
      "Data columns (total 4 columns):\n",
      " #   Column              Non-Null Count  Dtype  \n",
      "---  ------              --------------  -----  \n",
      " 0   daily_cases         72 non-null     int64  \n",
      " 1   daily_deaths        72 non-null     int64  \n",
      " 2   daily_distributed   72 non-null     float64\n",
      " 3   daily_vaccinations  72 non-null     object \n",
      "dtypes: float64(1), int64(2), object(1)\n",
      "memory usage: 2.8+ KB\n"
     ]
    }
   ],
   "source": [
    "df_state_clean.info()"
   ]
  },
  {
   "cell_type": "code",
   "execution_count": 25,
   "id": "c2a67ca0-bb2c-45ba-ad06-818b775b284f",
   "metadata": {
    "colab": {
     "base_uri": "https://localhost:8080/"
    },
    "executionInfo": {
     "elapsed": 47739,
     "status": "ok",
     "timestamp": 1619509202069,
     "user": {
      "displayName": "Sitiporn Saelim",
      "photoUrl": "",
      "userId": "04392232392828254116"
     },
     "user_tz": -420
    },
    "id": "c2a67ca0-bb2c-45ba-ad06-818b775b284f",
    "outputId": "4271289a-2c33-49c2-a104-452e25cc4c93"
   },
   "outputs": [
    {
     "data": {
      "text/plain": [
       "(72, 4)"
      ]
     },
     "execution_count": 25,
     "metadata": {},
     "output_type": "execute_result"
    }
   ],
   "source": [
    "df_state_clean.shape"
   ]
  },
  {
   "cell_type": "markdown",
   "id": "41e6cf0c-dc31-46f8-9fb7-58a5f722b13d",
   "metadata": {
    "id": "41e6cf0c-dc31-46f8-9fb7-58a5f722b13d"
   },
   "source": [
    "## DATA Shape\n",
    "- (batch_size,data point,channel)\n",
    "\n",
    "### For CNN shape\n",
    "- Shape:\n",
    "        Input:(batch_size,channel, data point)\n",
    "        "
   ]
  },
  {
   "cell_type": "code",
   "execution_count": 26,
   "id": "6c184b07-5c84-4dfc-83c8-3ee084b21dc0",
   "metadata": {
    "colab": {
     "base_uri": "https://localhost:8080/",
     "height": 324
    },
    "executionInfo": {
     "elapsed": 48420,
     "status": "ok",
     "timestamp": 1619509202757,
     "user": {
      "displayName": "Sitiporn Saelim",
      "photoUrl": "",
      "userId": "04392232392828254116"
     },
     "user_tz": -420
    },
    "id": "6c184b07-5c84-4dfc-83c8-3ee084b21dc0",
    "outputId": "35504cc1-7940-43e1-d655-94fe842d11d4"
   },
   "outputs": [
    {
     "data": {
      "text/plain": [
       "<matplotlib.axes._subplots.AxesSubplot at 0x7fb2095ab898>"
      ]
     },
     "execution_count": 26,
     "metadata": {},
     "output_type": "execute_result"
    },
    {
     "data": {
      "image/png": "[encoded data removed]",
      "text/plain": [
       "<matplotlib.figure.Figure at 0x7fb2094a8d30>"
      ]
     },
     "metadata": {
      "needs_background": "light"
     },
     "output_type": "display_data"
    }
   ],
   "source": [
    "df_clean.plot(title=f\"Daily cases :{STATE}\")"
   ]
  },
  {
   "cell_type": "code",
   "execution_count": 27,
   "id": "ebbadcba-a484-49b3-93cd-4ecab2707ab3",
   "metadata": {
    "colab": {
     "base_uri": "https://localhost:8080/"
    },
    "executionInfo": {
     "elapsed": 48417,
     "status": "ok",
     "timestamp": 1619509202758,
     "user": {
      "displayName": "Sitiporn Saelim",
      "photoUrl": "",
      "userId": "04392232392828254116"
     },
     "user_tz": -420
    },
    "id": "ebbadcba-a484-49b3-93cd-4ecab2707ab3",
    "outputId": "751c2aaa-be95-4157-fa04-b312945935af"
   },
   "outputs": [
    {
     "data": {
      "text/plain": [
       "378"
      ]
     },
     "execution_count": 27,
     "metadata": {},
     "output_type": "execute_result"
    }
   ],
   "source": [
    "df_clean.shape[0]"
   ]
  },
  {
   "cell_type": "code",
   "execution_count": 28,
   "id": "3c12e985-d837-4f1d-994f-09c7549ee47a",
   "metadata": {
    "colab": {
     "base_uri": "https://localhost:8080/"
    },
    "executionInfo": {
     "elapsed": 48412,
     "status": "ok",
     "timestamp": 1619509202759,
     "user": {
      "displayName": "Sitiporn Saelim",
      "photoUrl": "",
      "userId": "04392232392828254116"
     },
     "user_tz": -420
    },
    "id": "3c12e985-d837-4f1d-994f-09c7549ee47a",
    "outputId": "fc0addb9-0af3-44f0-b2bb-820a75893e2f"
   },
   "outputs": [
    {
     "data": {
      "text/plain": [
       "((302, 1), (76, 1))"
      ]
     },
     "execution_count": 28,
     "metadata": {},
     "output_type": "execute_result"
    }
   ],
   "source": [
    "train_data = df_clean.iloc[:int(len(df_clean)*0.8)]\n",
    "test_data = df_clean.iloc[int(len(df_clean)*0.8):]\n",
    "\n",
    "# train_data = np.expand_dims(train_data, axis=1)\n",
    "# test_data = np.expand_dims(test_data, axis=1)\n",
    "\n",
    "train_data.shape, test_data.shape "
   ]
  },
  {
   "cell_type": "code",
   "execution_count": 29,
   "id": "9f83ef7b-d478-42f6-ae8e-f5c3a3a8239f",
   "metadata": {
    "executionInfo": {
     "elapsed": 48410,
     "status": "ok",
     "timestamp": 1619509202760,
     "user": {
      "displayName": "Sitiporn Saelim",
      "photoUrl": "",
      "userId": "04392232392828254116"
     },
     "user_tz": -420
    },
    "id": "9f83ef7b-d478-42f6-ae8e-f5c3a3a8239f"
   },
   "outputs": [],
   "source": [
    "# scaler = MinMaxScaler()\n",
    "scaler = StandardScaler()\n",
    "\n",
    "scaler = scaler.fit(train_data)\n",
    "\n",
    "train_data = scaler.transform(train_data)\n",
    "\n",
    "test_data = scaler.transform(test_data)"
   ]
  },
  {
   "cell_type": "code",
   "execution_count": 30,
   "id": "15532477-1a0e-44c2-a270-128a09cefaab",
   "metadata": {
    "executionInfo": {
     "elapsed": 48407,
     "status": "ok",
     "timestamp": 1619509202761,
     "user": {
      "displayName": "Sitiporn Saelim",
      "photoUrl": "",
      "userId": "04392232392828254116"
     },
     "user_tz": -420
    },
    "id": "15532477-1a0e-44c2-a270-128a09cefaab"
   },
   "outputs": [],
   "source": [
    "train_data = np.asarray(train_data)\n",
    "test_data = np.asarray(test_data)"
   ]
  },
  {
   "cell_type": "code",
   "execution_count": 31,
   "id": "e957bba3-ef61-40d2-bb90-0db349eb26e0",
   "metadata": {
    "executionInfo": {
     "elapsed": 48406,
     "status": "ok",
     "timestamp": 1619509202762,
     "user": {
      "displayName": "Sitiporn Saelim",
      "photoUrl": "",
      "userId": "04392232392828254116"
     },
     "user_tz": -420
    },
    "id": "e957bba3-ef61-40d2-bb90-0db349eb26e0"
   },
   "outputs": [],
   "source": [
    "def create_sequences(data, seq_length):\n",
    "    xs = []\n",
    "    ys = []\n",
    "    \n",
    "    for i in range(len(data)-seq_length-1):\n",
    "        x = data[i:(i+seq_length)]\n",
    "        #print(i)\n",
    "        y = data[i+seq_length]\n",
    "        xs.append(x)\n",
    "        ys.append(y)\n",
    "\n",
    "    return np.array(xs), np.array(ys)"
   ]
  },
  {
   "cell_type": "code",
   "execution_count": 32,
   "id": "580acfdd-8af4-470d-8b41-b4a737e38cbc",
   "metadata": {
    "executionInfo": {
     "elapsed": 48403,
     "status": "ok",
     "timestamp": 1619509202763,
     "user": {
      "displayName": "Sitiporn Saelim",
      "photoUrl": "",
      "userId": "04392232392828254116"
     },
     "user_tz": -420
    },
    "id": "580acfdd-8af4-470d-8b41-b4a737e38cbc"
   },
   "outputs": [],
   "source": [
    "X_train, y_train = create_sequences(train_data, seq_length)\n",
    "X_test, y_test = create_sequences(test_data, seq_length)\n",
    "\n",
    "X_train = torch.from_numpy(X_train).float()\n",
    "y_train = torch.from_numpy(y_train).float()\n",
    "\n",
    "X_test = torch.from_numpy(X_test).float()\n",
    "y_test = torch.from_numpy(y_test).float()"
   ]
  },
  {
   "cell_type": "code",
   "execution_count": 33,
   "id": "6a9dcc9e-4638-48f6-859b-09d860477355",
   "metadata": {
    "colab": {
     "base_uri": "https://localhost:8080/"
    },
    "executionInfo": {
     "elapsed": 48398,
     "status": "ok",
     "timestamp": 1619509202763,
     "user": {
      "displayName": "Sitiporn Saelim",
      "photoUrl": "",
      "userId": "04392232392828254116"
     },
     "user_tz": -420
    },
    "id": "6a9dcc9e-4638-48f6-859b-09d860477355",
    "outputId": "e15edeca-c419-419b-e74b-c8b56818caf0"
   },
   "outputs": [
    {
     "data": {
      "text/plain": [
       "(torch.Size([280, 21, 1]),\n",
       " torch.Size([280, 1]),\n",
       " torch.Size([54, 21, 1]),\n",
       " torch.Size([54, 1]))"
      ]
     },
     "execution_count": 33,
     "metadata": {},
     "output_type": "execute_result"
    }
   ],
   "source": [
    "X_train.shape , y_train.shape , X_test.shape, y_test.shape"
   ]
  },
  {
   "cell_type": "code",
   "execution_count": 34,
   "id": "cdc119a6-14a0-4285-ab6e-3bdf3b9b3f9a",
   "metadata": {
    "executionInfo": {
     "elapsed": 48397,
     "status": "ok",
     "timestamp": 1619509202765,
     "user": {
      "displayName": "Sitiporn Saelim",
      "photoUrl": "",
      "userId": "04392232392828254116"
     },
     "user_tz": -420
    },
    "id": "cdc119a6-14a0-4285-ab6e-3bdf3b9b3f9a"
   },
   "outputs": [],
   "source": [
    "X_train = torch.reshape(X_train,(X_train.shape[0],1,-1))\n",
    "X_test =  torch.reshape(X_test,(X_test.shape[0],1,-1))"
   ]
  },
  {
   "cell_type": "code",
   "execution_count": 35,
   "id": "966746ba-33e5-4424-8346-37dd3c7bea01",
   "metadata": {
    "colab": {
     "base_uri": "https://localhost:8080/"
    },
    "executionInfo": {
     "elapsed": 48392,
     "status": "ok",
     "timestamp": 1619509202765,
     "user": {
      "displayName": "Sitiporn Saelim",
      "photoUrl": "",
      "userId": "04392232392828254116"
     },
     "user_tz": -420
    },
    "id": "966746ba-33e5-4424-8346-37dd3c7bea01",
    "outputId": "1353a78d-c36d-4c8c-d328-4b0076a65325"
   },
   "outputs": [
    {
     "data": {
      "text/plain": [
       "(torch.Size([280, 1, 21]),\n",
       " torch.Size([280, 1]),\n",
       " torch.Size([54, 1, 21]),\n",
       " torch.Size([54, 1]))"
      ]
     },
     "execution_count": 35,
     "metadata": {},
     "output_type": "execute_result"
    }
   ],
   "source": [
    "X_train.shape , y_train.shape , X_test.shape, y_test.shape"
   ]
  },
  {
   "cell_type": "code",
   "execution_count": 36,
   "id": "a9PLF5Yy9ZRy",
   "metadata": {
    "colab": {
     "base_uri": "https://localhost:8080/",
     "height": 282
    },
    "executionInfo": {
     "elapsed": 48899,
     "status": "ok",
     "timestamp": 1619509203278,
     "user": {
      "displayName": "Sitiporn Saelim",
      "photoUrl": "",
      "userId": "04392232392828254116"
     },
     "user_tz": -420
    },
    "id": "a9PLF5Yy9ZRy",
    "outputId": "77b630a4-3c19-4725-d804-2470be27149a"
   },
   "outputs": [
    {
     "data": {
      "text/plain": [
       "[<matplotlib.lines.Line2D at 0x7fb208a95e48>]"
      ]
     },
     "execution_count": 36,
     "metadata": {},
     "output_type": "execute_result"
    },
    {
     "data": {
      "image/png": "[encoded data removed]",
      "text/plain": [
       "<matplotlib.figure.Figure at 0x7fb208babc18>"
      ]
     },
     "metadata": {
      "needs_background": "light"
     },
     "output_type": "display_data"
    }
   ],
   "source": [
    "plt.plot(range(len(X_train.flatten())), X_train.flatten())"
   ]
  },
  {
   "cell_type": "code",
   "execution_count": 37,
   "id": "365d5788-cc34-4817-a2e7-bd0811710ee6",
   "metadata": {
    "executionInfo": {
     "elapsed": 48897,
     "status": "ok",
     "timestamp": 1619509203278,
     "user": {
      "displayName": "Sitiporn Saelim",
      "photoUrl": "",
      "userId": "04392232392828254116"
     },
     "user_tz": -420
    },
    "id": "365d5788-cc34-4817-a2e7-bd0811710ee6"
   },
   "outputs": [],
   "source": [
    "from torch.utils.data import TensorDataset\n",
    "\n",
    "# Define dataset\n",
    "ds_train = TensorDataset(X_train, y_train)\n",
    "ds_test = TensorDataset(X_test, y_test)"
   ]
  },
  {
   "cell_type": "code",
   "execution_count": 38,
   "id": "30d22c12-cb30-4a04-9280-85fa7018d82a",
   "metadata": {
    "executionInfo": {
     "elapsed": 48896,
     "status": "ok",
     "timestamp": 1619509203279,
     "user": {
      "displayName": "Sitiporn Saelim",
      "photoUrl": "",
      "userId": "04392232392828254116"
     },
     "user_tz": -420
    },
    "id": "30d22c12-cb30-4a04-9280-85fa7018d82a"
   },
   "outputs": [],
   "source": [
    "BATCH_SIZE = 7  #keeping it binary so it fits GPU\n",
    "# #Train set loader\n",
    "train_iterator = torch.utils.data.DataLoader(dataset=ds_train, \n",
    "                                           batch_size=BATCH_SIZE, \n",
    "                                            shuffle=True)\n",
    "#Test set loader\n",
    "test_iterator = torch.utils.data.DataLoader(dataset=ds_test, \n",
    "                                          batch_size=BATCH_SIZE, \n",
    "                                          shuffle=True)"
   ]
  },
  {
   "cell_type": "markdown",
   "id": "nwqMkVWkNcpl",
   "metadata": {
    "id": "nwqMkVWkNcpl"
   },
   "source": [
    "# Training Section"
   ]
  },
  {
   "cell_type": "markdown",
   "id": "17a936f1-f68a-411a-b61c-c4067a1207bd",
   "metadata": {
    "id": "17a936f1-f68a-411a-b61c-c4067a1207bd"
   },
   "source": [
    "## Define Model"
   ]
  },
  {
   "cell_type": "code",
   "execution_count": 39,
   "id": "ff4391ed-a40f-4fcd-9e6a-ead688102775",
   "metadata": {
    "executionInfo": {
     "elapsed": 48895,
     "status": "ok",
     "timestamp": 1619509203280,
     "user": {
      "displayName": "Sitiporn Saelim",
      "photoUrl": "",
      "userId": "04392232392828254116"
     },
     "user_tz": -420
    },
    "id": "ff4391ed-a40f-4fcd-9e6a-ead688102775"
   },
   "outputs": [],
   "source": [
    "class ResidualBlock(nn.Module):\n",
    "    def __init__(self,kernel_size=3,dilation=1,in_dim=16,hidden_dim=64,out_dim=128):\n",
    "        super(ResidualBlock, self).__init__()\n",
    "        self.pad = (kernel_size - 1) * dilation\n",
    "        \n",
    "        #self.casual1 = nn.Conv1d(in_channels=16,out_channels=32,kernel_size=kernel_size,stride=1,padding=self.pad,dilation=dilation)\n",
    "        #self.casual2 = nn.Conv1d(in_channels=32,out_channels=64,kernel_size=kernel_size,stride=1,padding=self.pad,dilation=dilation)\n",
    "        \n",
    "        self.layer_1 = nn.Sequential(nn.utils.weight_norm(nn.Conv1d(in_channels=in_dim,out_channels=hidden_dim,\n",
    "                                     kernel_size=kernel_size,stride=1,padding=self.pad,dilation=dilation)),\n",
    "                                     nn.LeakyReLU(0.1),nn.Dropout(p=0.2))\n",
    "         \n",
    "        self.layer_2 = nn.Sequential(nn.utils.weight_norm(nn.Conv1d(in_channels=hidden_dim,out_channels=out_dim,\n",
    "                                    kernel_size=kernel_size,stride=1,padding=self.pad,dilation=dilation)),\n",
    "                                    nn.LeakyReLU(0.1),nn.Dropout(p=0.2))\n",
    "        \n",
    "        self.conv1_1 = nn.Conv1d(in_channels=in_dim,out_channels=out_dim,\n",
    "                                                        kernel_size=1,stride=1,padding=0,dilation=1)\n",
    "        \n",
    "    def forward(self,x):\n",
    "        \n",
    "        x_iden = x\n",
    "        x = self.layer_1(x)\n",
    "        x = x[:,:,:-self.pad]\n",
    "        #print(x.shape)\n",
    "        x = self.layer_2(x) \n",
    "        x = x[:,:,:-self.pad]\n",
    "        #print(x.shape)\n",
    "        x_iden = self.conv1_1(x_iden)\n",
    "        #print(x_iden.shape)\n",
    "        x = x + x_iden\n",
    "        \n",
    "        return x         "
   ]
  },
  {
   "cell_type": "code",
   "execution_count": 40,
   "id": "0c50375b-7e32-4447-985b-3cb7c4a9a88f",
   "metadata": {
    "executionInfo": {
     "elapsed": 48892,
     "status": "ok",
     "timestamp": 1619509203280,
     "user": {
      "displayName": "Sitiporn Saelim",
      "photoUrl": "",
      "userId": "04392232392828254116"
     },
     "user_tz": -420
    },
    "id": "0c50375b-7e32-4447-985b-3cb7c4a9a88f"
   },
   "outputs": [],
   "source": [
    "class TemporalConvNet(nn.Module):\n",
    "    def __init__(self,num_residual_layers,channel_config,num_classes):\n",
    "        super(TemporalConvNet, self).__init__()\n",
    "        self.num_residual_layers = num_residual_layers \n",
    "        self.residual_layers = []\n",
    "        #print(self.num_residual_layers)\n",
    "        \n",
    "        for i in range(self.num_residual_layers):\n",
    "            d = pow(2, i)\n",
    "            #print(d)\n",
    "            self.residual_layers.append(ResidualBlock(kernel_size=3,dilation=d,in_dim=channel_config[i][0],hidden_dim=channel_config[i][1],out_dim=channel_config[i][2]).to(device))        \n",
    "      \n",
    "        self.fc = nn.Sequential(nn.Linear(21 , 14),nn.ReLU(),nn.Dropout(0.5),\n",
    "                                nn.Linear(14,7),nn.ReLU(),\n",
    "                                nn.Dropout(0.5),nn.Linear(7,4))\n",
    "        \n",
    "        \n",
    "        self.out = nn.Linear(4, 1)\n",
    "        #self.softmax = nn.LogSoftmax(dim=1)\n",
    "        \n",
    "\n",
    "        #self.fc = nn.Sequential(nn.Linear(75 ,100),nn.ReLU(),nn.Linear(100,10))\n",
    "        \n",
    "    def forward(self,x):\n",
    "        for layer in self.residual_layers:\n",
    "            x = layer(x)\n",
    "        #print(\"layer :\",x.shape)\n",
    "        x = torch.flatten(x,start_dim=1)\n",
    "        #print(\"flatten:\",x.shape)        \n",
    "        x = self.fc(x).to(device)\n",
    "        \n",
    "        x = self.out(x).to(device)\n",
    "        #print(x.shape)\n",
    "    \n",
    "        return x"
   ]
  },
  {
   "cell_type": "code",
   "execution_count": 41,
   "id": "4828ea44-9f63-4640-a5d9-36de8a59dadb",
   "metadata": {
    "colab": {
     "base_uri": "https://localhost:8080/"
    },
    "executionInfo": {
     "elapsed": 48888,
     "status": "ok",
     "timestamp": 1619509203281,
     "user": {
      "displayName": "Sitiporn Saelim",
      "photoUrl": "",
      "userId": "04392232392828254116"
     },
     "user_tz": -420
    },
    "id": "4828ea44-9f63-4640-a5d9-36de8a59dadb",
    "outputId": "410043ae-c241-4ba6-b3e2-746f4add817b"
   },
   "outputs": [
    {
     "name": "stdout",
     "output_type": "stream",
     "text": [
      "Configured device:  cuda\n"
     ]
    }
   ],
   "source": [
    "print(\"Configured device: \", device)"
   ]
  },
  {
   "cell_type": "markdown",
   "id": "4b5b241f-00f7-4bf2-9c21-8852104cfc83",
   "metadata": {
    "id": "4b5b241f-00f7-4bf2-9c21-8852104cfc83"
   },
   "source": [
    "## Create model"
   ]
  },
  {
   "cell_type": "code",
   "execution_count": 42,
   "id": "49e276f0-ef26-49fe-982e-9846df90261c",
   "metadata": {
    "executionInfo": {
     "elapsed": 57248,
     "status": "ok",
     "timestamp": 1619509211643,
     "user": {
      "displayName": "Sitiporn Saelim",
      "photoUrl": "",
      "userId": "04392232392828254116"
     },
     "user_tz": -420
    },
    "id": "49e276f0-ef26-49fe-982e-9846df90261c"
   },
   "outputs": [],
   "source": [
    "model_Tcn = TemporalConvNet(num_residual_layers=3,channel_config=channel_config,num_classes=1)\n",
    "model_Tcn = model_Tcn.float()\n",
    "models = [model_Tcn]"
   ]
  },
  {
   "cell_type": "code",
   "execution_count": 43,
   "id": "e9b02cf6-e8f4-4885-844c-fbe367ee456c",
   "metadata": {
    "executionInfo": {
     "elapsed": 57249,
     "status": "ok",
     "timestamp": 1619509211646,
     "user": {
      "displayName": "Sitiporn Saelim",
      "photoUrl": "",
      "userId": "04392232392828254116"
     },
     "user_tz": -420
    },
    "id": "e9b02cf6-e8f4-4885-844c-fbe367ee456c"
   },
   "outputs": [],
   "source": [
    "for model in models:\n",
    "    model = model.to(device)"
   ]
  },
  {
   "cell_type": "markdown",
   "id": "cf3c0d2e-9240-4b30-8695-b8c86e02506c",
   "metadata": {
    "id": "cf3c0d2e-9240-4b30-8695-b8c86e02506c"
   },
   "source": [
    "### Create Optimizer"
   ]
  },
  {
   "cell_type": "code",
   "execution_count": 44,
   "id": "ed97a139-94a0-48b7-b415-ccf51a58b346",
   "metadata": {
    "executionInfo": {
     "elapsed": 57249,
     "status": "ok",
     "timestamp": 1619509211650,
     "user": {
      "displayName": "Sitiporn Saelim",
      "photoUrl": "",
      "userId": "04392232392828254116"
     },
     "user_tz": -420
    },
    "id": "ed97a139-94a0-48b7-b415-ccf51a58b346"
   },
   "outputs": [],
   "source": [
    "import torch.optim as optim\n",
    "#0.01\n",
    "learning_rate = 1e-4\n",
    "\n",
    "optimizer = optim.Adam(model.parameters())\n",
    "\n",
    "criterion = torch.nn.MSELoss().float() #nn.NLLLoss()\n",
    "optimizer = torch.optim.Adam(model.parameters(), lr=learning_rate)"
   ]
  },
  {
   "cell_type": "markdown",
   "id": "5fe76e97-cd26-4824-8bb1-1b7ca11631fd",
   "metadata": {
    "id": "5fe76e97-cd26-4824-8bb1-1b7ca11631fd"
   },
   "source": [
    "### Training Function"
   ]
  },
  {
   "cell_type": "code",
   "execution_count": 45,
   "id": "a2b7a551-3e07-4e10-9547-c0d499e5a9a6",
   "metadata": {
    "executionInfo": {
     "elapsed": 57248,
     "status": "ok",
     "timestamp": 1619509211652,
     "user": {
      "displayName": "Sitiporn Saelim",
      "photoUrl": "",
      "userId": "04392232392828254116"
     },
     "user_tz": -420
    },
    "id": "a2b7a551-3e07-4e10-9547-c0d499e5a9a6"
   },
   "outputs": [],
   "source": [
    "def train(model, iterator, optimizer, criterion):\n",
    "    total = 0\n",
    "    correct = 0\n",
    "    epoch_loss = 0\n",
    "    epoch_acc = 0\n",
    "   # loss_list = []\n",
    "    model.train()\n",
    "    \n",
    "    for batch, num_cases in iterator:\n",
    "        \n",
    "        #Move tensors to the configured device\n",
    "        batch = batch.to(device)\n",
    "        num_cases = num_cases.to(device) \n",
    "#         num_cases = num_cases[:,-1]\n",
    "#         num_cases =  torch.reshape(num_cases, (num_cases.shape[0], 1))\n",
    "        #Forward pass\n",
    "        #print(\"batch train:\",batch.shape)\n",
    "        outputs = model(batch.float())\n",
    "#         print(\"outputs:\",outputs.shape)\n",
    "#         print(\"num_cases :\",num_cases.shape)\n",
    "#         print(\"outputs :\",outputs)\n",
    "#         print(\"num_cases :\",num_cases)\n",
    "        loss = criterion(outputs, num_cases.float())\n",
    "        \n",
    "        # Backward and optimize\n",
    "        optimizer.zero_grad()\n",
    "        loss.backward()\n",
    "        optimizer.step()\n",
    "        #loss_list.append(loss.data)  \n",
    "         \n",
    "#         #check accuracy\n",
    "#         predictions = model(batch.float())\n",
    "#         _, predicted = torch.max(predictions.data, 1)  #returns max value, indices\n",
    "#          #keep track of total\n",
    "#         correct += (predicted == labels).sum().item()  #.item() give the raw number\n",
    "#         acc = 100 * (correct / total)\n",
    "                \n",
    "        epoch_loss += loss.item()\n",
    "#         epoch_acc = acc\n",
    "      \n",
    "    return epoch_loss / len(iterator)  #, epoch_acc, predicted"
   ]
  },
  {
   "cell_type": "code",
   "execution_count": 46,
   "id": "d816be15-ba87-40e5-8182-8983d08fb978",
   "metadata": {
    "executionInfo": {
     "elapsed": 57249,
     "status": "ok",
     "timestamp": 1619509211655,
     "user": {
      "displayName": "Sitiporn Saelim",
      "photoUrl": "",
      "userId": "04392232392828254116"
     },
     "user_tz": -420
    },
    "id": "d816be15-ba87-40e5-8182-8983d08fb978"
   },
   "outputs": [],
   "source": [
    "def test(model,iterator, optimizer, criterion):\n",
    "    total = 0\n",
    "    correct = 0\n",
    "    epoch_loss = 0\n",
    "    epoch_acc = 0\n",
    "   # loss_list = []\n",
    "    for batch, num_cases in iterator:\n",
    "        batch = batch.to(device)\n",
    "        num_cases = num_cases.to(device)\n",
    "        #print(\"batch test:\",batch.shape)\n",
    "        with torch.no_grad():\n",
    "            y_test_pred = model(batch.float())\n",
    "            loss = criterion(y_test_pred, num_cases.float())\n",
    "            epoch_loss += loss\n",
    "            \n",
    "    return epoch_loss / len(iterator)  "
   ]
  },
  {
   "cell_type": "code",
   "execution_count": 47,
   "id": "e4afaa15-4100-4c52-80fb-c7ca85fbe37c",
   "metadata": {
    "executionInfo": {
     "elapsed": 57248,
     "status": "ok",
     "timestamp": 1619509211656,
     "user": {
      "displayName": "Sitiporn Saelim",
      "photoUrl": "",
      "userId": "04392232392828254116"
     },
     "user_tz": -420
    },
    "id": "e4afaa15-4100-4c52-80fb-c7ca85fbe37c"
   },
   "outputs": [],
   "source": [
    "from IPython.display import clear_output"
   ]
  },
  {
   "cell_type": "code",
   "execution_count": 48,
   "id": "66e0a334-0206-4e81-ac46-7a8b1c92fcfb",
   "metadata": {
    "executionInfo": {
     "elapsed": 57247,
     "status": "ok",
     "timestamp": 1619509211657,
     "user": {
      "displayName": "Sitiporn Saelim",
      "photoUrl": "",
      "userId": "04392232392828254116"
     },
     "user_tz": -420
    },
    "id": "66e0a334-0206-4e81-ac46-7a8b1c92fcfb"
   },
   "outputs": [],
   "source": [
    "name = f\"Epoch ={N_EPOCHS} LR = {learning_rate} Adam\""
   ]
  },
  {
   "cell_type": "code",
   "execution_count": 49,
   "id": "9509ba65-c59a-4318-886e-f7e0e565770a",
   "metadata": {
    "colab": {
     "base_uri": "https://localhost:8080/",
     "height": 400
    },
    "executionInfo": {
     "elapsed": 57927,
     "status": "error",
     "timestamp": 1619509212344,
     "user": {
      "displayName": "Sitiporn Saelim",
      "photoUrl": "",
      "userId": "04392232392828254116"
     },
     "user_tz": -420
    },
    "id": "9509ba65-c59a-4318-886e-f7e0e565770a",
    "outputId": "0adfd7c6-19f2-45f9-ade8-d5071d8987cf"
   },
   "outputs": [
    {
     "name": "stdout",
     "output_type": "stream",
     "text": [
      "Training TemporalConvNet\n",
      "Epoch 0 train loss: 1.0886267747730016 test loss: 4.2991485595703125\n",
      "Epoch 1 train loss: 1.0837321486324072 test loss: 4.2444562911987305\n",
      "Epoch 2 train loss: 1.0713455578312279 test loss: 4.235335350036621\n",
      "Epoch 3 train loss: 1.072445859760046 test loss: 4.148825645446777\n",
      "Epoch 4 train loss: 1.0686066683381796 test loss: 4.146033763885498\n",
      "Epoch 5 train loss: 1.0589505817741156 test loss: 4.109438419342041\n",
      "Epoch 6 train loss: 1.0579712484031916 test loss: 4.12765645980835\n",
      "Epoch 7 train loss: 1.0514835007488728 test loss: 4.127793312072754\n",
      "Epoch 8 train loss: 1.0500804021954537 test loss: 4.159754753112793\n",
      "Epoch 9 train loss: 1.0494151685386897 test loss: 4.047283172607422\n",
      "Epoch 10 train loss: 1.0508748568594455 test loss: 3.9376208782196045\n",
      "Epoch 11 train loss: 1.0405573148280383 test loss: 3.946115016937256\n",
      "Epoch 12 train loss: 1.0352441050112247 test loss: 3.9746570587158203\n",
      "Epoch 13 train loss: 1.0394425474107265 test loss: 3.872342348098755\n",
      "Epoch 14 train loss: 1.0363289527595043 test loss: 3.9546844959259033\n",
      "Epoch 15 train loss: 1.02664958499372 test loss: 3.8242032527923584\n",
      "Epoch 16 train loss: 1.0233632568269968 test loss: 3.824721336364746\n",
      "Epoch 17 train loss: 1.0302870638668538 test loss: 3.8423662185668945\n",
      "Epoch 18 train loss: 1.019778997078538 test loss: 3.792729139328003\n",
      "Epoch 19 train loss: 1.0214670687913894 test loss: 3.815537214279175\n",
      "Epoch 20 train loss: 1.0264458797872067 test loss: 3.856344223022461\n",
      "Epoch 21 train loss: 1.0078587729483843 test loss: 3.773397207260132\n",
      "Epoch 22 train loss: 1.0087391842156648 test loss: 3.7699332237243652\n",
      "Epoch 23 train loss: 1.0060815136879682 test loss: 3.763819456100464\n",
      "Epoch 24 train loss: 1.0108945785090326 test loss: 3.6639926433563232\n",
      "Epoch 25 train loss: 1.0017301917076111 test loss: 3.7116312980651855\n",
      "Epoch 26 train loss: 1.0087591774761677 test loss: 3.7389414310455322\n",
      "Epoch 27 train loss: 1.0043865688145162 test loss: 3.5629472732543945\n",
      "Epoch 28 train loss: 0.9968599226325751 test loss: 3.615664482116699\n",
      "Epoch 29 train loss: 0.9816319063305855 test loss: 3.5786666870117188\n",
      "Epoch 30 train loss: 0.9853527743369341 test loss: 3.565974235534668\n",
      "Epoch 31 train loss: 0.9850237883627415 test loss: 3.504211664199829\n",
      "Epoch 32 train loss: 0.9907033078372478 test loss: 3.5990424156188965\n",
      "Epoch 33 train loss: 0.9754832815378904 test loss: 3.474055528640747\n",
      "Epoch 34 train loss: 0.9704416420310735 test loss: 3.5434813499450684\n",
      "Epoch 35 train loss: 0.9735576711595059 test loss: 3.3853275775909424\n",
      "Epoch 36 train loss: 0.9777981694787741 test loss: 3.392956256866455\n",
      "Epoch 37 train loss: 0.9669854316860438 test loss: 3.356997489929199\n",
      "Epoch 38 train loss: 0.9510958455502987 test loss: 3.3997347354888916\n",
      "Epoch 39 train loss: 0.9686111658811569 test loss: 3.356276750564575\n",
      "Epoch 40 train loss: 0.9509200140833854 test loss: 3.332118511199951\n",
      "Epoch 41 train loss: 0.9565252136439085 test loss: 3.382559299468994\n",
      "Epoch 42 train loss: 0.9595052748918533 test loss: 3.384530544281006\n",
      "Epoch 43 train loss: 0.9538908284157515 test loss: 3.2755227088928223\n",
      "Epoch 44 train loss: 0.9418301530182361 test loss: 3.2203760147094727\n",
      "Epoch 45 train loss: 0.9297974076122045 test loss: 3.1897897720336914\n",
      "Epoch 46 train loss: 0.9222534921020269 test loss: 3.187769889831543\n",
      "Epoch 47 train loss: 0.9213259898126125 test loss: 3.1121726036071777\n",
      "Epoch 48 train loss: 0.9268605187535286 test loss: 3.1560819149017334\n",
      "Epoch 49 train loss: 0.9242235995829106 test loss: 3.162019729614258\n",
      "Epoch 50 train loss: 0.8942954577505589 test loss: 3.168992280960083\n",
      "Epoch 51 train loss: 0.924821612983942 test loss: 2.862645387649536\n",
      "Epoch 52 train loss: 0.9047278448939323 test loss: 3.245234727859497\n",
      "Epoch 53 train loss: 0.8731105182319879 test loss: 2.9762704372406006\n",
      "Epoch 54 train loss: 0.8894046232104301 test loss: 3.054049491882324\n",
      "Epoch 55 train loss: 0.9078140608966351 test loss: 2.8689279556274414\n",
      "Epoch 56 train loss: 0.8784541923552751 test loss: 2.741464376449585\n",
      "Epoch 57 train loss: 0.863476637005806 test loss: 2.8002896308898926\n",
      "Epoch 58 train loss: 0.8918558556586504 test loss: 2.8902435302734375\n",
      "Epoch 59 train loss: 0.8729126911610365 test loss: 2.893514633178711\n",
      "Epoch 60 train loss: 0.8790718875825405 test loss: 2.79746150970459\n",
      "Epoch 61 train loss: 0.8424101263284683 test loss: 2.6635756492614746\n",
      "Epoch 62 train loss: 0.8105220172554255 test loss: 2.7408816814422607\n",
      "Epoch 63 train loss: 0.8572276275604963 test loss: 2.827826976776123\n",
      "Epoch 64 train loss: 0.8296344473958015 test loss: 2.719592571258545\n",
      "Epoch 65 train loss: 0.848234961181879 test loss: 2.553219795227051\n",
      "Epoch 66 train loss: 0.7812835898250341 test loss: 2.5015196800231934\n",
      "Epoch 67 train loss: 0.8504364252090454 test loss: 2.411433219909668\n",
      "Epoch 68 train loss: 0.8053626466542483 test loss: 2.644792079925537\n",
      "Epoch 69 train loss: 0.7980285316705704 test loss: 2.7071900367736816\n",
      "Epoch 70 train loss: 0.807040237262845 test loss: 2.436044216156006\n",
      "Epoch 71 train loss: 0.8010168988257647 test loss: 2.492692708969116\n",
      "Epoch 72 train loss: 0.7929467234760523 test loss: 2.2171645164489746\n",
      "Epoch 73 train loss: 0.7883907947689295 test loss: 2.4079413414001465\n",
      "Epoch 74 train loss: 0.7923063233494758 test loss: 2.5621018409729004\n",
      "Epoch 75 train loss: 0.8099282339215279 test loss: 2.238513946533203\n",
      "Epoch 76 train loss: 0.7227797484025359 test loss: 2.373405933380127\n",
      "Epoch 77 train loss: 0.7860553164035082 test loss: 2.1610662937164307\n",
      "Epoch 78 train loss: 0.7691792208701372 test loss: 2.238433837890625\n",
      "Epoch 79 train loss: 0.7271598175168037 test loss: 2.2796401977539062\n",
      "Epoch 80 train loss: 0.7551363594830036 test loss: 2.390411853790283\n",
      "Epoch 81 train loss: 0.7377411378547549 test loss: 1.9936656951904297\n",
      "Epoch 82 train loss: 0.7721632074564695 test loss: 2.187391757965088\n",
      "Epoch 83 train loss: 0.7063183486461639 test loss: 1.950840711593628\n",
      "Epoch 84 train loss: 0.7095644347369671 test loss: 1.7851111888885498\n",
      "Epoch 85 train loss: 0.690857856720686 test loss: 2.2711613178253174\n",
      "Epoch 86 train loss: 0.726123147085309 test loss: 2.1940879821777344\n",
      "Epoch 87 train loss: 0.7151781901717186 test loss: 1.9370508193969727\n",
      "Epoch 88 train loss: 0.7119718078523875 test loss: 2.181424379348755\n",
      "Epoch 89 train loss: 0.6519607560709119 test loss: 2.172089099884033\n",
      "Epoch 90 train loss: 0.7151154253631831 test loss: 1.9178003072738647\n",
      "Epoch 91 train loss: 0.6914073081687093 test loss: 1.9592169523239136\n",
      "Epoch 92 train loss: 0.7100457590073347 test loss: 1.8692326545715332\n",
      "Epoch 93 train loss: 0.6929479341953992 test loss: 1.853898525238037\n",
      "Epoch 94 train loss: 0.6391189578920603 test loss: 1.7831978797912598\n",
      "Epoch 95 train loss: 0.6624202022328973 test loss: 1.832208514213562\n",
      "Epoch 96 train loss: 0.6790864419192075 test loss: 1.8112313747406006\n",
      "Epoch 97 train loss: 0.6985234849154949 test loss: 1.9398568868637085\n",
      "Epoch 98 train loss: 0.6581741362810135 test loss: 1.9115489721298218\n",
      "Epoch 99 train loss: 0.6712300114333629 test loss: 1.894207239151001\n",
      "Epoch 100 train loss: 0.7031757175922394 test loss: 1.7834607362747192\n",
      "Epoch 101 train loss: 0.6631498720496893 test loss: 1.469250202178955\n",
      "Epoch 102 train loss: 0.687676801532507 test loss: 2.0340189933776855\n",
      "Epoch 103 train loss: 0.621641731634736 test loss: 1.8054693937301636\n",
      "Epoch 104 train loss: 0.6557951234281063 test loss: 1.6175340414047241\n",
      "Epoch 105 train loss: 0.6383890300989151 test loss: 1.455331802368164\n",
      "Epoch 106 train loss: 0.6325230177491903 test loss: 1.8161816596984863\n",
      "Epoch 107 train loss: 0.6408059384673834 test loss: 1.6365147829055786\n",
      "Epoch 108 train loss: 0.5985135873779655 test loss: 1.7051600217819214\n",
      "Epoch 109 train loss: 0.595415448024869 test loss: 1.5920062065124512\n",
      "Epoch 110 train loss: 0.6478408392518759 test loss: 1.6622689962387085\n",
      "Epoch 111 train loss: 0.6851336549967527 test loss: 1.8582171201705933\n",
      "Epoch 112 train loss: 0.5421997545287013 test loss: 1.5755558013916016\n",
      "Epoch 113 train loss: 0.5835819045081735 test loss: 1.3326383829116821\n",
      "Epoch 114 train loss: 0.5171842709183693 test loss: 1.5164227485656738\n",
      "Epoch 115 train loss: 0.5698004284873605 test loss: 1.8137925863265991\n",
      "Epoch 116 train loss: 0.6065770082175732 test loss: 1.7477937936782837\n",
      "Epoch 117 train loss: 0.5335971988737583 test loss: 1.5696327686309814\n",
      "Epoch 118 train loss: 0.5925914458930492 test loss: 1.5407803058624268\n",
      "Epoch 119 train loss: 0.5429232738912105 test loss: 1.810665488243103\n",
      "Epoch 120 train loss: 0.5794544838368892 test loss: 1.5777370929718018\n",
      "Epoch 121 train loss: 0.6467326268553734 test loss: 1.7327128648757935\n",
      "Epoch 122 train loss: 0.5256032954901457 test loss: 1.9094852209091187\n",
      "Epoch 123 train loss: 0.4946151187643409 test loss: 1.180999755859375\n",
      "Epoch 124 train loss: 0.6026358425617218 test loss: 1.8149702548980713\n",
      "Epoch 125 train loss: 0.5641573663800955 test loss: 1.2272491455078125\n",
      "Epoch 126 train loss: 0.5394347112625837 test loss: 1.4889073371887207\n",
      "Epoch 127 train loss: 0.5433841697871685 test loss: 1.7180688381195068\n",
      "Epoch 128 train loss: 0.5237452458590269 test loss: 1.4138537645339966\n",
      "Epoch 129 train loss: 0.5666641127318144 test loss: 1.379241943359375\n",
      "Epoch 130 train loss: 0.6315414683893323 test loss: 1.328194499015808\n",
      "Epoch 131 train loss: 0.5811924129724503 test loss: 1.4871615171432495\n",
      "Epoch 132 train loss: 0.5597528330981731 test loss: 1.5075750350952148\n",
      "Epoch 133 train loss: 0.5349504379555583 test loss: 1.4321849346160889\n",
      "Epoch 134 train loss: 0.5550583120435476 test loss: 1.7223248481750488\n",
      "Epoch 135 train loss: 0.5335078403353691 test loss: 1.3702925443649292\n",
      "Epoch 136 train loss: 0.5738255366683006 test loss: 1.2605596780776978\n",
      "Epoch 137 train loss: 0.5154504790902138 test loss: 1.6299387216567993\n",
      "Epoch 138 train loss: 0.5256105344742537 test loss: 1.4467136859893799\n",
      "Epoch 139 train loss: 0.557155959866941 test loss: 1.485539436340332\n",
      "Epoch 140 train loss: 0.5075579443946481 test loss: 1.6770555973052979\n",
      "Epoch 141 train loss: 0.46638411190360785 test loss: 1.818973422050476\n",
      "Epoch 142 train loss: 0.572988447919488 test loss: 1.2155976295471191\n",
      "Epoch 143 train loss: 0.5609174247831106 test loss: 1.4563324451446533\n",
      "Epoch 144 train loss: 0.5440332517027855 test loss: 1.476463794708252\n",
      "Epoch 145 train loss: 0.5932766713202 test loss: 1.32191801071167\n",
      "Epoch 146 train loss: 0.5089617650955915 test loss: 1.7042824029922485\n",
      "Epoch 147 train loss: 0.433876839466393 test loss: 1.4973713159561157\n",
      "Epoch 148 train loss: 0.4911359217017889 test loss: 1.4256395101547241\n",
      "Epoch 149 train loss: 0.46700495984405277 test loss: 1.3461710214614868\n",
      "Epoch 150 train loss: 0.4440055888146162 test loss: 1.2107545137405396\n",
      "Epoch 151 train loss: 0.5124556563794613 test loss: 1.6871097087860107\n",
      "Epoch 152 train loss: 0.5534454138949514 test loss: 1.2663098573684692\n",
      "Epoch 153 train loss: 0.5880684381350875 test loss: 1.4983434677124023\n",
      "Epoch 154 train loss: 0.5286198697984219 test loss: 1.1564052104949951\n",
      "Epoch 155 train loss: 0.5204860737547279 test loss: 1.5853855609893799\n",
      "Epoch 156 train loss: 0.5507335253059864 test loss: 1.2503910064697266\n",
      "Epoch 157 train loss: 0.49993445705622436 test loss: 1.5889267921447754\n",
      "Epoch 158 train loss: 0.6002047248184681 test loss: 1.3926799297332764\n",
      "Epoch 159 train loss: 0.5644937032833696 test loss: 1.7319120168685913\n",
      "Epoch 160 train loss: 0.48112834971398116 test loss: 1.8904012441635132\n",
      "Epoch 161 train loss: 0.4686442883685231 test loss: 1.514669418334961\n",
      "Epoch 162 train loss: 0.5346295479685068 test loss: 1.4554799795150757\n",
      "Epoch 163 train loss: 0.5590195842087269 test loss: 1.6984604597091675\n",
      "Epoch 164 train loss: 0.5106149501167238 test loss: 1.3366619348526\n",
      "Epoch 165 train loss: 0.5315276267006993 test loss: 1.6920586824417114\n",
      "Epoch 166 train loss: 0.49442179650068285 test loss: 1.6611123085021973\n",
      "Epoch 167 train loss: 0.5309676914475858 test loss: 1.5797325372695923\n",
      "Epoch 168 train loss: 0.458060266636312 test loss: 1.4326375722885132\n",
      "Epoch 169 train loss: 0.4576733729802072 test loss: 1.9094618558883667\n",
      "Epoch 170 train loss: 0.4448950474150479 test loss: 1.3349955081939697\n",
      "Epoch 171 train loss: 0.49481549821794035 test loss: 1.4841374158859253\n",
      "Epoch 172 train loss: 0.4971863254904747 test loss: 1.2934411764144897\n",
      "Epoch 173 train loss: 0.46064831130206585 test loss: 1.8602794408798218\n",
      "Epoch 174 train loss: 0.4745865425094962 test loss: 1.6003460884094238\n",
      "Epoch 175 train loss: 0.5426163084805011 test loss: 1.0250324010849\n",
      "Epoch 176 train loss: 0.4912935869768262 test loss: 1.7202239036560059\n",
      "Epoch 177 train loss: 0.5285452855750918 test loss: 1.7494840621948242\n",
      "Epoch 178 train loss: 0.5039797011762858 test loss: 1.2333112955093384\n",
      "Epoch 179 train loss: 0.4934996670112014 test loss: 1.2388688325881958\n",
      "Epoch 180 train loss: 0.5065153546631336 test loss: 1.6208465099334717\n",
      "Epoch 181 train loss: 0.5214711440727114 test loss: 1.7444261312484741\n",
      "Epoch 182 train loss: 0.524499393068254 test loss: 1.2505300045013428\n",
      "Epoch 183 train loss: 0.5062749576754868 test loss: 1.453911542892456\n",
      "Epoch 184 train loss: 0.47036066427826884 test loss: 1.2783010005950928\n",
      "Epoch 185 train loss: 0.5407146058976651 test loss: 1.373349905014038\n",
      "Epoch 186 train loss: 0.5048383567482233 test loss: 1.6041030883789062\n",
      "Epoch 187 train loss: 0.5029958292841912 test loss: 1.1291149854660034\n",
      "Epoch 188 train loss: 0.5495523819699883 test loss: 1.4704915285110474\n",
      "Epoch 189 train loss: 0.46504947636276484 test loss: 1.611782431602478\n",
      "Epoch 190 train loss: 0.5075505943503231 test loss: 1.483643651008606\n",
      "Epoch 191 train loss: 0.5431437132880091 test loss: 1.6029682159423828\n",
      "Epoch 192 train loss: 0.45834536422044037 test loss: 1.7527461051940918\n",
      "Epoch 193 train loss: 0.4469583824276924 test loss: 1.434788703918457\n",
      "Epoch 194 train loss: 0.4855891205370426 test loss: 1.5485870838165283\n",
      "Epoch 195 train loss: 0.4764884373173118 test loss: 1.8602873086929321\n",
      "Epoch 196 train loss: 0.4604610288515687 test loss: 1.3586446046829224\n",
      "Epoch 197 train loss: 0.466037237457931 test loss: 1.1692527532577515\n",
      "Epoch 198 train loss: 0.4332210961729288 test loss: 1.3001984357833862\n",
      "Epoch 199 train loss: 0.456011207960546 test loss: 1.4685362577438354\n",
      "Epoch 200 train loss: 0.5264864680357277 test loss: 1.4871686697006226\n",
      "Epoch 201 train loss: 0.41400671359151603 test loss: 1.7283021211624146\n",
      "Epoch 202 train loss: 0.46064650993794204 test loss: 1.4283781051635742\n",
      "Epoch 203 train loss: 0.4436910361051559 test loss: 1.6467313766479492\n",
      "Epoch 204 train loss: 0.4847368601243943 test loss: 1.5765780210494995\n",
      "Epoch 205 train loss: 0.4399567535147071 test loss: 1.3907138109207153\n",
      "Epoch 206 train loss: 0.45808828305453064 test loss: 1.5213189125061035\n",
      "Epoch 207 train loss: 0.4604719353839755 test loss: 1.7436950206756592\n",
      "Epoch 208 train loss: 0.5369358631782234 test loss: 1.5719972848892212\n",
      "Epoch 209 train loss: 0.48133487701416017 test loss: 1.4691754579544067\n",
      "Epoch 210 train loss: 0.4813403753563762 test loss: 1.3223580121994019\n",
      "Epoch 211 train loss: 0.4711188627406955 test loss: 1.518633246421814\n",
      "Epoch 212 train loss: 0.49626222513616086 test loss: 1.2246214151382446\n",
      "Epoch 213 train loss: 0.455987554602325 test loss: 1.427505373954773\n",
      "Epoch 214 train loss: 0.4946282373741269 test loss: 1.663321614265442\n",
      "Epoch 215 train loss: 0.4976224672049284 test loss: 2.094095230102539\n",
      "Epoch 216 train loss: 0.5112042149528861 test loss: 1.3695664405822754\n",
      "Epoch 217 train loss: 0.4689468264579773 test loss: 1.5699447393417358\n",
      "Epoch 218 train loss: 0.4738235356286168 test loss: 1.3565064668655396\n",
      "Epoch 219 train loss: 0.49759241845458746 test loss: 1.2760255336761475\n",
      "Epoch 220 train loss: 0.4439571861177683 test loss: 1.4879446029663086\n",
      "Epoch 221 train loss: 0.4519332536030561 test loss: 1.415391445159912\n",
      "Epoch 222 train loss: 0.47433250937610866 test loss: 1.8584198951721191\n",
      "Epoch 223 train loss: 0.48234483394771815 test loss: 1.4032783508300781\n",
      "Epoch 224 train loss: 0.5671277014538646 test loss: 1.1379581689834595\n",
      "Epoch 225 train loss: 0.47288746954873206 test loss: 1.731743574142456\n",
      "Epoch 226 train loss: 0.546630012523383 test loss: 1.3167707920074463\n",
      "Epoch 227 train loss: 0.4890184974297881 test loss: 1.4850261211395264\n",
      "Epoch 228 train loss: 0.552488034311682 test loss: 1.2418904304504395\n",
      "Epoch 229 train loss: 0.41344107370823624 test loss: 1.2009626626968384\n",
      "Epoch 230 train loss: 0.42340901037678125 test loss: 1.4011741876602173\n",
      "Epoch 231 train loss: 0.4445209357887506 test loss: 1.602376937866211\n",
      "Epoch 232 train loss: 0.5242778673768044 test loss: 1.501363754272461\n",
      "Epoch 233 train loss: 0.37412510477006433 test loss: 1.7883293628692627\n",
      "Epoch 234 train loss: 0.4745696023106575 test loss: 1.6185284852981567\n",
      "Epoch 235 train loss: 0.37867493284866216 test loss: 1.7354568243026733\n",
      "Epoch 236 train loss: 0.5533836347982287 test loss: 1.5801060199737549\n",
      "Epoch 237 train loss: 0.4428569764830172 test loss: 1.2745931148529053\n",
      "Epoch 238 train loss: 0.5108735608868301 test loss: 1.421951413154602\n",
      "Epoch 239 train loss: 0.5317112904042005 test loss: 1.6514019966125488\n",
      "Epoch 240 train loss: 0.45279070399701593 test loss: 1.3533029556274414\n",
      "Epoch 241 train loss: 0.4375993886962533 test loss: 1.5959582328796387\n",
      "Epoch 242 train loss: 0.4304351480677724 test loss: 1.2356774806976318\n",
      "Epoch 243 train loss: 0.4663386089727283 test loss: 1.500207781791687\n",
      "Epoch 244 train loss: 0.4975157452747226 test loss: 1.5640389919281006\n",
      "Epoch 245 train loss: 0.39639003984630106 test loss: 1.1133315563201904\n",
      "Epoch 246 train loss: 0.46346181370317935 test loss: 1.215522289276123\n",
      "Epoch 247 train loss: 0.441480184532702 test loss: 2.0008091926574707\n",
      "Epoch 248 train loss: 0.48440350890159606 test loss: 1.4025160074234009\n",
      "Epoch 249 train loss: 0.3778454430401325 test loss: 1.337723970413208\n",
      "Epoch 250 train loss: 0.5029581047594547 test loss: 1.5127801895141602\n",
      "Epoch 251 train loss: 0.4612169397994876 test loss: 1.503677248954773\n",
      "Epoch 252 train loss: 0.49046634156256913 test loss: 1.7608002424240112\n",
      "Epoch 253 train loss: 0.483034429512918 test loss: 1.7014660835266113\n",
      "Epoch 254 train loss: 0.4245815916918218 test loss: 1.3145112991333008\n",
      "Epoch 255 train loss: 0.42412878535687926 test loss: 1.794280767440796\n",
      "Epoch 256 train loss: 0.47015100847929714 test loss: 1.54477858543396\n",
      "Epoch 257 train loss: 0.4269872847944498 test loss: 1.5061469078063965\n",
      "Epoch 258 train loss: 0.42818039264529945 test loss: 1.7259738445281982\n",
      "Epoch 259 train loss: 0.43053824082016945 test loss: 1.2488216161727905\n",
      "Epoch 260 train loss: 0.48972062626853585 test loss: 1.4127285480499268\n",
      "Epoch 261 train loss: 0.39672444593161343 test loss: 2.0306949615478516\n",
      "Epoch 262 train loss: 0.5678881847299635 test loss: 1.7570637464523315\n",
      "Epoch 263 train loss: 0.4503869958221912 test loss: 1.6412361860275269\n",
      "Epoch 264 train loss: 0.41577189937233927 test loss: 1.3562202453613281\n",
      "Epoch 265 train loss: 0.4563742896541953 test loss: 1.8449355363845825\n",
      "Epoch 266 train loss: 0.4442915176972747 test loss: 1.56680428981781\n",
      "Epoch 267 train loss: 0.4559669753536582 test loss: 1.9968912601470947\n",
      "Epoch 268 train loss: 0.3960555028170347 test loss: 1.6027753353118896\n",
      "Epoch 269 train loss: 0.523305581137538 test loss: 1.387650728225708\n",
      "Epoch 270 train loss: 0.3641827329993248 test loss: 1.4766026735305786\n",
      "Epoch 271 train loss: 0.5337217295542359 test loss: 1.5840262174606323\n",
      "Epoch 272 train loss: 0.5427237836644053 test loss: 1.7173104286193848\n",
      "Epoch 273 train loss: 0.4347667139023542 test loss: 1.7278621196746826\n",
      "Epoch 274 train loss: 0.47306454717181623 test loss: 1.653388500213623\n",
      "Epoch 275 train loss: 0.3955092778429389 test loss: 1.7059029340744019\n",
      "Epoch 276 train loss: 0.4188191693276167 test loss: 1.5008080005645752\n",
      "Epoch 277 train loss: 0.45511587522923946 test loss: 1.5975091457366943\n",
      "Epoch 278 train loss: 0.5101853236556053 test loss: 1.4791924953460693\n",
      "Epoch 279 train loss: 0.4937824930995703 test loss: 1.3711607456207275\n",
      "Epoch 280 train loss: 0.46639362573623655 test loss: 1.6683576107025146\n",
      "Epoch 281 train loss: 0.4214991110377014 test loss: 1.430290937423706\n",
      "Epoch 282 train loss: 0.49437879482284186 test loss: 1.4907853603363037\n",
      "Epoch 283 train loss: 0.4088996585458517 test loss: 1.3309168815612793\n",
      "Epoch 284 train loss: 0.4802995102480054 test loss: 2.059250831604004\n",
      "Epoch 285 train loss: 0.3865778018720448 test loss: 1.3738044500350952\n",
      "Epoch 286 train loss: 0.4164461189880967 test loss: 1.1482034921646118\n",
      "Epoch 287 train loss: 0.43725562691688535 test loss: 1.7834900617599487\n",
      "Epoch 288 train loss: 0.4268432926386595 test loss: 1.487574577331543\n",
      "Epoch 289 train loss: 0.4004657255485654 test loss: 1.5626524686813354\n",
      "Epoch 290 train loss: 0.4224568903911859 test loss: 1.3201262950897217\n",
      "Epoch 291 train loss: 0.4346073059365153 test loss: 1.50730299949646\n",
      "Epoch 292 train loss: 0.38478554394096137 test loss: 1.520295262336731\n",
      "Epoch 293 train loss: 0.438491552695632 test loss: 0.9995977282524109\n",
      "Epoch 294 train loss: 0.41676984978839754 test loss: 0.971213161945343\n",
      "Epoch 295 train loss: 0.43362115789204836 test loss: 1.7995526790618896\n",
      "Epoch 296 train loss: 0.41656908169388773 test loss: 1.9368668794631958\n",
      "Epoch 297 train loss: 0.4456775464117527 test loss: 1.126569151878357\n",
      "Epoch 298 train loss: 0.38035672847181556 test loss: 1.2765756845474243\n",
      "Epoch 299 train loss: 0.41862000320106746 test loss: 1.3962247371673584\n",
      "Epoch 300 train loss: 0.4437052611261606 test loss: 1.2364349365234375\n",
      "Epoch 301 train loss: 0.49173867646604774 test loss: 1.747873306274414\n",
      "Epoch 302 train loss: 0.40938170775771143 test loss: 1.3920485973358154\n",
      "Epoch 303 train loss: 0.43154809568077324 test loss: 1.7742321491241455\n",
      "Epoch 304 train loss: 0.437178067676723 test loss: 1.5276950597763062\n",
      "Epoch 305 train loss: 0.4292431704699993 test loss: 1.3943232297897339\n",
      "Epoch 306 train loss: 0.43852385953068734 test loss: 1.7054109573364258\n",
      "Epoch 307 train loss: 0.4232929334044456 test loss: 1.668524146080017\n",
      "Epoch 308 train loss: 0.42253273352980614 test loss: 1.6898616552352905\n",
      "Epoch 309 train loss: 0.40209956280887127 test loss: 1.5516808032989502\n",
      "Epoch 310 train loss: 0.4468859724700451 test loss: 1.7116248607635498\n",
      "Epoch 311 train loss: 0.4791500771418214 test loss: 1.4398196935653687\n",
      "Epoch 312 train loss: 0.42853684946894643 test loss: 1.3186944723129272\n",
      "Epoch 313 train loss: 0.44426017049700023 test loss: 1.34688401222229\n",
      "Epoch 314 train loss: 0.4570365324616432 test loss: 1.338722586631775\n",
      "Epoch 315 train loss: 0.4903529996983707 test loss: 1.2712993621826172\n",
      "Epoch 316 train loss: 0.4405577588826418 test loss: 1.7238000631332397\n",
      "Epoch 317 train loss: 0.4362157741561532 test loss: 1.074105978012085\n",
      "Epoch 318 train loss: 0.40267085246741774 test loss: 1.3393945693969727\n",
      "Epoch 319 train loss: 0.4916493787895888 test loss: 1.7150554656982422\n",
      "Epoch 320 train loss: 0.4845810353755951 test loss: 1.6384320259094238\n",
      "Epoch 321 train loss: 0.4001100217923522 test loss: 1.3389800786972046\n",
      "Epoch 322 train loss: 0.42970550414174796 test loss: 1.1598973274230957\n",
      "Epoch 323 train loss: 0.47011932730674744 test loss: 1.5807710886001587\n",
      "Epoch 324 train loss: 0.4156966140493751 test loss: 1.2357985973358154\n",
      "Epoch 325 train loss: 0.45222467817366124 test loss: 1.6946834325790405\n",
      "Epoch 326 train loss: 0.4220281993970275 test loss: 1.3197877407073975\n",
      "Epoch 327 train loss: 0.39942470253445206 test loss: 1.1770004034042358\n",
      "Epoch 328 train loss: 0.4171512738801539 test loss: 1.8153141736984253\n",
      "Epoch 329 train loss: 0.39124566651880743 test loss: 1.4646769762039185\n",
      "Epoch 330 train loss: 0.4226710001938045 test loss: 1.474454641342163\n",
      "Epoch 331 train loss: 0.4405001221224666 test loss: 1.176587700843811\n",
      "Epoch 332 train loss: 0.47673071958124635 test loss: 1.5523837804794312\n",
      "Epoch 333 train loss: 0.46468399446457626 test loss: 1.2816402912139893\n",
      "Epoch 334 train loss: 0.441421460127458 test loss: 1.3062326908111572\n",
      "Epoch 335 train loss: 0.3460541095584631 test loss: 1.0952939987182617\n",
      "Epoch 336 train loss: 0.4142662577331066 test loss: 1.423949122428894\n",
      "Epoch 337 train loss: 0.28640783466398717 test loss: 2.0525312423706055\n",
      "Epoch 338 train loss: 0.4276297718286514 test loss: 1.533822774887085\n",
      "Epoch 339 train loss: 0.4330854104831815 test loss: 1.7578637599945068\n",
      "Epoch 340 train loss: 0.38582487758249046 test loss: 1.3183931112289429\n",
      "Epoch 341 train loss: 0.4621002786792815 test loss: 1.1864689588546753\n",
      "Epoch 342 train loss: 0.4191830917261541 test loss: 1.394232988357544\n",
      "Epoch 343 train loss: 0.46916001122444867 test loss: 1.4035961627960205\n",
      "Epoch 344 train loss: 0.38889320082962514 test loss: 1.2768206596374512\n",
      "Epoch 345 train loss: 0.4323521889746189 test loss: 1.3063526153564453\n",
      "Epoch 346 train loss: 0.46900590881705284 test loss: 1.2613554000854492\n",
      "Epoch 347 train loss: 0.4485267588868737 test loss: 1.2760984897613525\n",
      "Epoch 348 train loss: 0.36806045304983853 test loss: 1.0429434776306152\n",
      "Epoch 349 train loss: 0.3984412003774196 test loss: 1.659452199935913\n",
      "Epoch 350 train loss: 0.39685548190027475 test loss: 1.8748273849487305\n",
      "Epoch 351 train loss: 0.3818093858659267 test loss: 1.2638708353042603\n",
      "Epoch 352 train loss: 0.49600992863997817 test loss: 1.6742992401123047\n",
      "Epoch 353 train loss: 0.43532149838283657 test loss: 1.2696806192398071\n",
      "Epoch 354 train loss: 0.44388323798775675 test loss: 1.4484682083129883\n",
      "Epoch 355 train loss: 0.46632655877619983 test loss: 1.3925453424453735\n",
      "Epoch 356 train loss: 0.3965965107083321 test loss: 1.4736003875732422\n",
      "Epoch 357 train loss: 0.35718615194782616 test loss: 1.2371222972869873\n",
      "Epoch 358 train loss: 0.38056372944265604 test loss: 1.8534345626831055\n",
      "Epoch 359 train loss: 0.3499288447201252 test loss: 1.617581844329834\n",
      "Epoch 360 train loss: 0.39814009349793195 test loss: 1.5263137817382812\n",
      "Epoch 361 train loss: 0.46010660668835046 test loss: 1.0667061805725098\n",
      "Epoch 362 train loss: 0.43481801748275756 test loss: 1.4074897766113281\n",
      "Epoch 363 train loss: 0.5095294733066111 test loss: 1.8095507621765137\n",
      "Epoch 364 train loss: 0.3906716536730528 test loss: 1.1830179691314697\n",
      "Epoch 365 train loss: 0.38243712205439806 test loss: 1.1704877614974976\n",
      "Epoch 366 train loss: 0.39982930226251484 test loss: 1.7635607719421387\n",
      "Epoch 367 train loss: 0.3740424455143511 test loss: 1.3411329984664917\n",
      "Epoch 368 train loss: 0.4085408910177648 test loss: 1.5566000938415527\n",
      "Epoch 369 train loss: 0.4425468692556024 test loss: 1.2056068181991577\n",
      "Epoch 370 train loss: 0.39420744888484477 test loss: 1.1760649681091309\n",
      "Epoch 371 train loss: 0.42200078144669534 test loss: 1.2831953763961792\n",
      "Epoch 372 train loss: 0.3630897863768041 test loss: 1.8853205442428589\n",
      "Epoch 373 train loss: 0.35634955698624254 test loss: 1.49252450466156\n",
      "Epoch 374 train loss: 0.42478657644242046 test loss: 1.7899553775787354\n",
      "Epoch 375 train loss: 0.4270574667491019 test loss: 1.4333388805389404\n",
      "Epoch 376 train loss: 0.42183193694800136 test loss: 1.852009892463684\n",
      "Epoch 377 train loss: 0.40124008506536485 test loss: 1.1955702304840088\n",
      "Epoch 378 train loss: 0.4364021827466786 test loss: 1.1493427753448486\n",
      "Epoch 379 train loss: 0.4925602270290256 test loss: 1.3670272827148438\n",
      "Epoch 380 train loss: 0.45997319612652066 test loss: 1.3022288084030151\n",
      "Epoch 381 train loss: 0.40813517812639477 test loss: 1.282384991645813\n",
      "Epoch 382 train loss: 0.3629425078630447 test loss: 1.158592939376831\n",
      "Epoch 383 train loss: 0.4364771304652095 test loss: 1.856729507446289\n",
      "Epoch 384 train loss: 0.5077904929174111 test loss: 1.405734896659851\n",
      "Epoch 385 train loss: 0.3928894840180874 test loss: 1.4116864204406738\n",
      "Epoch 386 train loss: 0.3719910405576229 test loss: 1.3638026714324951\n",
      "Epoch 387 train loss: 0.42471225559711456 test loss: 1.2341474294662476\n",
      "Epoch 388 train loss: 0.367087122797966 test loss: 1.9606503248214722\n",
      "Epoch 389 train loss: 0.40323079768568276 test loss: 1.6986850500106812\n",
      "Epoch 390 train loss: 0.49591219760477545 test loss: 1.3023412227630615\n",
      "Epoch 391 train loss: 0.4316789905540645 test loss: 1.3120027780532837\n",
      "Epoch 392 train loss: 0.4454968160018325 test loss: 1.6072261333465576\n",
      "Epoch 393 train loss: 0.40924125593155625 test loss: 1.5663241147994995\n",
      "Epoch 394 train loss: 0.4163484608754516 test loss: 1.6922645568847656\n",
      "Epoch 395 train loss: 0.46038528345525265 test loss: 1.3336986303329468\n",
      "Epoch 396 train loss: 0.4459659271873534 test loss: 1.4789488315582275\n",
      "Epoch 397 train loss: 0.43287439811974765 test loss: 1.517189621925354\n",
      "Epoch 398 train loss: 0.45811496218666437 test loss: 1.2727563381195068\n",
      "Epoch 399 train loss: 0.3978469698689878 test loss: 1.6307038068771362\n",
      "Epoch 400 train loss: 0.4627772013656795 test loss: 1.0302207469940186\n",
      "Epoch 401 train loss: 0.4284984808415174 test loss: 1.2885984182357788\n",
      "Epoch 402 train loss: 0.43078983877785504 test loss: 1.2063345909118652\n",
      "Epoch 403 train loss: 0.4359939894406125 test loss: 1.1972887516021729\n",
      "Epoch 404 train loss: 0.443889107555151 test loss: 1.5970723628997803\n",
      "Epoch 405 train loss: 0.34889169251546265 test loss: 1.2034895420074463\n",
      "Epoch 406 train loss: 0.4050165146589279 test loss: 1.4054685831069946\n",
      "Epoch 407 train loss: 0.4499808500520885 test loss: 1.154444694519043\n",
      "Epoch 408 train loss: 0.38920476771891116 test loss: 1.422580599784851\n",
      "Epoch 409 train loss: 0.37035423796623945 test loss: 1.7960846424102783\n",
      "Epoch 410 train loss: 0.43112710267305376 test loss: 0.8235608339309692\n",
      "Epoch 411 train loss: 0.46718460489064456 test loss: 1.403382658958435\n",
      "Epoch 412 train loss: 0.5057346595451235 test loss: 1.063725471496582\n",
      "Epoch 413 train loss: 0.4859936788678169 test loss: 1.2647149562835693\n",
      "Epoch 414 train loss: 0.3790367469191551 test loss: 1.4351528882980347\n",
      "Epoch 415 train loss: 0.47108444962650536 test loss: 1.6703152656555176\n",
      "Epoch 416 train loss: 0.48276866478845476 test loss: 1.431931972503662\n",
      "Epoch 417 train loss: 0.39608566239476206 test loss: 1.0395572185516357\n",
      "Epoch 418 train loss: 0.4333509150892496 test loss: 1.433811068534851\n",
      "Epoch 419 train loss: 0.3702500882558525 test loss: 2.180161476135254\n",
      "Epoch 420 train loss: 0.5083139159716665 test loss: 1.368163824081421\n",
      "Epoch 421 train loss: 0.45081333704292775 test loss: 1.3541390895843506\n",
      "Epoch 422 train loss: 0.43777018757537006 test loss: 1.4296687841415405\n",
      "Epoch 423 train loss: 0.40111734746024014 test loss: 1.6289522647857666\n",
      "Epoch 424 train loss: 0.41365433745086194 test loss: 1.2630926370620728\n",
      "Epoch 425 train loss: 0.4103921303059906 test loss: 1.5886939764022827\n",
      "Epoch 426 train loss: 0.465728223323822 test loss: 1.178113341331482\n",
      "Epoch 427 train loss: 0.4627958939410746 test loss: 1.2641295194625854\n",
      "Epoch 428 train loss: 0.3396217605099082 test loss: 1.0551356077194214\n",
      "Epoch 429 train loss: 0.44564449982717635 test loss: 1.303092122077942\n",
      "Epoch 430 train loss: 0.4139380566775799 test loss: 1.4140124320983887\n",
      "Epoch 431 train loss: 0.4042707455344498 test loss: 1.5104120969772339\n",
      "Epoch 432 train loss: 0.41794388759881257 test loss: 1.8103240728378296\n",
      "Epoch 433 train loss: 0.3591164691373706 test loss: 1.030151605606079\n",
      "Epoch 434 train loss: 0.5053573297336698 test loss: 1.2689144611358643\n",
      "Epoch 435 train loss: 0.3925931760109961 test loss: 1.849351167678833\n",
      "Epoch 436 train loss: 0.4141068208962679 test loss: 1.6124166250228882\n",
      "Epoch 437 train loss: 0.4503464230336249 test loss: 1.809971809387207\n",
      "Epoch 438 train loss: 0.5177694439888001 test loss: 1.305497407913208\n",
      "Epoch 439 train loss: 0.4771205145865679 test loss: 1.3578624725341797\n",
      "Epoch 440 train loss: 0.3779619444161654 test loss: 1.261844515800476\n",
      "Epoch 441 train loss: 0.3621852364391088 test loss: 1.3453325033187866\n",
      "Epoch 442 train loss: 0.4171460920013487 test loss: 1.5040160417556763\n",
      "Epoch 443 train loss: 0.3675423728302121 test loss: 1.4166585206985474\n",
      "Epoch 444 train loss: 0.4452967026270926 test loss: 1.3954169750213623\n",
      "Epoch 445 train loss: 0.3473232666030526 test loss: 1.2676535844802856\n",
      "Epoch 446 train loss: 0.4469911175779998 test loss: 1.326813817024231\n",
      "Epoch 447 train loss: 0.36191235259175303 test loss: 1.6238093376159668\n",
      "Epoch 448 train loss: 0.43365260511636733 test loss: 1.1899771690368652\n",
      "Epoch 449 train loss: 0.38071146020665764 test loss: 1.2430753707885742\n",
      "Epoch 450 train loss: 0.41437775022350254 test loss: 1.292893886566162\n",
      "Epoch 451 train loss: 0.40575765781104567 test loss: 1.3223545551300049\n",
      "Epoch 452 train loss: 0.44274035673588513 test loss: 1.4194743633270264\n",
      "Epoch 453 train loss: 0.40562882060185074 test loss: 1.0475786924362183\n",
      "Epoch 454 train loss: 0.36423524087294934 test loss: 1.779611349105835\n",
      "Epoch 455 train loss: 0.40876892637461426 test loss: 0.9849609136581421\n",
      "Epoch 456 train loss: 0.3826302126981318 test loss: 1.442604660987854\n",
      "Epoch 457 train loss: 0.4963615119457245 test loss: 1.1652790307998657\n",
      "Epoch 458 train loss: 0.4345398833975196 test loss: 1.4653282165527344\n",
      "Epoch 459 train loss: 0.4343438111245632 test loss: 1.035620093345642\n",
      "Epoch 460 train loss: 0.392285016272217 test loss: 1.0984677076339722\n",
      "Epoch 461 train loss: 0.39314590571448205 test loss: 1.3425527811050415\n",
      "Epoch 462 train loss: 0.4763207755517215 test loss: 1.1170138120651245\n",
      "Epoch 463 train loss: 0.34389101304113867 test loss: 1.2982029914855957\n",
      "Epoch 464 train loss: 0.3454772079363465 test loss: 2.015343189239502\n",
      "Epoch 465 train loss: 0.3184635818004608 test loss: 1.128012776374817\n",
      "Epoch 466 train loss: 0.3713311985135078 test loss: 1.543860673904419\n",
      "Epoch 467 train loss: 0.4365863218903542 test loss: 1.4911282062530518\n",
      "Epoch 468 train loss: 0.41016708640381694 test loss: 1.8238874673843384\n",
      "Epoch 469 train loss: 0.4426617544144392 test loss: 1.0263253450393677\n",
      "Epoch 470 train loss: 0.41173175927251576 test loss: 1.647246241569519\n",
      "Epoch 471 train loss: 0.4608740108087659 test loss: 1.545926809310913\n",
      "Epoch 472 train loss: 0.4321556341834366 test loss: 1.6902657747268677\n",
      "Epoch 473 train loss: 0.37941084913909434 test loss: 1.0289090871810913\n",
      "Epoch 474 train loss: 0.41186101287603377 test loss: 1.302785038948059\n",
      "Epoch 475 train loss: 0.4004115369170904 test loss: 1.4324853420257568\n",
      "Epoch 476 train loss: 0.41878199349739587 test loss: 1.3971729278564453\n",
      "Epoch 477 train loss: 0.47334513179957866 test loss: 1.4610027074813843\n",
      "Epoch 478 train loss: 0.35080633824691176 test loss: 1.4014674425125122\n",
      "Epoch 479 train loss: 0.43443389842286706 test loss: 1.3638277053833008\n",
      "Epoch 480 train loss: 0.4704408086836338 test loss: 1.531990885734558\n",
      "Epoch 481 train loss: 0.4429099461995065 test loss: 1.5716158151626587\n",
      "Epoch 482 train loss: 0.4008470351807773 test loss: 1.371791958808899\n",
      "Epoch 483 train loss: 0.3866920413449407 test loss: 1.3343065977096558\n",
      "Epoch 484 train loss: 0.3761943308636546 test loss: 1.5801315307617188\n",
      "Epoch 485 train loss: 0.4713884026743472 test loss: 1.5436300039291382\n",
      "Epoch 486 train loss: 0.36939080655574796 test loss: 1.0423026084899902\n",
      "Epoch 487 train loss: 0.3570075704250485 test loss: 1.5289252996444702\n",
      "Epoch 488 train loss: 0.38753579203039407 test loss: 1.5042449235916138\n",
      "Epoch 489 train loss: 0.44228610340505836 test loss: 1.2147232294082642\n",
      "Epoch 490 train loss: 0.4407001754269004 test loss: 1.4550591707229614\n",
      "Epoch 491 train loss: 0.41017649276182055 test loss: 1.983925461769104\n",
      "Epoch 492 train loss: 0.4092801218852401 test loss: 1.3972605466842651\n",
      "Epoch 493 train loss: 0.38212301675230265 test loss: 1.498357892036438\n",
      "Epoch 494 train loss: 0.41739724976941944 test loss: 1.6086018085479736\n",
      "Epoch 495 train loss: 0.4093934534117579 test loss: 1.2706584930419922\n",
      "Epoch 496 train loss: 0.38993611563928426 test loss: 1.4393340349197388\n",
      "Epoch 497 train loss: 0.35217419993132354 test loss: 1.4694973230361938\n",
      "Epoch 498 train loss: 0.370895011164248 test loss: 1.701282024383545\n",
      "Epoch 499 train loss: 0.33392782527953385 test loss: 1.2482281923294067\n",
      "Epoch 500 train loss: 0.3237758894450963 test loss: 1.2495317459106445\n",
      "Epoch 501 train loss: 0.4426711373962462 test loss: 1.1514058113098145\n",
      "Epoch 502 train loss: 0.43175832824781535 test loss: 0.8773189187049866\n",
      "Epoch 503 train loss: 0.45265007531270385 test loss: 1.4017845392227173\n",
      "Epoch 504 train loss: 0.41233590310439466 test loss: 1.014136791229248\n",
      "Epoch 505 train loss: 0.33592109363526107 test loss: 1.1273219585418701\n",
      "Epoch 506 train loss: 0.38126495471224187 test loss: 1.528526782989502\n",
      "Epoch 507 train loss: 0.3174833749420941 test loss: 1.3358160257339478\n",
      "Epoch 508 train loss: 0.45481357323005794 test loss: 1.2975566387176514\n",
      "Epoch 509 train loss: 0.4304667289368808 test loss: 1.7567987442016602\n",
      "Epoch 510 train loss: 0.3975188909098506 test loss: 1.9398891925811768\n",
      "Epoch 511 train loss: 0.3844752775505185 test loss: 1.1295721530914307\n",
      "Epoch 512 train loss: 0.42175364270806315 test loss: 1.448538064956665\n",
      "Epoch 513 train loss: 0.36569440755993127 test loss: 1.1868400573730469\n",
      "Epoch 514 train loss: 0.4334991754963994 test loss: 1.43362557888031\n",
      "Epoch 515 train loss: 0.41329583134502174 test loss: 1.5083667039871216\n",
      "Epoch 516 train loss: 0.3871516237966716 test loss: 0.7780225276947021\n",
      "Epoch 517 train loss: 0.408425853587687 test loss: 1.9148287773132324\n",
      "Epoch 518 train loss: 0.3329857837408781 test loss: 1.3462591171264648\n",
      "Epoch 519 train loss: 0.3928616692312062 test loss: 1.34329092502594\n",
      "Epoch 520 train loss: 0.372449610196054 test loss: 1.2052971124649048\n",
      "Epoch 521 train loss: 0.39357452262192966 test loss: 1.6354055404663086\n",
      "Epoch 522 train loss: 0.3994335996452719 test loss: 1.5360753536224365\n",
      "Epoch 523 train loss: 0.37119785118848087 test loss: 1.1807700395584106\n",
      "Epoch 524 train loss: 0.37789990454912187 test loss: 1.1100215911865234\n",
      "Epoch 525 train loss: 0.37523665549233554 test loss: 0.9400907754898071\n",
      "Epoch 526 train loss: 0.3609734226949513 test loss: 2.1395058631896973\n",
      "Epoch 527 train loss: 0.42630076399073 test loss: 1.0260004997253418\n",
      "Epoch 528 train loss: 0.3764958999119699 test loss: 1.6883682012557983\n",
      "Epoch 529 train loss: 0.3425399908795953 test loss: 1.7007250785827637\n",
      "Epoch 530 train loss: 0.43972537349909546 test loss: 1.1871209144592285\n",
      "Epoch 531 train loss: 0.3702792452648282 test loss: 1.066586971282959\n",
      "Epoch 532 train loss: 0.4580071007832885 test loss: 1.743417501449585\n",
      "Epoch 533 train loss: 0.5937871303409338 test loss: 1.2379508018493652\n",
      "Epoch 534 train loss: 0.41350995739921925 test loss: 1.0057650804519653\n",
      "Epoch 535 train loss: 0.4406162856146693 test loss: 1.5413954257965088\n",
      "Epoch 536 train loss: 0.4182970426976681 test loss: 1.3725594282150269\n",
      "Epoch 537 train loss: 0.37482121121138334 test loss: 1.4693024158477783\n",
      "Epoch 538 train loss: 0.40878778463229537 test loss: 1.3557173013687134\n",
      "Epoch 539 train loss: 0.4172446047887206 test loss: 1.281747579574585\n",
      "Epoch 540 train loss: 0.3718338552862406 test loss: 1.6746296882629395\n",
      "Epoch 541 train loss: 0.43225415935739875 test loss: 1.514561414718628\n",
      "Epoch 542 train loss: 0.4182086342014372 test loss: 1.4893016815185547\n",
      "Epoch 543 train loss: 0.34512333385646343 test loss: 1.4967631101608276\n",
      "Epoch 544 train loss: 0.3439686994999647 test loss: 1.2720904350280762\n",
      "Epoch 545 train loss: 0.4711941728368402 test loss: 1.9483585357666016\n",
      "Epoch 546 train loss: 0.3699513159226626 test loss: 1.3048933744430542\n",
      "Epoch 547 train loss: 0.4568090558052063 test loss: 1.0367176532745361\n",
      "Epoch 548 train loss: 0.4048248373903334 test loss: 1.4963361024856567\n",
      "Epoch 549 train loss: 0.3901697931811213 test loss: 1.0497846603393555\n",
      "Epoch 550 train loss: 0.40686226412653925 test loss: 1.687497854232788\n",
      "Epoch 551 train loss: 0.3334120674058795 test loss: 1.2145569324493408\n",
      "Epoch 552 train loss: 0.35701974635012446 test loss: 1.1970126628875732\n",
      "Epoch 553 train loss: 0.33131561148911715 test loss: 1.3252196311950684\n",
      "Epoch 554 train loss: 0.4527627270668745 test loss: 1.4197887182235718\n",
      "Epoch 555 train loss: 0.4073250965215266 test loss: 1.3753429651260376\n",
      "Epoch 556 train loss: 0.42088934080675244 test loss: 1.1214511394500732\n",
      "Epoch 557 train loss: 0.41099817948415873 test loss: 1.5059311389923096\n",
      "Epoch 558 train loss: 0.3271245490759611 test loss: 1.618500828742981\n",
      "Epoch 559 train loss: 0.32065828163176774 test loss: 1.109792947769165\n",
      "Epoch 560 train loss: 0.4048377078026533 test loss: 1.4808003902435303\n",
      "Epoch 561 train loss: 0.395971507858485 test loss: 1.1839673519134521\n",
      "Epoch 562 train loss: 0.414940126799047 test loss: 1.2063757181167603\n",
      "Epoch 563 train loss: 0.4134334050118923 test loss: 1.3125433921813965\n",
      "Epoch 564 train loss: 0.41525168493390086 test loss: 1.0053422451019287\n",
      "Epoch 565 train loss: 0.4069905323907733 test loss: 1.0705660581588745\n",
      "Epoch 566 train loss: 0.4015010392293334 test loss: 1.4214869737625122\n",
      "Epoch 567 train loss: 0.31483843447640536 test loss: 1.3954896926879883\n",
      "Epoch 568 train loss: 0.3671401793137193 test loss: 1.3526800870895386\n",
      "Epoch 569 train loss: 0.4275785840116441 test loss: 1.3042737245559692\n",
      "Epoch 570 train loss: 0.43114720545709134 test loss: 2.113051414489746\n",
      "Epoch 571 train loss: 0.40719344178214667 test loss: 1.225583553314209\n",
      "Epoch 572 train loss: 0.3845731700770557 test loss: 1.0990585088729858\n",
      "Epoch 573 train loss: 0.43698319932445884 test loss: 1.7051914930343628\n",
      "Epoch 574 train loss: 0.34726694207638503 test loss: 1.9012526273727417\n",
      "Epoch 575 train loss: 0.3953295987099409 test loss: 1.1233534812927246\n",
      "Epoch 576 train loss: 0.4088015589863062 test loss: 1.3287888765335083\n",
      "Epoch 577 train loss: 0.4060400607995689 test loss: 1.440936803817749\n",
      "Epoch 578 train loss: 0.3877008335664868 test loss: 1.109940767288208\n",
      "Epoch 579 train loss: 0.42022534608840945 test loss: 1.0259259939193726\n",
      "Epoch 580 train loss: 0.3744510873220861 test loss: 1.7485263347625732\n",
      "Epoch 581 train loss: 0.3885752011090517 test loss: 1.6670541763305664\n",
      "Epoch 582 train loss: 0.36002056691795586 test loss: 1.672406554222107\n",
      "Epoch 583 train loss: 0.3422670387662947 test loss: 1.737668752670288\n",
      "Epoch 584 train loss: 0.44812549417838454 test loss: 1.3749349117279053\n",
      "Epoch 585 train loss: 0.3927636532112956 test loss: 2.0074806213378906\n",
      "Epoch 586 train loss: 0.4598634378984571 test loss: 1.392391324043274\n",
      "Epoch 587 train loss: 0.38999971440061926 test loss: 1.2128899097442627\n",
      "Epoch 588 train loss: 0.3552439550869167 test loss: 1.1856361627578735\n",
      "Epoch 589 train loss: 0.37210617144592106 test loss: 1.6677767038345337\n",
      "Epoch 590 train loss: 0.3511528791859746 test loss: 0.9630838632583618\n",
      "Epoch 591 train loss: 0.3970993502996862 test loss: 1.9151493310928345\n",
      "Epoch 592 train loss: 0.41655214354395864 test loss: 0.9952890872955322\n",
      "Epoch 593 train loss: 0.4107913663610816 test loss: 1.3342399597167969\n",
      "Epoch 594 train loss: 0.39922848157584667 test loss: 1.3228257894515991\n",
      "Epoch 595 train loss: 0.42533505999017507 test loss: 0.884559154510498\n",
      "Epoch 596 train loss: 0.37524545639753343 test loss: 0.9634079337120056\n",
      "Epoch 597 train loss: 0.39749779226258397 test loss: 0.9104084372520447\n",
      "Epoch 598 train loss: 0.3633963058702648 test loss: 1.5892937183380127\n",
      "Epoch 599 train loss: 0.31469433950260284 test loss: 1.327316403388977\n",
      "Epoch 600 train loss: 0.3634641435928643 test loss: 2.0707945823669434\n",
      "Epoch 601 train loss: 0.396428476460278 test loss: 1.238465666770935\n",
      "Epoch 602 train loss: 0.4327340515330434 test loss: 1.3863142728805542\n",
      "Epoch 603 train loss: 0.38185129445046184 test loss: 1.1869778633117676\n",
      "Epoch 604 train loss: 0.41562012787908315 test loss: 1.6424076557159424\n",
      "Epoch 605 train loss: 0.3233749319333583 test loss: 1.495280385017395\n",
      "Epoch 606 train loss: 0.3589943376369774 test loss: 1.8197202682495117\n",
      "Epoch 607 train loss: 0.4034720510710031 test loss: 1.5912439823150635\n",
      "Epoch 608 train loss: 0.38817476453259586 test loss: 1.1754828691482544\n",
      "Epoch 609 train loss: 0.400036096945405 test loss: 1.7207831144332886\n",
      "Epoch 610 train loss: 0.3769157494418323 test loss: 1.5243372917175293\n",
      "Epoch 611 train loss: 0.4835159406065941 test loss: 1.4060087203979492\n",
      "Epoch 612 train loss: 0.4107433781027794 test loss: 1.3853421211242676\n",
      "Epoch 613 train loss: 0.5080165754072368 test loss: 1.3473775386810303\n",
      "Epoch 614 train loss: 0.332642525807023 test loss: 1.2458767890930176\n",
      "Epoch 615 train loss: 0.4395263594575226 test loss: 1.3549150228500366\n",
      "Epoch 616 train loss: 0.4742352642118931 test loss: 1.278338074684143\n",
      "Epoch 617 train loss: 0.3766274703666568 test loss: 1.0183687210083008\n",
      "Epoch 618 train loss: 0.351886089053005 test loss: 1.461452841758728\n",
      "Epoch 619 train loss: 0.3942756182514131 test loss: 1.4955425262451172\n",
      "Epoch 620 train loss: 0.35161017286591234 test loss: 1.1989175081253052\n",
      "Epoch 621 train loss: 0.3510483860038221 test loss: 1.1402440071105957\n",
      "Epoch 622 train loss: 0.3760336556006223 test loss: 1.0287525653839111\n",
      "Epoch 623 train loss: 0.4065289570018649 test loss: 0.830194890499115\n",
      "Epoch 624 train loss: 0.4661821560934186 test loss: 1.154787302017212\n",
      "Epoch 625 train loss: 0.42151267230510714 test loss: 1.3408350944519043\n",
      "Epoch 626 train loss: 0.3924292854964733 test loss: 1.4837781190872192\n",
      "Epoch 627 train loss: 0.4521560532040894 test loss: 1.1329243183135986\n",
      "Epoch 628 train loss: 0.42447186606004833 test loss: 1.418657660484314\n",
      "Epoch 629 train loss: 0.43955768323503436 test loss: 1.6022777557373047\n",
      "Epoch 630 train loss: 0.3929235582239926 test loss: 1.3775861263275146\n",
      "Epoch 631 train loss: 0.4445956202223897 test loss: 1.5252490043640137\n",
      "Epoch 632 train loss: 0.4633824648335576 test loss: 1.2715059518814087\n",
      "Epoch 633 train loss: 0.3496517114341259 test loss: 2.104355573654175\n",
      "Epoch 634 train loss: 0.3461903640069067 test loss: 1.5574709177017212\n",
      "Epoch 635 train loss: 0.3282949676737189 test loss: 1.5270251035690308\n",
      "Epoch 636 train loss: 0.3927412681281567 test loss: 1.3583142757415771\n",
      "Epoch 637 train loss: 0.34058335721492766 test loss: 1.2770246267318726\n",
      "Epoch 638 train loss: 0.4209974154829979 test loss: 1.0998197793960571\n",
      "Epoch 639 train loss: 0.42662943471223114 test loss: 1.7861874103546143\n",
      "Epoch 640 train loss: 0.3766095260158181 test loss: 1.6836072206497192\n",
      "Epoch 641 train loss: 0.4728749538771808 test loss: 0.9063942432403564\n",
      "Epoch 642 train loss: 0.454716291744262 test loss: 1.3550920486450195\n",
      "Epoch 643 train loss: 0.37912495750933883 test loss: 0.921264111995697\n",
      "Epoch 644 train loss: 0.4199390197172761 test loss: 1.3098547458648682\n",
      "Epoch 645 train loss: 0.42320171995088457 test loss: 0.967686116695404\n",
      "Epoch 646 train loss: 0.3452644465491176 test loss: 1.1909011602401733\n",
      "Epoch 647 train loss: 0.42621831484138967 test loss: 0.8892145156860352\n",
      "Epoch 648 train loss: 0.4692626493982971 test loss: 1.2726306915283203\n",
      "Epoch 649 train loss: 0.3715557743795216 test loss: 1.7705644369125366\n",
      "Epoch 650 train loss: 0.40426833312958477 test loss: 1.2594349384307861\n",
      "Epoch 651 train loss: 0.3605927746742964 test loss: 1.2447302341461182\n",
      "Epoch 652 train loss: 0.3409427625592798 test loss: 1.106357216835022\n",
      "Epoch 653 train loss: 0.41990233222022655 test loss: 1.6089088916778564\n",
      "Epoch 654 train loss: 0.4072714981622994 test loss: 1.1996841430664062\n",
      "Epoch 655 train loss: 0.41043386296369133 test loss: 1.1773403882980347\n",
      "Epoch 656 train loss: 0.3299159150570631 test loss: 1.3074067831039429\n",
      "Epoch 657 train loss: 0.32580089126713574 test loss: 1.4006584882736206\n",
      "Epoch 658 train loss: 0.3425859785173088 test loss: 1.3141738176345825\n",
      "Epoch 659 train loss: 0.35264628622680905 test loss: 1.1417574882507324\n",
      "Epoch 660 train loss: 0.36434110067784786 test loss: 1.360315203666687\n",
      "Epoch 661 train loss: 0.4285098257474601 test loss: 1.4270806312561035\n",
      "Epoch 662 train loss: 0.37299274988472464 test loss: 1.2591689825057983\n",
      "Epoch 663 train loss: 0.38940329374745486 test loss: 1.0857325792312622\n",
      "Epoch 664 train loss: 0.3710539240390062 test loss: 1.3156239986419678\n",
      "Epoch 665 train loss: 0.38827399648725985 test loss: 1.0921125411987305\n",
      "Epoch 666 train loss: 0.3781227223109454 test loss: 1.1235876083374023\n",
      "Epoch 667 train loss: 0.3441632091067731 test loss: 1.2933759689331055\n",
      "Epoch 668 train loss: 0.383278152346611 test loss: 1.8500614166259766\n",
      "Epoch 669 train loss: 0.37505593048408625 test loss: 1.2434288263320923\n",
      "Epoch 670 train loss: 0.3735181748401374 test loss: 1.1143263578414917\n",
      "Epoch 671 train loss: 0.46910731941461564 test loss: 1.398959994316101\n",
      "Epoch 672 train loss: 0.2742386537604034 test loss: 1.2257838249206543\n",
      "Epoch 673 train loss: 0.33734997268766165 test loss: 1.2581216096878052\n",
      "Epoch 674 train loss: 0.35708400085568426 test loss: 1.0922307968139648\n",
      "Epoch 675 train loss: 0.41456580283120276 test loss: 1.403037667274475\n",
      "Epoch 676 train loss: 0.32715389467775824 test loss: 1.3383007049560547\n",
      "Epoch 677 train loss: 0.3668006107211113 test loss: 1.2638431787490845\n",
      "Epoch 678 train loss: 0.3756764205172658 test loss: 1.7262686491012573\n",
      "Epoch 679 train loss: 0.4454445431008935 test loss: 1.0665032863616943\n",
      "Epoch 680 train loss: 0.39434460988268255 test loss: 1.2748746871948242\n",
      "Epoch 681 train loss: 0.4572117324918509 test loss: 0.7807852029800415\n",
      "Epoch 682 train loss: 0.395725426916033 test loss: 1.062902808189392\n",
      "Epoch 683 train loss: 0.3626996045932174 test loss: 1.2094547748565674\n",
      "Epoch 684 train loss: 0.392109589278698 test loss: 1.063537359237671\n",
      "Epoch 685 train loss: 0.31459337812848387 test loss: 1.1714152097702026\n",
      "Epoch 686 train loss: 0.3678846566006541 test loss: 1.52760648727417\n",
      "Epoch 687 train loss: 0.41860281815752387 test loss: 1.1204968690872192\n",
      "Epoch 688 train loss: 0.33350233575329186 test loss: 0.8478401899337769\n",
      "Epoch 689 train loss: 0.4376307207159698 test loss: 1.1479495763778687\n",
      "Epoch 690 train loss: 0.31803992558270694 test loss: 1.1786863803863525\n",
      "Epoch 691 train loss: 0.36003229664638636 test loss: 1.575927495956421\n",
      "Epoch 692 train loss: 0.4490645591169596 test loss: 1.4301953315734863\n",
      "Epoch 693 train loss: 0.3620934782549739 test loss: 1.0779000520706177\n",
      "Epoch 694 train loss: 0.4357448309659958 test loss: 1.3633707761764526\n",
      "Epoch 695 train loss: 0.3346658297814429 test loss: 1.666751742362976\n",
      "Epoch 696 train loss: 0.3607087678741664 test loss: 1.1688323020935059\n",
      "Epoch 697 train loss: 0.41889509186148643 test loss: 1.3231074810028076\n",
      "Epoch 698 train loss: 0.2799963508732617 test loss: 1.3881434202194214\n",
      "Epoch 699 train loss: 0.38633005376905205 test loss: 1.2722556591033936\n",
      "Epoch 700 train loss: 0.3470405268482864 test loss: 1.2705179452896118\n",
      "Epoch 701 train loss: 0.3994543567299843 test loss: 1.035808801651001\n",
      "Epoch 702 train loss: 0.3158706028945744 test loss: 1.3183637857437134\n",
      "Epoch 703 train loss: 0.38041432602331043 test loss: 1.357529878616333\n",
      "Epoch 704 train loss: 0.3351636689156294 test loss: 1.7656822204589844\n",
      "Epoch 705 train loss: 0.41654554521664977 test loss: 1.0503519773483276\n",
      "Epoch 706 train loss: 0.3716710083186626 test loss: 1.0565510988235474\n",
      "Epoch 707 train loss: 0.38297270084731283 test loss: 0.9184550046920776\n",
      "Epoch 708 train loss: 0.4258240211755037 test loss: 1.190083384513855\n",
      "Epoch 709 train loss: 0.37744521209970117 test loss: 1.4998985528945923\n",
      "Epoch 710 train loss: 0.33249829774722456 test loss: 1.2032525539398193\n",
      "Epoch 711 train loss: 0.38484561326913536 test loss: 1.6004060506820679\n",
      "Epoch 712 train loss: 0.3551268924959004 test loss: 1.3841304779052734\n",
      "Epoch 713 train loss: 0.4712358887773007 test loss: 1.3376504182815552\n",
      "Epoch 714 train loss: 0.4226090582087636 test loss: 1.3134140968322754\n",
      "Epoch 715 train loss: 0.35777595015242697 test loss: 1.2163889408111572\n",
      "Epoch 716 train loss: 0.3715968605130911 test loss: 0.9456148743629456\n",
      "Epoch 717 train loss: 0.43712992388755084 test loss: 1.0588549375534058\n",
      "Epoch 718 train loss: 0.40018230583518744 test loss: 1.3810781240463257\n",
      "Epoch 719 train loss: 0.37459729574620726 test loss: 0.6969165802001953\n",
      "Epoch 720 train loss: 0.3564048629254103 test loss: 1.3330351114273071\n",
      "Epoch 721 train loss: 0.36356898546218874 test loss: 1.3510433435440063\n",
      "Epoch 722 train loss: 0.4438105500303209 test loss: 1.5171326398849487\n",
      "Epoch 723 train loss: 0.3905896857380867 test loss: 1.7029531002044678\n",
      "Epoch 724 train loss: 0.42166192680597303 test loss: 1.1362872123718262\n",
      "Epoch 725 train loss: 0.40694630313664676 test loss: 1.3375283479690552\n",
      "Epoch 726 train loss: 0.4020950430072844 test loss: 1.1358529329299927\n",
      "Epoch 727 train loss: 0.3931734855286777 test loss: 0.8971384167671204\n",
      "Epoch 728 train loss: 0.3146147516556084 test loss: 1.6160104274749756\n",
      "Epoch 729 train loss: 0.35598777001723647 test loss: 1.3762693405151367\n",
      "Epoch 730 train loss: 0.4028347048908472 test loss: 1.3343626260757446\n",
      "Epoch 731 train loss: 0.3509932030923665 test loss: 1.1621774435043335\n",
      "Epoch 732 train loss: 0.4055688170716166 test loss: 0.8151979446411133\n",
      "Epoch 733 train loss: 0.3611938552930951 test loss: 1.713876724243164\n",
      "Epoch 734 train loss: 0.4066634427756071 test loss: 0.9080157279968262\n",
      "Epoch 735 train loss: 0.35824738126248123 test loss: 0.8283017873764038\n",
      "Epoch 736 train loss: 0.378055977076292 test loss: 1.005497694015503\n",
      "Epoch 737 train loss: 0.4273477124981582 test loss: 1.0478794574737549\n",
      "Epoch 738 train loss: 0.39234242029488087 test loss: 1.4071451425552368\n",
      "Epoch 739 train loss: 0.4038135171867907 test loss: 1.4129753112792969\n",
      "Epoch 740 train loss: 0.3856485255993903 test loss: 1.0709965229034424\n",
      "Epoch 741 train loss: 0.3823418165091425 test loss: 1.924584984779358\n",
      "Epoch 742 train loss: 0.40240609357133506 test loss: 1.8978933095932007\n",
      "Epoch 743 train loss: 0.42404302693903445 test loss: 1.2165385484695435\n",
      "Epoch 744 train loss: 0.39133403189480304 test loss: 1.390398383140564\n",
      "Epoch 745 train loss: 0.3834706084802747 test loss: 1.1403474807739258\n",
      "Epoch 746 train loss: 0.3628860477358103 test loss: 1.5821478366851807\n",
      "Epoch 747 train loss: 0.38059954522177575 test loss: 0.9073446393013\n",
      "Epoch 748 train loss: 0.29464413607493045 test loss: 1.238257646560669\n",
      "Epoch 749 train loss: 0.40351193603128194 test loss: 1.1531047821044922\n",
      "Epoch 750 train loss: 0.4093296288512647 test loss: 1.1778736114501953\n",
      "Epoch 751 train loss: 0.44566789586097 test loss: 1.3830182552337646\n",
      "Epoch 752 train loss: 0.45092763947322967 test loss: 0.9773735404014587\n",
      "Epoch 753 train loss: 0.33222140185534954 test loss: 1.1238017082214355\n",
      "Epoch 754 train loss: 0.42833574395626783 test loss: 1.5513638257980347\n",
      "Epoch 755 train loss: 0.38275709906592964 test loss: 0.8245564699172974\n",
      "Epoch 756 train loss: 0.2885913511738181 test loss: 1.0425724983215332\n",
      "Epoch 757 train loss: 0.4255831979215145 test loss: 1.2472323179244995\n",
      "Epoch 758 train loss: 0.4691350791603327 test loss: 1.2185707092285156\n",
      "Epoch 759 train loss: 0.3408806221559644 test loss: 0.9714264869689941\n",
      "Epoch 760 train loss: 0.3772109950892627 test loss: 1.454467535018921\n",
      "Epoch 761 train loss: 0.3629348907619715 test loss: 0.8833040595054626\n",
      "Epoch 762 train loss: 0.4113693600986153 test loss: 1.0348267555236816\n",
      "Epoch 763 train loss: 0.36504255193285645 test loss: 1.1634944677352905\n",
      "Epoch 764 train loss: 0.44643018674105406 test loss: 1.1670156717300415\n",
      "Epoch 765 train loss: 0.3678900900296867 test loss: 1.1326868534088135\n",
      "Epoch 766 train loss: 0.38886362304911015 test loss: 1.3210991621017456\n",
      "Epoch 767 train loss: 0.3678957815282047 test loss: 1.113970160484314\n",
      "Epoch 768 train loss: 0.41095072785392406 test loss: 1.2147995233535767\n",
      "Epoch 769 train loss: 0.4485290313139558 test loss: 1.1909123659133911\n",
      "Epoch 770 train loss: 0.392326642293483 test loss: 1.317510724067688\n",
      "Epoch 771 train loss: 0.45550868902355435 test loss: 1.0246052742004395\n",
      "Epoch 772 train loss: 0.34476427752524613 test loss: 1.4797475337982178\n",
      "Epoch 773 train loss: 0.3540465201251209 test loss: 0.965186357498169\n",
      "Epoch 774 train loss: 0.44590483284555377 test loss: 1.519808053970337\n",
      "Epoch 775 train loss: 0.39729620767757295 test loss: 1.5569977760314941\n",
      "Epoch 776 train loss: 0.4179734161123633 test loss: 1.0922707319259644\n",
      "Epoch 777 train loss: 0.35383102893829343 test loss: 0.958106279373169\n",
      "Epoch 778 train loss: 0.4202232947573066 test loss: 1.1910498142242432\n",
      "Epoch 779 train loss: 0.3780798019841313 test loss: 1.7589080333709717\n",
      "Epoch 780 train loss: 0.41009611552581193 test loss: 0.973521888256073\n",
      "Epoch 781 train loss: 0.40410353979095814 test loss: 1.1394847631454468\n",
      "Epoch 782 train loss: 0.3774419286288321 test loss: 1.6256487369537354\n",
      "Epoch 783 train loss: 0.4563757324591279 test loss: 1.68681001663208\n",
      "Epoch 784 train loss: 0.37138462597504257 test loss: 1.645609736442566\n",
      "Epoch 785 train loss: 0.4596869842149317 test loss: 1.2659043073654175\n",
      "Epoch 786 train loss: 0.3681170661468059 test loss: 1.1926958560943604\n",
      "Epoch 787 train loss: 0.33043530974537133 test loss: 1.484168529510498\n",
      "Epoch 788 train loss: 0.3477735840715468 test loss: 1.5299395322799683\n",
      "Epoch 789 train loss: 0.3677115270867944 test loss: 1.157923698425293\n",
      "Epoch 790 train loss: 0.43690356658771634 test loss: 1.9033422470092773\n",
      "Epoch 791 train loss: 0.3657506139948964 test loss: 1.5614030361175537\n",
      "Epoch 792 train loss: 0.3373092707246542 test loss: 1.7206923961639404\n",
      "Epoch 793 train loss: 0.41000577341765165 test loss: 1.1007392406463623\n",
      "Epoch 794 train loss: 0.37637785747647284 test loss: 1.0244518518447876\n",
      "Epoch 795 train loss: 0.3409146149177104 test loss: 1.106112003326416\n",
      "Epoch 796 train loss: 0.40535110495984555 test loss: 2.0852649211883545\n",
      "Epoch 797 train loss: 0.3686785642057657 test loss: 0.982750654220581\n",
      "Epoch 798 train loss: 0.34996259659528733 test loss: 1.062081217765808\n",
      "Epoch 799 train loss: 0.42712406078353526 test loss: 1.3509273529052734\n",
      "Epoch 800 train loss: 0.3856106330640614 test loss: 1.1292673349380493\n",
      "Epoch 801 train loss: 0.3855929526500404 test loss: 0.8798667192459106\n",
      "Epoch 802 train loss: 0.32250159410759804 test loss: 1.9187935590744019\n",
      "Epoch 803 train loss: 0.3893047754652798 test loss: 1.2230876684188843\n",
      "Epoch 804 train loss: 0.381206381553784 test loss: 1.2024770975112915\n",
      "Epoch 805 train loss: 0.34870690731331705 test loss: 1.0469372272491455\n",
      "Epoch 806 train loss: 0.369298451859504 test loss: 1.809788703918457\n",
      "Epoch 807 train loss: 0.43845743872225285 test loss: 1.9417691230773926\n",
      "Epoch 808 train loss: 0.41794075947254894 test loss: 1.2491306066513062\n",
      "Epoch 809 train loss: 0.5014084862545133 test loss: 1.4838496446609497\n",
      "Epoch 810 train loss: 0.47238762956112623 test loss: 1.3300076723098755\n",
      "Epoch 811 train loss: 0.4106605330016464 test loss: 1.474567174911499\n",
      "Epoch 812 train loss: 0.43945267898961904 test loss: 1.2230404615402222\n",
      "Epoch 813 train loss: 0.32913091853260995 test loss: 1.1673414707183838\n",
      "Epoch 814 train loss: 0.3737375257536769 test loss: 1.2318081855773926\n",
      "Epoch 815 train loss: 0.3525870067067444 test loss: 1.320265769958496\n",
      "Epoch 816 train loss: 0.35737534109503033 test loss: 1.4677391052246094\n",
      "Epoch 817 train loss: 0.36697475630789994 test loss: 1.3795310258865356\n",
      "Epoch 818 train loss: 0.3694505219347775 test loss: 1.1938976049423218\n",
      "Epoch 819 train loss: 0.3849234487861395 test loss: 1.2476671934127808\n",
      "Epoch 820 train loss: 0.4573926183395088 test loss: 1.1150779724121094\n",
      "Epoch 821 train loss: 0.38715979023836555 test loss: 1.15225088596344\n",
      "Epoch 822 train loss: 0.3430420243181288 test loss: 1.2816046476364136\n",
      "Epoch 823 train loss: 0.3479486151598394 test loss: 1.4504711627960205\n",
      "Epoch 824 train loss: 0.3297629079781473 test loss: 1.0237908363342285\n",
      "Epoch 825 train loss: 0.3208409626036882 test loss: 1.868749976158142\n",
      "Epoch 826 train loss: 0.4121371355140582 test loss: 1.191494345664978\n",
      "Epoch 827 train loss: 0.40313820354640484 test loss: 1.0857449769973755\n",
      "Epoch 828 train loss: 0.34297285731881855 test loss: 1.5487982034683228\n",
      "Epoch 829 train loss: 0.33515329882502554 test loss: 1.2001837491989136\n",
      "Epoch 830 train loss: 0.4614719221834093 test loss: 1.0212715864181519\n",
      "Epoch 831 train loss: 0.40108740255236625 test loss: 1.204333782196045\n",
      "Epoch 832 train loss: 0.4300411642761901 test loss: 1.0236374139785767\n",
      "Epoch 833 train loss: 0.3827026431448758 test loss: 1.4119737148284912\n",
      "Epoch 834 train loss: 0.4445531802251935 test loss: 0.958724856376648\n",
      "Epoch 835 train loss: 0.40348322615027427 test loss: 1.4557477235794067\n",
      "Epoch 836 train loss: 0.3516280300915241 test loss: 1.4696122407913208\n",
      "Epoch 837 train loss: 0.30964453164488076 test loss: 1.3494303226470947\n",
      "Epoch 838 train loss: 0.4498134094290435 test loss: 1.6116652488708496\n",
      "Epoch 839 train loss: 0.39724654220044614 test loss: 1.3130779266357422\n",
      "Epoch 840 train loss: 0.46798492381349205 test loss: 1.6006641387939453\n",
      "Epoch 841 train loss: 0.26920316033065317 test loss: 1.3870763778686523\n",
      "Epoch 842 train loss: 0.36372901909053323 test loss: 1.1154028177261353\n",
      "Epoch 843 train loss: 0.3431454343721271 test loss: 1.4952952861785889\n",
      "Epoch 844 train loss: 0.3181505687534809 test loss: 1.0743021965026855\n",
      "Epoch 845 train loss: 0.37722722021862864 test loss: 1.31636381149292\n",
      "Epoch 846 train loss: 0.37775451233610513 test loss: 1.259844183921814\n",
      "Epoch 847 train loss: 0.38724236004054546 test loss: 0.9994571805000305\n",
      "Epoch 848 train loss: 0.43635062691755594 test loss: 1.5134892463684082\n",
      "Epoch 849 train loss: 0.37776034029666333 test loss: 1.2267124652862549\n",
      "Epoch 850 train loss: 0.35450938269495963 test loss: 1.7247720956802368\n",
      "Epoch 851 train loss: 0.4317573396489024 test loss: 1.422655701637268\n",
      "Epoch 852 train loss: 0.38264307100325823 test loss: 1.3531571626663208\n",
      "Epoch 853 train loss: 0.340316360630095 test loss: 1.973296046257019\n",
      "Epoch 854 train loss: 0.386570600559935 test loss: 1.1177761554718018\n",
      "Epoch 855 train loss: 0.3031091167591512 test loss: 0.7585436701774597\n",
      "Epoch 856 train loss: 0.37304524520877747 test loss: 1.4132963418960571\n",
      "Epoch 857 train loss: 0.34401361206546427 test loss: 1.6255676746368408\n",
      "Epoch 858 train loss: 0.32486418560147284 test loss: 1.8890645503997803\n",
      "Epoch 859 train loss: 0.3509388782083988 test loss: 1.9693533182144165\n",
      "Epoch 860 train loss: 0.3957242882810533 test loss: 1.5105695724487305\n",
      "Epoch 861 train loss: 0.3303834207355976 test loss: 1.0748753547668457\n",
      "Epoch 862 train loss: 0.36712374184280633 test loss: 1.3419201374053955\n",
      "Epoch 863 train loss: 0.3946861209347844 test loss: 2.057567596435547\n",
      "Epoch 864 train loss: 0.3964053909294307 test loss: 1.518807291984558\n",
      "Epoch 865 train loss: 0.3696451857686043 test loss: 1.6638574600219727\n",
      "Epoch 866 train loss: 0.4353890858590603 test loss: 1.3640674352645874\n",
      "Epoch 867 train loss: 0.46344000194221735 test loss: 1.1656757593154907\n",
      "Epoch 868 train loss: 0.3735827267169952 test loss: 0.926038384437561\n",
      "Epoch 869 train loss: 0.40867540016770365 test loss: 1.1739180088043213\n",
      "Epoch 870 train loss: 0.45332215037196877 test loss: 1.0687862634658813\n",
      "Epoch 871 train loss: 0.33116806601174176 test loss: 1.444104790687561\n",
      "Epoch 872 train loss: 0.4237414952367544 test loss: 1.2009810209274292\n",
      "Epoch 873 train loss: 0.40439573186449707 test loss: 1.1322717666625977\n",
      "Epoch 874 train loss: 0.3432262294925749 test loss: 1.0379315614700317\n",
      "Epoch 875 train loss: 0.33232904532924296 test loss: 1.2634700536727905\n",
      "Epoch 876 train loss: 0.40387514177709816 test loss: 1.9573793411254883\n",
      "Epoch 877 train loss: 0.41874827407300474 test loss: 1.5100438594818115\n",
      "Epoch 878 train loss: 0.39605827471241356 test loss: 1.5123639106750488\n",
      "Epoch 879 train loss: 0.35805753590539097 test loss: 0.9905351996421814\n",
      "Epoch 880 train loss: 0.38911969354376197 test loss: 1.1996639966964722\n",
      "Epoch 881 train loss: 0.3793906970880926 test loss: 1.505358338356018\n",
      "Epoch 882 train loss: 0.3416660694405437 test loss: 1.1693217754364014\n",
      "Epoch 883 train loss: 0.34652422163635493 test loss: 0.9890844225883484\n",
      "Epoch 884 train loss: 0.3741404127795249 test loss: 1.3037230968475342\n",
      "Epoch 885 train loss: 0.4573473704047501 test loss: 1.7805416584014893\n",
      "Epoch 886 train loss: 0.33798872428014876 test loss: 1.384379267692566\n",
      "Epoch 887 train loss: 0.34659749940037726 test loss: 1.4662373065948486\n",
      "Epoch 888 train loss: 0.4950784012209624 test loss: 1.023937463760376\n",
      "Epoch 889 train loss: 0.4318200580775738 test loss: 1.1695553064346313\n",
      "Epoch 890 train loss: 0.3691262102685869 test loss: 2.1248998641967773\n",
      "Epoch 891 train loss: 0.39068382550030945 test loss: 1.314676284790039\n",
      "Epoch 892 train loss: 0.3767381364479661 test loss: 1.1470232009887695\n",
      "Epoch 893 train loss: 0.3129996731877327 test loss: 1.1182376146316528\n",
      "Epoch 894 train loss: 0.338246501237154 test loss: 0.9338101148605347\n",
      "Epoch 895 train loss: 0.38985767494887114 test loss: 1.404638409614563\n",
      "Epoch 896 train loss: 0.44127472313120963 test loss: 1.6657841205596924\n",
      "Epoch 897 train loss: 0.401196089759469 test loss: 1.3144358396530151\n",
      "Epoch 898 train loss: 0.4064111794345081 test loss: 1.6966156959533691\n",
      "Epoch 899 train loss: 0.4112020360073075 test loss: 0.9779505133628845\n",
      "Epoch 900 train loss: 0.4097810072824359 test loss: 1.107576847076416\n",
      "Epoch 901 train loss: 0.42277354379184545 test loss: 1.5310674905776978\n",
      "Epoch 902 train loss: 0.36241060551255944 test loss: 1.2152328491210938\n",
      "Epoch 903 train loss: 0.3126680152490735 test loss: 1.2330256700515747\n",
      "Epoch 904 train loss: 0.33596313213929535 test loss: 1.3696216344833374\n",
      "Epoch 905 train loss: 0.40454516829922793 test loss: 1.3779475688934326\n",
      "Epoch 906 train loss: 0.38913437305018306 test loss: 1.1356648206710815\n",
      "Epoch 907 train loss: 0.37751710023730994 test loss: 1.7016466856002808\n",
      "Epoch 908 train loss: 0.3294612166471779 test loss: 1.2998801469802856\n",
      "Epoch 909 train loss: 0.3409148377366364 test loss: 0.9512102007865906\n",
      "Epoch 910 train loss: 0.3327711069490761 test loss: 1.8877105712890625\n",
      "Epoch 911 train loss: 0.3834029853343964 test loss: 0.9487969875335693\n",
      "Epoch 912 train loss: 0.3441287349909544 test loss: 1.2210742235183716\n",
      "Epoch 913 train loss: 0.3820562307722867 test loss: 0.9099988341331482\n",
      "Epoch 914 train loss: 0.336245596036315 test loss: 1.2992385625839233\n",
      "Epoch 915 train loss: 0.36738794948905706 test loss: 1.132387399673462\n",
      "Epoch 916 train loss: 0.3972585825249553 test loss: 1.4254426956176758\n",
      "Epoch 917 train loss: 0.33959969524294137 test loss: 0.9031788110733032\n",
      "Epoch 918 train loss: 0.3964120318181813 test loss: 1.2219202518463135\n",
      "Epoch 919 train loss: 0.3999705565162003 test loss: 1.1393431425094604\n",
      "Epoch 920 train loss: 0.3922116364352405 test loss: 1.2595999240875244\n",
      "Epoch 921 train loss: 0.3581231330521405 test loss: 1.3322478532791138\n",
      "Epoch 922 train loss: 0.3858085143379867 test loss: 0.9371786117553711\n",
      "Epoch 923 train loss: 0.3439487415133044 test loss: 1.6969988346099854\n",
      "Epoch 924 train loss: 0.3825615106150508 test loss: 1.3137152194976807\n",
      "Epoch 925 train loss: 0.417789002135396 test loss: 1.2936997413635254\n",
      "Epoch 926 train loss: 0.39599582348018886 test loss: 1.5218639373779297\n",
      "Epoch 927 train loss: 0.45208572065457703 test loss: 1.1794028282165527\n",
      "Epoch 928 train loss: 0.33187847095541656 test loss: 0.9913809299468994\n",
      "Epoch 929 train loss: 0.35830889996141196 test loss: 1.1944655179977417\n",
      "Epoch 930 train loss: 0.2933533386327326 test loss: 1.2887879610061646\n",
      "Epoch 931 train loss: 0.4409996226429939 test loss: 1.1654813289642334\n",
      "Epoch 932 train loss: 0.3943351867608726 test loss: 1.3362945318222046\n",
      "Epoch 933 train loss: 0.3396540907677263 test loss: 1.4985809326171875\n",
      "Epoch 934 train loss: 0.40499674146994946 test loss: 1.055943489074707\n",
      "Epoch 935 train loss: 0.364779641572386 test loss: 1.409331202507019\n",
      "Epoch 936 train loss: 0.304081111215055 test loss: 1.3183764219284058\n",
      "Epoch 937 train loss: 0.3031465996056795 test loss: 1.0678762197494507\n",
      "Epoch 938 train loss: 0.31470612697303296 test loss: 0.9576879739761353\n",
      "Epoch 939 train loss: 0.43569982987828554 test loss: 0.9035409092903137\n",
      "Epoch 940 train loss: 0.44978841952979565 test loss: 1.4706827402114868\n",
      "Epoch 941 train loss: 0.3934229426085949 test loss: 1.2741570472717285\n",
      "Epoch 942 train loss: 0.3697225462645292 test loss: 1.2565199136734009\n",
      "Epoch 943 train loss: 0.3907367325387895 test loss: 1.428268551826477\n",
      "Epoch 944 train loss: 0.3756292304955423 test loss: 1.4783225059509277\n",
      "Epoch 945 train loss: 0.37474238630384205 test loss: 1.1659824848175049\n",
      "Epoch 946 train loss: 0.3509904553182423 test loss: 1.0982863903045654\n",
      "Epoch 947 train loss: 0.32104111211374403 test loss: 1.7021820545196533\n",
      "Epoch 948 train loss: 0.3380426220595837 test loss: 0.8504738807678223\n",
      "Epoch 949 train loss: 0.3709867407567799 test loss: 0.8800702691078186\n",
      "Epoch 950 train loss: 0.3714416829869151 test loss: 0.960841953754425\n",
      "Epoch 951 train loss: 0.3537415388040245 test loss: 1.0399484634399414\n",
      "Epoch 952 train loss: 0.4111681369133294 test loss: 1.415131688117981\n",
      "Epoch 953 train loss: 0.4594651449471712 test loss: 1.5254878997802734\n",
      "Epoch 954 train loss: 0.4110667871311307 test loss: 1.3283288478851318\n",
      "Epoch 955 train loss: 0.33855416076257827 test loss: 1.0459333658218384\n",
      "Epoch 956 train loss: 0.38762633157894016 test loss: 1.15132737159729\n",
      "Epoch 957 train loss: 0.3598139120731503 test loss: 1.1804207563400269\n",
      "Epoch 958 train loss: 0.3755581108853221 test loss: 1.189254879951477\n",
      "Epoch 959 train loss: 0.4272813539020717 test loss: 0.8760092854499817\n",
      "Epoch 960 train loss: 0.3740290904417634 test loss: 1.439884901046753\n",
      "Epoch 961 train loss: 0.36754064382985235 test loss: 1.3756687641143799\n",
      "Epoch 962 train loss: 0.27937364019453526 test loss: 1.5534950494766235\n",
      "Epoch 963 train loss: 0.3331178978085518 test loss: 1.148087739944458\n",
      "Epoch 964 train loss: 0.377565776463598 test loss: 1.1483055353164673\n",
      "Epoch 965 train loss: 0.396668067201972 test loss: 1.224647045135498\n",
      "Epoch 966 train loss: 0.3759824111126363 test loss: 1.1200294494628906\n",
      "Epoch 967 train loss: 0.45449902885593474 test loss: 1.2394417524337769\n",
      "Epoch 968 train loss: 0.3981846277602017 test loss: 1.234113335609436\n",
      "Epoch 969 train loss: 0.36052674520760775 test loss: 0.9227561354637146\n",
      "Epoch 970 train loss: 0.39017877615988256 test loss: 1.6143879890441895\n",
      "Epoch 971 train loss: 0.4158764923457056 test loss: 1.4268691539764404\n",
      "Epoch 972 train loss: 0.3506547393277287 test loss: 1.2833607196807861\n",
      "Epoch 973 train loss: 0.43401961363852026 test loss: 1.362528920173645\n",
      "Epoch 974 train loss: 0.4421607677359134 test loss: 1.3522411584854126\n",
      "Epoch 975 train loss: 0.3740486303344369 test loss: 1.332273006439209\n",
      "Epoch 976 train loss: 0.43350568497553466 test loss: 1.493941068649292\n",
      "Epoch 977 train loss: 0.2996521765366197 test loss: 1.2061553001403809\n",
      "Epoch 978 train loss: 0.40947271026670934 test loss: 1.1352194547653198\n",
      "Epoch 979 train loss: 0.3943637743592262 test loss: 1.3263628482818604\n",
      "Epoch 980 train loss: 0.31943994858302177 test loss: 1.2503505945205688\n",
      "Epoch 981 train loss: 0.3812147142365575 test loss: 1.5119588375091553\n",
      "Epoch 982 train loss: 0.3885005953721702 test loss: 1.6474275588989258\n",
      "Epoch 983 train loss: 0.32739382875151934 test loss: 1.5282950401306152\n",
      "Epoch 984 train loss: 0.34251791015267374 test loss: 0.933978259563446\n",
      "Epoch 985 train loss: 0.2775389119051397 test loss: 1.3709659576416016\n",
      "Epoch 986 train loss: 0.3752918059006333 test loss: 1.0697822570800781\n",
      "Epoch 987 train loss: 0.37360684578306974 test loss: 1.1771947145462036\n",
      "Epoch 988 train loss: 0.3500977269373834 test loss: 1.251968264579773\n",
      "Epoch 989 train loss: 0.3482930677011609 test loss: 1.5893120765686035\n",
      "Epoch 990 train loss: 0.39995913254097104 test loss: 2.143716335296631\n",
      "Epoch 991 train loss: 0.40250558238476514 test loss: 1.2117913961410522\n",
      "Epoch 992 train loss: 0.37981614014133813 test loss: 1.074939250946045\n",
      "Epoch 993 train loss: 0.38825088338926433 test loss: 1.394425392150879\n",
      "Epoch 994 train loss: 0.413696997333318 test loss: 1.2861523628234863\n",
      "Epoch 995 train loss: 0.43473167549818753 test loss: 0.8542067408561707\n",
      "Epoch 996 train loss: 0.3454148156568408 test loss: 1.0164989233016968\n",
      "Epoch 997 train loss: 0.4106004382483661 test loss: 1.042028784751892\n",
      "Epoch 998 train loss: 0.36117794951424004 test loss: 1.3104844093322754\n",
      "Epoch 999 train loss: 0.3381230101920664 test loss: 1.0841959714889526\n"
     ]
    }
   ],
   "source": [
    "best_valid_loss = float('inf')\n",
    "loss_train = []\n",
    "loss_test= []\n",
    "for i, model in enumerate(models):\n",
    "    print(f\"Training {type(model).__name__}\")\n",
    "    \n",
    "    #start_time = time.time()\n",
    "\n",
    "    for epoch in range(N_EPOCHS):\n",
    "        #start_time = time.time()\n",
    "        loss  = train(model, train_iterator, optimizer, criterion) \n",
    "        test_loss = test(model, test_iterator, optimizer, criterion)\n",
    "        print(f'Epoch {epoch} train loss: {loss} test loss: {test_loss}') \n",
    "        loss_train.append(loss)\n",
    "        loss_test.append(test_loss)\n",
    "        \n",
    "        # if epoch % 50 == 0:\n",
    "        #     clear_output(wait=True)\n",
    "            \n",
    "        # if test_loss  < best_valid_loss:\n",
    "        #         best_valid_loss = test_loss\n",
    "        #         torch.save(model.state_dict(), f'./drive/Shareddrives/BI&A/Prediction_Code/models/TCN/{name}.pt')"
   ]
  },
  {
   "cell_type": "code",
   "execution_count": 50,
   "id": "72a1cc4c-8aa1-4d0e-8519-bee36c293b40",
   "metadata": {
    "executionInfo": {
     "elapsed": 57917,
     "status": "aborted",
     "timestamp": 1619509212338,
     "user": {
      "displayName": "Sitiporn Saelim",
      "photoUrl": "",
      "userId": "04392232392828254116"
     },
     "user_tz": -420
    },
    "id": "72a1cc4c-8aa1-4d0e-8519-bee36c293b40"
   },
   "outputs": [
    {
     "data": {
      "text/plain": [
       "<matplotlib.legend.Legend at 0x7fb2007f4278>"
      ]
     },
     "execution_count": 50,
     "metadata": {},
     "output_type": "execute_result"
    },
    {
     "data": {
      "image/png": "[encoded data removed]",
      "text/plain": [
       "<matplotlib.figure.Figure at 0x7fb208011e48>"
      ]
     },
     "metadata": {
      "needs_background": "light"
     },
     "output_type": "display_data"
    }
   ],
   "source": [
    "plt.figure(figsize=(30, 10))\n",
    "plt.plot(loss_train)\n",
    "plt.plot(loss_test)\n",
    "plt.legend(['loss_train','loss_test'])"
   ]
  },
  {
   "cell_type": "markdown",
   "id": "o10jSvM5Nh-r",
   "metadata": {
    "id": "o10jSvM5Nh-r"
   },
   "source": [
    "# Predicted daily case"
   ]
  },
  {
   "cell_type": "code",
   "execution_count": 51,
   "id": "25078c02-a8be-4f1e-a706-2ec7cd3c8a27",
   "metadata": {
    "executionInfo": {
     "elapsed": 57915,
     "status": "aborted",
     "timestamp": 1619509212340,
     "user": {
      "displayName": "Sitiporn Saelim",
      "photoUrl": "",
      "userId": "04392232392828254116"
     },
     "user_tz": -420
    },
    "id": "25078c02-a8be-4f1e-a706-2ec7cd3c8a27"
   },
   "outputs": [
    {
     "name": "stderr",
     "output_type": "stream",
     "text": [
      "/usr/local/lib/python3.6/dist-packages/torch/nn/modules/loss.py:528: UserWarning: Using a target size (torch.Size([1])) that is different to the input size (torch.Size([1, 1])). This will likely lead to incorrect results due to broadcasting. Please ensure they have the same size.\n",
      "  return F.mse_loss(input, target, reduction=self.reduction)\n"
     ]
    }
   ],
   "source": [
    "with torch.no_grad():\n",
    "  test_seq = X_test[:1]\n",
    "  preds = []\n",
    "  test_losses = []\n",
    "  for i in range(len(X_test)):\n",
    "    y_test_pred = model(test_seq.to(device))\n",
    "    test_loss = criterion(y_test_pred.float(), y_test[i].to(device))\n",
    "    test_losses.append(test_loss.item())\n",
    "    pred = torch.flatten(y_test_pred).item()\n",
    "    preds.append(pred)\n",
    "    new_seq = test_seq.cpu().numpy().flatten()\n",
    "    new_seq = np.append(new_seq, [pred])\n",
    "    new_seq = new_seq[1:]\n",
    "    test_seq = torch.as_tensor(new_seq).view(1, 1, seq_length).float()"
   ]
  },
  {
   "cell_type": "code",
   "execution_count": 52,
   "id": "38ebdf50-f85d-4aac-844d-7c073681c1bf",
   "metadata": {
    "executionInfo": {
     "elapsed": 57914,
     "status": "aborted",
     "timestamp": 1619509212341,
     "user": {
      "displayName": "Sitiporn Saelim",
      "photoUrl": "",
      "userId": "04392232392828254116"
     },
     "user_tz": -420
    },
    "id": "38ebdf50-f85d-4aac-844d-7c073681c1bf"
   },
   "outputs": [],
   "source": [
    "true_cases = scaler.inverse_transform(\n",
    "    np.expand_dims(y_test.cpu().flatten().numpy(), axis=0)\n",
    ").flatten()\n",
    "\n",
    "test_case = scaler.inverse_transform(test_data).flatten()\n",
    "\n",
    "predicted_cases = scaler.inverse_transform(\n",
    "  np.expand_dims(preds, axis=0)\n",
    ").flatten()"
   ]
  },
  {
   "cell_type": "code",
   "execution_count": 53,
   "id": "2dc939c0-2540-4c7d-8534-6568449693df",
   "metadata": {
    "executionInfo": {
     "elapsed": 57908,
     "status": "aborted",
     "timestamp": 1619509212341,
     "user": {
      "displayName": "Sitiporn Saelim",
      "photoUrl": "",
      "userId": "04392232392828254116"
     },
     "user_tz": -420
    },
    "id": "2dc939c0-2540-4c7d-8534-6568449693df"
   },
   "outputs": [
    {
     "name": "stderr",
     "output_type": "stream",
     "text": [
      "/usr/lib/python3/dist-packages/matplotlib/cbook/__init__.py:2019: FutureWarning: Support for multi-dimensional indexing (e.g. `obj[:, None]`) is deprecated and will be removed in a future version.  Convert to a numpy array before indexing instead.\n",
      "  x[:, None]\n",
      "/usr/lib/python3/dist-packages/matplotlib/axes/_base.py:249: FutureWarning: Support for multi-dimensional indexing (e.g. `obj[:, None]`) is deprecated and will be removed in a future version.  Convert to a numpy array before indexing instead.\n",
      "  x = x[:, np.newaxis]\n"
     ]
    },
    {
     "data": {
      "image/png": "[encoded data removed]",
      "text/plain": [
       "<matplotlib.figure.Figure at 0x7fb208bed208>"
      ]
     },
     "metadata": {
      "needs_background": "light"
     },
     "output_type": "display_data"
    }
   ],
   "source": [
    "plt.figure(figsize=(20,10))\n",
    "plt.title(f\"Daily cases :{STATE}\\nmodel:{name}\")\n",
    "plt.plot(\n",
    "  df_clean.index[:len(train_data)], \n",
    "  scaler.inverse_transform(train_data).flatten(),\n",
    "  label='Historical Daily Cases'\n",
    ")\n",
    "\n",
    "plt.plot(\n",
    "  df_clean.index[len(train_data):len(train_data)+len(test_data)], \n",
    "  test_case,\n",
    "  label='Real Daily Cases'\n",
    ")\n",
    "\n",
    "# plt.plot(\n",
    "#   df_clean.index[len(train_data):len(train_data)+len(test_data)], \n",
    "#   test_data,\n",
    "#   label='Scale Daily Cases'\n",
    "# )\n",
    "\n",
    "plt.plot(\n",
    "  df_clean.index[len(train_data)+seq_length+1:len(train_data)+len(test_data)], \n",
    "  predicted_cases, \n",
    "  label='Predicted Daily Cases'\n",
    ")\n",
    "\n",
    "# plt.plot(\n",
    "#   df_clean.index[len(train_data)+seq_length+1:len(train_data)+len(test_data)], \n",
    "#   (np.asarray(preds)), \n",
    "#   label='Original Predicted Daily Cases'\n",
    "# )\n",
    "\n",
    "plt.legend();"
   ]
  },
  {
   "cell_type": "code",
   "execution_count": null,
   "id": "7QUg2uOaANja",
   "metadata": {
    "executionInfo": {
     "elapsed": 57908,
     "status": "aborted",
     "timestamp": 1619509212343,
     "user": {
      "displayName": "Sitiporn Saelim",
      "photoUrl": "",
      "userId": "04392232392828254116"
     },
     "user_tz": -420
    },
    "id": "7QUg2uOaANja"
   },
   "outputs": [],
   "source": []
  }
 ],
 "metadata": {
  "accelerator": "GPU",
  "colab": {
   "name": "2.2_TCN_California.ipynb",
   "provenance": []
  },
  "kernelspec": {
   "display_name": "Python 3",
   "language": "python",
   "name": "python3"
  },
  "language_info": {
   "codemirror_mode": {
    "name": "ipython",
    "version": 3
   },
   "file_extension": ".py",
   "mimetype": "text/x-python",
   "name": "python",
   "nbconvert_exporter": "python",
   "pygments_lexer": "ipython3",
   "version": "3.6.9"
  }
 },
 "nbformat": 4,
 "nbformat_minor": 5
}
