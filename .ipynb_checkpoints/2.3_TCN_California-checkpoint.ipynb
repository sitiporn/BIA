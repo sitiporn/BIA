{
 "cells": [
  {
   "cell_type": "code",
   "execution_count": 1,
   "id": "ZymfhJQ_63Lj",
   "metadata": {
    "colab": {
     "base_uri": "https://localhost:8080/"
    },
    "executionInfo": {
     "elapsed": 33083,
     "status": "ok",
     "timestamp": 1619509187255,
     "user": {
      "displayName": "Sitiporn Saelim",
      "photoUrl": "",
      "userId": "04392232392828254116"
     },
     "user_tz": -420
    },
    "id": "ZymfhJQ_63Lj",
    "outputId": "10bc1c00-f2bc-4f1b-f4a8-2fd51e72d47f"
   },
   "outputs": [],
   "source": [
    "# from google.colab import drive\n",
    "# drive.mount('/content/drive')"
   ]
  },
  {
   "cell_type": "code",
   "execution_count": 2,
   "id": "96b5819f-e8ac-4c3c-9c28-93afb6ac738f",
   "metadata": {
    "executionInfo": {
     "elapsed": 37627,
     "status": "ok",
     "timestamp": 1619509191805,
     "user": {
      "displayName": "Sitiporn Saelim",
      "photoUrl": "",
      "userId": "04392232392828254116"
     },
     "user_tz": -420
    },
    "id": "96b5819f-e8ac-4c3c-9c28-93afb6ac738f"
   },
   "outputs": [],
   "source": [
    "import numpy as np\n",
    "import pandas as pd\n",
    "import torch\n",
    "import torch.nn as nn\n",
    "import torch.nn.functional as F\n",
    "import torch.optim as optim\n",
    "from torch.utils.data import TensorDataset, DataLoader\n",
    "from sklearn.preprocessing import MinMaxScaler, StandardScaler\n",
    "import matplotlib.pyplot as plt\n",
    "from tqdm import tqdm"
   ]
  },
  {
   "cell_type": "code",
   "execution_count": 3,
   "id": "f788572f-61f5-4edd-a4b7-ba8c292c8589",
   "metadata": {
    "executionInfo": {
     "elapsed": 37626,
     "status": "ok",
     "timestamp": 1619509191807,
     "user": {
      "displayName": "Sitiporn Saelim",
      "photoUrl": "",
      "userId": "04392232392828254116"
     },
     "user_tz": -420
    },
    "id": "f788572f-61f5-4edd-a4b7-ba8c292c8589"
   },
   "outputs": [],
   "source": [
    "##===\n",
    "# Select state we want to predict\n",
    "# New York , California , Florida , Texas\n",
    "STATE = 'California'\n",
    "\n",
    "WEIGHTDECAY = 0\n",
    "TRAIN = True\n",
    "seq_length = 14\n",
    "N_EPOCHS = 1000\n",
    "device = torch.device('cuda' if torch.cuda.is_available() else 'cpu')\n",
    "##===\n",
    "\n",
    "#### Model Config ===\n",
    "# channel_config = np.array([[1,64,128],[128,64,64],[64,32,1]])\n",
    "channel_config = np.array([[1,7,14],[14,7,7],[7,4,1]])"
   ]
  },
  {
   "cell_type": "markdown",
   "id": "ad882fe1-7a80-4ca8-9a54-82dc294c48df",
   "metadata": {
    "id": "ad882fe1-7a80-4ca8-9a54-82dc294c48df"
   },
   "source": [
    "## Data frame Format"
   ]
  },
  {
   "cell_type": "markdown",
   "id": "de64a227-a629-42e1-99b6-333734cca580",
   "metadata": {
    "id": "de64a227-a629-42e1-99b6-333734cca580"
   },
   "source": [
    "### Import Data from CSV file"
   ]
  },
  {
   "cell_type": "code",
   "execution_count": 4,
   "id": "5e908914-f968-489e-a2a5-ef500dc4001f",
   "metadata": {
    "executionInfo": {
     "elapsed": 46165,
     "status": "ok",
     "timestamp": 1619509200353,
     "user": {
      "displayName": "Sitiporn Saelim",
      "photoUrl": "",
      "userId": "04392232392828254116"
     },
     "user_tz": -420
    },
    "id": "5e908914-f968-489e-a2a5-ef500dc4001f"
   },
   "outputs": [],
   "source": [
    "#df = pd.read_excel(\"./drive/Shareddrives/BI&A/Data/Cleaned Data.xlsx\")\n",
    "df = pd.read_csv('Cleaned_data.csv')"
   ]
  },
  {
   "cell_type": "code",
   "execution_count": 5,
   "id": "344a4ff7-ad56-4738-93fa-6fadca83fe0f",
   "metadata": {
    "colab": {
     "base_uri": "https://localhost:8080/",
     "height": 226
    },
    "executionInfo": {
     "elapsed": 46152,
     "status": "ok",
     "timestamp": 1619509200354,
     "user": {
      "displayName": "Sitiporn Saelim",
      "photoUrl": "",
      "userId": "04392232392828254116"
     },
     "user_tz": -420
    },
    "id": "344a4ff7-ad56-4738-93fa-6fadca83fe0f",
    "outputId": "1cb3b9b8-2571-4898-ed91-0a08754b3570"
   },
   "outputs": [
    {
     "data": {
      "text/html": [
       "<div>\n",
       "<style scoped>\n",
       "    .dataframe tbody tr th:only-of-type {\n",
       "        vertical-align: middle;\n",
       "    }\n",
       "\n",
       "    .dataframe tbody tr th {\n",
       "        vertical-align: top;\n",
       "    }\n",
       "\n",
       "    .dataframe thead th {\n",
       "        text-align: right;\n",
       "    }\n",
       "</style>\n",
       "<table border=\"1\" class=\"dataframe\">\n",
       "  <thead>\n",
       "    <tr style=\"text-align: right;\">\n",
       "      <th></th>\n",
       "      <th>date</th>\n",
       "      <th>state</th>\n",
       "      <th>fips</th>\n",
       "      <th>cases</th>\n",
       "      <th>daily_cases</th>\n",
       "      <th>deaths</th>\n",
       "      <th>daily_deaths</th>\n",
       "      <th>total_vaccinations</th>\n",
       "      <th>total_distributed</th>\n",
       "      <th>daily_distributed</th>\n",
       "      <th>total_people_vaccinated</th>\n",
       "      <th>daily_people_vaccinated</th>\n",
       "      <th>total_people_fully_vaccinated</th>\n",
       "      <th>daily_people_fully_vaccinated</th>\n",
       "      <th>daily_vaccinations</th>\n",
       "      <th>mobility_composite</th>\n",
       "    </tr>\n",
       "  </thead>\n",
       "  <tbody>\n",
       "    <tr>\n",
       "      <th>0</th>\n",
       "      <td>3/13/2021</td>\n",
       "      <td>Alabama</td>\n",
       "      <td>1</td>\n",
       "      <td>503305</td>\n",
       "      <td>594</td>\n",
       "      <td>10327</td>\n",
       "      <td>28</td>\n",
       "      <td>1288242</td>\n",
       "      <td>1918560.0</td>\n",
       "      <td>80160.0</td>\n",
       "      <td>841394.0</td>\n",
       "      <td>24976.0</td>\n",
       "      <td>492755.0</td>\n",
       "      <td>20430.0</td>\n",
       "      <td>26,935</td>\n",
       "      <td>-1.013041</td>\n",
       "    </tr>\n",
       "    <tr>\n",
       "      <th>1</th>\n",
       "      <td>3/12/2021</td>\n",
       "      <td>Alabama</td>\n",
       "      <td>1</td>\n",
       "      <td>502711</td>\n",
       "      <td>448</td>\n",
       "      <td>10299</td>\n",
       "      <td>25</td>\n",
       "      <td>1249205</td>\n",
       "      <td>1838400.0</td>\n",
       "      <td>22170.0</td>\n",
       "      <td>816418.0</td>\n",
       "      <td>25554.0</td>\n",
       "      <td>472325.0</td>\n",
       "      <td>19579.0</td>\n",
       "      <td>26,375</td>\n",
       "      <td>-1.013041</td>\n",
       "    </tr>\n",
       "    <tr>\n",
       "      <th>2</th>\n",
       "      <td>3/11/2021</td>\n",
       "      <td>Alabama</td>\n",
       "      <td>1</td>\n",
       "      <td>502263</td>\n",
       "      <td>865</td>\n",
       "      <td>10274</td>\n",
       "      <td>52</td>\n",
       "      <td>1209802</td>\n",
       "      <td>1816230.0</td>\n",
       "      <td>40570.0</td>\n",
       "      <td>790864.0</td>\n",
       "      <td>22362.0</td>\n",
       "      <td>452746.0</td>\n",
       "      <td>17728.0</td>\n",
       "      <td>25,376</td>\n",
       "      <td>-1.013041</td>\n",
       "    </tr>\n",
       "    <tr>\n",
       "      <th>3</th>\n",
       "      <td>3/10/2021</td>\n",
       "      <td>Alabama</td>\n",
       "      <td>1</td>\n",
       "      <td>501398</td>\n",
       "      <td>782</td>\n",
       "      <td>10222</td>\n",
       "      <td>36</td>\n",
       "      <td>1173820</td>\n",
       "      <td>1775660.0</td>\n",
       "      <td>86610.0</td>\n",
       "      <td>768502.0</td>\n",
       "      <td>21234.0</td>\n",
       "      <td>435018.0</td>\n",
       "      <td>14935.0</td>\n",
       "      <td>24,827</td>\n",
       "      <td>-1.013041</td>\n",
       "    </tr>\n",
       "    <tr>\n",
       "      <th>4</th>\n",
       "      <td>3/9/2021</td>\n",
       "      <td>Alabama</td>\n",
       "      <td>1</td>\n",
       "      <td>500616</td>\n",
       "      <td>524</td>\n",
       "      <td>10186</td>\n",
       "      <td>38</td>\n",
       "      <td>1140984</td>\n",
       "      <td>1689050.0</td>\n",
       "      <td>60700.0</td>\n",
       "      <td>747268.0</td>\n",
       "      <td>14301.0</td>\n",
       "      <td>420083.0</td>\n",
       "      <td>10146.0</td>\n",
       "      <td>24,118</td>\n",
       "      <td>-1.013041</td>\n",
       "    </tr>\n",
       "  </tbody>\n",
       "</table>\n",
       "</div>"
      ],
      "text/plain": [
       "        date    state  fips   cases  daily_cases  deaths  daily_deaths  \\\n",
       "0  3/13/2021  Alabama     1  503305          594   10327            28   \n",
       "1  3/12/2021  Alabama     1  502711          448   10299            25   \n",
       "2  3/11/2021  Alabama     1  502263          865   10274            52   \n",
       "3  3/10/2021  Alabama     1  501398          782   10222            36   \n",
       "4   3/9/2021  Alabama     1  500616          524   10186            38   \n",
       "\n",
       "  total_vaccinations  total_distributed  daily_distributed  \\\n",
       "0            1288242          1918560.0            80160.0   \n",
       "1            1249205          1838400.0            22170.0   \n",
       "2            1209802          1816230.0            40570.0   \n",
       "3            1173820          1775660.0            86610.0   \n",
       "4            1140984          1689050.0            60700.0   \n",
       "\n",
       "   total_people_vaccinated  daily_people_vaccinated  \\\n",
       "0                 841394.0                  24976.0   \n",
       "1                 816418.0                  25554.0   \n",
       "2                 790864.0                  22362.0   \n",
       "3                 768502.0                  21234.0   \n",
       "4                 747268.0                  14301.0   \n",
       "\n",
       "   total_people_fully_vaccinated  daily_people_fully_vaccinated  \\\n",
       "0                       492755.0                        20430.0   \n",
       "1                       472325.0                        19579.0   \n",
       "2                       452746.0                        17728.0   \n",
       "3                       435018.0                        14935.0   \n",
       "4                       420083.0                        10146.0   \n",
       "\n",
       "  daily_vaccinations  mobility_composite  \n",
       "0             26,935           -1.013041  \n",
       "1             26,375           -1.013041  \n",
       "2             25,376           -1.013041  \n",
       "3             24,827           -1.013041  \n",
       "4             24,118           -1.013041  "
      ]
     },
     "execution_count": 5,
     "metadata": {},
     "output_type": "execute_result"
    }
   ],
   "source": [
    "df.head()"
   ]
  },
  {
   "cell_type": "code",
   "execution_count": 6,
   "id": "21ae967e-fe62-4c78-a5e9-b3ce7158917c",
   "metadata": {
    "colab": {
     "base_uri": "https://localhost:8080/"
    },
    "executionInfo": {
     "elapsed": 46141,
     "status": "ok",
     "timestamp": 1619509200356,
     "user": {
      "displayName": "Sitiporn Saelim",
      "photoUrl": "",
      "userId": "04392232392828254116"
     },
     "user_tz": -420
    },
    "id": "21ae967e-fe62-4c78-a5e9-b3ce7158917c",
    "outputId": "c98dc023-b5a6-446c-d9cc-ca4cb2cd3f98"
   },
   "outputs": [
    {
     "name": "stdout",
     "output_type": "stream",
     "text": [
      "<class 'pandas.core.frame.DataFrame'>\n",
      "RangeIndex: 20618 entries, 0 to 20617\n",
      "Data columns (total 16 columns):\n",
      " #   Column                         Non-Null Count  Dtype  \n",
      "---  ------                         --------------  -----  \n",
      " 0   date                           20618 non-null  object \n",
      " 1   state                          20618 non-null  object \n",
      " 2   fips                           20618 non-null  int64  \n",
      " 3   cases                          20618 non-null  int64  \n",
      " 4   daily_cases                    20618 non-null  int64  \n",
      " 5   deaths                         20618 non-null  int64  \n",
      " 6   daily_deaths                   20618 non-null  int64  \n",
      " 7   total_vaccinations             3801 non-null   object \n",
      " 8   total_distributed              3801 non-null   float64\n",
      " 9   daily_distributed              3801 non-null   float64\n",
      " 10  total_people_vaccinated        3801 non-null   float64\n",
      " 11  daily_people_vaccinated        3801 non-null   float64\n",
      " 12  total_people_fully_vaccinated  3801 non-null   float64\n",
      " 13  daily_people_fully_vaccinated  3801 non-null   float64\n",
      " 14  daily_vaccinations             3779 non-null   object \n",
      " 15  mobility_composite             19353 non-null  float64\n",
      "dtypes: float64(7), int64(5), object(4)\n",
      "memory usage: 2.5+ MB\n"
     ]
    }
   ],
   "source": [
    "df.info()"
   ]
  },
  {
   "cell_type": "code",
   "execution_count": 7,
   "id": "836c3722-619c-4ea8-a6f0-22214d8ee8b9",
   "metadata": {
    "colab": {
     "base_uri": "https://localhost:8080/",
     "height": 206
    },
    "executionInfo": {
     "elapsed": 46132,
     "status": "ok",
     "timestamp": 1619509200357,
     "user": {
      "displayName": "Sitiporn Saelim",
      "photoUrl": "",
      "userId": "04392232392828254116"
     },
     "user_tz": -420
    },
    "id": "836c3722-619c-4ea8-a6f0-22214d8ee8b9",
    "outputId": "4b3cf9f1-c8c6-4cf9-8646-de5ef6411df1"
   },
   "outputs": [
    {
     "data": {
      "text/html": [
       "<div>\n",
       "<style scoped>\n",
       "    .dataframe tbody tr th:only-of-type {\n",
       "        vertical-align: middle;\n",
       "    }\n",
       "\n",
       "    .dataframe tbody tr th {\n",
       "        vertical-align: top;\n",
       "    }\n",
       "\n",
       "    .dataframe thead th {\n",
       "        text-align: right;\n",
       "    }\n",
       "</style>\n",
       "<table border=\"1\" class=\"dataframe\">\n",
       "  <thead>\n",
       "    <tr style=\"text-align: right;\">\n",
       "      <th></th>\n",
       "      <th>date</th>\n",
       "      <th>state</th>\n",
       "      <th>fips</th>\n",
       "      <th>daily_cases</th>\n",
       "      <th>daily_deaths</th>\n",
       "      <th>daily_distributed</th>\n",
       "      <th>daily_people_vaccinated</th>\n",
       "      <th>daily_people_fully_vaccinated</th>\n",
       "      <th>daily_vaccinations</th>\n",
       "      <th>mobility_composite</th>\n",
       "    </tr>\n",
       "  </thead>\n",
       "  <tbody>\n",
       "    <tr>\n",
       "      <th>0</th>\n",
       "      <td>3/13/2021</td>\n",
       "      <td>Alabama</td>\n",
       "      <td>1</td>\n",
       "      <td>594</td>\n",
       "      <td>28</td>\n",
       "      <td>80160.0</td>\n",
       "      <td>24976.0</td>\n",
       "      <td>20430.0</td>\n",
       "      <td>26,935</td>\n",
       "      <td>-1.013041</td>\n",
       "    </tr>\n",
       "    <tr>\n",
       "      <th>1</th>\n",
       "      <td>3/12/2021</td>\n",
       "      <td>Alabama</td>\n",
       "      <td>1</td>\n",
       "      <td>448</td>\n",
       "      <td>25</td>\n",
       "      <td>22170.0</td>\n",
       "      <td>25554.0</td>\n",
       "      <td>19579.0</td>\n",
       "      <td>26,375</td>\n",
       "      <td>-1.013041</td>\n",
       "    </tr>\n",
       "    <tr>\n",
       "      <th>2</th>\n",
       "      <td>3/11/2021</td>\n",
       "      <td>Alabama</td>\n",
       "      <td>1</td>\n",
       "      <td>865</td>\n",
       "      <td>52</td>\n",
       "      <td>40570.0</td>\n",
       "      <td>22362.0</td>\n",
       "      <td>17728.0</td>\n",
       "      <td>25,376</td>\n",
       "      <td>-1.013041</td>\n",
       "    </tr>\n",
       "    <tr>\n",
       "      <th>3</th>\n",
       "      <td>3/10/2021</td>\n",
       "      <td>Alabama</td>\n",
       "      <td>1</td>\n",
       "      <td>782</td>\n",
       "      <td>36</td>\n",
       "      <td>86610.0</td>\n",
       "      <td>21234.0</td>\n",
       "      <td>14935.0</td>\n",
       "      <td>24,827</td>\n",
       "      <td>-1.013041</td>\n",
       "    </tr>\n",
       "    <tr>\n",
       "      <th>4</th>\n",
       "      <td>3/9/2021</td>\n",
       "      <td>Alabama</td>\n",
       "      <td>1</td>\n",
       "      <td>524</td>\n",
       "      <td>38</td>\n",
       "      <td>60700.0</td>\n",
       "      <td>14301.0</td>\n",
       "      <td>10146.0</td>\n",
       "      <td>24,118</td>\n",
       "      <td>-1.013041</td>\n",
       "    </tr>\n",
       "  </tbody>\n",
       "</table>\n",
       "</div>"
      ],
      "text/plain": [
       "        date    state  fips  daily_cases  daily_deaths  daily_distributed  \\\n",
       "0  3/13/2021  Alabama     1          594            28            80160.0   \n",
       "1  3/12/2021  Alabama     1          448            25            22170.0   \n",
       "2  3/11/2021  Alabama     1          865            52            40570.0   \n",
       "3  3/10/2021  Alabama     1          782            36            86610.0   \n",
       "4   3/9/2021  Alabama     1          524            38            60700.0   \n",
       "\n",
       "   daily_people_vaccinated  daily_people_fully_vaccinated daily_vaccinations  \\\n",
       "0                  24976.0                        20430.0             26,935   \n",
       "1                  25554.0                        19579.0             26,375   \n",
       "2                  22362.0                        17728.0             25,376   \n",
       "3                  21234.0                        14935.0             24,827   \n",
       "4                  14301.0                        10146.0             24,118   \n",
       "\n",
       "   mobility_composite  \n",
       "0           -1.013041  \n",
       "1           -1.013041  \n",
       "2           -1.013041  \n",
       "3           -1.013041  \n",
       "4           -1.013041  "
      ]
     },
     "execution_count": 7,
     "metadata": {},
     "output_type": "execute_result"
    }
   ],
   "source": [
    "df = df.drop(labels=['cases', 'deaths', 'total_vaccinations', 'total_distributed', 'total_people_vaccinated', 'total_people_fully_vaccinated'], axis=1)\n",
    "df.head()"
   ]
  },
  {
   "cell_type": "code",
   "execution_count": 8,
   "id": "cd39e90b-0daa-4780-a915-99e2c188b7f2",
   "metadata": {
    "colab": {
     "base_uri": "https://localhost:8080/"
    },
    "executionInfo": {
     "elapsed": 46122,
     "status": "ok",
     "timestamp": 1619509200358,
     "user": {
      "displayName": "Sitiporn Saelim",
      "photoUrl": "",
      "userId": "04392232392828254116"
     },
     "user_tz": -420
    },
    "id": "cd39e90b-0daa-4780-a915-99e2c188b7f2",
    "outputId": "f2f42d23-de95-4150-b07b-d8a731b97fb2"
   },
   "outputs": [
    {
     "data": {
      "text/plain": [
       "array(['Alabama', 'Alaska', 'Arizona', 'Arkansas', 'California',\n",
       "       'Colorado', 'Connecticut', 'Delaware', 'District of Columbia',\n",
       "       'Florida', 'Georgia', 'Guam', 'Hawaii', 'Idaho', 'Illinois',\n",
       "       'Indiana', 'Iowa', 'Kansas', 'Kentucky', 'Louisiana', 'Maine',\n",
       "       'Maryland', 'Massachusetts', 'Michigan', 'Minnesota',\n",
       "       'Mississippi', 'Missouri', 'Montana', 'Nebraska', 'Nevada',\n",
       "       'New Hampshire', 'New Jersey', 'New Mexico', 'New York',\n",
       "       'North Carolina', 'North Dakota', 'Northern Mariana Islands',\n",
       "       'Ohio', 'Oklahoma', 'Oregon', 'Pennsylvania', 'Puerto Rico',\n",
       "       'Rhode Island', 'South Carolina', 'South Dakota', 'Tennessee',\n",
       "       'Texas', 'Utah', 'Vermont', 'Virgin Islands', 'Virginia',\n",
       "       'Washington', 'West Virginia', 'Wisconsin', 'Wyoming'],\n",
       "      dtype=object)"
      ]
     },
     "execution_count": 8,
     "metadata": {},
     "output_type": "execute_result"
    }
   ],
   "source": [
    "df['state'].unique()"
   ]
  },
  {
   "cell_type": "code",
   "execution_count": 9,
   "id": "5d059c19-c413-4820-85a8-18632ef73b7f",
   "metadata": {
    "colab": {
     "base_uri": "https://localhost:8080/",
     "height": 424
    },
    "executionInfo": {
     "elapsed": 46114,
     "status": "ok",
     "timestamp": 1619509200360,
     "user": {
      "displayName": "Sitiporn Saelim",
      "photoUrl": "",
      "userId": "04392232392828254116"
     },
     "user_tz": -420
    },
    "id": "5d059c19-c413-4820-85a8-18632ef73b7f",
    "outputId": "8d30ea18-e07a-4bf3-b20c-edb24c321d1b"
   },
   "outputs": [
    {
     "data": {
      "text/html": [
       "<div>\n",
       "<style scoped>\n",
       "    .dataframe tbody tr th:only-of-type {\n",
       "        vertical-align: middle;\n",
       "    }\n",
       "\n",
       "    .dataframe tbody tr th {\n",
       "        vertical-align: top;\n",
       "    }\n",
       "\n",
       "    .dataframe thead th {\n",
       "        text-align: right;\n",
       "    }\n",
       "</style>\n",
       "<table border=\"1\" class=\"dataframe\">\n",
       "  <thead>\n",
       "    <tr style=\"text-align: right;\">\n",
       "      <th></th>\n",
       "      <th>date</th>\n",
       "      <th>state</th>\n",
       "      <th>fips</th>\n",
       "      <th>daily_cases</th>\n",
       "      <th>daily_deaths</th>\n",
       "      <th>daily_distributed</th>\n",
       "      <th>daily_people_vaccinated</th>\n",
       "      <th>daily_people_fully_vaccinated</th>\n",
       "      <th>daily_vaccinations</th>\n",
       "      <th>mobility_composite</th>\n",
       "    </tr>\n",
       "  </thead>\n",
       "  <tbody>\n",
       "    <tr>\n",
       "      <th>19484</th>\n",
       "      <td>2020-01-21</td>\n",
       "      <td>Washington</td>\n",
       "      <td>53</td>\n",
       "      <td>1</td>\n",
       "      <td>0</td>\n",
       "      <td>NaN</td>\n",
       "      <td>NaN</td>\n",
       "      <td>NaN</td>\n",
       "      <td>NaN</td>\n",
       "      <td>NaN</td>\n",
       "    </tr>\n",
       "    <tr>\n",
       "      <th>19483</th>\n",
       "      <td>2020-01-22</td>\n",
       "      <td>Washington</td>\n",
       "      <td>53</td>\n",
       "      <td>0</td>\n",
       "      <td>0</td>\n",
       "      <td>NaN</td>\n",
       "      <td>NaN</td>\n",
       "      <td>NaN</td>\n",
       "      <td>NaN</td>\n",
       "      <td>NaN</td>\n",
       "    </tr>\n",
       "    <tr>\n",
       "      <th>19482</th>\n",
       "      <td>2020-01-23</td>\n",
       "      <td>Washington</td>\n",
       "      <td>53</td>\n",
       "      <td>0</td>\n",
       "      <td>0</td>\n",
       "      <td>NaN</td>\n",
       "      <td>NaN</td>\n",
       "      <td>NaN</td>\n",
       "      <td>NaN</td>\n",
       "      <td>NaN</td>\n",
       "    </tr>\n",
       "    <tr>\n",
       "      <th>5684</th>\n",
       "      <td>2020-01-24</td>\n",
       "      <td>Illinois</td>\n",
       "      <td>17</td>\n",
       "      <td>1</td>\n",
       "      <td>0</td>\n",
       "      <td>NaN</td>\n",
       "      <td>NaN</td>\n",
       "      <td>NaN</td>\n",
       "      <td>NaN</td>\n",
       "      <td>NaN</td>\n",
       "    </tr>\n",
       "    <tr>\n",
       "      <th>19481</th>\n",
       "      <td>2020-01-24</td>\n",
       "      <td>Washington</td>\n",
       "      <td>53</td>\n",
       "      <td>0</td>\n",
       "      <td>0</td>\n",
       "      <td>NaN</td>\n",
       "      <td>NaN</td>\n",
       "      <td>NaN</td>\n",
       "      <td>NaN</td>\n",
       "      <td>NaN</td>\n",
       "    </tr>\n",
       "    <tr>\n",
       "      <th>...</th>\n",
       "      <td>...</td>\n",
       "      <td>...</td>\n",
       "      <td>...</td>\n",
       "      <td>...</td>\n",
       "      <td>...</td>\n",
       "      <td>...</td>\n",
       "      <td>...</td>\n",
       "      <td>...</td>\n",
       "      <td>...</td>\n",
       "      <td>...</td>\n",
       "    </tr>\n",
       "    <tr>\n",
       "      <th>20250</th>\n",
       "      <td>2021-03-13</td>\n",
       "      <td>Wyoming</td>\n",
       "      <td>56</td>\n",
       "      <td>0</td>\n",
       "      <td>0</td>\n",
       "      <td>0.0</td>\n",
       "      <td>4086.0</td>\n",
       "      <td>2945.0</td>\n",
       "      <td>4,085</td>\n",
       "      <td>0.000000</td>\n",
       "    </tr>\n",
       "    <tr>\n",
       "      <th>4168</th>\n",
       "      <td>2021-03-13</td>\n",
       "      <td>Guam</td>\n",
       "      <td>66</td>\n",
       "      <td>1</td>\n",
       "      <td>0</td>\n",
       "      <td>0.0</td>\n",
       "      <td>226.0</td>\n",
       "      <td>1440.0</td>\n",
       "      <td>1,272</td>\n",
       "      <td>-5.361115</td>\n",
       "    </tr>\n",
       "    <tr>\n",
       "      <th>13475</th>\n",
       "      <td>2021-03-13</td>\n",
       "      <td>Northern Mariana Islands</td>\n",
       "      <td>69</td>\n",
       "      <td>1</td>\n",
       "      <td>0</td>\n",
       "      <td>0.0</td>\n",
       "      <td>230.0</td>\n",
       "      <td>163.0</td>\n",
       "      <td>246</td>\n",
       "      <td>NaN</td>\n",
       "    </tr>\n",
       "    <tr>\n",
       "      <th>15319</th>\n",
       "      <td>2021-03-13</td>\n",
       "      <td>Puerto Rico</td>\n",
       "      <td>72</td>\n",
       "      <td>235</td>\n",
       "      <td>0</td>\n",
       "      <td>19550.0</td>\n",
       "      <td>32455.0</td>\n",
       "      <td>20400.0</td>\n",
       "      <td>19,615</td>\n",
       "      <td>0.000000</td>\n",
       "    </tr>\n",
       "    <tr>\n",
       "      <th>18330</th>\n",
       "      <td>2021-03-13</td>\n",
       "      <td>Virgin Islands</td>\n",
       "      <td>78</td>\n",
       "      <td>0</td>\n",
       "      <td>0</td>\n",
       "      <td>NaN</td>\n",
       "      <td>NaN</td>\n",
       "      <td>NaN</td>\n",
       "      <td>NaN</td>\n",
       "      <td>NaN</td>\n",
       "    </tr>\n",
       "  </tbody>\n",
       "</table>\n",
       "<p>20618 rows × 10 columns</p>\n",
       "</div>"
      ],
      "text/plain": [
       "            date                     state  fips  daily_cases  daily_deaths  \\\n",
       "19484 2020-01-21                Washington    53            1             0   \n",
       "19483 2020-01-22                Washington    53            0             0   \n",
       "19482 2020-01-23                Washington    53            0             0   \n",
       "5684  2020-01-24                  Illinois    17            1             0   \n",
       "19481 2020-01-24                Washington    53            0             0   \n",
       "...          ...                       ...   ...          ...           ...   \n",
       "20250 2021-03-13                   Wyoming    56            0             0   \n",
       "4168  2021-03-13                      Guam    66            1             0   \n",
       "13475 2021-03-13  Northern Mariana Islands    69            1             0   \n",
       "15319 2021-03-13               Puerto Rico    72          235             0   \n",
       "18330 2021-03-13            Virgin Islands    78            0             0   \n",
       "\n",
       "       daily_distributed  daily_people_vaccinated  \\\n",
       "19484                NaN                      NaN   \n",
       "19483                NaN                      NaN   \n",
       "19482                NaN                      NaN   \n",
       "5684                 NaN                      NaN   \n",
       "19481                NaN                      NaN   \n",
       "...                  ...                      ...   \n",
       "20250                0.0                   4086.0   \n",
       "4168                 0.0                    226.0   \n",
       "13475                0.0                    230.0   \n",
       "15319            19550.0                  32455.0   \n",
       "18330                NaN                      NaN   \n",
       "\n",
       "       daily_people_fully_vaccinated daily_vaccinations  mobility_composite  \n",
       "19484                            NaN                NaN                 NaN  \n",
       "19483                            NaN                NaN                 NaN  \n",
       "19482                            NaN                NaN                 NaN  \n",
       "5684                             NaN                NaN                 NaN  \n",
       "19481                            NaN                NaN                 NaN  \n",
       "...                              ...                ...                 ...  \n",
       "20250                         2945.0              4,085            0.000000  \n",
       "4168                          1440.0              1,272           -5.361115  \n",
       "13475                          163.0                246                 NaN  \n",
       "15319                        20400.0             19,615            0.000000  \n",
       "18330                            NaN                NaN                 NaN  \n",
       "\n",
       "[20618 rows x 10 columns]"
      ]
     },
     "execution_count": 9,
     "metadata": {},
     "output_type": "execute_result"
    }
   ],
   "source": [
    "# Set date to be datetime format and sort by date and fips\n",
    "df['date'] = pd.to_datetime(df.date)\n",
    "df = df.sort_values(by=['date', 'fips'], axis=0, ascending=True)\n",
    "df"
   ]
  },
  {
   "cell_type": "code",
   "execution_count": 10,
   "id": "a6675f3e-4cdc-4c46-80ab-f222d50a4f86",
   "metadata": {
    "colab": {
     "base_uri": "https://localhost:8080/",
     "height": 455
    },
    "executionInfo": {
     "elapsed": 46105,
     "status": "ok",
     "timestamp": 1619509200361,
     "user": {
      "displayName": "Sitiporn Saelim",
      "photoUrl": "",
      "userId": "04392232392828254116"
     },
     "user_tz": -420
    },
    "id": "a6675f3e-4cdc-4c46-80ab-f222d50a4f86",
    "outputId": "072e1c55-bd87-4a72-9cda-f177430f51e4"
   },
   "outputs": [
    {
     "data": {
      "text/html": [
       "<div>\n",
       "<style scoped>\n",
       "    .dataframe tbody tr th:only-of-type {\n",
       "        vertical-align: middle;\n",
       "    }\n",
       "\n",
       "    .dataframe tbody tr th {\n",
       "        vertical-align: top;\n",
       "    }\n",
       "\n",
       "    .dataframe thead th {\n",
       "        text-align: right;\n",
       "    }\n",
       "</style>\n",
       "<table border=\"1\" class=\"dataframe\">\n",
       "  <thead>\n",
       "    <tr style=\"text-align: right;\">\n",
       "      <th></th>\n",
       "      <th>state</th>\n",
       "      <th>fips</th>\n",
       "      <th>daily_cases</th>\n",
       "      <th>daily_deaths</th>\n",
       "      <th>daily_distributed</th>\n",
       "      <th>daily_people_vaccinated</th>\n",
       "      <th>daily_people_fully_vaccinated</th>\n",
       "      <th>daily_vaccinations</th>\n",
       "      <th>mobility_composite</th>\n",
       "    </tr>\n",
       "    <tr>\n",
       "      <th>date</th>\n",
       "      <th></th>\n",
       "      <th></th>\n",
       "      <th></th>\n",
       "      <th></th>\n",
       "      <th></th>\n",
       "      <th></th>\n",
       "      <th></th>\n",
       "      <th></th>\n",
       "      <th></th>\n",
       "    </tr>\n",
       "  </thead>\n",
       "  <tbody>\n",
       "    <tr>\n",
       "      <th>2020-01-25</th>\n",
       "      <td>California</td>\n",
       "      <td>6</td>\n",
       "      <td>1</td>\n",
       "      <td>0</td>\n",
       "      <td>NaN</td>\n",
       "      <td>NaN</td>\n",
       "      <td>NaN</td>\n",
       "      <td>NaN</td>\n",
       "      <td>NaN</td>\n",
       "    </tr>\n",
       "    <tr>\n",
       "      <th>2020-01-26</th>\n",
       "      <td>California</td>\n",
       "      <td>6</td>\n",
       "      <td>1</td>\n",
       "      <td>0</td>\n",
       "      <td>NaN</td>\n",
       "      <td>NaN</td>\n",
       "      <td>NaN</td>\n",
       "      <td>NaN</td>\n",
       "      <td>NaN</td>\n",
       "    </tr>\n",
       "    <tr>\n",
       "      <th>2020-01-27</th>\n",
       "      <td>California</td>\n",
       "      <td>6</td>\n",
       "      <td>0</td>\n",
       "      <td>0</td>\n",
       "      <td>NaN</td>\n",
       "      <td>NaN</td>\n",
       "      <td>NaN</td>\n",
       "      <td>NaN</td>\n",
       "      <td>NaN</td>\n",
       "    </tr>\n",
       "    <tr>\n",
       "      <th>2020-01-28</th>\n",
       "      <td>California</td>\n",
       "      <td>6</td>\n",
       "      <td>0</td>\n",
       "      <td>0</td>\n",
       "      <td>NaN</td>\n",
       "      <td>NaN</td>\n",
       "      <td>NaN</td>\n",
       "      <td>NaN</td>\n",
       "      <td>NaN</td>\n",
       "    </tr>\n",
       "    <tr>\n",
       "      <th>2020-01-29</th>\n",
       "      <td>California</td>\n",
       "      <td>6</td>\n",
       "      <td>0</td>\n",
       "      <td>0</td>\n",
       "      <td>NaN</td>\n",
       "      <td>NaN</td>\n",
       "      <td>NaN</td>\n",
       "      <td>NaN</td>\n",
       "      <td>NaN</td>\n",
       "    </tr>\n",
       "    <tr>\n",
       "      <th>...</th>\n",
       "      <td>...</td>\n",
       "      <td>...</td>\n",
       "      <td>...</td>\n",
       "      <td>...</td>\n",
       "      <td>...</td>\n",
       "      <td>...</td>\n",
       "      <td>...</td>\n",
       "      <td>...</td>\n",
       "      <td>...</td>\n",
       "    </tr>\n",
       "    <tr>\n",
       "      <th>2021-03-09</th>\n",
       "      <td>California</td>\n",
       "      <td>6</td>\n",
       "      <td>4131</td>\n",
       "      <td>243</td>\n",
       "      <td>1162100.0</td>\n",
       "      <td>82138.0</td>\n",
       "      <td>37820.0</td>\n",
       "      <td>204,065</td>\n",
       "      <td>-32.197826</td>\n",
       "    </tr>\n",
       "    <tr>\n",
       "      <th>2021-03-10</th>\n",
       "      <td>California</td>\n",
       "      <td>6</td>\n",
       "      <td>3464</td>\n",
       "      <td>257</td>\n",
       "      <td>254140.0</td>\n",
       "      <td>96767.0</td>\n",
       "      <td>40388.0</td>\n",
       "      <td>190,191</td>\n",
       "      <td>-32.197826</td>\n",
       "    </tr>\n",
       "    <tr>\n",
       "      <th>2021-03-11</th>\n",
       "      <td>California</td>\n",
       "      <td>6</td>\n",
       "      <td>3560</td>\n",
       "      <td>255</td>\n",
       "      <td>424380.0</td>\n",
       "      <td>103215.0</td>\n",
       "      <td>56316.0</td>\n",
       "      <td>194,328</td>\n",
       "      <td>-32.197826</td>\n",
       "    </tr>\n",
       "    <tr>\n",
       "      <th>2021-03-12</th>\n",
       "      <td>California</td>\n",
       "      <td>6</td>\n",
       "      <td>2304</td>\n",
       "      <td>204</td>\n",
       "      <td>331560.0</td>\n",
       "      <td>138703.0</td>\n",
       "      <td>73249.0</td>\n",
       "      <td>193,794</td>\n",
       "      <td>-32.197826</td>\n",
       "    </tr>\n",
       "    <tr>\n",
       "      <th>2021-03-13</th>\n",
       "      <td>California</td>\n",
       "      <td>6</td>\n",
       "      <td>3741</td>\n",
       "      <td>1013</td>\n",
       "      <td>318720.0</td>\n",
       "      <td>286615.0</td>\n",
       "      <td>204447.0</td>\n",
       "      <td>209,548</td>\n",
       "      <td>-32.197826</td>\n",
       "    </tr>\n",
       "  </tbody>\n",
       "</table>\n",
       "<p>414 rows × 9 columns</p>\n",
       "</div>"
      ],
      "text/plain": [
       "                 state  fips  daily_cases  daily_deaths  daily_distributed  \\\n",
       "date                                                                         \n",
       "2020-01-25  California     6            1             0                NaN   \n",
       "2020-01-26  California     6            1             0                NaN   \n",
       "2020-01-27  California     6            0             0                NaN   \n",
       "2020-01-28  California     6            0             0                NaN   \n",
       "2020-01-29  California     6            0             0                NaN   \n",
       "...                ...   ...          ...           ...                ...   \n",
       "2021-03-09  California     6         4131           243          1162100.0   \n",
       "2021-03-10  California     6         3464           257           254140.0   \n",
       "2021-03-11  California     6         3560           255           424380.0   \n",
       "2021-03-12  California     6         2304           204           331560.0   \n",
       "2021-03-13  California     6         3741          1013           318720.0   \n",
       "\n",
       "            daily_people_vaccinated  daily_people_fully_vaccinated  \\\n",
       "date                                                                 \n",
       "2020-01-25                      NaN                            NaN   \n",
       "2020-01-26                      NaN                            NaN   \n",
       "2020-01-27                      NaN                            NaN   \n",
       "2020-01-28                      NaN                            NaN   \n",
       "2020-01-29                      NaN                            NaN   \n",
       "...                             ...                            ...   \n",
       "2021-03-09                  82138.0                        37820.0   \n",
       "2021-03-10                  96767.0                        40388.0   \n",
       "2021-03-11                 103215.0                        56316.0   \n",
       "2021-03-12                 138703.0                        73249.0   \n",
       "2021-03-13                 286615.0                       204447.0   \n",
       "\n",
       "           daily_vaccinations  mobility_composite  \n",
       "date                                               \n",
       "2020-01-25                NaN                 NaN  \n",
       "2020-01-26                NaN                 NaN  \n",
       "2020-01-27                NaN                 NaN  \n",
       "2020-01-28                NaN                 NaN  \n",
       "2020-01-29                NaN                 NaN  \n",
       "...                       ...                 ...  \n",
       "2021-03-09            204,065          -32.197826  \n",
       "2021-03-10            190,191          -32.197826  \n",
       "2021-03-11            194,328          -32.197826  \n",
       "2021-03-12            193,794          -32.197826  \n",
       "2021-03-13            209,548          -32.197826  \n",
       "\n",
       "[414 rows x 9 columns]"
      ]
     },
     "execution_count": 10,
     "metadata": {},
     "output_type": "execute_result"
    }
   ],
   "source": [
    "df_clean = df[df.state == STATE]\n",
    "df_clean = df_clean.set_index('date')\n",
    "df_clean"
   ]
  },
  {
   "cell_type": "code",
   "execution_count": 11,
   "id": "a8eccf57-7c24-4496-b2fa-2af17ebf8f28",
   "metadata": {
    "colab": {
     "base_uri": "https://localhost:8080/"
    },
    "executionInfo": {
     "elapsed": 46101,
     "status": "ok",
     "timestamp": 1619509200363,
     "user": {
      "displayName": "Sitiporn Saelim",
      "photoUrl": "",
      "userId": "04392232392828254116"
     },
     "user_tz": -420
    },
    "id": "a8eccf57-7c24-4496-b2fa-2af17ebf8f28",
    "outputId": "7fa3dcff-6ae6-423b-eab1-542e1e601795"
   },
   "outputs": [
    {
     "data": {
      "text/plain": [
       "(378, 1)"
      ]
     },
     "execution_count": 11,
     "metadata": {},
     "output_type": "execute_result"
    }
   ],
   "source": [
    "rmlabels=['state', 'fips', 'daily_deaths', 'daily_distributed','daily_people_vaccinated', 'daily_people_fully_vaccinated',\n",
    "          'daily_vaccinations', 'mobility_composite']\n",
    "df_clean = df_clean.drop(labels=rmlabels, axis=1)\n",
    "df_clean = df_clean.iloc[df_clean.shape[0]-378:]\n",
    "df_clean.shape"
   ]
  },
  {
   "cell_type": "code",
   "execution_count": 12,
   "id": "c201a119-d9fa-4518-abef-46b721091fb8",
   "metadata": {
    "colab": {
     "base_uri": "https://localhost:8080/",
     "height": 324
    },
    "executionInfo": {
     "elapsed": 46924,
     "status": "ok",
     "timestamp": 1619509201196,
     "user": {
      "displayName": "Sitiporn Saelim",
      "photoUrl": "",
      "userId": "04392232392828254116"
     },
     "user_tz": -420
    },
    "id": "c201a119-d9fa-4518-abef-46b721091fb8",
    "outputId": "9e0a18be-bc92-49d7-8de0-384963febafe"
   },
   "outputs": [
    {
     "data": {
      "text/plain": [
       "<matplotlib.axes._subplots.AxesSubplot at 0x7f32fb703f60>"
      ]
     },
     "execution_count": 12,
     "metadata": {},
     "output_type": "execute_result"
    },
    {
     "data": {
      "image/png": "[encoded data removed]",
      "text/plain": [
       "<matplotlib.figure.Figure at 0x7f32fb703588>"
      ]
     },
     "metadata": {
      "needs_background": "light"
     },
     "output_type": "display_data"
    }
   ],
   "source": [
    "df_clean.plot(title=f\"Daily cases :{STATE}\")"
   ]
  },
  {
   "cell_type": "code",
   "execution_count": 13,
   "id": "23c4f150-3637-4570-adb3-6b5f40617af6",
   "metadata": {
    "colab": {
     "base_uri": "https://localhost:8080/",
     "height": 206
    },
    "executionInfo": {
     "elapsed": 46917,
     "status": "ok",
     "timestamp": 1619509201196,
     "user": {
      "displayName": "Sitiporn Saelim",
      "photoUrl": "",
      "userId": "04392232392828254116"
     },
     "user_tz": -420
    },
    "id": "23c4f150-3637-4570-adb3-6b5f40617af6",
    "outputId": "8358c33b-8cd9-4df1-f937-d9ad57e69578"
   },
   "outputs": [
    {
     "data": {
      "text/html": [
       "<div>\n",
       "<style scoped>\n",
       "    .dataframe tbody tr th:only-of-type {\n",
       "        vertical-align: middle;\n",
       "    }\n",
       "\n",
       "    .dataframe tbody tr th {\n",
       "        vertical-align: top;\n",
       "    }\n",
       "\n",
       "    .dataframe thead th {\n",
       "        text-align: right;\n",
       "    }\n",
       "</style>\n",
       "<table border=\"1\" class=\"dataframe\">\n",
       "  <thead>\n",
       "    <tr style=\"text-align: right;\">\n",
       "      <th></th>\n",
       "      <th>date</th>\n",
       "      <th>state</th>\n",
       "      <th>fips</th>\n",
       "      <th>daily_cases</th>\n",
       "      <th>daily_deaths</th>\n",
       "      <th>daily_distributed</th>\n",
       "      <th>daily_people_vaccinated</th>\n",
       "      <th>daily_people_fully_vaccinated</th>\n",
       "      <th>daily_vaccinations</th>\n",
       "      <th>mobility_composite</th>\n",
       "    </tr>\n",
       "  </thead>\n",
       "  <tbody>\n",
       "    <tr>\n",
       "      <th>19484</th>\n",
       "      <td>2020-01-21</td>\n",
       "      <td>Washington</td>\n",
       "      <td>53</td>\n",
       "      <td>1</td>\n",
       "      <td>0</td>\n",
       "      <td>NaN</td>\n",
       "      <td>NaN</td>\n",
       "      <td>NaN</td>\n",
       "      <td>NaN</td>\n",
       "      <td>NaN</td>\n",
       "    </tr>\n",
       "    <tr>\n",
       "      <th>19483</th>\n",
       "      <td>2020-01-22</td>\n",
       "      <td>Washington</td>\n",
       "      <td>53</td>\n",
       "      <td>0</td>\n",
       "      <td>0</td>\n",
       "      <td>NaN</td>\n",
       "      <td>NaN</td>\n",
       "      <td>NaN</td>\n",
       "      <td>NaN</td>\n",
       "      <td>NaN</td>\n",
       "    </tr>\n",
       "    <tr>\n",
       "      <th>19482</th>\n",
       "      <td>2020-01-23</td>\n",
       "      <td>Washington</td>\n",
       "      <td>53</td>\n",
       "      <td>0</td>\n",
       "      <td>0</td>\n",
       "      <td>NaN</td>\n",
       "      <td>NaN</td>\n",
       "      <td>NaN</td>\n",
       "      <td>NaN</td>\n",
       "      <td>NaN</td>\n",
       "    </tr>\n",
       "    <tr>\n",
       "      <th>5684</th>\n",
       "      <td>2020-01-24</td>\n",
       "      <td>Illinois</td>\n",
       "      <td>17</td>\n",
       "      <td>1</td>\n",
       "      <td>0</td>\n",
       "      <td>NaN</td>\n",
       "      <td>NaN</td>\n",
       "      <td>NaN</td>\n",
       "      <td>NaN</td>\n",
       "      <td>NaN</td>\n",
       "    </tr>\n",
       "    <tr>\n",
       "      <th>19481</th>\n",
       "      <td>2020-01-24</td>\n",
       "      <td>Washington</td>\n",
       "      <td>53</td>\n",
       "      <td>0</td>\n",
       "      <td>0</td>\n",
       "      <td>NaN</td>\n",
       "      <td>NaN</td>\n",
       "      <td>NaN</td>\n",
       "      <td>NaN</td>\n",
       "      <td>NaN</td>\n",
       "    </tr>\n",
       "  </tbody>\n",
       "</table>\n",
       "</div>"
      ],
      "text/plain": [
       "            date       state  fips  daily_cases  daily_deaths  \\\n",
       "19484 2020-01-21  Washington    53            1             0   \n",
       "19483 2020-01-22  Washington    53            0             0   \n",
       "19482 2020-01-23  Washington    53            0             0   \n",
       "5684  2020-01-24    Illinois    17            1             0   \n",
       "19481 2020-01-24  Washington    53            0             0   \n",
       "\n",
       "       daily_distributed  daily_people_vaccinated  \\\n",
       "19484                NaN                      NaN   \n",
       "19483                NaN                      NaN   \n",
       "19482                NaN                      NaN   \n",
       "5684                 NaN                      NaN   \n",
       "19481                NaN                      NaN   \n",
       "\n",
       "       daily_people_fully_vaccinated daily_vaccinations  mobility_composite  \n",
       "19484                            NaN                NaN                 NaN  \n",
       "19483                            NaN                NaN                 NaN  \n",
       "19482                            NaN                NaN                 NaN  \n",
       "5684                             NaN                NaN                 NaN  \n",
       "19481                            NaN                NaN                 NaN  "
      ]
     },
     "execution_count": 13,
     "metadata": {},
     "output_type": "execute_result"
    }
   ],
   "source": [
    "df.head()"
   ]
  },
  {
   "cell_type": "code",
   "execution_count": 14,
   "id": "e8f7a48d-81a7-4b17-aedb-5923ffcbe32f",
   "metadata": {
    "executionInfo": {
     "elapsed": 46916,
     "status": "ok",
     "timestamp": 1619509201197,
     "user": {
      "displayName": "Sitiporn Saelim",
      "photoUrl": "",
      "userId": "04392232392828254116"
     },
     "user_tz": -420
    },
    "id": "e8f7a48d-81a7-4b17-aedb-5923ffcbe32f"
   },
   "outputs": [],
   "source": [
    "df_state = df[df.state == STATE]"
   ]
  },
  {
   "cell_type": "code",
   "execution_count": 15,
   "id": "db9e99af-23dc-4e4e-a124-92d83a36d885",
   "metadata": {
    "colab": {
     "base_uri": "https://localhost:8080/",
     "height": 408
    },
    "executionInfo": {
     "elapsed": 47772,
     "status": "ok",
     "timestamp": 1619509202061,
     "user": {
      "displayName": "Sitiporn Saelim",
      "photoUrl": "",
      "userId": "04392232392828254116"
     },
     "user_tz": -420
    },
    "id": "db9e99af-23dc-4e4e-a124-92d83a36d885",
    "outputId": "0ba43519-6419-485a-f90b-ea123d762d7d"
   },
   "outputs": [
    {
     "data": {
      "image/png": "[encoded data removed]",
      "text/plain": [
       "<matplotlib.figure.Figure at 0x7f32fb4c61d0>"
      ]
     },
     "metadata": {
      "needs_background": "light"
     },
     "output_type": "display_data"
    }
   ],
   "source": [
    "import pandas as pd\n",
    "import seaborn as sn\n",
    "import matplotlib.pyplot as plt\n",
    "\n",
    "corrMatrix = df_state.corr()\n",
    "sn.heatmap(corrMatrix, annot=True)\n",
    "plt.show()"
   ]
  },
  {
   "cell_type": "markdown",
   "id": "6662892c-7d17-4a48-a17c-83731bd9759e",
   "metadata": {
    "id": "6662892c-7d17-4a48-a17c-83731bd9759e"
   },
   "source": [
    "### select the high correlation to be our factors"
   ]
  },
  {
   "cell_type": "markdown",
   "id": "a276e2d6-9e04-4b58-955b-a4631b50d829",
   "metadata": {
    "id": "a276e2d6-9e04-4b58-955b-a4631b50d829"
   },
   "source": [
    "- daily death\n",
    "- daily people vacinated \n",
    "- daily_distibuted  \n",
    "- daily case "
   ]
  },
  {
   "cell_type": "code",
   "execution_count": 16,
   "id": "d6229abd-17d0-4e2b-b303-f4e2044f5079",
   "metadata": {
    "colab": {
     "base_uri": "https://localhost:8080/"
    },
    "executionInfo": {
     "elapsed": 47768,
     "status": "ok",
     "timestamp": 1619509202062,
     "user": {
      "displayName": "Sitiporn Saelim",
      "photoUrl": "",
      "userId": "04392232392828254116"
     },
     "user_tz": -420
    },
    "id": "d6229abd-17d0-4e2b-b303-f4e2044f5079",
    "outputId": "7c9c1a5f-eb10-40df-ba25-ae5f3f2cfc59"
   },
   "outputs": [
    {
     "data": {
      "text/plain": [
       "Index(['date', 'state', 'fips', 'daily_cases', 'daily_deaths',\n",
       "       'daily_distributed', 'daily_people_vaccinated',\n",
       "       'daily_people_fully_vaccinated', 'daily_vaccinations',\n",
       "       'mobility_composite'],\n",
       "      dtype='object')"
      ]
     },
     "execution_count": 16,
     "metadata": {},
     "output_type": "execute_result"
    }
   ],
   "source": [
    "df_state.columns"
   ]
  },
  {
   "cell_type": "code",
   "execution_count": 17,
   "id": "39b13fd3-a58b-476e-9bdd-65c1f96f8311",
   "metadata": {
    "executionInfo": {
     "elapsed": 47765,
     "status": "ok",
     "timestamp": 1619509202062,
     "user": {
      "displayName": "Sitiporn Saelim",
      "photoUrl": "",
      "userId": "04392232392828254116"
     },
     "user_tz": -420
    },
    "id": "39b13fd3-a58b-476e-9bdd-65c1f96f8311"
   },
   "outputs": [],
   "source": [
    "df_state = df_state.set_index('date') "
   ]
  },
  {
   "cell_type": "code",
   "execution_count": 18,
   "id": "598184b0-4082-404b-9b4d-3729f6297e39",
   "metadata": {
    "colab": {
     "base_uri": "https://localhost:8080/",
     "height": 0
    },
    "executionInfo": {
     "elapsed": 47758,
     "status": "ok",
     "timestamp": 1619509202063,
     "user": {
      "displayName": "Sitiporn Saelim",
      "photoUrl": "",
      "userId": "04392232392828254116"
     },
     "user_tz": -420
    },
    "id": "598184b0-4082-404b-9b4d-3729f6297e39",
    "outputId": "7255bf5b-fbb9-416f-bea6-b833636a8c77"
   },
   "outputs": [
    {
     "data": {
      "text/html": [
       "<div>\n",
       "<style scoped>\n",
       "    .dataframe tbody tr th:only-of-type {\n",
       "        vertical-align: middle;\n",
       "    }\n",
       "\n",
       "    .dataframe tbody tr th {\n",
       "        vertical-align: top;\n",
       "    }\n",
       "\n",
       "    .dataframe thead th {\n",
       "        text-align: right;\n",
       "    }\n",
       "</style>\n",
       "<table border=\"1\" class=\"dataframe\">\n",
       "  <thead>\n",
       "    <tr style=\"text-align: right;\">\n",
       "      <th></th>\n",
       "      <th>state</th>\n",
       "      <th>fips</th>\n",
       "      <th>daily_cases</th>\n",
       "      <th>daily_deaths</th>\n",
       "      <th>daily_distributed</th>\n",
       "      <th>daily_people_vaccinated</th>\n",
       "      <th>daily_people_fully_vaccinated</th>\n",
       "      <th>daily_vaccinations</th>\n",
       "      <th>mobility_composite</th>\n",
       "    </tr>\n",
       "    <tr>\n",
       "      <th>date</th>\n",
       "      <th></th>\n",
       "      <th></th>\n",
       "      <th></th>\n",
       "      <th></th>\n",
       "      <th></th>\n",
       "      <th></th>\n",
       "      <th></th>\n",
       "      <th></th>\n",
       "      <th></th>\n",
       "    </tr>\n",
       "  </thead>\n",
       "  <tbody>\n",
       "    <tr>\n",
       "      <th>2020-01-25</th>\n",
       "      <td>California</td>\n",
       "      <td>6</td>\n",
       "      <td>1</td>\n",
       "      <td>0</td>\n",
       "      <td>NaN</td>\n",
       "      <td>NaN</td>\n",
       "      <td>NaN</td>\n",
       "      <td>NaN</td>\n",
       "      <td>NaN</td>\n",
       "    </tr>\n",
       "    <tr>\n",
       "      <th>2020-01-26</th>\n",
       "      <td>California</td>\n",
       "      <td>6</td>\n",
       "      <td>1</td>\n",
       "      <td>0</td>\n",
       "      <td>NaN</td>\n",
       "      <td>NaN</td>\n",
       "      <td>NaN</td>\n",
       "      <td>NaN</td>\n",
       "      <td>NaN</td>\n",
       "    </tr>\n",
       "    <tr>\n",
       "      <th>2020-01-27</th>\n",
       "      <td>California</td>\n",
       "      <td>6</td>\n",
       "      <td>0</td>\n",
       "      <td>0</td>\n",
       "      <td>NaN</td>\n",
       "      <td>NaN</td>\n",
       "      <td>NaN</td>\n",
       "      <td>NaN</td>\n",
       "      <td>NaN</td>\n",
       "    </tr>\n",
       "    <tr>\n",
       "      <th>2020-01-28</th>\n",
       "      <td>California</td>\n",
       "      <td>6</td>\n",
       "      <td>0</td>\n",
       "      <td>0</td>\n",
       "      <td>NaN</td>\n",
       "      <td>NaN</td>\n",
       "      <td>NaN</td>\n",
       "      <td>NaN</td>\n",
       "      <td>NaN</td>\n",
       "    </tr>\n",
       "    <tr>\n",
       "      <th>2020-01-29</th>\n",
       "      <td>California</td>\n",
       "      <td>6</td>\n",
       "      <td>0</td>\n",
       "      <td>0</td>\n",
       "      <td>NaN</td>\n",
       "      <td>NaN</td>\n",
       "      <td>NaN</td>\n",
       "      <td>NaN</td>\n",
       "      <td>NaN</td>\n",
       "    </tr>\n",
       "  </tbody>\n",
       "</table>\n",
       "</div>"
      ],
      "text/plain": [
       "                 state  fips  daily_cases  daily_deaths  daily_distributed  \\\n",
       "date                                                                         \n",
       "2020-01-25  California     6            1             0                NaN   \n",
       "2020-01-26  California     6            1             0                NaN   \n",
       "2020-01-27  California     6            0             0                NaN   \n",
       "2020-01-28  California     6            0             0                NaN   \n",
       "2020-01-29  California     6            0             0                NaN   \n",
       "\n",
       "            daily_people_vaccinated  daily_people_fully_vaccinated  \\\n",
       "date                                                                 \n",
       "2020-01-25                      NaN                            NaN   \n",
       "2020-01-26                      NaN                            NaN   \n",
       "2020-01-27                      NaN                            NaN   \n",
       "2020-01-28                      NaN                            NaN   \n",
       "2020-01-29                      NaN                            NaN   \n",
       "\n",
       "           daily_vaccinations  mobility_composite  \n",
       "date                                               \n",
       "2020-01-25                NaN                 NaN  \n",
       "2020-01-26                NaN                 NaN  \n",
       "2020-01-27                NaN                 NaN  \n",
       "2020-01-28                NaN                 NaN  \n",
       "2020-01-29                NaN                 NaN  "
      ]
     },
     "execution_count": 18,
     "metadata": {},
     "output_type": "execute_result"
    }
   ],
   "source": [
    "df_state.head()"
   ]
  },
  {
   "cell_type": "code",
   "execution_count": 19,
   "id": "2bd8ef7b-99ba-4c1f-8c67-df4bf7ead2b7",
   "metadata": {
    "executionInfo": {
     "elapsed": 47757,
     "status": "ok",
     "timestamp": 1619509202063,
     "user": {
      "displayName": "Sitiporn Saelim",
      "photoUrl": "",
      "userId": "04392232392828254116"
     },
     "user_tz": -420
    },
    "id": "2bd8ef7b-99ba-4c1f-8c67-df4bf7ead2b7"
   },
   "outputs": [],
   "source": [
    "df_state = df_state.drop(['state', 'fips',\n",
    "       'daily_people_vaccinated',\n",
    "       'daily_people_fully_vaccinated',\n",
    "       'mobility_composite'], axis=1)"
   ]
  },
  {
   "cell_type": "code",
   "execution_count": 20,
   "id": "8f2c8249-9da1-4cf9-b176-b70aa3610b4f",
   "metadata": {
    "colab": {
     "base_uri": "https://localhost:8080/"
    },
    "executionInfo": {
     "elapsed": 47752,
     "status": "ok",
     "timestamp": 1619509202064,
     "user": {
      "displayName": "Sitiporn Saelim",
      "photoUrl": "",
      "userId": "04392232392828254116"
     },
     "user_tz": -420
    },
    "id": "8f2c8249-9da1-4cf9-b176-b70aa3610b4f",
    "outputId": "e9d93a03-a9ba-4903-923e-2b06246f86fb"
   },
   "outputs": [
    {
     "name": "stdout",
     "output_type": "stream",
     "text": [
      "<class 'pandas.core.frame.DataFrame'>\n",
      "DatetimeIndex: 414 entries, 2020-01-25 to 2021-03-13\n",
      "Data columns (total 4 columns):\n",
      " #   Column              Non-Null Count  Dtype  \n",
      "---  ------              --------------  -----  \n",
      " 0   daily_cases         414 non-null    int64  \n",
      " 1   daily_deaths        414 non-null    int64  \n",
      " 2   daily_distributed   72 non-null     float64\n",
      " 3   daily_vaccinations  72 non-null     object \n",
      "dtypes: float64(1), int64(2), object(1)\n",
      "memory usage: 16.2+ KB\n"
     ]
    }
   ],
   "source": [
    "df_state.info()"
   ]
  },
  {
   "cell_type": "code",
   "execution_count": 21,
   "id": "d02afb67-eb2f-4da9-a7ab-75c97cc2cb93",
   "metadata": {
    "executionInfo": {
     "elapsed": 47751,
     "status": "ok",
     "timestamp": 1619509202066,
     "user": {
      "displayName": "Sitiporn Saelim",
      "photoUrl": "",
      "userId": "04392232392828254116"
     },
     "user_tz": -420
    },
    "id": "d02afb67-eb2f-4da9-a7ab-75c97cc2cb93"
   },
   "outputs": [],
   "source": [
    "df_state_clean = df_state.dropna()"
   ]
  },
  {
   "cell_type": "code",
   "execution_count": 22,
   "id": "066ceb35-f5b7-47d2-ac4a-d36f27214d34",
   "metadata": {
    "executionInfo": {
     "elapsed": 47749,
     "status": "ok",
     "timestamp": 1619509202066,
     "user": {
      "displayName": "Sitiporn Saelim",
      "photoUrl": "",
      "userId": "04392232392828254116"
     },
     "user_tz": -420
    },
    "id": "066ceb35-f5b7-47d2-ac4a-d36f27214d34"
   },
   "outputs": [],
   "source": [
    "df_state_clean = df_state_clean.replace(',','', regex=True)"
   ]
  },
  {
   "cell_type": "code",
   "execution_count": 23,
   "id": "3f9c5ecd-cbe0-45a4-9c6c-a9323ca98203",
   "metadata": {
    "colab": {
     "base_uri": "https://localhost:8080/"
    },
    "executionInfo": {
     "elapsed": 47745,
     "status": "ok",
     "timestamp": 1619509202067,
     "user": {
      "displayName": "Sitiporn Saelim",
      "photoUrl": "",
      "userId": "04392232392828254116"
     },
     "user_tz": -420
    },
    "id": "3f9c5ecd-cbe0-45a4-9c6c-a9323ca98203",
    "outputId": "645fa38f-de1c-4c93-a772-172fe2fa9511"
   },
   "outputs": [
    {
     "data": {
      "text/plain": [
       "(72, 4)"
      ]
     },
     "execution_count": 23,
     "metadata": {},
     "output_type": "execute_result"
    }
   ],
   "source": [
    "df_state_clean.shape"
   ]
  },
  {
   "cell_type": "code",
   "execution_count": 24,
   "id": "ae9bb82b-3168-4ac9-be30-f19c39c8ace6",
   "metadata": {
    "colab": {
     "base_uri": "https://localhost:8080/"
    },
    "executionInfo": {
     "elapsed": 47742,
     "status": "ok",
     "timestamp": 1619509202068,
     "user": {
      "displayName": "Sitiporn Saelim",
      "photoUrl": "",
      "userId": "04392232392828254116"
     },
     "user_tz": -420
    },
    "id": "ae9bb82b-3168-4ac9-be30-f19c39c8ace6",
    "outputId": "3c456f74-a3eb-4639-f54e-d955a4425280"
   },
   "outputs": [
    {
     "name": "stdout",
     "output_type": "stream",
     "text": [
      "<class 'pandas.core.frame.DataFrame'>\n",
      "DatetimeIndex: 72 entries, 2021-01-01 to 2021-03-13\n",
      "Data columns (total 4 columns):\n",
      " #   Column              Non-Null Count  Dtype  \n",
      "---  ------              --------------  -----  \n",
      " 0   daily_cases         72 non-null     int64  \n",
      " 1   daily_deaths        72 non-null     int64  \n",
      " 2   daily_distributed   72 non-null     float64\n",
      " 3   daily_vaccinations  72 non-null     object \n",
      "dtypes: float64(1), int64(2), object(1)\n",
      "memory usage: 2.8+ KB\n"
     ]
    }
   ],
   "source": [
    "df_state_clean.info()"
   ]
  },
  {
   "cell_type": "code",
   "execution_count": 25,
   "id": "c2a67ca0-bb2c-45ba-ad06-818b775b284f",
   "metadata": {
    "colab": {
     "base_uri": "https://localhost:8080/"
    },
    "executionInfo": {
     "elapsed": 47739,
     "status": "ok",
     "timestamp": 1619509202069,
     "user": {
      "displayName": "Sitiporn Saelim",
      "photoUrl": "",
      "userId": "04392232392828254116"
     },
     "user_tz": -420
    },
    "id": "c2a67ca0-bb2c-45ba-ad06-818b775b284f",
    "outputId": "4271289a-2c33-49c2-a104-452e25cc4c93"
   },
   "outputs": [
    {
     "data": {
      "text/plain": [
       "(72, 4)"
      ]
     },
     "execution_count": 25,
     "metadata": {},
     "output_type": "execute_result"
    }
   ],
   "source": [
    "df_state_clean.shape"
   ]
  },
  {
   "cell_type": "markdown",
   "id": "41e6cf0c-dc31-46f8-9fb7-58a5f722b13d",
   "metadata": {
    "id": "41e6cf0c-dc31-46f8-9fb7-58a5f722b13d"
   },
   "source": [
    "## DATA Shape\n",
    "- (batch_size,data point,channel)\n",
    "\n",
    "### For CNN shape\n",
    "- Shape:\n",
    "        Input:(batch_size,channel, data point)\n",
    "        "
   ]
  },
  {
   "cell_type": "code",
   "execution_count": 26,
   "id": "6c184b07-5c84-4dfc-83c8-3ee084b21dc0",
   "metadata": {
    "colab": {
     "base_uri": "https://localhost:8080/",
     "height": 324
    },
    "executionInfo": {
     "elapsed": 48420,
     "status": "ok",
     "timestamp": 1619509202757,
     "user": {
      "displayName": "Sitiporn Saelim",
      "photoUrl": "",
      "userId": "04392232392828254116"
     },
     "user_tz": -420
    },
    "id": "6c184b07-5c84-4dfc-83c8-3ee084b21dc0",
    "outputId": "35504cc1-7940-43e1-d655-94fe842d11d4"
   },
   "outputs": [
    {
     "data": {
      "text/plain": [
       "<matplotlib.axes._subplots.AxesSubplot at 0x7f32fb5c15f8>"
      ]
     },
     "execution_count": 26,
     "metadata": {},
     "output_type": "execute_result"
    },
    {
     "data": {
      "image/png": "[encoded data removed]",
      "text/plain": [
       "<matplotlib.figure.Figure at 0x7f32fb5a0630>"
      ]
     },
     "metadata": {
      "needs_background": "light"
     },
     "output_type": "display_data"
    }
   ],
   "source": [
    "df_clean.plot(title=f\"Daily cases :{STATE}\")"
   ]
  },
  {
   "cell_type": "code",
   "execution_count": 27,
   "id": "ebbadcba-a484-49b3-93cd-4ecab2707ab3",
   "metadata": {
    "colab": {
     "base_uri": "https://localhost:8080/"
    },
    "executionInfo": {
     "elapsed": 48417,
     "status": "ok",
     "timestamp": 1619509202758,
     "user": {
      "displayName": "Sitiporn Saelim",
      "photoUrl": "",
      "userId": "04392232392828254116"
     },
     "user_tz": -420
    },
    "id": "ebbadcba-a484-49b3-93cd-4ecab2707ab3",
    "outputId": "751c2aaa-be95-4157-fa04-b312945935af"
   },
   "outputs": [
    {
     "data": {
      "text/plain": [
       "378"
      ]
     },
     "execution_count": 27,
     "metadata": {},
     "output_type": "execute_result"
    }
   ],
   "source": [
    "df_clean.shape[0]"
   ]
  },
  {
   "cell_type": "code",
   "execution_count": 28,
   "id": "3c12e985-d837-4f1d-994f-09c7549ee47a",
   "metadata": {
    "colab": {
     "base_uri": "https://localhost:8080/"
    },
    "executionInfo": {
     "elapsed": 48412,
     "status": "ok",
     "timestamp": 1619509202759,
     "user": {
      "displayName": "Sitiporn Saelim",
      "photoUrl": "",
      "userId": "04392232392828254116"
     },
     "user_tz": -420
    },
    "id": "3c12e985-d837-4f1d-994f-09c7549ee47a",
    "outputId": "fc0addb9-0af3-44f0-b2bb-820a75893e2f"
   },
   "outputs": [
    {
     "data": {
      "text/plain": [
       "((302, 1), (76, 1))"
      ]
     },
     "execution_count": 28,
     "metadata": {},
     "output_type": "execute_result"
    }
   ],
   "source": [
    "train_data = df_clean.iloc[:int(len(df_clean)*0.8)]\n",
    "test_data = df_clean.iloc[int(len(df_clean)*0.8):]\n",
    "\n",
    "# train_data = np.expand_dims(train_data, axis=1)\n",
    "# test_data = np.expand_dims(test_data, axis=1)\n",
    "\n",
    "train_data.shape, test_data.shape "
   ]
  },
  {
   "cell_type": "code",
   "execution_count": 29,
   "id": "9f83ef7b-d478-42f6-ae8e-f5c3a3a8239f",
   "metadata": {
    "executionInfo": {
     "elapsed": 48410,
     "status": "ok",
     "timestamp": 1619509202760,
     "user": {
      "displayName": "Sitiporn Saelim",
      "photoUrl": "",
      "userId": "04392232392828254116"
     },
     "user_tz": -420
    },
    "id": "9f83ef7b-d478-42f6-ae8e-f5c3a3a8239f"
   },
   "outputs": [],
   "source": [
    "# scaler = MinMaxScaler()\n",
    "scaler = StandardScaler()\n",
    "\n",
    "scaler = scaler.fit(train_data)\n",
    "\n",
    "train_data = scaler.transform(train_data)\n",
    "\n",
    "test_data = scaler.transform(test_data)"
   ]
  },
  {
   "cell_type": "code",
   "execution_count": 30,
   "id": "15532477-1a0e-44c2-a270-128a09cefaab",
   "metadata": {
    "executionInfo": {
     "elapsed": 48407,
     "status": "ok",
     "timestamp": 1619509202761,
     "user": {
      "displayName": "Sitiporn Saelim",
      "photoUrl": "",
      "userId": "04392232392828254116"
     },
     "user_tz": -420
    },
    "id": "15532477-1a0e-44c2-a270-128a09cefaab"
   },
   "outputs": [],
   "source": [
    "train_data = np.asarray(train_data)\n",
    "test_data = np.asarray(test_data)"
   ]
  },
  {
   "cell_type": "code",
   "execution_count": 31,
   "id": "e957bba3-ef61-40d2-bb90-0db349eb26e0",
   "metadata": {
    "executionInfo": {
     "elapsed": 48406,
     "status": "ok",
     "timestamp": 1619509202762,
     "user": {
      "displayName": "Sitiporn Saelim",
      "photoUrl": "",
      "userId": "04392232392828254116"
     },
     "user_tz": -420
    },
    "id": "e957bba3-ef61-40d2-bb90-0db349eb26e0"
   },
   "outputs": [],
   "source": [
    "def create_sequences(data, seq_length):\n",
    "    xs = []\n",
    "    ys = []\n",
    "    \n",
    "    for i in range(len(data)-seq_length-1):\n",
    "        x = data[i:(i+seq_length)]\n",
    "        #print(i)\n",
    "        y = data[i+seq_length]\n",
    "        xs.append(x)\n",
    "        ys.append(y)\n",
    "\n",
    "    return np.array(xs), np.array(ys)"
   ]
  },
  {
   "cell_type": "code",
   "execution_count": 32,
   "id": "580acfdd-8af4-470d-8b41-b4a737e38cbc",
   "metadata": {
    "executionInfo": {
     "elapsed": 48403,
     "status": "ok",
     "timestamp": 1619509202763,
     "user": {
      "displayName": "Sitiporn Saelim",
      "photoUrl": "",
      "userId": "04392232392828254116"
     },
     "user_tz": -420
    },
    "id": "580acfdd-8af4-470d-8b41-b4a737e38cbc"
   },
   "outputs": [],
   "source": [
    "X_train, y_train = create_sequences(train_data, seq_length)\n",
    "X_test, y_test = create_sequences(test_data, seq_length)\n",
    "\n",
    "X_train = torch.from_numpy(X_train).float()\n",
    "y_train = torch.from_numpy(y_train).float()\n",
    "\n",
    "X_test = torch.from_numpy(X_test).float()\n",
    "y_test = torch.from_numpy(y_test).float()"
   ]
  },
  {
   "cell_type": "code",
   "execution_count": 33,
   "id": "6a9dcc9e-4638-48f6-859b-09d860477355",
   "metadata": {
    "colab": {
     "base_uri": "https://localhost:8080/"
    },
    "executionInfo": {
     "elapsed": 48398,
     "status": "ok",
     "timestamp": 1619509202763,
     "user": {
      "displayName": "Sitiporn Saelim",
      "photoUrl": "",
      "userId": "04392232392828254116"
     },
     "user_tz": -420
    },
    "id": "6a9dcc9e-4638-48f6-859b-09d860477355",
    "outputId": "e15edeca-c419-419b-e74b-c8b56818caf0"
   },
   "outputs": [
    {
     "data": {
      "text/plain": [
       "(torch.Size([287, 14, 1]),\n",
       " torch.Size([287, 1]),\n",
       " torch.Size([61, 14, 1]),\n",
       " torch.Size([61, 1]))"
      ]
     },
     "execution_count": 33,
     "metadata": {},
     "output_type": "execute_result"
    }
   ],
   "source": [
    "X_train.shape , y_train.shape , X_test.shape, y_test.shape"
   ]
  },
  {
   "cell_type": "code",
   "execution_count": 34,
   "id": "cdc119a6-14a0-4285-ab6e-3bdf3b9b3f9a",
   "metadata": {
    "executionInfo": {
     "elapsed": 48397,
     "status": "ok",
     "timestamp": 1619509202765,
     "user": {
      "displayName": "Sitiporn Saelim",
      "photoUrl": "",
      "userId": "04392232392828254116"
     },
     "user_tz": -420
    },
    "id": "cdc119a6-14a0-4285-ab6e-3bdf3b9b3f9a"
   },
   "outputs": [],
   "source": [
    "X_train = torch.reshape(X_train,(X_train.shape[0],1,-1))\n",
    "X_test =  torch.reshape(X_test,(X_test.shape[0],1,-1))"
   ]
  },
  {
   "cell_type": "code",
   "execution_count": 35,
   "id": "966746ba-33e5-4424-8346-37dd3c7bea01",
   "metadata": {
    "colab": {
     "base_uri": "https://localhost:8080/"
    },
    "executionInfo": {
     "elapsed": 48392,
     "status": "ok",
     "timestamp": 1619509202765,
     "user": {
      "displayName": "Sitiporn Saelim",
      "photoUrl": "",
      "userId": "04392232392828254116"
     },
     "user_tz": -420
    },
    "id": "966746ba-33e5-4424-8346-37dd3c7bea01",
    "outputId": "1353a78d-c36d-4c8c-d328-4b0076a65325"
   },
   "outputs": [
    {
     "data": {
      "text/plain": [
       "(torch.Size([287, 1, 14]),\n",
       " torch.Size([287, 1]),\n",
       " torch.Size([61, 1, 14]),\n",
       " torch.Size([61, 1]))"
      ]
     },
     "execution_count": 35,
     "metadata": {},
     "output_type": "execute_result"
    }
   ],
   "source": [
    "X_train.shape , y_train.shape , X_test.shape, y_test.shape"
   ]
  },
  {
   "cell_type": "code",
   "execution_count": 36,
   "id": "a9PLF5Yy9ZRy",
   "metadata": {
    "colab": {
     "base_uri": "https://localhost:8080/",
     "height": 282
    },
    "executionInfo": {
     "elapsed": 48899,
     "status": "ok",
     "timestamp": 1619509203278,
     "user": {
      "displayName": "Sitiporn Saelim",
      "photoUrl": "",
      "userId": "04392232392828254116"
     },
     "user_tz": -420
    },
    "id": "a9PLF5Yy9ZRy",
    "outputId": "77b630a4-3c19-4725-d804-2470be27149a"
   },
   "outputs": [
    {
     "data": {
      "text/plain": [
       "[<matplotlib.lines.Line2D at 0x7f32fabaa5c0>]"
      ]
     },
     "execution_count": 36,
     "metadata": {},
     "output_type": "execute_result"
    },
    {
     "data": {
      "image/png": "[encoded data removed]",
      "text/plain": [
       "<matplotlib.figure.Figure at 0x7f32fab8f630>"
      ]
     },
     "metadata": {
      "needs_background": "light"
     },
     "output_type": "display_data"
    }
   ],
   "source": [
    "plt.plot(range(len(X_train.flatten())), X_train.flatten())"
   ]
  },
  {
   "cell_type": "code",
   "execution_count": 37,
   "id": "365d5788-cc34-4817-a2e7-bd0811710ee6",
   "metadata": {
    "executionInfo": {
     "elapsed": 48897,
     "status": "ok",
     "timestamp": 1619509203278,
     "user": {
      "displayName": "Sitiporn Saelim",
      "photoUrl": "",
      "userId": "04392232392828254116"
     },
     "user_tz": -420
    },
    "id": "365d5788-cc34-4817-a2e7-bd0811710ee6"
   },
   "outputs": [],
   "source": [
    "from torch.utils.data import TensorDataset\n",
    "\n",
    "# Define dataset\n",
    "ds_train = TensorDataset(X_train, y_train)\n",
    "ds_test = TensorDataset(X_test, y_test)"
   ]
  },
  {
   "cell_type": "code",
   "execution_count": 38,
   "id": "30d22c12-cb30-4a04-9280-85fa7018d82a",
   "metadata": {
    "executionInfo": {
     "elapsed": 48896,
     "status": "ok",
     "timestamp": 1619509203279,
     "user": {
      "displayName": "Sitiporn Saelim",
      "photoUrl": "",
      "userId": "04392232392828254116"
     },
     "user_tz": -420
    },
    "id": "30d22c12-cb30-4a04-9280-85fa7018d82a"
   },
   "outputs": [],
   "source": [
    "BATCH_SIZE = 7  #keeping it binary so it fits GPU\n",
    "# #Train set loader\n",
    "train_iterator = torch.utils.data.DataLoader(dataset=ds_train, \n",
    "                                           batch_size=BATCH_SIZE, \n",
    "                                            shuffle=True)\n",
    "#Test set loader\n",
    "test_iterator = torch.utils.data.DataLoader(dataset=ds_test, \n",
    "                                          batch_size=BATCH_SIZE, \n",
    "                                          shuffle=True)"
   ]
  },
  {
   "cell_type": "markdown",
   "id": "nwqMkVWkNcpl",
   "metadata": {
    "id": "nwqMkVWkNcpl"
   },
   "source": [
    "# Training Section"
   ]
  },
  {
   "cell_type": "markdown",
   "id": "17a936f1-f68a-411a-b61c-c4067a1207bd",
   "metadata": {
    "id": "17a936f1-f68a-411a-b61c-c4067a1207bd"
   },
   "source": [
    "## Define Model"
   ]
  },
  {
   "cell_type": "code",
   "execution_count": 39,
   "id": "ff4391ed-a40f-4fcd-9e6a-ead688102775",
   "metadata": {
    "executionInfo": {
     "elapsed": 48895,
     "status": "ok",
     "timestamp": 1619509203280,
     "user": {
      "displayName": "Sitiporn Saelim",
      "photoUrl": "",
      "userId": "04392232392828254116"
     },
     "user_tz": -420
    },
    "id": "ff4391ed-a40f-4fcd-9e6a-ead688102775"
   },
   "outputs": [],
   "source": [
    "class ResidualBlock(nn.Module):\n",
    "    def __init__(self,kernel_size=3,dilation=1,in_dim=16,hidden_dim=64,out_dim=128):\n",
    "        super(ResidualBlock, self).__init__()\n",
    "        self.pad = (kernel_size - 1) * dilation\n",
    "        \n",
    "        #self.casual1 = nn.Conv1d(in_channels=16,out_channels=32,kernel_size=kernel_size,stride=1,padding=self.pad,dilation=dilation)\n",
    "        #self.casual2 = nn.Conv1d(in_channels=32,out_channels=64,kernel_size=kernel_size,stride=1,padding=self.pad,dilation=dilation)\n",
    "        \n",
    "        self.layer_1 = nn.Sequential(nn.utils.weight_norm(nn.Conv1d(in_channels=in_dim,out_channels=hidden_dim,\n",
    "                                     kernel_size=kernel_size,stride=1,padding=self.pad,dilation=dilation)),\n",
    "                                     nn.LeakyReLU(0.1),nn.Dropout(p=0.2))\n",
    "         \n",
    "        self.layer_2 = nn.Sequential(nn.utils.weight_norm(nn.Conv1d(in_channels=hidden_dim,out_channels=out_dim,\n",
    "                                    kernel_size=kernel_size,stride=1,padding=self.pad,dilation=dilation)),\n",
    "                                    nn.LeakyReLU(0.1),nn.Dropout(p=0.2))\n",
    "        \n",
    "        self.conv1_1 = nn.Conv1d(in_channels=in_dim,out_channels=out_dim,\n",
    "                                                        kernel_size=1,stride=1,padding=0,dilation=1)\n",
    "        \n",
    "    def forward(self,x):\n",
    "        \n",
    "        x_iden = x\n",
    "        x = self.layer_1(x)\n",
    "        x = x[:,:,:-self.pad]\n",
    "        #print(x.shape)\n",
    "        x = self.layer_2(x) \n",
    "        x = x[:,:,:-self.pad]\n",
    "        #print(x.shape)\n",
    "        x_iden = self.conv1_1(x_iden)\n",
    "        #print(x_iden.shape)\n",
    "        x = x + x_iden\n",
    "        \n",
    "        return x         "
   ]
  },
  {
   "cell_type": "code",
   "execution_count": 40,
   "id": "0c50375b-7e32-4447-985b-3cb7c4a9a88f",
   "metadata": {
    "executionInfo": {
     "elapsed": 48892,
     "status": "ok",
     "timestamp": 1619509203280,
     "user": {
      "displayName": "Sitiporn Saelim",
      "photoUrl": "",
      "userId": "04392232392828254116"
     },
     "user_tz": -420
    },
    "id": "0c50375b-7e32-4447-985b-3cb7c4a9a88f"
   },
   "outputs": [],
   "source": [
    "class TemporalConvNet(nn.Module):\n",
    "    def __init__(self,num_residual_layers,channel_config,num_classes):\n",
    "        super(TemporalConvNet, self).__init__()\n",
    "        self.num_residual_layers = num_residual_layers \n",
    "        self.residual_layers = []\n",
    "        #print(self.num_residual_layers)\n",
    "        \n",
    "        for i in range(self.num_residual_layers):\n",
    "            d = pow(2, i)\n",
    "            #print(d)\n",
    "            self.residual_layers.append(ResidualBlock(kernel_size=3,dilation=d,in_dim=channel_config[i][0],hidden_dim=channel_config[i][1],out_dim=channel_config[i][2]).to(device))        \n",
    "      \n",
    "        self.fc = nn.Sequential(nn.Linear(14 , 7),nn.ReLU(),nn.Dropout(0.5),\n",
    "                                nn.Linear(7,4),nn.ReLU(),\n",
    "                                nn.Dropout(0.5),nn.Linear(4,2))\n",
    "        \n",
    "        \n",
    "        self.out = nn.Linear(2, 1)\n",
    "        #self.softmax = nn.LogSoftmax(dim=1)\n",
    "        \n",
    "\n",
    "        #self.fc = nn.Sequential(nn.Linear(75 ,100),nn.ReLU(),nn.Linear(100,10))\n",
    "        \n",
    "    def forward(self,x):\n",
    "        for layer in self.residual_layers:\n",
    "            x = layer(x)\n",
    "        #print(\"layer :\",x.shape)\n",
    "        x = torch.flatten(x,start_dim=1)\n",
    "        #print(\"flatten:\",x.shape)        \n",
    "        x = self.fc(x).to(device)\n",
    "        \n",
    "        x = self.out(x).to(device)\n",
    "        #print(x.shape)\n",
    "    \n",
    "        return x"
   ]
  },
  {
   "cell_type": "code",
   "execution_count": 41,
   "id": "4828ea44-9f63-4640-a5d9-36de8a59dadb",
   "metadata": {
    "colab": {
     "base_uri": "https://localhost:8080/"
    },
    "executionInfo": {
     "elapsed": 48888,
     "status": "ok",
     "timestamp": 1619509203281,
     "user": {
      "displayName": "Sitiporn Saelim",
      "photoUrl": "",
      "userId": "04392232392828254116"
     },
     "user_tz": -420
    },
    "id": "4828ea44-9f63-4640-a5d9-36de8a59dadb",
    "outputId": "410043ae-c241-4ba6-b3e2-746f4add817b"
   },
   "outputs": [
    {
     "name": "stdout",
     "output_type": "stream",
     "text": [
      "Configured device:  cuda\n"
     ]
    }
   ],
   "source": [
    "print(\"Configured device: \", device)"
   ]
  },
  {
   "cell_type": "markdown",
   "id": "4b5b241f-00f7-4bf2-9c21-8852104cfc83",
   "metadata": {
    "id": "4b5b241f-00f7-4bf2-9c21-8852104cfc83"
   },
   "source": [
    "## Create model"
   ]
  },
  {
   "cell_type": "code",
   "execution_count": 42,
   "id": "49e276f0-ef26-49fe-982e-9846df90261c",
   "metadata": {
    "executionInfo": {
     "elapsed": 57248,
     "status": "ok",
     "timestamp": 1619509211643,
     "user": {
      "displayName": "Sitiporn Saelim",
      "photoUrl": "",
      "userId": "04392232392828254116"
     },
     "user_tz": -420
    },
    "id": "49e276f0-ef26-49fe-982e-9846df90261c"
   },
   "outputs": [],
   "source": [
    "model_Tcn = TemporalConvNet(num_residual_layers=3,channel_config=channel_config,num_classes=1)\n",
    "model_Tcn = model_Tcn.float()\n",
    "models = [model_Tcn]"
   ]
  },
  {
   "cell_type": "code",
   "execution_count": 43,
   "id": "e9b02cf6-e8f4-4885-844c-fbe367ee456c",
   "metadata": {
    "executionInfo": {
     "elapsed": 57249,
     "status": "ok",
     "timestamp": 1619509211646,
     "user": {
      "displayName": "Sitiporn Saelim",
      "photoUrl": "",
      "userId": "04392232392828254116"
     },
     "user_tz": -420
    },
    "id": "e9b02cf6-e8f4-4885-844c-fbe367ee456c"
   },
   "outputs": [],
   "source": [
    "for model in models:\n",
    "    model = model.to(device)"
   ]
  },
  {
   "cell_type": "markdown",
   "id": "cf3c0d2e-9240-4b30-8695-b8c86e02506c",
   "metadata": {
    "id": "cf3c0d2e-9240-4b30-8695-b8c86e02506c"
   },
   "source": [
    "### Create Optimizer"
   ]
  },
  {
   "cell_type": "code",
   "execution_count": 44,
   "id": "ed97a139-94a0-48b7-b415-ccf51a58b346",
   "metadata": {
    "executionInfo": {
     "elapsed": 57249,
     "status": "ok",
     "timestamp": 1619509211650,
     "user": {
      "displayName": "Sitiporn Saelim",
      "photoUrl": "",
      "userId": "04392232392828254116"
     },
     "user_tz": -420
    },
    "id": "ed97a139-94a0-48b7-b415-ccf51a58b346"
   },
   "outputs": [],
   "source": [
    "import torch.optim as optim\n",
    "#0.01\n",
    "learning_rate = 1e-4\n",
    "\n",
    "optimizer = optim.Adam(model.parameters())\n",
    "\n",
    "criterion = torch.nn.MSELoss().float() #nn.NLLLoss()\n",
    "optimizer = torch.optim.Adam(model.parameters(), lr=learning_rate)"
   ]
  },
  {
   "cell_type": "markdown",
   "id": "5fe76e97-cd26-4824-8bb1-1b7ca11631fd",
   "metadata": {
    "id": "5fe76e97-cd26-4824-8bb1-1b7ca11631fd"
   },
   "source": [
    "### Training Function"
   ]
  },
  {
   "cell_type": "code",
   "execution_count": 45,
   "id": "a2b7a551-3e07-4e10-9547-c0d499e5a9a6",
   "metadata": {
    "executionInfo": {
     "elapsed": 57248,
     "status": "ok",
     "timestamp": 1619509211652,
     "user": {
      "displayName": "Sitiporn Saelim",
      "photoUrl": "",
      "userId": "04392232392828254116"
     },
     "user_tz": -420
    },
    "id": "a2b7a551-3e07-4e10-9547-c0d499e5a9a6"
   },
   "outputs": [],
   "source": [
    "def train(model, iterator, optimizer, criterion):\n",
    "    total = 0\n",
    "    correct = 0\n",
    "    epoch_loss = 0\n",
    "    epoch_acc = 0\n",
    "   # loss_list = []\n",
    "    model.train()\n",
    "    \n",
    "    for batch, num_cases in iterator:\n",
    "        \n",
    "        #Move tensors to the configured device\n",
    "        batch = batch.to(device)\n",
    "        num_cases = num_cases.to(device) \n",
    "#         num_cases = num_cases[:,-1]\n",
    "#         num_cases =  torch.reshape(num_cases, (num_cases.shape[0], 1))\n",
    "        #Forward pass\n",
    "        #print(\"batch train:\",batch.shape)\n",
    "        outputs = model(batch.float())\n",
    "#         print(\"outputs:\",outputs.shape)\n",
    "#         print(\"num_cases :\",num_cases.shape)\n",
    "#         print(\"outputs :\",outputs)\n",
    "#         print(\"num_cases :\",num_cases)\n",
    "        loss = criterion(outputs, num_cases.float())\n",
    "        \n",
    "        # Backward and optimize\n",
    "        optimizer.zero_grad()\n",
    "        loss.backward()\n",
    "        optimizer.step()\n",
    "        #loss_list.append(loss.data)  \n",
    "         \n",
    "#         #check accuracy\n",
    "#         predictions = model(batch.float())\n",
    "#         _, predicted = torch.max(predictions.data, 1)  #returns max value, indices\n",
    "#          #keep track of total\n",
    "#         correct += (predicted == labels).sum().item()  #.item() give the raw number\n",
    "#         acc = 100 * (correct / total)\n",
    "                \n",
    "        epoch_loss += loss.item()\n",
    "#         epoch_acc = acc\n",
    "      \n",
    "    return epoch_loss / len(iterator)  #, epoch_acc, predicted"
   ]
  },
  {
   "cell_type": "code",
   "execution_count": 46,
   "id": "d816be15-ba87-40e5-8182-8983d08fb978",
   "metadata": {
    "executionInfo": {
     "elapsed": 57249,
     "status": "ok",
     "timestamp": 1619509211655,
     "user": {
      "displayName": "Sitiporn Saelim",
      "photoUrl": "",
      "userId": "04392232392828254116"
     },
     "user_tz": -420
    },
    "id": "d816be15-ba87-40e5-8182-8983d08fb978"
   },
   "outputs": [],
   "source": [
    "def test(model,iterator, optimizer, criterion):\n",
    "    total = 0\n",
    "    correct = 0\n",
    "    epoch_loss = 0\n",
    "    epoch_acc = 0\n",
    "   # loss_list = []\n",
    "    for batch, num_cases in iterator:\n",
    "        batch = batch.to(device)\n",
    "        num_cases = num_cases.to(device)\n",
    "        #print(\"batch test:\",batch.shape)\n",
    "        with torch.no_grad():\n",
    "            y_test_pred = model(batch.float())\n",
    "            loss = criterion(y_test_pred, num_cases.float())\n",
    "            epoch_loss += loss\n",
    "            \n",
    "    return epoch_loss / len(iterator)  "
   ]
  },
  {
   "cell_type": "code",
   "execution_count": 47,
   "id": "e4afaa15-4100-4c52-80fb-c7ca85fbe37c",
   "metadata": {
    "executionInfo": {
     "elapsed": 57248,
     "status": "ok",
     "timestamp": 1619509211656,
     "user": {
      "displayName": "Sitiporn Saelim",
      "photoUrl": "",
      "userId": "04392232392828254116"
     },
     "user_tz": -420
    },
    "id": "e4afaa15-4100-4c52-80fb-c7ca85fbe37c"
   },
   "outputs": [],
   "source": [
    "from IPython.display import clear_output"
   ]
  },
  {
   "cell_type": "code",
   "execution_count": 48,
   "id": "66e0a334-0206-4e81-ac46-7a8b1c92fcfb",
   "metadata": {
    "executionInfo": {
     "elapsed": 57247,
     "status": "ok",
     "timestamp": 1619509211657,
     "user": {
      "displayName": "Sitiporn Saelim",
      "photoUrl": "",
      "userId": "04392232392828254116"
     },
     "user_tz": -420
    },
    "id": "66e0a334-0206-4e81-ac46-7a8b1c92fcfb"
   },
   "outputs": [],
   "source": [
    "name = f\"Epoch ={N_EPOCHS} LR = {learning_rate} Adam\""
   ]
  },
  {
   "cell_type": "code",
   "execution_count": 49,
   "id": "9509ba65-c59a-4318-886e-f7e0e565770a",
   "metadata": {
    "colab": {
     "base_uri": "https://localhost:8080/",
     "height": 400
    },
    "executionInfo": {
     "elapsed": 57927,
     "status": "error",
     "timestamp": 1619509212344,
     "user": {
      "displayName": "Sitiporn Saelim",
      "photoUrl": "",
      "userId": "04392232392828254116"
     },
     "user_tz": -420
    },
    "id": "9509ba65-c59a-4318-886e-f7e0e565770a",
    "outputId": "0adfd7c6-19f2-45f9-ade8-d5071d8987cf"
   },
   "outputs": [
    {
     "name": "stdout",
     "output_type": "stream",
     "text": [
      "Training TemporalConvNet\n",
      "Epoch 0 train loss: 1.2127919320198821 test loss: 2.734572649002075\n",
      "Epoch 1 train loss: 1.1937957702817894 test loss: 2.7359859943389893\n",
      "Epoch 2 train loss: 1.19824490846112 test loss: 2.830718994140625\n",
      "Epoch 3 train loss: 1.1795951856254805 test loss: 2.7338106632232666\n",
      "Epoch 4 train loss: 1.176228950209007 test loss: 2.647590398788452\n",
      "Epoch 5 train loss: 1.1677230957259492 test loss: 2.6274447441101074\n",
      "Epoch 6 train loss: 1.1708076022928808 test loss: 2.6996607780456543\n",
      "Epoch 7 train loss: 1.1442999607179223 test loss: 2.700265407562256\n",
      "Epoch 8 train loss: 1.154174451330086 test loss: 2.770655870437622\n",
      "Epoch 9 train loss: 1.1387004218881995 test loss: 2.6262357234954834\n",
      "Epoch 10 train loss: 1.1315197050117138 test loss: 2.671863317489624\n",
      "Epoch 11 train loss: 1.1352220685561982 test loss: 2.624049425125122\n",
      "Epoch 12 train loss: 1.1241495104552042 test loss: 2.585543394088745\n",
      "Epoch 13 train loss: 1.1206348521589506 test loss: 2.649984836578369\n",
      "Epoch 14 train loss: 1.1119944095248129 test loss: 2.5352070331573486\n",
      "Epoch 15 train loss: 1.1103174473817756 test loss: 2.6188364028930664\n",
      "Epoch 16 train loss: 1.1090124200393514 test loss: 2.5541133880615234\n",
      "Epoch 17 train loss: 1.1007409753595911 test loss: 2.454235792160034\n",
      "Epoch 18 train loss: 1.0948472557271398 test loss: 2.540491819381714\n",
      "Epoch 19 train loss: 1.0841662222292365 test loss: 2.498330593109131\n",
      "Epoch 20 train loss: 1.0825558313872756 test loss: 2.4132158756256104\n",
      "Epoch 21 train loss: 1.0705630573921088 test loss: 2.411637544631958\n",
      "Epoch 22 train loss: 1.086668674266193 test loss: 2.543891668319702\n",
      "Epoch 23 train loss: 1.0702018129934625 test loss: 2.4651453495025635\n",
      "Epoch 24 train loss: 1.0716653687924873 test loss: 2.4339358806610107\n",
      "Epoch 25 train loss: 1.0579435591835802 test loss: 2.3568902015686035\n",
      "Epoch 26 train loss: 1.0507759549087141 test loss: 2.396893262863159\n",
      "Epoch 27 train loss: 1.0395635170180624 test loss: 2.39125394821167\n",
      "Epoch 28 train loss: 1.0493486875259295 test loss: 2.3333795070648193\n",
      "Epoch 29 train loss: 1.0410923816081954 test loss: 2.275937080383301\n",
      "Epoch 30 train loss: 1.041968521003316 test loss: 2.524221420288086\n",
      "Epoch 31 train loss: 1.0514982467199243 test loss: 2.4597625732421875\n",
      "Epoch 32 train loss: 1.0501044203595418 test loss: 2.3428189754486084\n",
      "Epoch 33 train loss: 1.0302943923487895 test loss: 2.1916537284851074\n",
      "Epoch 34 train loss: 1.0351435516665621 test loss: 2.3390884399414062\n",
      "Epoch 35 train loss: 1.028657193590955 test loss: 2.2090084552764893\n",
      "Epoch 36 train loss: 1.0360105489267082 test loss: 2.3206589221954346\n",
      "Epoch 37 train loss: 1.0184704267033717 test loss: 2.25423002243042\n",
      "Epoch 38 train loss: 1.0239075032494418 test loss: 2.2715914249420166\n",
      "Epoch 39 train loss: 1.0306384912351283 test loss: 2.187983751296997\n",
      "Epoch 40 train loss: 1.0236387691664985 test loss: 2.1563074588775635\n",
      "Epoch 41 train loss: 1.0150417697320624 test loss: 2.1819956302642822\n",
      "Epoch 42 train loss: 1.0036069212890253 test loss: 2.1335225105285645\n",
      "Epoch 43 train loss: 1.017420880496502 test loss: 2.3195698261260986\n",
      "Epoch 44 train loss: 1.0126987777468635 test loss: 2.243544340133667\n",
      "Epoch 45 train loss: 0.9925220914911933 test loss: 2.091015100479126\n",
      "Epoch 46 train loss: 1.0129011585945036 test loss: 2.124427080154419\n",
      "Epoch 47 train loss: 0.9859215892487909 test loss: 2.2372281551361084\n",
      "Epoch 48 train loss: 1.0119854244517117 test loss: 2.1766464710235596\n",
      "Epoch 49 train loss: 1.014348330566796 test loss: 2.121487855911255\n",
      "Epoch 50 train loss: 0.978822281993017 test loss: 2.0546162128448486\n",
      "Epoch 51 train loss: 1.0054780591915293 test loss: 2.095691680908203\n",
      "Epoch 52 train loss: 1.000263774267784 test loss: 2.035656452178955\n",
      "Epoch 53 train loss: 0.9528599732169291 test loss: 2.209754467010498\n",
      "Epoch 54 train loss: 0.9640316734226738 test loss: 1.9482964277267456\n",
      "Epoch 55 train loss: 0.9914094761195706 test loss: 2.013263463973999\n",
      "Epoch 56 train loss: 0.9807645246931692 test loss: 2.0352060794830322\n",
      "Epoch 57 train loss: 0.9324318484017035 test loss: 1.9596617221832275\n",
      "Epoch 58 train loss: 0.993198025335626 test loss: 2.053952932357788\n",
      "Epoch 59 train loss: 0.9796212442764421 test loss: 2.0348963737487793\n",
      "Epoch 60 train loss: 1.001115520552891 test loss: 2.040195941925049\n",
      "Epoch 61 train loss: 0.9697669659082483 test loss: 2.0005061626434326\n",
      "Epoch 62 train loss: 0.9743090738973966 test loss: 2.0886359214782715\n",
      "Epoch 63 train loss: 0.9773871111797123 test loss: 2.2192203998565674\n",
      "Epoch 64 train loss: 0.9628834411865328 test loss: 1.9296269416809082\n",
      "Epoch 65 train loss: 0.9622863194019329 test loss: 2.0501115322113037\n",
      "Epoch 66 train loss: 0.8906390497960696 test loss: 1.9961010217666626\n",
      "Epoch 67 train loss: 0.9830553153666054 test loss: 2.1265008449554443\n",
      "Epoch 68 train loss: 0.9602658792239863 test loss: 1.8598681688308716\n",
      "Epoch 69 train loss: 0.9600256910411323 test loss: 2.0210509300231934\n",
      "Epoch 70 train loss: 0.9736849925503498 test loss: 2.1444332599639893\n",
      "Epoch 71 train loss: 0.966326408542511 test loss: 2.0250489711761475\n",
      "Epoch 72 train loss: 0.9563451409339905 test loss: 2.068035840988159\n",
      "Epoch 73 train loss: 0.9350237017724572 test loss: 1.9757366180419922\n",
      "Epoch 74 train loss: 0.9312048680716898 test loss: 1.865662932395935\n",
      "Epoch 75 train loss: 0.981232547541944 test loss: 1.9553991556167603\n",
      "Epoch 76 train loss: 0.9920518815335704 test loss: 1.9561859369277954\n",
      "Epoch 77 train loss: 0.9169347466128629 test loss: 1.9522985219955444\n",
      "Epoch 78 train loss: 0.9554157325225633 test loss: 1.9514166116714478\n",
      "Epoch 79 train loss: 0.9185719236549807 test loss: 1.8165206909179688\n",
      "Epoch 80 train loss: 0.9467579502521491 test loss: 1.8301563262939453\n",
      "Epoch 81 train loss: 0.9212519234818656 test loss: 1.8668348789215088\n",
      "Epoch 82 train loss: 0.9680301358968746 test loss: 1.8411884307861328\n",
      "Epoch 83 train loss: 0.9680363484999028 test loss: 1.8576878309249878\n",
      "Epoch 84 train loss: 0.9587716133129306 test loss: 1.9959255456924438\n",
      "Epoch 85 train loss: 0.9237747395910868 test loss: 1.854103922843933\n",
      "Epoch 86 train loss: 0.9212232526482605 test loss: 1.9682083129882812\n",
      "Epoch 87 train loss: 0.929689554906473 test loss: 1.7417161464691162\n",
      "Epoch 88 train loss: 0.9259147613150317 test loss: 1.6523282527923584\n",
      "Epoch 89 train loss: 0.8893620271871729 test loss: 1.9360328912734985\n",
      "Epoch 90 train loss: 0.9222269971377965 test loss: 1.6727315187454224\n",
      "Epoch 91 train loss: 0.9452214573578137 test loss: 1.8289822340011597\n",
      "Epoch 92 train loss: 0.9209475854366291 test loss: 1.6036651134490967\n",
      "Epoch 93 train loss: 0.899557150173478 test loss: 1.809316635131836\n",
      "Epoch 94 train loss: 0.9373409326483564 test loss: 1.9009641408920288\n",
      "Epoch 95 train loss: 0.8708532049161631 test loss: 1.746646761894226\n",
      "Epoch 96 train loss: 0.867090190965228 test loss: 1.6335569620132446\n",
      "Epoch 97 train loss: 0.938469318355002 test loss: 1.7658274173736572\n",
      "Epoch 98 train loss: 0.8863105586752659 test loss: 1.6037545204162598\n",
      "Epoch 99 train loss: 0.9005724941266746 test loss: 1.7840262651443481\n",
      "Epoch 100 train loss: 0.928542465789289 test loss: 1.979189157485962\n",
      "Epoch 101 train loss: 0.9151870115864568 test loss: 1.8713330030441284\n",
      "Epoch 102 train loss: 0.8672642272601767 test loss: 1.6404180526733398\n",
      "Epoch 103 train loss: 0.892374266393301 test loss: 1.9469413757324219\n",
      "Epoch 104 train loss: 0.916414496466154 test loss: 1.9224839210510254\n",
      "Epoch 105 train loss: 0.8592093352955289 test loss: 1.6838490962982178\n",
      "Epoch 106 train loss: 0.8682917106624056 test loss: 1.6887513399124146\n",
      "Epoch 107 train loss: 0.840330686511063 test loss: 1.7426096200942993\n",
      "Epoch 108 train loss: 0.9219019662407113 test loss: 1.7173638343811035\n",
      "Epoch 109 train loss: 0.9165966026484966 test loss: 1.7005583047866821\n",
      "Epoch 110 train loss: 0.8884775474122385 test loss: 1.9848302602767944\n",
      "Epoch 111 train loss: 0.871507684450324 test loss: 1.8303990364074707\n",
      "Epoch 112 train loss: 0.8749539501419882 test loss: 1.7515778541564941\n",
      "Epoch 113 train loss: 0.8603465687937852 test loss: 1.6335042715072632\n",
      "Epoch 114 train loss: 0.8494509315436206 test loss: 1.7475454807281494\n",
      "Epoch 115 train loss: 0.9327899616484235 test loss: 1.6608211994171143\n",
      "Epoch 116 train loss: 0.8503545737121163 test loss: 1.7069777250289917\n",
      "Epoch 117 train loss: 0.8695890877123286 test loss: 1.724987506866455\n",
      "Epoch 118 train loss: 0.9029143183696561 test loss: 1.8490248918533325\n",
      "Epoch 119 train loss: 0.7895498497457039 test loss: 1.7534064054489136\n",
      "Epoch 120 train loss: 0.7955057415656928 test loss: 1.6065536737442017\n",
      "Epoch 121 train loss: 0.869149473200484 test loss: 1.5956417322158813\n",
      "Epoch 122 train loss: 0.8696072692187821 test loss: 1.8607326745986938\n",
      "Epoch 123 train loss: 0.8456468742976828 test loss: 1.609533429145813\n",
      "Epoch 124 train loss: 0.8190263505207329 test loss: 1.2573617696762085\n",
      "Epoch 125 train loss: 0.8877679536618838 test loss: 1.4860001802444458\n",
      "Epoch 126 train loss: 0.8967985732526313 test loss: 1.6260241270065308\n",
      "Epoch 127 train loss: 0.826106388076413 test loss: 1.8141013383865356\n",
      "Epoch 128 train loss: 0.7857574316241392 test loss: 1.4945039749145508\n",
      "Epoch 129 train loss: 0.8447222300782437 test loss: 1.9382163286209106\n",
      "Epoch 130 train loss: 0.7905896182467298 test loss: 1.3680163621902466\n",
      "Epoch 131 train loss: 0.8728147776025098 test loss: 1.2109705209732056\n",
      "Epoch 132 train loss: 0.8902715090207938 test loss: 1.5105273723602295\n",
      "Epoch 133 train loss: 0.7593757202167336 test loss: 1.730840802192688\n",
      "Epoch 134 train loss: 0.8277739946980301 test loss: 1.6479310989379883\n",
      "Epoch 135 train loss: 0.8338864187641841 test loss: 1.5116846561431885\n",
      "Epoch 136 train loss: 0.8153620487669619 test loss: 1.6919326782226562\n",
      "Epoch 137 train loss: 0.8851231068554448 test loss: 1.7868406772613525\n",
      "Epoch 138 train loss: 0.8087121289132572 test loss: 1.8596689701080322\n",
      "Epoch 139 train loss: 0.9175320516635732 test loss: 1.42546808719635\n",
      "Epoch 140 train loss: 0.8848514972118343 test loss: 1.0186268091201782\n",
      "Epoch 141 train loss: 0.885322182371122 test loss: 1.7505548000335693\n",
      "Epoch 142 train loss: 0.7645603683663578 test loss: 1.8951197862625122\n",
      "Epoch 143 train loss: 0.8660044413877697 test loss: 1.576276421546936\n",
      "Epoch 144 train loss: 0.8444558473349344 test loss: 1.4313304424285889\n",
      "Epoch 145 train loss: 0.8760814171102715 test loss: 1.7456022500991821\n",
      "Epoch 146 train loss: 0.7569298582469545 test loss: 1.422587275505066\n",
      "Epoch 147 train loss: 0.8393588467705541 test loss: 1.653731346130371\n",
      "Epoch 148 train loss: 0.7780135300283025 test loss: 1.406548023223877\n",
      "Epoch 149 train loss: 0.7813049396727143 test loss: 1.5692238807678223\n",
      "Epoch 150 train loss: 0.8192081921166037 test loss: 1.5023226737976074\n",
      "Epoch 151 train loss: 0.9236016980395084 test loss: 1.8361352682113647\n",
      "Epoch 152 train loss: 0.7527642605326524 test loss: 1.375083565711975\n",
      "Epoch 153 train loss: 0.7707759067416191 test loss: 1.7538602352142334\n",
      "Epoch 154 train loss: 0.8825927533027602 test loss: 1.5749388933181763\n",
      "Epoch 155 train loss: 0.8877293872760563 test loss: 1.5521095991134644\n",
      "Epoch 156 train loss: 0.8086961437834472 test loss: 1.8146169185638428\n",
      "Epoch 157 train loss: 0.7374152915506829 test loss: 1.403196930885315\n",
      "Epoch 158 train loss: 0.7114509904711712 test loss: 1.8630174398422241\n",
      "Epoch 159 train loss: 0.8578906709828028 test loss: 1.4530013799667358\n",
      "Epoch 160 train loss: 0.8196581164147796 test loss: 1.6018602848052979\n",
      "Epoch 161 train loss: 0.8447503669232856 test loss: 1.614809274673462\n",
      "Epoch 162 train loss: 0.852837052650568 test loss: 1.430030345916748\n",
      "Epoch 163 train loss: 0.801082057378641 test loss: 1.4579129219055176\n",
      "Epoch 164 train loss: 0.8198085707135316 test loss: 1.2479636669158936\n",
      "Epoch 165 train loss: 0.8538811848294444 test loss: 1.56913423538208\n",
      "Epoch 166 train loss: 0.8389360350443096 test loss: 1.6763852834701538\n",
      "Epoch 167 train loss: 0.7198961055496844 test loss: 1.4919334650039673\n",
      "Epoch 168 train loss: 0.7440848308728962 test loss: 1.4571731090545654\n",
      "Epoch 169 train loss: 0.8234320487372759 test loss: 1.5002292394638062\n",
      "Epoch 170 train loss: 0.7784585542068249 test loss: 1.8649728298187256\n",
      "Epoch 171 train loss: 0.7161327540511038 test loss: 1.2054036855697632\n",
      "Epoch 172 train loss: 0.7449522011163758 test loss: 1.5788418054580688\n",
      "Epoch 173 train loss: 0.7699045990480156 test loss: 1.3018900156021118\n",
      "Epoch 174 train loss: 0.8737201182762298 test loss: 1.4421565532684326\n",
      "Epoch 175 train loss: 0.7872070988140455 test loss: 1.2964298725128174\n",
      "Epoch 176 train loss: 0.8120581734834648 test loss: 1.4291943311691284\n",
      "Epoch 177 train loss: 0.7252699164900838 test loss: 0.906021237373352\n",
      "Epoch 178 train loss: 0.7776125015282049 test loss: 1.5334111452102661\n",
      "Epoch 179 train loss: 0.8621276978675912 test loss: 1.514381766319275\n",
      "Epoch 180 train loss: 0.7643497161022047 test loss: 1.3015309572219849\n",
      "Epoch 181 train loss: 0.8259060463709075 test loss: 1.7666783332824707\n",
      "Epoch 182 train loss: 0.7955438385649425 test loss: 1.10707426071167\n",
      "Epoch 183 train loss: 0.7783929369889382 test loss: 1.434111475944519\n",
      "Epoch 184 train loss: 0.6775929455350085 test loss: 1.2635468244552612\n",
      "Epoch 185 train loss: 0.7105444475281529 test loss: 1.6831821203231812\n",
      "Epoch 186 train loss: 0.8447294764038993 test loss: 1.4407992362976074\n",
      "Epoch 187 train loss: 0.787342583987771 test loss: 1.6414611339569092\n",
      "Epoch 188 train loss: 0.6940372652578645 test loss: 1.2191827297210693\n",
      "Epoch 189 train loss: 0.8195194065025667 test loss: 1.4898744821548462\n",
      "Epoch 190 train loss: 0.6362955369873018 test loss: 1.646642804145813\n",
      "Epoch 191 train loss: 0.8001940432118206 test loss: 1.4961143732070923\n",
      "Epoch 192 train loss: 0.7737720699117678 test loss: 1.6405718326568604\n",
      "Epoch 193 train loss: 0.7539889451752348 test loss: 1.6516132354736328\n",
      "Epoch 194 train loss: 0.7361327129893187 test loss: 1.4689478874206543\n",
      "Epoch 195 train loss: 0.6908304843052131 test loss: 1.4186146259307861\n",
      "Epoch 196 train loss: 0.7683831410618817 test loss: 1.3670680522918701\n",
      "Epoch 197 train loss: 0.7507232725165967 test loss: 1.7476210594177246\n",
      "Epoch 198 train loss: 0.797365172879725 test loss: 1.6089476346969604\n",
      "Epoch 199 train loss: 0.758673710703123 test loss: 1.8491647243499756\n",
      "Epoch 200 train loss: 0.7702260478967573 test loss: 1.7900079488754272\n",
      "Epoch 201 train loss: 0.81016525926023 test loss: 1.3948841094970703\n",
      "Epoch 202 train loss: 0.7924160362198586 test loss: 1.6679627895355225\n",
      "Epoch 203 train loss: 0.7573213302871076 test loss: 1.7517105340957642\n",
      "Epoch 204 train loss: 0.7865434758728598 test loss: 1.2168850898742676\n",
      "Epoch 205 train loss: 0.7119228022127617 test loss: 1.6937096118927002\n",
      "Epoch 206 train loss: 0.6478756971929859 test loss: 1.347076654434204\n",
      "Epoch 207 train loss: 0.7452037953203772 test loss: 1.7593820095062256\n",
      "Epoch 208 train loss: 0.7121608558951354 test loss: 1.502160668373108\n",
      "Epoch 209 train loss: 0.7100679243392334 test loss: 1.1300901174545288\n",
      "Epoch 210 train loss: 0.8626987646084007 test loss: 1.4249979257583618\n",
      "Epoch 211 train loss: 0.8627503832302442 test loss: 1.2902075052261353\n",
      "Epoch 212 train loss: 0.7350034198564727 test loss: 1.4244028329849243\n",
      "Epoch 213 train loss: 0.7178387412029069 test loss: 1.6084024906158447\n",
      "Epoch 214 train loss: 0.7587841818245445 test loss: 1.3918055295944214\n",
      "Epoch 215 train loss: 0.6404651517911655 test loss: 1.481444239616394\n",
      "Epoch 216 train loss: 0.632572364334653 test loss: 1.6330498456954956\n",
      "Epoch 217 train loss: 0.8091864313294248 test loss: 1.6309703588485718\n",
      "Epoch 218 train loss: 0.6902937793695345 test loss: 1.7622113227844238\n",
      "Epoch 219 train loss: 0.6493406517022267 test loss: 1.7348896265029907\n",
      "Epoch 220 train loss: 0.692308146143105 test loss: 1.8275377750396729\n",
      "Epoch 221 train loss: 0.8020987548388359 test loss: 1.037998914718628\n",
      "Epoch 222 train loss: 0.6636405738933784 test loss: 1.2653088569641113\n",
      "Epoch 223 train loss: 0.8108798822433483 test loss: 1.4657189846038818\n",
      "Epoch 224 train loss: 0.6385259611940965 test loss: 1.8037830591201782\n",
      "Epoch 225 train loss: 0.88103670536018 test loss: 1.5756512880325317\n",
      "Epoch 226 train loss: 0.7658831353594617 test loss: 1.433400273323059\n",
      "Epoch 227 train loss: 0.8694935736314553 test loss: 1.480710744857788\n",
      "Epoch 228 train loss: 0.7789074338790847 test loss: 1.450552225112915\n",
      "Epoch 229 train loss: 0.6806948920030419 test loss: 1.4674240350723267\n",
      "Epoch 230 train loss: 0.7058086238074593 test loss: 1.5104185342788696\n",
      "Epoch 231 train loss: 0.7488350332146738 test loss: 1.4313488006591797\n",
      "Epoch 232 train loss: 0.8537875651041182 test loss: 1.8921778202056885\n",
      "Epoch 233 train loss: 0.6803423547890128 test loss: 1.3145262002944946\n",
      "Epoch 234 train loss: 0.7740000163818278 test loss: 1.0634769201278687\n",
      "Epoch 235 train loss: 0.7573004150536002 test loss: 1.397050380706787\n",
      "Epoch 236 train loss: 0.6570627147831568 test loss: 1.754503607749939\n",
      "Epoch 237 train loss: 0.6052863309841331 test loss: 1.9562358856201172\n",
      "Epoch 238 train loss: 0.7192758206368947 test loss: 1.6152608394622803\n",
      "Epoch 239 train loss: 0.6743003143588218 test loss: 1.6295026540756226\n",
      "Epoch 240 train loss: 0.6956725318620844 test loss: 1.7147735357284546\n",
      "Epoch 241 train loss: 0.712789475281791 test loss: 1.7006727457046509\n",
      "Epoch 242 train loss: 0.773611002578968 test loss: 1.8609477281570435\n",
      "Epoch 243 train loss: 0.6203010260331921 test loss: 1.769128441810608\n",
      "Epoch 244 train loss: 0.571633957417273 test loss: 1.3833597898483276\n",
      "Epoch 245 train loss: 0.687512692336629 test loss: 1.457675576210022\n",
      "Epoch 246 train loss: 0.7637952856901216 test loss: 1.6505602598190308\n",
      "Epoch 247 train loss: 0.759188049177571 test loss: 1.6569325923919678\n",
      "Epoch 248 train loss: 0.7130348194481396 test loss: 1.0608904361724854\n",
      "Epoch 249 train loss: 0.7352112146412454 test loss: 1.7447518110275269\n",
      "Epoch 250 train loss: 0.8257661891601434 test loss: 1.561105489730835\n",
      "Epoch 251 train loss: 0.758358163350239 test loss: 1.5578709840774536\n",
      "Epoch 252 train loss: 0.7799724170529261 test loss: 1.5961283445358276\n",
      "Epoch 253 train loss: 0.610235815913212 test loss: 1.6764780282974243\n",
      "Epoch 254 train loss: 0.7080423495754963 test loss: 1.3089866638183594\n",
      "Epoch 255 train loss: 0.7676482395973148 test loss: 1.5873795747756958\n",
      "Epoch 256 train loss: 0.8057707815272052 test loss: 1.171578049659729\n",
      "Epoch 257 train loss: 0.7304952383586546 test loss: 1.7670408487319946\n",
      "Epoch 258 train loss: 0.7200208740626893 test loss: 1.5959527492523193\n",
      "Epoch 259 train loss: 0.6561133101945971 test loss: 1.1210156679153442\n",
      "Epoch 260 train loss: 0.6248316516781726 test loss: 1.628872275352478\n",
      "Epoch 261 train loss: 0.7281118811267179 test loss: 1.6037060022354126\n",
      "Epoch 262 train loss: 0.8046832157344352 test loss: 1.648023009300232\n",
      "Epoch 263 train loss: 0.7729851660750261 test loss: 1.8316720724105835\n",
      "Epoch 264 train loss: 0.7275840037661355 test loss: 1.3639980554580688\n",
      "Epoch 265 train loss: 0.7678979798787977 test loss: 1.163162112236023\n",
      "Epoch 266 train loss: 0.6772413226525958 test loss: 1.5604898929595947\n",
      "Epoch 267 train loss: 0.6213463324053985 test loss: 1.3674768209457397\n",
      "Epoch 268 train loss: 0.8331119366353605 test loss: 1.5761945247650146\n",
      "Epoch 269 train loss: 0.7183869024965821 test loss: 1.3733607530593872\n",
      "Epoch 270 train loss: 0.7136649676575894 test loss: 1.6998791694641113\n",
      "Epoch 271 train loss: 0.7070872666450535 test loss: 1.3746923208236694\n",
      "Epoch 272 train loss: 0.7278847636700403 test loss: 1.7090274095535278\n",
      "Epoch 273 train loss: 0.7894951305011424 test loss: 1.6591535806655884\n",
      "Epoch 274 train loss: 0.6713520707335414 test loss: 1.7386544942855835\n",
      "Epoch 275 train loss: 0.7599057620618401 test loss: 1.6762163639068604\n",
      "Epoch 276 train loss: 0.763725104219303 test loss: 1.4774218797683716\n",
      "Epoch 277 train loss: 0.7430553328155017 test loss: 1.6524584293365479\n",
      "Epoch 278 train loss: 0.6732783195812527 test loss: 1.2775083780288696\n",
      "Epoch 279 train loss: 0.7006428819149733 test loss: 1.6700303554534912\n",
      "Epoch 280 train loss: 0.6731634269945506 test loss: 1.878489375114441\n",
      "Epoch 281 train loss: 0.7587017898515958 test loss: 1.4549500942230225\n",
      "Epoch 282 train loss: 0.7226261375699101 test loss: 1.7784167528152466\n",
      "Epoch 283 train loss: 0.7180948651781897 test loss: 1.5070632696151733\n",
      "Epoch 284 train loss: 0.7402838339529386 test loss: 1.0437101125717163\n",
      "Epoch 285 train loss: 0.7959605600775742 test loss: 1.6775891780853271\n",
      "Epoch 286 train loss: 0.7873876057565212 test loss: 1.6243858337402344\n",
      "Epoch 287 train loss: 0.5953108081366958 test loss: 1.6272329092025757\n",
      "Epoch 288 train loss: 0.7709071428128859 test loss: 1.8380292654037476\n",
      "Epoch 289 train loss: 0.6115609645480062 test loss: 1.4320284128189087\n",
      "Epoch 290 train loss: 0.7297627695995134 test loss: 1.066066026687622\n",
      "Epoch 291 train loss: 0.7450098455315683 test loss: 1.332230806350708\n",
      "Epoch 292 train loss: 0.7880858957949208 test loss: 1.5270872116088867\n",
      "Epoch 293 train loss: 0.800129296394383 test loss: 1.4696992635726929\n",
      "Epoch 294 train loss: 0.7719676332866273 test loss: 1.7563062906265259\n",
      "Epoch 295 train loss: 0.7664571068726662 test loss: 1.6961729526519775\n",
      "Epoch 296 train loss: 0.6620791647128943 test loss: 1.5510485172271729\n",
      "Epoch 297 train loss: 0.665039832544763 test loss: 1.5874693393707275\n",
      "Epoch 298 train loss: 0.6362389193438902 test loss: 1.2200337648391724\n",
      "Epoch 299 train loss: 0.8277638979801317 test loss: 1.206125259399414\n",
      "Epoch 300 train loss: 0.7010604195841929 test loss: 1.6069607734680176\n",
      "Epoch 301 train loss: 0.7702457215182665 test loss: 1.6912482976913452\n",
      "Epoch 302 train loss: 0.7752167804212104 test loss: 1.6744903326034546\n",
      "Epoch 303 train loss: 0.6141699465309701 test loss: 1.4032487869262695\n",
      "Epoch 304 train loss: 0.662021189837194 test loss: 1.3775713443756104\n",
      "Epoch 305 train loss: 0.7751681104120685 test loss: 1.6969125270843506\n",
      "Epoch 306 train loss: 0.7373006828129292 test loss: 1.5015517473220825\n",
      "Epoch 307 train loss: 0.7532705246675305 test loss: 1.7264549732208252\n",
      "Epoch 308 train loss: 0.7822191608933414 test loss: 1.3345520496368408\n",
      "Epoch 309 train loss: 0.6708345166066798 test loss: 1.7394620180130005\n",
      "Epoch 310 train loss: 0.7100229979288287 test loss: 1.0834205150604248\n",
      "Epoch 311 train loss: 0.6427980562354006 test loss: 1.5806165933609009\n",
      "Epoch 312 train loss: 0.6547930307868051 test loss: 1.356278896331787\n",
      "Epoch 313 train loss: 0.7031977360204953 test loss: 1.6091305017471313\n",
      "Epoch 314 train loss: 0.777285260579935 test loss: 1.6899471282958984\n",
      "Epoch 315 train loss: 0.6409951046381782 test loss: 1.6277738809585571\n",
      "Epoch 316 train loss: 0.7628955994619102 test loss: 1.3117538690567017\n",
      "Epoch 317 train loss: 0.6365313115643292 test loss: 1.7925349473953247\n",
      "Epoch 318 train loss: 0.6814194895872255 test loss: 1.6841670274734497\n",
      "Epoch 319 train loss: 0.5838438558687524 test loss: 1.723611831665039\n",
      "Epoch 320 train loss: 0.6993781081060084 test loss: 1.6419695615768433\n",
      "Epoch 321 train loss: 0.7191628653828691 test loss: 1.2123582363128662\n",
      "Epoch 322 train loss: 0.7121039344588431 test loss: 1.4632997512817383\n",
      "Epoch 323 train loss: 0.5340006709462259 test loss: 1.4619839191436768\n",
      "Epoch 324 train loss: 0.6804363025216068 test loss: 1.459431529045105\n",
      "Epoch 325 train loss: 0.6126173403931827 test loss: 1.6866973638534546\n",
      "Epoch 326 train loss: 0.7666870855340143 test loss: 1.8279386758804321\n",
      "Epoch 327 train loss: 0.7551263804297622 test loss: 1.5334392786026\n",
      "Epoch 328 train loss: 0.6488853153295633 test loss: 1.6116154193878174\n",
      "Epoch 329 train loss: 0.6331951028508384 test loss: 1.417831540107727\n",
      "Epoch 330 train loss: 0.6435362500388447 test loss: 1.8379682302474976\n",
      "Epoch 331 train loss: 0.8000990742953812 test loss: 1.7801982164382935\n",
      "Epoch 332 train loss: 0.7280857401286683 test loss: 1.4070734977722168\n",
      "Epoch 333 train loss: 0.7396391310342928 test loss: 1.7065962553024292\n",
      "Epoch 334 train loss: 0.7074794304080125 test loss: 1.5724353790283203\n",
      "Epoch 335 train loss: 0.7466149235643992 test loss: 1.11053466796875\n",
      "Epoch 336 train loss: 0.7177797828505679 test loss: 1.663534164428711\n",
      "Epoch 337 train loss: 0.5940620533940268 test loss: 1.4914222955703735\n",
      "Epoch 338 train loss: 0.7646096790345703 test loss: 1.575377345085144\n",
      "Epoch 339 train loss: 0.7113852162913579 test loss: 1.9189436435699463\n",
      "Epoch 340 train loss: 0.6653198496234126 test loss: 1.3584061861038208\n",
      "Epoch 341 train loss: 0.6452136452241641 test loss: 1.0354366302490234\n",
      "Epoch 342 train loss: 0.5751170190732654 test loss: 2.1195573806762695\n",
      "Epoch 343 train loss: 0.7158088505994983 test loss: 1.9092134237289429\n",
      "Epoch 344 train loss: 0.7150711210035696 test loss: 1.4377801418304443\n",
      "Epoch 345 train loss: 0.7250953472969008 test loss: 1.4281131029129028\n",
      "Epoch 346 train loss: 0.6726948921455116 test loss: 1.3661264181137085\n",
      "Epoch 347 train loss: 0.6691176741406685 test loss: 1.2931385040283203\n",
      "Epoch 348 train loss: 0.6667093382012553 test loss: 1.311502456665039\n",
      "Epoch 349 train loss: 0.7271208390593529 test loss: 1.4006993770599365\n",
      "Epoch 350 train loss: 0.6053077021568287 test loss: 1.2177739143371582\n",
      "Epoch 351 train loss: 0.7781576347060319 test loss: 1.0726306438446045\n",
      "Epoch 352 train loss: 0.7219761855355123 test loss: 1.6790874004364014\n",
      "Epoch 353 train loss: 0.7087619281941797 test loss: 1.1176344156265259\n",
      "Epoch 354 train loss: 0.7460574007979254 test loss: 1.1267269849777222\n",
      "Epoch 355 train loss: 0.7200665254963607 test loss: 1.399570345878601\n",
      "Epoch 356 train loss: 0.7364780704786138 test loss: 1.7139065265655518\n",
      "Epoch 357 train loss: 0.7182137281974641 test loss: 1.4352844953536987\n",
      "Epoch 358 train loss: 0.6508703988681479 test loss: 1.6679022312164307\n",
      "Epoch 359 train loss: 0.7509652567891086 test loss: 1.324761152267456\n",
      "Epoch 360 train loss: 0.7342662583673145 test loss: 1.119857907295227\n",
      "Epoch 361 train loss: 0.7310386181968015 test loss: 1.1208683252334595\n",
      "Epoch 362 train loss: 0.6955612548967687 test loss: 1.219826579093933\n",
      "Epoch 363 train loss: 0.6602812300368053 test loss: 1.477964162826538\n",
      "Epoch 364 train loss: 0.6706923574390935 test loss: 1.1131255626678467\n",
      "Epoch 365 train loss: 0.7076513303852663 test loss: 1.3552958965301514\n",
      "Epoch 366 train loss: 0.8286512599485677 test loss: 1.688536286354065\n",
      "Epoch 367 train loss: 0.4672365208587995 test loss: 2.168846368789673\n",
      "Epoch 368 train loss: 0.7253301613396261 test loss: 1.0873690843582153\n",
      "Epoch 369 train loss: 0.6369914021797296 test loss: 1.8241783380508423\n",
      "Epoch 370 train loss: 0.7406549893501329 test loss: 1.698469638824463\n",
      "Epoch 371 train loss: 0.636731275607173 test loss: 1.7427469491958618\n",
      "Epoch 372 train loss: 0.8475068519573387 test loss: 1.655186653137207\n",
      "Epoch 373 train loss: 0.8141351282233145 test loss: 1.528928518295288\n",
      "Epoch 374 train loss: 0.6787127362246194 test loss: 1.7668536901474\n",
      "Epoch 375 train loss: 0.6938140921112967 test loss: 1.3990859985351562\n",
      "Epoch 376 train loss: 0.6763527512368632 test loss: 1.5564590692520142\n",
      "Epoch 377 train loss: 0.5754994798179079 test loss: 0.9777594804763794\n",
      "Epoch 378 train loss: 0.5432375959779431 test loss: 1.568708062171936\n",
      "Epoch 379 train loss: 0.6063712222001901 test loss: 1.5755553245544434\n",
      "Epoch 380 train loss: 0.7012536505736956 test loss: 1.2006213665008545\n",
      "Epoch 381 train loss: 0.6270301254784189 test loss: 1.5263638496398926\n",
      "Epoch 382 train loss: 0.7114991697414619 test loss: 1.677847981452942\n",
      "Epoch 383 train loss: 0.732581290711717 test loss: 1.716138243675232\n",
      "Epoch 384 train loss: 0.7599050688852624 test loss: 1.4186397790908813\n",
      "Epoch 385 train loss: 0.7202391970630099 test loss: 1.5270380973815918\n",
      "Epoch 386 train loss: 0.6655714232928869 test loss: 1.0814851522445679\n",
      "Epoch 387 train loss: 0.6043054115299772 test loss: 1.5105122327804565\n",
      "Epoch 388 train loss: 0.734582162848333 test loss: 1.380730390548706\n",
      "Epoch 389 train loss: 0.710104020993884 test loss: 1.4736162424087524\n",
      "Epoch 390 train loss: 0.6462967268577436 test loss: 2.0318188667297363\n",
      "Epoch 391 train loss: 0.7230986720178185 test loss: 1.519629955291748\n",
      "Epoch 392 train loss: 0.6215957391371087 test loss: 1.2876859903335571\n",
      "Epoch 393 train loss: 0.6775276039431735 test loss: 1.2856956720352173\n",
      "Epoch 394 train loss: 0.6207322589144474 test loss: 1.6733803749084473\n",
      "Epoch 395 train loss: 0.5360522117556595 test loss: 1.6194278001785278\n",
      "Epoch 396 train loss: 0.7753787316927095 test loss: 1.7150627374649048\n",
      "Epoch 397 train loss: 0.7220029114949994 test loss: 1.438693642616272\n",
      "Epoch 398 train loss: 0.6379864600191756 test loss: 1.5461747646331787\n",
      "Epoch 399 train loss: 0.6719038937149978 test loss: 1.190546989440918\n",
      "Epoch 400 train loss: 0.7527717271047395 test loss: 1.3843295574188232\n",
      "Epoch 401 train loss: 0.660828453738515 test loss: 1.3079569339752197\n",
      "Epoch 402 train loss: 0.708246755527287 test loss: 1.115923523902893\n",
      "Epoch 403 train loss: 0.6476058683744291 test loss: 1.014376163482666\n",
      "Epoch 404 train loss: 0.7223616747594461 test loss: 1.5668977499008179\n",
      "Epoch 405 train loss: 0.5155688424299403 test loss: 1.379475712776184\n",
      "Epoch 406 train loss: 0.7079715418924646 test loss: 1.4229977130889893\n",
      "Epoch 407 train loss: 0.7463682875400637 test loss: 1.5453046560287476\n",
      "Epoch 408 train loss: 0.69214554003826 test loss: 1.765817403793335\n",
      "Epoch 409 train loss: 0.8244659951547297 test loss: 1.9409043788909912\n",
      "Epoch 410 train loss: 0.6825348107916552 test loss: 1.7386451959609985\n",
      "Epoch 411 train loss: 0.5524769748856382 test loss: 1.5106416940689087\n",
      "Epoch 412 train loss: 0.664358283143218 test loss: 1.3313668966293335\n",
      "Epoch 413 train loss: 0.6356501365307627 test loss: 1.501641869544983\n",
      "Epoch 414 train loss: 0.6547086927585486 test loss: 1.4436336755752563\n",
      "Epoch 415 train loss: 0.5240276106065367 test loss: 1.5052952766418457\n",
      "Epoch 416 train loss: 0.674772365700181 test loss: 1.4419983625411987\n",
      "Epoch 417 train loss: 0.481092396850993 test loss: 1.4928615093231201\n",
      "Epoch 418 train loss: 0.6046273611122515 test loss: 1.4876688718795776\n",
      "Epoch 419 train loss: 0.7002998612275938 test loss: 1.2665055990219116\n",
      "Epoch 420 train loss: 0.6525568813085556 test loss: 1.5067411661148071\n",
      "Epoch 421 train loss: 0.7966351915696045 test loss: 1.90715754032135\n",
      "Epoch 422 train loss: 0.6963759736135239 test loss: 1.501918911933899\n",
      "Epoch 423 train loss: 0.6036889889254803 test loss: 1.7821515798568726\n",
      "Epoch 424 train loss: 0.8611682509867157 test loss: 1.6801344156265259\n",
      "Epoch 425 train loss: 0.7304312467756795 test loss: 1.6601299047470093\n",
      "Epoch 426 train loss: 0.6170496293684331 test loss: 1.7534981966018677\n",
      "Epoch 427 train loss: 0.6095591689028391 test loss: 1.3987032175064087\n",
      "Epoch 428 train loss: 0.6156952538323112 test loss: 1.718117594718933\n",
      "Epoch 429 train loss: 0.7118343390160944 test loss: 1.2315632104873657\n",
      "Epoch 430 train loss: 0.766947114976441 test loss: 1.764636754989624\n",
      "Epoch 431 train loss: 0.6838264010119729 test loss: 1.6138345003128052\n",
      "Epoch 432 train loss: 0.6269464073929845 test loss: 1.5432064533233643\n",
      "Epoch 433 train loss: 0.736056281935151 test loss: 1.0531859397888184\n",
      "Epoch 434 train loss: 0.6370110275541864 test loss: 1.8301661014556885\n",
      "Epoch 435 train loss: 0.6141871716372851 test loss: 2.005819797515869\n",
      "Epoch 436 train loss: 0.5475869000684924 test loss: 2.0349905490875244\n",
      "Epoch 437 train loss: 0.6322478449380979 test loss: 1.3132256269454956\n",
      "Epoch 438 train loss: 0.5971546474753356 test loss: 1.701464295387268\n",
      "Epoch 439 train loss: 0.5655835025557657 test loss: 1.4675053358078003\n",
      "Epoch 440 train loss: 0.6663816252314463 test loss: 1.832398533821106\n",
      "Epoch 441 train loss: 0.5379514408911147 test loss: 1.3857418298721313\n",
      "Epoch 442 train loss: 0.7809843051179153 test loss: 1.738909363746643\n",
      "Epoch 443 train loss: 0.7785551082797166 test loss: 1.5731483697891235\n",
      "Epoch 444 train loss: 0.8001538607768897 test loss: 1.4531493186950684\n",
      "Epoch 445 train loss: 0.6598351372451317 test loss: 1.7305057048797607\n",
      "Epoch 446 train loss: 0.7210085259341612 test loss: 1.5852839946746826\n",
      "Epoch 447 train loss: 0.7261542601556312 test loss: 1.4551130533218384\n",
      "Epoch 448 train loss: 0.7066569694476884 test loss: 1.6717493534088135\n",
      "Epoch 449 train loss: 0.6538472428190999 test loss: 1.879437804222107\n",
      "Epoch 450 train loss: 0.6405666033487495 test loss: 1.4655272960662842\n",
      "Epoch 451 train loss: 0.7167192459469889 test loss: 1.8464199304580688\n",
      "Epoch 452 train loss: 0.6683719512529489 test loss: 1.7203445434570312\n",
      "Epoch 453 train loss: 0.633336609910901 test loss: 1.5984251499176025\n",
      "Epoch 454 train loss: 0.6567102082800574 test loss: 1.2801554203033447\n",
      "Epoch 455 train loss: 0.7606428819822102 test loss: 1.4853929281234741\n",
      "Epoch 456 train loss: 0.7214368226506361 test loss: 1.7376962900161743\n",
      "Epoch 457 train loss: 0.6222673978020505 test loss: 1.0933489799499512\n",
      "Epoch 458 train loss: 0.710310328933524 test loss: 1.8257075548171997\n",
      "Epoch 459 train loss: 0.5769510045647621 test loss: 1.5271656513214111\n",
      "Epoch 460 train loss: 0.7197512028420844 test loss: 1.5807350873947144\n",
      "Epoch 461 train loss: 0.5960635940839605 test loss: 1.9478821754455566\n",
      "Epoch 462 train loss: 0.7188520487852212 test loss: 1.498794436454773\n",
      "Epoch 463 train loss: 0.5752228760137791 test loss: 1.4623318910598755\n",
      "Epoch 464 train loss: 0.7204425797411581 test loss: 1.1894172430038452\n",
      "Epoch 465 train loss: 0.7018953320093271 test loss: 1.277448058128357\n",
      "Epoch 466 train loss: 0.6289584861114258 test loss: 1.8659915924072266\n",
      "Epoch 467 train loss: 0.4971377165397493 test loss: 1.2720375061035156\n",
      "Epoch 468 train loss: 0.5922389621959954 test loss: 2.0464892387390137\n",
      "Epoch 469 train loss: 0.7914283775338312 test loss: 1.5318440198898315\n",
      "Epoch 470 train loss: 0.5566461273446316 test loss: 1.290924310684204\n",
      "Epoch 471 train loss: 0.6270338135158143 test loss: 1.4399755001068115\n",
      "Epoch 472 train loss: 0.751004966384754 test loss: 1.5270705223083496\n",
      "Epoch 473 train loss: 0.48759700185278565 test loss: 1.241274118423462\n",
      "Epoch 474 train loss: 0.734197834642922 test loss: 0.9998305439949036\n",
      "Epoch 475 train loss: 0.685781451714475 test loss: 1.3703521490097046\n",
      "Epoch 476 train loss: 0.7036596761062378 test loss: 1.3239659070968628\n",
      "Epoch 477 train loss: 0.773065827241758 test loss: 1.2307476997375488\n",
      "Epoch 478 train loss: 0.6270367087024015 test loss: 1.7956422567367554\n",
      "Epoch 479 train loss: 0.7150621795799674 test loss: 1.7821170091629028\n",
      "Epoch 480 train loss: 0.6324772723019123 test loss: 1.8102669715881348\n",
      "Epoch 481 train loss: 0.6570789543230359 test loss: 1.5296417474746704\n",
      "Epoch 482 train loss: 0.463783487041549 test loss: 1.741034746170044\n",
      "Epoch 483 train loss: 0.735683345213169 test loss: 1.1828837394714355\n",
      "Epoch 484 train loss: 0.694652589356027 test loss: 1.436484456062317\n",
      "Epoch 485 train loss: 0.6155037033121761 test loss: 1.5000814199447632\n",
      "Epoch 486 train loss: 0.6978810478637858 test loss: 1.371747612953186\n",
      "Epoch 487 train loss: 0.5236725561865946 test loss: 1.3371732234954834\n",
      "Epoch 488 train loss: 0.6745768372287474 test loss: 1.4463878870010376\n",
      "Epoch 489 train loss: 0.6835428467701848 test loss: 1.78892183303833\n",
      "Epoch 490 train loss: 0.7173762388254811 test loss: 1.3712248802185059\n",
      "Epoch 491 train loss: 0.6416246116888232 test loss: 1.5413113832473755\n",
      "Epoch 492 train loss: 0.7399530833269038 test loss: 0.9649375081062317\n",
      "Epoch 493 train loss: 0.6282336204880621 test loss: 1.71452796459198\n",
      "Epoch 494 train loss: 0.7808994003003691 test loss: 1.707994818687439\n",
      "Epoch 495 train loss: 0.6834182788776916 test loss: 1.571205496788025\n",
      "Epoch 496 train loss: 0.8188575448059454 test loss: 1.183709979057312\n",
      "Epoch 497 train loss: 0.5795125456118002 test loss: 1.5171982049942017\n",
      "Epoch 498 train loss: 0.6077109120059304 test loss: 1.315015196800232\n",
      "Epoch 499 train loss: 0.5736845243813061 test loss: 1.4625635147094727\n",
      "Epoch 500 train loss: 0.5919871451106014 test loss: 1.463706612586975\n",
      "Epoch 501 train loss: 0.6736897571784694 test loss: 1.604990005493164\n",
      "Epoch 502 train loss: 0.6788273380115265 test loss: 1.0008904933929443\n",
      "Epoch 503 train loss: 0.6722173490902272 test loss: 1.4348742961883545\n",
      "Epoch 504 train loss: 0.6841033678956148 test loss: 1.6538759469985962\n",
      "Epoch 505 train loss: 0.7284412658432635 test loss: 1.5337729454040527\n",
      "Epoch 506 train loss: 0.6803603074172648 test loss: 2.0268313884735107\n",
      "Epoch 507 train loss: 0.7747627213233854 test loss: 1.2567925453186035\n",
      "Epoch 508 train loss: 0.5310703492382678 test loss: 1.7904512882232666\n",
      "Epoch 509 train loss: 0.5449142658674135 test loss: 1.6966227293014526\n",
      "Epoch 510 train loss: 0.7795367013753914 test loss: 2.01132869720459\n",
      "Epoch 511 train loss: 0.5716164918025819 test loss: 1.2502089738845825\n",
      "Epoch 512 train loss: 0.7459258975052252 test loss: 1.5268856287002563\n",
      "Epoch 513 train loss: 0.5310134793200144 test loss: 1.5428053140640259\n",
      "Epoch 514 train loss: 0.6138618319499783 test loss: 1.4230477809906006\n",
      "Epoch 515 train loss: 0.7702535281820995 test loss: 1.3860294818878174\n",
      "Epoch 516 train loss: 0.5980426960783761 test loss: 1.6512068510055542\n",
      "Epoch 517 train loss: 0.6800031170430707 test loss: 1.9705382585525513\n",
      "Epoch 518 train loss: 0.7326557075650226 test loss: 1.4534635543823242\n",
      "Epoch 519 train loss: 0.6304112462917479 test loss: 1.220312476158142\n",
      "Epoch 520 train loss: 0.6377895705220176 test loss: 1.3864198923110962\n",
      "Epoch 521 train loss: 0.669886368349558 test loss: 1.213727593421936\n",
      "Epoch 522 train loss: 0.7142610901557818 test loss: 1.499968409538269\n",
      "Epoch 523 train loss: 0.7160983621710684 test loss: 1.3898476362228394\n",
      "Epoch 524 train loss: 0.5810396992033575 test loss: 1.2277218103408813\n",
      "Epoch 525 train loss: 0.7320195997997028 test loss: 2.066603899002075\n",
      "Epoch 526 train loss: 0.728957491949564 test loss: 1.380867600440979\n",
      "Epoch 527 train loss: 0.5338163851964765 test loss: 1.5872634649276733\n",
      "Epoch 528 train loss: 0.6242858384985749 test loss: 1.5741815567016602\n",
      "Epoch 529 train loss: 0.6409781493428277 test loss: 1.054609775543213\n",
      "Epoch 530 train loss: 0.6379278327633695 test loss: 1.6017961502075195\n",
      "Epoch 531 train loss: 0.6627902506691653 test loss: 1.6183878183364868\n",
      "Epoch 532 train loss: 0.5847489215978762 test loss: 1.3782600164413452\n",
      "Epoch 533 train loss: 0.7153444946175669 test loss: 1.6895015239715576\n",
      "Epoch 534 train loss: 0.5757193631696992 test loss: 1.63620924949646\n",
      "Epoch 535 train loss: 0.6648604158857246 test loss: 1.2830638885498047\n",
      "Epoch 536 train loss: 0.4833772076157535 test loss: 1.612504005432129\n",
      "Epoch 537 train loss: 0.5555851837483848 test loss: 1.5206633806228638\n",
      "Epoch 538 train loss: 0.7474671833035422 test loss: 1.7505909204483032\n",
      "Epoch 539 train loss: 0.7647489426521267 test loss: 1.642225742340088\n",
      "Epoch 540 train loss: 0.5671865841964396 test loss: 1.7492953538894653\n",
      "Epoch 541 train loss: 0.6752676780267459 test loss: 1.44692063331604\n",
      "Epoch 542 train loss: 0.5808971280731806 test loss: 1.6295496225357056\n",
      "Epoch 543 train loss: 0.7342301472658064 test loss: 1.1980684995651245\n",
      "Epoch 544 train loss: 0.7671129594488841 test loss: 1.8306556940078735\n",
      "Epoch 545 train loss: 0.6864346454783183 test loss: 1.9349408149719238\n",
      "Epoch 546 train loss: 0.6771932064396579 test loss: 1.486844539642334\n",
      "Epoch 547 train loss: 0.6521871476093444 test loss: 1.7885831594467163\n",
      "Epoch 548 train loss: 0.5225537845456019 test loss: 0.9997860789299011\n",
      "Epoch 549 train loss: 0.5854378744232945 test loss: 1.643108606338501\n",
      "Epoch 550 train loss: 0.6369485410793525 test loss: 1.5483999252319336\n",
      "Epoch 551 train loss: 0.7579278096374942 test loss: 1.8591997623443604\n",
      "Epoch 552 train loss: 0.7962311469472763 test loss: 1.0749517679214478\n",
      "Epoch 553 train loss: 0.6687519450376673 test loss: 1.7715193033218384\n",
      "Epoch 554 train loss: 0.5996317152933377 test loss: 1.5486925840377808\n",
      "Epoch 555 train loss: 0.5812857941519923 test loss: 1.4159690141677856\n",
      "Epoch 556 train loss: 0.6557815200308474 test loss: 1.7679020166397095\n",
      "Epoch 557 train loss: 0.6915463428580906 test loss: 1.6473761796951294\n",
      "Epoch 558 train loss: 0.8276673367292415 test loss: 1.3571864366531372\n",
      "Epoch 559 train loss: 0.7418313637920996 test loss: 2.1326003074645996\n",
      "Epoch 560 train loss: 0.6304660074231101 test loss: 1.6027156114578247\n",
      "Epoch 561 train loss: 0.5646622259987564 test loss: 1.7200639247894287\n",
      "Epoch 562 train loss: 0.6014432226103253 test loss: 1.6567354202270508\n",
      "Epoch 563 train loss: 0.7009725952293815 test loss: 1.6478054523468018\n",
      "Epoch 564 train loss: 0.6714901142730946 test loss: 1.333777904510498\n",
      "Epoch 565 train loss: 0.6242336241937265 test loss: 1.7506558895111084\n",
      "Epoch 566 train loss: 0.7309123582956267 test loss: 1.9117791652679443\n",
      "Epoch 567 train loss: 0.7618635867881339 test loss: 1.3674418926239014\n",
      "Epoch 568 train loss: 0.632062002289586 test loss: 1.5047663450241089\n",
      "Epoch 569 train loss: 0.5711274810317086 test loss: 1.244743824005127\n",
      "Epoch 570 train loss: 0.7284377760640005 test loss: 1.6673907041549683\n",
      "Epoch 571 train loss: 0.70955391534854 test loss: 1.6245760917663574\n",
      "Epoch 572 train loss: 0.6614508841459344 test loss: 1.697203516960144\n",
      "Epoch 573 train loss: 0.7596483073401742 test loss: 1.9612329006195068\n",
      "Epoch 574 train loss: 0.6806618552200678 test loss: 1.4376758337020874\n",
      "Epoch 575 train loss: 0.7245597523160097 test loss: 1.2591882944107056\n",
      "Epoch 576 train loss: 0.7375730102109473 test loss: 1.689911127090454\n",
      "Epoch 577 train loss: 0.6761943752445826 test loss: 1.8207435607910156\n",
      "Epoch 578 train loss: 0.5959622899933559 test loss: 1.574297547340393\n",
      "Epoch 579 train loss: 0.6740712418970538 test loss: 1.5757241249084473\n",
      "Epoch 580 train loss: 0.6532244319777664 test loss: 1.8280377388000488\n",
      "Epoch 581 train loss: 0.5854422251080594 test loss: 1.2959725856781006\n",
      "Epoch 582 train loss: 0.733101651799388 test loss: 1.3074039220809937\n",
      "Epoch 583 train loss: 0.6130481218782867 test loss: 1.950543999671936\n",
      "Epoch 584 train loss: 0.6825196091539976 test loss: 1.3923882246017456\n",
      "Epoch 585 train loss: 0.5694754256798726 test loss: 2.1951115131378174\n",
      "Epoch 586 train loss: 0.7911663432491989 test loss: 2.0331223011016846\n",
      "Epoch 587 train loss: 0.6521897601281724 test loss: 1.521237850189209\n",
      "Epoch 588 train loss: 0.6561472179686151 test loss: 1.5881483554840088\n",
      "Epoch 589 train loss: 0.5617896635539648 test loss: 1.6864744424819946\n",
      "Epoch 590 train loss: 0.6686577306288045 test loss: 1.7235161066055298\n",
      "Epoch 591 train loss: 0.7045915516593108 test loss: 1.5409090518951416\n",
      "Epoch 592 train loss: 0.7721184523458161 test loss: 1.3824944496154785\n",
      "Epoch 593 train loss: 0.7188651709840065 test loss: 1.45792818069458\n",
      "Epoch 594 train loss: 0.6139436117032679 test loss: 1.4897199869155884\n",
      "Epoch 595 train loss: 0.6404416632906693 test loss: 2.1607704162597656\n",
      "Epoch 596 train loss: 0.774016331426981 test loss: 1.1811186075210571\n",
      "Epoch 597 train loss: 0.5576092310976691 test loss: 1.8332955837249756\n",
      "Epoch 598 train loss: 0.5528331652919694 test loss: 1.5878454446792603\n",
      "Epoch 599 train loss: 0.5696030618940912 test loss: 1.448466420173645\n",
      "Epoch 600 train loss: 0.6549093512500205 test loss: 1.6764681339263916\n",
      "Epoch 601 train loss: 0.5880477765529621 test loss: 1.7958580255508423\n",
      "Epoch 602 train loss: 0.803322558359402 test loss: 1.522978663444519\n",
      "Epoch 603 train loss: 0.7326137830571431 test loss: 1.3741084337234497\n",
      "Epoch 604 train loss: 0.6228952078921038 test loss: 1.2607184648513794\n",
      "Epoch 605 train loss: 0.7571375986970053 test loss: 1.692149043083191\n",
      "Epoch 606 train loss: 0.6215237578967723 test loss: 1.8697105646133423\n",
      "Epoch 607 train loss: 0.6565130776384982 test loss: 1.6641114950180054\n",
      "Epoch 608 train loss: 0.7757116096412263 test loss: 1.3348312377929688\n",
      "Epoch 609 train loss: 0.6824716725727407 test loss: 1.7221370935440063\n",
      "Epoch 610 train loss: 0.7841895300804115 test loss: 1.8174911737442017\n",
      "Epoch 611 train loss: 0.46156678757653 test loss: 1.587544560432434\n",
      "Epoch 612 train loss: 0.7203521325093943 test loss: 1.698759913444519\n",
      "Epoch 613 train loss: 0.6267811050865708 test loss: 1.568590760231018\n",
      "Epoch 614 train loss: 0.6717047135277492 test loss: 1.5880650281906128\n",
      "Epoch 615 train loss: 0.5832700798424278 test loss: 0.9102171063423157\n",
      "Epoch 616 train loss: 0.5542089083209271 test loss: 1.4942470788955688\n",
      "Epoch 617 train loss: 0.7141931901072583 test loss: 1.6673985719680786\n",
      "Epoch 618 train loss: 0.6309862147744109 test loss: 1.5008294582366943\n",
      "Epoch 619 train loss: 0.6433318041083289 test loss: 1.5488734245300293\n",
      "Epoch 620 train loss: 0.7026016830307681 test loss: 1.9613920450210571\n",
      "Epoch 621 train loss: 0.5667684759672095 test loss: 1.0822159051895142\n",
      "Epoch 622 train loss: 0.7196382656693459 test loss: 2.1942591667175293\n",
      "Epoch 623 train loss: 0.5941303025295095 test loss: 1.7062312364578247\n",
      "Epoch 624 train loss: 0.6463508751334214 test loss: 1.3268170356750488\n",
      "Epoch 625 train loss: 0.6575685058970276 test loss: 1.7463971376419067\n",
      "Epoch 626 train loss: 0.6729718186869854 test loss: 1.7562923431396484\n",
      "Epoch 627 train loss: 0.5241536165519458 test loss: 0.9377945065498352\n",
      "Epoch 628 train loss: 0.6725964133695859 test loss: 1.3029780387878418\n",
      "Epoch 629 train loss: 0.7364959452392125 test loss: 1.2479640245437622\n",
      "Epoch 630 train loss: 0.5894360113434676 test loss: 1.5836865901947021\n",
      "Epoch 631 train loss: 0.5329769615356515 test loss: 1.9845820665359497\n",
      "Epoch 632 train loss: 0.7000519825917918 test loss: 1.9808080196380615\n",
      "Epoch 633 train loss: 0.5221760127602554 test loss: 1.4106357097625732\n",
      "Epoch 634 train loss: 0.602349163010353 test loss: 1.5371601581573486\n",
      "Epoch 635 train loss: 0.6741861346654776 test loss: 1.5983457565307617\n",
      "Epoch 636 train loss: 0.5054491279964767 test loss: 1.822602391242981\n",
      "Epoch 637 train loss: 0.5567002696235005 test loss: 1.6848187446594238\n",
      "Epoch 638 train loss: 0.7770001245889722 test loss: 1.0967296361923218\n",
      "Epoch 639 train loss: 0.6161656117112171 test loss: 1.413967251777649\n",
      "Epoch 640 train loss: 0.7019216408271615 test loss: 1.396554946899414\n",
      "Epoch 641 train loss: 0.5194192145292352 test loss: 2.0293378829956055\n",
      "Epoch 642 train loss: 0.7159204351284155 test loss: 1.6663602590560913\n",
      "Epoch 643 train loss: 0.5456551451962895 test loss: 1.4493952989578247\n",
      "Epoch 644 train loss: 0.7397391637560071 test loss: 1.5394998788833618\n",
      "Epoch 645 train loss: 0.6185698406543674 test loss: 1.5625883340835571\n",
      "Epoch 646 train loss: 0.7080108616955396 test loss: 1.5357781648635864\n",
      "Epoch 647 train loss: 0.6209182108684284 test loss: 1.9045804738998413\n",
      "Epoch 648 train loss: 0.5708196480281469 test loss: 1.4832721948623657\n",
      "Epoch 649 train loss: 0.6754661036155573 test loss: 1.9673303365707397\n",
      "Epoch 650 train loss: 0.6643490477851252 test loss: 1.462602138519287\n",
      "Epoch 651 train loss: 0.7207542729632157 test loss: 1.7074846029281616\n",
      "Epoch 652 train loss: 0.7019797286427603 test loss: 1.7861766815185547\n",
      "Epoch 653 train loss: 0.6377598019998248 test loss: 1.4084367752075195\n",
      "Epoch 654 train loss: 0.8078792249647583 test loss: 1.6947624683380127\n",
      "Epoch 655 train loss: 0.6802208564448647 test loss: 1.454076886177063\n",
      "Epoch 656 train loss: 0.6321948926623274 test loss: 1.4510704278945923\n",
      "Epoch 657 train loss: 0.6507223855431487 test loss: 1.938128113746643\n",
      "Epoch 658 train loss: 0.7479445588116239 test loss: 1.769590139389038\n",
      "Epoch 659 train loss: 0.7297122441232204 test loss: 1.6748212575912476\n",
      "Epoch 660 train loss: 0.7234524009613003 test loss: 1.7455775737762451\n",
      "Epoch 661 train loss: 0.4803676952312632 test loss: 1.6262931823730469\n",
      "Epoch 662 train loss: 0.6530099686507772 test loss: 1.7677150964736938\n",
      "Epoch 663 train loss: 0.5149086715153804 test loss: 2.026345729827881\n",
      "Epoch 664 train loss: 0.7778843687620105 test loss: 1.7317535877227783\n",
      "Epoch 665 train loss: 0.6981104014486801 test loss: 1.069792628288269\n",
      "Epoch 666 train loss: 0.7302840926298281 test loss: 1.3817030191421509\n",
      "Epoch 667 train loss: 0.6337231813770968 test loss: 1.6131441593170166\n",
      "Epoch 668 train loss: 0.7040718954692526 test loss: 2.1992573738098145\n",
      "Epoch 669 train loss: 0.7780893673984016 test loss: 2.109719753265381\n",
      "Epoch 670 train loss: 0.6672117471149782 test loss: 1.5795345306396484\n",
      "Epoch 671 train loss: 0.6608636471919898 test loss: 1.8389633893966675\n",
      "Epoch 672 train loss: 0.7959839283693128 test loss: 1.5924125909805298\n",
      "Epoch 673 train loss: 0.6841532181857563 test loss: 1.3837569952011108\n",
      "Epoch 674 train loss: 0.5798542941125427 test loss: 1.8704427480697632\n",
      "Epoch 675 train loss: 0.617075723436911 test loss: 1.1334736347198486\n",
      "Epoch 676 train loss: 0.6028436983867389 test loss: 1.3404123783111572\n",
      "Epoch 677 train loss: 0.4194238802826986 test loss: 2.0653164386749268\n",
      "Epoch 678 train loss: 0.6687048935308689 test loss: 1.3004056215286255\n",
      "Epoch 679 train loss: 0.6480490410382428 test loss: 1.7363476753234863\n",
      "Epoch 680 train loss: 0.6984545116017504 test loss: 2.05181622505188\n",
      "Epoch 681 train loss: 0.6722615397557979 test loss: 1.4436320066452026\n",
      "Epoch 682 train loss: 0.5294795225306255 test loss: 1.3965202569961548\n",
      "Epoch 683 train loss: 0.5021199514953102 test loss: 1.7782635688781738\n",
      "Epoch 684 train loss: 0.7827693709149594 test loss: 1.4151002168655396\n",
      "Epoch 685 train loss: 0.8187175580731979 test loss: 1.3572269678115845\n",
      "Epoch 686 train loss: 0.6532926067891645 test loss: 1.4854615926742554\n",
      "Epoch 687 train loss: 0.4945308656954184 test loss: 1.1018650531768799\n",
      "Epoch 688 train loss: 0.733775812950803 test loss: 1.5776090621948242\n",
      "Epoch 689 train loss: 0.4982965566763064 test loss: 1.669914722442627\n",
      "Epoch 690 train loss: 0.5465748973372506 test loss: 1.425852656364441\n",
      "Epoch 691 train loss: 0.5994576119431635 test loss: 1.5220896005630493\n",
      "Epoch 692 train loss: 0.6922753655874148 test loss: 1.795189380645752\n",
      "Epoch 693 train loss: 0.7595091727448673 test loss: 2.05680251121521\n",
      "Epoch 694 train loss: 0.7426333270240121 test loss: 1.6978247165679932\n",
      "Epoch 695 train loss: 0.5899767748466352 test loss: 1.7991136312484741\n",
      "Epoch 696 train loss: 0.6630080644859047 test loss: 1.9169455766677856\n",
      "Epoch 697 train loss: 0.5344157168051091 test loss: 1.856524109840393\n",
      "Epoch 698 train loss: 0.7811840916188751 test loss: 1.3459734916687012\n",
      "Epoch 699 train loss: 0.5863805316025164 test loss: 2.065859794616699\n",
      "Epoch 700 train loss: 0.7520338969259728 test loss: 1.539136528968811\n",
      "Epoch 701 train loss: 0.639017048041995 test loss: 1.3401201963424683\n",
      "Epoch 702 train loss: 0.6478127498270535 test loss: 1.4278451204299927\n",
      "Epoch 703 train loss: 0.5931362542437344 test loss: 1.7918717861175537\n",
      "Epoch 704 train loss: 0.6949596087925318 test loss: 1.5475670099258423\n",
      "Epoch 705 train loss: 0.6924250718297028 test loss: 1.0426205396652222\n",
      "Epoch 706 train loss: 0.6527094238596719 test loss: 1.249428391456604\n",
      "Epoch 707 train loss: 0.7264367845363733 test loss: 1.1745022535324097\n",
      "Epoch 708 train loss: 0.702172808894297 test loss: 1.2381664514541626\n",
      "Epoch 709 train loss: 0.5495604418399858 test loss: 1.6099802255630493\n",
      "Epoch 710 train loss: 0.5429180409850144 test loss: 1.7963730096817017\n",
      "Epoch 711 train loss: 0.6766237420279805 test loss: 1.287803053855896\n",
      "Epoch 712 train loss: 0.5767971553453585 test loss: 2.1140363216400146\n",
      "Epoch 713 train loss: 0.7653517924794336 test loss: 1.445581078529358\n",
      "Epoch 714 train loss: 0.5393442467036771 test loss: 1.672795295715332\n",
      "Epoch 715 train loss: 0.6797703844381542 test loss: 1.7713757753372192\n",
      "Epoch 716 train loss: 0.7558724611270718 test loss: 1.894208312034607\n",
      "Epoch 717 train loss: 0.7661395032958287 test loss: 1.690525770187378\n",
      "Epoch 718 train loss: 0.6896319340278463 test loss: 1.662750482559204\n",
      "Epoch 719 train loss: 0.6663122940354231 test loss: 1.2870714664459229\n",
      "Epoch 720 train loss: 0.6210665152203746 test loss: 1.3412879705429077\n",
      "Epoch 721 train loss: 0.5985558596326084 test loss: 1.6969619989395142\n",
      "Epoch 722 train loss: 0.5347754739043189 test loss: 1.531212568283081\n",
      "Epoch 723 train loss: 0.6356821580812698 test loss: 1.5500495433807373\n",
      "Epoch 724 train loss: 0.513201106703136 test loss: 1.3684231042861938\n",
      "Epoch 725 train loss: 0.7256147756990863 test loss: 1.7962290048599243\n",
      "Epoch 726 train loss: 0.6771148857547016 test loss: 1.0332821607589722\n",
      "Epoch 727 train loss: 0.5384473506270385 test loss: 1.4786628484725952\n",
      "Epoch 728 train loss: 0.796059088281742 test loss: 1.4650601148605347\n",
      "Epoch 729 train loss: 0.5413505265988955 test loss: 1.5160107612609863\n",
      "Epoch 730 train loss: 0.6396340438868942 test loss: 1.7662605047225952\n",
      "Epoch 731 train loss: 0.7823825951029615 test loss: 1.5672225952148438\n",
      "Epoch 732 train loss: 0.6074473117364616 test loss: 1.6040769815444946\n",
      "Epoch 733 train loss: 0.6889681668906678 test loss: 1.4172887802124023\n",
      "Epoch 734 train loss: 0.720253350076879 test loss: 1.7367007732391357\n",
      "Epoch 735 train loss: 0.665668777212864 test loss: 1.1484720706939697\n",
      "Epoch 736 train loss: 0.6708171819223137 test loss: 1.8249119520187378\n",
      "Epoch 737 train loss: 0.7305917121106531 test loss: 1.5481452941894531\n",
      "Epoch 738 train loss: 0.68924037185384 test loss: 1.5712307691574097\n",
      "Epoch 739 train loss: 0.6985397206210509 test loss: 1.558448314666748\n",
      "Epoch 740 train loss: 0.6651594329897951 test loss: 1.7088477611541748\n",
      "Epoch 741 train loss: 0.575778596171337 test loss: 1.6306558847427368\n",
      "Epoch 742 train loss: 0.5397380281512331 test loss: 1.6257538795471191\n",
      "Epoch 743 train loss: 0.5846061097776017 test loss: 1.3374778032302856\n",
      "Epoch 744 train loss: 0.6098784366395416 test loss: 1.5227965116500854\n",
      "Epoch 745 train loss: 0.8456924439112588 test loss: 1.1818758249282837\n",
      "Epoch 746 train loss: 0.8073807691292065 test loss: 1.4274511337280273\n",
      "Epoch 747 train loss: 0.596410835388957 test loss: 1.5418214797973633\n",
      "Epoch 748 train loss: 0.717575565616532 test loss: 1.6167579889297485\n",
      "Epoch 749 train loss: 0.7690875668351244 test loss: 1.8098748922348022\n",
      "Epoch 750 train loss: 0.666767729946026 test loss: 1.1037483215332031\n",
      "Epoch 751 train loss: 0.619196826001493 test loss: 1.487623691558838\n",
      "Epoch 752 train loss: 0.5618146694288021 test loss: 1.9225493669509888\n",
      "Epoch 753 train loss: 0.7307521869860044 test loss: 1.1752194166183472\n",
      "Epoch 754 train loss: 0.7442080111401838 test loss: 1.60027015209198\n",
      "Epoch 755 train loss: 0.7466116376766344 test loss: 1.4387860298156738\n",
      "Epoch 756 train loss: 0.7698898190041867 test loss: 1.9189660549163818\n",
      "Epoch 757 train loss: 0.6954162602381009 test loss: 1.480497121810913\n",
      "Epoch 758 train loss: 0.679718354217163 test loss: 1.632224202156067\n",
      "Epoch 759 train loss: 0.7681054028614265 test loss: 1.4679943323135376\n",
      "Epoch 760 train loss: 0.7102507480942621 test loss: 1.768906831741333\n",
      "Epoch 761 train loss: 0.6059136218050631 test loss: 1.5090779066085815\n",
      "Epoch 762 train loss: 0.6207785190242093 test loss: 1.4668124914169312\n",
      "Epoch 763 train loss: 0.6673342396573323 test loss: 1.5353935956954956\n",
      "Epoch 764 train loss: 0.6394689438364854 test loss: 1.8133833408355713\n",
      "Epoch 765 train loss: 0.6051841593097623 test loss: 1.893069863319397\n",
      "Epoch 766 train loss: 0.6574361510574818 test loss: 1.469505786895752\n",
      "Epoch 767 train loss: 0.473266436559398 test loss: 1.7615264654159546\n",
      "Epoch 768 train loss: 0.5864494852721691 test loss: 1.3917133808135986\n",
      "Epoch 769 train loss: 0.5301291998930093 test loss: 1.601201057434082\n",
      "Epoch 770 train loss: 0.6966173498005401 test loss: 1.7027896642684937\n",
      "Epoch 771 train loss: 0.6080657398191894 test loss: 1.6112926006317139\n",
      "Epoch 772 train loss: 0.7572519455741091 test loss: 1.3245067596435547\n",
      "Epoch 773 train loss: 0.5319631399541367 test loss: 1.6105022430419922\n",
      "Epoch 774 train loss: 0.5057869151961513 test loss: 1.8775200843811035\n",
      "Epoch 775 train loss: 0.6784763808657484 test loss: 1.526741623878479\n",
      "Epoch 776 train loss: 0.7513925500395822 test loss: 1.456357479095459\n",
      "Epoch 777 train loss: 0.6450887950273548 test loss: 1.7819238901138306\n",
      "Epoch 778 train loss: 0.6625606471263781 test loss: 1.5849522352218628\n",
      "Epoch 779 train loss: 0.7403467680986334 test loss: 1.7025226354599\n",
      "Epoch 780 train loss: 0.7668058992159076 test loss: 1.459163784980774\n",
      "Epoch 781 train loss: 0.5046770481801615 test loss: 1.2045637369155884\n",
      "Epoch 782 train loss: 0.7207407084997834 test loss: 1.428235411643982\n",
      "Epoch 783 train loss: 0.588105241881638 test loss: 1.5979515314102173\n",
      "Epoch 784 train loss: 0.6544462696808141 test loss: 1.651429533958435\n",
      "Epoch 785 train loss: 0.6534726435727463 test loss: 1.6311346292495728\n",
      "Epoch 786 train loss: 0.5363396416168388 test loss: 1.448617696762085\n",
      "Epoch 787 train loss: 0.7298812244723483 test loss: 2.102137565612793\n",
      "Epoch 788 train loss: 0.4509701006477926 test loss: 1.7903060913085938\n",
      "Epoch 789 train loss: 0.6552242229624492 test loss: 1.4752857685089111\n",
      "Epoch 790 train loss: 0.7144324911258569 test loss: 1.475390911102295\n",
      "Epoch 791 train loss: 0.7056781181656733 test loss: 1.5896077156066895\n",
      "Epoch 792 train loss: 0.647732615198304 test loss: 1.4134310483932495\n",
      "Epoch 793 train loss: 0.577511133944116 test loss: 1.3601055145263672\n",
      "Epoch 794 train loss: 0.8080310439009492 test loss: 2.039262533187866\n",
      "Epoch 795 train loss: 0.5976880849679795 test loss: 1.3478965759277344\n",
      "Epoch 796 train loss: 0.6047833102141938 test loss: 1.527502417564392\n",
      "Epoch 797 train loss: 0.6618700896094485 test loss: 1.3254984617233276\n",
      "Epoch 798 train loss: 0.6753021303291727 test loss: 1.2972235679626465\n",
      "Epoch 799 train loss: 0.5092960733284311 test loss: 1.9599263668060303\n",
      "Epoch 800 train loss: 0.6545189364654261 test loss: 1.74958074092865\n",
      "Epoch 801 train loss: 0.5785356014966965 test loss: 1.8641705513000488\n",
      "Epoch 802 train loss: 0.6572788139668907 test loss: 1.6645933389663696\n",
      "Epoch 803 train loss: 0.5703870443309226 test loss: 1.9381757974624634\n",
      "Epoch 804 train loss: 0.683344434038168 test loss: 1.4218336343765259\n",
      "Epoch 805 train loss: 0.6716373987132456 test loss: 1.4468408823013306\n",
      "Epoch 806 train loss: 0.5490934256373382 test loss: 1.3868613243103027\n",
      "Epoch 807 train loss: 0.7376976507466014 test loss: 1.669419527053833\n",
      "Epoch 808 train loss: 0.6719250970679086 test loss: 1.4157910346984863\n",
      "Epoch 809 train loss: 0.711001199056826 test loss: 0.9926332831382751\n",
      "Epoch 810 train loss: 0.7040441987536302 test loss: 1.79385244846344\n",
      "Epoch 811 train loss: 0.6838732023791569 test loss: 1.8319483995437622\n",
      "Epoch 812 train loss: 0.6910086663030997 test loss: 2.204313278198242\n",
      "Epoch 813 train loss: 0.5333074241331438 test loss: 1.5956974029541016\n",
      "Epoch 814 train loss: 0.6426834040889289 test loss: 2.1128058433532715\n",
      "Epoch 815 train loss: 0.8131615679892825 test loss: 0.8277264833450317\n",
      "Epoch 816 train loss: 0.6946892000553084 test loss: 1.694719672203064\n",
      "Epoch 817 train loss: 0.633025916974719 test loss: 1.3073967695236206\n",
      "Epoch 818 train loss: 0.6403680731792275 test loss: 1.711761474609375\n",
      "Epoch 819 train loss: 0.695188325716228 test loss: 1.415455937385559\n",
      "Epoch 820 train loss: 0.6409373271574335 test loss: 2.0018093585968018\n",
      "Epoch 821 train loss: 0.6142872434745474 test loss: 1.6470327377319336\n",
      "Epoch 822 train loss: 0.7040871583470484 test loss: 1.8151094913482666\n",
      "Epoch 823 train loss: 0.4507552290835032 test loss: 1.533369541168213\n",
      "Epoch 824 train loss: 0.6865849355008544 test loss: 1.571228265762329\n",
      "Epoch 825 train loss: 0.7384624770138322 test loss: 1.0557008981704712\n",
      "Epoch 826 train loss: 0.5279452009808 test loss: 1.4220167398452759\n",
      "Epoch 827 train loss: 0.6421721353218323 test loss: 1.6190836429595947\n",
      "Epoch 828 train loss: 0.6180248595774174 test loss: 1.8474671840667725\n",
      "Epoch 829 train loss: 0.6609650176109337 test loss: 1.3709155321121216\n",
      "Epoch 830 train loss: 0.709642124248714 test loss: 1.8056237697601318\n",
      "Epoch 831 train loss: 0.7152186364117192 test loss: 1.637248158454895\n",
      "Epoch 832 train loss: 0.5437069913236107 test loss: 1.3988186120986938\n",
      "Epoch 833 train loss: 0.7185628085238177 test loss: 1.213269829750061\n",
      "Epoch 834 train loss: 0.6129121909417757 test loss: 1.9278182983398438\n",
      "Epoch 835 train loss: 0.77190091679009 test loss: 2.11781644821167\n",
      "Epoch 836 train loss: 0.7017792508732982 test loss: 1.9867874383926392\n",
      "Epoch 837 train loss: 0.6856405349766336 test loss: 1.586728811264038\n",
      "Epoch 838 train loss: 0.6113851174893903 test loss: 1.991487741470337\n",
      "Epoch 839 train loss: 0.6142918433903194 test loss: 1.6077942848205566\n",
      "Epoch 840 train loss: 0.5530589277424464 test loss: 1.5145463943481445\n",
      "Epoch 841 train loss: 0.762431115638919 test loss: 1.5149555206298828\n",
      "Epoch 842 train loss: 0.6277119965269798 test loss: 1.1254574060440063\n",
      "Epoch 843 train loss: 0.6244764971296962 test loss: 1.8317108154296875\n",
      "Epoch 844 train loss: 0.6526023411169285 test loss: 1.2128031253814697\n",
      "Epoch 845 train loss: 0.7549494194184861 test loss: 1.5780298709869385\n",
      "Epoch 846 train loss: 0.607596337613536 test loss: 1.150661826133728\n",
      "Epoch 847 train loss: 0.6723393490765153 test loss: 1.605597972869873\n",
      "Epoch 848 train loss: 0.7481757167999338 test loss: 1.3159396648406982\n",
      "Epoch 849 train loss: 0.6460743115805998 test loss: 1.6587812900543213\n",
      "Epoch 850 train loss: 0.7843370291790585 test loss: 1.021234154701233\n",
      "Epoch 851 train loss: 0.6267046237864146 test loss: 1.6457170248031616\n",
      "Epoch 852 train loss: 0.6127252894476419 test loss: 1.4697030782699585\n",
      "Epoch 853 train loss: 0.6426185364039932 test loss: 1.4131029844284058\n",
      "Epoch 854 train loss: 0.7504793127498975 test loss: 1.5839086771011353\n",
      "Epoch 855 train loss: 0.5266845895931488 test loss: 1.3607449531555176\n",
      "Epoch 856 train loss: 0.48780549154049013 test loss: 1.8675808906555176\n",
      "Epoch 857 train loss: 0.6265457580547508 test loss: 1.7973741292953491\n",
      "Epoch 858 train loss: 0.6813988243116111 test loss: 2.157407760620117\n",
      "Epoch 859 train loss: 0.6422783766941327 test loss: 1.7335398197174072\n",
      "Epoch 860 train loss: 0.6133047047911621 test loss: 1.3627567291259766\n",
      "Epoch 861 train loss: 0.6597725709037083 test loss: 1.6392996311187744\n",
      "Epoch 862 train loss: 0.7626353682177823 test loss: 1.6369911432266235\n",
      "Epoch 863 train loss: 0.6444403365617846 test loss: 1.2639148235321045\n",
      "Epoch 864 train loss: 0.6938001259979678 test loss: 1.6930652856826782\n",
      "Epoch 865 train loss: 0.7104960879901561 test loss: 1.67545747756958\n",
      "Epoch 866 train loss: 0.5414023979044542 test loss: 0.89448481798172\n",
      "Epoch 867 train loss: 0.7700970864332304 test loss: 1.2212426662445068\n",
      "Epoch 868 train loss: 0.7405682500542664 test loss: 1.748185157775879\n",
      "Epoch 869 train loss: 0.755121917077681 test loss: 1.5201436281204224\n",
      "Epoch 870 train loss: 0.6908496752744768 test loss: 1.63428795337677\n",
      "Epoch 871 train loss: 0.7110917145704351 test loss: 1.834109902381897\n",
      "Epoch 872 train loss: 0.669039604140491 test loss: 1.690474510192871\n",
      "Epoch 873 train loss: 0.6450782356465735 test loss: 1.6728230714797974\n",
      "Epoch 874 train loss: 0.5449019194376178 test loss: 1.608186960220337\n",
      "Epoch 875 train loss: 0.6139032561786291 test loss: 1.8370243310928345\n",
      "Epoch 876 train loss: 0.7282999136099001 test loss: 1.464346170425415\n",
      "Epoch 877 train loss: 0.5500413876299451 test loss: 1.8874108791351318\n",
      "Epoch 878 train loss: 0.6670861086103974 test loss: 1.4684211015701294\n",
      "Epoch 879 train loss: 0.6931854349265738 test loss: 1.9042755365371704\n",
      "Epoch 880 train loss: 0.7487650708999576 test loss: 1.469434142112732\n",
      "Epoch 881 train loss: 0.6132890483955058 test loss: 1.1762464046478271\n",
      "Epoch 882 train loss: 0.6918130362542664 test loss: 1.1015949249267578\n",
      "Epoch 883 train loss: 0.6985592484110739 test loss: 1.879686951637268\n",
      "Epoch 884 train loss: 0.6183737100261014 test loss: 1.1829451322555542\n",
      "Epoch 885 train loss: 0.6331924888782385 test loss: 1.26199471950531\n",
      "Epoch 886 train loss: 0.7435760856038187 test loss: 1.7440605163574219\n",
      "Epoch 887 train loss: 0.5990212290752225 test loss: 1.4461007118225098\n",
      "Epoch 888 train loss: 0.7603104513411115 test loss: 1.7052704095840454\n",
      "Epoch 889 train loss: 0.6428212637036312 test loss: 1.7072478532791138\n",
      "Epoch 890 train loss: 0.6272209739176239 test loss: 1.5641095638275146\n",
      "Epoch 891 train loss: 0.6795989713836007 test loss: 1.9796142578125\n",
      "Epoch 892 train loss: 0.6302034561408729 test loss: 1.3275057077407837\n",
      "Epoch 893 train loss: 0.7082802526107649 test loss: 1.096711277961731\n",
      "Epoch 894 train loss: 0.5967481504308014 test loss: 1.8653608560562134\n",
      "Epoch 895 train loss: 0.7591917663812637 test loss: 1.3406304121017456\n",
      "Epoch 896 train loss: 0.7300261422628309 test loss: 1.1496678590774536\n",
      "Epoch 897 train loss: 0.7854467679451151 test loss: 1.5117172002792358\n",
      "Epoch 898 train loss: 0.7659774737023726 test loss: 1.9614824056625366\n",
      "Epoch 899 train loss: 0.687733027629736 test loss: 1.5646175146102905\n",
      "Epoch 900 train loss: 0.7217444544885216 test loss: 1.4397127628326416\n",
      "Epoch 901 train loss: 0.7738628334751944 test loss: 1.2278063297271729\n",
      "Epoch 902 train loss: 0.6005025904898237 test loss: 1.4561792612075806\n",
      "Epoch 903 train loss: 0.6797680458644542 test loss: 1.4165520668029785\n",
      "Epoch 904 train loss: 0.632876599888976 test loss: 1.7632895708084106\n",
      "Epoch 905 train loss: 0.4859761125067385 test loss: 1.2723133563995361\n",
      "Epoch 906 train loss: 0.7469762389252825 test loss: 1.8362748622894287\n",
      "Epoch 907 train loss: 0.6934555179280478 test loss: 1.674810767173767\n",
      "Epoch 908 train loss: 0.6958491094864723 test loss: 1.6978203058242798\n",
      "Epoch 909 train loss: 0.6614654200469575 test loss: 1.4227187633514404\n",
      "Epoch 910 train loss: 0.7012635489426008 test loss: 1.262281894683838\n",
      "Epoch 911 train loss: 0.5216432897056021 test loss: 1.9090960025787354\n",
      "Epoch 912 train loss: 0.69104732772926 test loss: 1.724185585975647\n",
      "Epoch 913 train loss: 0.7252706954391991 test loss: 1.642730951309204\n",
      "Epoch 914 train loss: 0.5521024598217592 test loss: 1.5458608865737915\n",
      "Epoch 915 train loss: 0.5200211567940508 test loss: 1.4677215814590454\n",
      "Epoch 916 train loss: 0.5865207469863135 test loss: 1.4527374505996704\n",
      "Epoch 917 train loss: 0.6984036745639836 test loss: 1.8460973501205444\n",
      "Epoch 918 train loss: 0.7043672480234285 test loss: 1.5551872253417969\n",
      "Epoch 919 train loss: 0.6324122791610113 test loss: 1.4698535203933716\n",
      "Epoch 920 train loss: 0.5777699236826199 test loss: 1.7190388441085815\n",
      "Epoch 921 train loss: 0.6730610492025934 test loss: 1.4577480554580688\n",
      "Epoch 922 train loss: 0.6699188075414518 test loss: 1.467795968055725\n",
      "Epoch 923 train loss: 0.6333372138622331 test loss: 1.6356626749038696\n",
      "Epoch 924 train loss: 0.5224015395634058 test loss: 1.7116748094558716\n",
      "Epoch 925 train loss: 0.7745727480548185 test loss: 1.6454952955245972\n",
      "Epoch 926 train loss: 0.729530089512104 test loss: 1.6132476329803467\n",
      "Epoch 927 train loss: 0.6928606845620202 test loss: 1.6478077173233032\n",
      "Epoch 928 train loss: 0.7350062750643347 test loss: 1.176482081413269\n",
      "Epoch 929 train loss: 0.7470269236577357 test loss: 0.99146968126297\n",
      "Epoch 930 train loss: 0.6393887610515443 test loss: 1.7037252187728882\n",
      "Epoch 931 train loss: 0.7766530440166229 test loss: 1.4762730598449707\n",
      "Epoch 932 train loss: 0.6811316853798017 test loss: 1.4096201658248901\n",
      "Epoch 933 train loss: 0.6481288593807598 test loss: 1.9718611240386963\n",
      "Epoch 934 train loss: 0.594477352754372 test loss: 1.8670984506607056\n",
      "Epoch 935 train loss: 0.6819406584268664 test loss: 1.3659392595291138\n",
      "Epoch 936 train loss: 0.6905532033159966 test loss: 1.96148681640625\n",
      "Epoch 937 train loss: 0.7552082709422926 test loss: 1.750102162361145\n",
      "Epoch 938 train loss: 0.5695448650456056 test loss: 1.3970423936843872\n",
      "Epoch 939 train loss: 0.6209138873510245 test loss: 1.2582731246948242\n",
      "Epoch 940 train loss: 0.7176088171034325 test loss: 1.608266830444336\n",
      "Epoch 941 train loss: 0.6984612405663584 test loss: 1.5086934566497803\n",
      "Epoch 942 train loss: 0.6407643454830821 test loss: 1.3172093629837036\n",
      "Epoch 943 train loss: 0.6755745673506726 test loss: 1.6807997226715088\n",
      "Epoch 944 train loss: 0.550331023589867 test loss: 1.787864089012146\n",
      "Epoch 945 train loss: 0.760231452426169 test loss: 1.3603733777999878\n",
      "Epoch 946 train loss: 0.6209026311592358 test loss: 2.1034069061279297\n",
      "Epoch 947 train loss: 0.6389702699351602 test loss: 1.449841022491455\n",
      "Epoch 948 train loss: 0.6117397221486743 test loss: 1.1331475973129272\n",
      "Epoch 949 train loss: 0.7205017005524984 test loss: 1.797284483909607\n",
      "Epoch 950 train loss: 0.7178385254086518 test loss: 1.7390995025634766\n",
      "Epoch 951 train loss: 0.6280539638203818 test loss: 1.8903833627700806\n",
      "Epoch 952 train loss: 0.5825910648194755 test loss: 2.179725170135498\n",
      "Epoch 953 train loss: 0.6724108224961816 test loss: 1.4429270029067993\n",
      "Epoch 954 train loss: 0.6204779445216423 test loss: 1.5123032331466675\n",
      "Epoch 955 train loss: 0.6411210748298866 test loss: 1.9989420175552368\n",
      "Epoch 956 train loss: 0.6723534697439613 test loss: 1.5123257637023926\n",
      "Epoch 957 train loss: 0.6199719258016203 test loss: 1.4328992366790771\n",
      "Epoch 958 train loss: 0.7435026454125963 test loss: 1.6682618856430054\n",
      "Epoch 959 train loss: 0.7155900827449996 test loss: 1.6426851749420166\n",
      "Epoch 960 train loss: 0.7050145129423316 test loss: 1.567954659461975\n",
      "Epoch 961 train loss: 0.8275942496228509 test loss: 1.2861250638961792\n",
      "Epoch 962 train loss: 0.7288685172069364 test loss: 1.95541512966156\n",
      "Epoch 963 train loss: 0.6919707402405215 test loss: 1.8953843116760254\n",
      "Epoch 964 train loss: 0.6838693903168527 test loss: 1.3982809782028198\n",
      "Epoch 965 train loss: 0.6819496466437491 test loss: 1.599177360534668\n",
      "Epoch 966 train loss: 0.6005403106441585 test loss: 1.4496381282806396\n",
      "Epoch 967 train loss: 0.6350258379811193 test loss: 1.5355842113494873\n",
      "Epoch 968 train loss: 0.5015744683219165 test loss: 1.668716549873352\n",
      "Epoch 969 train loss: 0.6522007095741063 test loss: 1.5314607620239258\n",
      "Epoch 970 train loss: 0.5972216396433551 test loss: 1.4684785604476929\n",
      "Epoch 971 train loss: 0.6494422340538444 test loss: 1.9783003330230713\n",
      "Epoch 972 train loss: 0.5160873044373059 test loss: 1.2892788648605347\n",
      "Epoch 973 train loss: 0.6533730405314666 test loss: 2.1541621685028076\n",
      "Epoch 974 train loss: 0.562115684833105 test loss: 1.3202319145202637\n",
      "Epoch 975 train loss: 0.6602757152442525 test loss: 1.512937307357788\n",
      "Epoch 976 train loss: 0.6303340858075677 test loss: 1.7839529514312744\n",
      "Epoch 977 train loss: 0.593531089221559 test loss: 1.9066431522369385\n",
      "Epoch 978 train loss: 0.5094155632868046 test loss: 1.6697864532470703\n",
      "Epoch 979 train loss: 0.5953168230267559 test loss: 1.3612284660339355\n",
      "Epoch 980 train loss: 0.5178851507967566 test loss: 1.332702398300171\n",
      "Epoch 981 train loss: 0.475978144785253 test loss: 1.6567118167877197\n",
      "Epoch 982 train loss: 0.5845882732693742 test loss: 1.5893162488937378\n",
      "Epoch 983 train loss: 0.7556737859438105 test loss: 1.1456573009490967\n",
      "Epoch 984 train loss: 0.6743643781760844 test loss: 1.9721306562423706\n",
      "Epoch 985 train loss: 0.4526723596017535 test loss: 1.7463537454605103\n",
      "Epoch 986 train loss: 0.6442912202782747 test loss: 1.5982719659805298\n",
      "Epoch 987 train loss: 0.7184623207260923 test loss: 1.4883723258972168\n",
      "Epoch 988 train loss: 0.6934382813732799 test loss: 1.7062221765518188\n",
      "Epoch 989 train loss: 0.7467414017130689 test loss: 1.6225965023040771\n",
      "Epoch 990 train loss: 0.5498318595857155 test loss: 1.3581387996673584\n",
      "Epoch 991 train loss: 0.6170252419826461 test loss: 1.3048046827316284\n",
      "Epoch 992 train loss: 0.6765734958575993 test loss: 1.4779448509216309\n",
      "Epoch 993 train loss: 0.5467302274049782 test loss: 1.2599602937698364\n",
      "Epoch 994 train loss: 0.7563400137715224 test loss: 1.7216283082962036\n",
      "Epoch 995 train loss: 0.71780527128679 test loss: 1.6624027490615845\n",
      "Epoch 996 train loss: 0.6386508868507496 test loss: 1.3994359970092773\n",
      "Epoch 997 train loss: 0.6949443290146385 test loss: 1.8844233751296997\n",
      "Epoch 998 train loss: 0.7291630080378637 test loss: 1.5001847743988037\n",
      "Epoch 999 train loss: 0.5908813698262703 test loss: 1.8866726160049438\n"
     ]
    }
   ],
   "source": [
    "best_valid_loss = float('inf')\n",
    "loss_train = []\n",
    "loss_test= []\n",
    "for i, model in enumerate(models):\n",
    "    print(f\"Training {type(model).__name__}\")\n",
    "    \n",
    "    #start_time = time.time()\n",
    "\n",
    "    for epoch in range(N_EPOCHS):\n",
    "        #start_time = time.time()\n",
    "        loss  = train(model, train_iterator, optimizer, criterion) \n",
    "        test_loss = test(model, test_iterator, optimizer, criterion)\n",
    "        print(f'Epoch {epoch} train loss: {loss} test loss: {test_loss}') \n",
    "        loss_train.append(loss)\n",
    "        loss_test.append(test_loss)\n",
    "        \n",
    "        # if epoch % 50 == 0:\n",
    "        #     clear_output(wait=True)\n",
    "            \n",
    "        # if test_loss  < best_valid_loss:\n",
    "        #         best_valid_loss = test_loss\n",
    "        #         torch.save(model.state_dict(), f'./drive/Shareddrives/BI&A/Prediction_Code/models/TCN/{name}.pt')"
   ]
  },
  {
   "cell_type": "code",
   "execution_count": 50,
   "id": "72a1cc4c-8aa1-4d0e-8519-bee36c293b40",
   "metadata": {
    "executionInfo": {
     "elapsed": 57917,
     "status": "aborted",
     "timestamp": 1619509212338,
     "user": {
      "displayName": "Sitiporn Saelim",
      "photoUrl": "",
      "userId": "04392232392828254116"
     },
     "user_tz": -420
    },
    "id": "72a1cc4c-8aa1-4d0e-8519-bee36c293b40"
   },
   "outputs": [
    {
     "data": {
      "text/plain": [
       "<matplotlib.legend.Legend at 0x7f32f8812be0>"
      ]
     },
     "execution_count": 50,
     "metadata": {},
     "output_type": "execute_result"
    },
    {
     "data": {
      "image/png": "[encoded data removed]",
      "text/plain": [
       "<matplotlib.figure.Figure at 0x7f32f982f0b8>"
      ]
     },
     "metadata": {
      "needs_background": "light"
     },
     "output_type": "display_data"
    }
   ],
   "source": [
    "plt.figure(figsize=(30, 10))\n",
    "plt.plot(loss_train)\n",
    "plt.plot(loss_test)\n",
    "plt.legend(['loss_train','loss_test'])"
   ]
  },
  {
   "cell_type": "markdown",
   "id": "o10jSvM5Nh-r",
   "metadata": {
    "id": "o10jSvM5Nh-r"
   },
   "source": [
    "# Predicted daily case"
   ]
  },
  {
   "cell_type": "code",
   "execution_count": 51,
   "id": "25078c02-a8be-4f1e-a706-2ec7cd3c8a27",
   "metadata": {
    "executionInfo": {
     "elapsed": 57915,
     "status": "aborted",
     "timestamp": 1619509212340,
     "user": {
      "displayName": "Sitiporn Saelim",
      "photoUrl": "",
      "userId": "04392232392828254116"
     },
     "user_tz": -420
    },
    "id": "25078c02-a8be-4f1e-a706-2ec7cd3c8a27"
   },
   "outputs": [
    {
     "name": "stderr",
     "output_type": "stream",
     "text": [
      "/usr/local/lib/python3.6/dist-packages/torch/nn/modules/loss.py:528: UserWarning: Using a target size (torch.Size([1])) that is different to the input size (torch.Size([1, 1])). This will likely lead to incorrect results due to broadcasting. Please ensure they have the same size.\n",
      "  return F.mse_loss(input, target, reduction=self.reduction)\n"
     ]
    }
   ],
   "source": [
    "with torch.no_grad():\n",
    "  test_seq = X_test[:1]\n",
    "  preds = []\n",
    "  test_losses = []\n",
    "  for i in range(len(X_test)):\n",
    "    y_test_pred = model(test_seq.to(device))\n",
    "    test_loss = criterion(y_test_pred.float(), y_test[i].to(device))\n",
    "    test_losses.append(test_loss.item())\n",
    "    pred = torch.flatten(y_test_pred).item()\n",
    "    preds.append(pred)\n",
    "    new_seq = test_seq.cpu().numpy().flatten()\n",
    "    new_seq = np.append(new_seq, [pred])\n",
    "    new_seq = new_seq[1:]\n",
    "    test_seq = torch.as_tensor(new_seq).view(1, 1, seq_length).float()"
   ]
  },
  {
   "cell_type": "code",
   "execution_count": 52,
   "id": "38ebdf50-f85d-4aac-844d-7c073681c1bf",
   "metadata": {
    "executionInfo": {
     "elapsed": 57914,
     "status": "aborted",
     "timestamp": 1619509212341,
     "user": {
      "displayName": "Sitiporn Saelim",
      "photoUrl": "",
      "userId": "04392232392828254116"
     },
     "user_tz": -420
    },
    "id": "38ebdf50-f85d-4aac-844d-7c073681c1bf"
   },
   "outputs": [],
   "source": [
    "true_cases = scaler.inverse_transform(\n",
    "    np.expand_dims(y_test.cpu().flatten().numpy(), axis=0)\n",
    ").flatten()\n",
    "\n",
    "test_case = scaler.inverse_transform(test_data).flatten()\n",
    "\n",
    "predicted_cases = scaler.inverse_transform(\n",
    "  np.expand_dims(preds, axis=0)\n",
    ").flatten()"
   ]
  },
  {
   "cell_type": "code",
   "execution_count": 53,
   "id": "2dc939c0-2540-4c7d-8534-6568449693df",
   "metadata": {
    "executionInfo": {
     "elapsed": 57908,
     "status": "aborted",
     "timestamp": 1619509212341,
     "user": {
      "displayName": "Sitiporn Saelim",
      "photoUrl": "",
      "userId": "04392232392828254116"
     },
     "user_tz": -420
    },
    "id": "2dc939c0-2540-4c7d-8534-6568449693df"
   },
   "outputs": [
    {
     "name": "stderr",
     "output_type": "stream",
     "text": [
      "/usr/lib/python3/dist-packages/matplotlib/cbook/__init__.py:2019: FutureWarning: Support for multi-dimensional indexing (e.g. `obj[:, None]`) is deprecated and will be removed in a future version.  Convert to a numpy array before indexing instead.\n",
      "  x[:, None]\n",
      "/usr/lib/python3/dist-packages/matplotlib/axes/_base.py:249: FutureWarning: Support for multi-dimensional indexing (e.g. `obj[:, None]`) is deprecated and will be removed in a future version.  Convert to a numpy array before indexing instead.\n",
      "  x = x[:, np.newaxis]\n"
     ]
    },
    {
     "data": {
      "image/png": "[encoded data removed]",
      "text/plain": [
       "<matplotlib.figure.Figure at 0x7f32f87b5828>"
      ]
     },
     "metadata": {
      "needs_background": "light"
     },
     "output_type": "display_data"
    }
   ],
   "source": [
    "plt.figure(figsize=(20,10))\n",
    "plt.title(f\"Daily cases :{STATE}\\nmodel:{name}\")\n",
    "plt.plot(\n",
    "  df_clean.index[:len(train_data)], \n",
    "  scaler.inverse_transform(train_data).flatten(),\n",
    "  label='Historical Daily Cases'\n",
    ")\n",
    "\n",
    "plt.plot(\n",
    "  df_clean.index[len(train_data):len(train_data)+len(test_data)], \n",
    "  test_case,\n",
    "  label='Real Daily Cases'\n",
    ")\n",
    "\n",
    "# plt.plot(\n",
    "#   df_clean.index[len(train_data):len(train_data)+len(test_data)], \n",
    "#   test_data,\n",
    "#   label='Scale Daily Cases'\n",
    "# )\n",
    "\n",
    "plt.plot(\n",
    "  df_clean.index[len(train_data)+seq_length+1:len(train_data)+len(test_data)], \n",
    "  predicted_cases, \n",
    "  label='Predicted Daily Cases'\n",
    ")\n",
    "\n",
    "# plt.plot(\n",
    "#   df_clean.index[len(train_data)+seq_length+1:len(train_data)+len(test_data)], \n",
    "#   (np.asarray(preds)), \n",
    "#   label='Original Predicted Daily Cases'\n",
    "# )\n",
    "\n",
    "plt.legend();"
   ]
  },
  {
   "cell_type": "code",
   "execution_count": null,
   "id": "7QUg2uOaANja",
   "metadata": {
    "executionInfo": {
     "elapsed": 57908,
     "status": "aborted",
     "timestamp": 1619509212343,
     "user": {
      "displayName": "Sitiporn Saelim",
      "photoUrl": "",
      "userId": "04392232392828254116"
     },
     "user_tz": -420
    },
    "id": "7QUg2uOaANja"
   },
   "outputs": [],
   "source": []
  }
 ],
 "metadata": {
  "accelerator": "GPU",
  "colab": {
   "name": "2.2_TCN_California.ipynb",
   "provenance": []
  },
  "kernelspec": {
   "display_name": "Python 3",
   "language": "python",
   "name": "python3"
  },
  "language_info": {
   "codemirror_mode": {
    "name": "ipython",
    "version": 3
   },
   "file_extension": ".py",
   "mimetype": "text/x-python",
   "name": "python",
   "nbconvert_exporter": "python",
   "pygments_lexer": "ipython3",
   "version": "3.6.9"
  }
 },
 "nbformat": 4,
 "nbformat_minor": 5
}
