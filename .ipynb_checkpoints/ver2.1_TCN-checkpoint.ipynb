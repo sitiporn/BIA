{
 "cells": [
  {
   "cell_type": "code",
   "execution_count": 1,
   "id": "96b5819f-e8ac-4c3c-9c28-93afb6ac738f",
   "metadata": {},
   "outputs": [],
   "source": [
    "import numpy as np\n",
    "import pandas as pd\n",
    "import torch\n",
    "import torch.nn as nn\n",
    "import torch.nn.functional as F\n",
    "import torch.optim as optim\n",
    "from torch.utils.data import TensorDataset, DataLoader\n",
    "from sklearn.preprocessing import MinMaxScaler, StandardScaler\n",
    "import matplotlib.pyplot as plt\n",
    "from tqdm import tqdm"
   ]
  },
  {
   "cell_type": "code",
   "execution_count": 2,
   "id": "f788572f-61f5-4edd-a4b7-ba8c292c8589",
   "metadata": {},
   "outputs": [],
   "source": [
    "##===\n",
    "# Select state we want to predict\n",
    "# New York , California , Florida , Texas\n",
    "STATE = 'Texas'\n",
    "LR = 5e-5\n",
    "WEIGHTDECAY = 0\n",
    "TRAIN = True\n",
    "seq_length = 7\n",
    "EPOCHS = 5000\n",
    "device = torch.device('cuda' if torch.cuda.is_available() else 'cpu')\n",
    "##===\n",
    "\n",
    "#### Model Config ===\n",
    "channel_config = np.array([[1,64,128],[128,64,64],[64,32,1]])"
   ]
  },
  {
   "cell_type": "markdown",
   "id": "de64a227-a629-42e1-99b6-333734cca580",
   "metadata": {},
   "source": [
    "### Import Data from CSV file"
   ]
  },
  {
   "cell_type": "code",
   "execution_count": 3,
   "id": "5e908914-f968-489e-a2a5-ef500dc4001f",
   "metadata": {},
   "outputs": [],
   "source": [
    "df = pd.read_csv('Cleaned_data.csv')"
   ]
  },
  {
   "cell_type": "markdown",
   "id": "ad882fe1-7a80-4ca8-9a54-82dc294c48df",
   "metadata": {},
   "source": [
    "## Data frame Format"
   ]
  },
  {
   "cell_type": "code",
   "execution_count": 4,
   "id": "344a4ff7-ad56-4738-93fa-6fadca83fe0f",
   "metadata": {},
   "outputs": [
    {
     "data": {
      "text/html": [
       "<div>\n",
       "<style scoped>\n",
       "    .dataframe tbody tr th:only-of-type {\n",
       "        vertical-align: middle;\n",
       "    }\n",
       "\n",
       "    .dataframe tbody tr th {\n",
       "        vertical-align: top;\n",
       "    }\n",
       "\n",
       "    .dataframe thead th {\n",
       "        text-align: right;\n",
       "    }\n",
       "</style>\n",
       "<table border=\"1\" class=\"dataframe\">\n",
       "  <thead>\n",
       "    <tr style=\"text-align: right;\">\n",
       "      <th></th>\n",
       "      <th>date</th>\n",
       "      <th>state</th>\n",
       "      <th>fips</th>\n",
       "      <th>cases</th>\n",
       "      <th>daily_cases</th>\n",
       "      <th>deaths</th>\n",
       "      <th>daily_deaths</th>\n",
       "      <th>total_vaccinations</th>\n",
       "      <th>total_distributed</th>\n",
       "      <th>daily_distributed</th>\n",
       "      <th>total_people_vaccinated</th>\n",
       "      <th>daily_people_vaccinated</th>\n",
       "      <th>total_people_fully_vaccinated</th>\n",
       "      <th>daily_people_fully_vaccinated</th>\n",
       "      <th>daily_vaccinations</th>\n",
       "      <th>mobility_composite</th>\n",
       "    </tr>\n",
       "  </thead>\n",
       "  <tbody>\n",
       "    <tr>\n",
       "      <th>0</th>\n",
       "      <td>3/13/2021</td>\n",
       "      <td>Alabama</td>\n",
       "      <td>1</td>\n",
       "      <td>503305</td>\n",
       "      <td>594</td>\n",
       "      <td>10327</td>\n",
       "      <td>28</td>\n",
       "      <td>1288242</td>\n",
       "      <td>1918560.0</td>\n",
       "      <td>80160.0</td>\n",
       "      <td>841394.0</td>\n",
       "      <td>24976.0</td>\n",
       "      <td>492755.0</td>\n",
       "      <td>20430.0</td>\n",
       "      <td>26,935</td>\n",
       "      <td>-1.013041</td>\n",
       "    </tr>\n",
       "    <tr>\n",
       "      <th>1</th>\n",
       "      <td>3/12/2021</td>\n",
       "      <td>Alabama</td>\n",
       "      <td>1</td>\n",
       "      <td>502711</td>\n",
       "      <td>448</td>\n",
       "      <td>10299</td>\n",
       "      <td>25</td>\n",
       "      <td>1249205</td>\n",
       "      <td>1838400.0</td>\n",
       "      <td>22170.0</td>\n",
       "      <td>816418.0</td>\n",
       "      <td>25554.0</td>\n",
       "      <td>472325.0</td>\n",
       "      <td>19579.0</td>\n",
       "      <td>26,375</td>\n",
       "      <td>-1.013041</td>\n",
       "    </tr>\n",
       "    <tr>\n",
       "      <th>2</th>\n",
       "      <td>3/11/2021</td>\n",
       "      <td>Alabama</td>\n",
       "      <td>1</td>\n",
       "      <td>502263</td>\n",
       "      <td>865</td>\n",
       "      <td>10274</td>\n",
       "      <td>52</td>\n",
       "      <td>1209802</td>\n",
       "      <td>1816230.0</td>\n",
       "      <td>40570.0</td>\n",
       "      <td>790864.0</td>\n",
       "      <td>22362.0</td>\n",
       "      <td>452746.0</td>\n",
       "      <td>17728.0</td>\n",
       "      <td>25,376</td>\n",
       "      <td>-1.013041</td>\n",
       "    </tr>\n",
       "    <tr>\n",
       "      <th>3</th>\n",
       "      <td>3/10/2021</td>\n",
       "      <td>Alabama</td>\n",
       "      <td>1</td>\n",
       "      <td>501398</td>\n",
       "      <td>782</td>\n",
       "      <td>10222</td>\n",
       "      <td>36</td>\n",
       "      <td>1173820</td>\n",
       "      <td>1775660.0</td>\n",
       "      <td>86610.0</td>\n",
       "      <td>768502.0</td>\n",
       "      <td>21234.0</td>\n",
       "      <td>435018.0</td>\n",
       "      <td>14935.0</td>\n",
       "      <td>24,827</td>\n",
       "      <td>-1.013041</td>\n",
       "    </tr>\n",
       "    <tr>\n",
       "      <th>4</th>\n",
       "      <td>3/9/2021</td>\n",
       "      <td>Alabama</td>\n",
       "      <td>1</td>\n",
       "      <td>500616</td>\n",
       "      <td>524</td>\n",
       "      <td>10186</td>\n",
       "      <td>38</td>\n",
       "      <td>1140984</td>\n",
       "      <td>1689050.0</td>\n",
       "      <td>60700.0</td>\n",
       "      <td>747268.0</td>\n",
       "      <td>14301.0</td>\n",
       "      <td>420083.0</td>\n",
       "      <td>10146.0</td>\n",
       "      <td>24,118</td>\n",
       "      <td>-1.013041</td>\n",
       "    </tr>\n",
       "  </tbody>\n",
       "</table>\n",
       "</div>"
      ],
      "text/plain": [
       "        date    state  fips   cases  daily_cases  deaths  daily_deaths  \\\n",
       "0  3/13/2021  Alabama     1  503305          594   10327            28   \n",
       "1  3/12/2021  Alabama     1  502711          448   10299            25   \n",
       "2  3/11/2021  Alabama     1  502263          865   10274            52   \n",
       "3  3/10/2021  Alabama     1  501398          782   10222            36   \n",
       "4   3/9/2021  Alabama     1  500616          524   10186            38   \n",
       "\n",
       "  total_vaccinations  total_distributed  daily_distributed  \\\n",
       "0            1288242          1918560.0            80160.0   \n",
       "1            1249205          1838400.0            22170.0   \n",
       "2            1209802          1816230.0            40570.0   \n",
       "3            1173820          1775660.0            86610.0   \n",
       "4            1140984          1689050.0            60700.0   \n",
       "\n",
       "   total_people_vaccinated  daily_people_vaccinated  \\\n",
       "0                 841394.0                  24976.0   \n",
       "1                 816418.0                  25554.0   \n",
       "2                 790864.0                  22362.0   \n",
       "3                 768502.0                  21234.0   \n",
       "4                 747268.0                  14301.0   \n",
       "\n",
       "   total_people_fully_vaccinated  daily_people_fully_vaccinated  \\\n",
       "0                       492755.0                        20430.0   \n",
       "1                       472325.0                        19579.0   \n",
       "2                       452746.0                        17728.0   \n",
       "3                       435018.0                        14935.0   \n",
       "4                       420083.0                        10146.0   \n",
       "\n",
       "  daily_vaccinations  mobility_composite  \n",
       "0             26,935           -1.013041  \n",
       "1             26,375           -1.013041  \n",
       "2             25,376           -1.013041  \n",
       "3             24,827           -1.013041  \n",
       "4             24,118           -1.013041  "
      ]
     },
     "execution_count": 4,
     "metadata": {},
     "output_type": "execute_result"
    }
   ],
   "source": [
    "df.head()"
   ]
  },
  {
   "cell_type": "code",
   "execution_count": 5,
   "id": "21ae967e-fe62-4c78-a5e9-b3ce7158917c",
   "metadata": {},
   "outputs": [
    {
     "name": "stdout",
     "output_type": "stream",
     "text": [
      "<class 'pandas.core.frame.DataFrame'>\n",
      "RangeIndex: 20618 entries, 0 to 20617\n",
      "Data columns (total 16 columns):\n",
      " #   Column                         Non-Null Count  Dtype  \n",
      "---  ------                         --------------  -----  \n",
      " 0   date                           20618 non-null  object \n",
      " 1   state                          20618 non-null  object \n",
      " 2   fips                           20618 non-null  int64  \n",
      " 3   cases                          20618 non-null  int64  \n",
      " 4   daily_cases                    20618 non-null  int64  \n",
      " 5   deaths                         20618 non-null  int64  \n",
      " 6   daily_deaths                   20618 non-null  int64  \n",
      " 7   total_vaccinations             3801 non-null   object \n",
      " 8   total_distributed              3801 non-null   float64\n",
      " 9   daily_distributed              3801 non-null   float64\n",
      " 10  total_people_vaccinated        3801 non-null   float64\n",
      " 11  daily_people_vaccinated        3801 non-null   float64\n",
      " 12  total_people_fully_vaccinated  3801 non-null   float64\n",
      " 13  daily_people_fully_vaccinated  3801 non-null   float64\n",
      " 14  daily_vaccinations             3779 non-null   object \n",
      " 15  mobility_composite             19353 non-null  float64\n",
      "dtypes: float64(7), int64(5), object(4)\n",
      "memory usage: 2.5+ MB\n"
     ]
    }
   ],
   "source": [
    "df.info()"
   ]
  },
  {
   "cell_type": "code",
   "execution_count": 6,
   "id": "836c3722-619c-4ea8-a6f0-22214d8ee8b9",
   "metadata": {},
   "outputs": [
    {
     "data": {
      "text/html": [
       "<div>\n",
       "<style scoped>\n",
       "    .dataframe tbody tr th:only-of-type {\n",
       "        vertical-align: middle;\n",
       "    }\n",
       "\n",
       "    .dataframe tbody tr th {\n",
       "        vertical-align: top;\n",
       "    }\n",
       "\n",
       "    .dataframe thead th {\n",
       "        text-align: right;\n",
       "    }\n",
       "</style>\n",
       "<table border=\"1\" class=\"dataframe\">\n",
       "  <thead>\n",
       "    <tr style=\"text-align: right;\">\n",
       "      <th></th>\n",
       "      <th>date</th>\n",
       "      <th>state</th>\n",
       "      <th>fips</th>\n",
       "      <th>daily_cases</th>\n",
       "      <th>daily_deaths</th>\n",
       "      <th>daily_distributed</th>\n",
       "      <th>daily_people_vaccinated</th>\n",
       "      <th>daily_people_fully_vaccinated</th>\n",
       "      <th>daily_vaccinations</th>\n",
       "      <th>mobility_composite</th>\n",
       "    </tr>\n",
       "  </thead>\n",
       "  <tbody>\n",
       "    <tr>\n",
       "      <th>0</th>\n",
       "      <td>3/13/2021</td>\n",
       "      <td>Alabama</td>\n",
       "      <td>1</td>\n",
       "      <td>594</td>\n",
       "      <td>28</td>\n",
       "      <td>80160.0</td>\n",
       "      <td>24976.0</td>\n",
       "      <td>20430.0</td>\n",
       "      <td>26,935</td>\n",
       "      <td>-1.013041</td>\n",
       "    </tr>\n",
       "    <tr>\n",
       "      <th>1</th>\n",
       "      <td>3/12/2021</td>\n",
       "      <td>Alabama</td>\n",
       "      <td>1</td>\n",
       "      <td>448</td>\n",
       "      <td>25</td>\n",
       "      <td>22170.0</td>\n",
       "      <td>25554.0</td>\n",
       "      <td>19579.0</td>\n",
       "      <td>26,375</td>\n",
       "      <td>-1.013041</td>\n",
       "    </tr>\n",
       "    <tr>\n",
       "      <th>2</th>\n",
       "      <td>3/11/2021</td>\n",
       "      <td>Alabama</td>\n",
       "      <td>1</td>\n",
       "      <td>865</td>\n",
       "      <td>52</td>\n",
       "      <td>40570.0</td>\n",
       "      <td>22362.0</td>\n",
       "      <td>17728.0</td>\n",
       "      <td>25,376</td>\n",
       "      <td>-1.013041</td>\n",
       "    </tr>\n",
       "    <tr>\n",
       "      <th>3</th>\n",
       "      <td>3/10/2021</td>\n",
       "      <td>Alabama</td>\n",
       "      <td>1</td>\n",
       "      <td>782</td>\n",
       "      <td>36</td>\n",
       "      <td>86610.0</td>\n",
       "      <td>21234.0</td>\n",
       "      <td>14935.0</td>\n",
       "      <td>24,827</td>\n",
       "      <td>-1.013041</td>\n",
       "    </tr>\n",
       "    <tr>\n",
       "      <th>4</th>\n",
       "      <td>3/9/2021</td>\n",
       "      <td>Alabama</td>\n",
       "      <td>1</td>\n",
       "      <td>524</td>\n",
       "      <td>38</td>\n",
       "      <td>60700.0</td>\n",
       "      <td>14301.0</td>\n",
       "      <td>10146.0</td>\n",
       "      <td>24,118</td>\n",
       "      <td>-1.013041</td>\n",
       "    </tr>\n",
       "  </tbody>\n",
       "</table>\n",
       "</div>"
      ],
      "text/plain": [
       "        date    state  fips  daily_cases  daily_deaths  daily_distributed  \\\n",
       "0  3/13/2021  Alabama     1          594            28            80160.0   \n",
       "1  3/12/2021  Alabama     1          448            25            22170.0   \n",
       "2  3/11/2021  Alabama     1          865            52            40570.0   \n",
       "3  3/10/2021  Alabama     1          782            36            86610.0   \n",
       "4   3/9/2021  Alabama     1          524            38            60700.0   \n",
       "\n",
       "   daily_people_vaccinated  daily_people_fully_vaccinated daily_vaccinations  \\\n",
       "0                  24976.0                        20430.0             26,935   \n",
       "1                  25554.0                        19579.0             26,375   \n",
       "2                  22362.0                        17728.0             25,376   \n",
       "3                  21234.0                        14935.0             24,827   \n",
       "4                  14301.0                        10146.0             24,118   \n",
       "\n",
       "   mobility_composite  \n",
       "0           -1.013041  \n",
       "1           -1.013041  \n",
       "2           -1.013041  \n",
       "3           -1.013041  \n",
       "4           -1.013041  "
      ]
     },
     "execution_count": 6,
     "metadata": {},
     "output_type": "execute_result"
    }
   ],
   "source": [
    "df = df.drop(labels=['cases', 'deaths', 'total_vaccinations', 'total_distributed', 'total_people_vaccinated', 'total_people_fully_vaccinated'], axis=1)\n",
    "df.head()"
   ]
  },
  {
   "cell_type": "code",
   "execution_count": 7,
   "id": "cd39e90b-0daa-4780-a915-99e2c188b7f2",
   "metadata": {},
   "outputs": [
    {
     "data": {
      "text/plain": [
       "array(['Alabama', 'Alaska', 'Arizona', 'Arkansas', 'California',\n",
       "       'Colorado', 'Connecticut', 'Delaware', 'District of Columbia',\n",
       "       'Florida', 'Georgia', 'Guam', 'Hawaii', 'Idaho', 'Illinois',\n",
       "       'Indiana', 'Iowa', 'Kansas', 'Kentucky', 'Louisiana', 'Maine',\n",
       "       'Maryland', 'Massachusetts', 'Michigan', 'Minnesota',\n",
       "       'Mississippi', 'Missouri', 'Montana', 'Nebraska', 'Nevada',\n",
       "       'New Hampshire', 'New Jersey', 'New Mexico', 'New York',\n",
       "       'North Carolina', 'North Dakota', 'Northern Mariana Islands',\n",
       "       'Ohio', 'Oklahoma', 'Oregon', 'Pennsylvania', 'Puerto Rico',\n",
       "       'Rhode Island', 'South Carolina', 'South Dakota', 'Tennessee',\n",
       "       'Texas', 'Utah', 'Vermont', 'Virgin Islands', 'Virginia',\n",
       "       'Washington', 'West Virginia', 'Wisconsin', 'Wyoming'],\n",
       "      dtype=object)"
      ]
     },
     "execution_count": 7,
     "metadata": {},
     "output_type": "execute_result"
    }
   ],
   "source": [
    "df['state'].unique()"
   ]
  },
  {
   "cell_type": "code",
   "execution_count": 8,
   "id": "5d059c19-c413-4820-85a8-18632ef73b7f",
   "metadata": {},
   "outputs": [
    {
     "data": {
      "text/html": [
       "<div>\n",
       "<style scoped>\n",
       "    .dataframe tbody tr th:only-of-type {\n",
       "        vertical-align: middle;\n",
       "    }\n",
       "\n",
       "    .dataframe tbody tr th {\n",
       "        vertical-align: top;\n",
       "    }\n",
       "\n",
       "    .dataframe thead th {\n",
       "        text-align: right;\n",
       "    }\n",
       "</style>\n",
       "<table border=\"1\" class=\"dataframe\">\n",
       "  <thead>\n",
       "    <tr style=\"text-align: right;\">\n",
       "      <th></th>\n",
       "      <th>date</th>\n",
       "      <th>state</th>\n",
       "      <th>fips</th>\n",
       "      <th>daily_cases</th>\n",
       "      <th>daily_deaths</th>\n",
       "      <th>daily_distributed</th>\n",
       "      <th>daily_people_vaccinated</th>\n",
       "      <th>daily_people_fully_vaccinated</th>\n",
       "      <th>daily_vaccinations</th>\n",
       "      <th>mobility_composite</th>\n",
       "    </tr>\n",
       "  </thead>\n",
       "  <tbody>\n",
       "    <tr>\n",
       "      <th>19484</th>\n",
       "      <td>2020-01-21</td>\n",
       "      <td>Washington</td>\n",
       "      <td>53</td>\n",
       "      <td>1</td>\n",
       "      <td>0</td>\n",
       "      <td>NaN</td>\n",
       "      <td>NaN</td>\n",
       "      <td>NaN</td>\n",
       "      <td>NaN</td>\n",
       "      <td>NaN</td>\n",
       "    </tr>\n",
       "    <tr>\n",
       "      <th>19483</th>\n",
       "      <td>2020-01-22</td>\n",
       "      <td>Washington</td>\n",
       "      <td>53</td>\n",
       "      <td>0</td>\n",
       "      <td>0</td>\n",
       "      <td>NaN</td>\n",
       "      <td>NaN</td>\n",
       "      <td>NaN</td>\n",
       "      <td>NaN</td>\n",
       "      <td>NaN</td>\n",
       "    </tr>\n",
       "    <tr>\n",
       "      <th>19482</th>\n",
       "      <td>2020-01-23</td>\n",
       "      <td>Washington</td>\n",
       "      <td>53</td>\n",
       "      <td>0</td>\n",
       "      <td>0</td>\n",
       "      <td>NaN</td>\n",
       "      <td>NaN</td>\n",
       "      <td>NaN</td>\n",
       "      <td>NaN</td>\n",
       "      <td>NaN</td>\n",
       "    </tr>\n",
       "    <tr>\n",
       "      <th>5684</th>\n",
       "      <td>2020-01-24</td>\n",
       "      <td>Illinois</td>\n",
       "      <td>17</td>\n",
       "      <td>1</td>\n",
       "      <td>0</td>\n",
       "      <td>NaN</td>\n",
       "      <td>NaN</td>\n",
       "      <td>NaN</td>\n",
       "      <td>NaN</td>\n",
       "      <td>NaN</td>\n",
       "    </tr>\n",
       "    <tr>\n",
       "      <th>19481</th>\n",
       "      <td>2020-01-24</td>\n",
       "      <td>Washington</td>\n",
       "      <td>53</td>\n",
       "      <td>0</td>\n",
       "      <td>0</td>\n",
       "      <td>NaN</td>\n",
       "      <td>NaN</td>\n",
       "      <td>NaN</td>\n",
       "      <td>NaN</td>\n",
       "      <td>NaN</td>\n",
       "    </tr>\n",
       "    <tr>\n",
       "      <th>...</th>\n",
       "      <td>...</td>\n",
       "      <td>...</td>\n",
       "      <td>...</td>\n",
       "      <td>...</td>\n",
       "      <td>...</td>\n",
       "      <td>...</td>\n",
       "      <td>...</td>\n",
       "      <td>...</td>\n",
       "      <td>...</td>\n",
       "      <td>...</td>\n",
       "    </tr>\n",
       "    <tr>\n",
       "      <th>20250</th>\n",
       "      <td>2021-03-13</td>\n",
       "      <td>Wyoming</td>\n",
       "      <td>56</td>\n",
       "      <td>0</td>\n",
       "      <td>0</td>\n",
       "      <td>0.0</td>\n",
       "      <td>4086.0</td>\n",
       "      <td>2945.0</td>\n",
       "      <td>4,085</td>\n",
       "      <td>0.000000</td>\n",
       "    </tr>\n",
       "    <tr>\n",
       "      <th>4168</th>\n",
       "      <td>2021-03-13</td>\n",
       "      <td>Guam</td>\n",
       "      <td>66</td>\n",
       "      <td>1</td>\n",
       "      <td>0</td>\n",
       "      <td>0.0</td>\n",
       "      <td>226.0</td>\n",
       "      <td>1440.0</td>\n",
       "      <td>1,272</td>\n",
       "      <td>-5.361115</td>\n",
       "    </tr>\n",
       "    <tr>\n",
       "      <th>13475</th>\n",
       "      <td>2021-03-13</td>\n",
       "      <td>Northern Mariana Islands</td>\n",
       "      <td>69</td>\n",
       "      <td>1</td>\n",
       "      <td>0</td>\n",
       "      <td>0.0</td>\n",
       "      <td>230.0</td>\n",
       "      <td>163.0</td>\n",
       "      <td>246</td>\n",
       "      <td>NaN</td>\n",
       "    </tr>\n",
       "    <tr>\n",
       "      <th>15319</th>\n",
       "      <td>2021-03-13</td>\n",
       "      <td>Puerto Rico</td>\n",
       "      <td>72</td>\n",
       "      <td>235</td>\n",
       "      <td>0</td>\n",
       "      <td>19550.0</td>\n",
       "      <td>32455.0</td>\n",
       "      <td>20400.0</td>\n",
       "      <td>19,615</td>\n",
       "      <td>0.000000</td>\n",
       "    </tr>\n",
       "    <tr>\n",
       "      <th>18330</th>\n",
       "      <td>2021-03-13</td>\n",
       "      <td>Virgin Islands</td>\n",
       "      <td>78</td>\n",
       "      <td>0</td>\n",
       "      <td>0</td>\n",
       "      <td>NaN</td>\n",
       "      <td>NaN</td>\n",
       "      <td>NaN</td>\n",
       "      <td>NaN</td>\n",
       "      <td>NaN</td>\n",
       "    </tr>\n",
       "  </tbody>\n",
       "</table>\n",
       "<p>20618 rows × 10 columns</p>\n",
       "</div>"
      ],
      "text/plain": [
       "            date                     state  fips  daily_cases  daily_deaths  \\\n",
       "19484 2020-01-21                Washington    53            1             0   \n",
       "19483 2020-01-22                Washington    53            0             0   \n",
       "19482 2020-01-23                Washington    53            0             0   \n",
       "5684  2020-01-24                  Illinois    17            1             0   \n",
       "19481 2020-01-24                Washington    53            0             0   \n",
       "...          ...                       ...   ...          ...           ...   \n",
       "20250 2021-03-13                   Wyoming    56            0             0   \n",
       "4168  2021-03-13                      Guam    66            1             0   \n",
       "13475 2021-03-13  Northern Mariana Islands    69            1             0   \n",
       "15319 2021-03-13               Puerto Rico    72          235             0   \n",
       "18330 2021-03-13            Virgin Islands    78            0             0   \n",
       "\n",
       "       daily_distributed  daily_people_vaccinated  \\\n",
       "19484                NaN                      NaN   \n",
       "19483                NaN                      NaN   \n",
       "19482                NaN                      NaN   \n",
       "5684                 NaN                      NaN   \n",
       "19481                NaN                      NaN   \n",
       "...                  ...                      ...   \n",
       "20250                0.0                   4086.0   \n",
       "4168                 0.0                    226.0   \n",
       "13475                0.0                    230.0   \n",
       "15319            19550.0                  32455.0   \n",
       "18330                NaN                      NaN   \n",
       "\n",
       "       daily_people_fully_vaccinated daily_vaccinations  mobility_composite  \n",
       "19484                            NaN                NaN                 NaN  \n",
       "19483                            NaN                NaN                 NaN  \n",
       "19482                            NaN                NaN                 NaN  \n",
       "5684                             NaN                NaN                 NaN  \n",
       "19481                            NaN                NaN                 NaN  \n",
       "...                              ...                ...                 ...  \n",
       "20250                         2945.0              4,085            0.000000  \n",
       "4168                          1440.0              1,272           -5.361115  \n",
       "13475                          163.0                246                 NaN  \n",
       "15319                        20400.0             19,615            0.000000  \n",
       "18330                            NaN                NaN                 NaN  \n",
       "\n",
       "[20618 rows x 10 columns]"
      ]
     },
     "execution_count": 8,
     "metadata": {},
     "output_type": "execute_result"
    }
   ],
   "source": [
    "# Set date to be datetime format and sort by date and fips\n",
    "df['date'] = pd.to_datetime(df.date)\n",
    "df = df.sort_values(by=['date', 'fips'], axis=0, ascending=True)\n",
    "df"
   ]
  },
  {
   "cell_type": "code",
   "execution_count": 9,
   "id": "a6675f3e-4cdc-4c46-80ab-f222d50a4f86",
   "metadata": {},
   "outputs": [
    {
     "data": {
      "text/html": [
       "<div>\n",
       "<style scoped>\n",
       "    .dataframe tbody tr th:only-of-type {\n",
       "        vertical-align: middle;\n",
       "    }\n",
       "\n",
       "    .dataframe tbody tr th {\n",
       "        vertical-align: top;\n",
       "    }\n",
       "\n",
       "    .dataframe thead th {\n",
       "        text-align: right;\n",
       "    }\n",
       "</style>\n",
       "<table border=\"1\" class=\"dataframe\">\n",
       "  <thead>\n",
       "    <tr style=\"text-align: right;\">\n",
       "      <th></th>\n",
       "      <th>state</th>\n",
       "      <th>fips</th>\n",
       "      <th>daily_cases</th>\n",
       "      <th>daily_deaths</th>\n",
       "      <th>daily_distributed</th>\n",
       "      <th>daily_people_vaccinated</th>\n",
       "      <th>daily_people_fully_vaccinated</th>\n",
       "      <th>daily_vaccinations</th>\n",
       "      <th>mobility_composite</th>\n",
       "    </tr>\n",
       "    <tr>\n",
       "      <th>date</th>\n",
       "      <th></th>\n",
       "      <th></th>\n",
       "      <th></th>\n",
       "      <th></th>\n",
       "      <th></th>\n",
       "      <th></th>\n",
       "      <th></th>\n",
       "      <th></th>\n",
       "      <th></th>\n",
       "    </tr>\n",
       "  </thead>\n",
       "  <tbody>\n",
       "    <tr>\n",
       "      <th>2020-02-12</th>\n",
       "      <td>Texas</td>\n",
       "      <td>48</td>\n",
       "      <td>1</td>\n",
       "      <td>0</td>\n",
       "      <td>NaN</td>\n",
       "      <td>NaN</td>\n",
       "      <td>NaN</td>\n",
       "      <td>NaN</td>\n",
       "      <td>-0.534251</td>\n",
       "    </tr>\n",
       "    <tr>\n",
       "      <th>2020-02-13</th>\n",
       "      <td>Texas</td>\n",
       "      <td>48</td>\n",
       "      <td>1</td>\n",
       "      <td>0</td>\n",
       "      <td>NaN</td>\n",
       "      <td>NaN</td>\n",
       "      <td>NaN</td>\n",
       "      <td>NaN</td>\n",
       "      <td>-0.062539</td>\n",
       "    </tr>\n",
       "    <tr>\n",
       "      <th>2020-02-14</th>\n",
       "      <td>Texas</td>\n",
       "      <td>48</td>\n",
       "      <td>0</td>\n",
       "      <td>0</td>\n",
       "      <td>NaN</td>\n",
       "      <td>NaN</td>\n",
       "      <td>NaN</td>\n",
       "      <td>NaN</td>\n",
       "      <td>0.373968</td>\n",
       "    </tr>\n",
       "    <tr>\n",
       "      <th>2020-02-15</th>\n",
       "      <td>Texas</td>\n",
       "      <td>48</td>\n",
       "      <td>0</td>\n",
       "      <td>0</td>\n",
       "      <td>NaN</td>\n",
       "      <td>NaN</td>\n",
       "      <td>NaN</td>\n",
       "      <td>NaN</td>\n",
       "      <td>0.754066</td>\n",
       "    </tr>\n",
       "    <tr>\n",
       "      <th>2020-02-16</th>\n",
       "      <td>Texas</td>\n",
       "      <td>48</td>\n",
       "      <td>0</td>\n",
       "      <td>0</td>\n",
       "      <td>NaN</td>\n",
       "      <td>NaN</td>\n",
       "      <td>NaN</td>\n",
       "      <td>NaN</td>\n",
       "      <td>1.069516</td>\n",
       "    </tr>\n",
       "    <tr>\n",
       "      <th>...</th>\n",
       "      <td>...</td>\n",
       "      <td>...</td>\n",
       "      <td>...</td>\n",
       "      <td>...</td>\n",
       "      <td>...</td>\n",
       "      <td>...</td>\n",
       "      <td>...</td>\n",
       "      <td>...</td>\n",
       "      <td>...</td>\n",
       "    </tr>\n",
       "    <tr>\n",
       "      <th>2021-03-09</th>\n",
       "      <td>Texas</td>\n",
       "      <td>48</td>\n",
       "      <td>5409</td>\n",
       "      <td>184</td>\n",
       "      <td>444420.0</td>\n",
       "      <td>168326.0</td>\n",
       "      <td>68666.0</td>\n",
       "      <td>191,891</td>\n",
       "      <td>-7.686501</td>\n",
       "    </tr>\n",
       "    <tr>\n",
       "      <th>2021-03-10</th>\n",
       "      <td>Texas</td>\n",
       "      <td>48</td>\n",
       "      <td>5350</td>\n",
       "      <td>202</td>\n",
       "      <td>815040.0</td>\n",
       "      <td>165705.0</td>\n",
       "      <td>77828.0</td>\n",
       "      <td>191,158</td>\n",
       "      <td>-7.686501</td>\n",
       "    </tr>\n",
       "    <tr>\n",
       "      <th>2021-03-11</th>\n",
       "      <td>Texas</td>\n",
       "      <td>48</td>\n",
       "      <td>6185</td>\n",
       "      <td>212</td>\n",
       "      <td>150650.0</td>\n",
       "      <td>153209.0</td>\n",
       "      <td>60099.0</td>\n",
       "      <td>193,081</td>\n",
       "      <td>-7.686501</td>\n",
       "    </tr>\n",
       "    <tr>\n",
       "      <th>2021-03-12</th>\n",
       "      <td>Texas</td>\n",
       "      <td>48</td>\n",
       "      <td>5230</td>\n",
       "      <td>223</td>\n",
       "      <td>225150.0</td>\n",
       "      <td>206533.0</td>\n",
       "      <td>92580.0</td>\n",
       "      <td>202,045</td>\n",
       "      <td>-7.738001</td>\n",
       "    </tr>\n",
       "    <tr>\n",
       "      <th>2021-03-13</th>\n",
       "      <td>Texas</td>\n",
       "      <td>48</td>\n",
       "      <td>2876</td>\n",
       "      <td>141</td>\n",
       "      <td>81900.0</td>\n",
       "      <td>192733.0</td>\n",
       "      <td>85206.0</td>\n",
       "      <td>204,566</td>\n",
       "      <td>-7.738001</td>\n",
       "    </tr>\n",
       "  </tbody>\n",
       "</table>\n",
       "<p>396 rows × 9 columns</p>\n",
       "</div>"
      ],
      "text/plain": [
       "            state  fips  daily_cases  daily_deaths  daily_distributed  \\\n",
       "date                                                                    \n",
       "2020-02-12  Texas    48            1             0                NaN   \n",
       "2020-02-13  Texas    48            1             0                NaN   \n",
       "2020-02-14  Texas    48            0             0                NaN   \n",
       "2020-02-15  Texas    48            0             0                NaN   \n",
       "2020-02-16  Texas    48            0             0                NaN   \n",
       "...           ...   ...          ...           ...                ...   \n",
       "2021-03-09  Texas    48         5409           184           444420.0   \n",
       "2021-03-10  Texas    48         5350           202           815040.0   \n",
       "2021-03-11  Texas    48         6185           212           150650.0   \n",
       "2021-03-12  Texas    48         5230           223           225150.0   \n",
       "2021-03-13  Texas    48         2876           141            81900.0   \n",
       "\n",
       "            daily_people_vaccinated  daily_people_fully_vaccinated  \\\n",
       "date                                                                 \n",
       "2020-02-12                      NaN                            NaN   \n",
       "2020-02-13                      NaN                            NaN   \n",
       "2020-02-14                      NaN                            NaN   \n",
       "2020-02-15                      NaN                            NaN   \n",
       "2020-02-16                      NaN                            NaN   \n",
       "...                             ...                            ...   \n",
       "2021-03-09                 168326.0                        68666.0   \n",
       "2021-03-10                 165705.0                        77828.0   \n",
       "2021-03-11                 153209.0                        60099.0   \n",
       "2021-03-12                 206533.0                        92580.0   \n",
       "2021-03-13                 192733.0                        85206.0   \n",
       "\n",
       "           daily_vaccinations  mobility_composite  \n",
       "date                                               \n",
       "2020-02-12                NaN           -0.534251  \n",
       "2020-02-13                NaN           -0.062539  \n",
       "2020-02-14                NaN            0.373968  \n",
       "2020-02-15                NaN            0.754066  \n",
       "2020-02-16                NaN            1.069516  \n",
       "...                       ...                 ...  \n",
       "2021-03-09            191,891           -7.686501  \n",
       "2021-03-10            191,158           -7.686501  \n",
       "2021-03-11            193,081           -7.686501  \n",
       "2021-03-12            202,045           -7.738001  \n",
       "2021-03-13            204,566           -7.738001  \n",
       "\n",
       "[396 rows x 9 columns]"
      ]
     },
     "execution_count": 9,
     "metadata": {},
     "output_type": "execute_result"
    }
   ],
   "source": [
    "df_clean = df[df.state == STATE]\n",
    "df_clean = df_clean.set_index('date')\n",
    "df_clean"
   ]
  },
  {
   "cell_type": "code",
   "execution_count": 10,
   "id": "a8eccf57-7c24-4496-b2fa-2af17ebf8f28",
   "metadata": {},
   "outputs": [
    {
     "data": {
      "text/plain": [
       "(378, 1)"
      ]
     },
     "execution_count": 10,
     "metadata": {},
     "output_type": "execute_result"
    }
   ],
   "source": [
    "rmlabels=['state', 'fips', 'daily_deaths', 'daily_distributed','daily_people_vaccinated', 'daily_people_fully_vaccinated',\n",
    "          'daily_vaccinations', 'mobility_composite']\n",
    "df_clean = df_clean.drop(labels=rmlabels, axis=1)\n",
    "df_clean = df_clean.iloc[df_clean.shape[0]-378:]\n",
    "df_clean.shape"
   ]
  },
  {
   "cell_type": "code",
   "execution_count": 11,
   "id": "c201a119-d9fa-4518-abef-46b721091fb8",
   "metadata": {},
   "outputs": [
    {
     "data": {
      "text/plain": [
       "<matplotlib.axes._subplots.AxesSubplot at 0x7fdc2d6db9e8>"
      ]
     },
     "execution_count": 11,
     "metadata": {},
     "output_type": "execute_result"
    },
    {
     "data": {
      "image/png": "[encoded data removed]",
      "text/plain": [
       "<matplotlib.figure.Figure at 0x7fdc2d6db048>"
      ]
     },
     "metadata": {
      "needs_background": "light"
     },
     "output_type": "display_data"
    }
   ],
   "source": [
    "df_clean.plot(title=f\"Daily cases :{STATE}\")"
   ]
  },
  {
   "cell_type": "code",
   "execution_count": 12,
   "id": "23c4f150-3637-4570-adb3-6b5f40617af6",
   "metadata": {},
   "outputs": [
    {
     "data": {
      "text/html": [
       "<div>\n",
       "<style scoped>\n",
       "    .dataframe tbody tr th:only-of-type {\n",
       "        vertical-align: middle;\n",
       "    }\n",
       "\n",
       "    .dataframe tbody tr th {\n",
       "        vertical-align: top;\n",
       "    }\n",
       "\n",
       "    .dataframe thead th {\n",
       "        text-align: right;\n",
       "    }\n",
       "</style>\n",
       "<table border=\"1\" class=\"dataframe\">\n",
       "  <thead>\n",
       "    <tr style=\"text-align: right;\">\n",
       "      <th></th>\n",
       "      <th>date</th>\n",
       "      <th>state</th>\n",
       "      <th>fips</th>\n",
       "      <th>daily_cases</th>\n",
       "      <th>daily_deaths</th>\n",
       "      <th>daily_distributed</th>\n",
       "      <th>daily_people_vaccinated</th>\n",
       "      <th>daily_people_fully_vaccinated</th>\n",
       "      <th>daily_vaccinations</th>\n",
       "      <th>mobility_composite</th>\n",
       "    </tr>\n",
       "  </thead>\n",
       "  <tbody>\n",
       "    <tr>\n",
       "      <th>19484</th>\n",
       "      <td>2020-01-21</td>\n",
       "      <td>Washington</td>\n",
       "      <td>53</td>\n",
       "      <td>1</td>\n",
       "      <td>0</td>\n",
       "      <td>NaN</td>\n",
       "      <td>NaN</td>\n",
       "      <td>NaN</td>\n",
       "      <td>NaN</td>\n",
       "      <td>NaN</td>\n",
       "    </tr>\n",
       "    <tr>\n",
       "      <th>19483</th>\n",
       "      <td>2020-01-22</td>\n",
       "      <td>Washington</td>\n",
       "      <td>53</td>\n",
       "      <td>0</td>\n",
       "      <td>0</td>\n",
       "      <td>NaN</td>\n",
       "      <td>NaN</td>\n",
       "      <td>NaN</td>\n",
       "      <td>NaN</td>\n",
       "      <td>NaN</td>\n",
       "    </tr>\n",
       "    <tr>\n",
       "      <th>19482</th>\n",
       "      <td>2020-01-23</td>\n",
       "      <td>Washington</td>\n",
       "      <td>53</td>\n",
       "      <td>0</td>\n",
       "      <td>0</td>\n",
       "      <td>NaN</td>\n",
       "      <td>NaN</td>\n",
       "      <td>NaN</td>\n",
       "      <td>NaN</td>\n",
       "      <td>NaN</td>\n",
       "    </tr>\n",
       "    <tr>\n",
       "      <th>5684</th>\n",
       "      <td>2020-01-24</td>\n",
       "      <td>Illinois</td>\n",
       "      <td>17</td>\n",
       "      <td>1</td>\n",
       "      <td>0</td>\n",
       "      <td>NaN</td>\n",
       "      <td>NaN</td>\n",
       "      <td>NaN</td>\n",
       "      <td>NaN</td>\n",
       "      <td>NaN</td>\n",
       "    </tr>\n",
       "    <tr>\n",
       "      <th>19481</th>\n",
       "      <td>2020-01-24</td>\n",
       "      <td>Washington</td>\n",
       "      <td>53</td>\n",
       "      <td>0</td>\n",
       "      <td>0</td>\n",
       "      <td>NaN</td>\n",
       "      <td>NaN</td>\n",
       "      <td>NaN</td>\n",
       "      <td>NaN</td>\n",
       "      <td>NaN</td>\n",
       "    </tr>\n",
       "  </tbody>\n",
       "</table>\n",
       "</div>"
      ],
      "text/plain": [
       "            date       state  fips  daily_cases  daily_deaths  \\\n",
       "19484 2020-01-21  Washington    53            1             0   \n",
       "19483 2020-01-22  Washington    53            0             0   \n",
       "19482 2020-01-23  Washington    53            0             0   \n",
       "5684  2020-01-24    Illinois    17            1             0   \n",
       "19481 2020-01-24  Washington    53            0             0   \n",
       "\n",
       "       daily_distributed  daily_people_vaccinated  \\\n",
       "19484                NaN                      NaN   \n",
       "19483                NaN                      NaN   \n",
       "19482                NaN                      NaN   \n",
       "5684                 NaN                      NaN   \n",
       "19481                NaN                      NaN   \n",
       "\n",
       "       daily_people_fully_vaccinated daily_vaccinations  mobility_composite  \n",
       "19484                            NaN                NaN                 NaN  \n",
       "19483                            NaN                NaN                 NaN  \n",
       "19482                            NaN                NaN                 NaN  \n",
       "5684                             NaN                NaN                 NaN  \n",
       "19481                            NaN                NaN                 NaN  "
      ]
     },
     "execution_count": 12,
     "metadata": {},
     "output_type": "execute_result"
    }
   ],
   "source": [
    "df.head()"
   ]
  },
  {
   "cell_type": "code",
   "execution_count": 13,
   "id": "e8f7a48d-81a7-4b17-aedb-5923ffcbe32f",
   "metadata": {},
   "outputs": [],
   "source": [
    "df_state = df[df.state == STATE]"
   ]
  },
  {
   "cell_type": "code",
   "execution_count": 14,
   "id": "db9e99af-23dc-4e4e-a124-92d83a36d885",
   "metadata": {},
   "outputs": [
    {
     "data": {
      "image/png": "[encoded data removed]",
      "text/plain": [
       "<matplotlib.figure.Figure at 0x7fdc2d463e10>"
      ]
     },
     "metadata": {
      "needs_background": "light"
     },
     "output_type": "display_data"
    }
   ],
   "source": [
    "import pandas as pd\n",
    "import seaborn as sn\n",
    "import matplotlib.pyplot as plt\n",
    "\n",
    "corrMatrix = df_state.corr()\n",
    "sn.heatmap(corrMatrix, annot=True)\n",
    "plt.show()"
   ]
  },
  {
   "cell_type": "markdown",
   "id": "6662892c-7d17-4a48-a17c-83731bd9759e",
   "metadata": {},
   "source": [
    "### select the high correlation to be our factors"
   ]
  },
  {
   "cell_type": "markdown",
   "id": "a276e2d6-9e04-4b58-955b-a4631b50d829",
   "metadata": {},
   "source": [
    "- daily death\n",
    "- daily people vacinated \n",
    "- daily_distibuted  \n",
    "- daily case "
   ]
  },
  {
   "cell_type": "code",
   "execution_count": 15,
   "id": "d6229abd-17d0-4e2b-b303-f4e2044f5079",
   "metadata": {},
   "outputs": [
    {
     "data": {
      "text/plain": [
       "Index(['date', 'state', 'fips', 'daily_cases', 'daily_deaths',\n",
       "       'daily_distributed', 'daily_people_vaccinated',\n",
       "       'daily_people_fully_vaccinated', 'daily_vaccinations',\n",
       "       'mobility_composite'],\n",
       "      dtype='object')"
      ]
     },
     "execution_count": 15,
     "metadata": {},
     "output_type": "execute_result"
    }
   ],
   "source": [
    "df_state.columns"
   ]
  },
  {
   "cell_type": "code",
   "execution_count": 16,
   "id": "39b13fd3-a58b-476e-9bdd-65c1f96f8311",
   "metadata": {},
   "outputs": [],
   "source": [
    "df_state = df_state.set_index('date') "
   ]
  },
  {
   "cell_type": "code",
   "execution_count": 17,
   "id": "598184b0-4082-404b-9b4d-3729f6297e39",
   "metadata": {},
   "outputs": [
    {
     "data": {
      "text/html": [
       "<div>\n",
       "<style scoped>\n",
       "    .dataframe tbody tr th:only-of-type {\n",
       "        vertical-align: middle;\n",
       "    }\n",
       "\n",
       "    .dataframe tbody tr th {\n",
       "        vertical-align: top;\n",
       "    }\n",
       "\n",
       "    .dataframe thead th {\n",
       "        text-align: right;\n",
       "    }\n",
       "</style>\n",
       "<table border=\"1\" class=\"dataframe\">\n",
       "  <thead>\n",
       "    <tr style=\"text-align: right;\">\n",
       "      <th></th>\n",
       "      <th>state</th>\n",
       "      <th>fips</th>\n",
       "      <th>daily_cases</th>\n",
       "      <th>daily_deaths</th>\n",
       "      <th>daily_distributed</th>\n",
       "      <th>daily_people_vaccinated</th>\n",
       "      <th>daily_people_fully_vaccinated</th>\n",
       "      <th>daily_vaccinations</th>\n",
       "      <th>mobility_composite</th>\n",
       "    </tr>\n",
       "    <tr>\n",
       "      <th>date</th>\n",
       "      <th></th>\n",
       "      <th></th>\n",
       "      <th></th>\n",
       "      <th></th>\n",
       "      <th></th>\n",
       "      <th></th>\n",
       "      <th></th>\n",
       "      <th></th>\n",
       "      <th></th>\n",
       "    </tr>\n",
       "  </thead>\n",
       "  <tbody>\n",
       "    <tr>\n",
       "      <th>2020-02-12</th>\n",
       "      <td>Texas</td>\n",
       "      <td>48</td>\n",
       "      <td>1</td>\n",
       "      <td>0</td>\n",
       "      <td>NaN</td>\n",
       "      <td>NaN</td>\n",
       "      <td>NaN</td>\n",
       "      <td>NaN</td>\n",
       "      <td>-0.534251</td>\n",
       "    </tr>\n",
       "    <tr>\n",
       "      <th>2020-02-13</th>\n",
       "      <td>Texas</td>\n",
       "      <td>48</td>\n",
       "      <td>1</td>\n",
       "      <td>0</td>\n",
       "      <td>NaN</td>\n",
       "      <td>NaN</td>\n",
       "      <td>NaN</td>\n",
       "      <td>NaN</td>\n",
       "      <td>-0.062539</td>\n",
       "    </tr>\n",
       "    <tr>\n",
       "      <th>2020-02-14</th>\n",
       "      <td>Texas</td>\n",
       "      <td>48</td>\n",
       "      <td>0</td>\n",
       "      <td>0</td>\n",
       "      <td>NaN</td>\n",
       "      <td>NaN</td>\n",
       "      <td>NaN</td>\n",
       "      <td>NaN</td>\n",
       "      <td>0.373968</td>\n",
       "    </tr>\n",
       "    <tr>\n",
       "      <th>2020-02-15</th>\n",
       "      <td>Texas</td>\n",
       "      <td>48</td>\n",
       "      <td>0</td>\n",
       "      <td>0</td>\n",
       "      <td>NaN</td>\n",
       "      <td>NaN</td>\n",
       "      <td>NaN</td>\n",
       "      <td>NaN</td>\n",
       "      <td>0.754066</td>\n",
       "    </tr>\n",
       "    <tr>\n",
       "      <th>2020-02-16</th>\n",
       "      <td>Texas</td>\n",
       "      <td>48</td>\n",
       "      <td>0</td>\n",
       "      <td>0</td>\n",
       "      <td>NaN</td>\n",
       "      <td>NaN</td>\n",
       "      <td>NaN</td>\n",
       "      <td>NaN</td>\n",
       "      <td>1.069516</td>\n",
       "    </tr>\n",
       "  </tbody>\n",
       "</table>\n",
       "</div>"
      ],
      "text/plain": [
       "            state  fips  daily_cases  daily_deaths  daily_distributed  \\\n",
       "date                                                                    \n",
       "2020-02-12  Texas    48            1             0                NaN   \n",
       "2020-02-13  Texas    48            1             0                NaN   \n",
       "2020-02-14  Texas    48            0             0                NaN   \n",
       "2020-02-15  Texas    48            0             0                NaN   \n",
       "2020-02-16  Texas    48            0             0                NaN   \n",
       "\n",
       "            daily_people_vaccinated  daily_people_fully_vaccinated  \\\n",
       "date                                                                 \n",
       "2020-02-12                      NaN                            NaN   \n",
       "2020-02-13                      NaN                            NaN   \n",
       "2020-02-14                      NaN                            NaN   \n",
       "2020-02-15                      NaN                            NaN   \n",
       "2020-02-16                      NaN                            NaN   \n",
       "\n",
       "           daily_vaccinations  mobility_composite  \n",
       "date                                               \n",
       "2020-02-12                NaN           -0.534251  \n",
       "2020-02-13                NaN           -0.062539  \n",
       "2020-02-14                NaN            0.373968  \n",
       "2020-02-15                NaN            0.754066  \n",
       "2020-02-16                NaN            1.069516  "
      ]
     },
     "execution_count": 17,
     "metadata": {},
     "output_type": "execute_result"
    }
   ],
   "source": [
    "df_state.head()"
   ]
  },
  {
   "cell_type": "code",
   "execution_count": 18,
   "id": "2bd8ef7b-99ba-4c1f-8c67-df4bf7ead2b7",
   "metadata": {},
   "outputs": [],
   "source": [
    "df_state = df_state.drop(['state', 'fips',\n",
    "       'daily_people_vaccinated',\n",
    "       'daily_people_fully_vaccinated',\n",
    "       'mobility_composite'], axis=1)"
   ]
  },
  {
   "cell_type": "code",
   "execution_count": 19,
   "id": "8f2c8249-9da1-4cf9-b176-b70aa3610b4f",
   "metadata": {},
   "outputs": [
    {
     "name": "stdout",
     "output_type": "stream",
     "text": [
      "<class 'pandas.core.frame.DataFrame'>\n",
      "DatetimeIndex: 396 entries, 2020-02-12 to 2021-03-13\n",
      "Data columns (total 4 columns):\n",
      " #   Column              Non-Null Count  Dtype  \n",
      "---  ------              --------------  -----  \n",
      " 0   daily_cases         396 non-null    int64  \n",
      " 1   daily_deaths        396 non-null    int64  \n",
      " 2   daily_distributed   72 non-null     float64\n",
      " 3   daily_vaccinations  72 non-null     object \n",
      "dtypes: float64(1), int64(2), object(1)\n",
      "memory usage: 15.5+ KB\n"
     ]
    }
   ],
   "source": [
    "df_state.info()"
   ]
  },
  {
   "cell_type": "code",
   "execution_count": 20,
   "id": "d02afb67-eb2f-4da9-a7ab-75c97cc2cb93",
   "metadata": {},
   "outputs": [],
   "source": [
    "df_state_clean = df_state.dropna()"
   ]
  },
  {
   "cell_type": "code",
   "execution_count": 21,
   "id": "066ceb35-f5b7-47d2-ac4a-d36f27214d34",
   "metadata": {},
   "outputs": [],
   "source": [
    "df_state_clean = df_state_clean.replace(',','', regex=True)"
   ]
  },
  {
   "cell_type": "code",
   "execution_count": 22,
   "id": "3f9c5ecd-cbe0-45a4-9c6c-a9323ca98203",
   "metadata": {},
   "outputs": [
    {
     "data": {
      "text/plain": [
       "(72, 4)"
      ]
     },
     "execution_count": 22,
     "metadata": {},
     "output_type": "execute_result"
    }
   ],
   "source": [
    "df_state_clean.shape"
   ]
  },
  {
   "cell_type": "code",
   "execution_count": 23,
   "id": "ae9bb82b-3168-4ac9-be30-f19c39c8ace6",
   "metadata": {},
   "outputs": [
    {
     "name": "stdout",
     "output_type": "stream",
     "text": [
      "<class 'pandas.core.frame.DataFrame'>\n",
      "DatetimeIndex: 72 entries, 2021-01-01 to 2021-03-13\n",
      "Data columns (total 4 columns):\n",
      " #   Column              Non-Null Count  Dtype  \n",
      "---  ------              --------------  -----  \n",
      " 0   daily_cases         72 non-null     int64  \n",
      " 1   daily_deaths        72 non-null     int64  \n",
      " 2   daily_distributed   72 non-null     float64\n",
      " 3   daily_vaccinations  72 non-null     object \n",
      "dtypes: float64(1), int64(2), object(1)\n",
      "memory usage: 2.8+ KB\n"
     ]
    }
   ],
   "source": [
    "df_state_clean.info()"
   ]
  },
  {
   "cell_type": "code",
   "execution_count": 24,
   "id": "c2a67ca0-bb2c-45ba-ad06-818b775b284f",
   "metadata": {},
   "outputs": [
    {
     "data": {
      "text/plain": [
       "(72, 4)"
      ]
     },
     "execution_count": 24,
     "metadata": {},
     "output_type": "execute_result"
    }
   ],
   "source": [
    "df_state_clean.shape"
   ]
  },
  {
   "cell_type": "code",
   "execution_count": 25,
   "id": "e957bba3-ef61-40d2-bb90-0db349eb26e0",
   "metadata": {},
   "outputs": [],
   "source": [
    "def create_sequences(data, seq_length):\n",
    "    xs = []\n",
    "    ys = []\n",
    "    \n",
    "    for i in range(len(data)-seq_length-1):\n",
    "        x = data[i:(i+seq_length)]\n",
    "        #print(i)\n",
    "        y = data[i+seq_length]\n",
    "        xs.append(x)\n",
    "        ys.append(y)\n",
    "\n",
    "    return np.array(xs), np.array(ys)"
   ]
  },
  {
   "cell_type": "markdown",
   "id": "17a936f1-f68a-411a-b61c-c4067a1207bd",
   "metadata": {},
   "source": [
    "# Define Model"
   ]
  },
  {
   "cell_type": "code",
   "execution_count": 26,
   "id": "ff4391ed-a40f-4fcd-9e6a-ead688102775",
   "metadata": {},
   "outputs": [],
   "source": [
    "class ResidualBlock(nn.Module):\n",
    "    def __init__(self,kernel_size=3,dilation=1,in_dim=16,hidden_dim=64,out_dim=128):\n",
    "        super(ResidualBlock, self).__init__()\n",
    "        self.pad = (kernel_size - 1) * dilation\n",
    "        \n",
    "        #self.casual1 = nn.Conv1d(in_channels=16,out_channels=32,kernel_size=kernel_size,stride=1,padding=self.pad,dilation=dilation)\n",
    "        #self.casual2 = nn.Conv1d(in_channels=32,out_channels=64,kernel_size=kernel_size,stride=1,padding=self.pad,dilation=dilation)\n",
    "        \n",
    "        self.layer_1 = nn.Sequential(nn.utils.weight_norm(nn.Conv1d(in_channels=in_dim,out_channels=hidden_dim,\n",
    "                                     kernel_size=kernel_size,stride=1,padding=self.pad,dilation=dilation)),\n",
    "                                     nn.LeakyReLU(0.1),nn.Dropout(p=0.2))\n",
    "         \n",
    "        self.layer_2 = nn.Sequential(nn.utils.weight_norm(nn.Conv1d(in_channels=hidden_dim,out_channels=out_dim,\n",
    "                                    kernel_size=kernel_size,stride=1,padding=self.pad,dilation=dilation)),\n",
    "                                    nn.LeakyReLU(0.1),nn.Dropout(p=0.2))\n",
    "        \n",
    "        self.conv1_1 = nn.Conv1d(in_channels=in_dim,out_channels=out_dim,\n",
    "                                                        kernel_size=1,stride=1,padding=0,dilation=1)\n",
    "        \n",
    "    def forward(self,x):\n",
    "        \n",
    "        x_iden = x\n",
    "        x = self.layer_1(x)\n",
    "        x = x[:,:,:-self.pad]\n",
    "        #print(x.shape)\n",
    "        x = self.layer_2(x)\n",
    "        x = x[:,:,:-self.pad]\n",
    "        #print(x.shape)\n",
    "        x_iden = self.conv1_1(x_iden)\n",
    "        #print(x_iden.shape)\n",
    "        x = x + x_iden\n",
    "        \n",
    "        return x         "
   ]
  },
  {
   "cell_type": "code",
   "execution_count": 50,
   "id": "0c50375b-7e32-4447-985b-3cb7c4a9a88f",
   "metadata": {},
   "outputs": [],
   "source": [
    "class TemporalConvNet(nn.Module):\n",
    "    def __init__(self,num_residual_layers,channel_config,num_classes):\n",
    "        super(TemporalConvNet, self).__init__()\n",
    "        self.num_residual_layers = num_residual_layers \n",
    "        self.residual_layers = []\n",
    "        #print(self.num_residual_layers)\n",
    "        \n",
    "        for i in range(self.num_residual_layers):\n",
    "            d = pow(2, i)\n",
    "            #print(d)\n",
    "            self.residual_layers.append(ResidualBlock(kernel_size=3,dilation=d,in_dim=channel_config[i][0],hidden_dim=channel_config[i][1],out_dim=channel_config[i][2]).to(device))        \n",
    "        #print(self.residual_layers)\n",
    "        \n",
    "        #1200\n",
    "        \n",
    "#         self.fc = nn.Sequential(nn.Linear(7 , 7),nn.LeakyReLU(0.1),nn.BatchNorm1d(num_features=7),nn.Dropout(0.5),\n",
    "#                                 nn.Linear(7,4),nn.LeakyReLU(0.1),nn.BatchNorm1d(num_features=4),\n",
    "#                                 nn.Dropout(0.5),nn.Linear(4,2),nn.BatchNorm1d(num_features=2))\n",
    "        \n",
    "        self.fc = nn.Sequential(nn.Linear(7 , 7),nn.LeakyReLU(0.1),nn.Dropout(0.5),\n",
    "                                nn.Linear(7,4),nn.LeakyReLU(0.1),\n",
    "                                nn.Dropout(0.5),nn.Linear(4,2))\n",
    "        \n",
    "        \n",
    "        self.out = nn.Linear(2, 1)\n",
    "        #self.softmax = nn.LogSoftmax(dim=1)\n",
    "        \n",
    "\n",
    "        #self.fc = nn.Sequential(nn.Linear(75 ,100),nn.ReLU(),nn.Linear(100,10))\n",
    "        \n",
    "    def forward(self,x):\n",
    "        for layer in self.residual_layers:\n",
    "            x = layer(x)\n",
    "        #print(\"layer :\",x.shape)\n",
    "        x = torch.flatten(x,start_dim=1)\n",
    "        #print(\"flatten:\",x.shape)        \n",
    "        x = self.fc(x).to(device)\n",
    "        \n",
    "        x = self.out(x).to(device)\n",
    "        #print(x.shape)\n",
    "    \n",
    "        return x"
   ]
  },
  {
   "cell_type": "code",
   "execution_count": 51,
   "id": "4828ea44-9f63-4640-a5d9-36de8a59dadb",
   "metadata": {},
   "outputs": [
    {
     "name": "stdout",
     "output_type": "stream",
     "text": [
      "Configured device:  cuda\n"
     ]
    }
   ],
   "source": [
    "device = torch.device('cuda' if torch.cuda.is_available() else 'cpu')\n",
    "print(\"Configured device: \", device)"
   ]
  },
  {
   "cell_type": "markdown",
   "id": "41e6cf0c-dc31-46f8-9fb7-58a5f722b13d",
   "metadata": {},
   "source": [
    "## DATA Shape\n",
    "- (batch_size,data point,channel)\n",
    "\n",
    "### For CNN shape\n",
    "- Shape:\n",
    "        Input:(batch_size,channel, data point)\n",
    "        "
   ]
  },
  {
   "cell_type": "code",
   "execution_count": 52,
   "id": "6c184b07-5c84-4dfc-83c8-3ee084b21dc0",
   "metadata": {},
   "outputs": [
    {
     "data": {
      "text/plain": [
       "<matplotlib.axes._subplots.AxesSubplot at 0x7fdc2d76d400>"
      ]
     },
     "execution_count": 52,
     "metadata": {},
     "output_type": "execute_result"
    },
    {
     "data": {
      "image/png": "[encoded data removed]",
      "text/plain": [
       "<matplotlib.figure.Figure at 0x7fdc2cc31588>"
      ]
     },
     "metadata": {
      "needs_background": "light"
     },
     "output_type": "display_data"
    }
   ],
   "source": [
    "df_clean.plot(title=f\"Daily cases :{STATE}\")"
   ]
  },
  {
   "cell_type": "code",
   "execution_count": 53,
   "id": "ebbadcba-a484-49b3-93cd-4ecab2707ab3",
   "metadata": {},
   "outputs": [
    {
     "data": {
      "text/plain": [
       "378"
      ]
     },
     "execution_count": 53,
     "metadata": {},
     "output_type": "execute_result"
    }
   ],
   "source": [
    "df_clean.shape[0]"
   ]
  },
  {
   "cell_type": "code",
   "execution_count": 104,
   "id": "b1d6b808-6d67-4061-974b-d11b5c846246",
   "metadata": {},
   "outputs": [
    {
     "name": "stdout",
     "output_type": "stream",
     "text": [
      "266\n",
      "75\n",
      "37\n"
     ]
    }
   ],
   "source": [
    "train_size = int(len(df_clean)*0.7)+2\n",
    "valid_size = int(len(df_clean)*0.2)\n",
    "test_size  = int(len(df_clean)*0.1) \n",
    "\n",
    "print(train_size)\n",
    "print(valid_size)\n",
    "print(test_size)\n",
    "\n",
    "#print(train_size+valid_size+test_size)\n",
    "\n",
    "assert train_size +  valid_size + test_size == df_clean.shape[0]"
   ]
  },
  {
   "cell_type": "code",
   "execution_count": 105,
   "id": "3c12e985-d837-4f1d-994f-09c7549ee47a",
   "metadata": {},
   "outputs": [
    {
     "data": {
      "text/plain": [
       "((266, 1), (37, 1), (75, 1))"
      ]
     },
     "execution_count": 105,
     "metadata": {},
     "output_type": "execute_result"
    }
   ],
   "source": [
    "train_data = df_clean.iloc[:train_size]\n",
    "test_data = df_clean.iloc[train_size:train_size+test_size]\n",
    "valid_data = df_clean.iloc[train_size+test_size:]\n",
    "\n",
    "\n",
    "\n",
    "# train_data = np.expand_dims(train_data, axis=1)\n",
    "# test_data = np.expand_dims(test_data, axis=1)\n",
    "\n",
    "train_data.shape, test_data.shape , valid_data.shape "
   ]
  },
  {
   "cell_type": "code",
   "execution_count": 106,
   "id": "9f83ef7b-d478-42f6-ae8e-f5c3a3a8239f",
   "metadata": {},
   "outputs": [],
   "source": [
    "# scaler = MinMaxScaler()\n",
    "scaler = StandardScaler()\n",
    "\n",
    "scaler = scaler.fit(train_data)\n",
    "\n",
    "train_data = scaler.transform(train_data)\n",
    "\n",
    "test_data = scaler.transform(test_data)\n",
    "\n",
    "valid_data = scaler.transform(valid_data)"
   ]
  },
  {
   "cell_type": "code",
   "execution_count": 107,
   "id": "15532477-1a0e-44c2-a270-128a09cefaab",
   "metadata": {},
   "outputs": [],
   "source": [
    "train_data = np.asarray(train_data)\n",
    "test_data = np.asarray(test_data)\n",
    "valid_data = np.asarray(valid_data)"
   ]
  },
  {
   "cell_type": "code",
   "execution_count": 108,
   "id": "580acfdd-8af4-470d-8b41-b4a737e38cbc",
   "metadata": {},
   "outputs": [],
   "source": [
    "X_train, y_train = create_sequences(train_data, seq_length)\n",
    "X_test, y_test = create_sequences(test_data, seq_length)\n",
    "X_valid ,y_valid = create_sequences(valid_data, seq_length)\n",
    "\n",
    "X_train = torch.from_numpy(X_train).float()\n",
    "y_train = torch.from_numpy(y_train).float()\n",
    "\n",
    "X_test = torch.from_numpy(X_test).float()\n",
    "y_test = torch.from_numpy(y_test).float()\n",
    "\n",
    "\n",
    "X_valid = torch.from_numpy(X_valid).float()\n",
    "y_valid = torch.from_numpy(y_valid).float()"
   ]
  },
  {
   "cell_type": "code",
   "execution_count": 109,
   "id": "6a9dcc9e-4638-48f6-859b-09d860477355",
   "metadata": {},
   "outputs": [
    {
     "data": {
      "text/plain": [
       "(torch.Size([258, 7, 1]),\n",
       " torch.Size([258, 1]),\n",
       " torch.Size([29, 7, 1]),\n",
       " torch.Size([29, 1]))"
      ]
     },
     "execution_count": 109,
     "metadata": {},
     "output_type": "execute_result"
    }
   ],
   "source": [
    "X_train.shape , y_train.shape , X_test.shape, y_test.shape"
   ]
  },
  {
   "cell_type": "code",
   "execution_count": 110,
   "id": "cdc119a6-14a0-4285-ab6e-3bdf3b9b3f9a",
   "metadata": {},
   "outputs": [],
   "source": [
    "X_train = torch.reshape(X_train,(X_train.shape[0],1,-1))\n",
    "X_test =  torch.reshape(X_test,(X_test.shape[0],1,-1))\n",
    "X_valid =  torch.reshape(X_valid,(X_valid.shape[0],1,-1))"
   ]
  },
  {
   "cell_type": "code",
   "execution_count": 111,
   "id": "966746ba-33e5-4424-8346-37dd3c7bea01",
   "metadata": {},
   "outputs": [
    {
     "data": {
      "text/plain": [
       "(torch.Size([258, 1, 7]),\n",
       " torch.Size([258, 1]),\n",
       " torch.Size([29, 1, 7]),\n",
       " torch.Size([29, 1]))"
      ]
     },
     "execution_count": 111,
     "metadata": {},
     "output_type": "execute_result"
    }
   ],
   "source": [
    "X_train.shape , y_train.shape , X_test.shape, y_test.shape"
   ]
  },
  {
   "cell_type": "markdown",
   "id": "de6c5fde-56f8-48a3-ad70-2e28dbb96c4d",
   "metadata": {},
   "source": [
    "### Data loader"
   ]
  },
  {
   "cell_type": "code",
   "execution_count": 112,
   "id": "365d5788-cc34-4817-a2e7-bd0811710ee6",
   "metadata": {},
   "outputs": [],
   "source": [
    "from torch.utils.data import TensorDataset\n",
    "\n",
    "# Define dataset\n",
    "ds_train = TensorDataset(X_train, y_train)\n",
    "ds_test = TensorDataset(X_test, y_test)\n",
    "ds_valid = TensorDataset(X_valid, y_valid)"
   ]
  },
  {
   "cell_type": "code",
   "execution_count": 113,
   "id": "30d22c12-cb30-4a04-9280-85fa7018d82a",
   "metadata": {},
   "outputs": [],
   "source": [
    "BATCH_SIZE = 7  #keeping it binary so it fits GPU\n",
    "# #Train set loader\n",
    "train_iterator = torch.utils.data.DataLoader(dataset=ds_train, \n",
    "                                           batch_size=BATCH_SIZE, \n",
    "                                            shuffle=True)\n",
    "#Test set loader\n",
    "test_iterator = torch.utils.data.DataLoader(dataset=ds_test, \n",
    "                                          batch_size=BATCH_SIZE, \n",
    "                                          shuffle=True)\n",
    "\n",
    "valid_iterator = torch.utils.data.DataLoader(dataset=ds_valid, \n",
    "                                          batch_size=BATCH_SIZE, \n",
    "                                          shuffle=True)"
   ]
  },
  {
   "cell_type": "markdown",
   "id": "4b5b241f-00f7-4bf2-9c21-8852104cfc83",
   "metadata": {},
   "source": [
    "### Create model"
   ]
  },
  {
   "cell_type": "code",
   "execution_count": 64,
   "id": "49e276f0-ef26-49fe-982e-9846df90261c",
   "metadata": {},
   "outputs": [],
   "source": [
    "model_Tcn = TemporalConvNet(num_residual_layers=3,channel_config=channel_config,num_classes=1)\n",
    "model_Tcn = model_Tcn.float()\n",
    "models = [model_Tcn]"
   ]
  },
  {
   "cell_type": "code",
   "execution_count": 65,
   "id": "e9b02cf6-e8f4-4885-844c-fbe367ee456c",
   "metadata": {},
   "outputs": [],
   "source": [
    "for model in models:\n",
    "    model = model.to(device)"
   ]
  },
  {
   "cell_type": "markdown",
   "id": "cf3c0d2e-9240-4b30-8695-b8c86e02506c",
   "metadata": {},
   "source": [
    "### Create Optimizer"
   ]
  },
  {
   "cell_type": "code",
   "execution_count": 66,
   "id": "ed97a139-94a0-48b7-b415-ccf51a58b346",
   "metadata": {},
   "outputs": [],
   "source": [
    "import torch.optim as optim\n",
    "#0.01\n",
    "learning_rate = 1e-7\n",
    "\n",
    "optimizer = optim.Adam(model.parameters())\n",
    "\n",
    "criterion = torch.nn.MSELoss() #nn.NLLLoss()\n",
    "optimizer = torch.optim.Adam(model.parameters(), lr=learning_rate)"
   ]
  },
  {
   "cell_type": "markdown",
   "id": "5fe76e97-cd26-4824-8bb1-1b7ca11631fd",
   "metadata": {},
   "source": [
    "### Training Function"
   ]
  },
  {
   "cell_type": "code",
   "execution_count": 70,
   "id": "a2b7a551-3e07-4e10-9547-c0d499e5a9a6",
   "metadata": {},
   "outputs": [],
   "source": [
    "def train(model, iterator, optimizer, criterion):\n",
    "    total = 0\n",
    "    correct = 0\n",
    "    epoch_loss = 0\n",
    "    epoch_acc = 0\n",
    "   # loss_list = []\n",
    "    model.train()\n",
    "    \n",
    "    for batch, num_cases in iterator:\n",
    "        \n",
    "        #Move tensors to the configured device\n",
    "        batch = batch.to(device)\n",
    "        num_cases = num_cases.to(device) \n",
    "#         num_cases = num_cases[:,-1]\n",
    "#         num_cases =  torch.reshape(num_cases, (num_cases.shape[0], 1))\n",
    "        #Forward pass\n",
    "        #print(\"batch train:\",batch.shape)\n",
    "        outputs = model(batch.float())\n",
    "#         print(\"outputs:\",outputs.shape)\n",
    "#         print(\"num_cases :\",num_cases.shape)\n",
    "#         print(\"outputs :\",outputs)\n",
    "#         print(\"num_cases :\",num_cases)\n",
    "        loss = criterion(outputs, num_cases.float())\n",
    "        \n",
    "        # Backward and optimize\n",
    "        optimizer.zero_grad()\n",
    "        loss.backward()\n",
    "        optimizer.step()\n",
    "        #loss_list.append(loss.data)  \n",
    "         \n",
    "#         #check accuracy\n",
    "#         predictions = model(batch.float())\n",
    "#         _, predicted = torch.max(predictions.data, 1)  #returns max value, indices\n",
    "#          #keep track of total\n",
    "#         correct += (predicted == labels).sum().item()  #.item() give the raw number\n",
    "#         acc = 100 * (correct / total)\n",
    "                \n",
    "        epoch_loss += loss.item()\n",
    "#         epoch_acc = acc\n",
    "      \n",
    "    return epoch_loss / len(iterator)  #, epoch_acc, predicted"
   ]
  },
  {
   "cell_type": "code",
   "execution_count": 71,
   "id": "d816be15-ba87-40e5-8182-8983d08fb978",
   "metadata": {},
   "outputs": [],
   "source": [
    "def test(model,iterator, optimizer, criterion):\n",
    "    total = 0\n",
    "    correct = 0\n",
    "    epoch_loss = 0\n",
    "    epoch_acc = 0\n",
    "   # loss_list = []\n",
    "    for batch, num_cases in iterator:\n",
    "        batch = batch.to(device)\n",
    "        num_cases = num_cases.to(device)\n",
    "        #print(\"batch test:\",batch.shape)\n",
    "        with torch.no_grad():\n",
    "            y_test_pred = model(batch.float())\n",
    "            loss = criterion(y_test_pred, num_cases.float())\n",
    "            epoch_loss += loss\n",
    "            \n",
    "    return epoch_loss / len(iterator)  "
   ]
  },
  {
   "cell_type": "code",
   "execution_count": 77,
   "id": "e4afaa15-4100-4c52-80fb-c7ca85fbe37c",
   "metadata": {},
   "outputs": [],
   "source": [
    "from IPython.display import clear_output"
   ]
  },
  {
   "cell_type": "code",
   "execution_count": 78,
   "id": "66e0a334-0206-4e81-ac46-7a8b1c92fcfb",
   "metadata": {},
   "outputs": [],
   "source": [
    "N_EPOCHS = 5000\n",
    "name = f\"Epoch ={N_EPOCHS} LR = {learning_rate} Adam\""
   ]
  },
  {
   "cell_type": "code",
   "execution_count": 80,
   "id": "9509ba65-c59a-4318-886e-f7e0e565770a",
   "metadata": {},
   "outputs": [
    {
     "name": "stdout",
     "output_type": "stream",
     "text": [
      "Epoch 4951 train loss: 1.099078142159694 test loss: 11.809953689575195\n",
      "Epoch 4952 train loss: 1.1013113115284894 test loss: 45.68912124633789\n",
      "Epoch 4953 train loss: 1.101764650763692 test loss: 14.650690078735352\n",
      "Epoch 4954 train loss: 1.101865249711114 test loss: 12.206536293029785\n",
      "Epoch 4955 train loss: 1.1011831047567162 test loss: 12.267387390136719\n",
      "Epoch 4956 train loss: 1.0989806748725273 test loss: 11.415916442871094\n",
      "Epoch 4957 train loss: 1.09795688132982 test loss: 11.540812492370605\n",
      "Epoch 4958 train loss: 1.1025716034141746 test loss: 12.916511535644531\n",
      "Epoch 4959 train loss: 1.1005442754642383 test loss: 11.419063568115234\n",
      "Epoch 4960 train loss: 1.1021283526678343 test loss: 45.55609893798828\n",
      "Epoch 4961 train loss: 1.0990194476939537 test loss: 14.179316520690918\n",
      "Epoch 4962 train loss: 1.0979095794059135 test loss: 13.208670616149902\n",
      "Epoch 4963 train loss: 1.1059614887108673 test loss: 11.435333251953125\n",
      "Epoch 4964 train loss: 1.1023642187182967 test loss: 45.57771682739258\n",
      "Epoch 4965 train loss: 1.1005967339953862 test loss: 12.494772911071777\n",
      "Epoch 4966 train loss: 1.0991315366448582 test loss: 14.702423095703125\n",
      "Epoch 4967 train loss: 1.0999997234022296 test loss: 11.758816719055176\n",
      "Epoch 4968 train loss: 1.1022072345823855 test loss: 14.620535850524902\n",
      "Epoch 4969 train loss: 1.0979938321822398 test loss: 11.787654876708984\n",
      "Epoch 4970 train loss: 1.102397751163792 test loss: 12.243025779724121\n",
      "Epoch 4971 train loss: 1.104532791150583 test loss: 12.048747062683105\n",
      "Epoch 4972 train loss: 1.1050012667436857 test loss: 11.966570854187012\n",
      "Epoch 4973 train loss: 1.1019326963940181 test loss: 11.73535442352295\n",
      "Epoch 4974 train loss: 1.1009047442191355 test loss: 12.126042366027832\n",
      "Epoch 4975 train loss: 1.1033527637655671 test loss: 11.77291202545166\n",
      "Epoch 4976 train loss: 1.1011464257498045 test loss: 11.769906997680664\n",
      "Epoch 4977 train loss: 1.098811388015747 test loss: 13.723215103149414\n",
      "Epoch 4978 train loss: 1.1038561592230927 test loss: 11.766630172729492\n",
      "Epoch 4979 train loss: 1.1003491387173936 test loss: 11.3994722366333\n",
      "Epoch 4980 train loss: 1.0988069192783252 test loss: 13.218174934387207\n",
      "Epoch 4981 train loss: 1.101669711035651 test loss: 14.14258098602295\n",
      "Epoch 4982 train loss: 1.0994469056258331 test loss: 12.942988395690918\n",
      "Epoch 4983 train loss: 1.1003843690897968 test loss: 11.436652183532715\n",
      "Epoch 4984 train loss: 1.102560874578115 test loss: 11.47080135345459\n",
      "Epoch 4985 train loss: 1.1035891569949485 test loss: 11.384708404541016\n",
      "Epoch 4986 train loss: 1.0980097168200724 test loss: 13.197656631469727\n",
      "Epoch 4987 train loss: 1.1003023361837543 test loss: 45.67833709716797\n",
      "Epoch 4988 train loss: 1.1011172718292959 test loss: 45.557804107666016\n",
      "Epoch 4989 train loss: 1.1016885146901414 test loss: 14.929450035095215\n",
      "Epoch 4990 train loss: 1.1194466698814083 test loss: 12.239908218383789\n",
      "Epoch 4991 train loss: 1.102768651536993 test loss: 12.995340347290039\n",
      "Epoch 4992 train loss: 1.1038914294661701 test loss: 12.229351043701172\n",
      "Epoch 4993 train loss: 1.099631583368456 test loss: 11.452702522277832\n",
      "Epoch 4994 train loss: 1.105074194637505 test loss: 13.754765510559082\n",
      "Epoch 4995 train loss: 1.1054231468084696 test loss: 11.536998748779297\n",
      "Epoch 4996 train loss: 1.1042875679763589 test loss: 11.45313835144043\n",
      "Epoch 4997 train loss: 1.1021760677969135 test loss: 12.243304252624512\n",
      "Epoch 4998 train loss: 1.0997079143653046 test loss: 12.073328018188477\n",
      "Epoch 4999 train loss: 1.1040156467540845 test loss: 11.789392471313477\n"
     ]
    }
   ],
   "source": [
    "\n",
    "best_valid_loss = float('inf')\n",
    "loss_train = []\n",
    "loss_test= []\n",
    "for i, model in enumerate(models):\n",
    "    print(f\"Training {type(model).__name__}\")\n",
    "    \n",
    "    #start_time = time.time()\n",
    "\n",
    "    for epoch in range(N_EPOCHS):\n",
    "        #start_time = time.time()\n",
    "        loss  = train(model, train_iterator, optimizer, criterion) \n",
    "        test_loss = test(model, test_iterator, optimizer, criterion)\n",
    "        print(f'Epoch {epoch} train loss: {loss} test loss: {test_loss}') \n",
    "        loss_train.append(loss)\n",
    "        loss_test.append(test_loss)\n",
    "        \n",
    "        if epoch % 50 == 0:\n",
    "            clear_output(wait=True)\n",
    "            \n",
    "        if test_loss  < best_valid_loss:\n",
    "                best_valid_loss = test_loss\n",
    "                torch.save(model.state_dict(), f'Models/{name}.pt')"
   ]
  },
  {
   "cell_type": "code",
   "execution_count": null,
   "id": "ee71c1b6-300c-46b8-96f2-911ffdbbc47a",
   "metadata": {},
   "outputs": [],
   "source": []
  },
  {
   "cell_type": "code",
   "execution_count": 81,
   "id": "72a1cc4c-8aa1-4d0e-8519-bee36c293b40",
   "metadata": {},
   "outputs": [
    {
     "data": {
      "text/plain": [
       "<matplotlib.legend.Legend at 0x7fdc0c652a20>"
      ]
     },
     "execution_count": 81,
     "metadata": {},
     "output_type": "execute_result"
    },
    {
     "data": {
      "image/png": "[encoded data removed]",
      "text/plain": [
       "<matplotlib.figure.Figure at 0x7fdc0c7460b8>"
      ]
     },
     "metadata": {
      "needs_background": "light"
     },
     "output_type": "display_data"
    }
   ],
   "source": [
    "plt.plot(loss_train)\n",
    "plt.plot(loss_test)\n",
    "plt.legend(['loss_train','loss_test'])"
   ]
  },
  {
   "cell_type": "markdown",
   "id": "4b36b73e-bad8-43fd-b70f-66af1b62b0c5",
   "metadata": {},
   "source": [
    "## Validation"
   ]
  },
  {
   "cell_type": "code",
   "execution_count": 142,
   "id": "118f2c99-361d-4084-ab4c-f82afc34c2eb",
   "metadata": {},
   "outputs": [],
   "source": [
    "yhat = []\n",
    "ytrue = []\n",
    "\n",
    "test_loss = 0\n",
    "for i, model in enumerate(models):\n",
    "    with torch.no_grad(): \n",
    "        for batch_test, num_cases_test in valid_iterator:\n",
    "            batch_test = batch_test.to(device)\n",
    "            num_cases = num_cases_test.to(device)\n",
    "            outputs = model(batch_test)\n",
    "            \n",
    "#             outputs = outputs    \n",
    "#             num_cases = num_cases \n",
    "#             outputs = scaler.inverse_transform(outputs)\n",
    "#             num_cases = scaler.inverse_transform(num_cases)\n",
    "                            \n",
    "            prediction = torch.flatten(outputs)\n",
    "            real_valid = torch.flatten(num_cases_test)\n",
    "                            \n",
    "            prediction = scaler.inverse_transform(prediction.cpu())\n",
    "            real_valid = scaler.inverse_transform(real_valid.cpu())\n",
    "            \n",
    "            yhat.append(prediction.tolist())\n",
    "            ytrue.append(real_valid.tolist())\n",
    "#             print(prediction)\n",
    "#             print(real_valid)\n",
    "            "
   ]
  },
  {
   "cell_type": "code",
   "execution_count": null,
   "id": "25078c02-a8be-4f1e-a706-2ec7cd3c8a27",
   "metadata": {},
   "outputs": [],
   "source": []
  },
  {
   "cell_type": "code",
   "execution_count": 143,
   "id": "38ebdf50-f85d-4aac-844d-7c073681c1bf",
   "metadata": {},
   "outputs": [],
   "source": [
    "from itertools import chain"
   ]
  },
  {
   "cell_type": "code",
   "execution_count": 147,
   "id": "7b7c493c-5a54-478c-b51c-3e23a3af062d",
   "metadata": {},
   "outputs": [
    {
     "ename": "TypeError",
     "evalue": "'float' object is not iterable",
     "output_type": "error",
     "traceback": [
      "\u001b[0;31m---------------------------------------------------------------------------\u001b[0m",
      "\u001b[0;31mTypeError\u001b[0m                                 Traceback (most recent call last)",
      "\u001b[0;32m<ipython-input-147-0f14d072b547>\u001b[0m in \u001b[0;36m<module>\u001b[0;34m\u001b[0m\n\u001b[0;32m----> 1\u001b[0;31m \u001b[0myhat\u001b[0m \u001b[0;34m=\u001b[0m \u001b[0mlist\u001b[0m\u001b[0;34m(\u001b[0m\u001b[0mchain\u001b[0m\u001b[0;34m.\u001b[0m\u001b[0mfrom_iterable\u001b[0m\u001b[0;34m(\u001b[0m\u001b[0myhat\u001b[0m\u001b[0;34m)\u001b[0m\u001b[0;34m)\u001b[0m\u001b[0;34m\u001b[0m\u001b[0;34m\u001b[0m\u001b[0m\n\u001b[0m\u001b[1;32m      2\u001b[0m \u001b[0mytrue\u001b[0m \u001b[0;34m=\u001b[0m \u001b[0mlist\u001b[0m\u001b[0;34m(\u001b[0m\u001b[0mchain\u001b[0m\u001b[0;34m.\u001b[0m\u001b[0mfrom_iterable\u001b[0m\u001b[0;34m(\u001b[0m\u001b[0mytrue\u001b[0m\u001b[0;34m)\u001b[0m\u001b[0;34m)\u001b[0m\u001b[0;34m\u001b[0m\u001b[0;34m\u001b[0m\u001b[0m\n",
      "\u001b[0;31mTypeError\u001b[0m: 'float' object is not iterable"
     ]
    }
   ],
   "source": [
    "yhat = list(chain.from_iterable(yhat))\n",
    "ytrue = list(chain.from_iterable(ytrue))"
   ]
  },
  {
   "cell_type": "code",
   "execution_count": 146,
   "id": "aaa1f582-7157-4bc8-a234-03cc3fcfeeaa",
   "metadata": {},
   "outputs": [],
   "source": []
  },
  {
   "cell_type": "code",
   "execution_count": 149,
   "id": "952f06cd-9c36-4b11-b12b-9c3168a79746",
   "metadata": {},
   "outputs": [
    {
     "data": {
      "text/plain": [
       "<matplotlib.legend.Legend at 0x7fdcfce10d68>"
      ]
     },
     "execution_count": 149,
     "metadata": {},
     "output_type": "execute_result"
    },
    {
     "data": {
      "image/png": "[encoded data removed]",
      "text/plain": [
       "<matplotlib.figure.Figure at 0x7fdcfcbd8b38>"
      ]
     },
     "metadata": {
      "needs_background": "light"
     },
     "output_type": "display_data"
    }
   ],
   "source": [
    "plt.plot(yhat)\n",
    "plt.plot(ytrue)\n",
    "plt.legend(['yhat','ytrue'])"
   ]
  },
  {
   "cell_type": "code",
   "execution_count": null,
   "id": "2dc939c0-2540-4c7d-8534-6568449693df",
   "metadata": {},
   "outputs": [],
   "source": []
  }
 ],
 "metadata": {
  "kernelspec": {
   "display_name": "Python 3",
   "language": "python",
   "name": "python3"
  },
  "language_info": {
   "codemirror_mode": {
    "name": "ipython",
    "version": 3
   },
   "file_extension": ".py",
   "mimetype": "text/x-python",
   "name": "python",
   "nbconvert_exporter": "python",
   "pygments_lexer": "ipython3",
   "version": "3.6.9"
  }
 },
 "nbformat": 4,
 "nbformat_minor": 5
}
