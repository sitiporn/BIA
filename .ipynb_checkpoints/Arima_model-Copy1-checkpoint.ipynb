{
 "cells": [
  {
   "cell_type": "code",
   "execution_count": 1,
   "id": "careful-hydrogen",
   "metadata": {},
   "outputs": [],
   "source": [
    "import numpy as np\n",
    "import pandas as pd\n",
    "import torch\n",
    "import torchvision"
   ]
  },
  {
   "cell_type": "code",
   "execution_count": 2,
   "id": "electric-arthur",
   "metadata": {},
   "outputs": [],
   "source": [
    "df = pd.read_csv('Cleaned_data.csv')"
   ]
  },
  {
   "cell_type": "code",
   "execution_count": 3,
   "id": "becoming-miller",
   "metadata": {},
   "outputs": [
    {
     "data": {
      "text/html": [
       "<div>\n",
       "<style scoped>\n",
       "    .dataframe tbody tr th:only-of-type {\n",
       "        vertical-align: middle;\n",
       "    }\n",
       "\n",
       "    .dataframe tbody tr th {\n",
       "        vertical-align: top;\n",
       "    }\n",
       "\n",
       "    .dataframe thead th {\n",
       "        text-align: right;\n",
       "    }\n",
       "</style>\n",
       "<table border=\"1\" class=\"dataframe\">\n",
       "  <thead>\n",
       "    <tr style=\"text-align: right;\">\n",
       "      <th></th>\n",
       "      <th>date</th>\n",
       "      <th>state</th>\n",
       "      <th>fips</th>\n",
       "      <th>cases</th>\n",
       "      <th>daily_cases</th>\n",
       "      <th>deaths</th>\n",
       "      <th>daily_deaths</th>\n",
       "      <th>total_vaccinations</th>\n",
       "      <th>total_distributed</th>\n",
       "      <th>daily_distributed</th>\n",
       "      <th>total_people_vaccinated</th>\n",
       "      <th>daily_people_vaccinated</th>\n",
       "      <th>total_people_fully_vaccinated</th>\n",
       "      <th>daily_people_fully_vaccinated</th>\n",
       "      <th>daily_vaccinations</th>\n",
       "      <th>mobility_composite</th>\n",
       "    </tr>\n",
       "  </thead>\n",
       "  <tbody>\n",
       "    <tr>\n",
       "      <th>0</th>\n",
       "      <td>3/13/2021</td>\n",
       "      <td>Alabama</td>\n",
       "      <td>1</td>\n",
       "      <td>503305</td>\n",
       "      <td>594</td>\n",
       "      <td>10327</td>\n",
       "      <td>28</td>\n",
       "      <td>1288242</td>\n",
       "      <td>1918560.0</td>\n",
       "      <td>80160.0</td>\n",
       "      <td>841394.0</td>\n",
       "      <td>24976.0</td>\n",
       "      <td>492755.0</td>\n",
       "      <td>20430.0</td>\n",
       "      <td>26,935</td>\n",
       "      <td>-1.013041</td>\n",
       "    </tr>\n",
       "    <tr>\n",
       "      <th>1</th>\n",
       "      <td>3/12/2021</td>\n",
       "      <td>Alabama</td>\n",
       "      <td>1</td>\n",
       "      <td>502711</td>\n",
       "      <td>448</td>\n",
       "      <td>10299</td>\n",
       "      <td>25</td>\n",
       "      <td>1249205</td>\n",
       "      <td>1838400.0</td>\n",
       "      <td>22170.0</td>\n",
       "      <td>816418.0</td>\n",
       "      <td>25554.0</td>\n",
       "      <td>472325.0</td>\n",
       "      <td>19579.0</td>\n",
       "      <td>26,375</td>\n",
       "      <td>-1.013041</td>\n",
       "    </tr>\n",
       "    <tr>\n",
       "      <th>2</th>\n",
       "      <td>3/11/2021</td>\n",
       "      <td>Alabama</td>\n",
       "      <td>1</td>\n",
       "      <td>502263</td>\n",
       "      <td>865</td>\n",
       "      <td>10274</td>\n",
       "      <td>52</td>\n",
       "      <td>1209802</td>\n",
       "      <td>1816230.0</td>\n",
       "      <td>40570.0</td>\n",
       "      <td>790864.0</td>\n",
       "      <td>22362.0</td>\n",
       "      <td>452746.0</td>\n",
       "      <td>17728.0</td>\n",
       "      <td>25,376</td>\n",
       "      <td>-1.013041</td>\n",
       "    </tr>\n",
       "    <tr>\n",
       "      <th>3</th>\n",
       "      <td>3/10/2021</td>\n",
       "      <td>Alabama</td>\n",
       "      <td>1</td>\n",
       "      <td>501398</td>\n",
       "      <td>782</td>\n",
       "      <td>10222</td>\n",
       "      <td>36</td>\n",
       "      <td>1173820</td>\n",
       "      <td>1775660.0</td>\n",
       "      <td>86610.0</td>\n",
       "      <td>768502.0</td>\n",
       "      <td>21234.0</td>\n",
       "      <td>435018.0</td>\n",
       "      <td>14935.0</td>\n",
       "      <td>24,827</td>\n",
       "      <td>-1.013041</td>\n",
       "    </tr>\n",
       "    <tr>\n",
       "      <th>4</th>\n",
       "      <td>3/9/2021</td>\n",
       "      <td>Alabama</td>\n",
       "      <td>1</td>\n",
       "      <td>500616</td>\n",
       "      <td>524</td>\n",
       "      <td>10186</td>\n",
       "      <td>38</td>\n",
       "      <td>1140984</td>\n",
       "      <td>1689050.0</td>\n",
       "      <td>60700.0</td>\n",
       "      <td>747268.0</td>\n",
       "      <td>14301.0</td>\n",
       "      <td>420083.0</td>\n",
       "      <td>10146.0</td>\n",
       "      <td>24,118</td>\n",
       "      <td>-1.013041</td>\n",
       "    </tr>\n",
       "  </tbody>\n",
       "</table>\n",
       "</div>"
      ],
      "text/plain": [
       "        date    state  fips   cases  daily_cases  deaths  daily_deaths  \\\n",
       "0  3/13/2021  Alabama     1  503305          594   10327            28   \n",
       "1  3/12/2021  Alabama     1  502711          448   10299            25   \n",
       "2  3/11/2021  Alabama     1  502263          865   10274            52   \n",
       "3  3/10/2021  Alabama     1  501398          782   10222            36   \n",
       "4   3/9/2021  Alabama     1  500616          524   10186            38   \n",
       "\n",
       "  total_vaccinations  total_distributed  daily_distributed  \\\n",
       "0            1288242          1918560.0            80160.0   \n",
       "1            1249205          1838400.0            22170.0   \n",
       "2            1209802          1816230.0            40570.0   \n",
       "3            1173820          1775660.0            86610.0   \n",
       "4            1140984          1689050.0            60700.0   \n",
       "\n",
       "   total_people_vaccinated  daily_people_vaccinated  \\\n",
       "0                 841394.0                  24976.0   \n",
       "1                 816418.0                  25554.0   \n",
       "2                 790864.0                  22362.0   \n",
       "3                 768502.0                  21234.0   \n",
       "4                 747268.0                  14301.0   \n",
       "\n",
       "   total_people_fully_vaccinated  daily_people_fully_vaccinated  \\\n",
       "0                       492755.0                        20430.0   \n",
       "1                       472325.0                        19579.0   \n",
       "2                       452746.0                        17728.0   \n",
       "3                       435018.0                        14935.0   \n",
       "4                       420083.0                        10146.0   \n",
       "\n",
       "  daily_vaccinations  mobility_composite  \n",
       "0             26,935           -1.013041  \n",
       "1             26,375           -1.013041  \n",
       "2             25,376           -1.013041  \n",
       "3             24,827           -1.013041  \n",
       "4             24,118           -1.013041  "
      ]
     },
     "execution_count": 3,
     "metadata": {},
     "output_type": "execute_result"
    }
   ],
   "source": [
    "df.head()"
   ]
  },
  {
   "cell_type": "code",
   "execution_count": 4,
   "id": "distributed-haven",
   "metadata": {},
   "outputs": [
    {
     "name": "stdout",
     "output_type": "stream",
     "text": [
      "<class 'pandas.core.frame.DataFrame'>\n",
      "RangeIndex: 20618 entries, 0 to 20617\n",
      "Data columns (total 16 columns):\n",
      " #   Column                         Non-Null Count  Dtype  \n",
      "---  ------                         --------------  -----  \n",
      " 0   date                           20618 non-null  object \n",
      " 1   state                          20618 non-null  object \n",
      " 2   fips                           20618 non-null  int64  \n",
      " 3   cases                          20618 non-null  int64  \n",
      " 4   daily_cases                    20618 non-null  int64  \n",
      " 5   deaths                         20618 non-null  int64  \n",
      " 6   daily_deaths                   20618 non-null  int64  \n",
      " 7   total_vaccinations             3801 non-null   object \n",
      " 8   total_distributed              3801 non-null   float64\n",
      " 9   daily_distributed              3801 non-null   float64\n",
      " 10  total_people_vaccinated        3801 non-null   float64\n",
      " 11  daily_people_vaccinated        3801 non-null   float64\n",
      " 12  total_people_fully_vaccinated  3801 non-null   float64\n",
      " 13  daily_people_fully_vaccinated  3801 non-null   float64\n",
      " 14  daily_vaccinations             3779 non-null   object \n",
      " 15  mobility_composite             19353 non-null  float64\n",
      "dtypes: float64(7), int64(5), object(4)\n",
      "memory usage: 2.5+ MB\n"
     ]
    }
   ],
   "source": [
    "df.info()"
   ]
  },
  {
   "cell_type": "code",
   "execution_count": 5,
   "id": "turned-mediterranean",
   "metadata": {},
   "outputs": [],
   "source": [
    "df = df.drop(['cases','deaths','total_vaccinations','total_distributed','total_people_vaccinated','total_people_fully_vaccinated'], axis=1)"
   ]
  },
  {
   "cell_type": "code",
   "execution_count": 6,
   "id": "biblical-hypothesis",
   "metadata": {},
   "outputs": [
    {
     "data": {
      "text/html": [
       "<div>\n",
       "<style scoped>\n",
       "    .dataframe tbody tr th:only-of-type {\n",
       "        vertical-align: middle;\n",
       "    }\n",
       "\n",
       "    .dataframe tbody tr th {\n",
       "        vertical-align: top;\n",
       "    }\n",
       "\n",
       "    .dataframe thead th {\n",
       "        text-align: right;\n",
       "    }\n",
       "</style>\n",
       "<table border=\"1\" class=\"dataframe\">\n",
       "  <thead>\n",
       "    <tr style=\"text-align: right;\">\n",
       "      <th></th>\n",
       "      <th>date</th>\n",
       "      <th>state</th>\n",
       "      <th>fips</th>\n",
       "      <th>daily_cases</th>\n",
       "      <th>daily_deaths</th>\n",
       "      <th>daily_distributed</th>\n",
       "      <th>daily_people_vaccinated</th>\n",
       "      <th>daily_people_fully_vaccinated</th>\n",
       "      <th>daily_vaccinations</th>\n",
       "      <th>mobility_composite</th>\n",
       "    </tr>\n",
       "  </thead>\n",
       "  <tbody>\n",
       "    <tr>\n",
       "      <th>0</th>\n",
       "      <td>3/13/2021</td>\n",
       "      <td>Alabama</td>\n",
       "      <td>1</td>\n",
       "      <td>594</td>\n",
       "      <td>28</td>\n",
       "      <td>80160.0</td>\n",
       "      <td>24976.0</td>\n",
       "      <td>20430.0</td>\n",
       "      <td>26,935</td>\n",
       "      <td>-1.013041</td>\n",
       "    </tr>\n",
       "    <tr>\n",
       "      <th>1</th>\n",
       "      <td>3/12/2021</td>\n",
       "      <td>Alabama</td>\n",
       "      <td>1</td>\n",
       "      <td>448</td>\n",
       "      <td>25</td>\n",
       "      <td>22170.0</td>\n",
       "      <td>25554.0</td>\n",
       "      <td>19579.0</td>\n",
       "      <td>26,375</td>\n",
       "      <td>-1.013041</td>\n",
       "    </tr>\n",
       "    <tr>\n",
       "      <th>2</th>\n",
       "      <td>3/11/2021</td>\n",
       "      <td>Alabama</td>\n",
       "      <td>1</td>\n",
       "      <td>865</td>\n",
       "      <td>52</td>\n",
       "      <td>40570.0</td>\n",
       "      <td>22362.0</td>\n",
       "      <td>17728.0</td>\n",
       "      <td>25,376</td>\n",
       "      <td>-1.013041</td>\n",
       "    </tr>\n",
       "    <tr>\n",
       "      <th>3</th>\n",
       "      <td>3/10/2021</td>\n",
       "      <td>Alabama</td>\n",
       "      <td>1</td>\n",
       "      <td>782</td>\n",
       "      <td>36</td>\n",
       "      <td>86610.0</td>\n",
       "      <td>21234.0</td>\n",
       "      <td>14935.0</td>\n",
       "      <td>24,827</td>\n",
       "      <td>-1.013041</td>\n",
       "    </tr>\n",
       "    <tr>\n",
       "      <th>4</th>\n",
       "      <td>3/9/2021</td>\n",
       "      <td>Alabama</td>\n",
       "      <td>1</td>\n",
       "      <td>524</td>\n",
       "      <td>38</td>\n",
       "      <td>60700.0</td>\n",
       "      <td>14301.0</td>\n",
       "      <td>10146.0</td>\n",
       "      <td>24,118</td>\n",
       "      <td>-1.013041</td>\n",
       "    </tr>\n",
       "  </tbody>\n",
       "</table>\n",
       "</div>"
      ],
      "text/plain": [
       "        date    state  fips  daily_cases  daily_deaths  daily_distributed  \\\n",
       "0  3/13/2021  Alabama     1          594            28            80160.0   \n",
       "1  3/12/2021  Alabama     1          448            25            22170.0   \n",
       "2  3/11/2021  Alabama     1          865            52            40570.0   \n",
       "3  3/10/2021  Alabama     1          782            36            86610.0   \n",
       "4   3/9/2021  Alabama     1          524            38            60700.0   \n",
       "\n",
       "   daily_people_vaccinated  daily_people_fully_vaccinated daily_vaccinations  \\\n",
       "0                  24976.0                        20430.0             26,935   \n",
       "1                  25554.0                        19579.0             26,375   \n",
       "2                  22362.0                        17728.0             25,376   \n",
       "3                  21234.0                        14935.0             24,827   \n",
       "4                  14301.0                        10146.0             24,118   \n",
       "\n",
       "   mobility_composite  \n",
       "0           -1.013041  \n",
       "1           -1.013041  \n",
       "2           -1.013041  \n",
       "3           -1.013041  \n",
       "4           -1.013041  "
      ]
     },
     "execution_count": 6,
     "metadata": {},
     "output_type": "execute_result"
    }
   ],
   "source": [
    "df.head()"
   ]
  },
  {
   "cell_type": "code",
   "execution_count": null,
   "id": "aggregate-latitude",
   "metadata": {},
   "outputs": [],
   "source": []
  },
  {
   "cell_type": "code",
   "execution_count": 7,
   "id": "complimentary-directive",
   "metadata": {},
   "outputs": [
    {
     "name": "stdout",
     "output_type": "stream",
     "text": [
      "<class 'pandas.core.frame.DataFrame'>\n",
      "RangeIndex: 20618 entries, 0 to 20617\n",
      "Data columns (total 10 columns):\n",
      " #   Column                         Non-Null Count  Dtype  \n",
      "---  ------                         --------------  -----  \n",
      " 0   date                           20618 non-null  object \n",
      " 1   state                          20618 non-null  object \n",
      " 2   fips                           20618 non-null  int64  \n",
      " 3   daily_cases                    20618 non-null  int64  \n",
      " 4   daily_deaths                   20618 non-null  int64  \n",
      " 5   daily_distributed              3801 non-null   float64\n",
      " 6   daily_people_vaccinated        3801 non-null   float64\n",
      " 7   daily_people_fully_vaccinated  3801 non-null   float64\n",
      " 8   daily_vaccinations             3779 non-null   object \n",
      " 9   mobility_composite             19353 non-null  float64\n",
      "dtypes: float64(4), int64(3), object(3)\n",
      "memory usage: 1.6+ MB\n"
     ]
    }
   ],
   "source": [
    "df.info()"
   ]
  },
  {
   "cell_type": "code",
   "execution_count": null,
   "id": "appropriate-collins",
   "metadata": {},
   "outputs": [],
   "source": []
  },
  {
   "cell_type": "code",
   "execution_count": 8,
   "id": "peripheral-celebration",
   "metadata": {},
   "outputs": [
    {
     "data": {
      "text/html": [
       "<div>\n",
       "<style scoped>\n",
       "    .dataframe tbody tr th:only-of-type {\n",
       "        vertical-align: middle;\n",
       "    }\n",
       "\n",
       "    .dataframe tbody tr th {\n",
       "        vertical-align: top;\n",
       "    }\n",
       "\n",
       "    .dataframe thead th {\n",
       "        text-align: right;\n",
       "    }\n",
       "</style>\n",
       "<table border=\"1\" class=\"dataframe\">\n",
       "  <thead>\n",
       "    <tr style=\"text-align: right;\">\n",
       "      <th></th>\n",
       "      <th>date</th>\n",
       "      <th>state</th>\n",
       "      <th>fips</th>\n",
       "      <th>daily_cases</th>\n",
       "      <th>daily_deaths</th>\n",
       "      <th>daily_distributed</th>\n",
       "      <th>daily_people_vaccinated</th>\n",
       "      <th>daily_people_fully_vaccinated</th>\n",
       "      <th>daily_vaccinations</th>\n",
       "      <th>mobility_composite</th>\n",
       "    </tr>\n",
       "  </thead>\n",
       "  <tbody>\n",
       "    <tr>\n",
       "      <th>0</th>\n",
       "      <td>3/13/2021</td>\n",
       "      <td>Alabama</td>\n",
       "      <td>1</td>\n",
       "      <td>594</td>\n",
       "      <td>28</td>\n",
       "      <td>80160.0</td>\n",
       "      <td>24976.0</td>\n",
       "      <td>20430.0</td>\n",
       "      <td>26,935</td>\n",
       "      <td>-1.013041</td>\n",
       "    </tr>\n",
       "    <tr>\n",
       "      <th>1</th>\n",
       "      <td>3/12/2021</td>\n",
       "      <td>Alabama</td>\n",
       "      <td>1</td>\n",
       "      <td>448</td>\n",
       "      <td>25</td>\n",
       "      <td>22170.0</td>\n",
       "      <td>25554.0</td>\n",
       "      <td>19579.0</td>\n",
       "      <td>26,375</td>\n",
       "      <td>-1.013041</td>\n",
       "    </tr>\n",
       "    <tr>\n",
       "      <th>2</th>\n",
       "      <td>3/11/2021</td>\n",
       "      <td>Alabama</td>\n",
       "      <td>1</td>\n",
       "      <td>865</td>\n",
       "      <td>52</td>\n",
       "      <td>40570.0</td>\n",
       "      <td>22362.0</td>\n",
       "      <td>17728.0</td>\n",
       "      <td>25,376</td>\n",
       "      <td>-1.013041</td>\n",
       "    </tr>\n",
       "    <tr>\n",
       "      <th>3</th>\n",
       "      <td>3/10/2021</td>\n",
       "      <td>Alabama</td>\n",
       "      <td>1</td>\n",
       "      <td>782</td>\n",
       "      <td>36</td>\n",
       "      <td>86610.0</td>\n",
       "      <td>21234.0</td>\n",
       "      <td>14935.0</td>\n",
       "      <td>24,827</td>\n",
       "      <td>-1.013041</td>\n",
       "    </tr>\n",
       "    <tr>\n",
       "      <th>4</th>\n",
       "      <td>3/9/2021</td>\n",
       "      <td>Alabama</td>\n",
       "      <td>1</td>\n",
       "      <td>524</td>\n",
       "      <td>38</td>\n",
       "      <td>60700.0</td>\n",
       "      <td>14301.0</td>\n",
       "      <td>10146.0</td>\n",
       "      <td>24,118</td>\n",
       "      <td>-1.013041</td>\n",
       "    </tr>\n",
       "  </tbody>\n",
       "</table>\n",
       "</div>"
      ],
      "text/plain": [
       "        date    state  fips  daily_cases  daily_deaths  daily_distributed  \\\n",
       "0  3/13/2021  Alabama     1          594            28            80160.0   \n",
       "1  3/12/2021  Alabama     1          448            25            22170.0   \n",
       "2  3/11/2021  Alabama     1          865            52            40570.0   \n",
       "3  3/10/2021  Alabama     1          782            36            86610.0   \n",
       "4   3/9/2021  Alabama     1          524            38            60700.0   \n",
       "\n",
       "   daily_people_vaccinated  daily_people_fully_vaccinated daily_vaccinations  \\\n",
       "0                  24976.0                        20430.0             26,935   \n",
       "1                  25554.0                        19579.0             26,375   \n",
       "2                  22362.0                        17728.0             25,376   \n",
       "3                  21234.0                        14935.0             24,827   \n",
       "4                  14301.0                        10146.0             24,118   \n",
       "\n",
       "   mobility_composite  \n",
       "0           -1.013041  \n",
       "1           -1.013041  \n",
       "2           -1.013041  \n",
       "3           -1.013041  \n",
       "4           -1.013041  "
      ]
     },
     "execution_count": 8,
     "metadata": {},
     "output_type": "execute_result"
    }
   ],
   "source": [
    "df.head()"
   ]
  },
  {
   "cell_type": "code",
   "execution_count": 9,
   "id": "brave-basket",
   "metadata": {},
   "outputs": [],
   "source": [
    "df_gb = df.groupby('fips')"
   ]
  },
  {
   "cell_type": "code",
   "execution_count": 10,
   "id": "handled-picnic",
   "metadata": {},
   "outputs": [],
   "source": [
    "df_gb_key = df.groupby('fips').groups"
   ]
  },
  {
   "cell_type": "code",
   "execution_count": 11,
   "id": "posted-reputation",
   "metadata": {},
   "outputs": [
    {
     "name": "stdout",
     "output_type": "stream",
     "text": [
      "dict_keys([1, 2, 4, 5, 6, 8, 9, 10, 11, 12, 13, 15, 16, 17, 18, 19, 20, 21, 22, 23, 24, 25, 26, 27, 28, 29, 30, 31, 32, 33, 34, 35, 36, 37, 38, 39, 40, 41, 42, 44, 45, 46, 47, 48, 49, 50, 51, 53, 54, 55, 56, 66, 69, 72, 78])\n"
     ]
    }
   ],
   "source": [
    "print(df_gb_key.keys())"
   ]
  },
  {
   "cell_type": "code",
   "execution_count": 12,
   "id": "stretch-kitty",
   "metadata": {},
   "outputs": [
    {
     "name": "stdout",
     "output_type": "stream",
     "text": [
      "366\n"
     ]
    }
   ],
   "source": [
    "print(len(df_gb_key[1]))"
   ]
  },
  {
   "cell_type": "code",
   "execution_count": 13,
   "id": "superb-poland",
   "metadata": {},
   "outputs": [],
   "source": [
    "device = torch.device(\"cuda\" if torch.cuda.is_available() else \"cpu\")"
   ]
  },
  {
   "cell_type": "code",
   "execution_count": null,
   "id": "defined-effort",
   "metadata": {},
   "outputs": [],
   "source": []
  },
  {
   "cell_type": "code",
   "execution_count": 14,
   "id": "animated-analysis",
   "metadata": {},
   "outputs": [],
   "source": [
    "# sum =0 \n",
    "# for key in df_gb_key.keys():\n",
    "#     sum += len(df_gb_key[key])\n",
    "#     if len(df_gb_key[key]) < 55:\n",
    "#         df = df.drop(df_gb_key[key])"
   ]
  },
  {
   "cell_type": "code",
   "execution_count": 15,
   "id": "worst-firewall",
   "metadata": {},
   "outputs": [],
   "source": [
    "state_num = df.groupby('fips').groups"
   ]
  },
  {
   "cell_type": "code",
   "execution_count": null,
   "id": "australian-revolution",
   "metadata": {},
   "outputs": [],
   "source": []
  },
  {
   "cell_type": "code",
   "execution_count": 16,
   "id": "close-integrity",
   "metadata": {},
   "outputs": [],
   "source": [
    "df['date'] = pd.to_datetime(df['date']) "
   ]
  },
  {
   "cell_type": "code",
   "execution_count": 17,
   "id": "labeled-bookmark",
   "metadata": {},
   "outputs": [
    {
     "data": {
      "text/html": [
       "<div>\n",
       "<style scoped>\n",
       "    .dataframe tbody tr th:only-of-type {\n",
       "        vertical-align: middle;\n",
       "    }\n",
       "\n",
       "    .dataframe tbody tr th {\n",
       "        vertical-align: top;\n",
       "    }\n",
       "\n",
       "    .dataframe thead th {\n",
       "        text-align: right;\n",
       "    }\n",
       "</style>\n",
       "<table border=\"1\" class=\"dataframe\">\n",
       "  <thead>\n",
       "    <tr style=\"text-align: right;\">\n",
       "      <th></th>\n",
       "      <th>date</th>\n",
       "      <th>state</th>\n",
       "      <th>fips</th>\n",
       "      <th>daily_cases</th>\n",
       "      <th>daily_deaths</th>\n",
       "      <th>daily_distributed</th>\n",
       "      <th>daily_people_vaccinated</th>\n",
       "      <th>daily_people_fully_vaccinated</th>\n",
       "      <th>daily_vaccinations</th>\n",
       "      <th>mobility_composite</th>\n",
       "    </tr>\n",
       "  </thead>\n",
       "  <tbody>\n",
       "    <tr>\n",
       "      <th>0</th>\n",
       "      <td>2021-03-13</td>\n",
       "      <td>Alabama</td>\n",
       "      <td>1</td>\n",
       "      <td>594</td>\n",
       "      <td>28</td>\n",
       "      <td>80160.0</td>\n",
       "      <td>24976.0</td>\n",
       "      <td>20430.0</td>\n",
       "      <td>26,935</td>\n",
       "      <td>-1.013041</td>\n",
       "    </tr>\n",
       "    <tr>\n",
       "      <th>1</th>\n",
       "      <td>2021-03-12</td>\n",
       "      <td>Alabama</td>\n",
       "      <td>1</td>\n",
       "      <td>448</td>\n",
       "      <td>25</td>\n",
       "      <td>22170.0</td>\n",
       "      <td>25554.0</td>\n",
       "      <td>19579.0</td>\n",
       "      <td>26,375</td>\n",
       "      <td>-1.013041</td>\n",
       "    </tr>\n",
       "    <tr>\n",
       "      <th>2</th>\n",
       "      <td>2021-03-11</td>\n",
       "      <td>Alabama</td>\n",
       "      <td>1</td>\n",
       "      <td>865</td>\n",
       "      <td>52</td>\n",
       "      <td>40570.0</td>\n",
       "      <td>22362.0</td>\n",
       "      <td>17728.0</td>\n",
       "      <td>25,376</td>\n",
       "      <td>-1.013041</td>\n",
       "    </tr>\n",
       "    <tr>\n",
       "      <th>3</th>\n",
       "      <td>2021-03-10</td>\n",
       "      <td>Alabama</td>\n",
       "      <td>1</td>\n",
       "      <td>782</td>\n",
       "      <td>36</td>\n",
       "      <td>86610.0</td>\n",
       "      <td>21234.0</td>\n",
       "      <td>14935.0</td>\n",
       "      <td>24,827</td>\n",
       "      <td>-1.013041</td>\n",
       "    </tr>\n",
       "    <tr>\n",
       "      <th>4</th>\n",
       "      <td>2021-03-09</td>\n",
       "      <td>Alabama</td>\n",
       "      <td>1</td>\n",
       "      <td>524</td>\n",
       "      <td>38</td>\n",
       "      <td>60700.0</td>\n",
       "      <td>14301.0</td>\n",
       "      <td>10146.0</td>\n",
       "      <td>24,118</td>\n",
       "      <td>-1.013041</td>\n",
       "    </tr>\n",
       "  </tbody>\n",
       "</table>\n",
       "</div>"
      ],
      "text/plain": [
       "        date    state  fips  daily_cases  daily_deaths  daily_distributed  \\\n",
       "0 2021-03-13  Alabama     1          594            28            80160.0   \n",
       "1 2021-03-12  Alabama     1          448            25            22170.0   \n",
       "2 2021-03-11  Alabama     1          865            52            40570.0   \n",
       "3 2021-03-10  Alabama     1          782            36            86610.0   \n",
       "4 2021-03-09  Alabama     1          524            38            60700.0   \n",
       "\n",
       "   daily_people_vaccinated  daily_people_fully_vaccinated daily_vaccinations  \\\n",
       "0                  24976.0                        20430.0             26,935   \n",
       "1                  25554.0                        19579.0             26,375   \n",
       "2                  22362.0                        17728.0             25,376   \n",
       "3                  21234.0                        14935.0             24,827   \n",
       "4                  14301.0                        10146.0             24,118   \n",
       "\n",
       "   mobility_composite  \n",
       "0           -1.013041  \n",
       "1           -1.013041  \n",
       "2           -1.013041  \n",
       "3           -1.013041  \n",
       "4           -1.013041  "
      ]
     },
     "execution_count": 17,
     "metadata": {},
     "output_type": "execute_result"
    }
   ],
   "source": [
    "df.head()"
   ]
  },
  {
   "cell_type": "code",
   "execution_count": 18,
   "id": "blind-population",
   "metadata": {},
   "outputs": [],
   "source": [
    "cases = df.loc[df_gb_key[1],'daily_cases'].values\n",
    "dates = df.loc[df_gb_key[1],'date'].values"
   ]
  },
  {
   "cell_type": "code",
   "execution_count": 19,
   "id": "organizational-happiness",
   "metadata": {},
   "outputs": [],
   "source": [
    "# cases , dates"
   ]
  },
  {
   "cell_type": "code",
   "execution_count": 20,
   "id": "sonic-coach",
   "metadata": {},
   "outputs": [
    {
     "data": {
      "text/plain": [
       "<matplotlib.figure.Figure at 0x7faa9ba2ee48>"
      ]
     },
     "metadata": {},
     "output_type": "display_data"
    }
   ],
   "source": [
    "import matplotlib.pyplot as plt \n",
    "\n",
    "plt.figure(figsize=(16, 10))\n",
    "plt.plot(dates, cases)\n",
    "plt.title('# of Coronavirus Cases Over Time', size=30)\n",
    "#plt.xlabel('Days Since 2021-01-13', size=30)\n",
    "plt.ylabel('# of Cases', size=30)\n",
    "#plt.legend(['Coronavirus Cases', 'Moving Average {} Days'.format(window)], prop={'size': 20})\n",
    "plt.xticks(size=20)\n",
    "plt.yticks(size=20)\n",
    "plt.show()"
   ]
  },
  {
   "cell_type": "code",
   "execution_count": 21,
   "id": "empirical-luxury",
   "metadata": {},
   "outputs": [
    {
     "data": {
      "text/plain": [
       "state                     fips\n",
       "Alabama                   1       366\n",
       "Alaska                    2       367\n",
       "Arizona                   4       413\n",
       "Arkansas                  5       368\n",
       "California                6       414\n",
       "Colorado                  8       374\n",
       "Connecticut               9       371\n",
       "Delaware                  10      368\n",
       "District of Columbia      11      372\n",
       "Florida                   12      378\n",
       "Georgia                   13      377\n",
       "Guam                      66      363\n",
       "Hawaii                    15      373\n",
       "Idaho                     16      366\n",
       "Illinois                  17      415\n",
       "Indiana                   18      373\n",
       "Iowa                      19      371\n",
       "Kansas                    20      372\n",
       "Kentucky                  21      373\n",
       "Louisiana                 22      370\n",
       "Maine                     23      367\n",
       "Maryland                  24      374\n",
       "Massachusetts             25      407\n",
       "Michigan                  26      369\n",
       "Minnesota                 27      373\n",
       "Mississippi               28      368\n",
       "Missouri                  29      372\n",
       "Montana                   30      294\n",
       "Nebraska                  31      391\n",
       "Nevada                    32      374\n",
       "New Hampshire             33      377\n",
       "New Jersey                34      375\n",
       "New Mexico                35      368\n",
       "New York                  36      378\n",
       "North Carolina            37      376\n",
       "North Dakota              38      368\n",
       "Northern Mariana Islands  69      348\n",
       "Ohio                      39      370\n",
       "Oklahoma                  40      373\n",
       "Oregon                    41      380\n",
       "Pennsylvania              42      373\n",
       "Puerto Rico               72      366\n",
       "Rhode Island              44      378\n",
       "South Carolina            45      373\n",
       "South Dakota              46      369\n",
       "Tennessee                 47      374\n",
       "Texas                     48      396\n",
       "Utah                      49      383\n",
       "Vermont                   50      372\n",
       "Virgin Islands            78      365\n",
       "Virginia                  51      372\n",
       "Washington                53      418\n",
       "West Virginia             54      362\n",
       "Wisconsin                 55      403\n",
       "Wyoming                   56      368\n",
       "Name: fips, dtype: int64"
      ]
     },
     "execution_count": 21,
     "metadata": {},
     "output_type": "execute_result"
    }
   ],
   "source": [
    "df.groupby('state')['fips'].value_counts()"
   ]
  },
  {
   "cell_type": "code",
   "execution_count": 22,
   "id": "exclusive-reggae",
   "metadata": {},
   "outputs": [
    {
     "data": {
      "image/png": "[encoded data removed]",
      "text/plain": [
       "<matplotlib.figure.Figure at 0x7faa607ed6a0>"
      ]
     },
     "metadata": {
      "needs_background": "light"
     },
     "output_type": "display_data"
    }
   ],
   "source": [
    "import pandas as pd\n",
    "import seaborn as sn\n",
    "import matplotlib.pyplot as plt\n",
    "\n",
    "corrMatrix = df.corr()\n",
    "sn.heatmap(corrMatrix, annot=True)\n",
    "plt.show()"
   ]
  },
  {
   "cell_type": "code",
   "execution_count": 23,
   "id": "proof-skirt",
   "metadata": {},
   "outputs": [],
   "source": [
    "# daily death ,  daily people vacinated  , daily_distibuted  - > daily case "
   ]
  },
  {
   "cell_type": "code",
   "execution_count": 24,
   "id": "stainless-oracle",
   "metadata": {},
   "outputs": [
    {
     "data": {
      "text/plain": [
       "Index(['date', 'state', 'fips', 'daily_cases', 'daily_deaths',\n",
       "       'daily_distributed', 'daily_people_vaccinated',\n",
       "       'daily_people_fully_vaccinated', 'daily_vaccinations',\n",
       "       'mobility_composite'],\n",
       "      dtype='object')"
      ]
     },
     "execution_count": 24,
     "metadata": {},
     "output_type": "execute_result"
    }
   ],
   "source": [
    "df.columns"
   ]
  },
  {
   "cell_type": "code",
   "execution_count": 25,
   "id": "hearing-invite",
   "metadata": {},
   "outputs": [],
   "source": [
    "df = df.drop(['date', 'state', 'fips',\n",
    "       'daily_people_vaccinated',\n",
    "       'daily_people_fully_vaccinated',\n",
    "       'mobility_composite'], axis=1)"
   ]
  },
  {
   "cell_type": "code",
   "execution_count": 26,
   "id": "fresh-triumph",
   "metadata": {},
   "outputs": [
    {
     "data": {
      "text/html": [
       "<div>\n",
       "<style scoped>\n",
       "    .dataframe tbody tr th:only-of-type {\n",
       "        vertical-align: middle;\n",
       "    }\n",
       "\n",
       "    .dataframe tbody tr th {\n",
       "        vertical-align: top;\n",
       "    }\n",
       "\n",
       "    .dataframe thead th {\n",
       "        text-align: right;\n",
       "    }\n",
       "</style>\n",
       "<table border=\"1\" class=\"dataframe\">\n",
       "  <thead>\n",
       "    <tr style=\"text-align: right;\">\n",
       "      <th></th>\n",
       "      <th>daily_cases</th>\n",
       "      <th>daily_deaths</th>\n",
       "      <th>daily_distributed</th>\n",
       "      <th>daily_vaccinations</th>\n",
       "    </tr>\n",
       "  </thead>\n",
       "  <tbody>\n",
       "    <tr>\n",
       "      <th>0</th>\n",
       "      <td>594</td>\n",
       "      <td>28</td>\n",
       "      <td>80160.0</td>\n",
       "      <td>26,935</td>\n",
       "    </tr>\n",
       "    <tr>\n",
       "      <th>1</th>\n",
       "      <td>448</td>\n",
       "      <td>25</td>\n",
       "      <td>22170.0</td>\n",
       "      <td>26,375</td>\n",
       "    </tr>\n",
       "    <tr>\n",
       "      <th>2</th>\n",
       "      <td>865</td>\n",
       "      <td>52</td>\n",
       "      <td>40570.0</td>\n",
       "      <td>25,376</td>\n",
       "    </tr>\n",
       "    <tr>\n",
       "      <th>3</th>\n",
       "      <td>782</td>\n",
       "      <td>36</td>\n",
       "      <td>86610.0</td>\n",
       "      <td>24,827</td>\n",
       "    </tr>\n",
       "    <tr>\n",
       "      <th>4</th>\n",
       "      <td>524</td>\n",
       "      <td>38</td>\n",
       "      <td>60700.0</td>\n",
       "      <td>24,118</td>\n",
       "    </tr>\n",
       "  </tbody>\n",
       "</table>\n",
       "</div>"
      ],
      "text/plain": [
       "   daily_cases  daily_deaths  daily_distributed daily_vaccinations\n",
       "0          594            28            80160.0             26,935\n",
       "1          448            25            22170.0             26,375\n",
       "2          865            52            40570.0             25,376\n",
       "3          782            36            86610.0             24,827\n",
       "4          524            38            60700.0             24,118"
      ]
     },
     "execution_count": 26,
     "metadata": {},
     "output_type": "execute_result"
    }
   ],
   "source": [
    "df.head()"
   ]
  },
  {
   "cell_type": "code",
   "execution_count": 27,
   "id": "unsigned-simulation",
   "metadata": {},
   "outputs": [],
   "source": [
    "import pandas as pd\n",
    "import matplotlib.pyplot as plt\n",
    "from datetime import datetime\n",
    "\n",
    "def parser(x):\n",
    "    return datetime.strptime('190'+x, '%Y-%m')"
   ]
  },
  {
   "cell_type": "code",
   "execution_count": 28,
   "id": "controlled-parallel",
   "metadata": {},
   "outputs": [],
   "source": [
    "series = df.loc[df_gb_key[1],'daily_cases'].values"
   ]
  },
  {
   "cell_type": "code",
   "execution_count": 29,
   "id": "funny-hampshire",
   "metadata": {},
   "outputs": [
    {
     "data": {
      "image/png": "[encoded data removed]",
      "text/plain": [
       "<matplotlib.figure.Figure at 0x7faaa37ee9b0>"
      ]
     },
     "metadata": {
      "needs_background": "light"
     },
     "output_type": "display_data"
    }
   ],
   "source": [
    "from pandas.plotting  import autocorrelation_plot\n",
    "\n",
    "autocorrelation_plot(series)\n",
    "plt.show()"
   ]
  },
  {
   "cell_type": "code",
   "execution_count": 30,
   "id": "portuguese-harmony",
   "metadata": {},
   "outputs": [
    {
     "name": "stderr",
     "output_type": "stream",
     "text": [
      "/usr/local/lib/python3.6/dist-packages/statsmodels/tsa/arima_model.py:472: FutureWarning: \n",
      "statsmodels.tsa.arima_model.ARMA and statsmodels.tsa.arima_model.ARIMA have\n",
      "been deprecated in favor of statsmodels.tsa.arima.model.ARIMA (note the .\n",
      "between arima and model) and\n",
      "statsmodels.tsa.SARIMAX. These will be removed after the 0.12 release.\n",
      "\n",
      "statsmodels.tsa.arima.model.ARIMA makes use of the statespace framework and\n",
      "is both well tested and maintained.\n",
      "\n",
      "To silence this warning and continue using ARMA and ARIMA until they are\n",
      "removed, use:\n",
      "\n",
      "import warnings\n",
      "warnings.filterwarnings('ignore', 'statsmodels.tsa.arima_model.ARMA',\n",
      "                        FutureWarning)\n",
      "warnings.filterwarnings('ignore', 'statsmodels.tsa.arima_model.ARIMA',\n",
      "                        FutureWarning)\n",
      "\n",
      "  warnings.warn(ARIMA_DEPRECATION_WARN, FutureWarning)\n"
     ]
    },
    {
     "data": {
      "image/png": "[encoded data removed]",
      "text/plain": [
       "<matplotlib.figure.Figure at 0x7faa5ec7ddd8>"
      ]
     },
     "metadata": {
      "needs_background": "light"
     },
     "output_type": "display_data"
    },
    {
     "data": {
      "image/png": "[encoded data removed]",
      "text/plain": [
       "<matplotlib.figure.Figure at 0x7faa5ec7dda0>"
      ]
     },
     "metadata": {
      "needs_background": "light"
     },
     "output_type": "display_data"
    },
    {
     "name": "stdout",
     "output_type": "stream",
     "text": [
      "                 0\n",
      "count   365.000000\n",
      "mean     -0.178316\n",
      "std     559.801272\n",
      "min   -2610.034064\n",
      "25%    -213.122681\n",
      "50%     -11.870228\n",
      "75%     180.770980\n",
      "max    2432.387101\n"
     ]
    }
   ],
   "source": [
    "from statsmodels.tsa.arima_model import ARIMA\n",
    "\n",
    "# fit model\n",
    "model = ARIMA(series, order=(5,1,0))\n",
    "model_fit = model.fit(disp=0)\n",
    "# print(model_fit.summary())\n",
    "\n",
    "# plot residual erros\n",
    "residuals = pd.DataFrame(model_fit.resid)\n",
    "residuals.plot()\n",
    "residuals.plot(kind='kde')\n",
    "plt.show()\n",
    "print(residuals.describe())"
   ]
  },
  {
   "cell_type": "markdown",
   "id": "endless-travel",
   "metadata": {},
   "source": [
    "### Just select one not optimize yey"
   ]
  },
  {
   "cell_type": "code",
   "execution_count": 64,
   "id": "original-truck",
   "metadata": {},
   "outputs": [],
   "source": [
    "from sklearn.metrics import mean_squared_error\n",
    "import warnings\n",
    "warnings.filterwarnings(\"ignore\")\n",
    "\n",
    "X = series # X -> daily cases\n",
    "size = int(len(X) * 0.66) \n",
    "train, test = X[0:size], X[size:len(X)]\n",
    "history = [float(x) for x in train]\n",
    "predictions = []"
   ]
  },
  {
   "cell_type": "code",
   "execution_count": 65,
   "id": "9945d551-3ff8-49d7-8423-7400d2eecad4",
   "metadata": {},
   "outputs": [
    {
     "name": "stdout",
     "output_type": "stream",
     "text": [
      "125\n"
     ]
    }
   ],
   "source": [
    "print(len(test))"
   ]
  },
  {
   "cell_type": "code",
   "execution_count": 75,
   "id": "applicable-safety",
   "metadata": {},
   "outputs": [],
   "source": [
    "def Arima_MSE(train_history,test_history,pdq):\n",
    "\n",
    "    for t in range(len(test_history)):\n",
    "        #data_history = history.astype('float32')\n",
    "        model = ARIMA(train_history, order= pdq)    #(5,1,0))\n",
    "        model_fit = model.fit(disp=0)\n",
    "        output = model_fit.forecast()\n",
    "        yhat = output[0]\n",
    "        #print(len(yhat))\n",
    "        predictions.append(yhat)\n",
    "        obs = test_history[t]\n",
    "        train_history.append(obs)\n",
    "        #print('predicted=%f, expected=%f' % (yhat, obs))\n",
    "    \n",
    "    #print(len(test_history),len(predictions))    \n",
    "    error = mean_squared_error(test_history, predictions)\n",
    "    #print('Test MSE: %.3f' % error)\n",
    "#     plt.plot(test)\n",
    "#     plt.plot(predictions, color='red')\n",
    "#     plt.show()\n",
    "    \n",
    "    return error , predictions"
   ]
  },
  {
   "cell_type": "code",
   "execution_count": 76,
   "id": "dd7edfc9-d602-48c8-828e-1521a79f1dd6",
   "metadata": {},
   "outputs": [],
   "source": [
    "import warnings\n",
    "import itertools\n",
    "import gc\n",
    "import numpy as np"
   ]
  },
  {
   "cell_type": "code",
   "execution_count": 77,
   "id": "c6d83df0-f3e4-4ff4-8d9e-39484d988127",
   "metadata": {},
   "outputs": [
    {
     "data": {
      "text/plain": [
       "(numpy.ndarray, list)"
      ]
     },
     "execution_count": 77,
     "metadata": {},
     "output_type": "execute_result"
    }
   ],
   "source": [
    "type(test) , type(history)"
   ]
  },
  {
   "cell_type": "code",
   "execution_count": 79,
   "id": "8a513c37-e706-4b43-9159-14f897a441c9",
   "metadata": {},
   "outputs": [
    {
     "name": "stdout",
     "output_type": "stream",
     "text": [
      "Best test MSE: 239924.428\n",
      "best_param : (0, 0, 0)\n",
      "Best test MSE: 144671.714\n",
      "best_param : (0, 0, 1)\n",
      "Best test MSE: 108299.352\n",
      "best_param : (0, 0, 2)\n",
      "Best test MSE: 95402.632\n",
      "best_param : (0, 0, 3)\n",
      "Best test MSE: 88449.012\n",
      "best_param : (0, 0, 4)\n",
      "Best test MSE: 81127.082\n",
      "best_param : (0, 1, 1)\n",
      "Best test MSE: 80468.032\n",
      "best_param : (0, 1, 3)\n",
      "Best test MSE: 77836.102\n",
      "best_param : (1, 0, 1)\n",
      "Best test MSE: 75781.949\n",
      "best_param : (1, 1, 3)\n",
      "Best test MSE: 75702.238\n",
      "best_param : (1, 1, 4)\n",
      "Best test MSE: 73403.809\n",
      "best_param : (2, 0, 3)\n",
      "Best test MSE: 72966.694\n",
      "best_param : (2, 0, 4)\n",
      "Best test MSE: 72343.751\n",
      "best_param : (3, 0, 3)\n",
      "Best test MSE: 71474.654\n",
      "best_param : (3, 1, 4)\n",
      "Best test MSE: 68697.357\n",
      "best_param : (4, 0, 4)\n"
     ]
    },
    {
     "data": {
      "image/png": "[encoded data removed]",
      "text/plain": [
       "<matplotlib.figure.Figure at 0x7faa60048fd0>"
      ]
     },
     "metadata": {
      "needs_background": "light"
     },
     "output_type": "display_data"
    }
   ],
   "source": [
    "# Define the p, d and q parameters to take any value between 0 and 3\n",
    "p = q = range(0, 5)\n",
    "d = range(0,2)\n",
    "\n",
    "# Generate all different combinations of p, q and q triplets\n",
    "pdq = list(itertools.product(p, d, q))\n",
    "best_mse = np.inf\n",
    "best_param = (0,0,0)\n",
    "best_predict = []\n",
    "for param in pdq:\n",
    "    #print(param)\n",
    "    predictions = []\n",
    "    curr_mse , prediction = Arima_MSE(history,test,param)\n",
    "    if curr_mse < best_mse:\n",
    "        best_mse = curr_mse\n",
    "        best_param = param\n",
    "        print('Best test MSE: %.3f' % best_mse)\n",
    "        print(\"best_param :\",best_param)\n",
    "        best_predict = prediction\n",
    "       \n",
    "\n",
    "plt.plot(test)\n",
    "plt.plot(best_predict, color='red')\n",
    "plt.show()                    "
   ]
  },
  {
   "cell_type": "code",
   "execution_count": null,
   "id": "middle-history",
   "metadata": {},
   "outputs": [],
   "source": [
    "# evaluate parameters\n",
    "p_values = [0, 1, 2, 4, 6, 8, 10]\n",
    "d_values = range(0, 3)\n",
    "q_values = range(0, 3)\n",
    "warnings.filterwarnings(\"ignore\")\n",
    "evaluate_models(X, p_values, d_values, q_values)"
   ]
  },
  {
   "cell_type": "code",
   "execution_count": null,
   "id": "attended-reply",
   "metadata": {},
   "outputs": [],
   "source": []
  },
  {
   "cell_type": "code",
   "execution_count": null,
   "id": "unsigned-minnesota",
   "metadata": {},
   "outputs": [],
   "source": []
  }
 ],
 "metadata": {
  "kernelspec": {
   "display_name": "Python 3",
   "language": "python",
   "name": "python3"
  },
  "language_info": {
   "codemirror_mode": {
    "name": "ipython",
    "version": 3
   },
   "file_extension": ".py",
   "mimetype": "text/x-python",
   "name": "python",
   "nbconvert_exporter": "python",
   "pygments_lexer": "ipython3",
   "version": "3.6.9"
  }
 },
 "nbformat": 4,
 "nbformat_minor": 5
}
