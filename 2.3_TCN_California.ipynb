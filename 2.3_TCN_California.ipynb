{
 "cells": [
  {
   "cell_type": "code",
   "execution_count": 1,
   "id": "ZymfhJQ_63Lj",
   "metadata": {
    "colab": {
     "base_uri": "https://localhost:8080/"
    },
    "executionInfo": {
     "elapsed": 33083,
     "status": "ok",
     "timestamp": 1619509187255,
     "user": {
      "displayName": "Sitiporn Saelim",
      "photoUrl": "",
      "userId": "04392232392828254116"
     },
     "user_tz": -420
    },
    "id": "ZymfhJQ_63Lj",
    "outputId": "10bc1c00-f2bc-4f1b-f4a8-2fd51e72d47f"
   },
   "outputs": [],
   "source": [
    "# from google.colab import drive\n",
    "# drive.mount('/content/drive')"
   ]
  },
  {
   "cell_type": "code",
   "execution_count": 2,
   "id": "96b5819f-e8ac-4c3c-9c28-93afb6ac738f",
   "metadata": {
    "executionInfo": {
     "elapsed": 37627,
     "status": "ok",
     "timestamp": 1619509191805,
     "user": {
      "displayName": "Sitiporn Saelim",
      "photoUrl": "",
      "userId": "04392232392828254116"
     },
     "user_tz": -420
    },
    "id": "96b5819f-e8ac-4c3c-9c28-93afb6ac738f"
   },
   "outputs": [],
   "source": [
    "import numpy as np\n",
    "import pandas as pd\n",
    "import torch\n",
    "import torch.nn as nn\n",
    "import torch.nn.functional as F\n",
    "import torch.optim as optim\n",
    "from torch.utils.data import TensorDataset, DataLoader\n",
    "from sklearn.preprocessing import MinMaxScaler, StandardScaler\n",
    "import matplotlib.pyplot as plt\n",
    "from tqdm import tqdm"
   ]
  },
  {
   "cell_type": "code",
   "execution_count": 3,
   "id": "f788572f-61f5-4edd-a4b7-ba8c292c8589",
   "metadata": {
    "executionInfo": {
     "elapsed": 37626,
     "status": "ok",
     "timestamp": 1619509191807,
     "user": {
      "displayName": "Sitiporn Saelim",
      "photoUrl": "",
      "userId": "04392232392828254116"
     },
     "user_tz": -420
    },
    "id": "f788572f-61f5-4edd-a4b7-ba8c292c8589"
   },
   "outputs": [],
   "source": [
    "##===\n",
    "# Select state we want to predict\n",
    "# New York , California , Florida , Texas\n",
    "STATE = 'California'\n",
    "\n",
    "WEIGHTDECAY = 0\n",
    "TRAIN = True\n",
    "seq_length = 14\n",
    "N_EPOCHS = 1000\n",
    "device = torch.device('cuda' if torch.cuda.is_available() else 'cpu')\n",
    "##===\n",
    "\n",
    "#### Model Config ===\n",
    "# channel_config = np.array([[1,64,128],[128,64,64],[64,32,1]])\n",
    "channel_config = np.array([[1,7,14],[14,7,7],[7,4,1]])"
   ]
  },
  {
   "cell_type": "markdown",
   "id": "ad882fe1-7a80-4ca8-9a54-82dc294c48df",
   "metadata": {
    "id": "ad882fe1-7a80-4ca8-9a54-82dc294c48df"
   },
   "source": [
    "## Data frame Format"
   ]
  },
  {
   "cell_type": "markdown",
   "id": "de64a227-a629-42e1-99b6-333734cca580",
   "metadata": {
    "id": "de64a227-a629-42e1-99b6-333734cca580"
   },
   "source": [
    "### Import Data from CSV file"
   ]
  },
  {
   "cell_type": "code",
   "execution_count": 4,
   "id": "5e908914-f968-489e-a2a5-ef500dc4001f",
   "metadata": {
    "executionInfo": {
     "elapsed": 46165,
     "status": "ok",
     "timestamp": 1619509200353,
     "user": {
      "displayName": "Sitiporn Saelim",
      "photoUrl": "",
      "userId": "04392232392828254116"
     },
     "user_tz": -420
    },
    "id": "5e908914-f968-489e-a2a5-ef500dc4001f"
   },
   "outputs": [],
   "source": [
    "#df = pd.read_excel(\"./drive/Shareddrives/BI&A/Data/Cleaned Data.xlsx\")\n",
    "df = pd.read_csv('Cleaned_data.csv')"
   ]
  },
  {
   "cell_type": "code",
   "execution_count": 5,
   "id": "344a4ff7-ad56-4738-93fa-6fadca83fe0f",
   "metadata": {
    "colab": {
     "base_uri": "https://localhost:8080/",
     "height": 226
    },
    "executionInfo": {
     "elapsed": 46152,
     "status": "ok",
     "timestamp": 1619509200354,
     "user": {
      "displayName": "Sitiporn Saelim",
      "photoUrl": "",
      "userId": "04392232392828254116"
     },
     "user_tz": -420
    },
    "id": "344a4ff7-ad56-4738-93fa-6fadca83fe0f",
    "outputId": "1cb3b9b8-2571-4898-ed91-0a08754b3570"
   },
   "outputs": [
    {
     "data": {
      "text/html": [
       "<div>\n",
       "<style scoped>\n",
       "    .dataframe tbody tr th:only-of-type {\n",
       "        vertical-align: middle;\n",
       "    }\n",
       "\n",
       "    .dataframe tbody tr th {\n",
       "        vertical-align: top;\n",
       "    }\n",
       "\n",
       "    .dataframe thead th {\n",
       "        text-align: right;\n",
       "    }\n",
       "</style>\n",
       "<table border=\"1\" class=\"dataframe\">\n",
       "  <thead>\n",
       "    <tr style=\"text-align: right;\">\n",
       "      <th></th>\n",
       "      <th>date</th>\n",
       "      <th>state</th>\n",
       "      <th>fips</th>\n",
       "      <th>cases</th>\n",
       "      <th>daily_cases</th>\n",
       "      <th>deaths</th>\n",
       "      <th>daily_deaths</th>\n",
       "      <th>total_vaccinations</th>\n",
       "      <th>total_distributed</th>\n",
       "      <th>daily_distributed</th>\n",
       "      <th>total_people_vaccinated</th>\n",
       "      <th>daily_people_vaccinated</th>\n",
       "      <th>total_people_fully_vaccinated</th>\n",
       "      <th>daily_people_fully_vaccinated</th>\n",
       "      <th>daily_vaccinations</th>\n",
       "      <th>mobility_composite</th>\n",
       "    </tr>\n",
       "  </thead>\n",
       "  <tbody>\n",
       "    <tr>\n",
       "      <th>0</th>\n",
       "      <td>3/13/2021</td>\n",
       "      <td>Alabama</td>\n",
       "      <td>1</td>\n",
       "      <td>503305</td>\n",
       "      <td>594</td>\n",
       "      <td>10327</td>\n",
       "      <td>28</td>\n",
       "      <td>1288242</td>\n",
       "      <td>1918560.0</td>\n",
       "      <td>80160.0</td>\n",
       "      <td>841394.0</td>\n",
       "      <td>24976.0</td>\n",
       "      <td>492755.0</td>\n",
       "      <td>20430.0</td>\n",
       "      <td>26,935</td>\n",
       "      <td>-1.013041</td>\n",
       "    </tr>\n",
       "    <tr>\n",
       "      <th>1</th>\n",
       "      <td>3/12/2021</td>\n",
       "      <td>Alabama</td>\n",
       "      <td>1</td>\n",
       "      <td>502711</td>\n",
       "      <td>448</td>\n",
       "      <td>10299</td>\n",
       "      <td>25</td>\n",
       "      <td>1249205</td>\n",
       "      <td>1838400.0</td>\n",
       "      <td>22170.0</td>\n",
       "      <td>816418.0</td>\n",
       "      <td>25554.0</td>\n",
       "      <td>472325.0</td>\n",
       "      <td>19579.0</td>\n",
       "      <td>26,375</td>\n",
       "      <td>-1.013041</td>\n",
       "    </tr>\n",
       "    <tr>\n",
       "      <th>2</th>\n",
       "      <td>3/11/2021</td>\n",
       "      <td>Alabama</td>\n",
       "      <td>1</td>\n",
       "      <td>502263</td>\n",
       "      <td>865</td>\n",
       "      <td>10274</td>\n",
       "      <td>52</td>\n",
       "      <td>1209802</td>\n",
       "      <td>1816230.0</td>\n",
       "      <td>40570.0</td>\n",
       "      <td>790864.0</td>\n",
       "      <td>22362.0</td>\n",
       "      <td>452746.0</td>\n",
       "      <td>17728.0</td>\n",
       "      <td>25,376</td>\n",
       "      <td>-1.013041</td>\n",
       "    </tr>\n",
       "    <tr>\n",
       "      <th>3</th>\n",
       "      <td>3/10/2021</td>\n",
       "      <td>Alabama</td>\n",
       "      <td>1</td>\n",
       "      <td>501398</td>\n",
       "      <td>782</td>\n",
       "      <td>10222</td>\n",
       "      <td>36</td>\n",
       "      <td>1173820</td>\n",
       "      <td>1775660.0</td>\n",
       "      <td>86610.0</td>\n",
       "      <td>768502.0</td>\n",
       "      <td>21234.0</td>\n",
       "      <td>435018.0</td>\n",
       "      <td>14935.0</td>\n",
       "      <td>24,827</td>\n",
       "      <td>-1.013041</td>\n",
       "    </tr>\n",
       "    <tr>\n",
       "      <th>4</th>\n",
       "      <td>3/9/2021</td>\n",
       "      <td>Alabama</td>\n",
       "      <td>1</td>\n",
       "      <td>500616</td>\n",
       "      <td>524</td>\n",
       "      <td>10186</td>\n",
       "      <td>38</td>\n",
       "      <td>1140984</td>\n",
       "      <td>1689050.0</td>\n",
       "      <td>60700.0</td>\n",
       "      <td>747268.0</td>\n",
       "      <td>14301.0</td>\n",
       "      <td>420083.0</td>\n",
       "      <td>10146.0</td>\n",
       "      <td>24,118</td>\n",
       "      <td>-1.013041</td>\n",
       "    </tr>\n",
       "  </tbody>\n",
       "</table>\n",
       "</div>"
      ],
      "text/plain": [
       "        date    state  fips   cases  daily_cases  deaths  daily_deaths  \\\n",
       "0  3/13/2021  Alabama     1  503305          594   10327            28   \n",
       "1  3/12/2021  Alabama     1  502711          448   10299            25   \n",
       "2  3/11/2021  Alabama     1  502263          865   10274            52   \n",
       "3  3/10/2021  Alabama     1  501398          782   10222            36   \n",
       "4   3/9/2021  Alabama     1  500616          524   10186            38   \n",
       "\n",
       "  total_vaccinations  total_distributed  daily_distributed  \\\n",
       "0            1288242          1918560.0            80160.0   \n",
       "1            1249205          1838400.0            22170.0   \n",
       "2            1209802          1816230.0            40570.0   \n",
       "3            1173820          1775660.0            86610.0   \n",
       "4            1140984          1689050.0            60700.0   \n",
       "\n",
       "   total_people_vaccinated  daily_people_vaccinated  \\\n",
       "0                 841394.0                  24976.0   \n",
       "1                 816418.0                  25554.0   \n",
       "2                 790864.0                  22362.0   \n",
       "3                 768502.0                  21234.0   \n",
       "4                 747268.0                  14301.0   \n",
       "\n",
       "   total_people_fully_vaccinated  daily_people_fully_vaccinated  \\\n",
       "0                       492755.0                        20430.0   \n",
       "1                       472325.0                        19579.0   \n",
       "2                       452746.0                        17728.0   \n",
       "3                       435018.0                        14935.0   \n",
       "4                       420083.0                        10146.0   \n",
       "\n",
       "  daily_vaccinations  mobility_composite  \n",
       "0             26,935           -1.013041  \n",
       "1             26,375           -1.013041  \n",
       "2             25,376           -1.013041  \n",
       "3             24,827           -1.013041  \n",
       "4             24,118           -1.013041  "
      ]
     },
     "execution_count": 5,
     "metadata": {},
     "output_type": "execute_result"
    }
   ],
   "source": [
    "df.head()"
   ]
  },
  {
   "cell_type": "code",
   "execution_count": 6,
   "id": "21ae967e-fe62-4c78-a5e9-b3ce7158917c",
   "metadata": {
    "colab": {
     "base_uri": "https://localhost:8080/"
    },
    "executionInfo": {
     "elapsed": 46141,
     "status": "ok",
     "timestamp": 1619509200356,
     "user": {
      "displayName": "Sitiporn Saelim",
      "photoUrl": "",
      "userId": "04392232392828254116"
     },
     "user_tz": -420
    },
    "id": "21ae967e-fe62-4c78-a5e9-b3ce7158917c",
    "outputId": "c98dc023-b5a6-446c-d9cc-ca4cb2cd3f98"
   },
   "outputs": [
    {
     "name": "stdout",
     "output_type": "stream",
     "text": [
      "<class 'pandas.core.frame.DataFrame'>\n",
      "RangeIndex: 20618 entries, 0 to 20617\n",
      "Data columns (total 16 columns):\n",
      " #   Column                         Non-Null Count  Dtype  \n",
      "---  ------                         --------------  -----  \n",
      " 0   date                           20618 non-null  object \n",
      " 1   state                          20618 non-null  object \n",
      " 2   fips                           20618 non-null  int64  \n",
      " 3   cases                          20618 non-null  int64  \n",
      " 4   daily_cases                    20618 non-null  int64  \n",
      " 5   deaths                         20618 non-null  int64  \n",
      " 6   daily_deaths                   20618 non-null  int64  \n",
      " 7   total_vaccinations             3801 non-null   object \n",
      " 8   total_distributed              3801 non-null   float64\n",
      " 9   daily_distributed              3801 non-null   float64\n",
      " 10  total_people_vaccinated        3801 non-null   float64\n",
      " 11  daily_people_vaccinated        3801 non-null   float64\n",
      " 12  total_people_fully_vaccinated  3801 non-null   float64\n",
      " 13  daily_people_fully_vaccinated  3801 non-null   float64\n",
      " 14  daily_vaccinations             3779 non-null   object \n",
      " 15  mobility_composite             19353 non-null  float64\n",
      "dtypes: float64(7), int64(5), object(4)\n",
      "memory usage: 2.5+ MB\n"
     ]
    }
   ],
   "source": [
    "df.info()"
   ]
  },
  {
   "cell_type": "code",
   "execution_count": 7,
   "id": "836c3722-619c-4ea8-a6f0-22214d8ee8b9",
   "metadata": {
    "colab": {
     "base_uri": "https://localhost:8080/",
     "height": 206
    },
    "executionInfo": {
     "elapsed": 46132,
     "status": "ok",
     "timestamp": 1619509200357,
     "user": {
      "displayName": "Sitiporn Saelim",
      "photoUrl": "",
      "userId": "04392232392828254116"
     },
     "user_tz": -420
    },
    "id": "836c3722-619c-4ea8-a6f0-22214d8ee8b9",
    "outputId": "4b3cf9f1-c8c6-4cf9-8646-de5ef6411df1"
   },
   "outputs": [
    {
     "data": {
      "text/html": [
       "<div>\n",
       "<style scoped>\n",
       "    .dataframe tbody tr th:only-of-type {\n",
       "        vertical-align: middle;\n",
       "    }\n",
       "\n",
       "    .dataframe tbody tr th {\n",
       "        vertical-align: top;\n",
       "    }\n",
       "\n",
       "    .dataframe thead th {\n",
       "        text-align: right;\n",
       "    }\n",
       "</style>\n",
       "<table border=\"1\" class=\"dataframe\">\n",
       "  <thead>\n",
       "    <tr style=\"text-align: right;\">\n",
       "      <th></th>\n",
       "      <th>date</th>\n",
       "      <th>state</th>\n",
       "      <th>fips</th>\n",
       "      <th>daily_cases</th>\n",
       "      <th>daily_deaths</th>\n",
       "      <th>daily_distributed</th>\n",
       "      <th>daily_people_vaccinated</th>\n",
       "      <th>daily_people_fully_vaccinated</th>\n",
       "      <th>daily_vaccinations</th>\n",
       "      <th>mobility_composite</th>\n",
       "    </tr>\n",
       "  </thead>\n",
       "  <tbody>\n",
       "    <tr>\n",
       "      <th>0</th>\n",
       "      <td>3/13/2021</td>\n",
       "      <td>Alabama</td>\n",
       "      <td>1</td>\n",
       "      <td>594</td>\n",
       "      <td>28</td>\n",
       "      <td>80160.0</td>\n",
       "      <td>24976.0</td>\n",
       "      <td>20430.0</td>\n",
       "      <td>26,935</td>\n",
       "      <td>-1.013041</td>\n",
       "    </tr>\n",
       "    <tr>\n",
       "      <th>1</th>\n",
       "      <td>3/12/2021</td>\n",
       "      <td>Alabama</td>\n",
       "      <td>1</td>\n",
       "      <td>448</td>\n",
       "      <td>25</td>\n",
       "      <td>22170.0</td>\n",
       "      <td>25554.0</td>\n",
       "      <td>19579.0</td>\n",
       "      <td>26,375</td>\n",
       "      <td>-1.013041</td>\n",
       "    </tr>\n",
       "    <tr>\n",
       "      <th>2</th>\n",
       "      <td>3/11/2021</td>\n",
       "      <td>Alabama</td>\n",
       "      <td>1</td>\n",
       "      <td>865</td>\n",
       "      <td>52</td>\n",
       "      <td>40570.0</td>\n",
       "      <td>22362.0</td>\n",
       "      <td>17728.0</td>\n",
       "      <td>25,376</td>\n",
       "      <td>-1.013041</td>\n",
       "    </tr>\n",
       "    <tr>\n",
       "      <th>3</th>\n",
       "      <td>3/10/2021</td>\n",
       "      <td>Alabama</td>\n",
       "      <td>1</td>\n",
       "      <td>782</td>\n",
       "      <td>36</td>\n",
       "      <td>86610.0</td>\n",
       "      <td>21234.0</td>\n",
       "      <td>14935.0</td>\n",
       "      <td>24,827</td>\n",
       "      <td>-1.013041</td>\n",
       "    </tr>\n",
       "    <tr>\n",
       "      <th>4</th>\n",
       "      <td>3/9/2021</td>\n",
       "      <td>Alabama</td>\n",
       "      <td>1</td>\n",
       "      <td>524</td>\n",
       "      <td>38</td>\n",
       "      <td>60700.0</td>\n",
       "      <td>14301.0</td>\n",
       "      <td>10146.0</td>\n",
       "      <td>24,118</td>\n",
       "      <td>-1.013041</td>\n",
       "    </tr>\n",
       "  </tbody>\n",
       "</table>\n",
       "</div>"
      ],
      "text/plain": [
       "        date    state  fips  daily_cases  daily_deaths  daily_distributed  \\\n",
       "0  3/13/2021  Alabama     1          594            28            80160.0   \n",
       "1  3/12/2021  Alabama     1          448            25            22170.0   \n",
       "2  3/11/2021  Alabama     1          865            52            40570.0   \n",
       "3  3/10/2021  Alabama     1          782            36            86610.0   \n",
       "4   3/9/2021  Alabama     1          524            38            60700.0   \n",
       "\n",
       "   daily_people_vaccinated  daily_people_fully_vaccinated daily_vaccinations  \\\n",
       "0                  24976.0                        20430.0             26,935   \n",
       "1                  25554.0                        19579.0             26,375   \n",
       "2                  22362.0                        17728.0             25,376   \n",
       "3                  21234.0                        14935.0             24,827   \n",
       "4                  14301.0                        10146.0             24,118   \n",
       "\n",
       "   mobility_composite  \n",
       "0           -1.013041  \n",
       "1           -1.013041  \n",
       "2           -1.013041  \n",
       "3           -1.013041  \n",
       "4           -1.013041  "
      ]
     },
     "execution_count": 7,
     "metadata": {},
     "output_type": "execute_result"
    }
   ],
   "source": [
    "df = df.drop(labels=['cases', 'deaths', 'total_vaccinations', 'total_distributed', 'total_people_vaccinated', 'total_people_fully_vaccinated'], axis=1)\n",
    "df.head()"
   ]
  },
  {
   "cell_type": "code",
   "execution_count": 8,
   "id": "cd39e90b-0daa-4780-a915-99e2c188b7f2",
   "metadata": {
    "colab": {
     "base_uri": "https://localhost:8080/"
    },
    "executionInfo": {
     "elapsed": 46122,
     "status": "ok",
     "timestamp": 1619509200358,
     "user": {
      "displayName": "Sitiporn Saelim",
      "photoUrl": "",
      "userId": "04392232392828254116"
     },
     "user_tz": -420
    },
    "id": "cd39e90b-0daa-4780-a915-99e2c188b7f2",
    "outputId": "f2f42d23-de95-4150-b07b-d8a731b97fb2"
   },
   "outputs": [
    {
     "data": {
      "text/plain": [
       "array(['Alabama', 'Alaska', 'Arizona', 'Arkansas', 'California',\n",
       "       'Colorado', 'Connecticut', 'Delaware', 'District of Columbia',\n",
       "       'Florida', 'Georgia', 'Guam', 'Hawaii', 'Idaho', 'Illinois',\n",
       "       'Indiana', 'Iowa', 'Kansas', 'Kentucky', 'Louisiana', 'Maine',\n",
       "       'Maryland', 'Massachusetts', 'Michigan', 'Minnesota',\n",
       "       'Mississippi', 'Missouri', 'Montana', 'Nebraska', 'Nevada',\n",
       "       'New Hampshire', 'New Jersey', 'New Mexico', 'New York',\n",
       "       'North Carolina', 'North Dakota', 'Northern Mariana Islands',\n",
       "       'Ohio', 'Oklahoma', 'Oregon', 'Pennsylvania', 'Puerto Rico',\n",
       "       'Rhode Island', 'South Carolina', 'South Dakota', 'Tennessee',\n",
       "       'Texas', 'Utah', 'Vermont', 'Virgin Islands', 'Virginia',\n",
       "       'Washington', 'West Virginia', 'Wisconsin', 'Wyoming'],\n",
       "      dtype=object)"
      ]
     },
     "execution_count": 8,
     "metadata": {},
     "output_type": "execute_result"
    }
   ],
   "source": [
    "df['state'].unique()"
   ]
  },
  {
   "cell_type": "code",
   "execution_count": 9,
   "id": "5d059c19-c413-4820-85a8-18632ef73b7f",
   "metadata": {
    "colab": {
     "base_uri": "https://localhost:8080/",
     "height": 424
    },
    "executionInfo": {
     "elapsed": 46114,
     "status": "ok",
     "timestamp": 1619509200360,
     "user": {
      "displayName": "Sitiporn Saelim",
      "photoUrl": "",
      "userId": "04392232392828254116"
     },
     "user_tz": -420
    },
    "id": "5d059c19-c413-4820-85a8-18632ef73b7f",
    "outputId": "8d30ea18-e07a-4bf3-b20c-edb24c321d1b"
   },
   "outputs": [
    {
     "data": {
      "text/html": [
       "<div>\n",
       "<style scoped>\n",
       "    .dataframe tbody tr th:only-of-type {\n",
       "        vertical-align: middle;\n",
       "    }\n",
       "\n",
       "    .dataframe tbody tr th {\n",
       "        vertical-align: top;\n",
       "    }\n",
       "\n",
       "    .dataframe thead th {\n",
       "        text-align: right;\n",
       "    }\n",
       "</style>\n",
       "<table border=\"1\" class=\"dataframe\">\n",
       "  <thead>\n",
       "    <tr style=\"text-align: right;\">\n",
       "      <th></th>\n",
       "      <th>date</th>\n",
       "      <th>state</th>\n",
       "      <th>fips</th>\n",
       "      <th>daily_cases</th>\n",
       "      <th>daily_deaths</th>\n",
       "      <th>daily_distributed</th>\n",
       "      <th>daily_people_vaccinated</th>\n",
       "      <th>daily_people_fully_vaccinated</th>\n",
       "      <th>daily_vaccinations</th>\n",
       "      <th>mobility_composite</th>\n",
       "    </tr>\n",
       "  </thead>\n",
       "  <tbody>\n",
       "    <tr>\n",
       "      <th>19484</th>\n",
       "      <td>2020-01-21</td>\n",
       "      <td>Washington</td>\n",
       "      <td>53</td>\n",
       "      <td>1</td>\n",
       "      <td>0</td>\n",
       "      <td>NaN</td>\n",
       "      <td>NaN</td>\n",
       "      <td>NaN</td>\n",
       "      <td>NaN</td>\n",
       "      <td>NaN</td>\n",
       "    </tr>\n",
       "    <tr>\n",
       "      <th>19483</th>\n",
       "      <td>2020-01-22</td>\n",
       "      <td>Washington</td>\n",
       "      <td>53</td>\n",
       "      <td>0</td>\n",
       "      <td>0</td>\n",
       "      <td>NaN</td>\n",
       "      <td>NaN</td>\n",
       "      <td>NaN</td>\n",
       "      <td>NaN</td>\n",
       "      <td>NaN</td>\n",
       "    </tr>\n",
       "    <tr>\n",
       "      <th>19482</th>\n",
       "      <td>2020-01-23</td>\n",
       "      <td>Washington</td>\n",
       "      <td>53</td>\n",
       "      <td>0</td>\n",
       "      <td>0</td>\n",
       "      <td>NaN</td>\n",
       "      <td>NaN</td>\n",
       "      <td>NaN</td>\n",
       "      <td>NaN</td>\n",
       "      <td>NaN</td>\n",
       "    </tr>\n",
       "    <tr>\n",
       "      <th>5684</th>\n",
       "      <td>2020-01-24</td>\n",
       "      <td>Illinois</td>\n",
       "      <td>17</td>\n",
       "      <td>1</td>\n",
       "      <td>0</td>\n",
       "      <td>NaN</td>\n",
       "      <td>NaN</td>\n",
       "      <td>NaN</td>\n",
       "      <td>NaN</td>\n",
       "      <td>NaN</td>\n",
       "    </tr>\n",
       "    <tr>\n",
       "      <th>19481</th>\n",
       "      <td>2020-01-24</td>\n",
       "      <td>Washington</td>\n",
       "      <td>53</td>\n",
       "      <td>0</td>\n",
       "      <td>0</td>\n",
       "      <td>NaN</td>\n",
       "      <td>NaN</td>\n",
       "      <td>NaN</td>\n",
       "      <td>NaN</td>\n",
       "      <td>NaN</td>\n",
       "    </tr>\n",
       "    <tr>\n",
       "      <th>...</th>\n",
       "      <td>...</td>\n",
       "      <td>...</td>\n",
       "      <td>...</td>\n",
       "      <td>...</td>\n",
       "      <td>...</td>\n",
       "      <td>...</td>\n",
       "      <td>...</td>\n",
       "      <td>...</td>\n",
       "      <td>...</td>\n",
       "      <td>...</td>\n",
       "    </tr>\n",
       "    <tr>\n",
       "      <th>20250</th>\n",
       "      <td>2021-03-13</td>\n",
       "      <td>Wyoming</td>\n",
       "      <td>56</td>\n",
       "      <td>0</td>\n",
       "      <td>0</td>\n",
       "      <td>0.0</td>\n",
       "      <td>4086.0</td>\n",
       "      <td>2945.0</td>\n",
       "      <td>4,085</td>\n",
       "      <td>0.000000</td>\n",
       "    </tr>\n",
       "    <tr>\n",
       "      <th>4168</th>\n",
       "      <td>2021-03-13</td>\n",
       "      <td>Guam</td>\n",
       "      <td>66</td>\n",
       "      <td>1</td>\n",
       "      <td>0</td>\n",
       "      <td>0.0</td>\n",
       "      <td>226.0</td>\n",
       "      <td>1440.0</td>\n",
       "      <td>1,272</td>\n",
       "      <td>-5.361115</td>\n",
       "    </tr>\n",
       "    <tr>\n",
       "      <th>13475</th>\n",
       "      <td>2021-03-13</td>\n",
       "      <td>Northern Mariana Islands</td>\n",
       "      <td>69</td>\n",
       "      <td>1</td>\n",
       "      <td>0</td>\n",
       "      <td>0.0</td>\n",
       "      <td>230.0</td>\n",
       "      <td>163.0</td>\n",
       "      <td>246</td>\n",
       "      <td>NaN</td>\n",
       "    </tr>\n",
       "    <tr>\n",
       "      <th>15319</th>\n",
       "      <td>2021-03-13</td>\n",
       "      <td>Puerto Rico</td>\n",
       "      <td>72</td>\n",
       "      <td>235</td>\n",
       "      <td>0</td>\n",
       "      <td>19550.0</td>\n",
       "      <td>32455.0</td>\n",
       "      <td>20400.0</td>\n",
       "      <td>19,615</td>\n",
       "      <td>0.000000</td>\n",
       "    </tr>\n",
       "    <tr>\n",
       "      <th>18330</th>\n",
       "      <td>2021-03-13</td>\n",
       "      <td>Virgin Islands</td>\n",
       "      <td>78</td>\n",
       "      <td>0</td>\n",
       "      <td>0</td>\n",
       "      <td>NaN</td>\n",
       "      <td>NaN</td>\n",
       "      <td>NaN</td>\n",
       "      <td>NaN</td>\n",
       "      <td>NaN</td>\n",
       "    </tr>\n",
       "  </tbody>\n",
       "</table>\n",
       "<p>20618 rows × 10 columns</p>\n",
       "</div>"
      ],
      "text/plain": [
       "            date                     state  fips  daily_cases  daily_deaths  \\\n",
       "19484 2020-01-21                Washington    53            1             0   \n",
       "19483 2020-01-22                Washington    53            0             0   \n",
       "19482 2020-01-23                Washington    53            0             0   \n",
       "5684  2020-01-24                  Illinois    17            1             0   \n",
       "19481 2020-01-24                Washington    53            0             0   \n",
       "...          ...                       ...   ...          ...           ...   \n",
       "20250 2021-03-13                   Wyoming    56            0             0   \n",
       "4168  2021-03-13                      Guam    66            1             0   \n",
       "13475 2021-03-13  Northern Mariana Islands    69            1             0   \n",
       "15319 2021-03-13               Puerto Rico    72          235             0   \n",
       "18330 2021-03-13            Virgin Islands    78            0             0   \n",
       "\n",
       "       daily_distributed  daily_people_vaccinated  \\\n",
       "19484                NaN                      NaN   \n",
       "19483                NaN                      NaN   \n",
       "19482                NaN                      NaN   \n",
       "5684                 NaN                      NaN   \n",
       "19481                NaN                      NaN   \n",
       "...                  ...                      ...   \n",
       "20250                0.0                   4086.0   \n",
       "4168                 0.0                    226.0   \n",
       "13475                0.0                    230.0   \n",
       "15319            19550.0                  32455.0   \n",
       "18330                NaN                      NaN   \n",
       "\n",
       "       daily_people_fully_vaccinated daily_vaccinations  mobility_composite  \n",
       "19484                            NaN                NaN                 NaN  \n",
       "19483                            NaN                NaN                 NaN  \n",
       "19482                            NaN                NaN                 NaN  \n",
       "5684                             NaN                NaN                 NaN  \n",
       "19481                            NaN                NaN                 NaN  \n",
       "...                              ...                ...                 ...  \n",
       "20250                         2945.0              4,085            0.000000  \n",
       "4168                          1440.0              1,272           -5.361115  \n",
       "13475                          163.0                246                 NaN  \n",
       "15319                        20400.0             19,615            0.000000  \n",
       "18330                            NaN                NaN                 NaN  \n",
       "\n",
       "[20618 rows x 10 columns]"
      ]
     },
     "execution_count": 9,
     "metadata": {},
     "output_type": "execute_result"
    }
   ],
   "source": [
    "# Set date to be datetime format and sort by date and fips\n",
    "df['date'] = pd.to_datetime(df.date)\n",
    "df = df.sort_values(by=['date', 'fips'], axis=0, ascending=True)\n",
    "df"
   ]
  },
  {
   "cell_type": "code",
   "execution_count": 10,
   "id": "a6675f3e-4cdc-4c46-80ab-f222d50a4f86",
   "metadata": {
    "colab": {
     "base_uri": "https://localhost:8080/",
     "height": 455
    },
    "executionInfo": {
     "elapsed": 46105,
     "status": "ok",
     "timestamp": 1619509200361,
     "user": {
      "displayName": "Sitiporn Saelim",
      "photoUrl": "",
      "userId": "04392232392828254116"
     },
     "user_tz": -420
    },
    "id": "a6675f3e-4cdc-4c46-80ab-f222d50a4f86",
    "outputId": "072e1c55-bd87-4a72-9cda-f177430f51e4"
   },
   "outputs": [
    {
     "data": {
      "text/html": [
       "<div>\n",
       "<style scoped>\n",
       "    .dataframe tbody tr th:only-of-type {\n",
       "        vertical-align: middle;\n",
       "    }\n",
       "\n",
       "    .dataframe tbody tr th {\n",
       "        vertical-align: top;\n",
       "    }\n",
       "\n",
       "    .dataframe thead th {\n",
       "        text-align: right;\n",
       "    }\n",
       "</style>\n",
       "<table border=\"1\" class=\"dataframe\">\n",
       "  <thead>\n",
       "    <tr style=\"text-align: right;\">\n",
       "      <th></th>\n",
       "      <th>state</th>\n",
       "      <th>fips</th>\n",
       "      <th>daily_cases</th>\n",
       "      <th>daily_deaths</th>\n",
       "      <th>daily_distributed</th>\n",
       "      <th>daily_people_vaccinated</th>\n",
       "      <th>daily_people_fully_vaccinated</th>\n",
       "      <th>daily_vaccinations</th>\n",
       "      <th>mobility_composite</th>\n",
       "    </tr>\n",
       "    <tr>\n",
       "      <th>date</th>\n",
       "      <th></th>\n",
       "      <th></th>\n",
       "      <th></th>\n",
       "      <th></th>\n",
       "      <th></th>\n",
       "      <th></th>\n",
       "      <th></th>\n",
       "      <th></th>\n",
       "      <th></th>\n",
       "    </tr>\n",
       "  </thead>\n",
       "  <tbody>\n",
       "    <tr>\n",
       "      <th>2020-01-25</th>\n",
       "      <td>California</td>\n",
       "      <td>6</td>\n",
       "      <td>1</td>\n",
       "      <td>0</td>\n",
       "      <td>NaN</td>\n",
       "      <td>NaN</td>\n",
       "      <td>NaN</td>\n",
       "      <td>NaN</td>\n",
       "      <td>NaN</td>\n",
       "    </tr>\n",
       "    <tr>\n",
       "      <th>2020-01-26</th>\n",
       "      <td>California</td>\n",
       "      <td>6</td>\n",
       "      <td>1</td>\n",
       "      <td>0</td>\n",
       "      <td>NaN</td>\n",
       "      <td>NaN</td>\n",
       "      <td>NaN</td>\n",
       "      <td>NaN</td>\n",
       "      <td>NaN</td>\n",
       "    </tr>\n",
       "    <tr>\n",
       "      <th>2020-01-27</th>\n",
       "      <td>California</td>\n",
       "      <td>6</td>\n",
       "      <td>0</td>\n",
       "      <td>0</td>\n",
       "      <td>NaN</td>\n",
       "      <td>NaN</td>\n",
       "      <td>NaN</td>\n",
       "      <td>NaN</td>\n",
       "      <td>NaN</td>\n",
       "    </tr>\n",
       "    <tr>\n",
       "      <th>2020-01-28</th>\n",
       "      <td>California</td>\n",
       "      <td>6</td>\n",
       "      <td>0</td>\n",
       "      <td>0</td>\n",
       "      <td>NaN</td>\n",
       "      <td>NaN</td>\n",
       "      <td>NaN</td>\n",
       "      <td>NaN</td>\n",
       "      <td>NaN</td>\n",
       "    </tr>\n",
       "    <tr>\n",
       "      <th>2020-01-29</th>\n",
       "      <td>California</td>\n",
       "      <td>6</td>\n",
       "      <td>0</td>\n",
       "      <td>0</td>\n",
       "      <td>NaN</td>\n",
       "      <td>NaN</td>\n",
       "      <td>NaN</td>\n",
       "      <td>NaN</td>\n",
       "      <td>NaN</td>\n",
       "    </tr>\n",
       "    <tr>\n",
       "      <th>...</th>\n",
       "      <td>...</td>\n",
       "      <td>...</td>\n",
       "      <td>...</td>\n",
       "      <td>...</td>\n",
       "      <td>...</td>\n",
       "      <td>...</td>\n",
       "      <td>...</td>\n",
       "      <td>...</td>\n",
       "      <td>...</td>\n",
       "    </tr>\n",
       "    <tr>\n",
       "      <th>2021-03-09</th>\n",
       "      <td>California</td>\n",
       "      <td>6</td>\n",
       "      <td>4131</td>\n",
       "      <td>243</td>\n",
       "      <td>1162100.0</td>\n",
       "      <td>82138.0</td>\n",
       "      <td>37820.0</td>\n",
       "      <td>204,065</td>\n",
       "      <td>-32.197826</td>\n",
       "    </tr>\n",
       "    <tr>\n",
       "      <th>2021-03-10</th>\n",
       "      <td>California</td>\n",
       "      <td>6</td>\n",
       "      <td>3464</td>\n",
       "      <td>257</td>\n",
       "      <td>254140.0</td>\n",
       "      <td>96767.0</td>\n",
       "      <td>40388.0</td>\n",
       "      <td>190,191</td>\n",
       "      <td>-32.197826</td>\n",
       "    </tr>\n",
       "    <tr>\n",
       "      <th>2021-03-11</th>\n",
       "      <td>California</td>\n",
       "      <td>6</td>\n",
       "      <td>3560</td>\n",
       "      <td>255</td>\n",
       "      <td>424380.0</td>\n",
       "      <td>103215.0</td>\n",
       "      <td>56316.0</td>\n",
       "      <td>194,328</td>\n",
       "      <td>-32.197826</td>\n",
       "    </tr>\n",
       "    <tr>\n",
       "      <th>2021-03-12</th>\n",
       "      <td>California</td>\n",
       "      <td>6</td>\n",
       "      <td>2304</td>\n",
       "      <td>204</td>\n",
       "      <td>331560.0</td>\n",
       "      <td>138703.0</td>\n",
       "      <td>73249.0</td>\n",
       "      <td>193,794</td>\n",
       "      <td>-32.197826</td>\n",
       "    </tr>\n",
       "    <tr>\n",
       "      <th>2021-03-13</th>\n",
       "      <td>California</td>\n",
       "      <td>6</td>\n",
       "      <td>3741</td>\n",
       "      <td>1013</td>\n",
       "      <td>318720.0</td>\n",
       "      <td>286615.0</td>\n",
       "      <td>204447.0</td>\n",
       "      <td>209,548</td>\n",
       "      <td>-32.197826</td>\n",
       "    </tr>\n",
       "  </tbody>\n",
       "</table>\n",
       "<p>414 rows × 9 columns</p>\n",
       "</div>"
      ],
      "text/plain": [
       "                 state  fips  daily_cases  daily_deaths  daily_distributed  \\\n",
       "date                                                                         \n",
       "2020-01-25  California     6            1             0                NaN   \n",
       "2020-01-26  California     6            1             0                NaN   \n",
       "2020-01-27  California     6            0             0                NaN   \n",
       "2020-01-28  California     6            0             0                NaN   \n",
       "2020-01-29  California     6            0             0                NaN   \n",
       "...                ...   ...          ...           ...                ...   \n",
       "2021-03-09  California     6         4131           243          1162100.0   \n",
       "2021-03-10  California     6         3464           257           254140.0   \n",
       "2021-03-11  California     6         3560           255           424380.0   \n",
       "2021-03-12  California     6         2304           204           331560.0   \n",
       "2021-03-13  California     6         3741          1013           318720.0   \n",
       "\n",
       "            daily_people_vaccinated  daily_people_fully_vaccinated  \\\n",
       "date                                                                 \n",
       "2020-01-25                      NaN                            NaN   \n",
       "2020-01-26                      NaN                            NaN   \n",
       "2020-01-27                      NaN                            NaN   \n",
       "2020-01-28                      NaN                            NaN   \n",
       "2020-01-29                      NaN                            NaN   \n",
       "...                             ...                            ...   \n",
       "2021-03-09                  82138.0                        37820.0   \n",
       "2021-03-10                  96767.0                        40388.0   \n",
       "2021-03-11                 103215.0                        56316.0   \n",
       "2021-03-12                 138703.0                        73249.0   \n",
       "2021-03-13                 286615.0                       204447.0   \n",
       "\n",
       "           daily_vaccinations  mobility_composite  \n",
       "date                                               \n",
       "2020-01-25                NaN                 NaN  \n",
       "2020-01-26                NaN                 NaN  \n",
       "2020-01-27                NaN                 NaN  \n",
       "2020-01-28                NaN                 NaN  \n",
       "2020-01-29                NaN                 NaN  \n",
       "...                       ...                 ...  \n",
       "2021-03-09            204,065          -32.197826  \n",
       "2021-03-10            190,191          -32.197826  \n",
       "2021-03-11            194,328          -32.197826  \n",
       "2021-03-12            193,794          -32.197826  \n",
       "2021-03-13            209,548          -32.197826  \n",
       "\n",
       "[414 rows x 9 columns]"
      ]
     },
     "execution_count": 10,
     "metadata": {},
     "output_type": "execute_result"
    }
   ],
   "source": [
    "df_clean = df[df.state == STATE]\n",
    "df_clean = df_clean.set_index('date')\n",
    "df_clean"
   ]
  },
  {
   "cell_type": "code",
   "execution_count": 11,
   "id": "a8eccf57-7c24-4496-b2fa-2af17ebf8f28",
   "metadata": {
    "colab": {
     "base_uri": "https://localhost:8080/"
    },
    "executionInfo": {
     "elapsed": 46101,
     "status": "ok",
     "timestamp": 1619509200363,
     "user": {
      "displayName": "Sitiporn Saelim",
      "photoUrl": "",
      "userId": "04392232392828254116"
     },
     "user_tz": -420
    },
    "id": "a8eccf57-7c24-4496-b2fa-2af17ebf8f28",
    "outputId": "7fa3dcff-6ae6-423b-eab1-542e1e601795"
   },
   "outputs": [
    {
     "data": {
      "text/plain": [
       "(378, 1)"
      ]
     },
     "execution_count": 11,
     "metadata": {},
     "output_type": "execute_result"
    }
   ],
   "source": [
    "rmlabels=['state', 'fips', 'daily_deaths', 'daily_distributed','daily_people_vaccinated', 'daily_people_fully_vaccinated',\n",
    "          'daily_vaccinations', 'mobility_composite']\n",
    "df_clean = df_clean.drop(labels=rmlabels, axis=1)\n",
    "df_clean = df_clean.iloc[df_clean.shape[0]-378:]\n",
    "df_clean.shape"
   ]
  },
  {
   "cell_type": "code",
   "execution_count": 12,
   "id": "c201a119-d9fa-4518-abef-46b721091fb8",
   "metadata": {
    "colab": {
     "base_uri": "https://localhost:8080/",
     "height": 324
    },
    "executionInfo": {
     "elapsed": 46924,
     "status": "ok",
     "timestamp": 1619509201196,
     "user": {
      "displayName": "Sitiporn Saelim",
      "photoUrl": "",
      "userId": "04392232392828254116"
     },
     "user_tz": -420
    },
    "id": "c201a119-d9fa-4518-abef-46b721091fb8",
    "outputId": "9e0a18be-bc92-49d7-8de0-384963febafe"
   },
   "outputs": [
    {
     "data": {
      "text/plain": [
       "<matplotlib.axes._subplots.AxesSubplot at 0x7fea9d884ef0>"
      ]
     },
     "execution_count": 12,
     "metadata": {},
     "output_type": "execute_result"
    },
    {
     "data": {
      "image/png": "[encoded data removed]",
      "text/plain": [
       "<matplotlib.figure.Figure at 0x7fea9d884518>"
      ]
     },
     "metadata": {
      "needs_background": "light"
     },
     "output_type": "display_data"
    }
   ],
   "source": [
    "df_clean.plot(title=f\"Daily cases :{STATE}\")"
   ]
  },
  {
   "cell_type": "code",
   "execution_count": 13,
   "id": "23c4f150-3637-4570-adb3-6b5f40617af6",
   "metadata": {
    "colab": {
     "base_uri": "https://localhost:8080/",
     "height": 206
    },
    "executionInfo": {
     "elapsed": 46917,
     "status": "ok",
     "timestamp": 1619509201196,
     "user": {
      "displayName": "Sitiporn Saelim",
      "photoUrl": "",
      "userId": "04392232392828254116"
     },
     "user_tz": -420
    },
    "id": "23c4f150-3637-4570-adb3-6b5f40617af6",
    "outputId": "8358c33b-8cd9-4df1-f937-d9ad57e69578"
   },
   "outputs": [
    {
     "data": {
      "text/html": [
       "<div>\n",
       "<style scoped>\n",
       "    .dataframe tbody tr th:only-of-type {\n",
       "        vertical-align: middle;\n",
       "    }\n",
       "\n",
       "    .dataframe tbody tr th {\n",
       "        vertical-align: top;\n",
       "    }\n",
       "\n",
       "    .dataframe thead th {\n",
       "        text-align: right;\n",
       "    }\n",
       "</style>\n",
       "<table border=\"1\" class=\"dataframe\">\n",
       "  <thead>\n",
       "    <tr style=\"text-align: right;\">\n",
       "      <th></th>\n",
       "      <th>date</th>\n",
       "      <th>state</th>\n",
       "      <th>fips</th>\n",
       "      <th>daily_cases</th>\n",
       "      <th>daily_deaths</th>\n",
       "      <th>daily_distributed</th>\n",
       "      <th>daily_people_vaccinated</th>\n",
       "      <th>daily_people_fully_vaccinated</th>\n",
       "      <th>daily_vaccinations</th>\n",
       "      <th>mobility_composite</th>\n",
       "    </tr>\n",
       "  </thead>\n",
       "  <tbody>\n",
       "    <tr>\n",
       "      <th>19484</th>\n",
       "      <td>2020-01-21</td>\n",
       "      <td>Washington</td>\n",
       "      <td>53</td>\n",
       "      <td>1</td>\n",
       "      <td>0</td>\n",
       "      <td>NaN</td>\n",
       "      <td>NaN</td>\n",
       "      <td>NaN</td>\n",
       "      <td>NaN</td>\n",
       "      <td>NaN</td>\n",
       "    </tr>\n",
       "    <tr>\n",
       "      <th>19483</th>\n",
       "      <td>2020-01-22</td>\n",
       "      <td>Washington</td>\n",
       "      <td>53</td>\n",
       "      <td>0</td>\n",
       "      <td>0</td>\n",
       "      <td>NaN</td>\n",
       "      <td>NaN</td>\n",
       "      <td>NaN</td>\n",
       "      <td>NaN</td>\n",
       "      <td>NaN</td>\n",
       "    </tr>\n",
       "    <tr>\n",
       "      <th>19482</th>\n",
       "      <td>2020-01-23</td>\n",
       "      <td>Washington</td>\n",
       "      <td>53</td>\n",
       "      <td>0</td>\n",
       "      <td>0</td>\n",
       "      <td>NaN</td>\n",
       "      <td>NaN</td>\n",
       "      <td>NaN</td>\n",
       "      <td>NaN</td>\n",
       "      <td>NaN</td>\n",
       "    </tr>\n",
       "    <tr>\n",
       "      <th>5684</th>\n",
       "      <td>2020-01-24</td>\n",
       "      <td>Illinois</td>\n",
       "      <td>17</td>\n",
       "      <td>1</td>\n",
       "      <td>0</td>\n",
       "      <td>NaN</td>\n",
       "      <td>NaN</td>\n",
       "      <td>NaN</td>\n",
       "      <td>NaN</td>\n",
       "      <td>NaN</td>\n",
       "    </tr>\n",
       "    <tr>\n",
       "      <th>19481</th>\n",
       "      <td>2020-01-24</td>\n",
       "      <td>Washington</td>\n",
       "      <td>53</td>\n",
       "      <td>0</td>\n",
       "      <td>0</td>\n",
       "      <td>NaN</td>\n",
       "      <td>NaN</td>\n",
       "      <td>NaN</td>\n",
       "      <td>NaN</td>\n",
       "      <td>NaN</td>\n",
       "    </tr>\n",
       "  </tbody>\n",
       "</table>\n",
       "</div>"
      ],
      "text/plain": [
       "            date       state  fips  daily_cases  daily_deaths  \\\n",
       "19484 2020-01-21  Washington    53            1             0   \n",
       "19483 2020-01-22  Washington    53            0             0   \n",
       "19482 2020-01-23  Washington    53            0             0   \n",
       "5684  2020-01-24    Illinois    17            1             0   \n",
       "19481 2020-01-24  Washington    53            0             0   \n",
       "\n",
       "       daily_distributed  daily_people_vaccinated  \\\n",
       "19484                NaN                      NaN   \n",
       "19483                NaN                      NaN   \n",
       "19482                NaN                      NaN   \n",
       "5684                 NaN                      NaN   \n",
       "19481                NaN                      NaN   \n",
       "\n",
       "       daily_people_fully_vaccinated daily_vaccinations  mobility_composite  \n",
       "19484                            NaN                NaN                 NaN  \n",
       "19483                            NaN                NaN                 NaN  \n",
       "19482                            NaN                NaN                 NaN  \n",
       "5684                             NaN                NaN                 NaN  \n",
       "19481                            NaN                NaN                 NaN  "
      ]
     },
     "execution_count": 13,
     "metadata": {},
     "output_type": "execute_result"
    }
   ],
   "source": [
    "df.head()"
   ]
  },
  {
   "cell_type": "code",
   "execution_count": 14,
   "id": "e8f7a48d-81a7-4b17-aedb-5923ffcbe32f",
   "metadata": {
    "executionInfo": {
     "elapsed": 46916,
     "status": "ok",
     "timestamp": 1619509201197,
     "user": {
      "displayName": "Sitiporn Saelim",
      "photoUrl": "",
      "userId": "04392232392828254116"
     },
     "user_tz": -420
    },
    "id": "e8f7a48d-81a7-4b17-aedb-5923ffcbe32f"
   },
   "outputs": [],
   "source": [
    "df_state = df[df.state == STATE]"
   ]
  },
  {
   "cell_type": "code",
   "execution_count": 15,
   "id": "db9e99af-23dc-4e4e-a124-92d83a36d885",
   "metadata": {
    "colab": {
     "base_uri": "https://localhost:8080/",
     "height": 408
    },
    "executionInfo": {
     "elapsed": 47772,
     "status": "ok",
     "timestamp": 1619509202061,
     "user": {
      "displayName": "Sitiporn Saelim",
      "photoUrl": "",
      "userId": "04392232392828254116"
     },
     "user_tz": -420
    },
    "id": "db9e99af-23dc-4e4e-a124-92d83a36d885",
    "outputId": "0ba43519-6419-485a-f90b-ea123d762d7d"
   },
   "outputs": [
    {
     "data": {
      "image/png": "[encoded data removed]",
      "text/plain": [
       "<matplotlib.figure.Figure at 0x7fea9d789ba8>"
      ]
     },
     "metadata": {
      "needs_background": "light"
     },
     "output_type": "display_data"
    }
   ],
   "source": [
    "import pandas as pd\n",
    "import seaborn as sn\n",
    "import matplotlib.pyplot as plt\n",
    "\n",
    "corrMatrix = df_state.corr()\n",
    "sn.heatmap(corrMatrix, annot=True)\n",
    "plt.show()"
   ]
  },
  {
   "cell_type": "markdown",
   "id": "6662892c-7d17-4a48-a17c-83731bd9759e",
   "metadata": {
    "id": "6662892c-7d17-4a48-a17c-83731bd9759e"
   },
   "source": [
    "### select the high correlation to be our factors"
   ]
  },
  {
   "cell_type": "markdown",
   "id": "a276e2d6-9e04-4b58-955b-a4631b50d829",
   "metadata": {
    "id": "a276e2d6-9e04-4b58-955b-a4631b50d829"
   },
   "source": [
    "- daily death\n",
    "- daily people vacinated \n",
    "- daily_distibuted  \n",
    "- daily case "
   ]
  },
  {
   "cell_type": "code",
   "execution_count": 16,
   "id": "d6229abd-17d0-4e2b-b303-f4e2044f5079",
   "metadata": {
    "colab": {
     "base_uri": "https://localhost:8080/"
    },
    "executionInfo": {
     "elapsed": 47768,
     "status": "ok",
     "timestamp": 1619509202062,
     "user": {
      "displayName": "Sitiporn Saelim",
      "photoUrl": "",
      "userId": "04392232392828254116"
     },
     "user_tz": -420
    },
    "id": "d6229abd-17d0-4e2b-b303-f4e2044f5079",
    "outputId": "7c9c1a5f-eb10-40df-ba25-ae5f3f2cfc59"
   },
   "outputs": [
    {
     "data": {
      "text/plain": [
       "Index(['date', 'state', 'fips', 'daily_cases', 'daily_deaths',\n",
       "       'daily_distributed', 'daily_people_vaccinated',\n",
       "       'daily_people_fully_vaccinated', 'daily_vaccinations',\n",
       "       'mobility_composite'],\n",
       "      dtype='object')"
      ]
     },
     "execution_count": 16,
     "metadata": {},
     "output_type": "execute_result"
    }
   ],
   "source": [
    "df_state.columns"
   ]
  },
  {
   "cell_type": "code",
   "execution_count": 17,
   "id": "39b13fd3-a58b-476e-9bdd-65c1f96f8311",
   "metadata": {
    "executionInfo": {
     "elapsed": 47765,
     "status": "ok",
     "timestamp": 1619509202062,
     "user": {
      "displayName": "Sitiporn Saelim",
      "photoUrl": "",
      "userId": "04392232392828254116"
     },
     "user_tz": -420
    },
    "id": "39b13fd3-a58b-476e-9bdd-65c1f96f8311"
   },
   "outputs": [],
   "source": [
    "df_state = df_state.set_index('date') "
   ]
  },
  {
   "cell_type": "code",
   "execution_count": 18,
   "id": "598184b0-4082-404b-9b4d-3729f6297e39",
   "metadata": {
    "colab": {
     "base_uri": "https://localhost:8080/",
     "height": 0
    },
    "executionInfo": {
     "elapsed": 47758,
     "status": "ok",
     "timestamp": 1619509202063,
     "user": {
      "displayName": "Sitiporn Saelim",
      "photoUrl": "",
      "userId": "04392232392828254116"
     },
     "user_tz": -420
    },
    "id": "598184b0-4082-404b-9b4d-3729f6297e39",
    "outputId": "7255bf5b-fbb9-416f-bea6-b833636a8c77"
   },
   "outputs": [
    {
     "data": {
      "text/html": [
       "<div>\n",
       "<style scoped>\n",
       "    .dataframe tbody tr th:only-of-type {\n",
       "        vertical-align: middle;\n",
       "    }\n",
       "\n",
       "    .dataframe tbody tr th {\n",
       "        vertical-align: top;\n",
       "    }\n",
       "\n",
       "    .dataframe thead th {\n",
       "        text-align: right;\n",
       "    }\n",
       "</style>\n",
       "<table border=\"1\" class=\"dataframe\">\n",
       "  <thead>\n",
       "    <tr style=\"text-align: right;\">\n",
       "      <th></th>\n",
       "      <th>state</th>\n",
       "      <th>fips</th>\n",
       "      <th>daily_cases</th>\n",
       "      <th>daily_deaths</th>\n",
       "      <th>daily_distributed</th>\n",
       "      <th>daily_people_vaccinated</th>\n",
       "      <th>daily_people_fully_vaccinated</th>\n",
       "      <th>daily_vaccinations</th>\n",
       "      <th>mobility_composite</th>\n",
       "    </tr>\n",
       "    <tr>\n",
       "      <th>date</th>\n",
       "      <th></th>\n",
       "      <th></th>\n",
       "      <th></th>\n",
       "      <th></th>\n",
       "      <th></th>\n",
       "      <th></th>\n",
       "      <th></th>\n",
       "      <th></th>\n",
       "      <th></th>\n",
       "    </tr>\n",
       "  </thead>\n",
       "  <tbody>\n",
       "    <tr>\n",
       "      <th>2020-01-25</th>\n",
       "      <td>California</td>\n",
       "      <td>6</td>\n",
       "      <td>1</td>\n",
       "      <td>0</td>\n",
       "      <td>NaN</td>\n",
       "      <td>NaN</td>\n",
       "      <td>NaN</td>\n",
       "      <td>NaN</td>\n",
       "      <td>NaN</td>\n",
       "    </tr>\n",
       "    <tr>\n",
       "      <th>2020-01-26</th>\n",
       "      <td>California</td>\n",
       "      <td>6</td>\n",
       "      <td>1</td>\n",
       "      <td>0</td>\n",
       "      <td>NaN</td>\n",
       "      <td>NaN</td>\n",
       "      <td>NaN</td>\n",
       "      <td>NaN</td>\n",
       "      <td>NaN</td>\n",
       "    </tr>\n",
       "    <tr>\n",
       "      <th>2020-01-27</th>\n",
       "      <td>California</td>\n",
       "      <td>6</td>\n",
       "      <td>0</td>\n",
       "      <td>0</td>\n",
       "      <td>NaN</td>\n",
       "      <td>NaN</td>\n",
       "      <td>NaN</td>\n",
       "      <td>NaN</td>\n",
       "      <td>NaN</td>\n",
       "    </tr>\n",
       "    <tr>\n",
       "      <th>2020-01-28</th>\n",
       "      <td>California</td>\n",
       "      <td>6</td>\n",
       "      <td>0</td>\n",
       "      <td>0</td>\n",
       "      <td>NaN</td>\n",
       "      <td>NaN</td>\n",
       "      <td>NaN</td>\n",
       "      <td>NaN</td>\n",
       "      <td>NaN</td>\n",
       "    </tr>\n",
       "    <tr>\n",
       "      <th>2020-01-29</th>\n",
       "      <td>California</td>\n",
       "      <td>6</td>\n",
       "      <td>0</td>\n",
       "      <td>0</td>\n",
       "      <td>NaN</td>\n",
       "      <td>NaN</td>\n",
       "      <td>NaN</td>\n",
       "      <td>NaN</td>\n",
       "      <td>NaN</td>\n",
       "    </tr>\n",
       "  </tbody>\n",
       "</table>\n",
       "</div>"
      ],
      "text/plain": [
       "                 state  fips  daily_cases  daily_deaths  daily_distributed  \\\n",
       "date                                                                         \n",
       "2020-01-25  California     6            1             0                NaN   \n",
       "2020-01-26  California     6            1             0                NaN   \n",
       "2020-01-27  California     6            0             0                NaN   \n",
       "2020-01-28  California     6            0             0                NaN   \n",
       "2020-01-29  California     6            0             0                NaN   \n",
       "\n",
       "            daily_people_vaccinated  daily_people_fully_vaccinated  \\\n",
       "date                                                                 \n",
       "2020-01-25                      NaN                            NaN   \n",
       "2020-01-26                      NaN                            NaN   \n",
       "2020-01-27                      NaN                            NaN   \n",
       "2020-01-28                      NaN                            NaN   \n",
       "2020-01-29                      NaN                            NaN   \n",
       "\n",
       "           daily_vaccinations  mobility_composite  \n",
       "date                                               \n",
       "2020-01-25                NaN                 NaN  \n",
       "2020-01-26                NaN                 NaN  \n",
       "2020-01-27                NaN                 NaN  \n",
       "2020-01-28                NaN                 NaN  \n",
       "2020-01-29                NaN                 NaN  "
      ]
     },
     "execution_count": 18,
     "metadata": {},
     "output_type": "execute_result"
    }
   ],
   "source": [
    "df_state.head()"
   ]
  },
  {
   "cell_type": "code",
   "execution_count": 19,
   "id": "2bd8ef7b-99ba-4c1f-8c67-df4bf7ead2b7",
   "metadata": {
    "executionInfo": {
     "elapsed": 47757,
     "status": "ok",
     "timestamp": 1619509202063,
     "user": {
      "displayName": "Sitiporn Saelim",
      "photoUrl": "",
      "userId": "04392232392828254116"
     },
     "user_tz": -420
    },
    "id": "2bd8ef7b-99ba-4c1f-8c67-df4bf7ead2b7"
   },
   "outputs": [],
   "source": [
    "df_state = df_state.drop(['state', 'fips',\n",
    "       'daily_people_vaccinated',\n",
    "       'daily_people_fully_vaccinated',\n",
    "       'mobility_composite'], axis=1)"
   ]
  },
  {
   "cell_type": "code",
   "execution_count": 20,
   "id": "8f2c8249-9da1-4cf9-b176-b70aa3610b4f",
   "metadata": {
    "colab": {
     "base_uri": "https://localhost:8080/"
    },
    "executionInfo": {
     "elapsed": 47752,
     "status": "ok",
     "timestamp": 1619509202064,
     "user": {
      "displayName": "Sitiporn Saelim",
      "photoUrl": "",
      "userId": "04392232392828254116"
     },
     "user_tz": -420
    },
    "id": "8f2c8249-9da1-4cf9-b176-b70aa3610b4f",
    "outputId": "e9d93a03-a9ba-4903-923e-2b06246f86fb"
   },
   "outputs": [
    {
     "name": "stdout",
     "output_type": "stream",
     "text": [
      "<class 'pandas.core.frame.DataFrame'>\n",
      "DatetimeIndex: 414 entries, 2020-01-25 to 2021-03-13\n",
      "Data columns (total 4 columns):\n",
      " #   Column              Non-Null Count  Dtype  \n",
      "---  ------              --------------  -----  \n",
      " 0   daily_cases         414 non-null    int64  \n",
      " 1   daily_deaths        414 non-null    int64  \n",
      " 2   daily_distributed   72 non-null     float64\n",
      " 3   daily_vaccinations  72 non-null     object \n",
      "dtypes: float64(1), int64(2), object(1)\n",
      "memory usage: 16.2+ KB\n"
     ]
    }
   ],
   "source": [
    "df_state.info()"
   ]
  },
  {
   "cell_type": "code",
   "execution_count": 21,
   "id": "d02afb67-eb2f-4da9-a7ab-75c97cc2cb93",
   "metadata": {
    "executionInfo": {
     "elapsed": 47751,
     "status": "ok",
     "timestamp": 1619509202066,
     "user": {
      "displayName": "Sitiporn Saelim",
      "photoUrl": "",
      "userId": "04392232392828254116"
     },
     "user_tz": -420
    },
    "id": "d02afb67-eb2f-4da9-a7ab-75c97cc2cb93"
   },
   "outputs": [],
   "source": [
    "df_state_clean = df_state.dropna()"
   ]
  },
  {
   "cell_type": "code",
   "execution_count": 22,
   "id": "066ceb35-f5b7-47d2-ac4a-d36f27214d34",
   "metadata": {
    "executionInfo": {
     "elapsed": 47749,
     "status": "ok",
     "timestamp": 1619509202066,
     "user": {
      "displayName": "Sitiporn Saelim",
      "photoUrl": "",
      "userId": "04392232392828254116"
     },
     "user_tz": -420
    },
    "id": "066ceb35-f5b7-47d2-ac4a-d36f27214d34"
   },
   "outputs": [],
   "source": [
    "df_state_clean = df_state_clean.replace(',','', regex=True)"
   ]
  },
  {
   "cell_type": "code",
   "execution_count": 23,
   "id": "3f9c5ecd-cbe0-45a4-9c6c-a9323ca98203",
   "metadata": {
    "colab": {
     "base_uri": "https://localhost:8080/"
    },
    "executionInfo": {
     "elapsed": 47745,
     "status": "ok",
     "timestamp": 1619509202067,
     "user": {
      "displayName": "Sitiporn Saelim",
      "photoUrl": "",
      "userId": "04392232392828254116"
     },
     "user_tz": -420
    },
    "id": "3f9c5ecd-cbe0-45a4-9c6c-a9323ca98203",
    "outputId": "645fa38f-de1c-4c93-a772-172fe2fa9511"
   },
   "outputs": [
    {
     "data": {
      "text/plain": [
       "(72, 4)"
      ]
     },
     "execution_count": 23,
     "metadata": {},
     "output_type": "execute_result"
    }
   ],
   "source": [
    "df_state_clean.shape"
   ]
  },
  {
   "cell_type": "code",
   "execution_count": 24,
   "id": "ae9bb82b-3168-4ac9-be30-f19c39c8ace6",
   "metadata": {
    "colab": {
     "base_uri": "https://localhost:8080/"
    },
    "executionInfo": {
     "elapsed": 47742,
     "status": "ok",
     "timestamp": 1619509202068,
     "user": {
      "displayName": "Sitiporn Saelim",
      "photoUrl": "",
      "userId": "04392232392828254116"
     },
     "user_tz": -420
    },
    "id": "ae9bb82b-3168-4ac9-be30-f19c39c8ace6",
    "outputId": "3c456f74-a3eb-4639-f54e-d955a4425280"
   },
   "outputs": [
    {
     "name": "stdout",
     "output_type": "stream",
     "text": [
      "<class 'pandas.core.frame.DataFrame'>\n",
      "DatetimeIndex: 72 entries, 2021-01-01 to 2021-03-13\n",
      "Data columns (total 4 columns):\n",
      " #   Column              Non-Null Count  Dtype  \n",
      "---  ------              --------------  -----  \n",
      " 0   daily_cases         72 non-null     int64  \n",
      " 1   daily_deaths        72 non-null     int64  \n",
      " 2   daily_distributed   72 non-null     float64\n",
      " 3   daily_vaccinations  72 non-null     object \n",
      "dtypes: float64(1), int64(2), object(1)\n",
      "memory usage: 2.8+ KB\n"
     ]
    }
   ],
   "source": [
    "df_state_clean.info()"
   ]
  },
  {
   "cell_type": "code",
   "execution_count": 25,
   "id": "c2a67ca0-bb2c-45ba-ad06-818b775b284f",
   "metadata": {
    "colab": {
     "base_uri": "https://localhost:8080/"
    },
    "executionInfo": {
     "elapsed": 47739,
     "status": "ok",
     "timestamp": 1619509202069,
     "user": {
      "displayName": "Sitiporn Saelim",
      "photoUrl": "",
      "userId": "04392232392828254116"
     },
     "user_tz": -420
    },
    "id": "c2a67ca0-bb2c-45ba-ad06-818b775b284f",
    "outputId": "4271289a-2c33-49c2-a104-452e25cc4c93"
   },
   "outputs": [
    {
     "data": {
      "text/plain": [
       "(72, 4)"
      ]
     },
     "execution_count": 25,
     "metadata": {},
     "output_type": "execute_result"
    }
   ],
   "source": [
    "df_state_clean.shape"
   ]
  },
  {
   "cell_type": "markdown",
   "id": "41e6cf0c-dc31-46f8-9fb7-58a5f722b13d",
   "metadata": {
    "id": "41e6cf0c-dc31-46f8-9fb7-58a5f722b13d"
   },
   "source": [
    "## DATA Shape\n",
    "- (batch_size,data point,channel)\n",
    "\n",
    "### For CNN shape\n",
    "- Shape:\n",
    "        Input:(batch_size,channel, data point)\n",
    "        "
   ]
  },
  {
   "cell_type": "code",
   "execution_count": 26,
   "id": "6c184b07-5c84-4dfc-83c8-3ee084b21dc0",
   "metadata": {
    "colab": {
     "base_uri": "https://localhost:8080/",
     "height": 324
    },
    "executionInfo": {
     "elapsed": 48420,
     "status": "ok",
     "timestamp": 1619509202757,
     "user": {
      "displayName": "Sitiporn Saelim",
      "photoUrl": "",
      "userId": "04392232392828254116"
     },
     "user_tz": -420
    },
    "id": "6c184b07-5c84-4dfc-83c8-3ee084b21dc0",
    "outputId": "35504cc1-7940-43e1-d655-94fe842d11d4"
   },
   "outputs": [
    {
     "data": {
      "text/plain": [
       "<matplotlib.axes._subplots.AxesSubplot at 0x7fea9d748668>"
      ]
     },
     "execution_count": 26,
     "metadata": {},
     "output_type": "execute_result"
    },
    {
     "data": {
      "image/png": "[encoded data removed]",
      "text/plain": [
       "<matplotlib.figure.Figure at 0x7fea9ce02198>"
      ]
     },
     "metadata": {
      "needs_background": "light"
     },
     "output_type": "display_data"
    }
   ],
   "source": [
    "df_clean.plot(title=f\"Daily cases :{STATE}\")"
   ]
  },
  {
   "cell_type": "code",
   "execution_count": 27,
   "id": "ebbadcba-a484-49b3-93cd-4ecab2707ab3",
   "metadata": {
    "colab": {
     "base_uri": "https://localhost:8080/"
    },
    "executionInfo": {
     "elapsed": 48417,
     "status": "ok",
     "timestamp": 1619509202758,
     "user": {
      "displayName": "Sitiporn Saelim",
      "photoUrl": "",
      "userId": "04392232392828254116"
     },
     "user_tz": -420
    },
    "id": "ebbadcba-a484-49b3-93cd-4ecab2707ab3",
    "outputId": "751c2aaa-be95-4157-fa04-b312945935af"
   },
   "outputs": [
    {
     "data": {
      "text/plain": [
       "378"
      ]
     },
     "execution_count": 27,
     "metadata": {},
     "output_type": "execute_result"
    }
   ],
   "source": [
    "df_clean.shape[0]"
   ]
  },
  {
   "cell_type": "code",
   "execution_count": 28,
   "id": "3c12e985-d837-4f1d-994f-09c7549ee47a",
   "metadata": {
    "colab": {
     "base_uri": "https://localhost:8080/"
    },
    "executionInfo": {
     "elapsed": 48412,
     "status": "ok",
     "timestamp": 1619509202759,
     "user": {
      "displayName": "Sitiporn Saelim",
      "photoUrl": "",
      "userId": "04392232392828254116"
     },
     "user_tz": -420
    },
    "id": "3c12e985-d837-4f1d-994f-09c7549ee47a",
    "outputId": "fc0addb9-0af3-44f0-b2bb-820a75893e2f"
   },
   "outputs": [
    {
     "data": {
      "text/plain": [
       "((302, 1), (76, 1))"
      ]
     },
     "execution_count": 28,
     "metadata": {},
     "output_type": "execute_result"
    }
   ],
   "source": [
    "train_data = df_clean.iloc[:int(len(df_clean)*0.8)]\n",
    "test_data = df_clean.iloc[int(len(df_clean)*0.8):]\n",
    "\n",
    "# train_data = np.expand_dims(train_data, axis=1)\n",
    "# test_data = np.expand_dims(test_data, axis=1)\n",
    "\n",
    "train_data.shape, test_data.shape "
   ]
  },
  {
   "cell_type": "code",
   "execution_count": 29,
   "id": "9f83ef7b-d478-42f6-ae8e-f5c3a3a8239f",
   "metadata": {
    "executionInfo": {
     "elapsed": 48410,
     "status": "ok",
     "timestamp": 1619509202760,
     "user": {
      "displayName": "Sitiporn Saelim",
      "photoUrl": "",
      "userId": "04392232392828254116"
     },
     "user_tz": -420
    },
    "id": "9f83ef7b-d478-42f6-ae8e-f5c3a3a8239f"
   },
   "outputs": [],
   "source": [
    "# scaler = MinMaxScaler()\n",
    "scaler = StandardScaler()\n",
    "\n",
    "scaler = scaler.fit(train_data)\n",
    "\n",
    "train_data = scaler.transform(train_data)\n",
    "\n",
    "test_data = scaler.transform(test_data)"
   ]
  },
  {
   "cell_type": "code",
   "execution_count": 30,
   "id": "15532477-1a0e-44c2-a270-128a09cefaab",
   "metadata": {
    "executionInfo": {
     "elapsed": 48407,
     "status": "ok",
     "timestamp": 1619509202761,
     "user": {
      "displayName": "Sitiporn Saelim",
      "photoUrl": "",
      "userId": "04392232392828254116"
     },
     "user_tz": -420
    },
    "id": "15532477-1a0e-44c2-a270-128a09cefaab"
   },
   "outputs": [],
   "source": [
    "train_data = np.asarray(train_data)\n",
    "test_data = np.asarray(test_data)"
   ]
  },
  {
   "cell_type": "code",
   "execution_count": 31,
   "id": "e957bba3-ef61-40d2-bb90-0db349eb26e0",
   "metadata": {
    "executionInfo": {
     "elapsed": 48406,
     "status": "ok",
     "timestamp": 1619509202762,
     "user": {
      "displayName": "Sitiporn Saelim",
      "photoUrl": "",
      "userId": "04392232392828254116"
     },
     "user_tz": -420
    },
    "id": "e957bba3-ef61-40d2-bb90-0db349eb26e0"
   },
   "outputs": [],
   "source": [
    "def create_sequences(data, seq_length):\n",
    "    xs = []\n",
    "    ys = []\n",
    "    \n",
    "    for i in range(len(data)-seq_length-1):\n",
    "        x = data[i:(i+seq_length)]\n",
    "        #print(i)\n",
    "        y = data[i+seq_length]\n",
    "        xs.append(x)\n",
    "        ys.append(y)\n",
    "\n",
    "    return np.array(xs), np.array(ys)"
   ]
  },
  {
   "cell_type": "code",
   "execution_count": 32,
   "id": "580acfdd-8af4-470d-8b41-b4a737e38cbc",
   "metadata": {
    "executionInfo": {
     "elapsed": 48403,
     "status": "ok",
     "timestamp": 1619509202763,
     "user": {
      "displayName": "Sitiporn Saelim",
      "photoUrl": "",
      "userId": "04392232392828254116"
     },
     "user_tz": -420
    },
    "id": "580acfdd-8af4-470d-8b41-b4a737e38cbc"
   },
   "outputs": [],
   "source": [
    "X_train, y_train = create_sequences(train_data, seq_length)\n",
    "X_test, y_test = create_sequences(test_data, seq_length)\n",
    "\n",
    "X_train = torch.from_numpy(X_train).float()\n",
    "y_train = torch.from_numpy(y_train).float()\n",
    "\n",
    "X_test = torch.from_numpy(X_test).float()\n",
    "y_test = torch.from_numpy(y_test).float()"
   ]
  },
  {
   "cell_type": "code",
   "execution_count": 33,
   "id": "6a9dcc9e-4638-48f6-859b-09d860477355",
   "metadata": {
    "colab": {
     "base_uri": "https://localhost:8080/"
    },
    "executionInfo": {
     "elapsed": 48398,
     "status": "ok",
     "timestamp": 1619509202763,
     "user": {
      "displayName": "Sitiporn Saelim",
      "photoUrl": "",
      "userId": "04392232392828254116"
     },
     "user_tz": -420
    },
    "id": "6a9dcc9e-4638-48f6-859b-09d860477355",
    "outputId": "e15edeca-c419-419b-e74b-c8b56818caf0"
   },
   "outputs": [
    {
     "data": {
      "text/plain": [
       "(torch.Size([287, 14, 1]),\n",
       " torch.Size([287, 1]),\n",
       " torch.Size([61, 14, 1]),\n",
       " torch.Size([61, 1]))"
      ]
     },
     "execution_count": 33,
     "metadata": {},
     "output_type": "execute_result"
    }
   ],
   "source": [
    "X_train.shape , y_train.shape , X_test.shape, y_test.shape"
   ]
  },
  {
   "cell_type": "code",
   "execution_count": 34,
   "id": "cdc119a6-14a0-4285-ab6e-3bdf3b9b3f9a",
   "metadata": {
    "executionInfo": {
     "elapsed": 48397,
     "status": "ok",
     "timestamp": 1619509202765,
     "user": {
      "displayName": "Sitiporn Saelim",
      "photoUrl": "",
      "userId": "04392232392828254116"
     },
     "user_tz": -420
    },
    "id": "cdc119a6-14a0-4285-ab6e-3bdf3b9b3f9a"
   },
   "outputs": [],
   "source": [
    "X_train = torch.reshape(X_train,(X_train.shape[0],1,-1))\n",
    "X_test =  torch.reshape(X_test,(X_test.shape[0],1,-1))"
   ]
  },
  {
   "cell_type": "code",
   "execution_count": 35,
   "id": "966746ba-33e5-4424-8346-37dd3c7bea01",
   "metadata": {
    "colab": {
     "base_uri": "https://localhost:8080/"
    },
    "executionInfo": {
     "elapsed": 48392,
     "status": "ok",
     "timestamp": 1619509202765,
     "user": {
      "displayName": "Sitiporn Saelim",
      "photoUrl": "",
      "userId": "04392232392828254116"
     },
     "user_tz": -420
    },
    "id": "966746ba-33e5-4424-8346-37dd3c7bea01",
    "outputId": "1353a78d-c36d-4c8c-d328-4b0076a65325"
   },
   "outputs": [
    {
     "data": {
      "text/plain": [
       "(torch.Size([287, 1, 14]),\n",
       " torch.Size([287, 1]),\n",
       " torch.Size([61, 1, 14]),\n",
       " torch.Size([61, 1]))"
      ]
     },
     "execution_count": 35,
     "metadata": {},
     "output_type": "execute_result"
    }
   ],
   "source": [
    "X_train.shape , y_train.shape , X_test.shape, y_test.shape"
   ]
  },
  {
   "cell_type": "code",
   "execution_count": 36,
   "id": "a9PLF5Yy9ZRy",
   "metadata": {
    "colab": {
     "base_uri": "https://localhost:8080/",
     "height": 282
    },
    "executionInfo": {
     "elapsed": 48899,
     "status": "ok",
     "timestamp": 1619509203278,
     "user": {
      "displayName": "Sitiporn Saelim",
      "photoUrl": "",
      "userId": "04392232392828254116"
     },
     "user_tz": -420
    },
    "id": "a9PLF5Yy9ZRy",
    "outputId": "77b630a4-3c19-4725-d804-2470be27149a"
   },
   "outputs": [
    {
     "data": {
      "text/plain": [
       "[<matplotlib.lines.Line2D at 0x7fea9cc38a58>]"
      ]
     },
     "execution_count": 36,
     "metadata": {},
     "output_type": "execute_result"
    },
    {
     "data": {
      "image/png": "[encoded data removed]",
      "text/plain": [
       "<matplotlib.figure.Figure at 0x7fea9cd0ccc0>"
      ]
     },
     "metadata": {
      "needs_background": "light"
     },
     "output_type": "display_data"
    }
   ],
   "source": [
    "plt.plot(range(len(X_train.flatten())), X_train.flatten())"
   ]
  },
  {
   "cell_type": "code",
   "execution_count": 37,
   "id": "365d5788-cc34-4817-a2e7-bd0811710ee6",
   "metadata": {
    "executionInfo": {
     "elapsed": 48897,
     "status": "ok",
     "timestamp": 1619509203278,
     "user": {
      "displayName": "Sitiporn Saelim",
      "photoUrl": "",
      "userId": "04392232392828254116"
     },
     "user_tz": -420
    },
    "id": "365d5788-cc34-4817-a2e7-bd0811710ee6"
   },
   "outputs": [],
   "source": [
    "from torch.utils.data import TensorDataset\n",
    "\n",
    "# Define dataset\n",
    "ds_train = TensorDataset(X_train, y_train)\n",
    "ds_test = TensorDataset(X_test, y_test)"
   ]
  },
  {
   "cell_type": "code",
   "execution_count": 38,
   "id": "30d22c12-cb30-4a04-9280-85fa7018d82a",
   "metadata": {
    "executionInfo": {
     "elapsed": 48896,
     "status": "ok",
     "timestamp": 1619509203279,
     "user": {
      "displayName": "Sitiporn Saelim",
      "photoUrl": "",
      "userId": "04392232392828254116"
     },
     "user_tz": -420
    },
    "id": "30d22c12-cb30-4a04-9280-85fa7018d82a"
   },
   "outputs": [],
   "source": [
    "BATCH_SIZE = 14  #keeping it binary so it fits GPU\n",
    "# #Train set loader\n",
    "train_iterator = torch.utils.data.DataLoader(dataset=ds_train, \n",
    "                                           batch_size=BATCH_SIZE, \n",
    "                                            shuffle=True)\n",
    "#Test set loader\n",
    "test_iterator = torch.utils.data.DataLoader(dataset=ds_test, \n",
    "                                          batch_size=BATCH_SIZE, \n",
    "                                          shuffle=True)"
   ]
  },
  {
   "cell_type": "markdown",
   "id": "nwqMkVWkNcpl",
   "metadata": {
    "id": "nwqMkVWkNcpl"
   },
   "source": [
    "# Training Section"
   ]
  },
  {
   "cell_type": "markdown",
   "id": "17a936f1-f68a-411a-b61c-c4067a1207bd",
   "metadata": {
    "id": "17a936f1-f68a-411a-b61c-c4067a1207bd"
   },
   "source": [
    "## Define Model"
   ]
  },
  {
   "cell_type": "code",
   "execution_count": 39,
   "id": "ff4391ed-a40f-4fcd-9e6a-ead688102775",
   "metadata": {
    "executionInfo": {
     "elapsed": 48895,
     "status": "ok",
     "timestamp": 1619509203280,
     "user": {
      "displayName": "Sitiporn Saelim",
      "photoUrl": "",
      "userId": "04392232392828254116"
     },
     "user_tz": -420
    },
    "id": "ff4391ed-a40f-4fcd-9e6a-ead688102775"
   },
   "outputs": [],
   "source": [
    "class ResidualBlock(nn.Module):\n",
    "    def __init__(self,kernel_size=3,dilation=1,in_dim=16,hidden_dim=64,out_dim=128):\n",
    "        super(ResidualBlock, self).__init__()\n",
    "        self.pad = (kernel_size - 1) * dilation\n",
    "        \n",
    "        #self.casual1 = nn.Conv1d(in_channels=16,out_channels=32,kernel_size=kernel_size,stride=1,padding=self.pad,dilation=dilation)\n",
    "        #self.casual2 = nn.Conv1d(in_channels=32,out_channels=64,kernel_size=kernel_size,stride=1,padding=self.pad,dilation=dilation)\n",
    "        \n",
    "        self.layer_1 = nn.Sequential(nn.utils.weight_norm(nn.Conv1d(in_channels=in_dim,out_channels=hidden_dim,\n",
    "                                     kernel_size=kernel_size,stride=1,padding=self.pad,dilation=dilation)),\n",
    "                                     nn.LeakyReLU(0.1),nn.Dropout(p=0.2))\n",
    "         \n",
    "        self.layer_2 = nn.Sequential(nn.utils.weight_norm(nn.Conv1d(in_channels=hidden_dim,out_channels=out_dim,\n",
    "                                    kernel_size=kernel_size,stride=1,padding=self.pad,dilation=dilation)),\n",
    "                                    nn.LeakyReLU(0.1),nn.Dropout(p=0.2))\n",
    "        \n",
    "        self.conv1_1 = nn.Conv1d(in_channels=in_dim,out_channels=out_dim,\n",
    "                                                        kernel_size=1,stride=1,padding=0,dilation=1)\n",
    "        \n",
    "    def forward(self,x):\n",
    "        \n",
    "        x_iden = x\n",
    "        x = self.layer_1(x)\n",
    "        x = x[:,:,:-self.pad]\n",
    "        #print(x.shape)\n",
    "        x = self.layer_2(x) \n",
    "        x = x[:,:,:-self.pad]\n",
    "        #print(x.shape)\n",
    "        x_iden = self.conv1_1(x_iden)\n",
    "        #print(x_iden.shape)\n",
    "        x = x + x_iden\n",
    "        \n",
    "        return x         "
   ]
  },
  {
   "cell_type": "code",
   "execution_count": 40,
   "id": "0c50375b-7e32-4447-985b-3cb7c4a9a88f",
   "metadata": {
    "executionInfo": {
     "elapsed": 48892,
     "status": "ok",
     "timestamp": 1619509203280,
     "user": {
      "displayName": "Sitiporn Saelim",
      "photoUrl": "",
      "userId": "04392232392828254116"
     },
     "user_tz": -420
    },
    "id": "0c50375b-7e32-4447-985b-3cb7c4a9a88f"
   },
   "outputs": [],
   "source": [
    "class TemporalConvNet(nn.Module):\n",
    "    def __init__(self,num_residual_layers,channel_config,num_classes):\n",
    "        super(TemporalConvNet, self).__init__()\n",
    "        self.num_residual_layers = num_residual_layers \n",
    "        self.residual_layers = []\n",
    "        #print(self.num_residual_layers)\n",
    "        \n",
    "        for i in range(self.num_residual_layers):\n",
    "            d = pow(2, i)\n",
    "            #print(d)\n",
    "            self.residual_layers.append(ResidualBlock(kernel_size=3,dilation=d,in_dim=channel_config[i][0],hidden_dim=channel_config[i][1],out_dim=channel_config[i][2]).to(device))        \n",
    "      \n",
    "        self.fc = nn.Sequential(nn.Linear(14 , 7),nn.ReLU(),nn.Dropout(0.5),\n",
    "                                nn.Linear(7,4),nn.ReLU(),\n",
    "                                nn.Dropout(0.5),nn.Linear(4,2))\n",
    "        \n",
    "        \n",
    "        self.out = nn.Linear(2, 1)\n",
    "        #self.softmax = nn.LogSoftmax(dim=1)\n",
    "        \n",
    "\n",
    "        #self.fc = nn.Sequential(nn.Linear(75 ,100),nn.ReLU(),nn.Linear(100,10))\n",
    "        \n",
    "    def forward(self,x):\n",
    "        for layer in self.residual_layers:\n",
    "            x = layer(x)\n",
    "        #print(\"layer :\",x.shape)\n",
    "        x = torch.flatten(x,start_dim=1)\n",
    "        #print(\"flatten:\",x.shape)        \n",
    "        x = self.fc(x).to(device)\n",
    "        \n",
    "        x = self.out(x).to(device)\n",
    "        #print(x.shape)\n",
    "    \n",
    "        return x"
   ]
  },
  {
   "cell_type": "code",
   "execution_count": 41,
   "id": "4828ea44-9f63-4640-a5d9-36de8a59dadb",
   "metadata": {
    "colab": {
     "base_uri": "https://localhost:8080/"
    },
    "executionInfo": {
     "elapsed": 48888,
     "status": "ok",
     "timestamp": 1619509203281,
     "user": {
      "displayName": "Sitiporn Saelim",
      "photoUrl": "",
      "userId": "04392232392828254116"
     },
     "user_tz": -420
    },
    "id": "4828ea44-9f63-4640-a5d9-36de8a59dadb",
    "outputId": "410043ae-c241-4ba6-b3e2-746f4add817b"
   },
   "outputs": [
    {
     "name": "stdout",
     "output_type": "stream",
     "text": [
      "Configured device:  cuda\n"
     ]
    }
   ],
   "source": [
    "print(\"Configured device: \", device)"
   ]
  },
  {
   "cell_type": "markdown",
   "id": "4b5b241f-00f7-4bf2-9c21-8852104cfc83",
   "metadata": {
    "id": "4b5b241f-00f7-4bf2-9c21-8852104cfc83"
   },
   "source": [
    "## Create model"
   ]
  },
  {
   "cell_type": "code",
   "execution_count": 42,
   "id": "49e276f0-ef26-49fe-982e-9846df90261c",
   "metadata": {
    "executionInfo": {
     "elapsed": 57248,
     "status": "ok",
     "timestamp": 1619509211643,
     "user": {
      "displayName": "Sitiporn Saelim",
      "photoUrl": "",
      "userId": "04392232392828254116"
     },
     "user_tz": -420
    },
    "id": "49e276f0-ef26-49fe-982e-9846df90261c"
   },
   "outputs": [],
   "source": [
    "model_Tcn = TemporalConvNet(num_residual_layers=3,channel_config=channel_config,num_classes=1)\n",
    "model_Tcn = model_Tcn.float()\n",
    "models = [model_Tcn]"
   ]
  },
  {
   "cell_type": "code",
   "execution_count": 43,
   "id": "e9b02cf6-e8f4-4885-844c-fbe367ee456c",
   "metadata": {
    "executionInfo": {
     "elapsed": 57249,
     "status": "ok",
     "timestamp": 1619509211646,
     "user": {
      "displayName": "Sitiporn Saelim",
      "photoUrl": "",
      "userId": "04392232392828254116"
     },
     "user_tz": -420
    },
    "id": "e9b02cf6-e8f4-4885-844c-fbe367ee456c"
   },
   "outputs": [],
   "source": [
    "for model in models:\n",
    "    model = model.to(device)"
   ]
  },
  {
   "cell_type": "markdown",
   "id": "cf3c0d2e-9240-4b30-8695-b8c86e02506c",
   "metadata": {
    "id": "cf3c0d2e-9240-4b30-8695-b8c86e02506c"
   },
   "source": [
    "### Create Optimizer"
   ]
  },
  {
   "cell_type": "code",
   "execution_count": 44,
   "id": "ed97a139-94a0-48b7-b415-ccf51a58b346",
   "metadata": {
    "executionInfo": {
     "elapsed": 57249,
     "status": "ok",
     "timestamp": 1619509211650,
     "user": {
      "displayName": "Sitiporn Saelim",
      "photoUrl": "",
      "userId": "04392232392828254116"
     },
     "user_tz": -420
    },
    "id": "ed97a139-94a0-48b7-b415-ccf51a58b346"
   },
   "outputs": [],
   "source": [
    "import torch.optim as optim\n",
    "#0.01\n",
    "learning_rate = 1e-4\n",
    "\n",
    "optimizer = optim.Adam(model.parameters())\n",
    "\n",
    "criterion = torch.nn.MSELoss().float() #nn.NLLLoss()\n",
    "optimizer = torch.optim.Adam(model.parameters(), lr=learning_rate)"
   ]
  },
  {
   "cell_type": "markdown",
   "id": "5fe76e97-cd26-4824-8bb1-1b7ca11631fd",
   "metadata": {
    "id": "5fe76e97-cd26-4824-8bb1-1b7ca11631fd"
   },
   "source": [
    "### Training Function"
   ]
  },
  {
   "cell_type": "code",
   "execution_count": 45,
   "id": "a2b7a551-3e07-4e10-9547-c0d499e5a9a6",
   "metadata": {
    "executionInfo": {
     "elapsed": 57248,
     "status": "ok",
     "timestamp": 1619509211652,
     "user": {
      "displayName": "Sitiporn Saelim",
      "photoUrl": "",
      "userId": "04392232392828254116"
     },
     "user_tz": -420
    },
    "id": "a2b7a551-3e07-4e10-9547-c0d499e5a9a6"
   },
   "outputs": [],
   "source": [
    "def train(model, iterator, optimizer, criterion):\n",
    "    total = 0\n",
    "    correct = 0\n",
    "    epoch_loss = 0\n",
    "    epoch_acc = 0\n",
    "   # loss_list = []\n",
    "    model.train()\n",
    "    \n",
    "    for batch, num_cases in iterator:\n",
    "        \n",
    "        #Move tensors to the configured device\n",
    "        batch = batch.to(device)\n",
    "        num_cases = num_cases.to(device) \n",
    "#         num_cases = num_cases[:,-1]\n",
    "#         num_cases =  torch.reshape(num_cases, (num_cases.shape[0], 1))\n",
    "        #Forward pass\n",
    "        #print(\"batch train:\",batch.shape)\n",
    "        outputs = model(batch.float())\n",
    "#         print(\"outputs:\",outputs.shape)\n",
    "#         print(\"num_cases :\",num_cases.shape)\n",
    "#         print(\"outputs :\",outputs)\n",
    "#         print(\"num_cases :\",num_cases)\n",
    "        loss = criterion(outputs, num_cases.float())\n",
    "        \n",
    "        # Backward and optimize\n",
    "        optimizer.zero_grad()\n",
    "        loss.backward()\n",
    "        optimizer.step()\n",
    "        #loss_list.append(loss.data)  \n",
    "         \n",
    "#         #check accuracy\n",
    "#         predictions = model(batch.float())\n",
    "#         _, predicted = torch.max(predictions.data, 1)  #returns max value, indices\n",
    "#          #keep track of total\n",
    "#         correct += (predicted == labels).sum().item()  #.item() give the raw number\n",
    "#         acc = 100 * (correct / total)\n",
    "                \n",
    "        epoch_loss += loss.item()\n",
    "#         epoch_acc = acc\n",
    "      \n",
    "    return epoch_loss / len(iterator)  #, epoch_acc, predicted"
   ]
  },
  {
   "cell_type": "code",
   "execution_count": 46,
   "id": "d816be15-ba87-40e5-8182-8983d08fb978",
   "metadata": {
    "executionInfo": {
     "elapsed": 57249,
     "status": "ok",
     "timestamp": 1619509211655,
     "user": {
      "displayName": "Sitiporn Saelim",
      "photoUrl": "",
      "userId": "04392232392828254116"
     },
     "user_tz": -420
    },
    "id": "d816be15-ba87-40e5-8182-8983d08fb978"
   },
   "outputs": [],
   "source": [
    "def test(model,iterator, optimizer, criterion):\n",
    "    total = 0\n",
    "    correct = 0\n",
    "    epoch_loss = 0\n",
    "    epoch_acc = 0\n",
    "   # loss_list = []\n",
    "    for batch, num_cases in iterator:\n",
    "        batch = batch.to(device)\n",
    "        num_cases = num_cases.to(device)\n",
    "        #print(\"batch test:\",batch.shape)\n",
    "        with torch.no_grad():\n",
    "            y_test_pred = model(batch.float())\n",
    "            loss = criterion(y_test_pred, num_cases.float())\n",
    "            epoch_loss += loss\n",
    "            \n",
    "    return epoch_loss / len(iterator)  "
   ]
  },
  {
   "cell_type": "code",
   "execution_count": 47,
   "id": "e4afaa15-4100-4c52-80fb-c7ca85fbe37c",
   "metadata": {
    "executionInfo": {
     "elapsed": 57248,
     "status": "ok",
     "timestamp": 1619509211656,
     "user": {
      "displayName": "Sitiporn Saelim",
      "photoUrl": "",
      "userId": "04392232392828254116"
     },
     "user_tz": -420
    },
    "id": "e4afaa15-4100-4c52-80fb-c7ca85fbe37c"
   },
   "outputs": [],
   "source": [
    "from IPython.display import clear_output"
   ]
  },
  {
   "cell_type": "code",
   "execution_count": 48,
   "id": "66e0a334-0206-4e81-ac46-7a8b1c92fcfb",
   "metadata": {
    "executionInfo": {
     "elapsed": 57247,
     "status": "ok",
     "timestamp": 1619509211657,
     "user": {
      "displayName": "Sitiporn Saelim",
      "photoUrl": "",
      "userId": "04392232392828254116"
     },
     "user_tz": -420
    },
    "id": "66e0a334-0206-4e81-ac46-7a8b1c92fcfb"
   },
   "outputs": [],
   "source": [
    "name = f\"Epoch ={N_EPOCHS} LR = {learning_rate} Adam\""
   ]
  },
  {
   "cell_type": "code",
   "execution_count": 49,
   "id": "9509ba65-c59a-4318-886e-f7e0e565770a",
   "metadata": {
    "colab": {
     "base_uri": "https://localhost:8080/",
     "height": 400
    },
    "executionInfo": {
     "elapsed": 57927,
     "status": "error",
     "timestamp": 1619509212344,
     "user": {
      "displayName": "Sitiporn Saelim",
      "photoUrl": "",
      "userId": "04392232392828254116"
     },
     "user_tz": -420
    },
    "id": "9509ba65-c59a-4318-886e-f7e0e565770a",
    "outputId": "0adfd7c6-19f2-45f9-ade8-d5071d8987cf"
   },
   "outputs": [
    {
     "name": "stdout",
     "output_type": "stream",
     "text": [
      "Training TemporalConvNet\n",
      "Epoch 0 train loss: 1.004778436252049 test loss: 2.050204038619995\n",
      "Epoch 1 train loss: 1.0054688921996526 test loss: 2.0802152156829834\n",
      "Epoch 2 train loss: 1.0541385891182082 test loss: 2.548619270324707\n",
      "Epoch 3 train loss: 1.0303586792378199 test loss: 2.0373852252960205\n",
      "Epoch 4 train loss: 1.0340333460342317 test loss: 2.1539413928985596\n",
      "Epoch 5 train loss: 1.0008179719249408 test loss: 1.9945271015167236\n",
      "Epoch 6 train loss: 1.011500189879111 test loss: 2.0691049098968506\n",
      "Epoch 7 train loss: 1.013564143152464 test loss: 2.0286777019500732\n",
      "Epoch 8 train loss: 1.1403271463655291 test loss: 2.3174703121185303\n",
      "Epoch 9 train loss: 0.9968311268658865 test loss: 2.0685815811157227\n",
      "Epoch 10 train loss: 1.0015458464622498 test loss: 2.0660245418548584\n",
      "Epoch 11 train loss: 1.0915439398515792 test loss: 2.026052474975586\n",
      "Epoch 12 train loss: 0.9959329923703557 test loss: 2.0534560680389404\n",
      "Epoch 13 train loss: 0.9961975121072361 test loss: 2.2683842182159424\n",
      "Epoch 14 train loss: 1.0128453341977937 test loss: 1.9932583570480347\n",
      "Epoch 15 train loss: 0.9972381403758412 test loss: 2.215980291366577\n",
      "Epoch 16 train loss: 0.9931270724960736 test loss: 2.064269781112671\n",
      "Epoch 17 train loss: 0.9983803487959362 test loss: 2.0076496601104736\n",
      "Epoch 18 train loss: 1.1232444221774738 test loss: 2.1906025409698486\n",
      "Epoch 19 train loss: 0.9967415659200578 test loss: 2.3344480991363525\n",
      "Epoch 20 train loss: 1.0520116168828237 test loss: 2.23984694480896\n",
      "Epoch 21 train loss: 0.9902219428193002 test loss: 1.9093631505966187\n",
      "Epoch 22 train loss: 1.0270928137359165 test loss: 2.471351385116577\n",
      "Epoch 23 train loss: 1.1179707131925083 test loss: 2.4012179374694824\n",
      "Epoch 24 train loss: 0.992726787569977 test loss: 1.9195448160171509\n",
      "Epoch 25 train loss: 0.9838188627646083 test loss: 2.5822670459747314\n",
      "Epoch 26 train loss: 0.9908541235185805 test loss: 2.6608693599700928\n",
      "Epoch 27 train loss: 0.9927281180307979 test loss: 2.166459560394287\n",
      "Epoch 28 train loss: 0.9895640661319097 test loss: 1.9667476415634155\n",
      "Epoch 29 train loss: 1.0636798455601646 test loss: 2.266221523284912\n",
      "Epoch 30 train loss: 1.0188111226473535 test loss: 2.36173677444458\n",
      "Epoch 31 train loss: 1.0131424619328409 test loss: 2.165898323059082\n",
      "Epoch 32 train loss: 1.0140110970962615 test loss: 2.214205503463745\n",
      "Epoch 33 train loss: 0.985159542234171 test loss: 1.8837404251098633\n",
      "Epoch 34 train loss: 0.9934438655064219 test loss: 2.2933008670806885\n",
      "Epoch 35 train loss: 0.9885963506641842 test loss: 2.1772313117980957\n",
      "Epoch 36 train loss: 0.9814511157927059 test loss: 2.20963978767395\n",
      "Epoch 37 train loss: 0.97936044447124 test loss: 2.0798375606536865\n",
      "Epoch 38 train loss: 1.0049428613412947 test loss: 1.893070101737976\n",
      "Epoch 39 train loss: 1.0105028812374388 test loss: 1.9413975477218628\n",
      "Epoch 40 train loss: 0.9826160646265462 test loss: 2.188748598098755\n",
      "Epoch 41 train loss: 1.011266256372134 test loss: 1.9943071603775024\n",
      "Epoch 42 train loss: 0.9848758592492058 test loss: 1.9025074243545532\n",
      "Epoch 43 train loss: 0.9860700819463957 test loss: 1.8651870489120483\n",
      "Epoch 44 train loss: 0.9827430432751065 test loss: 1.956882119178772\n",
      "Epoch 45 train loss: 1.0851340907670202 test loss: 2.1751391887664795\n",
      "Epoch 46 train loss: 0.9806991010194733 test loss: 2.3229596614837646\n",
      "Epoch 47 train loss: 1.008707572661695 test loss: 1.9422394037246704\n",
      "Epoch 48 train loss: 1.0847171750806628 test loss: 1.9993408918380737\n",
      "Epoch 49 train loss: 0.9805826363818986 test loss: 2.2104878425598145\n",
      "Epoch 50 train loss: 1.0484040088596798 test loss: 2.1917245388031006\n",
      "Epoch 51 train loss: 0.9937635865949449 test loss: 2.156358480453491\n",
      "Epoch 52 train loss: 1.0882496791226524 test loss: 1.8836644887924194\n",
      "Epoch 53 train loss: 1.030336489989644 test loss: 1.9490598440170288\n",
      "Epoch 54 train loss: 0.9857005622415316 test loss: 1.826584815979004\n",
      "Epoch 55 train loss: 0.9794667097074645 test loss: 2.0927352905273438\n",
      "Epoch 56 train loss: 1.0073847699733007 test loss: 2.1161787509918213\n",
      "Epoch 57 train loss: 0.9952134532587869 test loss: 1.9487155675888062\n",
      "Epoch 58 train loss: 0.9795136320449057 test loss: 1.8731746673583984\n",
      "Epoch 59 train loss: 0.9815064026486306 test loss: 1.9194873571395874\n",
      "Epoch 60 train loss: 0.9824050381070092 test loss: 1.8813647031784058\n",
      "Epoch 61 train loss: 0.9857946201449349 test loss: 1.9424890279769897\n",
      "Epoch 62 train loss: 0.9815494109477315 test loss: 1.9047971963882446\n",
      "Epoch 63 train loss: 0.9834929928183556 test loss: 2.1928458213806152\n",
      "Epoch 64 train loss: 0.9904080068781262 test loss: 1.928774118423462\n",
      "Epoch 65 train loss: 0.9905475732826051 test loss: 2.108473539352417\n",
      "Epoch 66 train loss: 0.9754193489040647 test loss: 1.8425668478012085\n",
      "Epoch 67 train loss: 0.999016380026227 test loss: 1.9046440124511719\n",
      "Epoch 68 train loss: 0.9765279101473945 test loss: 1.8974332809448242\n",
      "Epoch 69 train loss: 0.9772076379685175 test loss: 1.881323218345642\n",
      "Epoch 70 train loss: 0.9761723748275212 test loss: 2.2530887126922607\n",
      "Epoch 71 train loss: 0.9753289673300016 test loss: 1.8175350427627563\n",
      "Epoch 72 train loss: 0.9819220180312792 test loss: 2.139885187149048\n",
      "Epoch 73 train loss: 0.9807763049999872 test loss: 2.0500237941741943\n",
      "Epoch 74 train loss: 1.0085738489315623 test loss: 1.8103811740875244\n",
      "Epoch 75 train loss: 0.9782544491546494 test loss: 1.842820405960083\n",
      "Epoch 76 train loss: 0.9826937651350385 test loss: 2.004020929336548\n",
      "Epoch 77 train loss: 1.0312769008534295 test loss: 1.814914345741272\n",
      "Epoch 78 train loss: 0.9918117892174494 test loss: 1.8100637197494507\n",
      "Epoch 79 train loss: 1.0279586304511343 test loss: 2.2393434047698975\n",
      "Epoch 80 train loss: 1.0105240529491788 test loss: 1.9027941226959229\n",
      "Epoch 81 train loss: 0.9780019951008615 test loss: 1.8058197498321533\n",
      "Epoch 82 train loss: 0.9825106937260855 test loss: 2.12786865234375\n",
      "Epoch 83 train loss: 0.979080506378696 test loss: 1.8237615823745728\n",
      "Epoch 84 train loss: 1.0030316362778346 test loss: 1.860337257385254\n",
      "Epoch 85 train loss: 1.0236318785519827 test loss: 1.9415596723556519\n",
      "Epoch 86 train loss: 0.9726406892850286 test loss: 1.9226127862930298\n",
      "Epoch 87 train loss: 0.9933053283464341 test loss: 2.0501697063446045\n",
      "Epoch 88 train loss: 0.9690230644884563 test loss: 2.138115167617798\n",
      "Epoch 89 train loss: 1.062751595817861 test loss: 2.093743085861206\n",
      "Epoch 90 train loss: 1.0700686900388627 test loss: 1.8543020486831665\n",
      "Epoch 91 train loss: 1.0286707179177375 test loss: 1.7817022800445557\n",
      "Epoch 92 train loss: 0.9804388958783377 test loss: 2.407789945602417\n",
      "Epoch 93 train loss: 0.9724834220749992 test loss: 1.8280032873153687\n",
      "Epoch 94 train loss: 1.026313976872535 test loss: 1.8600835800170898\n",
      "Epoch 95 train loss: 0.9813210896792866 test loss: 1.8231079578399658\n",
      "Epoch 96 train loss: 0.9950266040506817 test loss: 1.8688690662384033\n",
      "Epoch 97 train loss: 1.0247779548877762 test loss: 1.870911955833435\n",
      "Epoch 98 train loss: 1.0061858218340647 test loss: 1.843379020690918\n",
      "Epoch 99 train loss: 0.9731094344031244 test loss: 2.199300527572632\n",
      "Epoch 100 train loss: 0.9734067086662564 test loss: 1.8366018533706665\n",
      "Epoch 101 train loss: 1.020754377047221 test loss: 2.245898485183716\n",
      "Epoch 102 train loss: 0.9732044651394799 test loss: 2.1681156158447266\n",
      "Epoch 103 train loss: 1.003434957492919 test loss: 1.8363860845565796\n",
      "Epoch 104 train loss: 0.9794163711014248 test loss: 2.1249656677246094\n",
      "Epoch 105 train loss: 0.975643821415447 test loss: 1.793778657913208\n",
      "Epoch 106 train loss: 0.9734941855782554 test loss: 2.207641363143921\n",
      "Epoch 107 train loss: 0.9784846596774601 test loss: 1.8216310739517212\n",
      "Epoch 108 train loss: 0.9752945665802274 test loss: 1.772788405418396\n",
      "Epoch 109 train loss: 0.9771284769688334 test loss: 1.8796370029449463\n",
      "Epoch 110 train loss: 0.9871358055443991 test loss: 1.7509883642196655\n",
      "Epoch 111 train loss: 0.9754193524519602 test loss: 2.1524417400360107\n",
      "Epoch 112 train loss: 0.9771957184587207 test loss: 2.258021116256714\n",
      "Epoch 113 train loss: 0.9863230011292866 test loss: 2.134559392929077\n",
      "Epoch 114 train loss: 0.9960991314479283 test loss: 1.8774486780166626\n",
      "Epoch 115 train loss: 0.9748914809454055 test loss: 2.2506492137908936\n",
      "Epoch 116 train loss: 0.975809837381045 test loss: 1.821837067604065\n",
      "Epoch 117 train loss: 1.0719258040189743 test loss: 2.305126667022705\n",
      "Epoch 118 train loss: 0.9761568974880945 test loss: 1.8628429174423218\n",
      "Epoch 119 train loss: 0.9736893616971516 test loss: 1.760011076927185\n",
      "Epoch 120 train loss: 0.9777886363722029 test loss: 2.11330246925354\n",
      "Epoch 121 train loss: 0.9745664852006095 test loss: 2.072131872177124\n",
      "Epoch 122 train loss: 1.0018120869284584 test loss: 2.37678599357605\n",
      "Epoch 123 train loss: 0.9773372489781607 test loss: 1.916499376296997\n",
      "Epoch 124 train loss: 0.9733066629795801 test loss: 2.134557008743286\n",
      "Epoch 125 train loss: 0.9798529701573508 test loss: 1.8671693801879883\n",
      "Epoch 126 train loss: 1.038507756732759 test loss: 1.8926963806152344\n",
      "Epoch 127 train loss: 0.9716501768146243 test loss: 1.761159896850586\n",
      "Epoch 128 train loss: 0.9716555678418705 test loss: 2.3692169189453125\n",
      "Epoch 129 train loss: 1.003305388348443 test loss: 2.2287864685058594\n",
      "Epoch 130 train loss: 1.0254705271550588 test loss: 2.044426441192627\n",
      "Epoch 131 train loss: 0.9697888429675784 test loss: 1.7596063613891602\n",
      "Epoch 132 train loss: 0.9796282610013372 test loss: 1.8046833276748657\n",
      "Epoch 133 train loss: 0.9753401506514776 test loss: 2.0540387630462646\n",
      "Epoch 134 train loss: 1.007221972303731 test loss: 1.8604897260665894\n",
      "Epoch 135 train loss: 1.0201402104326658 test loss: 1.7536941766738892\n",
      "Epoch 136 train loss: 1.0034393980389549 test loss: 2.055279016494751\n",
      "Epoch 137 train loss: 0.973700375074432 test loss: 2.31128191947937\n",
      "Epoch 138 train loss: 0.9828482986915679 test loss: 1.8121025562286377\n",
      "Epoch 139 train loss: 0.9962885110151201 test loss: 2.339509963989258\n",
      "Epoch 140 train loss: 0.976906307041645 test loss: 2.16084361076355\n",
      "Epoch 141 train loss: 0.9784936897811436 test loss: 2.1639363765716553\n",
      "Epoch 142 train loss: 0.9703554333675475 test loss: 2.442095994949341\n",
      "Epoch 143 train loss: 0.9709562957286835 test loss: 1.7605125904083252\n",
      "Epoch 144 train loss: 0.9784160625366938 test loss: 1.8407624959945679\n",
      "Epoch 145 train loss: 0.9991655080091386 test loss: 1.7499140501022339\n",
      "Epoch 146 train loss: 0.9742907924311501 test loss: 2.512298345565796\n",
      "Epoch 147 train loss: 0.9724361853940147 test loss: 2.6674551963806152\n",
      "Epoch 148 train loss: 0.9715193350400243 test loss: 1.7529503107070923\n",
      "Epoch 149 train loss: 0.9750102552629653 test loss: 1.7481012344360352\n",
      "Epoch 150 train loss: 1.0041511839344388 test loss: 2.2161948680877686\n",
      "Epoch 151 train loss: 0.9733828362964448 test loss: 1.8188279867172241\n",
      "Epoch 152 train loss: 0.9756031000897998 test loss: 1.8631004095077515\n",
      "Epoch 153 train loss: 0.9726539708319164 test loss: 2.1204755306243896\n",
      "Epoch 154 train loss: 0.9712217024394444 test loss: 1.9187148809432983\n",
      "Epoch 155 train loss: 0.9925643780401775 test loss: 1.9268903732299805\n",
      "Epoch 156 train loss: 0.9690498085249037 test loss: 2.064502000808716\n",
      "Epoch 157 train loss: 0.9847671950147265 test loss: 2.2055015563964844\n",
      "Epoch 158 train loss: 0.9716295039369947 test loss: 2.721916675567627\n",
      "Epoch 159 train loss: 0.972905756462188 test loss: 1.753933310508728\n",
      "Epoch 160 train loss: 0.9725618433384668 test loss: 1.903060793876648\n",
      "Epoch 161 train loss: 0.9721191220340275 test loss: 1.753788948059082\n",
      "Epoch 162 train loss: 0.9710955300501415 test loss: 2.1202497482299805\n",
      "Epoch 163 train loss: 0.9788154839050203 test loss: 1.8503363132476807\n",
      "Epoch 164 train loss: 0.9893926272080058 test loss: 2.057044267654419\n",
      "Epoch 165 train loss: 0.9743075463033858 test loss: 1.956861138343811\n",
      "Epoch 166 train loss: 1.0163948103075935 test loss: 1.7355107069015503\n",
      "Epoch 167 train loss: 0.9738195339838663 test loss: 2.2739455699920654\n",
      "Epoch 168 train loss: 0.972666974578585 test loss: 1.749232530593872\n",
      "Epoch 169 train loss: 0.9744908618075507 test loss: 1.748407244682312\n",
      "Epoch 170 train loss: 0.9730796210822605 test loss: 2.173372983932495\n",
      "Epoch 171 train loss: 0.9880284092256001 test loss: 2.3164069652557373\n",
      "Epoch 172 train loss: 0.9755042330140159 test loss: 1.8229049444198608\n",
      "Epoch 173 train loss: 0.9874566786345982 test loss: 1.8414558172225952\n",
      "Epoch 174 train loss: 1.0386959974254881 test loss: 1.717372179031372\n",
      "Epoch 175 train loss: 1.021697685832069 test loss: 2.0672173500061035\n",
      "Epoch 176 train loss: 1.0437495041461218 test loss: 2.1834211349487305\n",
      "Epoch 177 train loss: 0.9772428352208364 test loss: 2.1412835121154785\n",
      "Epoch 178 train loss: 0.9638280272483826 test loss: 2.0130984783172607\n",
      "Epoch 179 train loss: 0.9839556962251663 test loss: 2.110447645187378\n",
      "Epoch 180 train loss: 0.9673088945093609 test loss: 1.8298088312149048\n",
      "Epoch 181 train loss: 1.004487893056302 test loss: 1.8639105558395386\n",
      "Epoch 182 train loss: 1.0290389876990091 test loss: 2.1410560607910156\n",
      "Epoch 183 train loss: 1.0004594233774005 test loss: 1.7274688482284546\n",
      "Epoch 184 train loss: 0.9660459561716943 test loss: 1.9144943952560425\n",
      "Epoch 185 train loss: 1.0171970409296809 test loss: 1.9050458669662476\n",
      "Epoch 186 train loss: 0.9917329684609458 test loss: 1.7602535486221313\n",
      "Epoch 187 train loss: 0.9720077227268901 test loss: 2.037587881088257\n",
      "Epoch 188 train loss: 0.9616270945185706 test loss: 1.7137107849121094\n",
      "Epoch 189 train loss: 1.012190158168475 test loss: 2.070979118347168\n",
      "Epoch 190 train loss: 0.9778406847090948 test loss: 2.0962183475494385\n",
      "Epoch 191 train loss: 1.0123928104128157 test loss: 2.37186598777771\n",
      "Epoch 192 train loss: 0.9957391179743267 test loss: 1.9797519445419312\n",
      "Epoch 193 train loss: 0.9710625289451509 test loss: 2.095221757888794\n",
      "Epoch 194 train loss: 0.9740754983254841 test loss: 2.1383659839630127\n",
      "Epoch 195 train loss: 1.0020351842755364 test loss: 1.9955309629440308\n",
      "Epoch 196 train loss: 0.9772884349028269 test loss: 1.8423343896865845\n",
      "Epoch 197 train loss: 0.9676082467749005 test loss: 1.900646448135376\n",
      "Epoch 198 train loss: 1.024400112174806 test loss: 2.0460329055786133\n",
      "Epoch 199 train loss: 0.9746262714976356 test loss: 1.8152382373809814\n",
      "Epoch 200 train loss: 0.9629757368848437 test loss: 2.0123279094696045\n",
      "Epoch 201 train loss: 0.9633286190884454 test loss: 2.0649774074554443\n",
      "Epoch 202 train loss: 0.969355678984097 test loss: 2.016977310180664\n",
      "Epoch 203 train loss: 0.976177840715363 test loss: 1.7116285562515259\n",
      "Epoch 204 train loss: 0.9781586634261268 test loss: 1.781754493713379\n",
      "Epoch 205 train loss: 0.9671501481816882 test loss: 2.1299214363098145\n",
      "Epoch 206 train loss: 0.9565547871447745 test loss: 1.8304550647735596\n",
      "Epoch 207 train loss: 1.0836792034762246 test loss: 2.169508934020996\n",
      "Epoch 208 train loss: 0.9620495388905207 test loss: 1.709323525428772\n",
      "Epoch 209 train loss: 0.9665866323879787 test loss: 1.7601619958877563\n",
      "Epoch 210 train loss: 0.9659845601944697 test loss: 1.8372948169708252\n",
      "Epoch 211 train loss: 0.9695151419866652 test loss: 1.8136707544326782\n",
      "Epoch 212 train loss: 0.9665469108592897 test loss: 2.0807363986968994\n",
      "Epoch 213 train loss: 1.0167372425397236 test loss: 2.159550428390503\n",
      "Epoch 214 train loss: 0.9726332081925302 test loss: 2.0610454082489014\n",
      "Epoch 215 train loss: 0.9779392189922786 test loss: 1.7467151880264282\n",
      "Epoch 216 train loss: 0.9927158965950921 test loss: 1.7510712146759033\n",
      "Epoch 217 train loss: 0.9716176724150067 test loss: 2.3757073879241943\n",
      "Epoch 218 train loss: 0.9646300602526892 test loss: 2.277815103530884\n",
      "Epoch 219 train loss: 0.9690262732051668 test loss: 2.2699735164642334\n",
      "Epoch 220 train loss: 0.9735381986413684 test loss: 1.9250301122665405\n",
      "Epoch 221 train loss: 0.9667525475933438 test loss: 1.9821016788482666\n",
      "Epoch 222 train loss: 0.9689202830195427 test loss: 1.8708162307739258\n",
      "Epoch 223 train loss: 0.9662438304651351 test loss: 1.939276099205017\n",
      "Epoch 224 train loss: 1.0044615389335723 test loss: 2.0312352180480957\n",
      "Epoch 225 train loss: 0.9964412578514644 test loss: 1.714720606803894\n",
      "Epoch 226 train loss: 0.9720908013128099 test loss: 1.8581594228744507\n",
      "Epoch 227 train loss: 0.9715565059866224 test loss: 1.9888267517089844\n",
      "Epoch 228 train loss: 1.0005045121624356 test loss: 2.3871853351593018\n",
      "Epoch 229 train loss: 0.9685264336211341 test loss: 1.7970749139785767\n",
      "Epoch 230 train loss: 0.9681291910154479 test loss: 2.0978500843048096\n",
      "Epoch 231 train loss: 0.9871953860634849 test loss: 1.8087749481201172\n",
      "Epoch 232 train loss: 0.9959475334201541 test loss: 2.3127543926239014\n",
      "Epoch 233 train loss: 1.0848179374422346 test loss: 1.9345722198486328\n",
      "Epoch 234 train loss: 1.0388889099870409 test loss: 1.7462646961212158\n",
      "Epoch 235 train loss: 0.9613967325006213 test loss: 1.9937984943389893\n",
      "Epoch 236 train loss: 0.9921850469850358 test loss: 1.7029961347579956\n",
      "Epoch 237 train loss: 0.9805705951792854 test loss: 1.7536001205444336\n",
      "Epoch 238 train loss: 1.0984129877317519 test loss: 1.9839729070663452\n",
      "Epoch 239 train loss: 0.9686696706783204 test loss: 1.7563365697860718\n",
      "Epoch 240 train loss: 0.9845530014662516 test loss: 1.7903263568878174\n",
      "Epoch 241 train loss: 0.9930727723098937 test loss: 2.107767343521118\n",
      "Epoch 242 train loss: 0.9761503899381274 test loss: 1.8062940835952759\n",
      "Epoch 243 train loss: 1.0040391378459477 test loss: 2.054236650466919\n",
      "Epoch 244 train loss: 0.9650303061519351 test loss: 2.015519857406616\n",
      "Epoch 245 train loss: 0.9862735888787678 test loss: 1.8272409439086914\n",
      "Epoch 246 train loss: 0.9709079435893467 test loss: 1.7702544927597046\n",
      "Epoch 247 train loss: 0.9901593668120248 test loss: 1.7819538116455078\n",
      "Epoch 248 train loss: 0.9629350914841607 test loss: 2.256633758544922\n",
      "Epoch 249 train loss: 0.9897389447405225 test loss: 1.6636301279067993\n",
      "Epoch 250 train loss: 0.9721710142635164 test loss: 1.965027093887329\n",
      "Epoch 251 train loss: 0.9611602418479466 test loss: 1.6881102323532104\n",
      "Epoch 252 train loss: 0.9909721385864985 test loss: 2.143618583679199\n",
      "Epoch 253 train loss: 0.9680389485188893 test loss: 1.7686470746994019\n",
      "Epoch 254 train loss: 0.9673440193846112 test loss: 1.7582460641860962\n",
      "Epoch 255 train loss: 1.0186910547670864 test loss: 1.9928702116012573\n",
      "Epoch 256 train loss: 1.0706589165188016 test loss: 2.298309326171875\n",
      "Epoch 257 train loss: 0.960876145533153 test loss: 1.9285913705825806\n",
      "Epoch 258 train loss: 1.022184709707896 test loss: 1.6602022647857666\n",
      "Epoch 259 train loss: 1.0325519889593124 test loss: 1.9761470556259155\n",
      "Epoch 260 train loss: 0.9827047167789369 test loss: 1.640015959739685\n",
      "Epoch 261 train loss: 0.9618581391516186 test loss: 1.8047786951065063\n",
      "Epoch 262 train loss: 0.9626721675906863 test loss: 1.9021644592285156\n",
      "Epoch 263 train loss: 0.9666757477181298 test loss: 1.7789386510849\n",
      "Epoch 264 train loss: 0.9644104263612202 test loss: 1.7266924381256104\n",
      "Epoch 265 train loss: 0.9735083054928553 test loss: 2.0014710426330566\n",
      "Epoch 266 train loss: 1.003766118060975 test loss: 1.761115312576294\n",
      "Epoch 267 train loss: 0.965919819616136 test loss: 1.8447531461715698\n",
      "Epoch 268 train loss: 0.9631235485985166 test loss: 2.0252718925476074\n",
      "Epoch 269 train loss: 1.0657911070045971 test loss: 1.625813364982605\n",
      "Epoch 270 train loss: 0.9710072016432172 test loss: 1.676733374595642\n",
      "Epoch 271 train loss: 0.980138843258222 test loss: 1.7418720722198486\n",
      "Epoch 272 train loss: 0.9596876502037048 test loss: 1.8676906824111938\n",
      "Epoch 273 train loss: 0.9613757303782872 test loss: 2.1722817420959473\n",
      "Epoch 274 train loss: 0.9556215110988844 test loss: 2.0047061443328857\n",
      "Epoch 275 train loss: 0.9550180428084873 test loss: 2.2006685733795166\n",
      "Epoch 276 train loss: 0.9577129767054603 test loss: 1.9605753421783447\n",
      "Epoch 277 train loss: 0.9707433510394323 test loss: 1.938717246055603\n",
      "Epoch 278 train loss: 1.0115384040843873 test loss: 1.7702419757843018\n",
      "Epoch 279 train loss: 0.9917213718096415 test loss: 1.7688121795654297\n",
      "Epoch 280 train loss: 0.9772140759797323 test loss: 1.659647822380066\n",
      "Epoch 281 train loss: 0.9558770660133589 test loss: 2.048351764678955\n",
      "Epoch 282 train loss: 0.9423111797798247 test loss: 1.9934593439102173\n",
      "Epoch 283 train loss: 0.9938352803389231 test loss: 1.898872971534729\n",
      "Epoch 284 train loss: 0.9594120440028963 test loss: 1.8188244104385376\n",
      "Epoch 285 train loss: 0.974735713785603 test loss: 1.8814436197280884\n",
      "Epoch 286 train loss: 0.9720403041158404 test loss: 2.2460670471191406\n",
      "Epoch 287 train loss: 0.9547782817057201 test loss: 2.156435489654541\n",
      "Epoch 288 train loss: 0.9677472348724093 test loss: 1.6948387622833252\n",
      "Epoch 289 train loss: 1.0073839986608142 test loss: 2.0002853870391846\n",
      "Epoch 290 train loss: 0.9682205745152065 test loss: 1.6707756519317627\n",
      "Epoch 291 train loss: 0.9694917620647521 test loss: 2.003756284713745\n",
      "Epoch 292 train loss: 1.1186978625399726 test loss: 1.9492409229278564\n",
      "Epoch 293 train loss: 0.9526575619266147 test loss: 2.0436599254608154\n",
      "Epoch 294 train loss: 0.975147755373092 test loss: 1.709100365638733\n",
      "Epoch 295 train loss: 0.9570494918596177 test loss: 1.6147030591964722\n",
      "Epoch 296 train loss: 0.9624819677500498 test loss: 1.757550835609436\n",
      "Epoch 297 train loss: 0.9526874451410203 test loss: 2.2320401668548584\n",
      "Epoch 298 train loss: 0.9936949887445995 test loss: 1.9075199365615845\n",
      "Epoch 299 train loss: 1.0006612624440874 test loss: 1.8226393461227417\n",
      "Epoch 300 train loss: 1.001607630224455 test loss: 1.622663140296936\n",
      "Epoch 301 train loss: 0.9645273841562725 test loss: 1.6857233047485352\n",
      "Epoch 302 train loss: 0.955597155150913 test loss: 1.982645034790039\n",
      "Epoch 303 train loss: 0.9676456671385538 test loss: 2.256850004196167\n",
      "Epoch 304 train loss: 0.9638264580141931 test loss: 1.7595046758651733\n",
      "Epoch 305 train loss: 0.98248919347922 test loss: 1.5631434917449951\n",
      "Epoch 306 train loss: 0.9547990894033795 test loss: 2.192497730255127\n",
      "Epoch 307 train loss: 0.9576858551729293 test loss: 1.7157394886016846\n",
      "Epoch 308 train loss: 1.0131345228070305 test loss: 1.9366451501846313\n",
      "Epoch 309 train loss: 1.004439087850707 test loss: 1.880149245262146\n",
      "Epoch 310 train loss: 1.072552978282883 test loss: 1.873040795326233\n",
      "Epoch 311 train loss: 0.9382129226412091 test loss: 1.6719499826431274\n",
      "Epoch 312 train loss: 0.954429162754899 test loss: 2.028795003890991\n",
      "Epoch 313 train loss: 1.029391110652969 test loss: 1.960348129272461\n",
      "Epoch 314 train loss: 0.9699395965962183 test loss: 1.810858964920044\n",
      "Epoch 315 train loss: 0.9409265425943193 test loss: 1.6877018213272095\n",
      "Epoch 316 train loss: 0.9573416688612529 test loss: 1.587422490119934\n",
      "Epoch 317 train loss: 0.9539499971128645 test loss: 1.915565848350525\n",
      "Epoch 318 train loss: 0.9809520790974299 test loss: 1.663839340209961\n",
      "Epoch 319 train loss: 0.9633255246139708 test loss: 1.6572954654693604\n",
      "Epoch 320 train loss: 0.9581457858993894 test loss: 1.9095309972763062\n",
      "Epoch 321 train loss: 0.9826783495289939 test loss: 2.210456609725952\n",
      "Epoch 322 train loss: 1.0586179452283042 test loss: 1.7562065124511719\n",
      "Epoch 323 train loss: 1.0201480700856163 test loss: 1.6711963415145874\n",
      "Epoch 324 train loss: 1.0115511495442617 test loss: 1.8237848281860352\n",
      "Epoch 325 train loss: 0.939002988593919 test loss: 1.937477707862854\n",
      "Epoch 326 train loss: 0.9489081739669755 test loss: 1.7257709503173828\n",
      "Epoch 327 train loss: 0.9627626020283926 test loss: 1.743395209312439\n",
      "Epoch 328 train loss: 0.954725117910476 test loss: 1.6708828210830688\n",
      "Epoch 329 train loss: 1.0053718572571164 test loss: 1.569104552268982\n",
      "Epoch 330 train loss: 0.9861923122689837 test loss: 1.584398865699768\n",
      "Epoch 331 train loss: 0.9485433917670023 test loss: 1.7652491331100464\n",
      "Epoch 332 train loss: 0.9671522627274195 test loss: 2.0231878757476807\n",
      "Epoch 333 train loss: 0.9397020041942596 test loss: 1.5856242179870605\n",
      "Epoch 334 train loss: 0.9752097594596091 test loss: 1.7890290021896362\n",
      "Epoch 335 train loss: 0.9538699580090386 test loss: 1.9121564626693726\n",
      "Epoch 336 train loss: 0.9477890857628414 test loss: 2.2258541584014893\n",
      "Epoch 337 train loss: 0.9817804857378915 test loss: 1.5379719734191895\n",
      "Epoch 338 train loss: 1.0027413226309276 test loss: 1.947832465171814\n",
      "Epoch 339 train loss: 0.9720697743552071 test loss: 1.4997862577438354\n",
      "Epoch 340 train loss: 1.057914016502244 test loss: 1.8779979944229126\n",
      "Epoch 341 train loss: 0.9508487734766233 test loss: 1.7562814950942993\n",
      "Epoch 342 train loss: 0.9364752783661797 test loss: 1.6201750040054321\n",
      "Epoch 343 train loss: 1.0536883540806317 test loss: 1.5976171493530273\n",
      "Epoch 344 train loss: 0.9658782354422978 test loss: 1.9724880456924438\n",
      "Epoch 345 train loss: 1.1284494591610772 test loss: 2.10547137260437\n",
      "Epoch 346 train loss: 0.9379265492870694 test loss: 1.9279083013534546\n",
      "Epoch 347 train loss: 0.9533691005337805 test loss: 1.9303264617919922\n",
      "Epoch 348 train loss: 1.0774517137379873 test loss: 2.029449462890625\n",
      "Epoch 349 train loss: 0.9591198230073565 test loss: 1.7064625024795532\n",
      "Epoch 350 train loss: 0.9153976483004433 test loss: 2.228665590286255\n",
      "Epoch 351 train loss: 0.9474299837435994 test loss: 1.684234619140625\n",
      "Epoch 352 train loss: 1.0650616831013135 test loss: 1.56525456905365\n",
      "Epoch 353 train loss: 0.9301373213529587 test loss: 1.8661422729492188\n",
      "Epoch 354 train loss: 0.9588774016925267 test loss: 1.8301811218261719\n",
      "Epoch 355 train loss: 0.9281456612405323 test loss: 1.8269861936569214\n",
      "Epoch 356 train loss: 0.9354277348944119 test loss: 1.5188411474227905\n",
      "Epoch 357 train loss: 0.9625861744085947 test loss: 2.128573417663574\n",
      "Epoch 358 train loss: 0.9608254936479387 test loss: 1.6015615463256836\n",
      "Epoch 359 train loss: 0.9403544366359711 test loss: 1.7144392728805542\n",
      "Epoch 360 train loss: 0.9932576417922974 test loss: 1.4871411323547363\n",
      "Epoch 361 train loss: 0.9440005712565922 test loss: 1.4920082092285156\n",
      "Epoch 362 train loss: 1.0039027084906895 test loss: 1.4888641834259033\n",
      "Epoch 363 train loss: 0.9552036985045388 test loss: 1.945264458656311\n",
      "Epoch 364 train loss: 0.9431839017640977 test loss: 1.6100780963897705\n",
      "Epoch 365 train loss: 0.9775488241797402 test loss: 1.6226370334625244\n",
      "Epoch 366 train loss: 0.9708642171961921 test loss: 1.626124620437622\n",
      "Epoch 367 train loss: 0.9596008913857597 test loss: 1.6417429447174072\n",
      "Epoch 368 train loss: 0.9648747806038175 test loss: 1.7601321935653687\n",
      "Epoch 369 train loss: 1.007361759742101 test loss: 1.7965103387832642\n",
      "Epoch 370 train loss: 0.9252628896917615 test loss: 1.9498569965362549\n",
      "Epoch 371 train loss: 0.952985562029339 test loss: 1.9057906866073608\n",
      "Epoch 372 train loss: 0.9582872802302951 test loss: 1.5395780801773071\n",
      "Epoch 373 train loss: 0.9846889390831902 test loss: 1.594286561012268\n",
      "Epoch 374 train loss: 0.9975550061180478 test loss: 1.8246126174926758\n",
      "Epoch 375 train loss: 0.9325806392090661 test loss: 2.07138991355896\n",
      "Epoch 376 train loss: 0.9279657446202778 test loss: 1.9219236373901367\n",
      "Epoch 377 train loss: 0.9293831537167231 test loss: 1.7028754949569702\n",
      "Epoch 378 train loss: 0.9436135100466865 test loss: 1.9572938680648804\n",
      "Epoch 379 train loss: 0.9466698098750341 test loss: 2.214097738265991\n",
      "Epoch 380 train loss: 0.9426154444615046 test loss: 1.5195330381393433\n",
      "Epoch 381 train loss: 0.8789366948462668 test loss: 1.6654176712036133\n",
      "Epoch 382 train loss: 0.9819744807623682 test loss: 1.5438908338546753\n",
      "Epoch 383 train loss: 0.9575564783243906 test loss: 1.6753638982772827\n",
      "Epoch 384 train loss: 0.9393853736775262 test loss: 1.605603575706482\n",
      "Epoch 385 train loss: 0.92666250006074 test loss: 1.6896358728408813\n",
      "Epoch 386 train loss: 0.9788119154317039 test loss: 1.5636816024780273\n",
      "Epoch 387 train loss: 0.9230894822449911 test loss: 1.9126631021499634\n",
      "Epoch 388 train loss: 0.942735628712745 test loss: 1.8145431280136108\n",
      "Epoch 389 train loss: 0.9341689404987153 test loss: 1.9578431844711304\n",
      "Epoch 390 train loss: 0.9402801770539511 test loss: 1.9268897771835327\n",
      "Epoch 391 train loss: 0.9239196181297302 test loss: 1.8581713438034058\n",
      "Epoch 392 train loss: 0.9086133167147636 test loss: 1.604622483253479\n",
      "Epoch 393 train loss: 0.960127809217998 test loss: 1.5855668783187866\n",
      "Epoch 394 train loss: 0.9537218489817211 test loss: 1.549973487854004\n",
      "Epoch 395 train loss: 0.939225605555943 test loss: 2.0225017070770264\n",
      "Epoch 396 train loss: 0.9474595380680901 test loss: 1.5073959827423096\n",
      "Epoch 397 train loss: 1.0679337573902947 test loss: 2.180056095123291\n",
      "Epoch 398 train loss: 0.9448644206637428 test loss: 2.1842899322509766\n",
      "Epoch 399 train loss: 0.9139837736175174 test loss: 2.13383412361145\n",
      "Epoch 400 train loss: 0.9058243852286112 test loss: 1.651810884475708\n",
      "Epoch 401 train loss: 0.9620223087923867 test loss: 2.039792060852051\n",
      "Epoch 402 train loss: 0.9489152623074395 test loss: 2.071746826171875\n",
      "Epoch 403 train loss: 0.8770320905106408 test loss: 2.1487104892730713\n",
      "Epoch 404 train loss: 0.985537534668332 test loss: 1.4828951358795166\n",
      "Epoch 405 train loss: 0.9584496237692379 test loss: 1.5157265663146973\n",
      "Epoch 406 train loss: 0.941422293583552 test loss: 1.5820878744125366\n",
      "Epoch 407 train loss: 1.0513535063891184 test loss: 2.0636353492736816\n",
      "Epoch 408 train loss: 0.9006733915635518 test loss: 1.7162748575210571\n",
      "Epoch 409 train loss: 0.9218574744604883 test loss: 1.5856459140777588\n",
      "Epoch 410 train loss: 0.9934904192175184 test loss: 1.5831513404846191\n",
      "Epoch 411 train loss: 0.9372362072269121 test loss: 1.8477836847305298\n",
      "Epoch 412 train loss: 0.9568264001891726 test loss: 2.0193285942077637\n",
      "Epoch 413 train loss: 0.9219051904621578 test loss: 1.8337658643722534\n",
      "Epoch 414 train loss: 0.949246217807134 test loss: 1.27169930934906\n",
      "Epoch 415 train loss: 0.9661658321108136 test loss: 1.4415532350540161\n",
      "Epoch 416 train loss: 0.8734756410121918 test loss: 1.7744457721710205\n",
      "Epoch 417 train loss: 0.9191873577379045 test loss: 1.4800101518630981\n",
      "Epoch 418 train loss: 1.0010437333867663 test loss: 1.5145148038864136\n",
      "Epoch 419 train loss: 0.9123961042080607 test loss: 1.3411086797714233\n",
      "Epoch 420 train loss: 0.958336030798299 test loss: 1.3615944385528564\n",
      "Epoch 421 train loss: 0.9179600473670733 test loss: 1.6229084730148315\n",
      "Epoch 422 train loss: 0.9172689964373907 test loss: 1.4939836263656616\n",
      "Epoch 423 train loss: 0.9013666443171955 test loss: 1.594933032989502\n",
      "Epoch 424 train loss: 0.985635125211307 test loss: 1.4828356504440308\n",
      "Epoch 425 train loss: 0.9499214270285198 test loss: 1.4012507200241089\n",
      "Epoch 426 train loss: 0.943207310069175 test loss: 1.6014496088027954\n",
      "Epoch 427 train loss: 0.940258937222617 test loss: 1.6530096530914307\n",
      "Epoch 428 train loss: 0.8844340727442787 test loss: 1.4089744091033936\n",
      "Epoch 429 train loss: 0.9467820276816686 test loss: 1.3215653896331787\n",
      "Epoch 430 train loss: 0.9185383390812647 test loss: 1.5808578729629517\n",
      "Epoch 431 train loss: 0.9664443482955297 test loss: 1.573098063468933\n",
      "Epoch 432 train loss: 0.9856094334806714 test loss: 2.2003605365753174\n",
      "Epoch 433 train loss: 0.9356379381247929 test loss: 1.611851692199707\n",
      "Epoch 434 train loss: 0.9929919760851633 test loss: 1.387986183166504\n",
      "Epoch 435 train loss: 0.9730095529840106 test loss: 1.6503371000289917\n",
      "Epoch 436 train loss: 0.949329334355536 test loss: 1.7583372592926025\n",
      "Epoch 437 train loss: 0.9126874854167303 test loss: 1.591513991355896\n",
      "Epoch 438 train loss: 0.9292423285189129 test loss: 1.7519562244415283\n",
      "Epoch 439 train loss: 0.9400414622255734 test loss: 1.8998123407363892\n",
      "Epoch 440 train loss: 0.965291732833499 test loss: 1.9137153625488281\n",
      "Epoch 441 train loss: 0.9737967792011443 test loss: 1.8625408411026\n",
      "Epoch 442 train loss: 0.9439984077499026 test loss: 1.448229432106018\n",
      "Epoch 443 train loss: 0.9520199114368075 test loss: 1.5379958152770996\n",
      "Epoch 444 train loss: 0.9193840048142842 test loss: 1.5678948163986206\n",
      "Epoch 445 train loss: 0.9666241286765962 test loss: 1.4955447912216187\n",
      "Epoch 446 train loss: 0.9041572103188151 test loss: 1.5740371942520142\n",
      "Epoch 447 train loss: 0.9187090950352805 test loss: 1.8228654861450195\n",
      "Epoch 448 train loss: 0.8747634979940596 test loss: 1.5897616147994995\n",
      "Epoch 449 train loss: 0.8908620607994852 test loss: 1.814398169517517\n",
      "Epoch 450 train loss: 0.9150732564074653 test loss: 1.8514368534088135\n",
      "Epoch 451 train loss: 0.988102831301235 test loss: 1.5983690023422241\n",
      "Epoch 452 train loss: 0.9225629589387349 test loss: 1.348695158958435\n",
      "Epoch 453 train loss: 0.8461944851137343 test loss: 1.3586375713348389\n",
      "Epoch 454 train loss: 0.9483394381545839 test loss: 2.214414596557617\n",
      "Epoch 455 train loss: 0.895396500825882 test loss: 1.4275320768356323\n",
      "Epoch 456 train loss: 0.8591402084344909 test loss: 1.3773199319839478\n",
      "Epoch 457 train loss: 0.8707110030310494 test loss: 1.7019054889678955\n",
      "Epoch 458 train loss: 0.9403489792630786 test loss: 1.5914674997329712\n",
      "Epoch 459 train loss: 0.870460451004051 test loss: 1.2829757928848267\n",
      "Epoch 460 train loss: 0.8350856389318194 test loss: 1.5748134851455688\n",
      "Epoch 461 train loss: 0.9100288472005299 test loss: 1.580740213394165\n",
      "Epoch 462 train loss: 0.9653703229767936 test loss: 1.6744674444198608\n",
      "Epoch 463 train loss: 0.9232669054042726 test loss: 1.4577772617340088\n",
      "Epoch 464 train loss: 0.9038610486757188 test loss: 1.544155478477478\n",
      "Epoch 465 train loss: 0.9067059819187436 test loss: 1.8128734827041626\n",
      "Epoch 466 train loss: 0.8273437328281856 test loss: 1.7787542343139648\n",
      "Epoch 467 train loss: 0.854184129053638 test loss: 1.6678818464279175\n",
      "Epoch 468 train loss: 0.8576988450118473 test loss: 1.7233413457870483\n",
      "Epoch 469 train loss: 0.8429968030679793 test loss: 1.6632763147354126\n",
      "Epoch 470 train loss: 0.8463388841067042 test loss: 1.8257144689559937\n",
      "Epoch 471 train loss: 0.9322468730665389 test loss: 1.3755513429641724\n",
      "Epoch 472 train loss: 0.9418187545878547 test loss: 1.3456732034683228\n",
      "Epoch 473 train loss: 0.9087144328015191 test loss: 1.7212421894073486\n",
      "Epoch 474 train loss: 0.941600040310905 test loss: 1.2855955362319946\n",
      "Epoch 475 train loss: 0.8992964100270044 test loss: 1.614518404006958\n",
      "Epoch 476 train loss: 0.8817319568423998 test loss: 1.676401972770691\n",
      "Epoch 477 train loss: 0.9587813952849025 test loss: 1.2760816812515259\n",
      "Epoch 478 train loss: 0.9649778505166372 test loss: 1.3055728673934937\n",
      "Epoch 479 train loss: 0.8977673855565843 test loss: 1.4583278894424438\n",
      "Epoch 480 train loss: 0.9153978512400672 test loss: 1.4849798679351807\n",
      "Epoch 481 train loss: 0.9518218679087502 test loss: 1.4618449211120605\n",
      "Epoch 482 train loss: 0.8918758921679997 test loss: 1.4280235767364502\n",
      "Epoch 483 train loss: 0.9207925125956535 test loss: 1.5092514753341675\n",
      "Epoch 484 train loss: 0.9101762849660147 test loss: 1.4483600854873657\n",
      "Epoch 485 train loss: 0.8959314546414784 test loss: 1.34734046459198\n",
      "Epoch 486 train loss: 0.9426558656351907 test loss: 1.7185300588607788\n",
      "Epoch 487 train loss: 0.7946208374840873 test loss: 1.3387516736984253\n",
      "Epoch 488 train loss: 0.9572753416640418 test loss: 1.3743135929107666\n",
      "Epoch 489 train loss: 1.028232231026604 test loss: 1.2520697116851807\n",
      "Epoch 490 train loss: 0.8672399996292024 test loss: 0.9336785674095154\n",
      "Epoch 491 train loss: 0.8561445141122455 test loss: 1.506125807762146\n",
      "Epoch 492 train loss: 0.851477291612398 test loss: 1.4698376655578613\n",
      "Epoch 493 train loss: 0.8979176630576452 test loss: 1.6651605367660522\n",
      "Epoch 494 train loss: 0.903026544267223 test loss: 1.2864714860916138\n",
      "Epoch 495 train loss: 0.893620090115638 test loss: 1.4365122318267822\n",
      "Epoch 496 train loss: 0.916086590715817 test loss: 1.3532899618148804\n",
      "Epoch 497 train loss: 0.8387023238908677 test loss: 1.3451247215270996\n",
      "Epoch 498 train loss: 0.8999442678122294 test loss: 1.2986524105072021\n",
      "Epoch 499 train loss: 0.8894093285004298 test loss: 1.1837809085845947\n",
      "Epoch 500 train loss: 0.9054391015143621 test loss: 1.3195723295211792\n",
      "Epoch 501 train loss: 0.8673558724778039 test loss: 1.8300613164901733\n",
      "Epoch 502 train loss: 0.8576852530241013 test loss: 1.3036454916000366\n",
      "Epoch 503 train loss: 0.8421126710517066 test loss: 1.3707422018051147\n",
      "Epoch 504 train loss: 0.9234509936400822 test loss: 1.6886348724365234\n",
      "Epoch 505 train loss: 0.8099499898297446 test loss: 1.6980053186416626\n",
      "Epoch 506 train loss: 0.826751980043593 test loss: 1.5033515691757202\n",
      "Epoch 507 train loss: 0.9858184478112629 test loss: 1.9472477436065674\n",
      "Epoch 508 train loss: 0.8399259079070318 test loss: 1.3010492324829102\n",
      "Epoch 509 train loss: 0.870245961915879 test loss: 1.2974010705947876\n",
      "Epoch 510 train loss: 0.8667183383589699 test loss: 1.3175857067108154\n",
      "Epoch 511 train loss: 0.7998372919502712 test loss: 1.3111966848373413\n",
      "Epoch 512 train loss: 0.8668924364305678 test loss: 1.3900254964828491\n",
      "Epoch 513 train loss: 0.8369551272619338 test loss: 1.0793452262878418\n",
      "Epoch 514 train loss: 0.9379717367036002 test loss: 1.4515103101730347\n",
      "Epoch 515 train loss: 0.9279014379495666 test loss: 1.2462739944458008\n",
      "Epoch 516 train loss: 0.9284947997047788 test loss: 1.2017563581466675\n",
      "Epoch 517 train loss: 0.8358343605484281 test loss: 1.3203392028808594\n",
      "Epoch 518 train loss: 0.8689215864453997 test loss: 1.3987253904342651\n",
      "Epoch 519 train loss: 0.9736913832880202 test loss: 1.4205188751220703\n",
      "Epoch 520 train loss: 0.8796461934135074 test loss: 1.7252979278564453\n",
      "Epoch 521 train loss: 0.8405868659416834 test loss: 1.4555119276046753\n",
      "Epoch 522 train loss: 0.8824233817202705 test loss: 1.4173535108566284\n",
      "Epoch 523 train loss: 0.9357902162841388 test loss: 1.7097408771514893\n",
      "Epoch 524 train loss: 0.8230748616513752 test loss: 1.3388327360153198\n",
      "Epoch 525 train loss: 0.8725314260948271 test loss: 1.6391527652740479\n",
      "Epoch 526 train loss: 0.9776157240072886 test loss: 1.3080884218215942\n",
      "Epoch 527 train loss: 0.8457352632567996 test loss: 1.3766727447509766\n",
      "Epoch 528 train loss: 0.8938097347106252 test loss: 1.4550732374191284\n",
      "Epoch 529 train loss: 0.9151372419936317 test loss: 1.2948750257492065\n",
      "Epoch 530 train loss: 0.9323021549554098 test loss: 0.992304801940918\n",
      "Epoch 531 train loss: 0.868703808103289 test loss: 1.0116971731185913\n",
      "Epoch 532 train loss: 0.906915936086859 test loss: 1.3913204669952393\n",
      "Epoch 533 train loss: 0.893420180394536 test loss: 1.3647329807281494\n",
      "Epoch 534 train loss: 0.9225353353789875 test loss: 1.3030890226364136\n",
      "Epoch 535 train loss: 0.8881269079588708 test loss: 1.5390526056289673\n",
      "Epoch 536 train loss: 0.9120291464385533 test loss: 1.4910188913345337\n",
      "Epoch 537 train loss: 0.9669478120548385 test loss: 1.4347895383834839\n",
      "Epoch 538 train loss: 0.8191799429200944 test loss: 1.8770151138305664\n",
      "Epoch 539 train loss: 0.9372706839016506 test loss: 1.3838789463043213\n",
      "Epoch 540 train loss: 0.8722741539989199 test loss: 1.3530112504959106\n",
      "Epoch 541 train loss: 0.8439835267407554 test loss: 0.9292311072349548\n",
      "Epoch 542 train loss: 0.7750992923974991 test loss: 1.0550512075424194\n",
      "Epoch 543 train loss: 0.8044195451906749 test loss: 1.1823362112045288\n",
      "Epoch 544 train loss: 0.916806877723762 test loss: 1.4196152687072754\n",
      "Epoch 545 train loss: 0.8214222873960223 test loss: 1.5003585815429688\n",
      "Epoch 546 train loss: 0.7946379688524065 test loss: 1.2909339666366577\n",
      "Epoch 547 train loss: 0.7942998366696494 test loss: 1.837693452835083\n",
      "Epoch 548 train loss: 0.8510384424811318 test loss: 1.1500184535980225\n",
      "Epoch 549 train loss: 0.9436038654474985 test loss: 0.9572834372520447\n",
      "Epoch 550 train loss: 0.9151794250522342 test loss: 1.4825061559677124\n",
      "Epoch 551 train loss: 0.8039013321201006 test loss: 1.271008849143982\n",
      "Epoch 552 train loss: 0.6941175368570146 test loss: 1.3834441900253296\n",
      "Epoch 553 train loss: 0.8947341435012364 test loss: 1.4798301458358765\n",
      "Epoch 554 train loss: 0.9022706888970875 test loss: 1.7225109338760376\n",
      "Epoch 555 train loss: 0.8277333378791809 test loss: 1.1888219118118286\n",
      "Epoch 556 train loss: 1.0402908658697492 test loss: 1.3529239892959595\n",
      "Epoch 557 train loss: 0.8133528523501896 test loss: 1.1597832441329956\n",
      "Epoch 558 train loss: 0.84950628947644 test loss: 1.3885138034820557\n",
      "Epoch 559 train loss: 0.8921786844730377 test loss: 1.4754981994628906\n",
      "Epoch 560 train loss: 0.9093566515616008 test loss: 1.677920937538147\n",
      "Epoch 561 train loss: 0.7671206167766026 test loss: 1.589307188987732\n",
      "Epoch 562 train loss: 0.9030016305900755 test loss: 1.1101776361465454\n",
      "Epoch 563 train loss: 0.8795793507070768 test loss: 1.2709059715270996\n",
      "Epoch 564 train loss: 0.9160526689319384 test loss: 1.3414236307144165\n",
      "Epoch 565 train loss: 0.7351815924048424 test loss: 1.7946094274520874\n",
      "Epoch 566 train loss: 0.8698795796150253 test loss: 1.4032236337661743\n",
      "Epoch 567 train loss: 0.9195384887002763 test loss: 1.4256571531295776\n",
      "Epoch 568 train loss: 0.8003815887939363 test loss: 1.2427171468734741\n",
      "Epoch 569 train loss: 0.8396134681644893 test loss: 1.5069950819015503\n",
      "Epoch 570 train loss: 0.8884434870311192 test loss: 1.5631561279296875\n",
      "Epoch 571 train loss: 0.8813333291383016 test loss: 1.7513986825942993\n",
      "Epoch 572 train loss: 0.8012788387991133 test loss: 1.1267813444137573\n",
      "Epoch 573 train loss: 0.7505920011372793 test loss: 1.6070159673690796\n",
      "Epoch 574 train loss: 0.7553388121582213 test loss: 1.5375425815582275\n",
      "Epoch 575 train loss: 0.7852475873771168 test loss: 1.0396592617034912\n",
      "Epoch 576 train loss: 0.9929287866467521 test loss: 1.2116950750350952\n",
      "Epoch 577 train loss: 1.0081068532807487 test loss: 1.454591155052185\n",
      "Epoch 578 train loss: 0.8780325658264614 test loss: 1.2340587377548218\n",
      "Epoch 579 train loss: 0.9444788658902759 test loss: 1.536460518836975\n",
      "Epoch 580 train loss: 0.9505518440689359 test loss: 0.97821444272995\n",
      "Epoch 581 train loss: 0.7765046123947416 test loss: 1.2301548719406128\n",
      "Epoch 582 train loss: 0.8380652971210933 test loss: 1.7522743940353394\n",
      "Epoch 583 train loss: 0.866154412428538 test loss: 0.9371519088745117\n",
      "Epoch 584 train loss: 0.8294469135857764 test loss: 1.074271321296692\n",
      "Epoch 585 train loss: 0.9358856443847928 test loss: 1.1684454679489136\n",
      "Epoch 586 train loss: 0.8746577749649683 test loss: 0.9190160036087036\n",
      "Epoch 587 train loss: 0.8747980789769263 test loss: 1.3444205522537231\n",
      "Epoch 588 train loss: 0.7974900958083925 test loss: 1.3204947710037231\n",
      "Epoch 589 train loss: 0.8325845255028634 test loss: 1.3134349584579468\n",
      "Epoch 590 train loss: 0.8448112337362199 test loss: 1.0369428396224976\n",
      "Epoch 591 train loss: 0.7440271484000343 test loss: 1.9387648105621338\n",
      "Epoch 592 train loss: 0.9599804644073758 test loss: 1.1493382453918457\n",
      "Epoch 593 train loss: 0.7804497679074606 test loss: 1.3159257173538208\n",
      "Epoch 594 train loss: 0.8188258430787495 test loss: 2.0192208290100098\n",
      "Epoch 595 train loss: 0.863041755698976 test loss: 0.8650795221328735\n",
      "Epoch 596 train loss: 0.8146406085718245 test loss: 1.4654793739318848\n",
      "Epoch 597 train loss: 0.7722965092176483 test loss: 1.6327747106552124\n",
      "Epoch 598 train loss: 0.6753692385696229 test loss: 1.5511430501937866\n",
      "Epoch 599 train loss: 0.9076258391141891 test loss: 1.7487016916275024\n",
      "Epoch 600 train loss: 0.8831331006118229 test loss: 1.0232442617416382\n",
      "Epoch 601 train loss: 0.8639595643395469 test loss: 1.541162133216858\n",
      "Epoch 602 train loss: 0.767499600137983 test loss: 1.6213467121124268\n",
      "Epoch 603 train loss: 0.9275368104378382 test loss: 1.2259145975112915\n",
      "Epoch 604 train loss: 0.7335053614917255 test loss: 1.3215163946151733\n",
      "Epoch 605 train loss: 0.8027216504727092 test loss: 1.0833896398544312\n",
      "Epoch 606 train loss: 0.8519052118062973 test loss: 0.7961804270744324\n",
      "Epoch 607 train loss: 0.8837753083734285 test loss: 1.1200560331344604\n",
      "Epoch 608 train loss: 0.8613575051228205 test loss: 1.5641367435455322\n",
      "Epoch 609 train loss: 0.8589889396514211 test loss: 1.5580459833145142\n",
      "Epoch 610 train loss: 0.7784500008537656 test loss: 1.3230350017547607\n",
      "Epoch 611 train loss: 0.8007111222971053 test loss: 1.4563467502593994\n",
      "Epoch 612 train loss: 0.8955865154663721 test loss: 1.202536702156067\n",
      "Epoch 613 train loss: 0.9553284375440507 test loss: 1.3365951776504517\n",
      "Epoch 614 train loss: 0.8392440172887984 test loss: 1.2530765533447266\n",
      "Epoch 615 train loss: 0.7855948961916424 test loss: 1.142366886138916\n",
      "Epoch 616 train loss: 0.9032897558950242 test loss: 1.0450347661972046\n",
      "Epoch 617 train loss: 0.8356359359763917 test loss: 1.2946960926055908\n",
      "Epoch 618 train loss: 0.7886698792378107 test loss: 1.0619356632232666\n",
      "Epoch 619 train loss: 0.8158100382203147 test loss: 1.4514814615249634\n",
      "Epoch 620 train loss: 0.7201285564473697 test loss: 0.8179926872253418\n",
      "Epoch 621 train loss: 0.8203087697426478 test loss: 1.4000297784805298\n",
      "Epoch 622 train loss: 0.7089672769818988 test loss: 1.1094387769699097\n",
      "Epoch 623 train loss: 0.8303138379539762 test loss: 1.2592469453811646\n",
      "Epoch 624 train loss: 0.8445127790882474 test loss: 0.8564867973327637\n",
      "Epoch 625 train loss: 0.9099300869164013 test loss: 1.139418363571167\n",
      "Epoch 626 train loss: 0.8083734157539549 test loss: 1.4365370273590088\n",
      "Epoch 627 train loss: 0.838581335686502 test loss: 1.1067540645599365\n",
      "Epoch 628 train loss: 0.6776413023471832 test loss: 1.4380724430084229\n",
      "Epoch 629 train loss: 0.7970276325941086 test loss: 2.0404648780822754\n",
      "Epoch 630 train loss: 0.7881888988472167 test loss: 1.6815446615219116\n",
      "Epoch 631 train loss: 0.76950637002786 test loss: 1.125578761100769\n",
      "Epoch 632 train loss: 0.7414303038801465 test loss: 1.2970776557922363\n",
      "Epoch 633 train loss: 0.8410808862674803 test loss: 2.108417510986328\n",
      "Epoch 634 train loss: 0.7348290649907929 test loss: 1.4796960353851318\n",
      "Epoch 635 train loss: 0.6588438969282877 test loss: 1.4546459913253784\n",
      "Epoch 636 train loss: 0.795753035516966 test loss: 1.5382529497146606\n",
      "Epoch 637 train loss: 0.7994356155395508 test loss: 1.3697407245635986\n",
      "Epoch 638 train loss: 0.8461912799449194 test loss: 1.0328971147537231\n",
      "Epoch 639 train loss: 0.7676909289189747 test loss: 2.1986451148986816\n",
      "Epoch 640 train loss: 0.8456308174700964 test loss: 1.489364504814148\n",
      "Epoch 641 train loss: 0.9584186240321114 test loss: 0.9178566336631775\n",
      "Epoch 642 train loss: 0.7938475764933086 test loss: 1.7623704671859741\n",
      "Epoch 643 train loss: 0.785706666963441 test loss: 1.4789927005767822\n",
      "Epoch 644 train loss: 0.7619827340046564 test loss: 1.7036612033843994\n",
      "Epoch 645 train loss: 0.8334050593631608 test loss: 0.83331298828125\n",
      "Epoch 646 train loss: 0.7642333606878916 test loss: 1.5162667036056519\n",
      "Epoch 647 train loss: 0.8201436538781438 test loss: 0.8441266417503357\n",
      "Epoch 648 train loss: 0.8809609200273242 test loss: 1.2487733364105225\n",
      "Epoch 649 train loss: 0.7534777763343993 test loss: 2.6753523349761963\n",
      "Epoch 650 train loss: 0.8617179769845236 test loss: 1.3741768598556519\n",
      "Epoch 651 train loss: 0.7309437997284389 test loss: 1.4153811931610107\n",
      "Epoch 652 train loss: 0.6567030804497855 test loss: 1.4273771047592163\n",
      "Epoch 653 train loss: 0.6528787243933905 test loss: 1.4259977340698242\n",
      "Epoch 654 train loss: 0.8258127335991178 test loss: 0.8788545727729797\n",
      "Epoch 655 train loss: 0.8534021193072909 test loss: 1.6661700010299683\n",
      "Epoch 656 train loss: 0.8452772455556052 test loss: 2.3734335899353027\n",
      "Epoch 657 train loss: 0.7832297476984206 test loss: 2.3900928497314453\n",
      "Epoch 658 train loss: 0.7913019188812801 test loss: 1.9627745151519775\n",
      "Epoch 659 train loss: 0.7449957274255299 test loss: 1.2856113910675049\n",
      "Epoch 660 train loss: 0.9118013438724336 test loss: 1.6662044525146484\n",
      "Epoch 661 train loss: 0.7706496183361325 test loss: 1.6888567209243774\n",
      "Epoch 662 train loss: 0.8401057968537012 test loss: 1.4317474365234375\n",
      "Epoch 663 train loss: 0.8545017380799566 test loss: 0.8723574876785278\n",
      "Epoch 664 train loss: 0.784799323905082 test loss: 1.941038966178894\n",
      "Epoch 665 train loss: 0.7572259888762519 test loss: 1.4404563903808594\n",
      "Epoch 666 train loss: 0.6618235600846154 test loss: 1.8372392654418945\n",
      "Epoch 667 train loss: 0.7851865660576594 test loss: 1.664384126663208\n",
      "Epoch 668 train loss: 0.8261553169715972 test loss: 0.7464266419410706\n",
      "Epoch 669 train loss: 0.6947956379680407 test loss: 1.6132946014404297\n",
      "Epoch 670 train loss: 0.8592295650215376 test loss: 1.944879174232483\n",
      "Epoch 671 train loss: 0.7099024994032723 test loss: 1.4971617460250854\n",
      "Epoch 672 train loss: 0.7973608246871403 test loss: 1.7219289541244507\n",
      "Epoch 673 train loss: 0.8523873920951571 test loss: 1.8836530447006226\n",
      "Epoch 674 train loss: 0.8581979884987786 test loss: 1.8906776905059814\n",
      "Epoch 675 train loss: 0.844087099035581 test loss: 1.4239429235458374\n",
      "Epoch 676 train loss: 0.7553681589308239 test loss: 1.514391303062439\n",
      "Epoch 677 train loss: 0.7254543332826524 test loss: 1.6637805700302124\n",
      "Epoch 678 train loss: 0.907495148834728 test loss: 1.2679071426391602\n",
      "Epoch 679 train loss: 0.7399671964702152 test loss: 1.4664987325668335\n",
      "Epoch 680 train loss: 0.816549287665458 test loss: 1.1999355554580688\n",
      "Epoch 681 train loss: 0.6477092838003522 test loss: 1.2982934713363647\n",
      "Epoch 682 train loss: 0.7844466776365325 test loss: 1.3492404222488403\n",
      "Epoch 683 train loss: 0.7268745203812917 test loss: 1.6566078662872314\n",
      "Epoch 684 train loss: 0.7939668006840206 test loss: 1.287710428237915\n",
      "Epoch 685 train loss: 0.734995305183388 test loss: 0.8694316148757935\n",
      "Epoch 686 train loss: 0.7115088289692288 test loss: 1.6763591766357422\n",
      "Epoch 687 train loss: 0.8451485030707859 test loss: 1.6103811264038086\n",
      "Epoch 688 train loss: 0.7287632571089835 test loss: 1.425379991531372\n",
      "Epoch 689 train loss: 0.800401637951533 test loss: 1.7399355173110962\n",
      "Epoch 690 train loss: 0.7532862141018822 test loss: 2.1374003887176514\n",
      "Epoch 691 train loss: 0.8044094982601347 test loss: 1.4827582836151123\n",
      "Epoch 692 train loss: 0.8181995231480825 test loss: 1.7355064153671265\n",
      "Epoch 693 train loss: 0.8542163471380869 test loss: 1.6238549947738647\n",
      "Epoch 694 train loss: 0.8206246750695365 test loss: 2.117652654647827\n",
      "Epoch 695 train loss: 0.8215132369881585 test loss: 1.6838480234146118\n",
      "Epoch 696 train loss: 0.7690824266700518 test loss: 1.9447689056396484\n",
      "Epoch 697 train loss: 0.7196507560355323 test loss: 1.0082964897155762\n",
      "Epoch 698 train loss: 0.872972907054992 test loss: 1.6968374252319336\n",
      "Epoch 699 train loss: 0.7391822015245756 test loss: 2.192373037338257\n",
      "Epoch 700 train loss: 0.8198275974109059 test loss: 1.617558479309082\n",
      "Epoch 701 train loss: 0.7888686046713874 test loss: 1.3830159902572632\n",
      "Epoch 702 train loss: 0.7220318324509121 test loss: 1.033029317855835\n",
      "Epoch 703 train loss: 0.7300319075584412 test loss: 0.8352972865104675\n",
      "Epoch 704 train loss: 0.8000597393228894 test loss: 1.7150779962539673\n",
      "Epoch 705 train loss: 0.828481165426118 test loss: 1.0357471704483032\n",
      "Epoch 706 train loss: 0.8395514218580156 test loss: 1.398949384689331\n",
      "Epoch 707 train loss: 0.7238573683869272 test loss: 2.4016339778900146\n",
      "Epoch 708 train loss: 0.668276458978653 test loss: 2.033332109451294\n",
      "Epoch 709 train loss: 0.6854814134892964 test loss: 3.149423360824585\n",
      "Epoch 710 train loss: 0.8446054302510762 test loss: 1.3177086114883423\n",
      "Epoch 711 train loss: 0.6496710713420596 test loss: 1.0088307857513428\n",
      "Epoch 712 train loss: 0.8497517783017385 test loss: 1.685342788696289\n",
      "Epoch 713 train loss: 0.6564047936172712 test loss: 2.092491626739502\n",
      "Epoch 714 train loss: 0.9520613792396727 test loss: 1.378926396369934\n",
      "Epoch 715 train loss: 0.7167125042705309 test loss: 1.3408602476119995\n",
      "Epoch 716 train loss: 0.7667975851467678 test loss: 1.3350359201431274\n",
      "Epoch 717 train loss: 0.7496678829193115 test loss: 1.4338984489440918\n",
      "Epoch 718 train loss: 0.8513646927617845 test loss: 1.190548300743103\n",
      "Epoch 719 train loss: 0.7486633246853238 test loss: 1.6285969018936157\n",
      "Epoch 720 train loss: 0.83292570071561 test loss: 1.741307258605957\n",
      "Epoch 721 train loss: 0.6089399542127337 test loss: 1.53053879737854\n",
      "Epoch 722 train loss: 0.8918272625832331 test loss: 2.301884651184082\n",
      "Epoch 723 train loss: 0.8334616358791079 test loss: 1.5848053693771362\n",
      "Epoch 724 train loss: 0.7787786690252168 test loss: 1.347994089126587\n",
      "Epoch 725 train loss: 0.6968090087175369 test loss: 2.1538283824920654\n",
      "Epoch 726 train loss: 0.7188653498888016 test loss: 2.178940534591675\n",
      "Epoch 727 train loss: 0.6252990521135784 test loss: 1.2367042303085327\n",
      "Epoch 728 train loss: 0.818044533332189 test loss: 1.383009910583496\n",
      "Epoch 729 train loss: 0.8834163305305299 test loss: 1.7175607681274414\n",
      "Epoch 730 train loss: 0.734995363723664 test loss: 1.9615871906280518\n",
      "Epoch 731 train loss: 0.6259711115133195 test loss: 1.0313369035720825\n",
      "Epoch 732 train loss: 0.6850990596271697 test loss: 1.4802978038787842\n",
      "Epoch 733 train loss: 0.7451844123147783 test loss: 2.336613893508911\n",
      "Epoch 734 train loss: 0.8423616616498857 test loss: 1.4912636280059814\n",
      "Epoch 735 train loss: 0.6593732574865931 test loss: 1.8771637678146362\n",
      "Epoch 736 train loss: 0.7145355918577739 test loss: 1.1751888990402222\n",
      "Epoch 737 train loss: 0.70035824463481 test loss: 2.432119131088257\n",
      "Epoch 738 train loss: 0.7257268592005685 test loss: 1.1720699071884155\n",
      "Epoch 739 train loss: 0.9108356301273618 test loss: 1.3603163957595825\n",
      "Epoch 740 train loss: 0.8404212246338526 test loss: 3.7410645484924316\n",
      "Epoch 741 train loss: 0.715969613620213 test loss: 1.9062073230743408\n",
      "Epoch 742 train loss: 0.6805062166282109 test loss: 1.6430332660675049\n",
      "Epoch 743 train loss: 0.7424648169960294 test loss: 3.036965847015381\n",
      "Epoch 744 train loss: 0.6163098425382659 test loss: 1.2569702863693237\n",
      "Epoch 745 train loss: 0.6521769215663274 test loss: 2.303280830383301\n",
      "Epoch 746 train loss: 0.6898190528154373 test loss: 1.3428088426589966\n",
      "Epoch 747 train loss: 0.7436862332480294 test loss: 2.954885244369507\n",
      "Epoch 748 train loss: 0.6082531593385196 test loss: 1.3900338411331177\n",
      "Epoch 749 train loss: 0.6834262765589214 test loss: 1.2331219911575317\n",
      "Epoch 750 train loss: 0.7590974406117484 test loss: 3.0299651622772217\n",
      "Epoch 751 train loss: 0.7630211171649751 test loss: 2.9221153259277344\n",
      "Epoch 752 train loss: 0.7153200021102315 test loss: 2.1255171298980713\n",
      "Epoch 753 train loss: 0.8022083377554303 test loss: 2.1560075283050537\n",
      "Epoch 754 train loss: 0.8096728913840794 test loss: 2.4822287559509277\n",
      "Epoch 755 train loss: 0.7820761842387063 test loss: 1.1859902143478394\n",
      "Epoch 756 train loss: 0.7969852664640972 test loss: 1.598567008972168\n",
      "Epoch 757 train loss: 0.8471979743668011 test loss: 1.7904560565948486\n",
      "Epoch 758 train loss: 0.8356311807320231 test loss: 2.35040283203125\n",
      "Epoch 759 train loss: 0.7877077362721875 test loss: 2.31345272064209\n",
      "Epoch 760 train loss: 0.8894412808475041 test loss: 2.374600410461426\n",
      "Epoch 761 train loss: 0.8108994222822643 test loss: 2.1421985626220703\n",
      "Epoch 762 train loss: 0.8431569969370252 test loss: 1.906191110610962\n",
      "Epoch 763 train loss: 0.6559000582922072 test loss: 2.816636323928833\n",
      "Epoch 764 train loss: 0.7298467226681256 test loss: 1.7661670446395874\n",
      "Epoch 765 train loss: 0.7057933026836032 test loss: 2.127958059310913\n",
      "Epoch 766 train loss: 0.6844911103447279 test loss: 2.5402278900146484\n",
      "Epoch 767 train loss: 0.693893741284098 test loss: 2.422226667404175\n",
      "Epoch 768 train loss: 0.8930847180031595 test loss: 1.1218687295913696\n",
      "Epoch 769 train loss: 0.7902204933620635 test loss: 1.7346082925796509\n",
      "Epoch 770 train loss: 0.9276518644321532 test loss: 1.6032612323760986\n",
      "Epoch 771 train loss: 1.024202599411919 test loss: 1.625253677368164\n",
      "Epoch 772 train loss: 0.7494539029541469 test loss: 1.1955605745315552\n",
      "Epoch 773 train loss: 0.8398227205588704 test loss: 1.3039363622665405\n",
      "Epoch 774 train loss: 0.842028181822527 test loss: 2.271638870239258\n",
      "Epoch 775 train loss: 0.9265649978603635 test loss: 2.3669049739837646\n",
      "Epoch 776 train loss: 0.7149179634593782 test loss: 0.9156292080879211\n",
      "Epoch 777 train loss: 0.6476536464123499 test loss: 2.256845235824585\n",
      "Epoch 778 train loss: 0.6892492473125458 test loss: 2.09354305267334\n",
      "Epoch 779 train loss: 0.7509871646761894 test loss: 2.2219440937042236\n",
      "Epoch 780 train loss: 0.8535670247815904 test loss: 5.078920841217041\n",
      "Epoch 781 train loss: 0.9529237889108204 test loss: 1.9210528135299683\n",
      "Epoch 782 train loss: 0.6091338012899671 test loss: 2.2506375312805176\n",
      "Epoch 783 train loss: 0.799145736864635 test loss: 4.598751068115234\n",
      "Epoch 784 train loss: 0.777119677336443 test loss: 1.503855586051941\n",
      "Epoch 785 train loss: 0.8281586794626146 test loss: 2.707902193069458\n",
      "Epoch 786 train loss: 0.7827380303116072 test loss: 1.7911090850830078\n",
      "Epoch 787 train loss: 0.8637702344428926 test loss: 2.142720937728882\n",
      "Epoch 788 train loss: 0.7091545036860875 test loss: 1.6358009576797485\n",
      "Epoch 789 train loss: 0.7416462651675656 test loss: 2.1054208278656006\n",
      "Epoch 790 train loss: 0.687058401959283 test loss: 1.8663997650146484\n",
      "Epoch 791 train loss: 0.8313311792555309 test loss: 2.6044721603393555\n",
      "Epoch 792 train loss: 0.797652770720777 test loss: 2.0984466075897217\n",
      "Epoch 793 train loss: 0.7866417911081087 test loss: 2.590775489807129\n",
      "Epoch 794 train loss: 0.8011645809525535 test loss: 1.938839316368103\n",
      "Epoch 795 train loss: 0.791000937067327 test loss: 3.2477898597717285\n",
      "Epoch 796 train loss: 0.7371987175373804 test loss: 1.7730053663253784\n",
      "Epoch 797 train loss: 0.6605281077680134 test loss: 3.1214215755462646\n",
      "Epoch 798 train loss: 1.0209048773561205 test loss: 2.097714900970459\n",
      "Epoch 799 train loss: 0.7357942767086483 test loss: 2.679795980453491\n",
      "Epoch 800 train loss: 0.787479980360894 test loss: 1.4528807401657104\n",
      "Epoch 801 train loss: 0.7580116089610827 test loss: 1.1035345792770386\n",
      "Epoch 802 train loss: 0.7167701611206645 test loss: 1.3809983730316162\n",
      "Epoch 803 train loss: 0.7239210460157621 test loss: 3.2344577312469482\n",
      "Epoch 804 train loss: 0.8639343352544875 test loss: 1.7697213888168335\n",
      "Epoch 805 train loss: 0.8389272746585664 test loss: 2.2779524326324463\n",
      "Epoch 806 train loss: 0.9089404305531865 test loss: 1.3075371980667114\n",
      "Epoch 807 train loss: 0.6972760139476686 test loss: 2.0389163494110107\n",
      "Epoch 808 train loss: 0.6943172312208584 test loss: 1.05173659324646\n",
      "Epoch 809 train loss: 0.6956637597509793 test loss: 1.7483065128326416\n",
      "Epoch 810 train loss: 0.744350328331902 test loss: 2.732018232345581\n",
      "Epoch 811 train loss: 0.7561657489055679 test loss: 1.756250023841858\n",
      "Epoch 812 train loss: 0.7622675810541425 test loss: 2.015411376953125\n",
      "Epoch 813 train loss: 0.7448256420237678 test loss: 1.4048123359680176\n",
      "Epoch 814 train loss: 0.774074484195028 test loss: 1.8512464761734009\n",
      "Epoch 815 train loss: 0.7731268781991232 test loss: 2.6219544410705566\n",
      "Epoch 816 train loss: 0.729205493416105 test loss: 1.865178108215332\n",
      "Epoch 817 train loss: 0.7163320112796057 test loss: 1.7222347259521484\n",
      "Epoch 818 train loss: 0.8404772388083595 test loss: 1.323668360710144\n",
      "Epoch 819 train loss: 0.737297419990812 test loss: 4.062094211578369\n",
      "Epoch 820 train loss: 0.8340814603226525 test loss: 3.33683705329895\n",
      "Epoch 821 train loss: 0.7014069773611569 test loss: 2.759132146835327\n",
      "Epoch 822 train loss: 0.7118073180317879 test loss: 1.26242995262146\n",
      "Epoch 823 train loss: 0.6809945848016512 test loss: 1.8804060220718384\n",
      "Epoch 824 train loss: 0.6178468792211442 test loss: 2.7602851390838623\n",
      "Epoch 825 train loss: 0.7103347810251373 test loss: 1.9563239812850952\n",
      "Epoch 826 train loss: 0.7690518239424342 test loss: 2.007697582244873\n",
      "Epoch 827 train loss: 0.7051158352267175 test loss: 2.694221019744873\n",
      "Epoch 828 train loss: 0.8672657254196349 test loss: 2.5834624767303467\n",
      "Epoch 829 train loss: 0.9175620533171154 test loss: 2.8872134685516357\n",
      "Epoch 830 train loss: 0.7703478293759483 test loss: 1.3465417623519897\n",
      "Epoch 831 train loss: 0.7837243512982414 test loss: 2.878788471221924\n",
      "Epoch 832 train loss: 0.8097250543179966 test loss: 2.1229772567749023\n",
      "Epoch 833 train loss: 0.7276078441313335 test loss: 2.3135149478912354\n",
      "Epoch 834 train loss: 0.6289537091340337 test loss: 3.7388195991516113\n",
      "Epoch 835 train loss: 0.9599756144341969 test loss: 4.401554584503174\n",
      "Epoch 836 train loss: 0.7232178385768618 test loss: 1.9134773015975952\n",
      "Epoch 837 train loss: 0.9348132393899418 test loss: 1.3130722045898438\n",
      "Epoch 838 train loss: 0.8351977275950568 test loss: 2.1971683502197266\n",
      "Epoch 839 train loss: 0.9183444607825506 test loss: 1.0315295457839966\n",
      "Epoch 840 train loss: 0.6422019242530778 test loss: 2.359234571456909\n",
      "Epoch 841 train loss: 0.6560347548552922 test loss: 1.5304399728775024\n",
      "Epoch 842 train loss: 0.6648048740767297 test loss: 1.7208340167999268\n",
      "Epoch 843 train loss: 0.6894702663024267 test loss: 2.431114912033081\n",
      "Epoch 844 train loss: 0.7557324894836971 test loss: 2.738760471343994\n",
      "Epoch 845 train loss: 0.8572340774394217 test loss: 1.9748657941818237\n",
      "Epoch 846 train loss: 0.6969667215432439 test loss: 1.4538557529449463\n",
      "Epoch 847 train loss: 0.7844257620828492 test loss: 2.225778818130493\n",
      "Epoch 848 train loss: 0.8804858021792912 test loss: 1.2367271184921265\n",
      "Epoch 849 train loss: 0.7723167545738674 test loss: 1.2870851755142212\n",
      "Epoch 850 train loss: 0.7545369891893297 test loss: 1.4982188940048218\n",
      "Epoch 851 train loss: 0.6808760393233526 test loss: 3.5761139392852783\n",
      "Epoch 852 train loss: 0.9442805754286903 test loss: 1.8166637420654297\n",
      "Epoch 853 train loss: 0.8613532841915176 test loss: 1.8623722791671753\n",
      "Epoch 854 train loss: 0.9031214774364517 test loss: 2.004131555557251\n",
      "Epoch 855 train loss: 0.9496389343625024 test loss: 3.7255465984344482\n",
      "Epoch 856 train loss: 0.7291742336182367 test loss: 4.612499237060547\n",
      "Epoch 857 train loss: 0.6440930948370979 test loss: 1.9602978229522705\n",
      "Epoch 858 train loss: 0.7431657832293284 test loss: 1.7169113159179688\n",
      "Epoch 859 train loss: 0.7196552253195218 test loss: 2.3151392936706543\n",
      "Epoch 860 train loss: 0.6538436544083414 test loss: 2.0565268993377686\n",
      "Epoch 861 train loss: 0.7898487381282306 test loss: 1.249443769454956\n",
      "Epoch 862 train loss: 0.6466882431081363 test loss: 1.9904918670654297\n",
      "Epoch 863 train loss: 0.6889018221270471 test loss: 1.4093880653381348\n",
      "Epoch 864 train loss: 0.6664000249334744 test loss: 1.143984079360962\n",
      "Epoch 865 train loss: 0.9000121181209882 test loss: 1.984967589378357\n",
      "Epoch 866 train loss: 0.752257760436762 test loss: 2.5799930095672607\n",
      "Epoch 867 train loss: 0.850347787851379 test loss: 2.1179282665252686\n",
      "Epoch 868 train loss: 0.8236823511265573 test loss: 2.5723519325256348\n",
      "Epoch 869 train loss: 1.017385174475965 test loss: 1.3020085096359253\n",
      "Epoch 870 train loss: 0.7999741119288263 test loss: 2.0863001346588135\n",
      "Epoch 871 train loss: 0.5726685775887399 test loss: 1.5499144792556763\n",
      "Epoch 872 train loss: 0.8333012220405397 test loss: 2.7303264141082764\n",
      "Epoch 873 train loss: 0.8404739023674102 test loss: 1.2803908586502075\n",
      "Epoch 874 train loss: 0.7714054400012607 test loss: 2.335115909576416\n",
      "Epoch 875 train loss: 0.7659803061258226 test loss: 1.7599718570709229\n",
      "Epoch 876 train loss: 0.7975434611241022 test loss: 2.3722963333129883\n",
      "Epoch 877 train loss: 0.7136751413345337 test loss: 1.6839627027511597\n",
      "Epoch 878 train loss: 0.8166199624538422 test loss: 2.0318331718444824\n",
      "Epoch 879 train loss: 0.7774150364455723 test loss: 4.027217388153076\n",
      "Epoch 880 train loss: 0.9161097049003556 test loss: 2.1865792274475098\n",
      "Epoch 881 train loss: 0.6461891397124245 test loss: 2.9368035793304443\n",
      "Epoch 882 train loss: 0.716995120048523 test loss: 2.6432063579559326\n",
      "Epoch 883 train loss: 0.7093594507092521 test loss: 3.0372352600097656\n",
      "Epoch 884 train loss: 0.7756201557460285 test loss: 2.106684446334839\n",
      "Epoch 885 train loss: 0.7881442773200217 test loss: 3.1895835399627686\n",
      "Epoch 886 train loss: 0.6486110318274725 test loss: 2.277937412261963\n",
      "Epoch 887 train loss: 0.633720705196971 test loss: 1.6761330366134644\n",
      "Epoch 888 train loss: 0.6018435749269667 test loss: 1.466858148574829\n",
      "Epoch 889 train loss: 0.7673400583721343 test loss: 2.6532142162323\n",
      "Epoch 890 train loss: 0.7840959752599398 test loss: 2.6357195377349854\n",
      "Epoch 891 train loss: 0.8297083530397642 test loss: 3.4798970222473145\n",
      "Epoch 892 train loss: 0.722087792697407 test loss: 1.3806073665618896\n",
      "Epoch 893 train loss: 0.834051672901426 test loss: 2.4848382472991943\n",
      "Epoch 894 train loss: 0.5810712941345715 test loss: 1.4591939449310303\n",
      "Epoch 895 train loss: 0.7973496403012957 test loss: 2.320065975189209\n",
      "Epoch 896 train loss: 1.0985726813475292 test loss: 2.4962594509124756\n",
      "Epoch 897 train loss: 0.6038131316502889 test loss: 1.7529124021530151\n",
      "Epoch 898 train loss: 0.6444110710706029 test loss: 1.908450722694397\n",
      "Epoch 899 train loss: 0.7805130024041448 test loss: 1.991498589515686\n",
      "Epoch 900 train loss: 0.8270948759856678 test loss: 1.890079379081726\n",
      "Epoch 901 train loss: 0.8373845936287017 test loss: 1.9731515645980835\n",
      "Epoch 902 train loss: 0.8184055742763338 test loss: 2.676760196685791\n",
      "Epoch 903 train loss: 0.936162314244679 test loss: 2.410301923751831\n",
      "Epoch 904 train loss: 0.8523702373107275 test loss: 1.4405349493026733\n",
      "Epoch 905 train loss: 0.5500451652776628 test loss: 1.5219062566757202\n",
      "Epoch 906 train loss: 0.7357638307980129 test loss: 1.5271180868148804\n",
      "Epoch 907 train loss: 0.7907956125480788 test loss: 2.044579029083252\n",
      "Epoch 908 train loss: 0.8390038393083072 test loss: 1.6327316761016846\n",
      "Epoch 909 train loss: 0.74561260002 test loss: 2.377624273300171\n",
      "Epoch 910 train loss: 0.7871045654728299 test loss: 3.5940608978271484\n",
      "Epoch 911 train loss: 0.808666376485711 test loss: 1.0477746725082397\n",
      "Epoch 912 train loss: 0.663085702984106 test loss: 2.427236557006836\n",
      "Epoch 913 train loss: 0.7410478563535781 test loss: 3.347252607345581\n",
      "Epoch 914 train loss: 0.8156745543792134 test loss: 1.8276489973068237\n",
      "Epoch 915 train loss: 0.6616731197351501 test loss: 1.7682350873947144\n",
      "Epoch 916 train loss: 0.9137901983090809 test loss: 1.2819651365280151\n",
      "Epoch 917 train loss: 0.7086448861019952 test loss: 2.985226631164551\n",
      "Epoch 918 train loss: 0.8020700223389126 test loss: 2.659522771835327\n",
      "Epoch 919 train loss: 0.648496133585771 test loss: 2.4995436668395996\n",
      "Epoch 920 train loss: 0.7213294101612908 test loss: 1.7875432968139648\n",
      "Epoch 921 train loss: 0.6985079841244788 test loss: 1.611493706703186\n",
      "Epoch 922 train loss: 0.7134178564662025 test loss: 1.5230191946029663\n",
      "Epoch 923 train loss: 0.7344931193760463 test loss: 1.503691554069519\n",
      "Epoch 924 train loss: 0.654092523313704 test loss: 2.2218081951141357\n",
      "Epoch 925 train loss: 0.7586902883790788 test loss: 1.1280596256256104\n",
      "Epoch 926 train loss: 0.7741487757081077 test loss: 2.8154103755950928\n",
      "Epoch 927 train loss: 0.7250545195170811 test loss: 3.252864122390747\n",
      "Epoch 928 train loss: 0.8092597992647261 test loss: 2.6175637245178223\n",
      "Epoch 929 train loss: 0.7617695147082919 test loss: 1.7989485263824463\n",
      "Epoch 930 train loss: 0.8322307886112303 test loss: 2.173668622970581\n",
      "Epoch 931 train loss: 0.7225624280316489 test loss: 1.9468603134155273\n",
      "Epoch 932 train loss: 0.799320614408879 test loss: 1.3129903078079224\n",
      "Epoch 933 train loss: 0.8348040105331511 test loss: 1.230866551399231\n",
      "Epoch 934 train loss: 0.8429401176316398 test loss: 2.8038902282714844\n",
      "Epoch 935 train loss: 0.8543584219047001 test loss: 2.1852223873138428\n",
      "Epoch 936 train loss: 0.7510353649655978 test loss: 3.336657762527466\n",
      "Epoch 937 train loss: 0.6802277366320292 test loss: 2.543149709701538\n",
      "Epoch 938 train loss: 0.5874691800702185 test loss: 1.6733726263046265\n",
      "Epoch 939 train loss: 0.9802195713633582 test loss: 0.9828038215637207\n",
      "Epoch 940 train loss: 0.7043141013100034 test loss: 1.9743070602416992\n",
      "Epoch 941 train loss: 0.746453274218809 test loss: 2.604576826095581\n",
      "Epoch 942 train loss: 0.7255760190032777 test loss: 4.099971771240234\n",
      "Epoch 943 train loss: 0.6823220299113364 test loss: 2.2644565105438232\n",
      "Epoch 944 train loss: 0.6811615367020879 test loss: 1.6312681436538696\n",
      "Epoch 945 train loss: 0.8630156768929391 test loss: 1.6896666288375854\n",
      "Epoch 946 train loss: 0.7195965571417695 test loss: 2.258805513381958\n",
      "Epoch 947 train loss: 0.7597647955020269 test loss: 1.628203272819519\n",
      "Epoch 948 train loss: 0.8715448698827198 test loss: 2.2604148387908936\n",
      "Epoch 949 train loss: 0.5775191273008075 test loss: 2.0806782245635986\n",
      "Epoch 950 train loss: 0.7359323207111585 test loss: 2.181109666824341\n",
      "Epoch 951 train loss: 0.8829582837365922 test loss: 3.1320841312408447\n",
      "Epoch 952 train loss: 0.6964827598560424 test loss: 3.1774728298187256\n",
      "Epoch 953 train loss: 0.6654017383144015 test loss: 1.2158039808273315\n",
      "Epoch 954 train loss: 0.6688816653830665 test loss: 2.088740348815918\n",
      "Epoch 955 train loss: 0.784927538108258 test loss: 1.5975427627563477\n",
      "Epoch 956 train loss: 0.747407965362072 test loss: 1.4050781726837158\n",
      "Epoch 957 train loss: 0.7531478252439272 test loss: 1.184777021408081\n",
      "Epoch 958 train loss: 0.8216912718046279 test loss: 2.197220802307129\n",
      "Epoch 959 train loss: 0.7699129162799745 test loss: 2.7145659923553467\n",
      "Epoch 960 train loss: 0.7590860518671217 test loss: 2.004873514175415\n",
      "Epoch 961 train loss: 0.8606262526341847 test loss: 2.0091593265533447\n",
      "Epoch 962 train loss: 0.9262292715055602 test loss: 2.1547486782073975\n",
      "Epoch 963 train loss: 0.8802258013969376 test loss: 1.621344804763794\n",
      "Epoch 964 train loss: 1.1157014621865182 test loss: 2.524198055267334\n",
      "Epoch 965 train loss: 0.745848319360188 test loss: 2.943593978881836\n",
      "Epoch 966 train loss: 0.6637530741947038 test loss: 2.198535203933716\n",
      "Epoch 967 train loss: 0.7808656206443196 test loss: 6.0400896072387695\n",
      "Epoch 968 train loss: 0.7240858484236967 test loss: 2.815920114517212\n",
      "Epoch 969 train loss: 0.664488210564568 test loss: 1.5466022491455078\n",
      "Epoch 970 train loss: 0.7005339275513377 test loss: 1.6965492963790894\n",
      "Epoch 971 train loss: 0.6837248163563865 test loss: 1.6094435453414917\n",
      "Epoch 972 train loss: 0.7984235208658945 test loss: 2.260830879211426\n",
      "Epoch 973 train loss: 0.805164682723227 test loss: 2.427177906036377\n",
      "Epoch 974 train loss: 0.6349164769053459 test loss: 2.3999383449554443\n",
      "Epoch 975 train loss: 0.7392746398136729 test loss: 2.7513575553894043\n",
      "Epoch 976 train loss: 0.6912316452889216 test loss: 5.941869735717773\n",
      "Epoch 977 train loss: 0.6436041306172099 test loss: 2.57682204246521\n",
      "Epoch 978 train loss: 0.7122279728452364 test loss: 1.6744657754898071\n",
      "Epoch 979 train loss: 0.7812583180410522 test loss: 2.0010039806365967\n",
      "Epoch 980 train loss: 0.8267130496956053 test loss: 2.2400214672088623\n",
      "Epoch 981 train loss: 0.5326792015915826 test loss: 3.639284610748291\n",
      "Epoch 982 train loss: 0.6892893456277394 test loss: 2.6007564067840576\n",
      "Epoch 983 train loss: 0.7585760156313578 test loss: 3.373725175857544\n",
      "Epoch 984 train loss: 0.8576447800511405 test loss: 1.8431227207183838\n",
      "Epoch 985 train loss: 0.7674285542397272 test loss: 2.4762303829193115\n",
      "Epoch 986 train loss: 0.6217947687421527 test loss: 2.6154720783233643\n",
      "Epoch 987 train loss: 0.680766890446345 test loss: 1.4993870258331299\n",
      "Epoch 988 train loss: 0.8499511877695719 test loss: 1.8770309686660767\n",
      "Epoch 989 train loss: 0.7628142443441209 test loss: 1.8925809860229492\n",
      "Epoch 990 train loss: 0.7161416226909274 test loss: 1.5046876668930054\n",
      "Epoch 991 train loss: 0.757646721743402 test loss: 1.4593838453292847\n",
      "Epoch 992 train loss: 0.7340166590043476 test loss: 1.9630473852157593\n",
      "Epoch 993 train loss: 0.8596101548700106 test loss: 2.564432144165039\n",
      "Epoch 994 train loss: 0.6223236659453029 test loss: 2.009086847305298\n",
      "Epoch 995 train loss: 0.9904155610572725 test loss: 2.114611864089966\n",
      "Epoch 996 train loss: 0.8183757843715804 test loss: 2.2991063594818115\n",
      "Epoch 997 train loss: 0.6820861065671557 test loss: 2.1425588130950928\n",
      "Epoch 998 train loss: 0.7549721708609944 test loss: 1.5414546728134155\n",
      "Epoch 999 train loss: 0.7241471023077056 test loss: 2.449474811553955\n"
     ]
    }
   ],
   "source": [
    "best_valid_loss = float('inf')\n",
    "loss_train = []\n",
    "loss_test= []\n",
    "for i, model in enumerate(models):\n",
    "    print(f\"Training {type(model).__name__}\")\n",
    "    \n",
    "    #start_time = time.time()\n",
    "\n",
    "    for epoch in range(N_EPOCHS):\n",
    "        #start_time = time.time()\n",
    "        loss  = train(model, train_iterator, optimizer, criterion) \n",
    "        test_loss = test(model, test_iterator, optimizer, criterion)\n",
    "        print(f'Epoch {epoch} train loss: {loss} test loss: {test_loss}') \n",
    "        loss_train.append(loss)\n",
    "        loss_test.append(test_loss)\n",
    "        \n",
    "        # if epoch % 50 == 0:\n",
    "        #     clear_output(wait=True)\n",
    "            \n",
    "        # if test_loss  < best_valid_loss:\n",
    "        #         best_valid_loss = test_loss\n",
    "        #         torch.save(model.state_dict(), f'./drive/Shareddrives/BI&A/Prediction_Code/models/TCN/{name}.pt')"
   ]
  },
  {
   "cell_type": "code",
   "execution_count": 50,
   "id": "72a1cc4c-8aa1-4d0e-8519-bee36c293b40",
   "metadata": {
    "executionInfo": {
     "elapsed": 57917,
     "status": "aborted",
     "timestamp": 1619509212338,
     "user": {
      "displayName": "Sitiporn Saelim",
      "photoUrl": "",
      "userId": "04392232392828254116"
     },
     "user_tz": -420
    },
    "id": "72a1cc4c-8aa1-4d0e-8519-bee36c293b40"
   },
   "outputs": [
    {
     "data": {
      "text/plain": [
       "<matplotlib.legend.Legend at 0x7fea9c1991d0>"
      ]
     },
     "execution_count": 50,
     "metadata": {},
     "output_type": "execute_result"
    },
    {
     "data": {
      "image/png": "[encoded data removed]",
      "text/plain": [
       "<matplotlib.figure.Figure at 0x7fea9cc2f240>"
      ]
     },
     "metadata": {
      "needs_background": "light"
     },
     "output_type": "display_data"
    }
   ],
   "source": [
    "plt.figure(figsize=(30, 10))\n",
    "plt.plot(loss_train)\n",
    "plt.plot(loss_test)\n",
    "plt.legend(['loss_train','loss_test'])"
   ]
  },
  {
   "cell_type": "markdown",
   "id": "o10jSvM5Nh-r",
   "metadata": {
    "id": "o10jSvM5Nh-r"
   },
   "source": [
    "# Predicted daily case"
   ]
  },
  {
   "cell_type": "code",
   "execution_count": 51,
   "id": "25078c02-a8be-4f1e-a706-2ec7cd3c8a27",
   "metadata": {
    "executionInfo": {
     "elapsed": 57915,
     "status": "aborted",
     "timestamp": 1619509212340,
     "user": {
      "displayName": "Sitiporn Saelim",
      "photoUrl": "",
      "userId": "04392232392828254116"
     },
     "user_tz": -420
    },
    "id": "25078c02-a8be-4f1e-a706-2ec7cd3c8a27"
   },
   "outputs": [
    {
     "name": "stderr",
     "output_type": "stream",
     "text": [
      "/usr/local/lib/python3.6/dist-packages/torch/nn/modules/loss.py:528: UserWarning: Using a target size (torch.Size([1])) that is different to the input size (torch.Size([1, 1])). This will likely lead to incorrect results due to broadcasting. Please ensure they have the same size.\n",
      "  return F.mse_loss(input, target, reduction=self.reduction)\n"
     ]
    }
   ],
   "source": [
    "with torch.no_grad():\n",
    "  test_seq = X_test[:1]\n",
    "  preds = []\n",
    "  test_losses = []\n",
    "  for i in range(len(X_test)):\n",
    "    y_test_pred = model(test_seq.to(device))\n",
    "    test_loss = criterion(y_test_pred.float(), y_test[i].to(device))\n",
    "    test_losses.append(test_loss.item())\n",
    "    pred = torch.flatten(y_test_pred).item()\n",
    "    preds.append(pred)\n",
    "    new_seq = test_seq.cpu().numpy().flatten()\n",
    "    new_seq = np.append(new_seq, [pred])\n",
    "    new_seq = new_seq[1:]\n",
    "    test_seq = torch.as_tensor(new_seq).view(1, 1, seq_length).float()"
   ]
  },
  {
   "cell_type": "code",
   "execution_count": 52,
   "id": "38ebdf50-f85d-4aac-844d-7c073681c1bf",
   "metadata": {
    "executionInfo": {
     "elapsed": 57914,
     "status": "aborted",
     "timestamp": 1619509212341,
     "user": {
      "displayName": "Sitiporn Saelim",
      "photoUrl": "",
      "userId": "04392232392828254116"
     },
     "user_tz": -420
    },
    "id": "38ebdf50-f85d-4aac-844d-7c073681c1bf"
   },
   "outputs": [],
   "source": [
    "true_cases = scaler.inverse_transform(\n",
    "    np.expand_dims(y_test.cpu().flatten().numpy(), axis=0)\n",
    ").flatten()\n",
    "\n",
    "test_case = scaler.inverse_transform(test_data).flatten()\n",
    "\n",
    "predicted_cases = scaler.inverse_transform(\n",
    "  np.expand_dims(preds, axis=0)\n",
    ").flatten()"
   ]
  },
  {
   "cell_type": "code",
   "execution_count": 53,
   "id": "2dc939c0-2540-4c7d-8534-6568449693df",
   "metadata": {
    "executionInfo": {
     "elapsed": 57908,
     "status": "aborted",
     "timestamp": 1619509212341,
     "user": {
      "displayName": "Sitiporn Saelim",
      "photoUrl": "",
      "userId": "04392232392828254116"
     },
     "user_tz": -420
    },
    "id": "2dc939c0-2540-4c7d-8534-6568449693df"
   },
   "outputs": [
    {
     "name": "stderr",
     "output_type": "stream",
     "text": [
      "/usr/lib/python3/dist-packages/matplotlib/cbook/__init__.py:2019: FutureWarning: Support for multi-dimensional indexing (e.g. `obj[:, None]`) is deprecated and will be removed in a future version.  Convert to a numpy array before indexing instead.\n",
      "  x[:, None]\n",
      "/usr/lib/python3/dist-packages/matplotlib/axes/_base.py:249: FutureWarning: Support for multi-dimensional indexing (e.g. `obj[:, None]`) is deprecated and will be removed in a future version.  Convert to a numpy array before indexing instead.\n",
      "  x = x[:, np.newaxis]\n"
     ]
    },
    {
     "data": {
      "image/png": "[encoded data removed]",
      "text/plain": [
       "<matplotlib.figure.Figure at 0x7fea9c151b70>"
      ]
     },
     "metadata": {
      "needs_background": "light"
     },
     "output_type": "display_data"
    }
   ],
   "source": [
    "plt.figure(figsize=(20,10))\n",
    "plt.title(f\"Daily cases :{STATE}\\nmodel:{name}\")\n",
    "plt.plot(\n",
    "  df_clean.index[:len(train_data)], \n",
    "  scaler.inverse_transform(train_data).flatten(),\n",
    "  label='Historical Daily Cases'\n",
    ")\n",
    "\n",
    "plt.plot(\n",
    "  df_clean.index[len(train_data):len(train_data)+len(test_data)], \n",
    "  test_case,\n",
    "  label='Real Daily Cases'\n",
    ")\n",
    "\n",
    "# plt.plot(\n",
    "#   df_clean.index[len(train_data):len(train_data)+len(test_data)], \n",
    "#   test_data,\n",
    "#   label='Scale Daily Cases'\n",
    "# )\n",
    "\n",
    "plt.plot(\n",
    "  df_clean.index[len(train_data)+seq_length+1:len(train_data)+len(test_data)], \n",
    "  predicted_cases, \n",
    "  label='Predicted Daily Cases'\n",
    ")\n",
    "\n",
    "# plt.plot(\n",
    "#   df_clean.index[len(train_data)+seq_length+1:len(train_data)+len(test_data)], \n",
    "#   (np.asarray(preds)), \n",
    "#   label='Original Predicted Daily Cases'\n",
    "# )\n",
    "\n",
    "plt.legend();"
   ]
  },
  {
   "cell_type": "code",
   "execution_count": null,
   "id": "7QUg2uOaANja",
   "metadata": {
    "executionInfo": {
     "elapsed": 57908,
     "status": "aborted",
     "timestamp": 1619509212343,
     "user": {
      "displayName": "Sitiporn Saelim",
      "photoUrl": "",
      "userId": "04392232392828254116"
     },
     "user_tz": -420
    },
    "id": "7QUg2uOaANja"
   },
   "outputs": [],
   "source": []
  }
 ],
 "metadata": {
  "accelerator": "GPU",
  "colab": {
   "name": "2.2_TCN_California.ipynb",
   "provenance": []
  },
  "kernelspec": {
   "display_name": "Python 3",
   "language": "python",
   "name": "python3"
  },
  "language_info": {
   "codemirror_mode": {
    "name": "ipython",
    "version": 3
   },
   "file_extension": ".py",
   "mimetype": "text/x-python",
   "name": "python",
   "nbconvert_exporter": "python",
   "pygments_lexer": "ipython3",
   "version": "3.6.9"
  }
 },
 "nbformat": 4,
 "nbformat_minor": 5
}
