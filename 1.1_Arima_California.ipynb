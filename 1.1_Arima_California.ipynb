{
 "cells": [
  {
   "cell_type": "code",
   "execution_count": 1,
   "id": "ZymfhJQ_63Lj",
   "metadata": {
    "colab": {
     "base_uri": "https://localhost:8080/"
    },
    "executionInfo": {
     "elapsed": 33083,
     "status": "ok",
     "timestamp": 1619509187255,
     "user": {
      "displayName": "Sitiporn Saelim",
      "photoUrl": "",
      "userId": "04392232392828254116"
     },
     "user_tz": -420
    },
    "id": "ZymfhJQ_63Lj",
    "outputId": "10bc1c00-f2bc-4f1b-f4a8-2fd51e72d47f"
   },
   "outputs": [],
   "source": [
    "# from google.colab import drive\n",
    "# drive.mount('/content/drive')"
   ]
  },
  {
   "cell_type": "code",
   "execution_count": 2,
   "id": "96b5819f-e8ac-4c3c-9c28-93afb6ac738f",
   "metadata": {
    "executionInfo": {
     "elapsed": 37627,
     "status": "ok",
     "timestamp": 1619509191805,
     "user": {
      "displayName": "Sitiporn Saelim",
      "photoUrl": "",
      "userId": "04392232392828254116"
     },
     "user_tz": -420
    },
    "id": "96b5819f-e8ac-4c3c-9c28-93afb6ac738f"
   },
   "outputs": [],
   "source": [
    "import numpy as np\n",
    "import pandas as pd\n",
    "import torch\n",
    "import torch.nn as nn\n",
    "import torch.nn.functional as F\n",
    "import torch.optim as optim\n",
    "from torch.utils.data import TensorDataset, DataLoader\n",
    "from sklearn.preprocessing import MinMaxScaler, StandardScaler\n",
    "import matplotlib.pyplot as plt\n",
    "from tqdm import tqdm"
   ]
  },
  {
   "cell_type": "code",
   "execution_count": 3,
   "id": "f788572f-61f5-4edd-a4b7-ba8c292c8589",
   "metadata": {
    "executionInfo": {
     "elapsed": 37626,
     "status": "ok",
     "timestamp": 1619509191807,
     "user": {
      "displayName": "Sitiporn Saelim",
      "photoUrl": "",
      "userId": "04392232392828254116"
     },
     "user_tz": -420
    },
    "id": "f788572f-61f5-4edd-a4b7-ba8c292c8589"
   },
   "outputs": [],
   "source": [
    "##===\n",
    "# Select state we want to predict\n",
    "# New York , California , Florida , Texas\n",
    "STATE = 'California'\n",
    "\n",
    "WEIGHTDECAY = 0\n",
    "TRAIN = True\n",
    "seq_length = 21\n",
    "N_EPOCHS = 1000\n",
    "device = torch.device('cuda' if torch.cuda.is_available() else 'cpu')\n",
    "##===\n",
    "\n",
    "#### Model Config ===\n",
    "# channel_config = np.array([[1,64,128],[128,64,64],[64,32,1]])\n",
    "#channel_config = np.array([[1,7,14],[14,7,7],[7,4,1]])\n",
    "channel_config = np.array([[1,7,14],[14,21,14],[14,7,1]])"
   ]
  },
  {
   "cell_type": "markdown",
   "id": "ad882fe1-7a80-4ca8-9a54-82dc294c48df",
   "metadata": {
    "id": "ad882fe1-7a80-4ca8-9a54-82dc294c48df"
   },
   "source": [
    "## Data frame Format"
   ]
  },
  {
   "cell_type": "markdown",
   "id": "de64a227-a629-42e1-99b6-333734cca580",
   "metadata": {
    "id": "de64a227-a629-42e1-99b6-333734cca580"
   },
   "source": [
    "### Import Data from CSV file"
   ]
  },
  {
   "cell_type": "code",
   "execution_count": 4,
   "id": "5e908914-f968-489e-a2a5-ef500dc4001f",
   "metadata": {
    "executionInfo": {
     "elapsed": 46165,
     "status": "ok",
     "timestamp": 1619509200353,
     "user": {
      "displayName": "Sitiporn Saelim",
      "photoUrl": "",
      "userId": "04392232392828254116"
     },
     "user_tz": -420
    },
    "id": "5e908914-f968-489e-a2a5-ef500dc4001f"
   },
   "outputs": [],
   "source": [
    "#df = pd.read_excel(\"./drive/Shareddrives/BI&A/Data/Cleaned Data.xlsx\")\n",
    "df = pd.read_csv('Cleaned_data.csv')"
   ]
  },
  {
   "cell_type": "code",
   "execution_count": 5,
   "id": "344a4ff7-ad56-4738-93fa-6fadca83fe0f",
   "metadata": {
    "colab": {
     "base_uri": "https://localhost:8080/",
     "height": 226
    },
    "executionInfo": {
     "elapsed": 46152,
     "status": "ok",
     "timestamp": 1619509200354,
     "user": {
      "displayName": "Sitiporn Saelim",
      "photoUrl": "",
      "userId": "04392232392828254116"
     },
     "user_tz": -420
    },
    "id": "344a4ff7-ad56-4738-93fa-6fadca83fe0f",
    "outputId": "1cb3b9b8-2571-4898-ed91-0a08754b3570"
   },
   "outputs": [
    {
     "data": {
      "text/html": [
       "<div>\n",
       "<style scoped>\n",
       "    .dataframe tbody tr th:only-of-type {\n",
       "        vertical-align: middle;\n",
       "    }\n",
       "\n",
       "    .dataframe tbody tr th {\n",
       "        vertical-align: top;\n",
       "    }\n",
       "\n",
       "    .dataframe thead th {\n",
       "        text-align: right;\n",
       "    }\n",
       "</style>\n",
       "<table border=\"1\" class=\"dataframe\">\n",
       "  <thead>\n",
       "    <tr style=\"text-align: right;\">\n",
       "      <th></th>\n",
       "      <th>date</th>\n",
       "      <th>state</th>\n",
       "      <th>fips</th>\n",
       "      <th>cases</th>\n",
       "      <th>daily_cases</th>\n",
       "      <th>deaths</th>\n",
       "      <th>daily_deaths</th>\n",
       "      <th>total_vaccinations</th>\n",
       "      <th>total_distributed</th>\n",
       "      <th>daily_distributed</th>\n",
       "      <th>total_people_vaccinated</th>\n",
       "      <th>daily_people_vaccinated</th>\n",
       "      <th>total_people_fully_vaccinated</th>\n",
       "      <th>daily_people_fully_vaccinated</th>\n",
       "      <th>daily_vaccinations</th>\n",
       "      <th>mobility_composite</th>\n",
       "    </tr>\n",
       "  </thead>\n",
       "  <tbody>\n",
       "    <tr>\n",
       "      <th>0</th>\n",
       "      <td>3/13/2021</td>\n",
       "      <td>Alabama</td>\n",
       "      <td>1</td>\n",
       "      <td>503305</td>\n",
       "      <td>594</td>\n",
       "      <td>10327</td>\n",
       "      <td>28</td>\n",
       "      <td>1288242</td>\n",
       "      <td>1918560.0</td>\n",
       "      <td>80160.0</td>\n",
       "      <td>841394.0</td>\n",
       "      <td>24976.0</td>\n",
       "      <td>492755.0</td>\n",
       "      <td>20430.0</td>\n",
       "      <td>26,935</td>\n",
       "      <td>-1.013041</td>\n",
       "    </tr>\n",
       "    <tr>\n",
       "      <th>1</th>\n",
       "      <td>3/12/2021</td>\n",
       "      <td>Alabama</td>\n",
       "      <td>1</td>\n",
       "      <td>502711</td>\n",
       "      <td>448</td>\n",
       "      <td>10299</td>\n",
       "      <td>25</td>\n",
       "      <td>1249205</td>\n",
       "      <td>1838400.0</td>\n",
       "      <td>22170.0</td>\n",
       "      <td>816418.0</td>\n",
       "      <td>25554.0</td>\n",
       "      <td>472325.0</td>\n",
       "      <td>19579.0</td>\n",
       "      <td>26,375</td>\n",
       "      <td>-1.013041</td>\n",
       "    </tr>\n",
       "    <tr>\n",
       "      <th>2</th>\n",
       "      <td>3/11/2021</td>\n",
       "      <td>Alabama</td>\n",
       "      <td>1</td>\n",
       "      <td>502263</td>\n",
       "      <td>865</td>\n",
       "      <td>10274</td>\n",
       "      <td>52</td>\n",
       "      <td>1209802</td>\n",
       "      <td>1816230.0</td>\n",
       "      <td>40570.0</td>\n",
       "      <td>790864.0</td>\n",
       "      <td>22362.0</td>\n",
       "      <td>452746.0</td>\n",
       "      <td>17728.0</td>\n",
       "      <td>25,376</td>\n",
       "      <td>-1.013041</td>\n",
       "    </tr>\n",
       "    <tr>\n",
       "      <th>3</th>\n",
       "      <td>3/10/2021</td>\n",
       "      <td>Alabama</td>\n",
       "      <td>1</td>\n",
       "      <td>501398</td>\n",
       "      <td>782</td>\n",
       "      <td>10222</td>\n",
       "      <td>36</td>\n",
       "      <td>1173820</td>\n",
       "      <td>1775660.0</td>\n",
       "      <td>86610.0</td>\n",
       "      <td>768502.0</td>\n",
       "      <td>21234.0</td>\n",
       "      <td>435018.0</td>\n",
       "      <td>14935.0</td>\n",
       "      <td>24,827</td>\n",
       "      <td>-1.013041</td>\n",
       "    </tr>\n",
       "    <tr>\n",
       "      <th>4</th>\n",
       "      <td>3/9/2021</td>\n",
       "      <td>Alabama</td>\n",
       "      <td>1</td>\n",
       "      <td>500616</td>\n",
       "      <td>524</td>\n",
       "      <td>10186</td>\n",
       "      <td>38</td>\n",
       "      <td>1140984</td>\n",
       "      <td>1689050.0</td>\n",
       "      <td>60700.0</td>\n",
       "      <td>747268.0</td>\n",
       "      <td>14301.0</td>\n",
       "      <td>420083.0</td>\n",
       "      <td>10146.0</td>\n",
       "      <td>24,118</td>\n",
       "      <td>-1.013041</td>\n",
       "    </tr>\n",
       "  </tbody>\n",
       "</table>\n",
       "</div>"
      ],
      "text/plain": [
       "        date    state  fips   cases  daily_cases  deaths  daily_deaths  \\\n",
       "0  3/13/2021  Alabama     1  503305          594   10327            28   \n",
       "1  3/12/2021  Alabama     1  502711          448   10299            25   \n",
       "2  3/11/2021  Alabama     1  502263          865   10274            52   \n",
       "3  3/10/2021  Alabama     1  501398          782   10222            36   \n",
       "4   3/9/2021  Alabama     1  500616          524   10186            38   \n",
       "\n",
       "  total_vaccinations  total_distributed  daily_distributed  \\\n",
       "0            1288242          1918560.0            80160.0   \n",
       "1            1249205          1838400.0            22170.0   \n",
       "2            1209802          1816230.0            40570.0   \n",
       "3            1173820          1775660.0            86610.0   \n",
       "4            1140984          1689050.0            60700.0   \n",
       "\n",
       "   total_people_vaccinated  daily_people_vaccinated  \\\n",
       "0                 841394.0                  24976.0   \n",
       "1                 816418.0                  25554.0   \n",
       "2                 790864.0                  22362.0   \n",
       "3                 768502.0                  21234.0   \n",
       "4                 747268.0                  14301.0   \n",
       "\n",
       "   total_people_fully_vaccinated  daily_people_fully_vaccinated  \\\n",
       "0                       492755.0                        20430.0   \n",
       "1                       472325.0                        19579.0   \n",
       "2                       452746.0                        17728.0   \n",
       "3                       435018.0                        14935.0   \n",
       "4                       420083.0                        10146.0   \n",
       "\n",
       "  daily_vaccinations  mobility_composite  \n",
       "0             26,935           -1.013041  \n",
       "1             26,375           -1.013041  \n",
       "2             25,376           -1.013041  \n",
       "3             24,827           -1.013041  \n",
       "4             24,118           -1.013041  "
      ]
     },
     "execution_count": 5,
     "metadata": {},
     "output_type": "execute_result"
    }
   ],
   "source": [
    "df.head()"
   ]
  },
  {
   "cell_type": "code",
   "execution_count": 6,
   "id": "21ae967e-fe62-4c78-a5e9-b3ce7158917c",
   "metadata": {
    "colab": {
     "base_uri": "https://localhost:8080/"
    },
    "executionInfo": {
     "elapsed": 46141,
     "status": "ok",
     "timestamp": 1619509200356,
     "user": {
      "displayName": "Sitiporn Saelim",
      "photoUrl": "",
      "userId": "04392232392828254116"
     },
     "user_tz": -420
    },
    "id": "21ae967e-fe62-4c78-a5e9-b3ce7158917c",
    "outputId": "c98dc023-b5a6-446c-d9cc-ca4cb2cd3f98"
   },
   "outputs": [
    {
     "name": "stdout",
     "output_type": "stream",
     "text": [
      "<class 'pandas.core.frame.DataFrame'>\n",
      "RangeIndex: 20618 entries, 0 to 20617\n",
      "Data columns (total 16 columns):\n",
      " #   Column                         Non-Null Count  Dtype  \n",
      "---  ------                         --------------  -----  \n",
      " 0   date                           20618 non-null  object \n",
      " 1   state                          20618 non-null  object \n",
      " 2   fips                           20618 non-null  int64  \n",
      " 3   cases                          20618 non-null  int64  \n",
      " 4   daily_cases                    20618 non-null  int64  \n",
      " 5   deaths                         20618 non-null  int64  \n",
      " 6   daily_deaths                   20618 non-null  int64  \n",
      " 7   total_vaccinations             3801 non-null   object \n",
      " 8   total_distributed              3801 non-null   float64\n",
      " 9   daily_distributed              3801 non-null   float64\n",
      " 10  total_people_vaccinated        3801 non-null   float64\n",
      " 11  daily_people_vaccinated        3801 non-null   float64\n",
      " 12  total_people_fully_vaccinated  3801 non-null   float64\n",
      " 13  daily_people_fully_vaccinated  3801 non-null   float64\n",
      " 14  daily_vaccinations             3779 non-null   object \n",
      " 15  mobility_composite             19353 non-null  float64\n",
      "dtypes: float64(7), int64(5), object(4)\n",
      "memory usage: 2.5+ MB\n"
     ]
    }
   ],
   "source": [
    "df.info()"
   ]
  },
  {
   "cell_type": "code",
   "execution_count": 7,
   "id": "836c3722-619c-4ea8-a6f0-22214d8ee8b9",
   "metadata": {
    "colab": {
     "base_uri": "https://localhost:8080/",
     "height": 206
    },
    "executionInfo": {
     "elapsed": 46132,
     "status": "ok",
     "timestamp": 1619509200357,
     "user": {
      "displayName": "Sitiporn Saelim",
      "photoUrl": "",
      "userId": "04392232392828254116"
     },
     "user_tz": -420
    },
    "id": "836c3722-619c-4ea8-a6f0-22214d8ee8b9",
    "outputId": "4b3cf9f1-c8c6-4cf9-8646-de5ef6411df1"
   },
   "outputs": [
    {
     "data": {
      "text/html": [
       "<div>\n",
       "<style scoped>\n",
       "    .dataframe tbody tr th:only-of-type {\n",
       "        vertical-align: middle;\n",
       "    }\n",
       "\n",
       "    .dataframe tbody tr th {\n",
       "        vertical-align: top;\n",
       "    }\n",
       "\n",
       "    .dataframe thead th {\n",
       "        text-align: right;\n",
       "    }\n",
       "</style>\n",
       "<table border=\"1\" class=\"dataframe\">\n",
       "  <thead>\n",
       "    <tr style=\"text-align: right;\">\n",
       "      <th></th>\n",
       "      <th>date</th>\n",
       "      <th>state</th>\n",
       "      <th>fips</th>\n",
       "      <th>daily_cases</th>\n",
       "      <th>daily_deaths</th>\n",
       "      <th>daily_distributed</th>\n",
       "      <th>daily_people_vaccinated</th>\n",
       "      <th>daily_people_fully_vaccinated</th>\n",
       "      <th>daily_vaccinations</th>\n",
       "      <th>mobility_composite</th>\n",
       "    </tr>\n",
       "  </thead>\n",
       "  <tbody>\n",
       "    <tr>\n",
       "      <th>0</th>\n",
       "      <td>3/13/2021</td>\n",
       "      <td>Alabama</td>\n",
       "      <td>1</td>\n",
       "      <td>594</td>\n",
       "      <td>28</td>\n",
       "      <td>80160.0</td>\n",
       "      <td>24976.0</td>\n",
       "      <td>20430.0</td>\n",
       "      <td>26,935</td>\n",
       "      <td>-1.013041</td>\n",
       "    </tr>\n",
       "    <tr>\n",
       "      <th>1</th>\n",
       "      <td>3/12/2021</td>\n",
       "      <td>Alabama</td>\n",
       "      <td>1</td>\n",
       "      <td>448</td>\n",
       "      <td>25</td>\n",
       "      <td>22170.0</td>\n",
       "      <td>25554.0</td>\n",
       "      <td>19579.0</td>\n",
       "      <td>26,375</td>\n",
       "      <td>-1.013041</td>\n",
       "    </tr>\n",
       "    <tr>\n",
       "      <th>2</th>\n",
       "      <td>3/11/2021</td>\n",
       "      <td>Alabama</td>\n",
       "      <td>1</td>\n",
       "      <td>865</td>\n",
       "      <td>52</td>\n",
       "      <td>40570.0</td>\n",
       "      <td>22362.0</td>\n",
       "      <td>17728.0</td>\n",
       "      <td>25,376</td>\n",
       "      <td>-1.013041</td>\n",
       "    </tr>\n",
       "    <tr>\n",
       "      <th>3</th>\n",
       "      <td>3/10/2021</td>\n",
       "      <td>Alabama</td>\n",
       "      <td>1</td>\n",
       "      <td>782</td>\n",
       "      <td>36</td>\n",
       "      <td>86610.0</td>\n",
       "      <td>21234.0</td>\n",
       "      <td>14935.0</td>\n",
       "      <td>24,827</td>\n",
       "      <td>-1.013041</td>\n",
       "    </tr>\n",
       "    <tr>\n",
       "      <th>4</th>\n",
       "      <td>3/9/2021</td>\n",
       "      <td>Alabama</td>\n",
       "      <td>1</td>\n",
       "      <td>524</td>\n",
       "      <td>38</td>\n",
       "      <td>60700.0</td>\n",
       "      <td>14301.0</td>\n",
       "      <td>10146.0</td>\n",
       "      <td>24,118</td>\n",
       "      <td>-1.013041</td>\n",
       "    </tr>\n",
       "  </tbody>\n",
       "</table>\n",
       "</div>"
      ],
      "text/plain": [
       "        date    state  fips  daily_cases  daily_deaths  daily_distributed  \\\n",
       "0  3/13/2021  Alabama     1          594            28            80160.0   \n",
       "1  3/12/2021  Alabama     1          448            25            22170.0   \n",
       "2  3/11/2021  Alabama     1          865            52            40570.0   \n",
       "3  3/10/2021  Alabama     1          782            36            86610.0   \n",
       "4   3/9/2021  Alabama     1          524            38            60700.0   \n",
       "\n",
       "   daily_people_vaccinated  daily_people_fully_vaccinated daily_vaccinations  \\\n",
       "0                  24976.0                        20430.0             26,935   \n",
       "1                  25554.0                        19579.0             26,375   \n",
       "2                  22362.0                        17728.0             25,376   \n",
       "3                  21234.0                        14935.0             24,827   \n",
       "4                  14301.0                        10146.0             24,118   \n",
       "\n",
       "   mobility_composite  \n",
       "0           -1.013041  \n",
       "1           -1.013041  \n",
       "2           -1.013041  \n",
       "3           -1.013041  \n",
       "4           -1.013041  "
      ]
     },
     "execution_count": 7,
     "metadata": {},
     "output_type": "execute_result"
    }
   ],
   "source": [
    "df = df.drop(labels=['cases', 'deaths', 'total_vaccinations', 'total_distributed', 'total_people_vaccinated', 'total_people_fully_vaccinated'], axis=1)\n",
    "df.head()"
   ]
  },
  {
   "cell_type": "code",
   "execution_count": 8,
   "id": "cd39e90b-0daa-4780-a915-99e2c188b7f2",
   "metadata": {
    "colab": {
     "base_uri": "https://localhost:8080/"
    },
    "executionInfo": {
     "elapsed": 46122,
     "status": "ok",
     "timestamp": 1619509200358,
     "user": {
      "displayName": "Sitiporn Saelim",
      "photoUrl": "",
      "userId": "04392232392828254116"
     },
     "user_tz": -420
    },
    "id": "cd39e90b-0daa-4780-a915-99e2c188b7f2",
    "outputId": "f2f42d23-de95-4150-b07b-d8a731b97fb2"
   },
   "outputs": [
    {
     "data": {
      "text/plain": [
       "array(['Alabama', 'Alaska', 'Arizona', 'Arkansas', 'California',\n",
       "       'Colorado', 'Connecticut', 'Delaware', 'District of Columbia',\n",
       "       'Florida', 'Georgia', 'Guam', 'Hawaii', 'Idaho', 'Illinois',\n",
       "       'Indiana', 'Iowa', 'Kansas', 'Kentucky', 'Louisiana', 'Maine',\n",
       "       'Maryland', 'Massachusetts', 'Michigan', 'Minnesota',\n",
       "       'Mississippi', 'Missouri', 'Montana', 'Nebraska', 'Nevada',\n",
       "       'New Hampshire', 'New Jersey', 'New Mexico', 'New York',\n",
       "       'North Carolina', 'North Dakota', 'Northern Mariana Islands',\n",
       "       'Ohio', 'Oklahoma', 'Oregon', 'Pennsylvania', 'Puerto Rico',\n",
       "       'Rhode Island', 'South Carolina', 'South Dakota', 'Tennessee',\n",
       "       'Texas', 'Utah', 'Vermont', 'Virgin Islands', 'Virginia',\n",
       "       'Washington', 'West Virginia', 'Wisconsin', 'Wyoming'],\n",
       "      dtype=object)"
      ]
     },
     "execution_count": 8,
     "metadata": {},
     "output_type": "execute_result"
    }
   ],
   "source": [
    "df['state'].unique()"
   ]
  },
  {
   "cell_type": "code",
   "execution_count": 9,
   "id": "5d059c19-c413-4820-85a8-18632ef73b7f",
   "metadata": {
    "colab": {
     "base_uri": "https://localhost:8080/",
     "height": 424
    },
    "executionInfo": {
     "elapsed": 46114,
     "status": "ok",
     "timestamp": 1619509200360,
     "user": {
      "displayName": "Sitiporn Saelim",
      "photoUrl": "",
      "userId": "04392232392828254116"
     },
     "user_tz": -420
    },
    "id": "5d059c19-c413-4820-85a8-18632ef73b7f",
    "outputId": "8d30ea18-e07a-4bf3-b20c-edb24c321d1b"
   },
   "outputs": [
    {
     "data": {
      "text/html": [
       "<div>\n",
       "<style scoped>\n",
       "    .dataframe tbody tr th:only-of-type {\n",
       "        vertical-align: middle;\n",
       "    }\n",
       "\n",
       "    .dataframe tbody tr th {\n",
       "        vertical-align: top;\n",
       "    }\n",
       "\n",
       "    .dataframe thead th {\n",
       "        text-align: right;\n",
       "    }\n",
       "</style>\n",
       "<table border=\"1\" class=\"dataframe\">\n",
       "  <thead>\n",
       "    <tr style=\"text-align: right;\">\n",
       "      <th></th>\n",
       "      <th>date</th>\n",
       "      <th>state</th>\n",
       "      <th>fips</th>\n",
       "      <th>daily_cases</th>\n",
       "      <th>daily_deaths</th>\n",
       "      <th>daily_distributed</th>\n",
       "      <th>daily_people_vaccinated</th>\n",
       "      <th>daily_people_fully_vaccinated</th>\n",
       "      <th>daily_vaccinations</th>\n",
       "      <th>mobility_composite</th>\n",
       "    </tr>\n",
       "  </thead>\n",
       "  <tbody>\n",
       "    <tr>\n",
       "      <th>19484</th>\n",
       "      <td>2020-01-21</td>\n",
       "      <td>Washington</td>\n",
       "      <td>53</td>\n",
       "      <td>1</td>\n",
       "      <td>0</td>\n",
       "      <td>NaN</td>\n",
       "      <td>NaN</td>\n",
       "      <td>NaN</td>\n",
       "      <td>NaN</td>\n",
       "      <td>NaN</td>\n",
       "    </tr>\n",
       "    <tr>\n",
       "      <th>19483</th>\n",
       "      <td>2020-01-22</td>\n",
       "      <td>Washington</td>\n",
       "      <td>53</td>\n",
       "      <td>0</td>\n",
       "      <td>0</td>\n",
       "      <td>NaN</td>\n",
       "      <td>NaN</td>\n",
       "      <td>NaN</td>\n",
       "      <td>NaN</td>\n",
       "      <td>NaN</td>\n",
       "    </tr>\n",
       "    <tr>\n",
       "      <th>19482</th>\n",
       "      <td>2020-01-23</td>\n",
       "      <td>Washington</td>\n",
       "      <td>53</td>\n",
       "      <td>0</td>\n",
       "      <td>0</td>\n",
       "      <td>NaN</td>\n",
       "      <td>NaN</td>\n",
       "      <td>NaN</td>\n",
       "      <td>NaN</td>\n",
       "      <td>NaN</td>\n",
       "    </tr>\n",
       "    <tr>\n",
       "      <th>5684</th>\n",
       "      <td>2020-01-24</td>\n",
       "      <td>Illinois</td>\n",
       "      <td>17</td>\n",
       "      <td>1</td>\n",
       "      <td>0</td>\n",
       "      <td>NaN</td>\n",
       "      <td>NaN</td>\n",
       "      <td>NaN</td>\n",
       "      <td>NaN</td>\n",
       "      <td>NaN</td>\n",
       "    </tr>\n",
       "    <tr>\n",
       "      <th>19481</th>\n",
       "      <td>2020-01-24</td>\n",
       "      <td>Washington</td>\n",
       "      <td>53</td>\n",
       "      <td>0</td>\n",
       "      <td>0</td>\n",
       "      <td>NaN</td>\n",
       "      <td>NaN</td>\n",
       "      <td>NaN</td>\n",
       "      <td>NaN</td>\n",
       "      <td>NaN</td>\n",
       "    </tr>\n",
       "    <tr>\n",
       "      <th>...</th>\n",
       "      <td>...</td>\n",
       "      <td>...</td>\n",
       "      <td>...</td>\n",
       "      <td>...</td>\n",
       "      <td>...</td>\n",
       "      <td>...</td>\n",
       "      <td>...</td>\n",
       "      <td>...</td>\n",
       "      <td>...</td>\n",
       "      <td>...</td>\n",
       "    </tr>\n",
       "    <tr>\n",
       "      <th>20250</th>\n",
       "      <td>2021-03-13</td>\n",
       "      <td>Wyoming</td>\n",
       "      <td>56</td>\n",
       "      <td>0</td>\n",
       "      <td>0</td>\n",
       "      <td>0.0</td>\n",
       "      <td>4086.0</td>\n",
       "      <td>2945.0</td>\n",
       "      <td>4,085</td>\n",
       "      <td>0.000000</td>\n",
       "    </tr>\n",
       "    <tr>\n",
       "      <th>4168</th>\n",
       "      <td>2021-03-13</td>\n",
       "      <td>Guam</td>\n",
       "      <td>66</td>\n",
       "      <td>1</td>\n",
       "      <td>0</td>\n",
       "      <td>0.0</td>\n",
       "      <td>226.0</td>\n",
       "      <td>1440.0</td>\n",
       "      <td>1,272</td>\n",
       "      <td>-5.361115</td>\n",
       "    </tr>\n",
       "    <tr>\n",
       "      <th>13475</th>\n",
       "      <td>2021-03-13</td>\n",
       "      <td>Northern Mariana Islands</td>\n",
       "      <td>69</td>\n",
       "      <td>1</td>\n",
       "      <td>0</td>\n",
       "      <td>0.0</td>\n",
       "      <td>230.0</td>\n",
       "      <td>163.0</td>\n",
       "      <td>246</td>\n",
       "      <td>NaN</td>\n",
       "    </tr>\n",
       "    <tr>\n",
       "      <th>15319</th>\n",
       "      <td>2021-03-13</td>\n",
       "      <td>Puerto Rico</td>\n",
       "      <td>72</td>\n",
       "      <td>235</td>\n",
       "      <td>0</td>\n",
       "      <td>19550.0</td>\n",
       "      <td>32455.0</td>\n",
       "      <td>20400.0</td>\n",
       "      <td>19,615</td>\n",
       "      <td>0.000000</td>\n",
       "    </tr>\n",
       "    <tr>\n",
       "      <th>18330</th>\n",
       "      <td>2021-03-13</td>\n",
       "      <td>Virgin Islands</td>\n",
       "      <td>78</td>\n",
       "      <td>0</td>\n",
       "      <td>0</td>\n",
       "      <td>NaN</td>\n",
       "      <td>NaN</td>\n",
       "      <td>NaN</td>\n",
       "      <td>NaN</td>\n",
       "      <td>NaN</td>\n",
       "    </tr>\n",
       "  </tbody>\n",
       "</table>\n",
       "<p>20618 rows × 10 columns</p>\n",
       "</div>"
      ],
      "text/plain": [
       "            date                     state  fips  daily_cases  daily_deaths  \\\n",
       "19484 2020-01-21                Washington    53            1             0   \n",
       "19483 2020-01-22                Washington    53            0             0   \n",
       "19482 2020-01-23                Washington    53            0             0   \n",
       "5684  2020-01-24                  Illinois    17            1             0   \n",
       "19481 2020-01-24                Washington    53            0             0   \n",
       "...          ...                       ...   ...          ...           ...   \n",
       "20250 2021-03-13                   Wyoming    56            0             0   \n",
       "4168  2021-03-13                      Guam    66            1             0   \n",
       "13475 2021-03-13  Northern Mariana Islands    69            1             0   \n",
       "15319 2021-03-13               Puerto Rico    72          235             0   \n",
       "18330 2021-03-13            Virgin Islands    78            0             0   \n",
       "\n",
       "       daily_distributed  daily_people_vaccinated  \\\n",
       "19484                NaN                      NaN   \n",
       "19483                NaN                      NaN   \n",
       "19482                NaN                      NaN   \n",
       "5684                 NaN                      NaN   \n",
       "19481                NaN                      NaN   \n",
       "...                  ...                      ...   \n",
       "20250                0.0                   4086.0   \n",
       "4168                 0.0                    226.0   \n",
       "13475                0.0                    230.0   \n",
       "15319            19550.0                  32455.0   \n",
       "18330                NaN                      NaN   \n",
       "\n",
       "       daily_people_fully_vaccinated daily_vaccinations  mobility_composite  \n",
       "19484                            NaN                NaN                 NaN  \n",
       "19483                            NaN                NaN                 NaN  \n",
       "19482                            NaN                NaN                 NaN  \n",
       "5684                             NaN                NaN                 NaN  \n",
       "19481                            NaN                NaN                 NaN  \n",
       "...                              ...                ...                 ...  \n",
       "20250                         2945.0              4,085            0.000000  \n",
       "4168                          1440.0              1,272           -5.361115  \n",
       "13475                          163.0                246                 NaN  \n",
       "15319                        20400.0             19,615            0.000000  \n",
       "18330                            NaN                NaN                 NaN  \n",
       "\n",
       "[20618 rows x 10 columns]"
      ]
     },
     "execution_count": 9,
     "metadata": {},
     "output_type": "execute_result"
    }
   ],
   "source": [
    "# Set date to be datetime format and sort by date and fips\n",
    "df['date'] = pd.to_datetime(df.date)\n",
    "df = df.sort_values(by=['date', 'fips'], axis=0, ascending=True)\n",
    "df"
   ]
  },
  {
   "cell_type": "code",
   "execution_count": 10,
   "id": "a6675f3e-4cdc-4c46-80ab-f222d50a4f86",
   "metadata": {
    "colab": {
     "base_uri": "https://localhost:8080/",
     "height": 455
    },
    "executionInfo": {
     "elapsed": 46105,
     "status": "ok",
     "timestamp": 1619509200361,
     "user": {
      "displayName": "Sitiporn Saelim",
      "photoUrl": "",
      "userId": "04392232392828254116"
     },
     "user_tz": -420
    },
    "id": "a6675f3e-4cdc-4c46-80ab-f222d50a4f86",
    "outputId": "072e1c55-bd87-4a72-9cda-f177430f51e4"
   },
   "outputs": [
    {
     "data": {
      "text/html": [
       "<div>\n",
       "<style scoped>\n",
       "    .dataframe tbody tr th:only-of-type {\n",
       "        vertical-align: middle;\n",
       "    }\n",
       "\n",
       "    .dataframe tbody tr th {\n",
       "        vertical-align: top;\n",
       "    }\n",
       "\n",
       "    .dataframe thead th {\n",
       "        text-align: right;\n",
       "    }\n",
       "</style>\n",
       "<table border=\"1\" class=\"dataframe\">\n",
       "  <thead>\n",
       "    <tr style=\"text-align: right;\">\n",
       "      <th></th>\n",
       "      <th>state</th>\n",
       "      <th>fips</th>\n",
       "      <th>daily_cases</th>\n",
       "      <th>daily_deaths</th>\n",
       "      <th>daily_distributed</th>\n",
       "      <th>daily_people_vaccinated</th>\n",
       "      <th>daily_people_fully_vaccinated</th>\n",
       "      <th>daily_vaccinations</th>\n",
       "      <th>mobility_composite</th>\n",
       "    </tr>\n",
       "    <tr>\n",
       "      <th>date</th>\n",
       "      <th></th>\n",
       "      <th></th>\n",
       "      <th></th>\n",
       "      <th></th>\n",
       "      <th></th>\n",
       "      <th></th>\n",
       "      <th></th>\n",
       "      <th></th>\n",
       "      <th></th>\n",
       "    </tr>\n",
       "  </thead>\n",
       "  <tbody>\n",
       "    <tr>\n",
       "      <th>2020-01-25</th>\n",
       "      <td>California</td>\n",
       "      <td>6</td>\n",
       "      <td>1</td>\n",
       "      <td>0</td>\n",
       "      <td>NaN</td>\n",
       "      <td>NaN</td>\n",
       "      <td>NaN</td>\n",
       "      <td>NaN</td>\n",
       "      <td>NaN</td>\n",
       "    </tr>\n",
       "    <tr>\n",
       "      <th>2020-01-26</th>\n",
       "      <td>California</td>\n",
       "      <td>6</td>\n",
       "      <td>1</td>\n",
       "      <td>0</td>\n",
       "      <td>NaN</td>\n",
       "      <td>NaN</td>\n",
       "      <td>NaN</td>\n",
       "      <td>NaN</td>\n",
       "      <td>NaN</td>\n",
       "    </tr>\n",
       "    <tr>\n",
       "      <th>2020-01-27</th>\n",
       "      <td>California</td>\n",
       "      <td>6</td>\n",
       "      <td>0</td>\n",
       "      <td>0</td>\n",
       "      <td>NaN</td>\n",
       "      <td>NaN</td>\n",
       "      <td>NaN</td>\n",
       "      <td>NaN</td>\n",
       "      <td>NaN</td>\n",
       "    </tr>\n",
       "    <tr>\n",
       "      <th>2020-01-28</th>\n",
       "      <td>California</td>\n",
       "      <td>6</td>\n",
       "      <td>0</td>\n",
       "      <td>0</td>\n",
       "      <td>NaN</td>\n",
       "      <td>NaN</td>\n",
       "      <td>NaN</td>\n",
       "      <td>NaN</td>\n",
       "      <td>NaN</td>\n",
       "    </tr>\n",
       "    <tr>\n",
       "      <th>2020-01-29</th>\n",
       "      <td>California</td>\n",
       "      <td>6</td>\n",
       "      <td>0</td>\n",
       "      <td>0</td>\n",
       "      <td>NaN</td>\n",
       "      <td>NaN</td>\n",
       "      <td>NaN</td>\n",
       "      <td>NaN</td>\n",
       "      <td>NaN</td>\n",
       "    </tr>\n",
       "    <tr>\n",
       "      <th>...</th>\n",
       "      <td>...</td>\n",
       "      <td>...</td>\n",
       "      <td>...</td>\n",
       "      <td>...</td>\n",
       "      <td>...</td>\n",
       "      <td>...</td>\n",
       "      <td>...</td>\n",
       "      <td>...</td>\n",
       "      <td>...</td>\n",
       "    </tr>\n",
       "    <tr>\n",
       "      <th>2021-03-09</th>\n",
       "      <td>California</td>\n",
       "      <td>6</td>\n",
       "      <td>4131</td>\n",
       "      <td>243</td>\n",
       "      <td>1162100.0</td>\n",
       "      <td>82138.0</td>\n",
       "      <td>37820.0</td>\n",
       "      <td>204,065</td>\n",
       "      <td>-32.197826</td>\n",
       "    </tr>\n",
       "    <tr>\n",
       "      <th>2021-03-10</th>\n",
       "      <td>California</td>\n",
       "      <td>6</td>\n",
       "      <td>3464</td>\n",
       "      <td>257</td>\n",
       "      <td>254140.0</td>\n",
       "      <td>96767.0</td>\n",
       "      <td>40388.0</td>\n",
       "      <td>190,191</td>\n",
       "      <td>-32.197826</td>\n",
       "    </tr>\n",
       "    <tr>\n",
       "      <th>2021-03-11</th>\n",
       "      <td>California</td>\n",
       "      <td>6</td>\n",
       "      <td>3560</td>\n",
       "      <td>255</td>\n",
       "      <td>424380.0</td>\n",
       "      <td>103215.0</td>\n",
       "      <td>56316.0</td>\n",
       "      <td>194,328</td>\n",
       "      <td>-32.197826</td>\n",
       "    </tr>\n",
       "    <tr>\n",
       "      <th>2021-03-12</th>\n",
       "      <td>California</td>\n",
       "      <td>6</td>\n",
       "      <td>2304</td>\n",
       "      <td>204</td>\n",
       "      <td>331560.0</td>\n",
       "      <td>138703.0</td>\n",
       "      <td>73249.0</td>\n",
       "      <td>193,794</td>\n",
       "      <td>-32.197826</td>\n",
       "    </tr>\n",
       "    <tr>\n",
       "      <th>2021-03-13</th>\n",
       "      <td>California</td>\n",
       "      <td>6</td>\n",
       "      <td>3741</td>\n",
       "      <td>1013</td>\n",
       "      <td>318720.0</td>\n",
       "      <td>286615.0</td>\n",
       "      <td>204447.0</td>\n",
       "      <td>209,548</td>\n",
       "      <td>-32.197826</td>\n",
       "    </tr>\n",
       "  </tbody>\n",
       "</table>\n",
       "<p>414 rows × 9 columns</p>\n",
       "</div>"
      ],
      "text/plain": [
       "                 state  fips  daily_cases  daily_deaths  daily_distributed  \\\n",
       "date                                                                         \n",
       "2020-01-25  California     6            1             0                NaN   \n",
       "2020-01-26  California     6            1             0                NaN   \n",
       "2020-01-27  California     6            0             0                NaN   \n",
       "2020-01-28  California     6            0             0                NaN   \n",
       "2020-01-29  California     6            0             0                NaN   \n",
       "...                ...   ...          ...           ...                ...   \n",
       "2021-03-09  California     6         4131           243          1162100.0   \n",
       "2021-03-10  California     6         3464           257           254140.0   \n",
       "2021-03-11  California     6         3560           255           424380.0   \n",
       "2021-03-12  California     6         2304           204           331560.0   \n",
       "2021-03-13  California     6         3741          1013           318720.0   \n",
       "\n",
       "            daily_people_vaccinated  daily_people_fully_vaccinated  \\\n",
       "date                                                                 \n",
       "2020-01-25                      NaN                            NaN   \n",
       "2020-01-26                      NaN                            NaN   \n",
       "2020-01-27                      NaN                            NaN   \n",
       "2020-01-28                      NaN                            NaN   \n",
       "2020-01-29                      NaN                            NaN   \n",
       "...                             ...                            ...   \n",
       "2021-03-09                  82138.0                        37820.0   \n",
       "2021-03-10                  96767.0                        40388.0   \n",
       "2021-03-11                 103215.0                        56316.0   \n",
       "2021-03-12                 138703.0                        73249.0   \n",
       "2021-03-13                 286615.0                       204447.0   \n",
       "\n",
       "           daily_vaccinations  mobility_composite  \n",
       "date                                               \n",
       "2020-01-25                NaN                 NaN  \n",
       "2020-01-26                NaN                 NaN  \n",
       "2020-01-27                NaN                 NaN  \n",
       "2020-01-28                NaN                 NaN  \n",
       "2020-01-29                NaN                 NaN  \n",
       "...                       ...                 ...  \n",
       "2021-03-09            204,065          -32.197826  \n",
       "2021-03-10            190,191          -32.197826  \n",
       "2021-03-11            194,328          -32.197826  \n",
       "2021-03-12            193,794          -32.197826  \n",
       "2021-03-13            209,548          -32.197826  \n",
       "\n",
       "[414 rows x 9 columns]"
      ]
     },
     "execution_count": 10,
     "metadata": {},
     "output_type": "execute_result"
    }
   ],
   "source": [
    "df_clean = df[df.state == STATE]\n",
    "df_clean = df_clean.set_index('date')\n",
    "df_clean"
   ]
  },
  {
   "cell_type": "code",
   "execution_count": 11,
   "id": "a8eccf57-7c24-4496-b2fa-2af17ebf8f28",
   "metadata": {
    "colab": {
     "base_uri": "https://localhost:8080/"
    },
    "executionInfo": {
     "elapsed": 46101,
     "status": "ok",
     "timestamp": 1619509200363,
     "user": {
      "displayName": "Sitiporn Saelim",
      "photoUrl": "",
      "userId": "04392232392828254116"
     },
     "user_tz": -420
    },
    "id": "a8eccf57-7c24-4496-b2fa-2af17ebf8f28",
    "outputId": "7fa3dcff-6ae6-423b-eab1-542e1e601795"
   },
   "outputs": [
    {
     "data": {
      "text/plain": [
       "(378, 1)"
      ]
     },
     "execution_count": 11,
     "metadata": {},
     "output_type": "execute_result"
    }
   ],
   "source": [
    "rmlabels=['state', 'fips', 'daily_deaths', 'daily_distributed','daily_people_vaccinated', 'daily_people_fully_vaccinated',\n",
    "          'daily_vaccinations', 'mobility_composite']\n",
    "df_clean = df_clean.drop(labels=rmlabels, axis=1)\n",
    "df_clean = df_clean.iloc[df_clean.shape[0]-378:]\n",
    "df_clean.shape"
   ]
  },
  {
   "cell_type": "code",
   "execution_count": 12,
   "id": "c201a119-d9fa-4518-abef-46b721091fb8",
   "metadata": {
    "colab": {
     "base_uri": "https://localhost:8080/",
     "height": 324
    },
    "executionInfo": {
     "elapsed": 46924,
     "status": "ok",
     "timestamp": 1619509201196,
     "user": {
      "displayName": "Sitiporn Saelim",
      "photoUrl": "",
      "userId": "04392232392828254116"
     },
     "user_tz": -420
    },
    "id": "c201a119-d9fa-4518-abef-46b721091fb8",
    "outputId": "9e0a18be-bc92-49d7-8de0-384963febafe"
   },
   "outputs": [
    {
     "data": {
      "text/plain": [
       "<matplotlib.axes._subplots.AxesSubplot at 0x7f9567766f28>"
      ]
     },
     "execution_count": 12,
     "metadata": {},
     "output_type": "execute_result"
    },
    {
     "data": {
      "image/png": "[encoded data removed]",
      "text/plain": [
       "<matplotlib.figure.Figure at 0x7f9567766550>"
      ]
     },
     "metadata": {
      "needs_background": "light"
     },
     "output_type": "display_data"
    }
   ],
   "source": [
    "df_clean.plot(title=f\"Daily cases :{STATE}\")"
   ]
  },
  {
   "cell_type": "code",
   "execution_count": 13,
   "id": "23c4f150-3637-4570-adb3-6b5f40617af6",
   "metadata": {
    "colab": {
     "base_uri": "https://localhost:8080/",
     "height": 206
    },
    "executionInfo": {
     "elapsed": 46917,
     "status": "ok",
     "timestamp": 1619509201196,
     "user": {
      "displayName": "Sitiporn Saelim",
      "photoUrl": "",
      "userId": "04392232392828254116"
     },
     "user_tz": -420
    },
    "id": "23c4f150-3637-4570-adb3-6b5f40617af6",
    "outputId": "8358c33b-8cd9-4df1-f937-d9ad57e69578"
   },
   "outputs": [
    {
     "data": {
      "text/html": [
       "<div>\n",
       "<style scoped>\n",
       "    .dataframe tbody tr th:only-of-type {\n",
       "        vertical-align: middle;\n",
       "    }\n",
       "\n",
       "    .dataframe tbody tr th {\n",
       "        vertical-align: top;\n",
       "    }\n",
       "\n",
       "    .dataframe thead th {\n",
       "        text-align: right;\n",
       "    }\n",
       "</style>\n",
       "<table border=\"1\" class=\"dataframe\">\n",
       "  <thead>\n",
       "    <tr style=\"text-align: right;\">\n",
       "      <th></th>\n",
       "      <th>date</th>\n",
       "      <th>state</th>\n",
       "      <th>fips</th>\n",
       "      <th>daily_cases</th>\n",
       "      <th>daily_deaths</th>\n",
       "      <th>daily_distributed</th>\n",
       "      <th>daily_people_vaccinated</th>\n",
       "      <th>daily_people_fully_vaccinated</th>\n",
       "      <th>daily_vaccinations</th>\n",
       "      <th>mobility_composite</th>\n",
       "    </tr>\n",
       "  </thead>\n",
       "  <tbody>\n",
       "    <tr>\n",
       "      <th>19484</th>\n",
       "      <td>2020-01-21</td>\n",
       "      <td>Washington</td>\n",
       "      <td>53</td>\n",
       "      <td>1</td>\n",
       "      <td>0</td>\n",
       "      <td>NaN</td>\n",
       "      <td>NaN</td>\n",
       "      <td>NaN</td>\n",
       "      <td>NaN</td>\n",
       "      <td>NaN</td>\n",
       "    </tr>\n",
       "    <tr>\n",
       "      <th>19483</th>\n",
       "      <td>2020-01-22</td>\n",
       "      <td>Washington</td>\n",
       "      <td>53</td>\n",
       "      <td>0</td>\n",
       "      <td>0</td>\n",
       "      <td>NaN</td>\n",
       "      <td>NaN</td>\n",
       "      <td>NaN</td>\n",
       "      <td>NaN</td>\n",
       "      <td>NaN</td>\n",
       "    </tr>\n",
       "    <tr>\n",
       "      <th>19482</th>\n",
       "      <td>2020-01-23</td>\n",
       "      <td>Washington</td>\n",
       "      <td>53</td>\n",
       "      <td>0</td>\n",
       "      <td>0</td>\n",
       "      <td>NaN</td>\n",
       "      <td>NaN</td>\n",
       "      <td>NaN</td>\n",
       "      <td>NaN</td>\n",
       "      <td>NaN</td>\n",
       "    </tr>\n",
       "    <tr>\n",
       "      <th>5684</th>\n",
       "      <td>2020-01-24</td>\n",
       "      <td>Illinois</td>\n",
       "      <td>17</td>\n",
       "      <td>1</td>\n",
       "      <td>0</td>\n",
       "      <td>NaN</td>\n",
       "      <td>NaN</td>\n",
       "      <td>NaN</td>\n",
       "      <td>NaN</td>\n",
       "      <td>NaN</td>\n",
       "    </tr>\n",
       "    <tr>\n",
       "      <th>19481</th>\n",
       "      <td>2020-01-24</td>\n",
       "      <td>Washington</td>\n",
       "      <td>53</td>\n",
       "      <td>0</td>\n",
       "      <td>0</td>\n",
       "      <td>NaN</td>\n",
       "      <td>NaN</td>\n",
       "      <td>NaN</td>\n",
       "      <td>NaN</td>\n",
       "      <td>NaN</td>\n",
       "    </tr>\n",
       "  </tbody>\n",
       "</table>\n",
       "</div>"
      ],
      "text/plain": [
       "            date       state  fips  daily_cases  daily_deaths  \\\n",
       "19484 2020-01-21  Washington    53            1             0   \n",
       "19483 2020-01-22  Washington    53            0             0   \n",
       "19482 2020-01-23  Washington    53            0             0   \n",
       "5684  2020-01-24    Illinois    17            1             0   \n",
       "19481 2020-01-24  Washington    53            0             0   \n",
       "\n",
       "       daily_distributed  daily_people_vaccinated  \\\n",
       "19484                NaN                      NaN   \n",
       "19483                NaN                      NaN   \n",
       "19482                NaN                      NaN   \n",
       "5684                 NaN                      NaN   \n",
       "19481                NaN                      NaN   \n",
       "\n",
       "       daily_people_fully_vaccinated daily_vaccinations  mobility_composite  \n",
       "19484                            NaN                NaN                 NaN  \n",
       "19483                            NaN                NaN                 NaN  \n",
       "19482                            NaN                NaN                 NaN  \n",
       "5684                             NaN                NaN                 NaN  \n",
       "19481                            NaN                NaN                 NaN  "
      ]
     },
     "execution_count": 13,
     "metadata": {},
     "output_type": "execute_result"
    }
   ],
   "source": [
    "df.head()"
   ]
  },
  {
   "cell_type": "code",
   "execution_count": 14,
   "id": "e8f7a48d-81a7-4b17-aedb-5923ffcbe32f",
   "metadata": {
    "executionInfo": {
     "elapsed": 46916,
     "status": "ok",
     "timestamp": 1619509201197,
     "user": {
      "displayName": "Sitiporn Saelim",
      "photoUrl": "",
      "userId": "04392232392828254116"
     },
     "user_tz": -420
    },
    "id": "e8f7a48d-81a7-4b17-aedb-5923ffcbe32f"
   },
   "outputs": [],
   "source": [
    "df_state = df[df.state == STATE]"
   ]
  },
  {
   "cell_type": "code",
   "execution_count": 15,
   "id": "db9e99af-23dc-4e4e-a124-92d83a36d885",
   "metadata": {
    "colab": {
     "base_uri": "https://localhost:8080/",
     "height": 408
    },
    "executionInfo": {
     "elapsed": 47772,
     "status": "ok",
     "timestamp": 1619509202061,
     "user": {
      "displayName": "Sitiporn Saelim",
      "photoUrl": "",
      "userId": "04392232392828254116"
     },
     "user_tz": -420
    },
    "id": "db9e99af-23dc-4e4e-a124-92d83a36d885",
    "outputId": "0ba43519-6419-485a-f90b-ea123d762d7d"
   },
   "outputs": [
    {
     "data": {
      "image/png": "[encoded data removed]",
      "text/plain": [
       "<matplotlib.figure.Figure at 0x7f956766f780>"
      ]
     },
     "metadata": {
      "needs_background": "light"
     },
     "output_type": "display_data"
    }
   ],
   "source": [
    "import pandas as pd\n",
    "import seaborn as sn\n",
    "import matplotlib.pyplot as plt\n",
    "\n",
    "corrMatrix = df_state.corr()\n",
    "sn.heatmap(corrMatrix, annot=True)\n",
    "plt.show()"
   ]
  },
  {
   "cell_type": "markdown",
   "id": "6662892c-7d17-4a48-a17c-83731bd9759e",
   "metadata": {
    "id": "6662892c-7d17-4a48-a17c-83731bd9759e"
   },
   "source": [
    "### select the high correlation to be our factors"
   ]
  },
  {
   "cell_type": "markdown",
   "id": "a276e2d6-9e04-4b58-955b-a4631b50d829",
   "metadata": {
    "id": "a276e2d6-9e04-4b58-955b-a4631b50d829"
   },
   "source": [
    "- daily death\n",
    "- daily people vacinated \n",
    "- daily_distibuted  \n",
    "- daily case "
   ]
  },
  {
   "cell_type": "code",
   "execution_count": 16,
   "id": "d6229abd-17d0-4e2b-b303-f4e2044f5079",
   "metadata": {
    "colab": {
     "base_uri": "https://localhost:8080/"
    },
    "executionInfo": {
     "elapsed": 47768,
     "status": "ok",
     "timestamp": 1619509202062,
     "user": {
      "displayName": "Sitiporn Saelim",
      "photoUrl": "",
      "userId": "04392232392828254116"
     },
     "user_tz": -420
    },
    "id": "d6229abd-17d0-4e2b-b303-f4e2044f5079",
    "outputId": "7c9c1a5f-eb10-40df-ba25-ae5f3f2cfc59"
   },
   "outputs": [
    {
     "data": {
      "text/plain": [
       "Index(['date', 'state', 'fips', 'daily_cases', 'daily_deaths',\n",
       "       'daily_distributed', 'daily_people_vaccinated',\n",
       "       'daily_people_fully_vaccinated', 'daily_vaccinations',\n",
       "       'mobility_composite'],\n",
       "      dtype='object')"
      ]
     },
     "execution_count": 16,
     "metadata": {},
     "output_type": "execute_result"
    }
   ],
   "source": [
    "df_state.columns"
   ]
  },
  {
   "cell_type": "code",
   "execution_count": 17,
   "id": "39b13fd3-a58b-476e-9bdd-65c1f96f8311",
   "metadata": {
    "executionInfo": {
     "elapsed": 47765,
     "status": "ok",
     "timestamp": 1619509202062,
     "user": {
      "displayName": "Sitiporn Saelim",
      "photoUrl": "",
      "userId": "04392232392828254116"
     },
     "user_tz": -420
    },
    "id": "39b13fd3-a58b-476e-9bdd-65c1f96f8311"
   },
   "outputs": [],
   "source": [
    "df_state = df_state.set_index('date') "
   ]
  },
  {
   "cell_type": "code",
   "execution_count": 18,
   "id": "598184b0-4082-404b-9b4d-3729f6297e39",
   "metadata": {
    "colab": {
     "base_uri": "https://localhost:8080/",
     "height": 0
    },
    "executionInfo": {
     "elapsed": 47758,
     "status": "ok",
     "timestamp": 1619509202063,
     "user": {
      "displayName": "Sitiporn Saelim",
      "photoUrl": "",
      "userId": "04392232392828254116"
     },
     "user_tz": -420
    },
    "id": "598184b0-4082-404b-9b4d-3729f6297e39",
    "outputId": "7255bf5b-fbb9-416f-bea6-b833636a8c77"
   },
   "outputs": [
    {
     "data": {
      "text/html": [
       "<div>\n",
       "<style scoped>\n",
       "    .dataframe tbody tr th:only-of-type {\n",
       "        vertical-align: middle;\n",
       "    }\n",
       "\n",
       "    .dataframe tbody tr th {\n",
       "        vertical-align: top;\n",
       "    }\n",
       "\n",
       "    .dataframe thead th {\n",
       "        text-align: right;\n",
       "    }\n",
       "</style>\n",
       "<table border=\"1\" class=\"dataframe\">\n",
       "  <thead>\n",
       "    <tr style=\"text-align: right;\">\n",
       "      <th></th>\n",
       "      <th>state</th>\n",
       "      <th>fips</th>\n",
       "      <th>daily_cases</th>\n",
       "      <th>daily_deaths</th>\n",
       "      <th>daily_distributed</th>\n",
       "      <th>daily_people_vaccinated</th>\n",
       "      <th>daily_people_fully_vaccinated</th>\n",
       "      <th>daily_vaccinations</th>\n",
       "      <th>mobility_composite</th>\n",
       "    </tr>\n",
       "    <tr>\n",
       "      <th>date</th>\n",
       "      <th></th>\n",
       "      <th></th>\n",
       "      <th></th>\n",
       "      <th></th>\n",
       "      <th></th>\n",
       "      <th></th>\n",
       "      <th></th>\n",
       "      <th></th>\n",
       "      <th></th>\n",
       "    </tr>\n",
       "  </thead>\n",
       "  <tbody>\n",
       "    <tr>\n",
       "      <th>2020-01-25</th>\n",
       "      <td>California</td>\n",
       "      <td>6</td>\n",
       "      <td>1</td>\n",
       "      <td>0</td>\n",
       "      <td>NaN</td>\n",
       "      <td>NaN</td>\n",
       "      <td>NaN</td>\n",
       "      <td>NaN</td>\n",
       "      <td>NaN</td>\n",
       "    </tr>\n",
       "    <tr>\n",
       "      <th>2020-01-26</th>\n",
       "      <td>California</td>\n",
       "      <td>6</td>\n",
       "      <td>1</td>\n",
       "      <td>0</td>\n",
       "      <td>NaN</td>\n",
       "      <td>NaN</td>\n",
       "      <td>NaN</td>\n",
       "      <td>NaN</td>\n",
       "      <td>NaN</td>\n",
       "    </tr>\n",
       "    <tr>\n",
       "      <th>2020-01-27</th>\n",
       "      <td>California</td>\n",
       "      <td>6</td>\n",
       "      <td>0</td>\n",
       "      <td>0</td>\n",
       "      <td>NaN</td>\n",
       "      <td>NaN</td>\n",
       "      <td>NaN</td>\n",
       "      <td>NaN</td>\n",
       "      <td>NaN</td>\n",
       "    </tr>\n",
       "    <tr>\n",
       "      <th>2020-01-28</th>\n",
       "      <td>California</td>\n",
       "      <td>6</td>\n",
       "      <td>0</td>\n",
       "      <td>0</td>\n",
       "      <td>NaN</td>\n",
       "      <td>NaN</td>\n",
       "      <td>NaN</td>\n",
       "      <td>NaN</td>\n",
       "      <td>NaN</td>\n",
       "    </tr>\n",
       "    <tr>\n",
       "      <th>2020-01-29</th>\n",
       "      <td>California</td>\n",
       "      <td>6</td>\n",
       "      <td>0</td>\n",
       "      <td>0</td>\n",
       "      <td>NaN</td>\n",
       "      <td>NaN</td>\n",
       "      <td>NaN</td>\n",
       "      <td>NaN</td>\n",
       "      <td>NaN</td>\n",
       "    </tr>\n",
       "    <tr>\n",
       "      <th>...</th>\n",
       "      <td>...</td>\n",
       "      <td>...</td>\n",
       "      <td>...</td>\n",
       "      <td>...</td>\n",
       "      <td>...</td>\n",
       "      <td>...</td>\n",
       "      <td>...</td>\n",
       "      <td>...</td>\n",
       "      <td>...</td>\n",
       "    </tr>\n",
       "    <tr>\n",
       "      <th>2021-03-09</th>\n",
       "      <td>California</td>\n",
       "      <td>6</td>\n",
       "      <td>4131</td>\n",
       "      <td>243</td>\n",
       "      <td>1162100.0</td>\n",
       "      <td>82138.0</td>\n",
       "      <td>37820.0</td>\n",
       "      <td>204,065</td>\n",
       "      <td>-32.197826</td>\n",
       "    </tr>\n",
       "    <tr>\n",
       "      <th>2021-03-10</th>\n",
       "      <td>California</td>\n",
       "      <td>6</td>\n",
       "      <td>3464</td>\n",
       "      <td>257</td>\n",
       "      <td>254140.0</td>\n",
       "      <td>96767.0</td>\n",
       "      <td>40388.0</td>\n",
       "      <td>190,191</td>\n",
       "      <td>-32.197826</td>\n",
       "    </tr>\n",
       "    <tr>\n",
       "      <th>2021-03-11</th>\n",
       "      <td>California</td>\n",
       "      <td>6</td>\n",
       "      <td>3560</td>\n",
       "      <td>255</td>\n",
       "      <td>424380.0</td>\n",
       "      <td>103215.0</td>\n",
       "      <td>56316.0</td>\n",
       "      <td>194,328</td>\n",
       "      <td>-32.197826</td>\n",
       "    </tr>\n",
       "    <tr>\n",
       "      <th>2021-03-12</th>\n",
       "      <td>California</td>\n",
       "      <td>6</td>\n",
       "      <td>2304</td>\n",
       "      <td>204</td>\n",
       "      <td>331560.0</td>\n",
       "      <td>138703.0</td>\n",
       "      <td>73249.0</td>\n",
       "      <td>193,794</td>\n",
       "      <td>-32.197826</td>\n",
       "    </tr>\n",
       "    <tr>\n",
       "      <th>2021-03-13</th>\n",
       "      <td>California</td>\n",
       "      <td>6</td>\n",
       "      <td>3741</td>\n",
       "      <td>1013</td>\n",
       "      <td>318720.0</td>\n",
       "      <td>286615.0</td>\n",
       "      <td>204447.0</td>\n",
       "      <td>209,548</td>\n",
       "      <td>-32.197826</td>\n",
       "    </tr>\n",
       "  </tbody>\n",
       "</table>\n",
       "<p>414 rows × 9 columns</p>\n",
       "</div>"
      ],
      "text/plain": [
       "                 state  fips  daily_cases  daily_deaths  daily_distributed  \\\n",
       "date                                                                         \n",
       "2020-01-25  California     6            1             0                NaN   \n",
       "2020-01-26  California     6            1             0                NaN   \n",
       "2020-01-27  California     6            0             0                NaN   \n",
       "2020-01-28  California     6            0             0                NaN   \n",
       "2020-01-29  California     6            0             0                NaN   \n",
       "...                ...   ...          ...           ...                ...   \n",
       "2021-03-09  California     6         4131           243          1162100.0   \n",
       "2021-03-10  California     6         3464           257           254140.0   \n",
       "2021-03-11  California     6         3560           255           424380.0   \n",
       "2021-03-12  California     6         2304           204           331560.0   \n",
       "2021-03-13  California     6         3741          1013           318720.0   \n",
       "\n",
       "            daily_people_vaccinated  daily_people_fully_vaccinated  \\\n",
       "date                                                                 \n",
       "2020-01-25                      NaN                            NaN   \n",
       "2020-01-26                      NaN                            NaN   \n",
       "2020-01-27                      NaN                            NaN   \n",
       "2020-01-28                      NaN                            NaN   \n",
       "2020-01-29                      NaN                            NaN   \n",
       "...                             ...                            ...   \n",
       "2021-03-09                  82138.0                        37820.0   \n",
       "2021-03-10                  96767.0                        40388.0   \n",
       "2021-03-11                 103215.0                        56316.0   \n",
       "2021-03-12                 138703.0                        73249.0   \n",
       "2021-03-13                 286615.0                       204447.0   \n",
       "\n",
       "           daily_vaccinations  mobility_composite  \n",
       "date                                               \n",
       "2020-01-25                NaN                 NaN  \n",
       "2020-01-26                NaN                 NaN  \n",
       "2020-01-27                NaN                 NaN  \n",
       "2020-01-28                NaN                 NaN  \n",
       "2020-01-29                NaN                 NaN  \n",
       "...                       ...                 ...  \n",
       "2021-03-09            204,065          -32.197826  \n",
       "2021-03-10            190,191          -32.197826  \n",
       "2021-03-11            194,328          -32.197826  \n",
       "2021-03-12            193,794          -32.197826  \n",
       "2021-03-13            209,548          -32.197826  \n",
       "\n",
       "[414 rows x 9 columns]"
      ]
     },
     "execution_count": 18,
     "metadata": {},
     "output_type": "execute_result"
    }
   ],
   "source": [
    "df_state"
   ]
  },
  {
   "cell_type": "code",
   "execution_count": 19,
   "id": "2bd8ef7b-99ba-4c1f-8c67-df4bf7ead2b7",
   "metadata": {
    "executionInfo": {
     "elapsed": 47757,
     "status": "ok",
     "timestamp": 1619509202063,
     "user": {
      "displayName": "Sitiporn Saelim",
      "photoUrl": "",
      "userId": "04392232392828254116"
     },
     "user_tz": -420
    },
    "id": "2bd8ef7b-99ba-4c1f-8c67-df4bf7ead2b7"
   },
   "outputs": [],
   "source": [
    "df_state = df_state.drop(['state', 'fips',\n",
    "       'daily_people_vaccinated',\n",
    "       'daily_people_fully_vaccinated',\n",
    "       'mobility_composite'], axis=1)"
   ]
  },
  {
   "cell_type": "code",
   "execution_count": 20,
   "id": "8f2c8249-9da1-4cf9-b176-b70aa3610b4f",
   "metadata": {
    "colab": {
     "base_uri": "https://localhost:8080/"
    },
    "executionInfo": {
     "elapsed": 47752,
     "status": "ok",
     "timestamp": 1619509202064,
     "user": {
      "displayName": "Sitiporn Saelim",
      "photoUrl": "",
      "userId": "04392232392828254116"
     },
     "user_tz": -420
    },
    "id": "8f2c8249-9da1-4cf9-b176-b70aa3610b4f",
    "outputId": "e9d93a03-a9ba-4903-923e-2b06246f86fb"
   },
   "outputs": [
    {
     "name": "stdout",
     "output_type": "stream",
     "text": [
      "<class 'pandas.core.frame.DataFrame'>\n",
      "DatetimeIndex: 414 entries, 2020-01-25 to 2021-03-13\n",
      "Data columns (total 4 columns):\n",
      " #   Column              Non-Null Count  Dtype  \n",
      "---  ------              --------------  -----  \n",
      " 0   daily_cases         414 non-null    int64  \n",
      " 1   daily_deaths        414 non-null    int64  \n",
      " 2   daily_distributed   72 non-null     float64\n",
      " 3   daily_vaccinations  72 non-null     object \n",
      "dtypes: float64(1), int64(2), object(1)\n",
      "memory usage: 16.2+ KB\n"
     ]
    }
   ],
   "source": [
    "df_state.info()"
   ]
  },
  {
   "cell_type": "code",
   "execution_count": 21,
   "id": "d02afb67-eb2f-4da9-a7ab-75c97cc2cb93",
   "metadata": {
    "executionInfo": {
     "elapsed": 47751,
     "status": "ok",
     "timestamp": 1619509202066,
     "user": {
      "displayName": "Sitiporn Saelim",
      "photoUrl": "",
      "userId": "04392232392828254116"
     },
     "user_tz": -420
    },
    "id": "d02afb67-eb2f-4da9-a7ab-75c97cc2cb93"
   },
   "outputs": [],
   "source": [
    "df_state_clean = df_state.dropna()"
   ]
  },
  {
   "cell_type": "code",
   "execution_count": 22,
   "id": "066ceb35-f5b7-47d2-ac4a-d36f27214d34",
   "metadata": {
    "executionInfo": {
     "elapsed": 47749,
     "status": "ok",
     "timestamp": 1619509202066,
     "user": {
      "displayName": "Sitiporn Saelim",
      "photoUrl": "",
      "userId": "04392232392828254116"
     },
     "user_tz": -420
    },
    "id": "066ceb35-f5b7-47d2-ac4a-d36f27214d34"
   },
   "outputs": [],
   "source": [
    "df_state_clean = df_state_clean.replace(',','', regex=True)"
   ]
  },
  {
   "cell_type": "code",
   "execution_count": 23,
   "id": "3f9c5ecd-cbe0-45a4-9c6c-a9323ca98203",
   "metadata": {
    "colab": {
     "base_uri": "https://localhost:8080/"
    },
    "executionInfo": {
     "elapsed": 47745,
     "status": "ok",
     "timestamp": 1619509202067,
     "user": {
      "displayName": "Sitiporn Saelim",
      "photoUrl": "",
      "userId": "04392232392828254116"
     },
     "user_tz": -420
    },
    "id": "3f9c5ecd-cbe0-45a4-9c6c-a9323ca98203",
    "outputId": "645fa38f-de1c-4c93-a772-172fe2fa9511"
   },
   "outputs": [
    {
     "data": {
      "text/plain": [
       "(72, 4)"
      ]
     },
     "execution_count": 23,
     "metadata": {},
     "output_type": "execute_result"
    }
   ],
   "source": [
    "df_state_clean.shape"
   ]
  },
  {
   "cell_type": "code",
   "execution_count": 24,
   "id": "ae9bb82b-3168-4ac9-be30-f19c39c8ace6",
   "metadata": {
    "colab": {
     "base_uri": "https://localhost:8080/"
    },
    "executionInfo": {
     "elapsed": 47742,
     "status": "ok",
     "timestamp": 1619509202068,
     "user": {
      "displayName": "Sitiporn Saelim",
      "photoUrl": "",
      "userId": "04392232392828254116"
     },
     "user_tz": -420
    },
    "id": "ae9bb82b-3168-4ac9-be30-f19c39c8ace6",
    "outputId": "3c456f74-a3eb-4639-f54e-d955a4425280"
   },
   "outputs": [
    {
     "name": "stdout",
     "output_type": "stream",
     "text": [
      "<class 'pandas.core.frame.DataFrame'>\n",
      "DatetimeIndex: 72 entries, 2021-01-01 to 2021-03-13\n",
      "Data columns (total 4 columns):\n",
      " #   Column              Non-Null Count  Dtype  \n",
      "---  ------              --------------  -----  \n",
      " 0   daily_cases         72 non-null     int64  \n",
      " 1   daily_deaths        72 non-null     int64  \n",
      " 2   daily_distributed   72 non-null     float64\n",
      " 3   daily_vaccinations  72 non-null     object \n",
      "dtypes: float64(1), int64(2), object(1)\n",
      "memory usage: 2.8+ KB\n"
     ]
    }
   ],
   "source": [
    "df_state_clean.info()"
   ]
  },
  {
   "cell_type": "code",
   "execution_count": 29,
   "id": "c2a67ca0-bb2c-45ba-ad06-818b775b284f",
   "metadata": {
    "colab": {
     "base_uri": "https://localhost:8080/"
    },
    "executionInfo": {
     "elapsed": 47739,
     "status": "ok",
     "timestamp": 1619509202069,
     "user": {
      "displayName": "Sitiporn Saelim",
      "photoUrl": "",
      "userId": "04392232392828254116"
     },
     "user_tz": -420
    },
    "id": "c2a67ca0-bb2c-45ba-ad06-818b775b284f",
    "outputId": "4271289a-2c33-49c2-a104-452e25cc4c93"
   },
   "outputs": [
    {
     "data": {
      "text/html": [
       "<div>\n",
       "<style scoped>\n",
       "    .dataframe tbody tr th:only-of-type {\n",
       "        vertical-align: middle;\n",
       "    }\n",
       "\n",
       "    .dataframe tbody tr th {\n",
       "        vertical-align: top;\n",
       "    }\n",
       "\n",
       "    .dataframe thead th {\n",
       "        text-align: right;\n",
       "    }\n",
       "</style>\n",
       "<table border=\"1\" class=\"dataframe\">\n",
       "  <thead>\n",
       "    <tr style=\"text-align: right;\">\n",
       "      <th></th>\n",
       "      <th>daily_cases</th>\n",
       "      <th>daily_deaths</th>\n",
       "      <th>daily_distributed</th>\n",
       "      <th>daily_vaccinations</th>\n",
       "    </tr>\n",
       "    <tr>\n",
       "      <th>date</th>\n",
       "      <th></th>\n",
       "      <th></th>\n",
       "      <th></th>\n",
       "      <th></th>\n",
       "    </tr>\n",
       "  </thead>\n",
       "  <tbody>\n",
       "    <tr>\n",
       "      <th>2021-03-09</th>\n",
       "      <td>4131</td>\n",
       "      <td>243</td>\n",
       "      <td>1162100.0</td>\n",
       "      <td>204,065</td>\n",
       "    </tr>\n",
       "    <tr>\n",
       "      <th>2021-03-10</th>\n",
       "      <td>3464</td>\n",
       "      <td>257</td>\n",
       "      <td>254140.0</td>\n",
       "      <td>190,191</td>\n",
       "    </tr>\n",
       "    <tr>\n",
       "      <th>2021-03-11</th>\n",
       "      <td>3560</td>\n",
       "      <td>255</td>\n",
       "      <td>424380.0</td>\n",
       "      <td>194,328</td>\n",
       "    </tr>\n",
       "    <tr>\n",
       "      <th>2021-03-12</th>\n",
       "      <td>2304</td>\n",
       "      <td>204</td>\n",
       "      <td>331560.0</td>\n",
       "      <td>193,794</td>\n",
       "    </tr>\n",
       "    <tr>\n",
       "      <th>2021-03-13</th>\n",
       "      <td>3741</td>\n",
       "      <td>1013</td>\n",
       "      <td>318720.0</td>\n",
       "      <td>209,548</td>\n",
       "    </tr>\n",
       "  </tbody>\n",
       "</table>\n",
       "</div>"
      ],
      "text/plain": [
       "            daily_cases  daily_deaths  daily_distributed daily_vaccinations\n",
       "date                                                                       \n",
       "2021-03-09         4131           243          1162100.0            204,065\n",
       "2021-03-10         3464           257           254140.0            190,191\n",
       "2021-03-11         3560           255           424380.0            194,328\n",
       "2021-03-12         2304           204           331560.0            193,794\n",
       "2021-03-13         3741          1013           318720.0            209,548"
      ]
     },
     "execution_count": 29,
     "metadata": {},
     "output_type": "execute_result"
    }
   ],
   "source": [
    "df_state.tail()"
   ]
  },
  {
   "cell_type": "code",
   "execution_count": 32,
   "id": "26c5ae67-748c-4b18-a225-ea69db28053f",
   "metadata": {},
   "outputs": [],
   "source": [
    "df_state_daily_cases = df_state['daily_cases'].values"
   ]
  },
  {
   "cell_type": "code",
   "execution_count": 33,
   "id": "9860ea16-a474-4e43-92c9-3f21a63ee0d0",
   "metadata": {},
   "outputs": [
    {
     "data": {
      "text/plain": [
       "(414,)"
      ]
     },
     "execution_count": 33,
     "metadata": {},
     "output_type": "execute_result"
    }
   ],
   "source": []
  },
  {
   "cell_type": "markdown",
   "id": "41e6cf0c-dc31-46f8-9fb7-58a5f722b13d",
   "metadata": {
    "id": "41e6cf0c-dc31-46f8-9fb7-58a5f722b13d"
   },
   "source": [
    "## DATA Shape\n",
    "- (batch_size,data point,channel)\n",
    "\n",
    "### For CNN shape\n",
    "- Shape:\n",
    "        Input:(batch_size,channel, data point)\n",
    "        "
   ]
  },
  {
   "cell_type": "code",
   "execution_count": 26,
   "id": "6c184b07-5c84-4dfc-83c8-3ee084b21dc0",
   "metadata": {
    "colab": {
     "base_uri": "https://localhost:8080/",
     "height": 324
    },
    "executionInfo": {
     "elapsed": 48420,
     "status": "ok",
     "timestamp": 1619509202757,
     "user": {
      "displayName": "Sitiporn Saelim",
      "photoUrl": "",
      "userId": "04392232392828254116"
     },
     "user_tz": -420
    },
    "id": "6c184b07-5c84-4dfc-83c8-3ee084b21dc0",
    "outputId": "35504cc1-7940-43e1-d655-94fe842d11d4"
   },
   "outputs": [
    {
     "data": {
      "text/plain": [
       "<matplotlib.axes._subplots.AxesSubplot at 0x7f956762b5f8>"
      ]
     },
     "execution_count": 26,
     "metadata": {},
     "output_type": "execute_result"
    },
    {
     "data": {
      "image/png": "[encoded data removed]",
      "text/plain": [
       "<matplotlib.figure.Figure at 0x7f9566d260f0>"
      ]
     },
     "metadata": {
      "needs_background": "light"
     },
     "output_type": "display_data"
    }
   ],
   "source": [
    "df_clean.plot(title=f\"Daily cases :{STATE}\")"
   ]
  },
  {
   "cell_type": "code",
   "execution_count": 50,
   "id": "403530c9-7cdf-4ecf-b44c-02856a5d57ab",
   "metadata": {},
   "outputs": [],
   "source": [
    "X = df_state_daily_cases # X -> daily cases\n",
    "size = int(len(X) * 0.66) \n",
    "train, test = X[0:size], X[size:len(X)]\n",
    "history = [float(x) for x in train]\n",
    "predictions = []"
   ]
  },
  {
   "cell_type": "code",
   "execution_count": 52,
   "id": "a68e7fa5-ef42-4043-b636-6eb3ed00d950",
   "metadata": {},
   "outputs": [
    {
     "data": {
      "text/plain": [
       "(141,)"
      ]
     },
     "execution_count": 52,
     "metadata": {},
     "output_type": "execute_result"
    }
   ],
   "source": [
    "test.shape"
   ]
  },
  {
   "cell_type": "code",
   "execution_count": 54,
   "id": "7QUg2uOaANja",
   "metadata": {
    "executionInfo": {
     "elapsed": 57908,
     "status": "aborted",
     "timestamp": 1619509212343,
     "user": {
      "displayName": "Sitiporn Saelim",
      "photoUrl": "",
      "userId": "04392232392828254116"
     },
     "user_tz": -420
    },
    "id": "7QUg2uOaANja"
   },
   "outputs": [
    {
     "name": "stderr",
     "output_type": "stream",
     "text": [
      "/usr/local/lib/python3.6/dist-packages/statsmodels/base/model.py:568: ConvergenceWarning: Maximum Likelihood optimization failed to converge. Check mle_retvals\n",
      "  ConvergenceWarning)\n"
     ]
    },
    {
     "ename": "NameError",
     "evalue": "name 'error' is not defined",
     "output_type": "error",
     "traceback": [
      "\u001b[0;31m---------------------------------------------------------------------------\u001b[0m",
      "\u001b[0;31mNameError\u001b[0m                                 Traceback (most recent call last)",
      "\u001b[0;32m<ipython-input-54-8ef210967296>\u001b[0m in \u001b[0;36m<module>\u001b[0;34m\u001b[0m\n\u001b[1;32m     12\u001b[0m     \u001b[0;31m#print('predicted=%f, expected=%f' % (yhat, obs))\u001b[0m\u001b[0;34m\u001b[0m\u001b[0;34m\u001b[0m\u001b[0;34m\u001b[0m\u001b[0m\n\u001b[1;32m     13\u001b[0m \u001b[0;31m#error = mean_squared_error(test, predictions[1:])\u001b[0m\u001b[0;34m\u001b[0m\u001b[0;34m\u001b[0m\u001b[0;34m\u001b[0m\u001b[0m\n\u001b[0;32m---> 14\u001b[0;31m \u001b[0mprint\u001b[0m\u001b[0;34m(\u001b[0m\u001b[0;34m'Test MSE: %.3f'\u001b[0m \u001b[0;34m%\u001b[0m \u001b[0merror\u001b[0m\u001b[0;34m)\u001b[0m\u001b[0;34m\u001b[0m\u001b[0;34m\u001b[0m\u001b[0m\n\u001b[0m\u001b[1;32m     15\u001b[0m \u001b[0;31m# plot\u001b[0m\u001b[0;34m\u001b[0m\u001b[0;34m\u001b[0m\u001b[0;34m\u001b[0m\u001b[0m\n\u001b[1;32m     16\u001b[0m \u001b[0mplt\u001b[0m\u001b[0;34m.\u001b[0m\u001b[0mplot\u001b[0m\u001b[0;34m(\u001b[0m\u001b[0mtest\u001b[0m\u001b[0;34m)\u001b[0m\u001b[0;34m\u001b[0m\u001b[0;34m\u001b[0m\u001b[0m\n",
      "\u001b[0;31mNameError\u001b[0m: name 'error' is not defined"
     ]
    }
   ],
   "source": [
    "from sklearn.metrics import mean_squared_error\n",
    "from statsmodels.tsa.arima_model import ARIMA\n",
    "\n",
    "for t in range(90):#len(test)):\n",
    "    model = ARIMA(history, order=(5,1,0))\n",
    "    model_fit = model.fit(disp=0)\n",
    "    output = model_fit.forecast()\n",
    "    yhat = output[0]\n",
    "    predictions.append(yhat)\n",
    "    obs = test[t]\n",
    "    history.append(yhat)\n",
    "    #print('predicted=%f, expected=%f' % (yhat, obs))\n",
    "#error = mean_squared_error(test, predictions[1:])\n",
    "#print('Test MSE: %.3f' % error)\n",
    "# plot\n"
   ]
  },
  {
   "cell_type": "code",
   "execution_count": 55,
   "id": "50207cdb-b684-44b0-a4ed-98fa080a9995",
   "metadata": {},
   "outputs": [
    {
     "data": {
      "image/png": "[encoded data removed]",
      "text/plain": [
       "<matplotlib.figure.Figure at 0x7f9562e967b8>"
      ]
     },
     "metadata": {
      "needs_background": "light"
     },
     "output_type": "display_data"
    }
   ],
   "source": [
    "plt.plot(test)\n",
    "plt.plot(predictions, color='red')\n",
    "plt.show()"
   ]
  },
  {
   "cell_type": "code",
   "execution_count": null,
   "id": "a09e233d-b28d-45ff-b368-980ba478eebb",
   "metadata": {},
   "outputs": [],
   "source": []
  }
 ],
 "metadata": {
  "accelerator": "GPU",
  "colab": {
   "name": "2.2_TCN_California.ipynb",
   "provenance": []
  },
  "kernelspec": {
   "display_name": "Python 3",
   "language": "python",
   "name": "python3"
  },
  "language_info": {
   "codemirror_mode": {
    "name": "ipython",
    "version": 3
   },
   "file_extension": ".py",
   "mimetype": "text/x-python",
   "name": "python",
   "nbconvert_exporter": "python",
   "pygments_lexer": "ipython3",
   "version": "3.6.9"
  }
 },
 "nbformat": 4,
 "nbformat_minor": 5
}
