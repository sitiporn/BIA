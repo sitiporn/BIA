{
 "cells": [
  {
   "cell_type": "code",
   "execution_count": 1,
   "id": "ZymfhJQ_63Lj",
   "metadata": {
    "colab": {
     "base_uri": "https://localhost:8080/"
    },
    "executionInfo": {
     "elapsed": 33083,
     "status": "ok",
     "timestamp": 1619509187255,
     "user": {
      "displayName": "Sitiporn Saelim",
      "photoUrl": "",
      "userId": "04392232392828254116"
     },
     "user_tz": -420
    },
    "id": "ZymfhJQ_63Lj",
    "outputId": "10bc1c00-f2bc-4f1b-f4a8-2fd51e72d47f"
   },
   "outputs": [],
   "source": [
    "# from google.colab import drive\n",
    "# drive.mount('/content/drive')"
   ]
  },
  {
   "cell_type": "code",
   "execution_count": 2,
   "id": "96b5819f-e8ac-4c3c-9c28-93afb6ac738f",
   "metadata": {
    "executionInfo": {
     "elapsed": 37627,
     "status": "ok",
     "timestamp": 1619509191805,
     "user": {
      "displayName": "Sitiporn Saelim",
      "photoUrl": "",
      "userId": "04392232392828254116"
     },
     "user_tz": -420
    },
    "id": "96b5819f-e8ac-4c3c-9c28-93afb6ac738f"
   },
   "outputs": [],
   "source": [
    "import numpy as np\n",
    "import pandas as pd\n",
    "import torch\n",
    "import torch.nn as nn\n",
    "import torch.nn.functional as F\n",
    "import torch.optim as optim\n",
    "from torch.utils.data import TensorDataset, DataLoader\n",
    "from sklearn.preprocessing import MinMaxScaler, StandardScaler\n",
    "import matplotlib.pyplot as plt\n",
    "from tqdm import tqdm"
   ]
  },
  {
   "cell_type": "code",
   "execution_count": 3,
   "id": "f788572f-61f5-4edd-a4b7-ba8c292c8589",
   "metadata": {
    "executionInfo": {
     "elapsed": 37626,
     "status": "ok",
     "timestamp": 1619509191807,
     "user": {
      "displayName": "Sitiporn Saelim",
      "photoUrl": "",
      "userId": "04392232392828254116"
     },
     "user_tz": -420
    },
    "id": "f788572f-61f5-4edd-a4b7-ba8c292c8589"
   },
   "outputs": [],
   "source": [
    "##===\n",
    "# Select state we want to predict\n",
    "# New York , California , Florida , Texas\n",
    "STATE = 'California'\n",
    "\n",
    "WEIGHTDECAY = 0\n",
    "TRAIN = True\n",
    "seq_length = 21\n",
    "N_EPOCHS = 1000\n",
    "device = torch.device('cuda' if torch.cuda.is_available() else 'cpu')\n",
    "##===\n",
    "\n",
    "#### Model Config ===\n",
    "# channel_config = np.array([[1,64,128],[128,64,64],[64,32,1]])\n",
    "#channel_config = np.array([[1,7,14],[14,7,7],[7,4,1]])\n",
    "channel_config = np.array([[1,7,14],[14,21,14],[14,7,1]])"
   ]
  },
  {
   "cell_type": "markdown",
   "id": "ad882fe1-7a80-4ca8-9a54-82dc294c48df",
   "metadata": {
    "id": "ad882fe1-7a80-4ca8-9a54-82dc294c48df"
   },
   "source": [
    "## Data frame Format"
   ]
  },
  {
   "cell_type": "markdown",
   "id": "de64a227-a629-42e1-99b6-333734cca580",
   "metadata": {
    "id": "de64a227-a629-42e1-99b6-333734cca580"
   },
   "source": [
    "### Import Data from CSV file"
   ]
  },
  {
   "cell_type": "code",
   "execution_count": 4,
   "id": "5e908914-f968-489e-a2a5-ef500dc4001f",
   "metadata": {
    "executionInfo": {
     "elapsed": 46165,
     "status": "ok",
     "timestamp": 1619509200353,
     "user": {
      "displayName": "Sitiporn Saelim",
      "photoUrl": "",
      "userId": "04392232392828254116"
     },
     "user_tz": -420
    },
    "id": "5e908914-f968-489e-a2a5-ef500dc4001f"
   },
   "outputs": [],
   "source": [
    "#df = pd.read_excel(\"./drive/Shareddrives/BI&A/Data/Cleaned Data.xlsx\")\n",
    "df = pd.read_csv('Cleaned_data.csv')"
   ]
  },
  {
   "cell_type": "code",
   "execution_count": 5,
   "id": "344a4ff7-ad56-4738-93fa-6fadca83fe0f",
   "metadata": {
    "colab": {
     "base_uri": "https://localhost:8080/",
     "height": 226
    },
    "executionInfo": {
     "elapsed": 46152,
     "status": "ok",
     "timestamp": 1619509200354,
     "user": {
      "displayName": "Sitiporn Saelim",
      "photoUrl": "",
      "userId": "04392232392828254116"
     },
     "user_tz": -420
    },
    "id": "344a4ff7-ad56-4738-93fa-6fadca83fe0f",
    "outputId": "1cb3b9b8-2571-4898-ed91-0a08754b3570"
   },
   "outputs": [
    {
     "data": {
      "text/html": [
       "<div>\n",
       "<style scoped>\n",
       "    .dataframe tbody tr th:only-of-type {\n",
       "        vertical-align: middle;\n",
       "    }\n",
       "\n",
       "    .dataframe tbody tr th {\n",
       "        vertical-align: top;\n",
       "    }\n",
       "\n",
       "    .dataframe thead th {\n",
       "        text-align: right;\n",
       "    }\n",
       "</style>\n",
       "<table border=\"1\" class=\"dataframe\">\n",
       "  <thead>\n",
       "    <tr style=\"text-align: right;\">\n",
       "      <th></th>\n",
       "      <th>date</th>\n",
       "      <th>state</th>\n",
       "      <th>fips</th>\n",
       "      <th>cases</th>\n",
       "      <th>daily_cases</th>\n",
       "      <th>deaths</th>\n",
       "      <th>daily_deaths</th>\n",
       "      <th>total_vaccinations</th>\n",
       "      <th>total_distributed</th>\n",
       "      <th>daily_distributed</th>\n",
       "      <th>total_people_vaccinated</th>\n",
       "      <th>daily_people_vaccinated</th>\n",
       "      <th>total_people_fully_vaccinated</th>\n",
       "      <th>daily_people_fully_vaccinated</th>\n",
       "      <th>daily_vaccinations</th>\n",
       "      <th>mobility_composite</th>\n",
       "    </tr>\n",
       "  </thead>\n",
       "  <tbody>\n",
       "    <tr>\n",
       "      <th>0</th>\n",
       "      <td>3/13/2021</td>\n",
       "      <td>Alabama</td>\n",
       "      <td>1</td>\n",
       "      <td>503305</td>\n",
       "      <td>594</td>\n",
       "      <td>10327</td>\n",
       "      <td>28</td>\n",
       "      <td>1288242</td>\n",
       "      <td>1918560.0</td>\n",
       "      <td>80160.0</td>\n",
       "      <td>841394.0</td>\n",
       "      <td>24976.0</td>\n",
       "      <td>492755.0</td>\n",
       "      <td>20430.0</td>\n",
       "      <td>26,935</td>\n",
       "      <td>-1.013041</td>\n",
       "    </tr>\n",
       "    <tr>\n",
       "      <th>1</th>\n",
       "      <td>3/12/2021</td>\n",
       "      <td>Alabama</td>\n",
       "      <td>1</td>\n",
       "      <td>502711</td>\n",
       "      <td>448</td>\n",
       "      <td>10299</td>\n",
       "      <td>25</td>\n",
       "      <td>1249205</td>\n",
       "      <td>1838400.0</td>\n",
       "      <td>22170.0</td>\n",
       "      <td>816418.0</td>\n",
       "      <td>25554.0</td>\n",
       "      <td>472325.0</td>\n",
       "      <td>19579.0</td>\n",
       "      <td>26,375</td>\n",
       "      <td>-1.013041</td>\n",
       "    </tr>\n",
       "    <tr>\n",
       "      <th>2</th>\n",
       "      <td>3/11/2021</td>\n",
       "      <td>Alabama</td>\n",
       "      <td>1</td>\n",
       "      <td>502263</td>\n",
       "      <td>865</td>\n",
       "      <td>10274</td>\n",
       "      <td>52</td>\n",
       "      <td>1209802</td>\n",
       "      <td>1816230.0</td>\n",
       "      <td>40570.0</td>\n",
       "      <td>790864.0</td>\n",
       "      <td>22362.0</td>\n",
       "      <td>452746.0</td>\n",
       "      <td>17728.0</td>\n",
       "      <td>25,376</td>\n",
       "      <td>-1.013041</td>\n",
       "    </tr>\n",
       "    <tr>\n",
       "      <th>3</th>\n",
       "      <td>3/10/2021</td>\n",
       "      <td>Alabama</td>\n",
       "      <td>1</td>\n",
       "      <td>501398</td>\n",
       "      <td>782</td>\n",
       "      <td>10222</td>\n",
       "      <td>36</td>\n",
       "      <td>1173820</td>\n",
       "      <td>1775660.0</td>\n",
       "      <td>86610.0</td>\n",
       "      <td>768502.0</td>\n",
       "      <td>21234.0</td>\n",
       "      <td>435018.0</td>\n",
       "      <td>14935.0</td>\n",
       "      <td>24,827</td>\n",
       "      <td>-1.013041</td>\n",
       "    </tr>\n",
       "    <tr>\n",
       "      <th>4</th>\n",
       "      <td>3/9/2021</td>\n",
       "      <td>Alabama</td>\n",
       "      <td>1</td>\n",
       "      <td>500616</td>\n",
       "      <td>524</td>\n",
       "      <td>10186</td>\n",
       "      <td>38</td>\n",
       "      <td>1140984</td>\n",
       "      <td>1689050.0</td>\n",
       "      <td>60700.0</td>\n",
       "      <td>747268.0</td>\n",
       "      <td>14301.0</td>\n",
       "      <td>420083.0</td>\n",
       "      <td>10146.0</td>\n",
       "      <td>24,118</td>\n",
       "      <td>-1.013041</td>\n",
       "    </tr>\n",
       "  </tbody>\n",
       "</table>\n",
       "</div>"
      ],
      "text/plain": [
       "        date    state  fips   cases  daily_cases  deaths  daily_deaths  \\\n",
       "0  3/13/2021  Alabama     1  503305          594   10327            28   \n",
       "1  3/12/2021  Alabama     1  502711          448   10299            25   \n",
       "2  3/11/2021  Alabama     1  502263          865   10274            52   \n",
       "3  3/10/2021  Alabama     1  501398          782   10222            36   \n",
       "4   3/9/2021  Alabama     1  500616          524   10186            38   \n",
       "\n",
       "  total_vaccinations  total_distributed  daily_distributed  \\\n",
       "0            1288242          1918560.0            80160.0   \n",
       "1            1249205          1838400.0            22170.0   \n",
       "2            1209802          1816230.0            40570.0   \n",
       "3            1173820          1775660.0            86610.0   \n",
       "4            1140984          1689050.0            60700.0   \n",
       "\n",
       "   total_people_vaccinated  daily_people_vaccinated  \\\n",
       "0                 841394.0                  24976.0   \n",
       "1                 816418.0                  25554.0   \n",
       "2                 790864.0                  22362.0   \n",
       "3                 768502.0                  21234.0   \n",
       "4                 747268.0                  14301.0   \n",
       "\n",
       "   total_people_fully_vaccinated  daily_people_fully_vaccinated  \\\n",
       "0                       492755.0                        20430.0   \n",
       "1                       472325.0                        19579.0   \n",
       "2                       452746.0                        17728.0   \n",
       "3                       435018.0                        14935.0   \n",
       "4                       420083.0                        10146.0   \n",
       "\n",
       "  daily_vaccinations  mobility_composite  \n",
       "0             26,935           -1.013041  \n",
       "1             26,375           -1.013041  \n",
       "2             25,376           -1.013041  \n",
       "3             24,827           -1.013041  \n",
       "4             24,118           -1.013041  "
      ]
     },
     "execution_count": 5,
     "metadata": {},
     "output_type": "execute_result"
    }
   ],
   "source": [
    "df.head()"
   ]
  },
  {
   "cell_type": "code",
   "execution_count": 6,
   "id": "21ae967e-fe62-4c78-a5e9-b3ce7158917c",
   "metadata": {
    "colab": {
     "base_uri": "https://localhost:8080/"
    },
    "executionInfo": {
     "elapsed": 46141,
     "status": "ok",
     "timestamp": 1619509200356,
     "user": {
      "displayName": "Sitiporn Saelim",
      "photoUrl": "",
      "userId": "04392232392828254116"
     },
     "user_tz": -420
    },
    "id": "21ae967e-fe62-4c78-a5e9-b3ce7158917c",
    "outputId": "c98dc023-b5a6-446c-d9cc-ca4cb2cd3f98"
   },
   "outputs": [
    {
     "name": "stdout",
     "output_type": "stream",
     "text": [
      "<class 'pandas.core.frame.DataFrame'>\n",
      "RangeIndex: 20618 entries, 0 to 20617\n",
      "Data columns (total 16 columns):\n",
      " #   Column                         Non-Null Count  Dtype  \n",
      "---  ------                         --------------  -----  \n",
      " 0   date                           20618 non-null  object \n",
      " 1   state                          20618 non-null  object \n",
      " 2   fips                           20618 non-null  int64  \n",
      " 3   cases                          20618 non-null  int64  \n",
      " 4   daily_cases                    20618 non-null  int64  \n",
      " 5   deaths                         20618 non-null  int64  \n",
      " 6   daily_deaths                   20618 non-null  int64  \n",
      " 7   total_vaccinations             3801 non-null   object \n",
      " 8   total_distributed              3801 non-null   float64\n",
      " 9   daily_distributed              3801 non-null   float64\n",
      " 10  total_people_vaccinated        3801 non-null   float64\n",
      " 11  daily_people_vaccinated        3801 non-null   float64\n",
      " 12  total_people_fully_vaccinated  3801 non-null   float64\n",
      " 13  daily_people_fully_vaccinated  3801 non-null   float64\n",
      " 14  daily_vaccinations             3779 non-null   object \n",
      " 15  mobility_composite             19353 non-null  float64\n",
      "dtypes: float64(7), int64(5), object(4)\n",
      "memory usage: 2.5+ MB\n"
     ]
    }
   ],
   "source": [
    "df.info()"
   ]
  },
  {
   "cell_type": "code",
   "execution_count": 7,
   "id": "836c3722-619c-4ea8-a6f0-22214d8ee8b9",
   "metadata": {
    "colab": {
     "base_uri": "https://localhost:8080/",
     "height": 206
    },
    "executionInfo": {
     "elapsed": 46132,
     "status": "ok",
     "timestamp": 1619509200357,
     "user": {
      "displayName": "Sitiporn Saelim",
      "photoUrl": "",
      "userId": "04392232392828254116"
     },
     "user_tz": -420
    },
    "id": "836c3722-619c-4ea8-a6f0-22214d8ee8b9",
    "outputId": "4b3cf9f1-c8c6-4cf9-8646-de5ef6411df1"
   },
   "outputs": [
    {
     "data": {
      "text/html": [
       "<div>\n",
       "<style scoped>\n",
       "    .dataframe tbody tr th:only-of-type {\n",
       "        vertical-align: middle;\n",
       "    }\n",
       "\n",
       "    .dataframe tbody tr th {\n",
       "        vertical-align: top;\n",
       "    }\n",
       "\n",
       "    .dataframe thead th {\n",
       "        text-align: right;\n",
       "    }\n",
       "</style>\n",
       "<table border=\"1\" class=\"dataframe\">\n",
       "  <thead>\n",
       "    <tr style=\"text-align: right;\">\n",
       "      <th></th>\n",
       "      <th>date</th>\n",
       "      <th>state</th>\n",
       "      <th>fips</th>\n",
       "      <th>daily_cases</th>\n",
       "      <th>daily_deaths</th>\n",
       "      <th>daily_distributed</th>\n",
       "      <th>daily_people_vaccinated</th>\n",
       "      <th>daily_people_fully_vaccinated</th>\n",
       "      <th>daily_vaccinations</th>\n",
       "      <th>mobility_composite</th>\n",
       "    </tr>\n",
       "  </thead>\n",
       "  <tbody>\n",
       "    <tr>\n",
       "      <th>0</th>\n",
       "      <td>3/13/2021</td>\n",
       "      <td>Alabama</td>\n",
       "      <td>1</td>\n",
       "      <td>594</td>\n",
       "      <td>28</td>\n",
       "      <td>80160.0</td>\n",
       "      <td>24976.0</td>\n",
       "      <td>20430.0</td>\n",
       "      <td>26,935</td>\n",
       "      <td>-1.013041</td>\n",
       "    </tr>\n",
       "    <tr>\n",
       "      <th>1</th>\n",
       "      <td>3/12/2021</td>\n",
       "      <td>Alabama</td>\n",
       "      <td>1</td>\n",
       "      <td>448</td>\n",
       "      <td>25</td>\n",
       "      <td>22170.0</td>\n",
       "      <td>25554.0</td>\n",
       "      <td>19579.0</td>\n",
       "      <td>26,375</td>\n",
       "      <td>-1.013041</td>\n",
       "    </tr>\n",
       "    <tr>\n",
       "      <th>2</th>\n",
       "      <td>3/11/2021</td>\n",
       "      <td>Alabama</td>\n",
       "      <td>1</td>\n",
       "      <td>865</td>\n",
       "      <td>52</td>\n",
       "      <td>40570.0</td>\n",
       "      <td>22362.0</td>\n",
       "      <td>17728.0</td>\n",
       "      <td>25,376</td>\n",
       "      <td>-1.013041</td>\n",
       "    </tr>\n",
       "    <tr>\n",
       "      <th>3</th>\n",
       "      <td>3/10/2021</td>\n",
       "      <td>Alabama</td>\n",
       "      <td>1</td>\n",
       "      <td>782</td>\n",
       "      <td>36</td>\n",
       "      <td>86610.0</td>\n",
       "      <td>21234.0</td>\n",
       "      <td>14935.0</td>\n",
       "      <td>24,827</td>\n",
       "      <td>-1.013041</td>\n",
       "    </tr>\n",
       "    <tr>\n",
       "      <th>4</th>\n",
       "      <td>3/9/2021</td>\n",
       "      <td>Alabama</td>\n",
       "      <td>1</td>\n",
       "      <td>524</td>\n",
       "      <td>38</td>\n",
       "      <td>60700.0</td>\n",
       "      <td>14301.0</td>\n",
       "      <td>10146.0</td>\n",
       "      <td>24,118</td>\n",
       "      <td>-1.013041</td>\n",
       "    </tr>\n",
       "  </tbody>\n",
       "</table>\n",
       "</div>"
      ],
      "text/plain": [
       "        date    state  fips  daily_cases  daily_deaths  daily_distributed  \\\n",
       "0  3/13/2021  Alabama     1          594            28            80160.0   \n",
       "1  3/12/2021  Alabama     1          448            25            22170.0   \n",
       "2  3/11/2021  Alabama     1          865            52            40570.0   \n",
       "3  3/10/2021  Alabama     1          782            36            86610.0   \n",
       "4   3/9/2021  Alabama     1          524            38            60700.0   \n",
       "\n",
       "   daily_people_vaccinated  daily_people_fully_vaccinated daily_vaccinations  \\\n",
       "0                  24976.0                        20430.0             26,935   \n",
       "1                  25554.0                        19579.0             26,375   \n",
       "2                  22362.0                        17728.0             25,376   \n",
       "3                  21234.0                        14935.0             24,827   \n",
       "4                  14301.0                        10146.0             24,118   \n",
       "\n",
       "   mobility_composite  \n",
       "0           -1.013041  \n",
       "1           -1.013041  \n",
       "2           -1.013041  \n",
       "3           -1.013041  \n",
       "4           -1.013041  "
      ]
     },
     "execution_count": 7,
     "metadata": {},
     "output_type": "execute_result"
    }
   ],
   "source": [
    "df = df.drop(labels=['cases', 'deaths', 'total_vaccinations', 'total_distributed', 'total_people_vaccinated', 'total_people_fully_vaccinated'], axis=1)\n",
    "df.head()"
   ]
  },
  {
   "cell_type": "code",
   "execution_count": 8,
   "id": "cd39e90b-0daa-4780-a915-99e2c188b7f2",
   "metadata": {
    "colab": {
     "base_uri": "https://localhost:8080/"
    },
    "executionInfo": {
     "elapsed": 46122,
     "status": "ok",
     "timestamp": 1619509200358,
     "user": {
      "displayName": "Sitiporn Saelim",
      "photoUrl": "",
      "userId": "04392232392828254116"
     },
     "user_tz": -420
    },
    "id": "cd39e90b-0daa-4780-a915-99e2c188b7f2",
    "outputId": "f2f42d23-de95-4150-b07b-d8a731b97fb2"
   },
   "outputs": [
    {
     "data": {
      "text/plain": [
       "array(['Alabama', 'Alaska', 'Arizona', 'Arkansas', 'California',\n",
       "       'Colorado', 'Connecticut', 'Delaware', 'District of Columbia',\n",
       "       'Florida', 'Georgia', 'Guam', 'Hawaii', 'Idaho', 'Illinois',\n",
       "       'Indiana', 'Iowa', 'Kansas', 'Kentucky', 'Louisiana', 'Maine',\n",
       "       'Maryland', 'Massachusetts', 'Michigan', 'Minnesota',\n",
       "       'Mississippi', 'Missouri', 'Montana', 'Nebraska', 'Nevada',\n",
       "       'New Hampshire', 'New Jersey', 'New Mexico', 'New York',\n",
       "       'North Carolina', 'North Dakota', 'Northern Mariana Islands',\n",
       "       'Ohio', 'Oklahoma', 'Oregon', 'Pennsylvania', 'Puerto Rico',\n",
       "       'Rhode Island', 'South Carolina', 'South Dakota', 'Tennessee',\n",
       "       'Texas', 'Utah', 'Vermont', 'Virgin Islands', 'Virginia',\n",
       "       'Washington', 'West Virginia', 'Wisconsin', 'Wyoming'],\n",
       "      dtype=object)"
      ]
     },
     "execution_count": 8,
     "metadata": {},
     "output_type": "execute_result"
    }
   ],
   "source": [
    "df['state'].unique()"
   ]
  },
  {
   "cell_type": "code",
   "execution_count": 9,
   "id": "5d059c19-c413-4820-85a8-18632ef73b7f",
   "metadata": {
    "colab": {
     "base_uri": "https://localhost:8080/",
     "height": 424
    },
    "executionInfo": {
     "elapsed": 46114,
     "status": "ok",
     "timestamp": 1619509200360,
     "user": {
      "displayName": "Sitiporn Saelim",
      "photoUrl": "",
      "userId": "04392232392828254116"
     },
     "user_tz": -420
    },
    "id": "5d059c19-c413-4820-85a8-18632ef73b7f",
    "outputId": "8d30ea18-e07a-4bf3-b20c-edb24c321d1b"
   },
   "outputs": [
    {
     "data": {
      "text/html": [
       "<div>\n",
       "<style scoped>\n",
       "    .dataframe tbody tr th:only-of-type {\n",
       "        vertical-align: middle;\n",
       "    }\n",
       "\n",
       "    .dataframe tbody tr th {\n",
       "        vertical-align: top;\n",
       "    }\n",
       "\n",
       "    .dataframe thead th {\n",
       "        text-align: right;\n",
       "    }\n",
       "</style>\n",
       "<table border=\"1\" class=\"dataframe\">\n",
       "  <thead>\n",
       "    <tr style=\"text-align: right;\">\n",
       "      <th></th>\n",
       "      <th>date</th>\n",
       "      <th>state</th>\n",
       "      <th>fips</th>\n",
       "      <th>daily_cases</th>\n",
       "      <th>daily_deaths</th>\n",
       "      <th>daily_distributed</th>\n",
       "      <th>daily_people_vaccinated</th>\n",
       "      <th>daily_people_fully_vaccinated</th>\n",
       "      <th>daily_vaccinations</th>\n",
       "      <th>mobility_composite</th>\n",
       "    </tr>\n",
       "  </thead>\n",
       "  <tbody>\n",
       "    <tr>\n",
       "      <th>19484</th>\n",
       "      <td>2020-01-21</td>\n",
       "      <td>Washington</td>\n",
       "      <td>53</td>\n",
       "      <td>1</td>\n",
       "      <td>0</td>\n",
       "      <td>NaN</td>\n",
       "      <td>NaN</td>\n",
       "      <td>NaN</td>\n",
       "      <td>NaN</td>\n",
       "      <td>NaN</td>\n",
       "    </tr>\n",
       "    <tr>\n",
       "      <th>19483</th>\n",
       "      <td>2020-01-22</td>\n",
       "      <td>Washington</td>\n",
       "      <td>53</td>\n",
       "      <td>0</td>\n",
       "      <td>0</td>\n",
       "      <td>NaN</td>\n",
       "      <td>NaN</td>\n",
       "      <td>NaN</td>\n",
       "      <td>NaN</td>\n",
       "      <td>NaN</td>\n",
       "    </tr>\n",
       "    <tr>\n",
       "      <th>19482</th>\n",
       "      <td>2020-01-23</td>\n",
       "      <td>Washington</td>\n",
       "      <td>53</td>\n",
       "      <td>0</td>\n",
       "      <td>0</td>\n",
       "      <td>NaN</td>\n",
       "      <td>NaN</td>\n",
       "      <td>NaN</td>\n",
       "      <td>NaN</td>\n",
       "      <td>NaN</td>\n",
       "    </tr>\n",
       "    <tr>\n",
       "      <th>5684</th>\n",
       "      <td>2020-01-24</td>\n",
       "      <td>Illinois</td>\n",
       "      <td>17</td>\n",
       "      <td>1</td>\n",
       "      <td>0</td>\n",
       "      <td>NaN</td>\n",
       "      <td>NaN</td>\n",
       "      <td>NaN</td>\n",
       "      <td>NaN</td>\n",
       "      <td>NaN</td>\n",
       "    </tr>\n",
       "    <tr>\n",
       "      <th>19481</th>\n",
       "      <td>2020-01-24</td>\n",
       "      <td>Washington</td>\n",
       "      <td>53</td>\n",
       "      <td>0</td>\n",
       "      <td>0</td>\n",
       "      <td>NaN</td>\n",
       "      <td>NaN</td>\n",
       "      <td>NaN</td>\n",
       "      <td>NaN</td>\n",
       "      <td>NaN</td>\n",
       "    </tr>\n",
       "    <tr>\n",
       "      <th>...</th>\n",
       "      <td>...</td>\n",
       "      <td>...</td>\n",
       "      <td>...</td>\n",
       "      <td>...</td>\n",
       "      <td>...</td>\n",
       "      <td>...</td>\n",
       "      <td>...</td>\n",
       "      <td>...</td>\n",
       "      <td>...</td>\n",
       "      <td>...</td>\n",
       "    </tr>\n",
       "    <tr>\n",
       "      <th>20250</th>\n",
       "      <td>2021-03-13</td>\n",
       "      <td>Wyoming</td>\n",
       "      <td>56</td>\n",
       "      <td>0</td>\n",
       "      <td>0</td>\n",
       "      <td>0.0</td>\n",
       "      <td>4086.0</td>\n",
       "      <td>2945.0</td>\n",
       "      <td>4,085</td>\n",
       "      <td>0.000000</td>\n",
       "    </tr>\n",
       "    <tr>\n",
       "      <th>4168</th>\n",
       "      <td>2021-03-13</td>\n",
       "      <td>Guam</td>\n",
       "      <td>66</td>\n",
       "      <td>1</td>\n",
       "      <td>0</td>\n",
       "      <td>0.0</td>\n",
       "      <td>226.0</td>\n",
       "      <td>1440.0</td>\n",
       "      <td>1,272</td>\n",
       "      <td>-5.361115</td>\n",
       "    </tr>\n",
       "    <tr>\n",
       "      <th>13475</th>\n",
       "      <td>2021-03-13</td>\n",
       "      <td>Northern Mariana Islands</td>\n",
       "      <td>69</td>\n",
       "      <td>1</td>\n",
       "      <td>0</td>\n",
       "      <td>0.0</td>\n",
       "      <td>230.0</td>\n",
       "      <td>163.0</td>\n",
       "      <td>246</td>\n",
       "      <td>NaN</td>\n",
       "    </tr>\n",
       "    <tr>\n",
       "      <th>15319</th>\n",
       "      <td>2021-03-13</td>\n",
       "      <td>Puerto Rico</td>\n",
       "      <td>72</td>\n",
       "      <td>235</td>\n",
       "      <td>0</td>\n",
       "      <td>19550.0</td>\n",
       "      <td>32455.0</td>\n",
       "      <td>20400.0</td>\n",
       "      <td>19,615</td>\n",
       "      <td>0.000000</td>\n",
       "    </tr>\n",
       "    <tr>\n",
       "      <th>18330</th>\n",
       "      <td>2021-03-13</td>\n",
       "      <td>Virgin Islands</td>\n",
       "      <td>78</td>\n",
       "      <td>0</td>\n",
       "      <td>0</td>\n",
       "      <td>NaN</td>\n",
       "      <td>NaN</td>\n",
       "      <td>NaN</td>\n",
       "      <td>NaN</td>\n",
       "      <td>NaN</td>\n",
       "    </tr>\n",
       "  </tbody>\n",
       "</table>\n",
       "<p>20618 rows × 10 columns</p>\n",
       "</div>"
      ],
      "text/plain": [
       "            date                     state  fips  daily_cases  daily_deaths  \\\n",
       "19484 2020-01-21                Washington    53            1             0   \n",
       "19483 2020-01-22                Washington    53            0             0   \n",
       "19482 2020-01-23                Washington    53            0             0   \n",
       "5684  2020-01-24                  Illinois    17            1             0   \n",
       "19481 2020-01-24                Washington    53            0             0   \n",
       "...          ...                       ...   ...          ...           ...   \n",
       "20250 2021-03-13                   Wyoming    56            0             0   \n",
       "4168  2021-03-13                      Guam    66            1             0   \n",
       "13475 2021-03-13  Northern Mariana Islands    69            1             0   \n",
       "15319 2021-03-13               Puerto Rico    72          235             0   \n",
       "18330 2021-03-13            Virgin Islands    78            0             0   \n",
       "\n",
       "       daily_distributed  daily_people_vaccinated  \\\n",
       "19484                NaN                      NaN   \n",
       "19483                NaN                      NaN   \n",
       "19482                NaN                      NaN   \n",
       "5684                 NaN                      NaN   \n",
       "19481                NaN                      NaN   \n",
       "...                  ...                      ...   \n",
       "20250                0.0                   4086.0   \n",
       "4168                 0.0                    226.0   \n",
       "13475                0.0                    230.0   \n",
       "15319            19550.0                  32455.0   \n",
       "18330                NaN                      NaN   \n",
       "\n",
       "       daily_people_fully_vaccinated daily_vaccinations  mobility_composite  \n",
       "19484                            NaN                NaN                 NaN  \n",
       "19483                            NaN                NaN                 NaN  \n",
       "19482                            NaN                NaN                 NaN  \n",
       "5684                             NaN                NaN                 NaN  \n",
       "19481                            NaN                NaN                 NaN  \n",
       "...                              ...                ...                 ...  \n",
       "20250                         2945.0              4,085            0.000000  \n",
       "4168                          1440.0              1,272           -5.361115  \n",
       "13475                          163.0                246                 NaN  \n",
       "15319                        20400.0             19,615            0.000000  \n",
       "18330                            NaN                NaN                 NaN  \n",
       "\n",
       "[20618 rows x 10 columns]"
      ]
     },
     "execution_count": 9,
     "metadata": {},
     "output_type": "execute_result"
    }
   ],
   "source": [
    "# Set date to be datetime format and sort by date and fips\n",
    "df['date'] = pd.to_datetime(df.date)\n",
    "df = df.sort_values(by=['date', 'fips'], axis=0, ascending=True)\n",
    "df"
   ]
  },
  {
   "cell_type": "code",
   "execution_count": 10,
   "id": "a6675f3e-4cdc-4c46-80ab-f222d50a4f86",
   "metadata": {
    "colab": {
     "base_uri": "https://localhost:8080/",
     "height": 455
    },
    "executionInfo": {
     "elapsed": 46105,
     "status": "ok",
     "timestamp": 1619509200361,
     "user": {
      "displayName": "Sitiporn Saelim",
      "photoUrl": "",
      "userId": "04392232392828254116"
     },
     "user_tz": -420
    },
    "id": "a6675f3e-4cdc-4c46-80ab-f222d50a4f86",
    "outputId": "072e1c55-bd87-4a72-9cda-f177430f51e4"
   },
   "outputs": [
    {
     "data": {
      "text/html": [
       "<div>\n",
       "<style scoped>\n",
       "    .dataframe tbody tr th:only-of-type {\n",
       "        vertical-align: middle;\n",
       "    }\n",
       "\n",
       "    .dataframe tbody tr th {\n",
       "        vertical-align: top;\n",
       "    }\n",
       "\n",
       "    .dataframe thead th {\n",
       "        text-align: right;\n",
       "    }\n",
       "</style>\n",
       "<table border=\"1\" class=\"dataframe\">\n",
       "  <thead>\n",
       "    <tr style=\"text-align: right;\">\n",
       "      <th></th>\n",
       "      <th>state</th>\n",
       "      <th>fips</th>\n",
       "      <th>daily_cases</th>\n",
       "      <th>daily_deaths</th>\n",
       "      <th>daily_distributed</th>\n",
       "      <th>daily_people_vaccinated</th>\n",
       "      <th>daily_people_fully_vaccinated</th>\n",
       "      <th>daily_vaccinations</th>\n",
       "      <th>mobility_composite</th>\n",
       "    </tr>\n",
       "    <tr>\n",
       "      <th>date</th>\n",
       "      <th></th>\n",
       "      <th></th>\n",
       "      <th></th>\n",
       "      <th></th>\n",
       "      <th></th>\n",
       "      <th></th>\n",
       "      <th></th>\n",
       "      <th></th>\n",
       "      <th></th>\n",
       "    </tr>\n",
       "  </thead>\n",
       "  <tbody>\n",
       "    <tr>\n",
       "      <th>2020-01-25</th>\n",
       "      <td>California</td>\n",
       "      <td>6</td>\n",
       "      <td>1</td>\n",
       "      <td>0</td>\n",
       "      <td>NaN</td>\n",
       "      <td>NaN</td>\n",
       "      <td>NaN</td>\n",
       "      <td>NaN</td>\n",
       "      <td>NaN</td>\n",
       "    </tr>\n",
       "    <tr>\n",
       "      <th>2020-01-26</th>\n",
       "      <td>California</td>\n",
       "      <td>6</td>\n",
       "      <td>1</td>\n",
       "      <td>0</td>\n",
       "      <td>NaN</td>\n",
       "      <td>NaN</td>\n",
       "      <td>NaN</td>\n",
       "      <td>NaN</td>\n",
       "      <td>NaN</td>\n",
       "    </tr>\n",
       "    <tr>\n",
       "      <th>2020-01-27</th>\n",
       "      <td>California</td>\n",
       "      <td>6</td>\n",
       "      <td>0</td>\n",
       "      <td>0</td>\n",
       "      <td>NaN</td>\n",
       "      <td>NaN</td>\n",
       "      <td>NaN</td>\n",
       "      <td>NaN</td>\n",
       "      <td>NaN</td>\n",
       "    </tr>\n",
       "    <tr>\n",
       "      <th>2020-01-28</th>\n",
       "      <td>California</td>\n",
       "      <td>6</td>\n",
       "      <td>0</td>\n",
       "      <td>0</td>\n",
       "      <td>NaN</td>\n",
       "      <td>NaN</td>\n",
       "      <td>NaN</td>\n",
       "      <td>NaN</td>\n",
       "      <td>NaN</td>\n",
       "    </tr>\n",
       "    <tr>\n",
       "      <th>2020-01-29</th>\n",
       "      <td>California</td>\n",
       "      <td>6</td>\n",
       "      <td>0</td>\n",
       "      <td>0</td>\n",
       "      <td>NaN</td>\n",
       "      <td>NaN</td>\n",
       "      <td>NaN</td>\n",
       "      <td>NaN</td>\n",
       "      <td>NaN</td>\n",
       "    </tr>\n",
       "    <tr>\n",
       "      <th>...</th>\n",
       "      <td>...</td>\n",
       "      <td>...</td>\n",
       "      <td>...</td>\n",
       "      <td>...</td>\n",
       "      <td>...</td>\n",
       "      <td>...</td>\n",
       "      <td>...</td>\n",
       "      <td>...</td>\n",
       "      <td>...</td>\n",
       "    </tr>\n",
       "    <tr>\n",
       "      <th>2021-03-09</th>\n",
       "      <td>California</td>\n",
       "      <td>6</td>\n",
       "      <td>4131</td>\n",
       "      <td>243</td>\n",
       "      <td>1162100.0</td>\n",
       "      <td>82138.0</td>\n",
       "      <td>37820.0</td>\n",
       "      <td>204,065</td>\n",
       "      <td>-32.197826</td>\n",
       "    </tr>\n",
       "    <tr>\n",
       "      <th>2021-03-10</th>\n",
       "      <td>California</td>\n",
       "      <td>6</td>\n",
       "      <td>3464</td>\n",
       "      <td>257</td>\n",
       "      <td>254140.0</td>\n",
       "      <td>96767.0</td>\n",
       "      <td>40388.0</td>\n",
       "      <td>190,191</td>\n",
       "      <td>-32.197826</td>\n",
       "    </tr>\n",
       "    <tr>\n",
       "      <th>2021-03-11</th>\n",
       "      <td>California</td>\n",
       "      <td>6</td>\n",
       "      <td>3560</td>\n",
       "      <td>255</td>\n",
       "      <td>424380.0</td>\n",
       "      <td>103215.0</td>\n",
       "      <td>56316.0</td>\n",
       "      <td>194,328</td>\n",
       "      <td>-32.197826</td>\n",
       "    </tr>\n",
       "    <tr>\n",
       "      <th>2021-03-12</th>\n",
       "      <td>California</td>\n",
       "      <td>6</td>\n",
       "      <td>2304</td>\n",
       "      <td>204</td>\n",
       "      <td>331560.0</td>\n",
       "      <td>138703.0</td>\n",
       "      <td>73249.0</td>\n",
       "      <td>193,794</td>\n",
       "      <td>-32.197826</td>\n",
       "    </tr>\n",
       "    <tr>\n",
       "      <th>2021-03-13</th>\n",
       "      <td>California</td>\n",
       "      <td>6</td>\n",
       "      <td>3741</td>\n",
       "      <td>1013</td>\n",
       "      <td>318720.0</td>\n",
       "      <td>286615.0</td>\n",
       "      <td>204447.0</td>\n",
       "      <td>209,548</td>\n",
       "      <td>-32.197826</td>\n",
       "    </tr>\n",
       "  </tbody>\n",
       "</table>\n",
       "<p>414 rows × 9 columns</p>\n",
       "</div>"
      ],
      "text/plain": [
       "                 state  fips  daily_cases  daily_deaths  daily_distributed  \\\n",
       "date                                                                         \n",
       "2020-01-25  California     6            1             0                NaN   \n",
       "2020-01-26  California     6            1             0                NaN   \n",
       "2020-01-27  California     6            0             0                NaN   \n",
       "2020-01-28  California     6            0             0                NaN   \n",
       "2020-01-29  California     6            0             0                NaN   \n",
       "...                ...   ...          ...           ...                ...   \n",
       "2021-03-09  California     6         4131           243          1162100.0   \n",
       "2021-03-10  California     6         3464           257           254140.0   \n",
       "2021-03-11  California     6         3560           255           424380.0   \n",
       "2021-03-12  California     6         2304           204           331560.0   \n",
       "2021-03-13  California     6         3741          1013           318720.0   \n",
       "\n",
       "            daily_people_vaccinated  daily_people_fully_vaccinated  \\\n",
       "date                                                                 \n",
       "2020-01-25                      NaN                            NaN   \n",
       "2020-01-26                      NaN                            NaN   \n",
       "2020-01-27                      NaN                            NaN   \n",
       "2020-01-28                      NaN                            NaN   \n",
       "2020-01-29                      NaN                            NaN   \n",
       "...                             ...                            ...   \n",
       "2021-03-09                  82138.0                        37820.0   \n",
       "2021-03-10                  96767.0                        40388.0   \n",
       "2021-03-11                 103215.0                        56316.0   \n",
       "2021-03-12                 138703.0                        73249.0   \n",
       "2021-03-13                 286615.0                       204447.0   \n",
       "\n",
       "           daily_vaccinations  mobility_composite  \n",
       "date                                               \n",
       "2020-01-25                NaN                 NaN  \n",
       "2020-01-26                NaN                 NaN  \n",
       "2020-01-27                NaN                 NaN  \n",
       "2020-01-28                NaN                 NaN  \n",
       "2020-01-29                NaN                 NaN  \n",
       "...                       ...                 ...  \n",
       "2021-03-09            204,065          -32.197826  \n",
       "2021-03-10            190,191          -32.197826  \n",
       "2021-03-11            194,328          -32.197826  \n",
       "2021-03-12            193,794          -32.197826  \n",
       "2021-03-13            209,548          -32.197826  \n",
       "\n",
       "[414 rows x 9 columns]"
      ]
     },
     "execution_count": 10,
     "metadata": {},
     "output_type": "execute_result"
    }
   ],
   "source": [
    "df_clean = df[df.state == STATE]\n",
    "df_clean = df_clean.set_index('date')\n",
    "df_clean"
   ]
  },
  {
   "cell_type": "code",
   "execution_count": 11,
   "id": "a8eccf57-7c24-4496-b2fa-2af17ebf8f28",
   "metadata": {
    "colab": {
     "base_uri": "https://localhost:8080/"
    },
    "executionInfo": {
     "elapsed": 46101,
     "status": "ok",
     "timestamp": 1619509200363,
     "user": {
      "displayName": "Sitiporn Saelim",
      "photoUrl": "",
      "userId": "04392232392828254116"
     },
     "user_tz": -420
    },
    "id": "a8eccf57-7c24-4496-b2fa-2af17ebf8f28",
    "outputId": "7fa3dcff-6ae6-423b-eab1-542e1e601795"
   },
   "outputs": [
    {
     "data": {
      "text/plain": [
       "(378, 1)"
      ]
     },
     "execution_count": 11,
     "metadata": {},
     "output_type": "execute_result"
    }
   ],
   "source": [
    "rmlabels=['state', 'fips', 'daily_deaths', 'daily_distributed','daily_people_vaccinated', 'daily_people_fully_vaccinated',\n",
    "          'daily_vaccinations', 'mobility_composite']\n",
    "df_clean = df_clean.drop(labels=rmlabels, axis=1)\n",
    "df_clean = df_clean.iloc[df_clean.shape[0]-378:]\n",
    "df_clean.shape"
   ]
  },
  {
   "cell_type": "code",
   "execution_count": 12,
   "id": "c201a119-d9fa-4518-abef-46b721091fb8",
   "metadata": {
    "colab": {
     "base_uri": "https://localhost:8080/",
     "height": 324
    },
    "executionInfo": {
     "elapsed": 46924,
     "status": "ok",
     "timestamp": 1619509201196,
     "user": {
      "displayName": "Sitiporn Saelim",
      "photoUrl": "",
      "userId": "04392232392828254116"
     },
     "user_tz": -420
    },
    "id": "c201a119-d9fa-4518-abef-46b721091fb8",
    "outputId": "9e0a18be-bc92-49d7-8de0-384963febafe"
   },
   "outputs": [
    {
     "data": {
      "text/plain": [
       "<matplotlib.axes._subplots.AxesSubplot at 0x7fac5c805ef0>"
      ]
     },
     "execution_count": 12,
     "metadata": {},
     "output_type": "execute_result"
    },
    {
     "data": {
      "image/png": "[encoded data removed]",
      "text/plain": [
       "<matplotlib.figure.Figure at 0x7fac5c805550>"
      ]
     },
     "metadata": {
      "needs_background": "light"
     },
     "output_type": "display_data"
    }
   ],
   "source": [
    "df_clean.plot(title=f\"Daily cases :{STATE}\")"
   ]
  },
  {
   "cell_type": "code",
   "execution_count": 13,
   "id": "23c4f150-3637-4570-adb3-6b5f40617af6",
   "metadata": {
    "colab": {
     "base_uri": "https://localhost:8080/",
     "height": 206
    },
    "executionInfo": {
     "elapsed": 46917,
     "status": "ok",
     "timestamp": 1619509201196,
     "user": {
      "displayName": "Sitiporn Saelim",
      "photoUrl": "",
      "userId": "04392232392828254116"
     },
     "user_tz": -420
    },
    "id": "23c4f150-3637-4570-adb3-6b5f40617af6",
    "outputId": "8358c33b-8cd9-4df1-f937-d9ad57e69578"
   },
   "outputs": [
    {
     "data": {
      "text/html": [
       "<div>\n",
       "<style scoped>\n",
       "    .dataframe tbody tr th:only-of-type {\n",
       "        vertical-align: middle;\n",
       "    }\n",
       "\n",
       "    .dataframe tbody tr th {\n",
       "        vertical-align: top;\n",
       "    }\n",
       "\n",
       "    .dataframe thead th {\n",
       "        text-align: right;\n",
       "    }\n",
       "</style>\n",
       "<table border=\"1\" class=\"dataframe\">\n",
       "  <thead>\n",
       "    <tr style=\"text-align: right;\">\n",
       "      <th></th>\n",
       "      <th>date</th>\n",
       "      <th>state</th>\n",
       "      <th>fips</th>\n",
       "      <th>daily_cases</th>\n",
       "      <th>daily_deaths</th>\n",
       "      <th>daily_distributed</th>\n",
       "      <th>daily_people_vaccinated</th>\n",
       "      <th>daily_people_fully_vaccinated</th>\n",
       "      <th>daily_vaccinations</th>\n",
       "      <th>mobility_composite</th>\n",
       "    </tr>\n",
       "  </thead>\n",
       "  <tbody>\n",
       "    <tr>\n",
       "      <th>19484</th>\n",
       "      <td>2020-01-21</td>\n",
       "      <td>Washington</td>\n",
       "      <td>53</td>\n",
       "      <td>1</td>\n",
       "      <td>0</td>\n",
       "      <td>NaN</td>\n",
       "      <td>NaN</td>\n",
       "      <td>NaN</td>\n",
       "      <td>NaN</td>\n",
       "      <td>NaN</td>\n",
       "    </tr>\n",
       "    <tr>\n",
       "      <th>19483</th>\n",
       "      <td>2020-01-22</td>\n",
       "      <td>Washington</td>\n",
       "      <td>53</td>\n",
       "      <td>0</td>\n",
       "      <td>0</td>\n",
       "      <td>NaN</td>\n",
       "      <td>NaN</td>\n",
       "      <td>NaN</td>\n",
       "      <td>NaN</td>\n",
       "      <td>NaN</td>\n",
       "    </tr>\n",
       "    <tr>\n",
       "      <th>19482</th>\n",
       "      <td>2020-01-23</td>\n",
       "      <td>Washington</td>\n",
       "      <td>53</td>\n",
       "      <td>0</td>\n",
       "      <td>0</td>\n",
       "      <td>NaN</td>\n",
       "      <td>NaN</td>\n",
       "      <td>NaN</td>\n",
       "      <td>NaN</td>\n",
       "      <td>NaN</td>\n",
       "    </tr>\n",
       "    <tr>\n",
       "      <th>5684</th>\n",
       "      <td>2020-01-24</td>\n",
       "      <td>Illinois</td>\n",
       "      <td>17</td>\n",
       "      <td>1</td>\n",
       "      <td>0</td>\n",
       "      <td>NaN</td>\n",
       "      <td>NaN</td>\n",
       "      <td>NaN</td>\n",
       "      <td>NaN</td>\n",
       "      <td>NaN</td>\n",
       "    </tr>\n",
       "    <tr>\n",
       "      <th>19481</th>\n",
       "      <td>2020-01-24</td>\n",
       "      <td>Washington</td>\n",
       "      <td>53</td>\n",
       "      <td>0</td>\n",
       "      <td>0</td>\n",
       "      <td>NaN</td>\n",
       "      <td>NaN</td>\n",
       "      <td>NaN</td>\n",
       "      <td>NaN</td>\n",
       "      <td>NaN</td>\n",
       "    </tr>\n",
       "  </tbody>\n",
       "</table>\n",
       "</div>"
      ],
      "text/plain": [
       "            date       state  fips  daily_cases  daily_deaths  \\\n",
       "19484 2020-01-21  Washington    53            1             0   \n",
       "19483 2020-01-22  Washington    53            0             0   \n",
       "19482 2020-01-23  Washington    53            0             0   \n",
       "5684  2020-01-24    Illinois    17            1             0   \n",
       "19481 2020-01-24  Washington    53            0             0   \n",
       "\n",
       "       daily_distributed  daily_people_vaccinated  \\\n",
       "19484                NaN                      NaN   \n",
       "19483                NaN                      NaN   \n",
       "19482                NaN                      NaN   \n",
       "5684                 NaN                      NaN   \n",
       "19481                NaN                      NaN   \n",
       "\n",
       "       daily_people_fully_vaccinated daily_vaccinations  mobility_composite  \n",
       "19484                            NaN                NaN                 NaN  \n",
       "19483                            NaN                NaN                 NaN  \n",
       "19482                            NaN                NaN                 NaN  \n",
       "5684                             NaN                NaN                 NaN  \n",
       "19481                            NaN                NaN                 NaN  "
      ]
     },
     "execution_count": 13,
     "metadata": {},
     "output_type": "execute_result"
    }
   ],
   "source": [
    "df.head()"
   ]
  },
  {
   "cell_type": "code",
   "execution_count": 14,
   "id": "e8f7a48d-81a7-4b17-aedb-5923ffcbe32f",
   "metadata": {
    "executionInfo": {
     "elapsed": 46916,
     "status": "ok",
     "timestamp": 1619509201197,
     "user": {
      "displayName": "Sitiporn Saelim",
      "photoUrl": "",
      "userId": "04392232392828254116"
     },
     "user_tz": -420
    },
    "id": "e8f7a48d-81a7-4b17-aedb-5923ffcbe32f"
   },
   "outputs": [],
   "source": [
    "df_state = df[df.state == STATE]"
   ]
  },
  {
   "cell_type": "code",
   "execution_count": 15,
   "id": "db9e99af-23dc-4e4e-a124-92d83a36d885",
   "metadata": {
    "colab": {
     "base_uri": "https://localhost:8080/",
     "height": 408
    },
    "executionInfo": {
     "elapsed": 47772,
     "status": "ok",
     "timestamp": 1619509202061,
     "user": {
      "displayName": "Sitiporn Saelim",
      "photoUrl": "",
      "userId": "04392232392828254116"
     },
     "user_tz": -420
    },
    "id": "db9e99af-23dc-4e4e-a124-92d83a36d885",
    "outputId": "0ba43519-6419-485a-f90b-ea123d762d7d"
   },
   "outputs": [
    {
     "data": {
      "image/png": "[encoded data removed]",
      "text/plain": [
       "<matplotlib.figure.Figure at 0x7fac5c5233c8>"
      ]
     },
     "metadata": {
      "needs_background": "light"
     },
     "output_type": "display_data"
    }
   ],
   "source": [
    "import pandas as pd\n",
    "import seaborn as sn\n",
    "import matplotlib.pyplot as plt\n",
    "\n",
    "corrMatrix = df_state.corr()\n",
    "sn.heatmap(corrMatrix, annot=True)\n",
    "plt.show()"
   ]
  },
  {
   "cell_type": "markdown",
   "id": "6662892c-7d17-4a48-a17c-83731bd9759e",
   "metadata": {
    "id": "6662892c-7d17-4a48-a17c-83731bd9759e"
   },
   "source": [
    "### select the high correlation to be our factors"
   ]
  },
  {
   "cell_type": "markdown",
   "id": "a276e2d6-9e04-4b58-955b-a4631b50d829",
   "metadata": {
    "id": "a276e2d6-9e04-4b58-955b-a4631b50d829"
   },
   "source": [
    "- daily death\n",
    "- daily people vacinated \n",
    "- daily_distibuted  \n",
    "- daily case "
   ]
  },
  {
   "cell_type": "code",
   "execution_count": 16,
   "id": "d6229abd-17d0-4e2b-b303-f4e2044f5079",
   "metadata": {
    "colab": {
     "base_uri": "https://localhost:8080/"
    },
    "executionInfo": {
     "elapsed": 47768,
     "status": "ok",
     "timestamp": 1619509202062,
     "user": {
      "displayName": "Sitiporn Saelim",
      "photoUrl": "",
      "userId": "04392232392828254116"
     },
     "user_tz": -420
    },
    "id": "d6229abd-17d0-4e2b-b303-f4e2044f5079",
    "outputId": "7c9c1a5f-eb10-40df-ba25-ae5f3f2cfc59"
   },
   "outputs": [
    {
     "data": {
      "text/plain": [
       "Index(['date', 'state', 'fips', 'daily_cases', 'daily_deaths',\n",
       "       'daily_distributed', 'daily_people_vaccinated',\n",
       "       'daily_people_fully_vaccinated', 'daily_vaccinations',\n",
       "       'mobility_composite'],\n",
       "      dtype='object')"
      ]
     },
     "execution_count": 16,
     "metadata": {},
     "output_type": "execute_result"
    }
   ],
   "source": [
    "df_state.columns"
   ]
  },
  {
   "cell_type": "code",
   "execution_count": 17,
   "id": "39b13fd3-a58b-476e-9bdd-65c1f96f8311",
   "metadata": {
    "executionInfo": {
     "elapsed": 47765,
     "status": "ok",
     "timestamp": 1619509202062,
     "user": {
      "displayName": "Sitiporn Saelim",
      "photoUrl": "",
      "userId": "04392232392828254116"
     },
     "user_tz": -420
    },
    "id": "39b13fd3-a58b-476e-9bdd-65c1f96f8311"
   },
   "outputs": [],
   "source": [
    "df_state = df_state.set_index('date') "
   ]
  },
  {
   "cell_type": "code",
   "execution_count": 18,
   "id": "598184b0-4082-404b-9b4d-3729f6297e39",
   "metadata": {
    "colab": {
     "base_uri": "https://localhost:8080/",
     "height": 0
    },
    "executionInfo": {
     "elapsed": 47758,
     "status": "ok",
     "timestamp": 1619509202063,
     "user": {
      "displayName": "Sitiporn Saelim",
      "photoUrl": "",
      "userId": "04392232392828254116"
     },
     "user_tz": -420
    },
    "id": "598184b0-4082-404b-9b4d-3729f6297e39",
    "outputId": "7255bf5b-fbb9-416f-bea6-b833636a8c77"
   },
   "outputs": [
    {
     "data": {
      "text/html": [
       "<div>\n",
       "<style scoped>\n",
       "    .dataframe tbody tr th:only-of-type {\n",
       "        vertical-align: middle;\n",
       "    }\n",
       "\n",
       "    .dataframe tbody tr th {\n",
       "        vertical-align: top;\n",
       "    }\n",
       "\n",
       "    .dataframe thead th {\n",
       "        text-align: right;\n",
       "    }\n",
       "</style>\n",
       "<table border=\"1\" class=\"dataframe\">\n",
       "  <thead>\n",
       "    <tr style=\"text-align: right;\">\n",
       "      <th></th>\n",
       "      <th>state</th>\n",
       "      <th>fips</th>\n",
       "      <th>daily_cases</th>\n",
       "      <th>daily_deaths</th>\n",
       "      <th>daily_distributed</th>\n",
       "      <th>daily_people_vaccinated</th>\n",
       "      <th>daily_people_fully_vaccinated</th>\n",
       "      <th>daily_vaccinations</th>\n",
       "      <th>mobility_composite</th>\n",
       "    </tr>\n",
       "    <tr>\n",
       "      <th>date</th>\n",
       "      <th></th>\n",
       "      <th></th>\n",
       "      <th></th>\n",
       "      <th></th>\n",
       "      <th></th>\n",
       "      <th></th>\n",
       "      <th></th>\n",
       "      <th></th>\n",
       "      <th></th>\n",
       "    </tr>\n",
       "  </thead>\n",
       "  <tbody>\n",
       "    <tr>\n",
       "      <th>2020-01-25</th>\n",
       "      <td>California</td>\n",
       "      <td>6</td>\n",
       "      <td>1</td>\n",
       "      <td>0</td>\n",
       "      <td>NaN</td>\n",
       "      <td>NaN</td>\n",
       "      <td>NaN</td>\n",
       "      <td>NaN</td>\n",
       "      <td>NaN</td>\n",
       "    </tr>\n",
       "    <tr>\n",
       "      <th>2020-01-26</th>\n",
       "      <td>California</td>\n",
       "      <td>6</td>\n",
       "      <td>1</td>\n",
       "      <td>0</td>\n",
       "      <td>NaN</td>\n",
       "      <td>NaN</td>\n",
       "      <td>NaN</td>\n",
       "      <td>NaN</td>\n",
       "      <td>NaN</td>\n",
       "    </tr>\n",
       "    <tr>\n",
       "      <th>2020-01-27</th>\n",
       "      <td>California</td>\n",
       "      <td>6</td>\n",
       "      <td>0</td>\n",
       "      <td>0</td>\n",
       "      <td>NaN</td>\n",
       "      <td>NaN</td>\n",
       "      <td>NaN</td>\n",
       "      <td>NaN</td>\n",
       "      <td>NaN</td>\n",
       "    </tr>\n",
       "    <tr>\n",
       "      <th>2020-01-28</th>\n",
       "      <td>California</td>\n",
       "      <td>6</td>\n",
       "      <td>0</td>\n",
       "      <td>0</td>\n",
       "      <td>NaN</td>\n",
       "      <td>NaN</td>\n",
       "      <td>NaN</td>\n",
       "      <td>NaN</td>\n",
       "      <td>NaN</td>\n",
       "    </tr>\n",
       "    <tr>\n",
       "      <th>2020-01-29</th>\n",
       "      <td>California</td>\n",
       "      <td>6</td>\n",
       "      <td>0</td>\n",
       "      <td>0</td>\n",
       "      <td>NaN</td>\n",
       "      <td>NaN</td>\n",
       "      <td>NaN</td>\n",
       "      <td>NaN</td>\n",
       "      <td>NaN</td>\n",
       "    </tr>\n",
       "  </tbody>\n",
       "</table>\n",
       "</div>"
      ],
      "text/plain": [
       "                 state  fips  daily_cases  daily_deaths  daily_distributed  \\\n",
       "date                                                                         \n",
       "2020-01-25  California     6            1             0                NaN   \n",
       "2020-01-26  California     6            1             0                NaN   \n",
       "2020-01-27  California     6            0             0                NaN   \n",
       "2020-01-28  California     6            0             0                NaN   \n",
       "2020-01-29  California     6            0             0                NaN   \n",
       "\n",
       "            daily_people_vaccinated  daily_people_fully_vaccinated  \\\n",
       "date                                                                 \n",
       "2020-01-25                      NaN                            NaN   \n",
       "2020-01-26                      NaN                            NaN   \n",
       "2020-01-27                      NaN                            NaN   \n",
       "2020-01-28                      NaN                            NaN   \n",
       "2020-01-29                      NaN                            NaN   \n",
       "\n",
       "           daily_vaccinations  mobility_composite  \n",
       "date                                               \n",
       "2020-01-25                NaN                 NaN  \n",
       "2020-01-26                NaN                 NaN  \n",
       "2020-01-27                NaN                 NaN  \n",
       "2020-01-28                NaN                 NaN  \n",
       "2020-01-29                NaN                 NaN  "
      ]
     },
     "execution_count": 18,
     "metadata": {},
     "output_type": "execute_result"
    }
   ],
   "source": [
    "df_state.head()"
   ]
  },
  {
   "cell_type": "code",
   "execution_count": 19,
   "id": "2bd8ef7b-99ba-4c1f-8c67-df4bf7ead2b7",
   "metadata": {
    "executionInfo": {
     "elapsed": 47757,
     "status": "ok",
     "timestamp": 1619509202063,
     "user": {
      "displayName": "Sitiporn Saelim",
      "photoUrl": "",
      "userId": "04392232392828254116"
     },
     "user_tz": -420
    },
    "id": "2bd8ef7b-99ba-4c1f-8c67-df4bf7ead2b7"
   },
   "outputs": [],
   "source": [
    "df_state = df_state.drop(['state', 'fips',\n",
    "       'daily_people_vaccinated',\n",
    "       'daily_people_fully_vaccinated',\n",
    "       'mobility_composite'], axis=1)"
   ]
  },
  {
   "cell_type": "code",
   "execution_count": 20,
   "id": "8f2c8249-9da1-4cf9-b176-b70aa3610b4f",
   "metadata": {
    "colab": {
     "base_uri": "https://localhost:8080/"
    },
    "executionInfo": {
     "elapsed": 47752,
     "status": "ok",
     "timestamp": 1619509202064,
     "user": {
      "displayName": "Sitiporn Saelim",
      "photoUrl": "",
      "userId": "04392232392828254116"
     },
     "user_tz": -420
    },
    "id": "8f2c8249-9da1-4cf9-b176-b70aa3610b4f",
    "outputId": "e9d93a03-a9ba-4903-923e-2b06246f86fb"
   },
   "outputs": [
    {
     "name": "stdout",
     "output_type": "stream",
     "text": [
      "<class 'pandas.core.frame.DataFrame'>\n",
      "DatetimeIndex: 414 entries, 2020-01-25 to 2021-03-13\n",
      "Data columns (total 4 columns):\n",
      " #   Column              Non-Null Count  Dtype  \n",
      "---  ------              --------------  -----  \n",
      " 0   daily_cases         414 non-null    int64  \n",
      " 1   daily_deaths        414 non-null    int64  \n",
      " 2   daily_distributed   72 non-null     float64\n",
      " 3   daily_vaccinations  72 non-null     object \n",
      "dtypes: float64(1), int64(2), object(1)\n",
      "memory usage: 16.2+ KB\n"
     ]
    }
   ],
   "source": [
    "df_state.info()"
   ]
  },
  {
   "cell_type": "code",
   "execution_count": 21,
   "id": "d02afb67-eb2f-4da9-a7ab-75c97cc2cb93",
   "metadata": {
    "executionInfo": {
     "elapsed": 47751,
     "status": "ok",
     "timestamp": 1619509202066,
     "user": {
      "displayName": "Sitiporn Saelim",
      "photoUrl": "",
      "userId": "04392232392828254116"
     },
     "user_tz": -420
    },
    "id": "d02afb67-eb2f-4da9-a7ab-75c97cc2cb93"
   },
   "outputs": [],
   "source": [
    "df_state_clean = df_state.dropna()"
   ]
  },
  {
   "cell_type": "code",
   "execution_count": 22,
   "id": "066ceb35-f5b7-47d2-ac4a-d36f27214d34",
   "metadata": {
    "executionInfo": {
     "elapsed": 47749,
     "status": "ok",
     "timestamp": 1619509202066,
     "user": {
      "displayName": "Sitiporn Saelim",
      "photoUrl": "",
      "userId": "04392232392828254116"
     },
     "user_tz": -420
    },
    "id": "066ceb35-f5b7-47d2-ac4a-d36f27214d34"
   },
   "outputs": [],
   "source": [
    "df_state_clean = df_state_clean.replace(',','', regex=True)"
   ]
  },
  {
   "cell_type": "code",
   "execution_count": 23,
   "id": "3f9c5ecd-cbe0-45a4-9c6c-a9323ca98203",
   "metadata": {
    "colab": {
     "base_uri": "https://localhost:8080/"
    },
    "executionInfo": {
     "elapsed": 47745,
     "status": "ok",
     "timestamp": 1619509202067,
     "user": {
      "displayName": "Sitiporn Saelim",
      "photoUrl": "",
      "userId": "04392232392828254116"
     },
     "user_tz": -420
    },
    "id": "3f9c5ecd-cbe0-45a4-9c6c-a9323ca98203",
    "outputId": "645fa38f-de1c-4c93-a772-172fe2fa9511"
   },
   "outputs": [
    {
     "data": {
      "text/plain": [
       "(72, 4)"
      ]
     },
     "execution_count": 23,
     "metadata": {},
     "output_type": "execute_result"
    }
   ],
   "source": [
    "df_state_clean.shape"
   ]
  },
  {
   "cell_type": "code",
   "execution_count": 24,
   "id": "ae9bb82b-3168-4ac9-be30-f19c39c8ace6",
   "metadata": {
    "colab": {
     "base_uri": "https://localhost:8080/"
    },
    "executionInfo": {
     "elapsed": 47742,
     "status": "ok",
     "timestamp": 1619509202068,
     "user": {
      "displayName": "Sitiporn Saelim",
      "photoUrl": "",
      "userId": "04392232392828254116"
     },
     "user_tz": -420
    },
    "id": "ae9bb82b-3168-4ac9-be30-f19c39c8ace6",
    "outputId": "3c456f74-a3eb-4639-f54e-d955a4425280"
   },
   "outputs": [
    {
     "name": "stdout",
     "output_type": "stream",
     "text": [
      "<class 'pandas.core.frame.DataFrame'>\n",
      "DatetimeIndex: 72 entries, 2021-01-01 to 2021-03-13\n",
      "Data columns (total 4 columns):\n",
      " #   Column              Non-Null Count  Dtype  \n",
      "---  ------              --------------  -----  \n",
      " 0   daily_cases         72 non-null     int64  \n",
      " 1   daily_deaths        72 non-null     int64  \n",
      " 2   daily_distributed   72 non-null     float64\n",
      " 3   daily_vaccinations  72 non-null     object \n",
      "dtypes: float64(1), int64(2), object(1)\n",
      "memory usage: 2.8+ KB\n"
     ]
    }
   ],
   "source": [
    "df_state_clean.info()"
   ]
  },
  {
   "cell_type": "code",
   "execution_count": 25,
   "id": "c2a67ca0-bb2c-45ba-ad06-818b775b284f",
   "metadata": {
    "colab": {
     "base_uri": "https://localhost:8080/"
    },
    "executionInfo": {
     "elapsed": 47739,
     "status": "ok",
     "timestamp": 1619509202069,
     "user": {
      "displayName": "Sitiporn Saelim",
      "photoUrl": "",
      "userId": "04392232392828254116"
     },
     "user_tz": -420
    },
    "id": "c2a67ca0-bb2c-45ba-ad06-818b775b284f",
    "outputId": "4271289a-2c33-49c2-a104-452e25cc4c93"
   },
   "outputs": [
    {
     "data": {
      "text/plain": [
       "(72, 4)"
      ]
     },
     "execution_count": 25,
     "metadata": {},
     "output_type": "execute_result"
    }
   ],
   "source": [
    "df_state_clean.shape"
   ]
  },
  {
   "cell_type": "markdown",
   "id": "41e6cf0c-dc31-46f8-9fb7-58a5f722b13d",
   "metadata": {
    "id": "41e6cf0c-dc31-46f8-9fb7-58a5f722b13d"
   },
   "source": [
    "## DATA Shape\n",
    "- (batch_size,data point,channel)\n",
    "\n",
    "### For CNN shape\n",
    "- Shape:\n",
    "        Input:(batch_size,channel, data point)\n",
    "        "
   ]
  },
  {
   "cell_type": "code",
   "execution_count": 26,
   "id": "6c184b07-5c84-4dfc-83c8-3ee084b21dc0",
   "metadata": {
    "colab": {
     "base_uri": "https://localhost:8080/",
     "height": 324
    },
    "executionInfo": {
     "elapsed": 48420,
     "status": "ok",
     "timestamp": 1619509202757,
     "user": {
      "displayName": "Sitiporn Saelim",
      "photoUrl": "",
      "userId": "04392232392828254116"
     },
     "user_tz": -420
    },
    "id": "6c184b07-5c84-4dfc-83c8-3ee084b21dc0",
    "outputId": "35504cc1-7940-43e1-d655-94fe842d11d4"
   },
   "outputs": [
    {
     "data": {
      "text/plain": [
       "<matplotlib.axes._subplots.AxesSubplot at 0x7fac5c6c1d30>"
      ]
     },
     "execution_count": 26,
     "metadata": {},
     "output_type": "execute_result"
    },
    {
     "data": {
      "image/png": "[encoded data removed]",
      "text/plain": [
       "<matplotlib.figure.Figure at 0x7fac5c696550>"
      ]
     },
     "metadata": {
      "needs_background": "light"
     },
     "output_type": "display_data"
    }
   ],
   "source": [
    "df_clean.plot(title=f\"Daily cases :{STATE}\")"
   ]
  },
  {
   "cell_type": "code",
   "execution_count": 27,
   "id": "ebbadcba-a484-49b3-93cd-4ecab2707ab3",
   "metadata": {
    "colab": {
     "base_uri": "https://localhost:8080/"
    },
    "executionInfo": {
     "elapsed": 48417,
     "status": "ok",
     "timestamp": 1619509202758,
     "user": {
      "displayName": "Sitiporn Saelim",
      "photoUrl": "",
      "userId": "04392232392828254116"
     },
     "user_tz": -420
    },
    "id": "ebbadcba-a484-49b3-93cd-4ecab2707ab3",
    "outputId": "751c2aaa-be95-4157-fa04-b312945935af"
   },
   "outputs": [
    {
     "data": {
      "text/plain": [
       "378"
      ]
     },
     "execution_count": 27,
     "metadata": {},
     "output_type": "execute_result"
    }
   ],
   "source": [
    "df_clean.shape[0]"
   ]
  },
  {
   "cell_type": "code",
   "execution_count": 28,
   "id": "3c12e985-d837-4f1d-994f-09c7549ee47a",
   "metadata": {
    "colab": {
     "base_uri": "https://localhost:8080/"
    },
    "executionInfo": {
     "elapsed": 48412,
     "status": "ok",
     "timestamp": 1619509202759,
     "user": {
      "displayName": "Sitiporn Saelim",
      "photoUrl": "",
      "userId": "04392232392828254116"
     },
     "user_tz": -420
    },
    "id": "3c12e985-d837-4f1d-994f-09c7549ee47a",
    "outputId": "fc0addb9-0af3-44f0-b2bb-820a75893e2f"
   },
   "outputs": [
    {
     "data": {
      "text/plain": [
       "((302, 1), (76, 1))"
      ]
     },
     "execution_count": 28,
     "metadata": {},
     "output_type": "execute_result"
    }
   ],
   "source": [
    "train_data = df_clean.iloc[:int(len(df_clean)*0.8)]\n",
    "test_data = df_clean.iloc[int(len(df_clean)*0.8):]\n",
    "\n",
    "# train_data = np.expand_dims(train_data, axis=1)\n",
    "# test_data = np.expand_dims(test_data, axis=1)\n",
    "\n",
    "train_data.shape, test_data.shape "
   ]
  },
  {
   "cell_type": "code",
   "execution_count": 29,
   "id": "9f83ef7b-d478-42f6-ae8e-f5c3a3a8239f",
   "metadata": {
    "executionInfo": {
     "elapsed": 48410,
     "status": "ok",
     "timestamp": 1619509202760,
     "user": {
      "displayName": "Sitiporn Saelim",
      "photoUrl": "",
      "userId": "04392232392828254116"
     },
     "user_tz": -420
    },
    "id": "9f83ef7b-d478-42f6-ae8e-f5c3a3a8239f"
   },
   "outputs": [],
   "source": [
    "# scaler = MinMaxScaler()\n",
    "scaler = StandardScaler()\n",
    "\n",
    "scaler = scaler.fit(train_data)\n",
    "\n",
    "train_data = scaler.transform(train_data)\n",
    "\n",
    "test_data = scaler.transform(test_data)"
   ]
  },
  {
   "cell_type": "code",
   "execution_count": 30,
   "id": "15532477-1a0e-44c2-a270-128a09cefaab",
   "metadata": {
    "executionInfo": {
     "elapsed": 48407,
     "status": "ok",
     "timestamp": 1619509202761,
     "user": {
      "displayName": "Sitiporn Saelim",
      "photoUrl": "",
      "userId": "04392232392828254116"
     },
     "user_tz": -420
    },
    "id": "15532477-1a0e-44c2-a270-128a09cefaab"
   },
   "outputs": [],
   "source": [
    "train_data = np.asarray(train_data)\n",
    "test_data = np.asarray(test_data)"
   ]
  },
  {
   "cell_type": "code",
   "execution_count": 31,
   "id": "e957bba3-ef61-40d2-bb90-0db349eb26e0",
   "metadata": {
    "executionInfo": {
     "elapsed": 48406,
     "status": "ok",
     "timestamp": 1619509202762,
     "user": {
      "displayName": "Sitiporn Saelim",
      "photoUrl": "",
      "userId": "04392232392828254116"
     },
     "user_tz": -420
    },
    "id": "e957bba3-ef61-40d2-bb90-0db349eb26e0"
   },
   "outputs": [],
   "source": [
    "def create_sequences(data, seq_length):\n",
    "    xs = []\n",
    "    ys = []\n",
    "    \n",
    "    for i in range(len(data)-seq_length-1):\n",
    "        x = data[i:(i+seq_length)]\n",
    "        #print(i)\n",
    "        y = data[i+seq_length]\n",
    "        xs.append(x)\n",
    "        ys.append(y)\n",
    "\n",
    "    return np.array(xs), np.array(ys)"
   ]
  },
  {
   "cell_type": "code",
   "execution_count": 32,
   "id": "580acfdd-8af4-470d-8b41-b4a737e38cbc",
   "metadata": {
    "executionInfo": {
     "elapsed": 48403,
     "status": "ok",
     "timestamp": 1619509202763,
     "user": {
      "displayName": "Sitiporn Saelim",
      "photoUrl": "",
      "userId": "04392232392828254116"
     },
     "user_tz": -420
    },
    "id": "580acfdd-8af4-470d-8b41-b4a737e38cbc"
   },
   "outputs": [],
   "source": [
    "X_train, y_train = create_sequences(train_data, seq_length)\n",
    "X_test, y_test = create_sequences(test_data, seq_length)\n",
    "\n",
    "X_train = torch.from_numpy(X_train).float()\n",
    "y_train = torch.from_numpy(y_train).float()\n",
    "\n",
    "X_test = torch.from_numpy(X_test).float()\n",
    "y_test = torch.from_numpy(y_test).float()"
   ]
  },
  {
   "cell_type": "code",
   "execution_count": 33,
   "id": "6a9dcc9e-4638-48f6-859b-09d860477355",
   "metadata": {
    "colab": {
     "base_uri": "https://localhost:8080/"
    },
    "executionInfo": {
     "elapsed": 48398,
     "status": "ok",
     "timestamp": 1619509202763,
     "user": {
      "displayName": "Sitiporn Saelim",
      "photoUrl": "",
      "userId": "04392232392828254116"
     },
     "user_tz": -420
    },
    "id": "6a9dcc9e-4638-48f6-859b-09d860477355",
    "outputId": "e15edeca-c419-419b-e74b-c8b56818caf0"
   },
   "outputs": [
    {
     "data": {
      "text/plain": [
       "(torch.Size([280, 21, 1]),\n",
       " torch.Size([280, 1]),\n",
       " torch.Size([54, 21, 1]),\n",
       " torch.Size([54, 1]))"
      ]
     },
     "execution_count": 33,
     "metadata": {},
     "output_type": "execute_result"
    }
   ],
   "source": [
    "X_train.shape , y_train.shape , X_test.shape, y_test.shape"
   ]
  },
  {
   "cell_type": "code",
   "execution_count": 34,
   "id": "cdc119a6-14a0-4285-ab6e-3bdf3b9b3f9a",
   "metadata": {
    "executionInfo": {
     "elapsed": 48397,
     "status": "ok",
     "timestamp": 1619509202765,
     "user": {
      "displayName": "Sitiporn Saelim",
      "photoUrl": "",
      "userId": "04392232392828254116"
     },
     "user_tz": -420
    },
    "id": "cdc119a6-14a0-4285-ab6e-3bdf3b9b3f9a"
   },
   "outputs": [],
   "source": [
    "X_train = torch.reshape(X_train,(X_train.shape[0],1,-1))\n",
    "X_test =  torch.reshape(X_test,(X_test.shape[0],1,-1))"
   ]
  },
  {
   "cell_type": "code",
   "execution_count": 35,
   "id": "966746ba-33e5-4424-8346-37dd3c7bea01",
   "metadata": {
    "colab": {
     "base_uri": "https://localhost:8080/"
    },
    "executionInfo": {
     "elapsed": 48392,
     "status": "ok",
     "timestamp": 1619509202765,
     "user": {
      "displayName": "Sitiporn Saelim",
      "photoUrl": "",
      "userId": "04392232392828254116"
     },
     "user_tz": -420
    },
    "id": "966746ba-33e5-4424-8346-37dd3c7bea01",
    "outputId": "1353a78d-c36d-4c8c-d328-4b0076a65325"
   },
   "outputs": [
    {
     "data": {
      "text/plain": [
       "(torch.Size([280, 1, 21]),\n",
       " torch.Size([280, 1]),\n",
       " torch.Size([54, 1, 21]),\n",
       " torch.Size([54, 1]))"
      ]
     },
     "execution_count": 35,
     "metadata": {},
     "output_type": "execute_result"
    }
   ],
   "source": [
    "X_train.shape , y_train.shape , X_test.shape, y_test.shape"
   ]
  },
  {
   "cell_type": "code",
   "execution_count": 36,
   "id": "a9PLF5Yy9ZRy",
   "metadata": {
    "colab": {
     "base_uri": "https://localhost:8080/",
     "height": 282
    },
    "executionInfo": {
     "elapsed": 48899,
     "status": "ok",
     "timestamp": 1619509203278,
     "user": {
      "displayName": "Sitiporn Saelim",
      "photoUrl": "",
      "userId": "04392232392828254116"
     },
     "user_tz": -420
    },
    "id": "a9PLF5Yy9ZRy",
    "outputId": "77b630a4-3c19-4725-d804-2470be27149a"
   },
   "outputs": [
    {
     "data": {
      "text/plain": [
       "[<matplotlib.lines.Line2D at 0x7fac3fb83b38>]"
      ]
     },
     "execution_count": 36,
     "metadata": {},
     "output_type": "execute_result"
    },
    {
     "data": {
      "image/png": "[encoded data removed]",
      "text/plain": [
       "<matplotlib.figure.Figure at 0x7fac3fc25f28>"
      ]
     },
     "metadata": {
      "needs_background": "light"
     },
     "output_type": "display_data"
    }
   ],
   "source": [
    "plt.plot(range(len(X_train.flatten())), X_train.flatten())"
   ]
  },
  {
   "cell_type": "code",
   "execution_count": 37,
   "id": "365d5788-cc34-4817-a2e7-bd0811710ee6",
   "metadata": {
    "executionInfo": {
     "elapsed": 48897,
     "status": "ok",
     "timestamp": 1619509203278,
     "user": {
      "displayName": "Sitiporn Saelim",
      "photoUrl": "",
      "userId": "04392232392828254116"
     },
     "user_tz": -420
    },
    "id": "365d5788-cc34-4817-a2e7-bd0811710ee6"
   },
   "outputs": [],
   "source": [
    "from torch.utils.data import TensorDataset\n",
    "\n",
    "# Define dataset\n",
    "ds_train = TensorDataset(X_train, y_train)\n",
    "ds_test = TensorDataset(X_test, y_test)"
   ]
  },
  {
   "cell_type": "code",
   "execution_count": 38,
   "id": "30d22c12-cb30-4a04-9280-85fa7018d82a",
   "metadata": {
    "executionInfo": {
     "elapsed": 48896,
     "status": "ok",
     "timestamp": 1619509203279,
     "user": {
      "displayName": "Sitiporn Saelim",
      "photoUrl": "",
      "userId": "04392232392828254116"
     },
     "user_tz": -420
    },
    "id": "30d22c12-cb30-4a04-9280-85fa7018d82a"
   },
   "outputs": [],
   "source": [
    "BATCH_SIZE = 7  #keeping it binary so it fits GPU\n",
    "# #Train set loader\n",
    "train_iterator = torch.utils.data.DataLoader(dataset=ds_train, \n",
    "                                           batch_size=BATCH_SIZE, \n",
    "                                            shuffle=True)\n",
    "#Test set loader\n",
    "test_iterator = torch.utils.data.DataLoader(dataset=ds_test, \n",
    "                                          batch_size=BATCH_SIZE, \n",
    "                                          shuffle=True)"
   ]
  },
  {
   "cell_type": "markdown",
   "id": "nwqMkVWkNcpl",
   "metadata": {
    "id": "nwqMkVWkNcpl"
   },
   "source": [
    "# Training Section"
   ]
  },
  {
   "cell_type": "markdown",
   "id": "17a936f1-f68a-411a-b61c-c4067a1207bd",
   "metadata": {
    "id": "17a936f1-f68a-411a-b61c-c4067a1207bd"
   },
   "source": [
    "## Define Model"
   ]
  },
  {
   "cell_type": "code",
   "execution_count": 39,
   "id": "ff4391ed-a40f-4fcd-9e6a-ead688102775",
   "metadata": {
    "executionInfo": {
     "elapsed": 48895,
     "status": "ok",
     "timestamp": 1619509203280,
     "user": {
      "displayName": "Sitiporn Saelim",
      "photoUrl": "",
      "userId": "04392232392828254116"
     },
     "user_tz": -420
    },
    "id": "ff4391ed-a40f-4fcd-9e6a-ead688102775"
   },
   "outputs": [],
   "source": [
    "class ResidualBlock(nn.Module):\n",
    "    def __init__(self,kernel_size=3,dilation=1,in_dim=16,hidden_dim=64,out_dim=128):\n",
    "        super(ResidualBlock, self).__init__()\n",
    "        self.pad = (kernel_size - 1) * dilation\n",
    "        \n",
    "        #self.casual1 = nn.Conv1d(in_channels=16,out_channels=32,kernel_size=kernel_size,stride=1,padding=self.pad,dilation=dilation)\n",
    "        #self.casual2 = nn.Conv1d(in_channels=32,out_channels=64,kernel_size=kernel_size,stride=1,padding=self.pad,dilation=dilation)\n",
    "        \n",
    "        self.layer_1 = nn.Sequential(nn.utils.weight_norm(nn.Conv1d(in_channels=in_dim,out_channels=hidden_dim,\n",
    "                                     kernel_size=kernel_size,stride=1,padding=self.pad,dilation=dilation)),\n",
    "                                     nn.LeakyReLU(0.1),nn.Dropout(p=0.2))\n",
    "         \n",
    "        self.layer_2 = nn.Sequential(nn.utils.weight_norm(nn.Conv1d(in_channels=hidden_dim,out_channels=out_dim,\n",
    "                                    kernel_size=kernel_size,stride=1,padding=self.pad,dilation=dilation)),\n",
    "                                    nn.LeakyReLU(0.1),nn.Dropout(p=0.2))\n",
    "        \n",
    "        self.conv1_1 = nn.Conv1d(in_channels=in_dim,out_channels=out_dim,\n",
    "                                                        kernel_size=1,stride=1,padding=0,dilation=1)\n",
    "        \n",
    "    def forward(self,x):\n",
    "        \n",
    "        x_iden = x\n",
    "        x = self.layer_1(x)\n",
    "        x = x[:,:,:-self.pad]\n",
    "        #print(x.shape)\n",
    "        x = self.layer_2(x) \n",
    "        x = x[:,:,:-self.pad]\n",
    "        #print(x.shape)\n",
    "        x_iden = self.conv1_1(x_iden)\n",
    "        #print(x_iden.shape)\n",
    "        x = x + x_iden\n",
    "        \n",
    "        return x         "
   ]
  },
  {
   "cell_type": "code",
   "execution_count": 40,
   "id": "0c50375b-7e32-4447-985b-3cb7c4a9a88f",
   "metadata": {
    "executionInfo": {
     "elapsed": 48892,
     "status": "ok",
     "timestamp": 1619509203280,
     "user": {
      "displayName": "Sitiporn Saelim",
      "photoUrl": "",
      "userId": "04392232392828254116"
     },
     "user_tz": -420
    },
    "id": "0c50375b-7e32-4447-985b-3cb7c4a9a88f"
   },
   "outputs": [],
   "source": [
    "class TemporalConvNet(nn.Module):\n",
    "    def __init__(self,num_residual_layers,channel_config,num_classes):\n",
    "        super(TemporalConvNet, self).__init__()\n",
    "        self.num_residual_layers = num_residual_layers \n",
    "        self.residual_layers = []\n",
    "        #print(self.num_residual_layers)\n",
    "        \n",
    "        for i in range(self.num_residual_layers):\n",
    "            d = pow(2, i)\n",
    "            #print(d)\n",
    "            self.residual_layers.append(ResidualBlock(kernel_size=3,dilation=d,in_dim=channel_config[i][0],hidden_dim=channel_config[i][1],out_dim=channel_config[i][2]).to(device))        \n",
    "      \n",
    "        self.fc = nn.Sequential(nn.Linear(21 , 14),nn.ReLU(),nn.Dropout(0.5),\n",
    "                                nn.Linear(14,7),nn.ReLU(),\n",
    "                                nn.Dropout(0.5),nn.Linear(7,4))\n",
    "        \n",
    "        \n",
    "        self.out = nn.Linear(4, 1)\n",
    "        #self.softmax = nn.LogSoftmax(dim=1)\n",
    "        \n",
    "\n",
    "        #self.fc = nn.Sequential(nn.Linear(75 ,100),nn.ReLU(),nn.Linear(100,10))\n",
    "        \n",
    "    def forward(self,x):\n",
    "        for layer in self.residual_layers:\n",
    "            x = layer(x)\n",
    "        #print(\"layer :\",x.shape)\n",
    "        x = torch.flatten(x,start_dim=1)\n",
    "        #print(\"flatten:\",x.shape)        \n",
    "        x = self.fc(x).to(device)\n",
    "        \n",
    "        x = self.out(x).to(device)\n",
    "        #print(x.shape)\n",
    "    \n",
    "        return x"
   ]
  },
  {
   "cell_type": "code",
   "execution_count": 41,
   "id": "4828ea44-9f63-4640-a5d9-36de8a59dadb",
   "metadata": {
    "colab": {
     "base_uri": "https://localhost:8080/"
    },
    "executionInfo": {
     "elapsed": 48888,
     "status": "ok",
     "timestamp": 1619509203281,
     "user": {
      "displayName": "Sitiporn Saelim",
      "photoUrl": "",
      "userId": "04392232392828254116"
     },
     "user_tz": -420
    },
    "id": "4828ea44-9f63-4640-a5d9-36de8a59dadb",
    "outputId": "410043ae-c241-4ba6-b3e2-746f4add817b"
   },
   "outputs": [
    {
     "name": "stdout",
     "output_type": "stream",
     "text": [
      "Configured device:  cuda\n"
     ]
    }
   ],
   "source": [
    "print(\"Configured device: \", device)"
   ]
  },
  {
   "cell_type": "markdown",
   "id": "4b5b241f-00f7-4bf2-9c21-8852104cfc83",
   "metadata": {
    "id": "4b5b241f-00f7-4bf2-9c21-8852104cfc83"
   },
   "source": [
    "## Create model"
   ]
  },
  {
   "cell_type": "code",
   "execution_count": 42,
   "id": "49e276f0-ef26-49fe-982e-9846df90261c",
   "metadata": {
    "executionInfo": {
     "elapsed": 57248,
     "status": "ok",
     "timestamp": 1619509211643,
     "user": {
      "displayName": "Sitiporn Saelim",
      "photoUrl": "",
      "userId": "04392232392828254116"
     },
     "user_tz": -420
    },
    "id": "49e276f0-ef26-49fe-982e-9846df90261c"
   },
   "outputs": [],
   "source": [
    "model_Tcn = TemporalConvNet(num_residual_layers=3,channel_config=channel_config,num_classes=1)\n",
    "model_Tcn = model_Tcn.float()\n",
    "models = [model_Tcn]"
   ]
  },
  {
   "cell_type": "code",
   "execution_count": 43,
   "id": "e9b02cf6-e8f4-4885-844c-fbe367ee456c",
   "metadata": {
    "executionInfo": {
     "elapsed": 57249,
     "status": "ok",
     "timestamp": 1619509211646,
     "user": {
      "displayName": "Sitiporn Saelim",
      "photoUrl": "",
      "userId": "04392232392828254116"
     },
     "user_tz": -420
    },
    "id": "e9b02cf6-e8f4-4885-844c-fbe367ee456c"
   },
   "outputs": [],
   "source": [
    "for model in models:\n",
    "    model = model.to(device)"
   ]
  },
  {
   "cell_type": "markdown",
   "id": "cf3c0d2e-9240-4b30-8695-b8c86e02506c",
   "metadata": {
    "id": "cf3c0d2e-9240-4b30-8695-b8c86e02506c"
   },
   "source": [
    "### Create Optimizer"
   ]
  },
  {
   "cell_type": "code",
   "execution_count": 44,
   "id": "ed97a139-94a0-48b7-b415-ccf51a58b346",
   "metadata": {
    "executionInfo": {
     "elapsed": 57249,
     "status": "ok",
     "timestamp": 1619509211650,
     "user": {
      "displayName": "Sitiporn Saelim",
      "photoUrl": "",
      "userId": "04392232392828254116"
     },
     "user_tz": -420
    },
    "id": "ed97a139-94a0-48b7-b415-ccf51a58b346"
   },
   "outputs": [],
   "source": [
    "import torch.optim as optim\n",
    "#0.01\n",
    "learning_rate = 1e-4\n",
    "\n",
    "optimizer = optim.Adam(model.parameters())\n",
    "\n",
    "criterion = torch.nn.MSELoss().float() #nn.NLLLoss()\n",
    "optimizer = torch.optim.Adam(model.parameters(), lr=learning_rate)"
   ]
  },
  {
   "cell_type": "markdown",
   "id": "5fe76e97-cd26-4824-8bb1-1b7ca11631fd",
   "metadata": {
    "id": "5fe76e97-cd26-4824-8bb1-1b7ca11631fd"
   },
   "source": [
    "### Training Function"
   ]
  },
  {
   "cell_type": "code",
   "execution_count": 45,
   "id": "a2b7a551-3e07-4e10-9547-c0d499e5a9a6",
   "metadata": {
    "executionInfo": {
     "elapsed": 57248,
     "status": "ok",
     "timestamp": 1619509211652,
     "user": {
      "displayName": "Sitiporn Saelim",
      "photoUrl": "",
      "userId": "04392232392828254116"
     },
     "user_tz": -420
    },
    "id": "a2b7a551-3e07-4e10-9547-c0d499e5a9a6"
   },
   "outputs": [],
   "source": [
    "def train(model, iterator, optimizer, criterion):\n",
    "    total = 0\n",
    "    correct = 0\n",
    "    epoch_loss = 0\n",
    "    epoch_acc = 0\n",
    "   # loss_list = []\n",
    "    model.train()\n",
    "    \n",
    "    for batch, num_cases in iterator:\n",
    "        \n",
    "        #Move tensors to the configured device\n",
    "        batch = batch.to(device)\n",
    "        num_cases = num_cases.to(device) \n",
    "#         num_cases = num_cases[:,-1]\n",
    "#         num_cases =  torch.reshape(num_cases, (num_cases.shape[0], 1))\n",
    "        #Forward pass\n",
    "        #print(\"batch train:\",batch.shape)\n",
    "        outputs = model(batch.float())\n",
    "#         print(\"outputs:\",outputs.shape)\n",
    "#         print(\"num_cases :\",num_cases.shape)\n",
    "#         print(\"outputs :\",outputs)\n",
    "#         print(\"num_cases :\",num_cases)\n",
    "        loss = criterion(outputs, num_cases.float())\n",
    "        \n",
    "        # Backward and optimize\n",
    "        optimizer.zero_grad()\n",
    "        loss.backward()\n",
    "        optimizer.step()\n",
    "        #loss_list.append(loss.data)  \n",
    "         \n",
    "#         #check accuracy\n",
    "#         predictions = model(batch.float())\n",
    "#         _, predicted = torch.max(predictions.data, 1)  #returns max value, indices\n",
    "#          #keep track of total\n",
    "#         correct += (predicted == labels).sum().item()  #.item() give the raw number\n",
    "#         acc = 100 * (correct / total)\n",
    "                \n",
    "        epoch_loss += loss.item()\n",
    "#         epoch_acc = acc\n",
    "      \n",
    "    return epoch_loss / len(iterator)  #, epoch_acc, predicted"
   ]
  },
  {
   "cell_type": "code",
   "execution_count": 46,
   "id": "d816be15-ba87-40e5-8182-8983d08fb978",
   "metadata": {
    "executionInfo": {
     "elapsed": 57249,
     "status": "ok",
     "timestamp": 1619509211655,
     "user": {
      "displayName": "Sitiporn Saelim",
      "photoUrl": "",
      "userId": "04392232392828254116"
     },
     "user_tz": -420
    },
    "id": "d816be15-ba87-40e5-8182-8983d08fb978"
   },
   "outputs": [],
   "source": [
    "def test(model,iterator, optimizer, criterion):\n",
    "    total = 0\n",
    "    correct = 0\n",
    "    epoch_loss = 0\n",
    "    epoch_acc = 0\n",
    "   # loss_list = []\n",
    "    for batch, num_cases in iterator:\n",
    "        batch = batch.to(device)\n",
    "        num_cases = num_cases.to(device)\n",
    "        #print(\"batch test:\",batch.shape)\n",
    "        with torch.no_grad():\n",
    "            y_test_pred = model(batch.float())\n",
    "            loss = criterion(y_test_pred, num_cases.float())\n",
    "            epoch_loss += loss\n",
    "            \n",
    "    return epoch_loss / len(iterator)  "
   ]
  },
  {
   "cell_type": "code",
   "execution_count": 47,
   "id": "e4afaa15-4100-4c52-80fb-c7ca85fbe37c",
   "metadata": {
    "executionInfo": {
     "elapsed": 57248,
     "status": "ok",
     "timestamp": 1619509211656,
     "user": {
      "displayName": "Sitiporn Saelim",
      "photoUrl": "",
      "userId": "04392232392828254116"
     },
     "user_tz": -420
    },
    "id": "e4afaa15-4100-4c52-80fb-c7ca85fbe37c"
   },
   "outputs": [],
   "source": [
    "from IPython.display import clear_output"
   ]
  },
  {
   "cell_type": "code",
   "execution_count": 48,
   "id": "66e0a334-0206-4e81-ac46-7a8b1c92fcfb",
   "metadata": {
    "executionInfo": {
     "elapsed": 57247,
     "status": "ok",
     "timestamp": 1619509211657,
     "user": {
      "displayName": "Sitiporn Saelim",
      "photoUrl": "",
      "userId": "04392232392828254116"
     },
     "user_tz": -420
    },
    "id": "66e0a334-0206-4e81-ac46-7a8b1c92fcfb"
   },
   "outputs": [],
   "source": [
    "name = f\"Epoch ={N_EPOCHS} LR = {learning_rate} Adam\""
   ]
  },
  {
   "cell_type": "code",
   "execution_count": 49,
   "id": "9509ba65-c59a-4318-886e-f7e0e565770a",
   "metadata": {
    "colab": {
     "base_uri": "https://localhost:8080/",
     "height": 400
    },
    "executionInfo": {
     "elapsed": 57927,
     "status": "error",
     "timestamp": 1619509212344,
     "user": {
      "displayName": "Sitiporn Saelim",
      "photoUrl": "",
      "userId": "04392232392828254116"
     },
     "user_tz": -420
    },
    "id": "9509ba65-c59a-4318-886e-f7e0e565770a",
    "outputId": "0adfd7c6-19f2-45f9-ade8-d5071d8987cf"
   },
   "outputs": [
    {
     "name": "stdout",
     "output_type": "stream",
     "text": [
      "Training TemporalConvNet\n",
      "Epoch 0 train loss: 1.0496093414723873 test loss: 0.693382740020752\n",
      "Epoch 1 train loss: 1.0488237738609314 test loss: 0.6952444911003113\n",
      "Epoch 2 train loss: 1.0395529542118311 test loss: 0.6582902669906616\n",
      "Epoch 3 train loss: 1.0398616336286068 test loss: 0.6845689415931702\n",
      "Epoch 4 train loss: 1.0396833166480064 test loss: 0.7346843481063843\n",
      "Epoch 5 train loss: 1.0281466338783503 test loss: 0.6738568544387817\n",
      "Epoch 6 train loss: 1.0363121662288903 test loss: 0.7285736799240112\n",
      "Epoch 7 train loss: 1.0275032367557286 test loss: 0.6726664900779724\n",
      "Epoch 8 train loss: 1.0204307828098536 test loss: 0.6959776878356934\n",
      "Epoch 9 train loss: 1.011634862050414 test loss: 0.7175480723381042\n",
      "Epoch 10 train loss: 1.023762321099639 test loss: 0.7489684820175171\n",
      "Epoch 11 train loss: 1.0138753592967986 test loss: 0.7023027539253235\n",
      "Epoch 12 train loss: 1.008502697572112 test loss: 0.6623541712760925\n",
      "Epoch 13 train loss: 1.006483519077301 test loss: 0.6906101703643799\n",
      "Epoch 14 train loss: 1.0053329698741436 test loss: 0.7026457190513611\n",
      "Epoch 15 train loss: 1.0111738804727792 test loss: 0.736930787563324\n",
      "Epoch 16 train loss: 1.0080044098198413 test loss: 0.692701518535614\n",
      "Epoch 17 train loss: 1.0053692877292633 test loss: 0.7024279236793518\n",
      "Epoch 18 train loss: 1.0040575634688138 test loss: 0.7312425374984741\n",
      "Epoch 19 train loss: 0.9993947962298989 test loss: 0.7482588887214661\n",
      "Epoch 20 train loss: 0.9975487872958183 test loss: 0.6726127862930298\n",
      "Epoch 21 train loss: 0.9948511544615031 test loss: 0.7033459544181824\n",
      "Epoch 22 train loss: 0.9879712793976069 test loss: 0.7113469839096069\n",
      "Epoch 23 train loss: 0.9860934955999255 test loss: 0.7025387287139893\n",
      "Epoch 24 train loss: 0.9936425391584635 test loss: 0.7000153660774231\n",
      "Epoch 25 train loss: 0.9873361367732286 test loss: 0.7267914414405823\n",
      "Epoch 26 train loss: 0.9724491693079471 test loss: 0.64382004737854\n",
      "Epoch 27 train loss: 0.9823581021279096 test loss: 0.7386070489883423\n",
      "Epoch 28 train loss: 0.9801923867315054 test loss: 0.6604651212692261\n",
      "Epoch 29 train loss: 0.9807846255600452 test loss: 0.7743097543716431\n",
      "Epoch 30 train loss: 0.9710475638508796 test loss: 0.7068014740943909\n",
      "Epoch 31 train loss: 0.9682533495128155 test loss: 0.7028892636299133\n",
      "Epoch 32 train loss: 0.9619929704815149 test loss: 0.7243558764457703\n",
      "Epoch 33 train loss: 0.9744887819513679 test loss: 0.6857579350471497\n",
      "Epoch 34 train loss: 0.9678841689601541 test loss: 0.6902866363525391\n",
      "Epoch 35 train loss: 0.963178388029337 test loss: 0.625409722328186\n",
      "Epoch 36 train loss: 0.9594775682315231 test loss: 0.6520765423774719\n",
      "Epoch 37 train loss: 0.9509461225941778 test loss: 0.6121219396591187\n",
      "Epoch 38 train loss: 0.9589876390993595 test loss: 0.6859537959098816\n",
      "Epoch 39 train loss: 0.9435269247740508 test loss: 0.6585609912872314\n",
      "Epoch 40 train loss: 0.9490297980606556 test loss: 0.7333962917327881\n",
      "Epoch 41 train loss: 0.9392443308606744 test loss: 0.5966721773147583\n",
      "Epoch 42 train loss: 0.9525496469810605 test loss: 0.6912128329277039\n",
      "Epoch 43 train loss: 0.9441077154129743 test loss: 0.6528885364532471\n",
      "Epoch 44 train loss: 0.9255096849054099 test loss: 0.7086243629455566\n",
      "Epoch 45 train loss: 0.9063587758690119 test loss: 0.6554961204528809\n",
      "Epoch 46 train loss: 0.9196966163814068 test loss: 0.6395255327224731\n",
      "Epoch 47 train loss: 0.8892066219821573 test loss: 0.6883612871170044\n",
      "Epoch 48 train loss: 0.911860516294837 test loss: 0.6159243583679199\n",
      "Epoch 49 train loss: 0.9142919389531017 test loss: 0.6718895435333252\n",
      "Epoch 50 train loss: 0.8869427070021629 test loss: 0.6476494669914246\n",
      "Epoch 51 train loss: 0.8914673935621977 test loss: 0.7204260230064392\n",
      "Epoch 52 train loss: 0.8546452563256025 test loss: 0.5854472517967224\n",
      "Epoch 53 train loss: 0.8985063217580318 test loss: 0.533896267414093\n",
      "Epoch 54 train loss: 0.9168459873646497 test loss: 0.5935438275337219\n",
      "Epoch 55 train loss: 0.8627578898333013 test loss: 0.4910796880722046\n",
      "Epoch 56 train loss: 0.8617097565904259 test loss: 0.6370481252670288\n",
      "Epoch 57 train loss: 0.8904880791902542 test loss: 0.5777366161346436\n",
      "Epoch 58 train loss: 0.9255530534312129 test loss: 0.5356731414794922\n",
      "Epoch 59 train loss: 0.8455293679609894 test loss: 0.5724726915359497\n",
      "Epoch 60 train loss: 0.8391334826126695 test loss: 0.4807800054550171\n",
      "Epoch 61 train loss: 0.8286999206990003 test loss: 0.5411285758018494\n",
      "Epoch 62 train loss: 0.9130968257784844 test loss: 0.44906193017959595\n",
      "Epoch 63 train loss: 0.8050979360938072 test loss: 0.524657130241394\n",
      "Epoch 64 train loss: 0.7982493832707405 test loss: 0.5757085680961609\n",
      "Epoch 65 train loss: 0.8254129849374294 test loss: 0.45772892236709595\n",
      "Epoch 66 train loss: 0.8339807827025651 test loss: 0.6715275049209595\n",
      "Epoch 67 train loss: 0.8583803623914719 test loss: 0.4747089743614197\n",
      "Epoch 68 train loss: 0.8039289381355047 test loss: 0.5737594962120056\n",
      "Epoch 69 train loss: 0.876904433965683 test loss: 0.6082289814949036\n",
      "Epoch 70 train loss: 0.8123123809695244 test loss: 0.5726374983787537\n",
      "Epoch 71 train loss: 0.8461175736039876 test loss: 0.526176929473877\n",
      "Epoch 72 train loss: 0.8139803016558289 test loss: 0.664444088935852\n",
      "Epoch 73 train loss: 0.7521927440539002 test loss: 0.3685957193374634\n",
      "Epoch 74 train loss: 0.784789602085948 test loss: 0.4491470754146576\n",
      "Epoch 75 train loss: 0.7744759296998381 test loss: 0.5352517366409302\n",
      "Epoch 76 train loss: 0.773085019364953 test loss: 0.5461915731430054\n",
      "Epoch 77 train loss: 0.8004664773121476 test loss: 0.4849928915500641\n",
      "Epoch 78 train loss: 0.658221667446196 test loss: 0.5279449224472046\n",
      "Epoch 79 train loss: 0.7432151440531015 test loss: 0.7820080518722534\n",
      "Epoch 80 train loss: 0.7090259682387113 test loss: 0.5188982486724854\n",
      "Epoch 81 train loss: 0.7567657250910997 test loss: 0.4880260229110718\n",
      "Epoch 82 train loss: 0.6635010827332735 test loss: 0.5267835259437561\n",
      "Epoch 83 train loss: 0.7912557690404356 test loss: 0.4368659555912018\n",
      "Epoch 84 train loss: 0.7023578843101859 test loss: 0.42063361406326294\n",
      "Epoch 85 train loss: 0.7306655553169549 test loss: 0.410021036863327\n",
      "Epoch 86 train loss: 0.7206907073035836 test loss: 0.5146621465682983\n",
      "Epoch 87 train loss: 0.7997470824047923 test loss: 0.4989340603351593\n",
      "Epoch 88 train loss: 0.741081053391099 test loss: 0.7170087695121765\n",
      "Epoch 89 train loss: 0.7182055441662669 test loss: 0.4849931597709656\n",
      "Epoch 90 train loss: 0.6092493335716427 test loss: 0.4457230269908905\n",
      "Epoch 91 train loss: 0.705785541376099 test loss: 0.4946272075176239\n",
      "Epoch 92 train loss: 0.6707008115947246 test loss: 0.43212318420410156\n",
      "Epoch 93 train loss: 0.678364559262991 test loss: 0.4145401120185852\n",
      "Epoch 94 train loss: 0.7152714598923922 test loss: 0.5726157426834106\n",
      "Epoch 95 train loss: 0.6390648693777621 test loss: 0.42570561170578003\n",
      "Epoch 96 train loss: 0.7064150533638894 test loss: 0.4015737771987915\n",
      "Epoch 97 train loss: 0.5467828774824739 test loss: 0.42307761311531067\n",
      "Epoch 98 train loss: 0.5109847619663924 test loss: 0.41044703125953674\n",
      "Epoch 99 train loss: 0.7547276204451918 test loss: 0.35788658261299133\n",
      "Epoch 100 train loss: 0.6882329639047384 test loss: 0.5971563458442688\n",
      "Epoch 101 train loss: 0.7179468628019094 test loss: 0.4898781478404999\n",
      "Epoch 102 train loss: 0.6606277922168374 test loss: 0.6981738805770874\n",
      "Epoch 103 train loss: 0.6583054477814585 test loss: 0.4001551568508148\n",
      "Epoch 104 train loss: 0.5888470428064465 test loss: 0.45175114274024963\n",
      "Epoch 105 train loss: 0.6423742757178843 test loss: 0.6887692809104919\n",
      "Epoch 106 train loss: 0.619960124231875 test loss: 0.7546932101249695\n",
      "Epoch 107 train loss: 0.6094985568895936 test loss: 0.6041679978370667\n",
      "Epoch 108 train loss: 0.6168844265397638 test loss: 0.41056206822395325\n",
      "Epoch 109 train loss: 0.6250926170498132 test loss: 0.4631665349006653\n",
      "Epoch 110 train loss: 0.5144537088926882 test loss: 0.6148249506950378\n",
      "Epoch 111 train loss: 0.6310599439777433 test loss: 0.49584782123565674\n",
      "Epoch 112 train loss: 0.6040240669623017 test loss: 0.3357574939727783\n",
      "Epoch 113 train loss: 0.6664758129045367 test loss: 0.3934135437011719\n",
      "Epoch 114 train loss: 0.6561700170859694 test loss: 0.4907607436180115\n",
      "Epoch 115 train loss: 0.5705383937805891 test loss: 0.5273889303207397\n",
      "Epoch 116 train loss: 0.742899036500603 test loss: 0.47426262497901917\n",
      "Epoch 117 train loss: 0.5799881735816598 test loss: 0.7665101289749146\n",
      "Epoch 118 train loss: 0.6202923448756337 test loss: 0.45151808857917786\n",
      "Epoch 119 train loss: 0.6794916863553226 test loss: 0.5945454835891724\n",
      "Epoch 120 train loss: 0.623036147840321 test loss: 0.47447124123573303\n",
      "Epoch 121 train loss: 0.7377182540483773 test loss: 0.4124699532985687\n",
      "Epoch 122 train loss: 0.5113941467832774 test loss: 0.598569393157959\n",
      "Epoch 123 train loss: 0.717180479131639 test loss: 0.49480050802230835\n",
      "Epoch 124 train loss: 0.5635040314868093 test loss: 0.6676675081253052\n",
      "Epoch 125 train loss: 0.5279298520181328 test loss: 0.4839775562286377\n",
      "Epoch 126 train loss: 0.5658988160081208 test loss: 0.5583093762397766\n",
      "Epoch 127 train loss: 0.5975197989493608 test loss: 0.6234273314476013\n",
      "Epoch 128 train loss: 0.5008632056415081 test loss: 0.5866212844848633\n",
      "Epoch 129 train loss: 0.5695662497542798 test loss: 0.34960126876831055\n",
      "Epoch 130 train loss: 0.6469677607528865 test loss: 0.7553832530975342\n",
      "Epoch 131 train loss: 0.632933786790818 test loss: 0.45469099283218384\n",
      "Epoch 132 train loss: 0.5439942530356348 test loss: 0.7069848775863647\n",
      "Epoch 133 train loss: 0.6528635192662477 test loss: 0.4812236726284027\n",
      "Epoch 134 train loss: 0.5955610699020326 test loss: 0.7492018938064575\n",
      "Epoch 135 train loss: 0.5001764773391187 test loss: 0.669588029384613\n",
      "Epoch 136 train loss: 0.5620714484713971 test loss: 0.689096212387085\n",
      "Epoch 137 train loss: 0.531819358561188 test loss: 0.7665212750434875\n",
      "Epoch 138 train loss: 0.5245143473148346 test loss: 0.5045713186264038\n",
      "Epoch 139 train loss: 0.6046443911269307 test loss: 0.46818000078201294\n",
      "Epoch 140 train loss: 0.5236019239760935 test loss: 0.607167661190033\n",
      "Epoch 141 train loss: 0.62649074816145 test loss: 0.5486500263214111\n",
      "Epoch 142 train loss: 0.6323549606837332 test loss: 0.7169233560562134\n",
      "Epoch 143 train loss: 0.586195349227637 test loss: 0.5405150055885315\n",
      "Epoch 144 train loss: 0.5840501384809613 test loss: 0.6275415420532227\n",
      "Epoch 145 train loss: 0.5526826621964573 test loss: 0.7252123355865479\n",
      "Epoch 146 train loss: 0.6092485770117492 test loss: 0.7435705661773682\n",
      "Epoch 147 train loss: 0.4833689793944359 test loss: 0.596809446811676\n",
      "Epoch 148 train loss: 0.4966360586695373 test loss: 0.561664879322052\n",
      "Epoch 149 train loss: 0.6415784587152302 test loss: 0.5911486148834229\n",
      "Epoch 150 train loss: 0.4302870860788971 test loss: 0.5872804522514343\n",
      "Epoch 151 train loss: 0.5635745398700237 test loss: 0.5616379380226135\n",
      "Epoch 152 train loss: 0.5737737822346389 test loss: 0.7703618407249451\n",
      "Epoch 153 train loss: 0.620414680056274 test loss: 0.5421110391616821\n",
      "Epoch 154 train loss: 0.5946475782431662 test loss: 0.7787009477615356\n",
      "Epoch 155 train loss: 0.5107284801080823 test loss: 0.6657196283340454\n",
      "Epoch 156 train loss: 0.6612241298425943 test loss: 0.5059024095535278\n",
      "Epoch 157 train loss: 0.4912446401081979 test loss: 0.6244794130325317\n",
      "Epoch 158 train loss: 0.4494864946231246 test loss: 0.3554304540157318\n",
      "Epoch 159 train loss: 0.44214544603601097 test loss: 0.3572928011417389\n",
      "Epoch 160 train loss: 0.4526040045544505 test loss: 0.8623266220092773\n",
      "Epoch 161 train loss: 0.5866760953795165 test loss: 0.5217995047569275\n",
      "Epoch 162 train loss: 0.5852581806480884 test loss: 0.851295530796051\n",
      "Epoch 163 train loss: 0.5014299304224551 test loss: 1.3890416622161865\n",
      "Epoch 164 train loss: 0.5999958781525493 test loss: 0.45005902647972107\n",
      "Epoch 165 train loss: 0.5074450400425121 test loss: 0.4099133014678955\n",
      "Epoch 166 train loss: 0.45956040313467383 test loss: 0.4779236316680908\n",
      "Epoch 167 train loss: 0.5511403597425669 test loss: 0.8313554525375366\n",
      "Epoch 168 train loss: 0.5369135435670614 test loss: 0.5355042219161987\n",
      "Epoch 169 train loss: 0.6081532003358007 test loss: 0.675984799861908\n",
      "Epoch 170 train loss: 0.6089558733627201 test loss: 0.7257546782493591\n",
      "Epoch 171 train loss: 0.4449357885867357 test loss: 0.5574430823326111\n",
      "Epoch 172 train loss: 0.6179560611955821 test loss: 0.6442197561264038\n",
      "Epoch 173 train loss: 0.512467335909605 test loss: 0.5531439781188965\n",
      "Epoch 174 train loss: 0.4459217295050621 test loss: 0.888164222240448\n",
      "Epoch 175 train loss: 0.4072705150581896 test loss: 0.4251541197299957\n",
      "Epoch 176 train loss: 0.4850769822951406 test loss: 0.7856908440589905\n",
      "Epoch 177 train loss: 0.4781113972887397 test loss: 0.6997870206832886\n",
      "Epoch 178 train loss: 0.5793615831062198 test loss: 0.6647778153419495\n",
      "Epoch 179 train loss: 0.46784817734733225 test loss: 0.4237532317638397\n",
      "Epoch 180 train loss: 0.4958667133003473 test loss: 0.4932600259780884\n",
      "Epoch 181 train loss: 0.5648857731604948 test loss: 0.8781703114509583\n",
      "Epoch 182 train loss: 0.46731295408681034 test loss: 0.29888322949409485\n",
      "Epoch 183 train loss: 0.4529478047043085 test loss: 0.6476975083351135\n",
      "Epoch 184 train loss: 0.5034700565040111 test loss: 0.6427618861198425\n",
      "Epoch 185 train loss: 0.46597373485565186 test loss: 0.7407520413398743\n",
      "Epoch 186 train loss: 0.48626382630318404 test loss: 0.6321844458580017\n",
      "Epoch 187 train loss: 0.5519996395334601 test loss: 0.6448173522949219\n",
      "Epoch 188 train loss: 0.4464821367524564 test loss: 0.9132076501846313\n",
      "Epoch 189 train loss: 0.4863995657302439 test loss: 0.5673125982284546\n",
      "Epoch 190 train loss: 0.5104053935036064 test loss: 0.40833809971809387\n",
      "Epoch 191 train loss: 0.46355924839153884 test loss: 0.7262493968009949\n",
      "Epoch 192 train loss: 0.498111264128238 test loss: 0.32060706615448\n",
      "Epoch 193 train loss: 0.6080870481207967 test loss: 1.07435941696167\n",
      "Epoch 194 train loss: 0.5645759516395629 test loss: 0.6886332631111145\n",
      "Epoch 195 train loss: 0.43408291712403296 test loss: 0.7553222179412842\n",
      "Epoch 196 train loss: 0.4659297367557883 test loss: 0.5638077259063721\n",
      "Epoch 197 train loss: 0.46211137231439353 test loss: 1.0149435997009277\n",
      "Epoch 198 train loss: 0.4721500760875642 test loss: 0.4471612274646759\n",
      "Epoch 199 train loss: 0.5624398346059024 test loss: 0.8131296038627625\n",
      "Epoch 200 train loss: 0.4486307235434651 test loss: 0.8322789669036865\n",
      "Epoch 201 train loss: 0.6107885397039354 test loss: 0.5321682095527649\n",
      "Epoch 202 train loss: 0.32172569585964084 test loss: 0.567682683467865\n",
      "Epoch 203 train loss: 0.45251383716240523 test loss: 0.8421729207038879\n",
      "Epoch 204 train loss: 0.42276142705231906 test loss: 0.44834446907043457\n",
      "Epoch 205 train loss: 0.4967176311183721 test loss: 0.6652857661247253\n",
      "Epoch 206 train loss: 0.526513644773513 test loss: 0.9746556282043457\n",
      "Epoch 207 train loss: 0.4404598901048303 test loss: 0.5576252937316895\n",
      "Epoch 208 train loss: 0.4468622745014727 test loss: 1.1554323434829712\n",
      "Epoch 209 train loss: 0.4425134818069637 test loss: 0.5363256335258484\n",
      "Epoch 210 train loss: 0.5287286622449756 test loss: 0.6702268123626709\n",
      "Epoch 211 train loss: 0.5550688455346972 test loss: 0.39130353927612305\n",
      "Epoch 212 train loss: 0.4784252040553838 test loss: 0.4706628918647766\n",
      "Epoch 213 train loss: 0.468614021781832 test loss: 1.1454001665115356\n",
      "Epoch 214 train loss: 0.44516310407780113 test loss: 0.47649598121643066\n",
      "Epoch 215 train loss: 0.5186002089641988 test loss: 0.6093297004699707\n",
      "Epoch 216 train loss: 0.5221414580475539 test loss: 1.1036570072174072\n",
      "Epoch 217 train loss: 0.4261074241716415 test loss: 0.34349825978279114\n",
      "Epoch 218 train loss: 0.5067279980517924 test loss: 0.7180184125900269\n",
      "Epoch 219 train loss: 0.5704852538183331 test loss: 0.28380006551742554\n",
      "Epoch 220 train loss: 0.4976399291306734 test loss: 0.9379223585128784\n",
      "Epoch 221 train loss: 0.45687720235437157 test loss: 0.3316938281059265\n",
      "Epoch 222 train loss: 0.3774999130517244 test loss: 0.7941906452178955\n",
      "Epoch 223 train loss: 0.47489332226105035 test loss: 0.5913078784942627\n",
      "Epoch 224 train loss: 0.40780971460044385 test loss: 0.7095605731010437\n",
      "Epoch 225 train loss: 0.4383418759331107 test loss: 0.44893157482147217\n",
      "Epoch 226 train loss: 0.4097409308888018 test loss: 0.9377930760383606\n",
      "Epoch 227 train loss: 0.5682536185719073 test loss: 0.7794042229652405\n",
      "Epoch 228 train loss: 0.43186625828966496 test loss: 0.47618311643600464\n",
      "Epoch 229 train loss: 0.6115811161696911 test loss: 0.7603044509887695\n",
      "Epoch 230 train loss: 0.48092078873887656 test loss: 0.6223777532577515\n",
      "Epoch 231 train loss: 0.34994519292376935 test loss: 0.634628415107727\n",
      "Epoch 232 train loss: 0.5487742640078068 test loss: 0.4911453425884247\n",
      "Epoch 233 train loss: 0.5214793348219245 test loss: 0.4648592472076416\n",
      "Epoch 234 train loss: 0.3689652647823095 test loss: 0.29491931200027466\n",
      "Epoch 235 train loss: 0.5552599443122744 test loss: 0.495353102684021\n",
      "Epoch 236 train loss: 0.40247784163802863 test loss: 0.8524439334869385\n",
      "Epoch 237 train loss: 0.5922295808792114 test loss: 0.5585877299308777\n",
      "Epoch 238 train loss: 0.4382972101680934 test loss: 0.8456783890724182\n",
      "Epoch 239 train loss: 0.5758075706195086 test loss: 0.6075575351715088\n",
      "Epoch 240 train loss: 0.44354509841650724 test loss: 0.9854400753974915\n",
      "Epoch 241 train loss: 0.3848958774935454 test loss: 0.7698827981948853\n",
      "Epoch 242 train loss: 0.46880485750734807 test loss: 0.4657275974750519\n",
      "Epoch 243 train loss: 0.5304378143977374 test loss: 0.6889446973800659\n",
      "Epoch 244 train loss: 0.4816877946257591 test loss: 0.5320836305618286\n",
      "Epoch 245 train loss: 0.5287223065271973 test loss: 0.8779327869415283\n",
      "Epoch 246 train loss: 0.3888658809475601 test loss: 0.4887005090713501\n",
      "Epoch 247 train loss: 0.4175700950436294 test loss: 1.0828009843826294\n",
      "Epoch 248 train loss: 0.550385101698339 test loss: 0.8201339244842529\n",
      "Epoch 249 train loss: 0.526652461849153 test loss: 0.8597392439842224\n",
      "Epoch 250 train loss: 0.4508358941413462 test loss: 0.8421506285667419\n",
      "Epoch 251 train loss: 0.43078963542357085 test loss: 0.6513394713401794\n",
      "Epoch 252 train loss: 0.5353991420939564 test loss: 0.3293715715408325\n",
      "Epoch 253 train loss: 0.5268198712728918 test loss: 0.5360012650489807\n",
      "Epoch 254 train loss: 0.5121019190177322 test loss: 1.133548617362976\n",
      "Epoch 255 train loss: 0.35374122988432644 test loss: 0.55780029296875\n",
      "Epoch 256 train loss: 0.35530335288494824 test loss: 0.6907840371131897\n",
      "Epoch 257 train loss: 0.5231059369631111 test loss: 0.4443504512310028\n",
      "Epoch 258 train loss: 0.5647076081484557 test loss: 0.5246748924255371\n",
      "Epoch 259 train loss: 0.46207384509034455 test loss: 0.5855583548545837\n",
      "Epoch 260 train loss: 0.40631919745355843 test loss: 0.5696408152580261\n",
      "Epoch 261 train loss: 0.5752688884036615 test loss: 0.35876986384391785\n",
      "Epoch 262 train loss: 0.4277447029016912 test loss: 0.6253341436386108\n",
      "Epoch 263 train loss: 0.49870972326025365 test loss: 0.4401066303253174\n",
      "Epoch 264 train loss: 0.43549761110916735 test loss: 0.7868199944496155\n",
      "Epoch 265 train loss: 0.4350047971121967 test loss: 0.5819336175918579\n",
      "Epoch 266 train loss: 0.4033110146410763 test loss: 0.3247540593147278\n",
      "Epoch 267 train loss: 0.3451665499713272 test loss: 0.688759446144104\n",
      "Epoch 268 train loss: 0.464338253531605 test loss: 1.0607737302780151\n",
      "Epoch 269 train loss: 0.5691047923639416 test loss: 0.5959491729736328\n",
      "Epoch 270 train loss: 0.3616924248635769 test loss: 0.5042298436164856\n",
      "Epoch 271 train loss: 0.49068690398707987 test loss: 0.6212232708930969\n",
      "Epoch 272 train loss: 0.4529067946597934 test loss: 0.5273759961128235\n",
      "Epoch 273 train loss: 0.369954971363768 test loss: 0.7464498281478882\n",
      "Epoch 274 train loss: 0.5847609715536237 test loss: 0.7954787611961365\n",
      "Epoch 275 train loss: 0.48676618756726386 test loss: 0.4067314565181732\n",
      "Epoch 276 train loss: 0.443695567548275 test loss: 0.42315924167633057\n",
      "Epoch 277 train loss: 0.35843890383839605 test loss: 0.5826974511146545\n",
      "Epoch 278 train loss: 0.37026397613808515 test loss: 1.2441662549972534\n",
      "Epoch 279 train loss: 0.44780530454590917 test loss: 0.5925636291503906\n",
      "Epoch 280 train loss: 0.49401678508147595 test loss: 0.8270025849342346\n",
      "Epoch 281 train loss: 0.49757931642234327 test loss: 0.934449315071106\n",
      "Epoch 282 train loss: 0.5631386742927134 test loss: 0.6538503170013428\n",
      "Epoch 283 train loss: 0.4418175355531275 test loss: 0.3580858111381531\n",
      "Epoch 284 train loss: 0.509925608150661 test loss: 0.9072840213775635\n",
      "Epoch 285 train loss: 0.35481313746422527 test loss: 0.6185532808303833\n",
      "Epoch 286 train loss: 0.3987165211699903 test loss: 0.7626416683197021\n",
      "Epoch 287 train loss: 0.5321282434277237 test loss: 0.8042797446250916\n",
      "Epoch 288 train loss: 0.43411370636895297 test loss: 0.5420181155204773\n",
      "Epoch 289 train loss: 0.4082614401821047 test loss: 0.7803073525428772\n",
      "Epoch 290 train loss: 0.5282139486633242 test loss: 1.555284023284912\n",
      "Epoch 291 train loss: 0.4197984251193702 test loss: 0.9871307015419006\n",
      "Epoch 292 train loss: 0.46111250994727015 test loss: 0.7345097661018372\n",
      "Epoch 293 train loss: 0.42588085904717443 test loss: 0.7786375284194946\n",
      "Epoch 294 train loss: 0.536912476690486 test loss: 0.4117278754711151\n",
      "Epoch 295 train loss: 0.5174884776584804 test loss: 0.6465606689453125\n",
      "Epoch 296 train loss: 0.3863519291393459 test loss: 0.5630890130996704\n",
      "Epoch 297 train loss: 0.4788734489120543 test loss: 0.4118744134902954\n",
      "Epoch 298 train loss: 0.353795684594661 test loss: 1.3093986511230469\n",
      "Epoch 299 train loss: 0.2894825558178127 test loss: 0.5406787991523743\n",
      "Epoch 300 train loss: 0.5486078314483166 test loss: 0.6480132341384888\n",
      "Epoch 301 train loss: 0.36822702100034804 test loss: 0.5497828125953674\n",
      "Epoch 302 train loss: 0.4833604354411364 test loss: 0.608588695526123\n",
      "Epoch 303 train loss: 0.41118870112113654 test loss: 0.38177624344825745\n",
      "Epoch 304 train loss: 0.41671028919517994 test loss: 0.47617506980895996\n",
      "Epoch 305 train loss: 0.43243925739079714 test loss: 0.9154439568519592\n",
      "Epoch 306 train loss: 0.40210486147552726 test loss: 0.7826688885688782\n",
      "Epoch 307 train loss: 0.5031184350140393 test loss: 1.0486440658569336\n",
      "Epoch 308 train loss: 0.47435173001140357 test loss: 0.39052119851112366\n",
      "Epoch 309 train loss: 0.3641323037445545 test loss: 0.3660985827445984\n",
      "Epoch 310 train loss: 0.46659115264192225 test loss: 1.0523771047592163\n",
      "Epoch 311 train loss: 0.3669503324199468 test loss: 0.5260973572731018\n",
      "Epoch 312 train loss: 0.3014861953444779 test loss: 0.6742603778839111\n",
      "Epoch 313 train loss: 0.3695127122104168 test loss: 1.4391064643859863\n",
      "Epoch 314 train loss: 0.648807681305334 test loss: 0.6008592247962952\n",
      "Epoch 315 train loss: 0.2968209211714566 test loss: 0.5985106825828552\n",
      "Epoch 316 train loss: 0.4478685864713043 test loss: 0.766746461391449\n",
      "Epoch 317 train loss: 0.4424887833185494 test loss: 1.0146971940994263\n",
      "Epoch 318 train loss: 0.43975278465077283 test loss: 0.3733660578727722\n",
      "Epoch 319 train loss: 0.3736982085276395 test loss: 0.666074812412262\n",
      "Epoch 320 train loss: 0.45138112660497426 test loss: 0.4029914140701294\n",
      "Epoch 321 train loss: 0.52666269489564 test loss: 0.5302377939224243\n",
      "Epoch 322 train loss: 0.4197610410861671 test loss: 0.6323199272155762\n",
      "Epoch 323 train loss: 0.4582953310804442 test loss: 0.6606259346008301\n",
      "Epoch 324 train loss: 0.5074826619122177 test loss: 0.38867130875587463\n",
      "Epoch 325 train loss: 0.37922886153683066 test loss: 0.7221090197563171\n",
      "Epoch 326 train loss: 0.4463890756480396 test loss: 0.848334014415741\n",
      "Epoch 327 train loss: 0.40045729018747805 test loss: 0.8498642444610596\n",
      "Epoch 328 train loss: 0.425256009073928 test loss: 0.8430525660514832\n",
      "Epoch 329 train loss: 0.4574633756652474 test loss: 0.4378937780857086\n",
      "Epoch 330 train loss: 0.4459585977718234 test loss: 0.34605488181114197\n",
      "Epoch 331 train loss: 0.3027602766640484 test loss: 0.9881719350814819\n",
      "Epoch 332 train loss: 0.38957026950083673 test loss: 0.40915927290916443\n",
      "Epoch 333 train loss: 0.4799614596180618 test loss: 0.4863354563713074\n",
      "Epoch 334 train loss: 0.33259670226834714 test loss: 0.8785292506217957\n",
      "Epoch 335 train loss: 0.39112121863290666 test loss: 0.5076580047607422\n",
      "Epoch 336 train loss: 0.36534796953201293 test loss: 0.9158209562301636\n",
      "Epoch 337 train loss: 0.35597731126472354 test loss: 0.5222375392913818\n",
      "Epoch 338 train loss: 0.36633331412449477 test loss: 0.4908263683319092\n",
      "Epoch 339 train loss: 0.3276268645189703 test loss: 0.5807639360427856\n",
      "Epoch 340 train loss: 0.4807172907050699 test loss: 0.4835101068019867\n",
      "Epoch 341 train loss: 0.43243597270920875 test loss: 0.7557485699653625\n",
      "Epoch 342 train loss: 0.39589586104266344 test loss: 0.8251695036888123\n",
      "Epoch 343 train loss: 0.44490962689742447 test loss: 0.7423628568649292\n",
      "Epoch 344 train loss: 0.4951010273769498 test loss: 0.579261302947998\n",
      "Epoch 345 train loss: 0.3541944089345634 test loss: 0.45831334590911865\n",
      "Epoch 346 train loss: 0.5687048786319793 test loss: 0.7454900741577148\n",
      "Epoch 347 train loss: 0.3573511083144695 test loss: 0.4387108087539673\n",
      "Epoch 348 train loss: 0.5513566303066909 test loss: 0.854731023311615\n",
      "Epoch 349 train loss: 0.4150799230672419 test loss: 0.6073557138442993\n",
      "Epoch 350 train loss: 0.4620808043517172 test loss: 0.4210839867591858\n",
      "Epoch 351 train loss: 0.44177626753225924 test loss: 0.6825450658798218\n",
      "Epoch 352 train loss: 0.5690587028395384 test loss: 0.5700417757034302\n",
      "Epoch 353 train loss: 0.624339042045176 test loss: 0.8529154658317566\n",
      "Epoch 354 train loss: 0.46941214026883243 test loss: 0.4885658025741577\n",
      "Epoch 355 train loss: 0.4342868329025805 test loss: 0.7054510712623596\n",
      "Epoch 356 train loss: 0.31225231955759225 test loss: 1.2007018327713013\n",
      "Epoch 357 train loss: 0.417201930610463 test loss: 0.41536450386047363\n",
      "Epoch 358 train loss: 0.45822374522686005 test loss: 0.8241996765136719\n",
      "Epoch 359 train loss: 0.44466454433277247 test loss: 0.4481736719608307\n",
      "Epoch 360 train loss: 0.4675017768517137 test loss: 0.776081383228302\n",
      "Epoch 361 train loss: 0.48370744585990905 test loss: 0.4587320387363434\n",
      "Epoch 362 train loss: 0.49447336844168605 test loss: 1.205411672592163\n",
      "Epoch 363 train loss: 0.4546572187915444 test loss: 0.5646971464157104\n",
      "Epoch 364 train loss: 0.5317682845517993 test loss: 1.9479860067367554\n",
      "Epoch 365 train loss: 0.4089119353797287 test loss: 1.2152988910675049\n",
      "Epoch 366 train loss: 0.3882437588647008 test loss: 0.5745548605918884\n",
      "Epoch 367 train loss: 0.41538659725338223 test loss: 0.44984057545661926\n",
      "Epoch 368 train loss: 0.35634221537038685 test loss: 1.18904447555542\n",
      "Epoch 369 train loss: 0.5111786575987936 test loss: 1.1318094730377197\n",
      "Epoch 370 train loss: 0.3488084494136274 test loss: 0.5630471110343933\n",
      "Epoch 371 train loss: 0.394239014852792 test loss: 0.5679692625999451\n",
      "Epoch 372 train loss: 0.38393978169187903 test loss: 0.3808172345161438\n",
      "Epoch 373 train loss: 0.4135126045905054 test loss: 0.42690420150756836\n",
      "Epoch 374 train loss: 0.6700954825151711 test loss: 0.8722158670425415\n",
      "Epoch 375 train loss: 0.3698643875308335 test loss: 0.7362099289894104\n",
      "Epoch 376 train loss: 0.5229470393620431 test loss: 0.5215132832527161\n",
      "Epoch 377 train loss: 0.3071687845047563 test loss: 0.49425914883613586\n",
      "Epoch 378 train loss: 0.4972053167410195 test loss: 0.5120859742164612\n",
      "Epoch 379 train loss: 0.457791468501091 test loss: 0.46419966220855713\n",
      "Epoch 380 train loss: 0.4930897647514939 test loss: 0.2871914505958557\n",
      "Epoch 381 train loss: 0.4036883276421577 test loss: 0.18344660103321075\n",
      "Epoch 382 train loss: 0.40806334554217755 test loss: 0.635857105255127\n",
      "Epoch 383 train loss: 0.39001062656752766 test loss: 0.5641695857048035\n",
      "Epoch 384 train loss: 0.3872562024742365 test loss: 0.6462599039077759\n",
      "Epoch 385 train loss: 0.5493296871427447 test loss: 0.48602473735809326\n",
      "Epoch 386 train loss: 0.40742107620462775 test loss: 0.3853669762611389\n",
      "Epoch 387 train loss: 0.43290573740378024 test loss: 0.8343653678894043\n",
      "Epoch 388 train loss: 0.4522879721596837 test loss: 0.3376270830631256\n",
      "Epoch 389 train loss: 0.3974022059701383 test loss: 0.7488679885864258\n",
      "Epoch 390 train loss: 0.48296839790418744 test loss: 0.5144646763801575\n",
      "Epoch 391 train loss: 0.5428662459366024 test loss: 0.5857723355293274\n",
      "Epoch 392 train loss: 0.3436996049480513 test loss: 1.1059212684631348\n",
      "Epoch 393 train loss: 0.45622457049321385 test loss: 0.45098578929901123\n",
      "Epoch 394 train loss: 0.3524793913587928 test loss: 0.276642382144928\n",
      "Epoch 395 train loss: 0.4335218812339008 test loss: 0.5377171039581299\n",
      "Epoch 396 train loss: 0.3638267431408167 test loss: 0.7476314902305603\n",
      "Epoch 397 train loss: 0.4481918185018003 test loss: 0.4306078255176544\n",
      "Epoch 398 train loss: 0.46128059960901735 test loss: 0.6163669228553772\n",
      "Epoch 399 train loss: 0.40089072110131385 test loss: 0.2774161398410797\n",
      "Epoch 400 train loss: 0.42866619136184453 test loss: 0.7295647263526917\n",
      "Epoch 401 train loss: 0.475996910687536 test loss: 0.5682758688926697\n",
      "Epoch 402 train loss: 0.4302132725715637 test loss: 0.4970429539680481\n",
      "Epoch 403 train loss: 0.41971537374192847 test loss: 0.6259230375289917\n",
      "Epoch 404 train loss: 0.2746748938690871 test loss: 1.882683277130127\n",
      "Epoch 405 train loss: 0.49187143123708665 test loss: 0.5476687550544739\n",
      "Epoch 406 train loss: 0.31829198747873305 test loss: 0.7440032958984375\n",
      "Epoch 407 train loss: 0.44670012230053546 test loss: 0.3457503914833069\n",
      "Epoch 408 train loss: 0.3508114521857351 test loss: 0.7010129690170288\n",
      "Epoch 409 train loss: 0.38696672590449455 test loss: 0.5802971720695496\n",
      "Epoch 410 train loss: 0.37416744367219507 test loss: 0.5509900450706482\n",
      "Epoch 411 train loss: 0.4991299418732524 test loss: 0.831040620803833\n",
      "Epoch 412 train loss: 0.27374028847552834 test loss: 0.5921878218650818\n",
      "Epoch 413 train loss: 0.3479755805805326 test loss: 0.8201262950897217\n",
      "Epoch 414 train loss: 0.3445306084118783 test loss: 0.8857425451278687\n",
      "Epoch 415 train loss: 0.3800165727734566 test loss: 0.5422393679618835\n",
      "Epoch 416 train loss: 0.39194538407027724 test loss: 0.9085338115692139\n",
      "Epoch 417 train loss: 0.4781227562576532 test loss: 2.4617581367492676\n",
      "Epoch 418 train loss: 0.33999951807782053 test loss: 0.5720105171203613\n",
      "Epoch 419 train loss: 0.4420665134675801 test loss: 0.35641175508499146\n",
      "Epoch 420 train loss: 0.4854357392527163 test loss: 0.4001004695892334\n",
      "Epoch 421 train loss: 0.40131898652762177 test loss: 0.5145021677017212\n",
      "Epoch 422 train loss: 0.506319390796125 test loss: 0.4113374352455139\n",
      "Epoch 423 train loss: 0.48134637079201636 test loss: 0.9021793603897095\n",
      "Epoch 424 train loss: 0.40072256037965415 test loss: 0.6007066369056702\n",
      "Epoch 425 train loss: 0.4630518709309399 test loss: 0.7713544964790344\n",
      "Epoch 426 train loss: 0.41927523422054946 test loss: 0.3607825040817261\n",
      "Epoch 427 train loss: 0.43115304922685027 test loss: 0.6220382452011108\n",
      "Epoch 428 train loss: 0.5990733800455927 test loss: 0.39796125888824463\n",
      "Epoch 429 train loss: 0.3351259612012655 test loss: 0.6486345529556274\n",
      "Epoch 430 train loss: 0.48144722217693925 test loss: 0.4197978973388672\n",
      "Epoch 431 train loss: 0.5290766479913145 test loss: 0.363877534866333\n",
      "Epoch 432 train loss: 0.44019822040572765 test loss: 0.274938702583313\n",
      "Epoch 433 train loss: 0.41222068094648423 test loss: 0.524146318435669\n",
      "Epoch 434 train loss: 0.35422481782734394 test loss: 0.2792954444885254\n",
      "Epoch 435 train loss: 0.38738973694853485 test loss: 0.3357093632221222\n",
      "Epoch 436 train loss: 0.4203553330618888 test loss: 0.47095051407814026\n",
      "Epoch 437 train loss: 0.3703770934604108 test loss: 0.6381444334983826\n",
      "Epoch 438 train loss: 0.5517476459965109 test loss: 0.8431162238121033\n",
      "Epoch 439 train loss: 0.4446940490510315 test loss: 0.6072363257408142\n",
      "Epoch 440 train loss: 0.4519377456977963 test loss: 0.3245367705821991\n",
      "Epoch 441 train loss: 0.47354492880404 test loss: 0.3254285156726837\n",
      "Epoch 442 train loss: 0.3517233480932191 test loss: 0.2781747579574585\n",
      "Epoch 443 train loss: 0.3880721598863602 test loss: 0.4068336486816406\n",
      "Epoch 444 train loss: 0.31360285067930815 test loss: 0.6019124984741211\n",
      "Epoch 445 train loss: 0.3545815941877663 test loss: 0.5283920764923096\n",
      "Epoch 446 train loss: 0.543975402181968 test loss: 0.5263540148735046\n",
      "Epoch 447 train loss: 0.48784716269001366 test loss: 0.4656601548194885\n",
      "Epoch 448 train loss: 0.45415684380568566 test loss: 0.7356202006340027\n",
      "Epoch 449 train loss: 0.4824051787145436 test loss: 0.5588032603263855\n",
      "Epoch 450 train loss: 0.4355013213120401 test loss: 0.38515934348106384\n",
      "Epoch 451 train loss: 0.3588446917012334 test loss: 0.41683337092399597\n",
      "Epoch 452 train loss: 0.34982912680134176 test loss: 0.8631372451782227\n",
      "Epoch 453 train loss: 0.3265773859806359 test loss: 0.31940051913261414\n",
      "Epoch 454 train loss: 0.42866362715139983 test loss: 0.25171875953674316\n",
      "Epoch 455 train loss: 0.6432254183106124 test loss: 0.8887477517127991\n",
      "Epoch 456 train loss: 0.414254953712225 test loss: 0.5050857067108154\n",
      "Epoch 457 train loss: 0.3808270181994885 test loss: 0.4038679003715515\n",
      "Epoch 458 train loss: 0.4118096816586331 test loss: 0.7883416414260864\n",
      "Epoch 459 train loss: 0.40715572237968445 test loss: 0.49791911244392395\n",
      "Epoch 460 train loss: 0.2729411569889635 test loss: 0.45961761474609375\n",
      "Epoch 461 train loss: 0.3897524211090058 test loss: 0.4832651913166046\n",
      "Epoch 462 train loss: 0.35119609511457384 test loss: 0.40002045035362244\n",
      "Epoch 463 train loss: 0.4196293609216809 test loss: 0.8766093850135803\n",
      "Epoch 464 train loss: 0.3101189247332513 test loss: 0.45247212052345276\n",
      "Epoch 465 train loss: 0.4703263683244586 test loss: 1.1600303649902344\n",
      "Epoch 466 train loss: 0.37623566915281115 test loss: 0.6605004668235779\n",
      "Epoch 467 train loss: 0.4189595672301948 test loss: 0.7978419661521912\n",
      "Epoch 468 train loss: 0.49941893890500066 test loss: 0.26511022448539734\n",
      "Epoch 469 train loss: 0.3691280939150602 test loss: 0.34698325395584106\n",
      "Epoch 470 train loss: 0.4591030728071928 test loss: 0.6181701421737671\n",
      "Epoch 471 train loss: 0.33617409425787625 test loss: 0.5105423331260681\n",
      "Epoch 472 train loss: 0.43458188539370896 test loss: 0.8225119113922119\n",
      "Epoch 473 train loss: 0.46288130804896355 test loss: 1.0721476078033447\n",
      "Epoch 474 train loss: 0.33157034385949374 test loss: 0.7645826935768127\n",
      "Epoch 475 train loss: 0.4886692265514284 test loss: 0.3617202639579773\n",
      "Epoch 476 train loss: 0.43176961932331326 test loss: 0.8280962109565735\n",
      "Epoch 477 train loss: 0.4779926651157439 test loss: 0.3643222749233246\n",
      "Epoch 478 train loss: 0.40741814086213707 test loss: 0.5971584320068359\n",
      "Epoch 479 train loss: 0.5012669226154685 test loss: 0.8634280562400818\n",
      "Epoch 480 train loss: 0.490727668069303 test loss: 0.4889473617076874\n",
      "Epoch 481 train loss: 0.39742805021815003 test loss: 0.6567975282669067\n",
      "Epoch 482 train loss: 0.3790535052772611 test loss: 1.024017333984375\n",
      "Epoch 483 train loss: 0.46484378376044333 test loss: 0.4649253189563751\n",
      "Epoch 484 train loss: 0.5181079679168761 test loss: 1.2083909511566162\n",
      "Epoch 485 train loss: 0.3779474548995495 test loss: 0.24994616210460663\n",
      "Epoch 486 train loss: 0.4325106937903911 test loss: 0.5373443365097046\n",
      "Epoch 487 train loss: 0.4724541707430035 test loss: 0.564186155796051\n",
      "Epoch 488 train loss: 0.5589233207982034 test loss: 0.48463112115859985\n",
      "Epoch 489 train loss: 0.4033047809731215 test loss: 0.31588810682296753\n",
      "Epoch 490 train loss: 0.4390457537025213 test loss: 1.1177797317504883\n",
      "Epoch 491 train loss: 0.32220902252011 test loss: 0.4393206834793091\n",
      "Epoch 492 train loss: 0.3260039660148323 test loss: 0.3984644412994385\n",
      "Epoch 493 train loss: 0.5967058844864368 test loss: 0.6496047377586365\n",
      "Epoch 494 train loss: 0.30494313929229977 test loss: 0.6223503947257996\n",
      "Epoch 495 train loss: 0.38062170017510655 test loss: 0.5876271724700928\n",
      "Epoch 496 train loss: 0.34128894824534656 test loss: 0.9445945024490356\n",
      "Epoch 497 train loss: 0.5287757107988 test loss: 0.33880722522735596\n",
      "Epoch 498 train loss: 0.33466261327266694 test loss: 0.5331112742424011\n",
      "Epoch 499 train loss: 0.28285770523361864 test loss: 0.4733145833015442\n",
      "Epoch 500 train loss: 0.3720105136046186 test loss: 0.6657592058181763\n",
      "Epoch 501 train loss: 0.38359334841370585 test loss: 0.7959426641464233\n",
      "Epoch 502 train loss: 0.4271762092597783 test loss: 0.7501906752586365\n",
      "Epoch 503 train loss: 0.3399463445879519 test loss: 0.7169770002365112\n",
      "Epoch 504 train loss: 0.3577618995215744 test loss: 1.1959481239318848\n",
      "Epoch 505 train loss: 0.5409871726296842 test loss: 0.895790696144104\n",
      "Epoch 506 train loss: 0.3707733782939613 test loss: 0.6631283760070801\n",
      "Epoch 507 train loss: 0.30681127072311937 test loss: 0.38029325008392334\n",
      "Epoch 508 train loss: 0.43741871472448113 test loss: 0.525742769241333\n",
      "Epoch 509 train loss: 0.34468014603480696 test loss: 0.38979217410087585\n",
      "Epoch 510 train loss: 0.3092659086920321 test loss: 0.7695202827453613\n",
      "Epoch 511 train loss: 0.3685498238541186 test loss: 0.46772754192352295\n",
      "Epoch 512 train loss: 0.5239699258934707 test loss: 0.9405133724212646\n",
      "Epoch 513 train loss: 0.30735073373652994 test loss: 0.25996750593185425\n",
      "Epoch 514 train loss: 0.3268601859919727 test loss: 0.6686574816703796\n",
      "Epoch 515 train loss: 0.3817646810784936 test loss: 0.5287407636642456\n",
      "Epoch 516 train loss: 0.47164023872464894 test loss: 1.0475901365280151\n",
      "Epoch 517 train loss: 0.39269130618777126 test loss: 0.513792872428894\n",
      "Epoch 518 train loss: 0.6645674253813922 test loss: 0.633358895778656\n",
      "Epoch 519 train loss: 0.47495231637731194 test loss: 0.316273957490921\n",
      "Epoch 520 train loss: 0.41627434473484753 test loss: 0.3079870343208313\n",
      "Epoch 521 train loss: 0.44230888416059316 test loss: 0.44456470012664795\n",
      "Epoch 522 train loss: 0.3931978365406394 test loss: 0.7392240762710571\n",
      "Epoch 523 train loss: 0.3265378264710307 test loss: 0.6655258536338806\n",
      "Epoch 524 train loss: 0.3479743845295161 test loss: 0.673473060131073\n",
      "Epoch 525 train loss: 0.4397444349247962 test loss: 0.22560259699821472\n",
      "Epoch 526 train loss: 0.40733849415555595 test loss: 0.507786214351654\n",
      "Epoch 527 train loss: 0.28448279509320856 test loss: 0.548247754573822\n",
      "Epoch 528 train loss: 0.37474100238177926 test loss: 1.0772886276245117\n",
      "Epoch 529 train loss: 0.3055274963378906 test loss: 0.5722679495811462\n",
      "Epoch 530 train loss: 0.4094352861866355 test loss: 0.7948403358459473\n",
      "Epoch 531 train loss: 0.37340815539937466 test loss: 0.4866621792316437\n",
      "Epoch 532 train loss: 0.3397578677162528 test loss: 0.33410125970840454\n",
      "Epoch 533 train loss: 0.32027259306050837 test loss: 0.4945942461490631\n",
      "Epoch 534 train loss: 0.3272182850167155 test loss: 0.32348209619522095\n",
      "Epoch 535 train loss: 0.3686277893604711 test loss: 0.5266779661178589\n",
      "Epoch 536 train loss: 0.4597050933167338 test loss: 0.5070717334747314\n",
      "Epoch 537 train loss: 0.35971643291413785 test loss: 0.7032871842384338\n",
      "Epoch 538 train loss: 0.2967810651753098 test loss: 0.9900119304656982\n",
      "Epoch 539 train loss: 0.6366000737063586 test loss: 0.34975841641426086\n",
      "Epoch 540 train loss: 0.35244945203885436 test loss: 0.4285663962364197\n",
      "Epoch 541 train loss: 0.4485795098356903 test loss: 0.35147976875305176\n",
      "Epoch 542 train loss: 0.32214846191927793 test loss: 0.6379157304763794\n",
      "Epoch 543 train loss: 0.3748667481355369 test loss: 0.40968894958496094\n",
      "Epoch 544 train loss: 0.2954421123489738 test loss: 0.30838268995285034\n",
      "Epoch 545 train loss: 0.369302642554976 test loss: 0.732609212398529\n",
      "Epoch 546 train loss: 0.360447607235983 test loss: 0.24701730906963348\n",
      "Epoch 547 train loss: 0.30649427776224913 test loss: 0.7668529152870178\n",
      "Epoch 548 train loss: 0.3062118385452777 test loss: 0.91910719871521\n",
      "Epoch 549 train loss: 0.39574656961485744 test loss: 0.6656612753868103\n",
      "Epoch 550 train loss: 0.3014010325539857 test loss: 0.9837769269943237\n",
      "Epoch 551 train loss: 0.38874803204089403 test loss: 1.0575439929962158\n",
      "Epoch 552 train loss: 0.4053194060921669 test loss: 0.6024531126022339\n",
      "Epoch 553 train loss: 0.47299032122828066 test loss: 0.9489264488220215\n",
      "Epoch 554 train loss: 0.45563597441650927 test loss: 0.3512055575847626\n",
      "Epoch 555 train loss: 0.4603440480772406 test loss: 0.6907327175140381\n",
      "Epoch 556 train loss: 0.4292624685680494 test loss: 0.955443263053894\n",
      "Epoch 557 train loss: 0.40508349882438777 test loss: 0.8848155736923218\n",
      "Epoch 558 train loss: 0.5752979421988129 test loss: 1.1095963716506958\n",
      "Epoch 559 train loss: 0.3502287602517754 test loss: 0.6496895551681519\n",
      "Epoch 560 train loss: 0.37866076338104904 test loss: 0.8980617523193359\n",
      "Epoch 561 train loss: 0.4461228738538921 test loss: 0.38531020283699036\n",
      "Epoch 562 train loss: 0.3519946807995439 test loss: 0.6766689419746399\n",
      "Epoch 563 train loss: 0.35810728087089955 test loss: 0.3987465798854828\n",
      "Epoch 564 train loss: 0.3018864450510591 test loss: 0.4825827479362488\n",
      "Epoch 565 train loss: 0.5325237857410684 test loss: 0.439921498298645\n",
      "Epoch 566 train loss: 0.38217442722525446 test loss: 0.5904265642166138\n",
      "Epoch 567 train loss: 0.27088085999712347 test loss: 1.450361728668213\n",
      "Epoch 568 train loss: 0.2351925947703421 test loss: 0.2916487455368042\n",
      "Epoch 569 train loss: 0.401920504309237 test loss: 0.7088908553123474\n",
      "Epoch 570 train loss: 0.42340374607592823 test loss: 1.1041622161865234\n",
      "Epoch 571 train loss: 0.3503107525408268 test loss: 0.6732629537582397\n",
      "Epoch 572 train loss: 0.5642261731904 test loss: 0.48167309165000916\n",
      "Epoch 573 train loss: 0.3836964341811836 test loss: 0.5292129516601562\n",
      "Epoch 574 train loss: 0.3880837055854499 test loss: 0.345582515001297\n",
      "Epoch 575 train loss: 0.42241116720251737 test loss: 0.6119428873062134\n",
      "Epoch 576 train loss: 0.4945162745192647 test loss: 0.6538836359977722\n",
      "Epoch 577 train loss: 0.3575280708260834 test loss: 1.2126978635787964\n",
      "Epoch 578 train loss: 0.4870752687100321 test loss: 0.48359042406082153\n",
      "Epoch 579 train loss: 0.414882493391633 test loss: 0.3003103733062744\n",
      "Epoch 580 train loss: 0.31378644034266473 test loss: 1.261368989944458\n",
      "Epoch 581 train loss: 0.31971711507067085 test loss: 0.41724148392677307\n",
      "Epoch 582 train loss: 0.328630355745554 test loss: 0.18581606447696686\n",
      "Epoch 583 train loss: 0.38192611569538715 test loss: 0.6114811301231384\n",
      "Epoch 584 train loss: 0.3752616364508867 test loss: 0.5347592234611511\n",
      "Epoch 585 train loss: 0.38415111918002365 test loss: 0.47979891300201416\n",
      "Epoch 586 train loss: 0.36504442440345886 test loss: 0.42996707558631897\n",
      "Epoch 587 train loss: 0.3429889377206564 test loss: 0.4146518409252167\n",
      "Epoch 588 train loss: 0.5507658945396543 test loss: 0.3097499907016754\n",
      "Epoch 589 train loss: 0.3193334355717525 test loss: 0.3132706880569458\n",
      "Epoch 590 train loss: 0.5076981331221759 test loss: 0.8728991150856018\n",
      "Epoch 591 train loss: 0.42674103630706667 test loss: 0.8879456520080566\n",
      "Epoch 592 train loss: 0.3152102615684271 test loss: 0.2687057852745056\n",
      "Epoch 593 train loss: 0.29476192803122103 test loss: 0.741036593914032\n",
      "Epoch 594 train loss: 0.34656335520558057 test loss: 1.2763787508010864\n",
      "Epoch 595 train loss: 0.45543799507431687 test loss: 0.3536643385887146\n",
      "Epoch 596 train loss: 0.43126589208841326 test loss: 0.5232458114624023\n",
      "Epoch 597 train loss: 0.31942666857503355 test loss: 0.4964158535003662\n",
      "Epoch 598 train loss: 0.41099252928979696 test loss: 0.5230919718742371\n",
      "Epoch 599 train loss: 0.2678164913319051 test loss: 0.2616937756538391\n",
      "Epoch 600 train loss: 0.4691449459642172 test loss: 0.5617676377296448\n",
      "Epoch 601 train loss: 0.41550666000694036 test loss: 0.32413262128829956\n",
      "Epoch 602 train loss: 0.38250703224912286 test loss: 0.539298951625824\n",
      "Epoch 603 train loss: 0.32778183217160406 test loss: 0.487873375415802\n",
      "Epoch 604 train loss: 0.3897391696460545 test loss: 0.5189709663391113\n",
      "Epoch 605 train loss: 0.29027906625997274 test loss: 0.3472021818161011\n",
      "Epoch 606 train loss: 0.5109270889777691 test loss: 0.7234774827957153\n",
      "Epoch 607 train loss: 0.39632975328713654 test loss: 0.5034668445587158\n",
      "Epoch 608 train loss: 0.4073432445060462 test loss: 0.30413103103637695\n",
      "Epoch 609 train loss: 0.4053279206156731 test loss: 0.3686336874961853\n",
      "Epoch 610 train loss: 0.31397223747335373 test loss: 0.35345736145973206\n",
      "Epoch 611 train loss: 0.3730894312262535 test loss: 0.6597830653190613\n",
      "Epoch 612 train loss: 0.4623966917162761 test loss: 0.9230217933654785\n",
      "Epoch 613 train loss: 0.3464325445471331 test loss: 0.7762752771377563\n",
      "Epoch 614 train loss: 0.4460403394186869 test loss: 0.5562360286712646\n",
      "Epoch 615 train loss: 0.2916651252191514 test loss: 0.4564070403575897\n",
      "Epoch 616 train loss: 0.37651239056140184 test loss: 0.41318613290786743\n",
      "Epoch 617 train loss: 0.40379987852647903 test loss: 0.3755272626876831\n",
      "Epoch 618 train loss: 0.4352678909897804 test loss: 0.34124308824539185\n",
      "Epoch 619 train loss: 0.5672016298398376 test loss: 1.4349234104156494\n",
      "Epoch 620 train loss: 0.396298707742244 test loss: 0.44964396953582764\n",
      "Epoch 621 train loss: 0.34483602209948006 test loss: 0.3391511142253876\n",
      "Epoch 622 train loss: 0.37773369196802375 test loss: 0.7785676717758179\n",
      "Epoch 623 train loss: 0.4645532069262117 test loss: 0.4375120997428894\n",
      "Epoch 624 train loss: 0.21369789242744447 test loss: 1.7261574268341064\n",
      "Epoch 625 train loss: 0.3899813733529299 test loss: 0.8571903705596924\n",
      "Epoch 626 train loss: 0.43483377499505876 test loss: 0.9088195562362671\n",
      "Epoch 627 train loss: 0.3943366538733244 test loss: 0.6635894775390625\n",
      "Epoch 628 train loss: 0.4431273770518601 test loss: 1.1019937992095947\n",
      "Epoch 629 train loss: 0.45936495447531345 test loss: 0.44750621914863586\n",
      "Epoch 630 train loss: 0.31124387157615274 test loss: 0.645747184753418\n",
      "Epoch 631 train loss: 0.4559924275614321 test loss: 0.5278111100196838\n",
      "Epoch 632 train loss: 0.3908396829850972 test loss: 0.31449267268180847\n",
      "Epoch 633 train loss: 0.4066634401679039 test loss: 0.3946034014225006\n",
      "Epoch 634 train loss: 0.4329012387432158 test loss: 0.44879597425460815\n",
      "Epoch 635 train loss: 0.473380736913532 test loss: 0.6660399436950684\n",
      "Epoch 636 train loss: 0.37977282437495885 test loss: 0.4462492763996124\n",
      "Epoch 637 train loss: 0.43937805546447634 test loss: 0.6682204008102417\n",
      "Epoch 638 train loss: 0.2470624010078609 test loss: 0.405521959066391\n",
      "Epoch 639 train loss: 0.5346488212235272 test loss: 0.38315314054489136\n",
      "Epoch 640 train loss: 0.41103100422769784 test loss: 0.5536550879478455\n",
      "Epoch 641 train loss: 0.3774936109781265 test loss: 0.5074407458305359\n",
      "Epoch 642 train loss: 0.6675454779528082 test loss: 0.5013070702552795\n",
      "Epoch 643 train loss: 0.41415503462776543 test loss: 0.47798046469688416\n",
      "Epoch 644 train loss: 0.44723568269982933 test loss: 0.3119492828845978\n",
      "Epoch 645 train loss: 0.38628120757639406 test loss: 0.9362636804580688\n",
      "Epoch 646 train loss: 0.34674822692759333 test loss: 0.768150269985199\n",
      "Epoch 647 train loss: 0.2722606285475194 test loss: 0.5648320913314819\n",
      "Epoch 648 train loss: 0.47080595339648423 test loss: 0.6295846700668335\n",
      "Epoch 649 train loss: 0.44135550858918576 test loss: 0.5483198165893555\n",
      "Epoch 650 train loss: 0.44845433738082646 test loss: 0.4363933801651001\n",
      "Epoch 651 train loss: 0.4209829754196107 test loss: 0.3030717670917511\n",
      "Epoch 652 train loss: 0.35426730252802374 test loss: 0.5392510890960693\n",
      "Epoch 653 train loss: 0.5683469700627028 test loss: 0.3293958306312561\n",
      "Epoch 654 train loss: 0.4388980286894366 test loss: 0.6238642334938049\n",
      "Epoch 655 train loss: 0.35352820474654434 test loss: 0.2560574412345886\n",
      "Epoch 656 train loss: 0.4324905904009938 test loss: 0.3836616575717926\n",
      "Epoch 657 train loss: 0.3615258181467652 test loss: 0.5633131265640259\n",
      "Epoch 658 train loss: 0.36791585679166017 test loss: 0.7827210426330566\n",
      "Epoch 659 train loss: 0.3104815220460296 test loss: 0.5477182269096375\n",
      "Epoch 660 train loss: 0.2663321478292346 test loss: 0.7022714018821716\n",
      "Epoch 661 train loss: 0.3855738394893706 test loss: 0.4283704459667206\n",
      "Epoch 662 train loss: 0.35696995360776784 test loss: 0.2233167141675949\n",
      "Epoch 663 train loss: 0.44391558824572713 test loss: 0.6362408995628357\n",
      "Epoch 664 train loss: 0.4516631501726806 test loss: 0.5998669266700745\n",
      "Epoch 665 train loss: 0.4884324082639068 test loss: 0.5202913880348206\n",
      "Epoch 666 train loss: 0.407092319522053 test loss: 0.7057351469993591\n",
      "Epoch 667 train loss: 0.5055315790232271 test loss: 0.6563288569450378\n",
      "Epoch 668 train loss: 0.3221785737201571 test loss: 0.34397387504577637\n",
      "Epoch 669 train loss: 0.6382356703747064 test loss: 0.5041056275367737\n",
      "Epoch 670 train loss: 0.5818705993704498 test loss: 0.48279523849487305\n",
      "Epoch 671 train loss: 0.2825712799560279 test loss: 1.7655857801437378\n",
      "Epoch 672 train loss: 0.4209286493714899 test loss: 0.6175023913383484\n",
      "Epoch 673 train loss: 0.36078767441213133 test loss: 0.28731590509414673\n",
      "Epoch 674 train loss: 0.41581692192703484 test loss: 0.4280809164047241\n",
      "Epoch 675 train loss: 0.522460300847888 test loss: 0.7956368923187256\n",
      "Epoch 676 train loss: 0.33105244003236295 test loss: 0.37750986218452454\n",
      "Epoch 677 train loss: 0.3114819168113172 test loss: 1.1417442560195923\n",
      "Epoch 678 train loss: 0.43338719867169856 test loss: 0.6818030476570129\n",
      "Epoch 679 train loss: 0.42639970178715886 test loss: 0.23083309829235077\n",
      "Epoch 680 train loss: 0.4192275403998792 test loss: 0.27436593174934387\n",
      "Epoch 681 train loss: 0.43479879084043205 test loss: 1.1983942985534668\n",
      "Epoch 682 train loss: 0.35787148950621483 test loss: 0.6353961825370789\n",
      "Epoch 683 train loss: 0.371208579884842 test loss: 0.6029573678970337\n",
      "Epoch 684 train loss: 0.4778772024437785 test loss: 0.44948965311050415\n",
      "Epoch 685 train loss: 0.3564282143022865 test loss: 0.7221624255180359\n",
      "Epoch 686 train loss: 0.3981698780786246 test loss: 0.4077829420566559\n",
      "Epoch 687 train loss: 0.532377763511613 test loss: 0.5667521357536316\n",
      "Epoch 688 train loss: 0.47271523443050684 test loss: 0.4348292350769043\n",
      "Epoch 689 train loss: 0.25851041653659196 test loss: 0.4482351541519165\n",
      "Epoch 690 train loss: 0.4250857568811625 test loss: 1.379215955734253\n",
      "Epoch 691 train loss: 0.3800977774662897 test loss: 0.3268228769302368\n",
      "Epoch 692 train loss: 0.3779893212020397 test loss: 0.7341914176940918\n",
      "Epoch 693 train loss: 0.5159052251838148 test loss: 0.5025522708892822\n",
      "Epoch 694 train loss: 0.38870528447441755 test loss: 0.4882199466228485\n",
      "Epoch 695 train loss: 0.42601923579350115 test loss: 0.7627760171890259\n",
      "Epoch 696 train loss: 0.3892501122318208 test loss: 0.4020494222640991\n",
      "Epoch 697 train loss: 0.43762025760952383 test loss: 0.7467579245567322\n",
      "Epoch 698 train loss: 0.31133486768230795 test loss: 0.41217365860939026\n",
      "Epoch 699 train loss: 0.4187061727978289 test loss: 0.4489321708679199\n",
      "Epoch 700 train loss: 0.5080870531965047 test loss: 1.585899829864502\n",
      "Epoch 701 train loss: 0.49109368519857527 test loss: 0.6672937870025635\n",
      "Epoch 702 train loss: 0.32357997316867115 test loss: 0.22124232351779938\n",
      "Epoch 703 train loss: 0.34675052096135917 test loss: 0.46965324878692627\n",
      "Epoch 704 train loss: 0.32398629202507434 test loss: 0.3662184774875641\n",
      "Epoch 705 train loss: 0.45261163837276397 test loss: 0.2800590991973877\n",
      "Epoch 706 train loss: 0.3091247416567057 test loss: 0.3480530083179474\n",
      "Epoch 707 train loss: 0.4192041012924165 test loss: 0.49155014753341675\n",
      "Epoch 708 train loss: 0.4135987408226356 test loss: 0.6088158488273621\n",
      "Epoch 709 train loss: 0.4485326771624386 test loss: 0.3614361882209778\n",
      "Epoch 710 train loss: 0.4141344714909792 test loss: 0.6735075116157532\n",
      "Epoch 711 train loss: 0.38837734251283107 test loss: 0.26220858097076416\n",
      "Epoch 712 train loss: 0.3787655951222405 test loss: 0.6799694299697876\n",
      "Epoch 713 train loss: 0.42019409509375694 test loss: 0.4677826166152954\n",
      "Epoch 714 train loss: 0.4433019934222102 test loss: 0.2743270695209503\n",
      "Epoch 715 train loss: 0.3280994823202491 test loss: 0.39866673946380615\n",
      "Epoch 716 train loss: 0.44170053680427374 test loss: 0.39000841975212097\n",
      "Epoch 717 train loss: 0.5227173018269241 test loss: 0.48363277316093445\n",
      "Epoch 718 train loss: 0.36566129107959566 test loss: 0.47362440824508667\n",
      "Epoch 719 train loss: 0.40573678789660333 test loss: 0.6777894496917725\n",
      "Epoch 720 train loss: 0.33588507571257653 test loss: 0.3199494183063507\n",
      "Epoch 721 train loss: 0.5275614000856876 test loss: 0.4742871820926666\n",
      "Epoch 722 train loss: 0.32992293341085316 test loss: 0.4833710491657257\n",
      "Epoch 723 train loss: 0.4090707150287926 test loss: 0.5281839966773987\n",
      "Epoch 724 train loss: 0.4878333295695484 test loss: 0.2919999957084656\n",
      "Epoch 725 train loss: 0.4518647298682481 test loss: 0.3645806610584259\n",
      "Epoch 726 train loss: 0.36905561937019227 test loss: 0.5785071849822998\n",
      "Epoch 727 train loss: 0.5251608300488442 test loss: 0.7231177091598511\n",
      "Epoch 728 train loss: 0.2564985144417733 test loss: 0.49706149101257324\n",
      "Epoch 729 train loss: 0.4058803998865187 test loss: 0.3314327597618103\n",
      "Epoch 730 train loss: 0.36120312120765447 test loss: 0.20835638046264648\n",
      "Epoch 731 train loss: 0.398647617502138 test loss: 0.438649982213974\n",
      "Epoch 732 train loss: 0.5165862278547138 test loss: 0.47890371084213257\n",
      "Epoch 733 train loss: 0.4857601390220225 test loss: 0.4232600927352905\n",
      "Epoch 734 train loss: 0.3019569537136704 test loss: 0.3791525661945343\n",
      "Epoch 735 train loss: 0.39436654644086955 test loss: 0.4747278094291687\n",
      "Epoch 736 train loss: 0.35985327740199863 test loss: 0.7955597043037415\n",
      "Epoch 737 train loss: 0.3607291605323553 test loss: 0.7307045459747314\n",
      "Epoch 738 train loss: 0.36424325527623297 test loss: 1.3634051084518433\n",
      "Epoch 739 train loss: 0.49509654976427553 test loss: 0.3981606364250183\n",
      "Epoch 740 train loss: 0.2960997451096773 test loss: 0.25524547696113586\n",
      "Epoch 741 train loss: 0.38325215680524705 test loss: 1.52354097366333\n",
      "Epoch 742 train loss: 0.3716703587211668 test loss: 0.564561128616333\n",
      "Epoch 743 train loss: 0.36344694886356593 test loss: 0.556185245513916\n",
      "Epoch 744 train loss: 0.3480178346857429 test loss: 0.5121372938156128\n",
      "Epoch 745 train loss: 0.43104448784142735 test loss: 0.32695114612579346\n",
      "Epoch 746 train loss: 0.5208404777571559 test loss: 0.39132291078567505\n",
      "Epoch 747 train loss: 0.3452620442956686 test loss: 0.34041255712509155\n",
      "Epoch 748 train loss: 0.3430366686778143 test loss: 0.5719724297523499\n",
      "Epoch 749 train loss: 0.4466109185945243 test loss: 0.4714551866054535\n",
      "Epoch 750 train loss: 0.35232227127999066 test loss: 0.7463140487670898\n",
      "Epoch 751 train loss: 0.50938516901806 test loss: 0.47105544805526733\n",
      "Epoch 752 train loss: 0.47328287358395754 test loss: 0.7766075134277344\n",
      "Epoch 753 train loss: 0.38693474712781606 test loss: 0.22933746874332428\n",
      "Epoch 754 train loss: 0.5405297080054879 test loss: 0.3878230154514313\n",
      "Epoch 755 train loss: 0.33434412740170955 test loss: 0.3077056109905243\n",
      "Epoch 756 train loss: 0.32264732047915456 test loss: 0.39897453784942627\n",
      "Epoch 757 train loss: 0.5732463099993765 test loss: 0.8330845832824707\n",
      "Epoch 758 train loss: 0.4018641230650246 test loss: 0.3143787086009979\n",
      "Epoch 759 train loss: 0.42508393921889365 test loss: 0.4267895817756653\n",
      "Epoch 760 train loss: 0.3052934575360268 test loss: 0.40524783730506897\n",
      "Epoch 761 train loss: 0.2568264619447291 test loss: 0.2636851370334625\n",
      "Epoch 762 train loss: 0.39862590716220436 test loss: 0.4413693845272064\n",
      "Epoch 763 train loss: 0.4732996205566451 test loss: 0.3738393187522888\n",
      "Epoch 764 train loss: 0.2671418841462582 test loss: 0.30267345905303955\n",
      "Epoch 765 train loss: 0.33766553001478317 test loss: 0.8407897353172302\n",
      "Epoch 766 train loss: 0.2852908981963992 test loss: 0.3210945427417755\n",
      "Epoch 767 train loss: 0.37542271353304385 test loss: 0.3057199716567993\n",
      "Epoch 768 train loss: 0.4253412310499698 test loss: 0.6466254591941833\n",
      "Epoch 769 train loss: 0.3352775703649968 test loss: 0.521289587020874\n",
      "Epoch 770 train loss: 0.4573700966546312 test loss: 0.4193427562713623\n",
      "Epoch 771 train loss: 0.4541589976288378 test loss: 0.5177066922187805\n",
      "Epoch 772 train loss: 0.40320654651150106 test loss: 0.38611289858818054\n",
      "Epoch 773 train loss: 0.43333414364606143 test loss: 0.5195708870887756\n",
      "Epoch 774 train loss: 0.32715680901892485 test loss: 1.3253782987594604\n",
      "Epoch 775 train loss: 0.4494344672653824 test loss: 0.38022083044052124\n",
      "Epoch 776 train loss: 0.47906025080010295 test loss: 0.5731289982795715\n",
      "Epoch 777 train loss: 0.4596888119354844 test loss: 0.4152701497077942\n",
      "Epoch 778 train loss: 0.2808423774782568 test loss: 0.3194175958633423\n",
      "Epoch 779 train loss: 0.29173081573098897 test loss: 0.478718101978302\n",
      "Epoch 780 train loss: 0.4690660414751619 test loss: 0.3870908319950104\n",
      "Epoch 781 train loss: 0.3784939699806273 test loss: 0.8059995174407959\n",
      "Epoch 782 train loss: 0.4150009065400809 test loss: 0.2739248275756836\n",
      "Epoch 783 train loss: 0.358632533159107 test loss: 0.35901758074760437\n",
      "Epoch 784 train loss: 0.42474407600238917 test loss: 0.5468600392341614\n",
      "Epoch 785 train loss: 0.3058547019260004 test loss: 0.7447761297225952\n",
      "Epoch 786 train loss: 0.3474036771338433 test loss: 0.22646479308605194\n",
      "Epoch 787 train loss: 0.3808254454284906 test loss: 0.7119267582893372\n",
      "Epoch 788 train loss: 0.4022548010572791 test loss: 0.4663156270980835\n",
      "Epoch 789 train loss: 0.38304264084436 test loss: 0.7451701760292053\n",
      "Epoch 790 train loss: 0.3832448730710894 test loss: 0.2518550753593445\n",
      "Epoch 791 train loss: 0.4810003955848515 test loss: 0.392904669046402\n",
      "Epoch 792 train loss: 0.4161405243910849 test loss: 0.5316374897956848\n",
      "Epoch 793 train loss: 0.42807223736308514 test loss: 0.6541171073913574\n",
      "Epoch 794 train loss: 0.3613194654462859 test loss: 0.6826509237289429\n",
      "Epoch 795 train loss: 0.47318291920237243 test loss: 0.7741579413414001\n",
      "Epoch 796 train loss: 0.322452535899356 test loss: 0.35536548495292664\n",
      "Epoch 797 train loss: 0.3038038703612983 test loss: 0.3297516703605652\n",
      "Epoch 798 train loss: 0.2797720589209348 test loss: 0.9580837488174438\n",
      "Epoch 799 train loss: 0.2995893720071763 test loss: 0.5769832730293274\n",
      "Epoch 800 train loss: 0.2667356878519058 test loss: 0.19123096764087677\n",
      "Epoch 801 train loss: 0.39999929247424004 test loss: 0.25440582633018494\n",
      "Epoch 802 train loss: 0.35056049027480185 test loss: 1.09186851978302\n",
      "Epoch 803 train loss: 0.35142515022307635 test loss: 0.35981494188308716\n",
      "Epoch 804 train loss: 0.4377881378866732 test loss: 0.5088937282562256\n",
      "Epoch 805 train loss: 0.37849850710481403 test loss: 0.5099417567253113\n",
      "Epoch 806 train loss: 0.4623938377480954 test loss: 0.8925799131393433\n",
      "Epoch 807 train loss: 0.4236022706143558 test loss: 0.49684426188468933\n",
      "Epoch 808 train loss: 0.4062403267249465 test loss: 0.4206122159957886\n",
      "Epoch 809 train loss: 0.4344397502951324 test loss: 0.8207343220710754\n",
      "Epoch 810 train loss: 0.3151729528326541 test loss: 0.4454174041748047\n",
      "Epoch 811 train loss: 0.3465376154985279 test loss: 0.3940419554710388\n",
      "Epoch 812 train loss: 0.3062263836618513 test loss: 0.7836498618125916\n",
      "Epoch 813 train loss: 0.33372021801769736 test loss: 0.624251127243042\n",
      "Epoch 814 train loss: 0.28029865650460123 test loss: 0.5557167530059814\n",
      "Epoch 815 train loss: 0.39128552516922355 test loss: 0.985135555267334\n",
      "Epoch 816 train loss: 0.33025964959524573 test loss: 1.0375823974609375\n",
      "Epoch 817 train loss: 0.5184034011792391 test loss: 0.5128777027130127\n",
      "Epoch 818 train loss: 0.4488395215012133 test loss: 0.4614887237548828\n",
      "Epoch 819 train loss: 0.3465319285634905 test loss: 0.9555491805076599\n",
      "Epoch 820 train loss: 0.4293211438227445 test loss: 0.3749522864818573\n",
      "Epoch 821 train loss: 0.5036176306195557 test loss: 0.4105526804924011\n",
      "Epoch 822 train loss: 0.3793091520201415 test loss: 0.5402764678001404\n",
      "Epoch 823 train loss: 0.4932359132915735 test loss: 0.8771497011184692\n",
      "Epoch 824 train loss: 0.37385920104570686 test loss: 0.5463704466819763\n",
      "Epoch 825 train loss: 0.3138531564036384 test loss: 0.3132149577140808\n",
      "Epoch 826 train loss: 0.3882549798116088 test loss: 0.74323970079422\n",
      "Epoch 827 train loss: 0.3894775469787419 test loss: 0.5868479609489441\n",
      "Epoch 828 train loss: 0.36710376197006556 test loss: 0.49034416675567627\n",
      "Epoch 829 train loss: 0.4433668086770922 test loss: 1.351277470588684\n",
      "Epoch 830 train loss: 0.3015782644972205 test loss: 0.6102119088172913\n",
      "Epoch 831 train loss: 0.41434121602214874 test loss: 0.6630612015724182\n",
      "Epoch 832 train loss: 0.4717909420840442 test loss: 0.39609193801879883\n",
      "Epoch 833 train loss: 0.24792424244806172 test loss: 0.26673436164855957\n",
      "Epoch 834 train loss: 0.32502374458126726 test loss: 0.734487771987915\n",
      "Epoch 835 train loss: 0.4145117773674428 test loss: 0.5387468934059143\n",
      "Epoch 836 train loss: 0.44469492794014515 test loss: 0.3277854919433594\n",
      "Epoch 837 train loss: 0.4840316186193377 test loss: 0.4607662558555603\n",
      "Epoch 838 train loss: 0.40075627085752785 test loss: 0.5294546484947205\n",
      "Epoch 839 train loss: 0.4378709927666932 test loss: 0.8425858020782471\n",
      "Epoch 840 train loss: 0.40884957839734853 test loss: 0.6876632571220398\n",
      "Epoch 841 train loss: 0.3481408253312111 test loss: 0.7929919958114624\n",
      "Epoch 842 train loss: 0.2815474678762257 test loss: 0.3609546720981598\n",
      "Epoch 843 train loss: 0.3765924524050206 test loss: 0.5595017075538635\n",
      "Epoch 844 train loss: 0.40147963343188164 test loss: 0.4264095723628998\n",
      "Epoch 845 train loss: 0.35883314702659846 test loss: 0.6052142381668091\n",
      "Epoch 846 train loss: 0.4597952228039503 test loss: 0.4286051094532013\n",
      "Epoch 847 train loss: 0.2950796449091285 test loss: 0.6351290941238403\n",
      "Epoch 848 train loss: 0.38200767543166875 test loss: 0.3425125181674957\n",
      "Epoch 849 train loss: 0.3791990176774561 test loss: 0.3981900215148926\n",
      "Epoch 850 train loss: 0.43335820571519434 test loss: 0.5253500938415527\n",
      "Epoch 851 train loss: 0.47075675083324314 test loss: 0.5101364850997925\n",
      "Epoch 852 train loss: 0.350343074882403 test loss: 0.38532334566116333\n",
      "Epoch 853 train loss: 0.19594134520739317 test loss: 0.4179131090641022\n",
      "Epoch 854 train loss: 0.3337944875005633 test loss: 0.49074405431747437\n",
      "Epoch 855 train loss: 0.4886134277563542 test loss: 0.4420629143714905\n",
      "Epoch 856 train loss: 0.4169643983244896 test loss: 0.41044557094573975\n",
      "Epoch 857 train loss: 0.3634725627489388 test loss: 0.43340668082237244\n",
      "Epoch 858 train loss: 0.6372122444678098 test loss: 0.5295234322547913\n",
      "Epoch 859 train loss: 0.3305332993157208 test loss: 0.4528549313545227\n",
      "Epoch 860 train loss: 0.3108665840700269 test loss: 0.41615191102027893\n",
      "Epoch 861 train loss: 0.35125082726590334 test loss: 0.39628463983535767\n",
      "Epoch 862 train loss: 0.564199845213443 test loss: 0.552581250667572\n",
      "Epoch 863 train loss: 0.4826131320092827 test loss: 0.18181930482387543\n",
      "Epoch 864 train loss: 0.32264229794964194 test loss: 1.1887154579162598\n",
      "Epoch 865 train loss: 0.4303745805751532 test loss: 0.2321459949016571\n",
      "Epoch 866 train loss: 0.39665481001138686 test loss: 0.7323293089866638\n",
      "Epoch 867 train loss: 0.3075413692742586 test loss: 0.4927280843257904\n",
      "Epoch 868 train loss: 0.6516915789339691 test loss: 0.28464704751968384\n",
      "Epoch 869 train loss: 0.37743988214060664 test loss: 0.2902684509754181\n",
      "Epoch 870 train loss: 0.5224547813879326 test loss: 0.6397547721862793\n",
      "Epoch 871 train loss: 0.49643430653959514 test loss: 0.6003557443618774\n",
      "Epoch 872 train loss: 0.3905856088269502 test loss: 0.4525596499443054\n",
      "Epoch 873 train loss: 0.40379310632124543 test loss: 0.841805100440979\n",
      "Epoch 874 train loss: 0.6214937680400908 test loss: 0.4384845197200775\n",
      "Epoch 875 train loss: 0.39628944704309105 test loss: 0.4438757598400116\n",
      "Epoch 876 train loss: 0.3268007680773735 test loss: 0.3190774917602539\n",
      "Epoch 877 train loss: 0.3116448366548866 test loss: 0.3636036217212677\n",
      "Epoch 878 train loss: 0.3867713114246726 test loss: 0.5793733596801758\n",
      "Epoch 879 train loss: 0.5089977849740535 test loss: 0.40805742144584656\n",
      "Epoch 880 train loss: 0.3783228924963623 test loss: 0.30043697357177734\n",
      "Epoch 881 train loss: 0.4189790895674378 test loss: 0.3711704909801483\n",
      "Epoch 882 train loss: 0.31480715349316596 test loss: 0.3201974630355835\n",
      "Epoch 883 train loss: 0.34650112041272224 test loss: 0.30451589822769165\n",
      "Epoch 884 train loss: 0.39855762384831905 test loss: 0.5889303088188171\n",
      "Epoch 885 train loss: 0.36932060681283474 test loss: 0.6468194723129272\n",
      "Epoch 886 train loss: 0.26598679535090924 test loss: 0.22384203970432281\n",
      "Epoch 887 train loss: 0.32399329943582417 test loss: 0.2883373200893402\n",
      "Epoch 888 train loss: 0.29700217992067335 test loss: 0.9942602515220642\n",
      "Epoch 889 train loss: 0.4499627473764122 test loss: 0.38631874322891235\n",
      "Epoch 890 train loss: 0.3645043144468218 test loss: 0.5140114426612854\n",
      "Epoch 891 train loss: 0.4334634767845273 test loss: 0.5701388716697693\n",
      "Epoch 892 train loss: 0.3772944391705096 test loss: 0.677616536617279\n",
      "Epoch 893 train loss: 0.3234401833731681 test loss: 0.8674308061599731\n",
      "Epoch 894 train loss: 0.4121436977759004 test loss: 0.7641041874885559\n",
      "Epoch 895 train loss: 0.287358862766996 test loss: 0.39475101232528687\n",
      "Epoch 896 train loss: 0.3722886714152992 test loss: 0.47719529271125793\n",
      "Epoch 897 train loss: 0.3961336515378207 test loss: 0.20519648492336273\n",
      "Epoch 898 train loss: 0.5401279975194484 test loss: 0.24648183584213257\n",
      "Epoch 899 train loss: 0.50457191739697 test loss: 0.4544983506202698\n",
      "Epoch 900 train loss: 0.43150705490261315 test loss: 0.4996532201766968\n",
      "Epoch 901 train loss: 0.41613518372178077 test loss: 0.5941640734672546\n",
      "Epoch 902 train loss: 0.4504216881468892 test loss: 0.22452270984649658\n",
      "Epoch 903 train loss: 0.28903577618766574 test loss: 0.478672593832016\n",
      "Epoch 904 train loss: 0.29566842545755206 test loss: 0.3591064512729645\n",
      "Epoch 905 train loss: 0.43648944133892653 test loss: 0.3773796260356903\n",
      "Epoch 906 train loss: 0.34295355109497905 test loss: 0.3562062978744507\n",
      "Epoch 907 train loss: 0.32323702494613826 test loss: 0.5815389752388\n",
      "Epoch 908 train loss: 0.38738053049892185 test loss: 0.9287761449813843\n",
      "Epoch 909 train loss: 0.5808728101663292 test loss: 0.39702096581459045\n",
      "Epoch 910 train loss: 0.43485457566566765 test loss: 0.2981155514717102\n",
      "Epoch 911 train loss: 0.3718900281470269 test loss: 0.4406898021697998\n",
      "Epoch 912 train loss: 0.39603691971860827 test loss: 0.6311210989952087\n",
      "Epoch 913 train loss: 0.26866384330205617 test loss: 0.385631799697876\n",
      "Epoch 914 train loss: 0.4266894487198442 test loss: 0.517269492149353\n",
      "Epoch 915 train loss: 0.43789675044827164 test loss: 0.5257566571235657\n",
      "Epoch 916 train loss: 0.48231349417474123 test loss: 0.3604777157306671\n",
      "Epoch 917 train loss: 0.38819713769480585 test loss: 1.1461172103881836\n",
      "Epoch 918 train loss: 0.3032877031248063 test loss: 1.0114662647247314\n",
      "Epoch 919 train loss: 0.4407476923428476 test loss: 0.5143299698829651\n",
      "Epoch 920 train loss: 0.40350623964332044 test loss: 0.6141912937164307\n",
      "Epoch 921 train loss: 0.3417119157500565 test loss: 0.16193923354148865\n",
      "Epoch 922 train loss: 0.38220735592767596 test loss: 0.35811910033226013\n",
      "Epoch 923 train loss: 0.3017139660194516 test loss: 0.8496372699737549\n",
      "Epoch 924 train loss: 0.4318150400184095 test loss: 0.4903748333454132\n",
      "Epoch 925 train loss: 0.36464852625504135 test loss: 0.5856030583381653\n",
      "Epoch 926 train loss: 0.33170032147318124 test loss: 0.5919781923294067\n",
      "Epoch 927 train loss: 0.3965416620019823 test loss: 0.4890318214893341\n",
      "Epoch 928 train loss: 0.38778034476563333 test loss: 0.3650183081626892\n",
      "Epoch 929 train loss: 0.32574113719165326 test loss: 0.4479435086250305\n",
      "Epoch 930 train loss: 0.4286395302973688 test loss: 0.5126864910125732\n",
      "Epoch 931 train loss: 0.4224068828392774 test loss: 0.36298784613609314\n",
      "Epoch 932 train loss: 0.34755135697778317 test loss: 1.3104994297027588\n",
      "Epoch 933 train loss: 0.41443457803688943 test loss: 0.5952563285827637\n",
      "Epoch 934 train loss: 0.43073810448404404 test loss: 0.23033824563026428\n",
      "Epoch 935 train loss: 0.44197099674493073 test loss: 0.692713737487793\n",
      "Epoch 936 train loss: 0.386781114153564 test loss: 0.35938283801078796\n",
      "Epoch 937 train loss: 0.4753767771180719 test loss: 0.41354548931121826\n",
      "Epoch 938 train loss: 0.2902884494047612 test loss: 0.4575151801109314\n",
      "Epoch 939 train loss: 0.2971732803154737 test loss: 0.29487064480781555\n",
      "Epoch 940 train loss: 0.33954901024699213 test loss: 0.4619121253490448\n",
      "Epoch 941 train loss: 0.39868119535967705 test loss: 1.0665678977966309\n",
      "Epoch 942 train loss: 0.2103094699792564 test loss: 0.6805003881454468\n",
      "Epoch 943 train loss: 0.3565525645390153 test loss: 0.35200929641723633\n",
      "Epoch 944 train loss: 0.40163325066678224 test loss: 0.4210445284843445\n",
      "Epoch 945 train loss: 0.2622926328331232 test loss: 0.8826263546943665\n",
      "Epoch 946 train loss: 0.4274871794972569 test loss: 0.43281906843185425\n",
      "Epoch 947 train loss: 0.38727990151382985 test loss: 0.2567875385284424\n",
      "Epoch 948 train loss: 0.3863787260837853 test loss: 0.4047074019908905\n",
      "Epoch 949 train loss: 0.34596131797879937 test loss: 0.43289047479629517\n",
      "Epoch 950 train loss: 0.6497095133643598 test loss: 0.31846845149993896\n",
      "Epoch 951 train loss: 0.3890484621748328 test loss: 0.5200911164283752\n",
      "Epoch 952 train loss: 0.4828153652604669 test loss: 0.2922341227531433\n",
      "Epoch 953 train loss: 0.36593264644034207 test loss: 0.7930506467819214\n",
      "Epoch 954 train loss: 0.4668690265156329 test loss: 0.2590286433696747\n",
      "Epoch 955 train loss: 0.2417380586732179 test loss: 0.756439208984375\n",
      "Epoch 956 train loss: 0.307642824947834 test loss: 0.2610516846179962\n",
      "Epoch 957 train loss: 0.37932501565665006 test loss: 0.6325575113296509\n",
      "Epoch 958 train loss: 0.32138877250254155 test loss: 0.33993369340896606\n",
      "Epoch 959 train loss: 0.4246381653472781 test loss: 0.5393843650817871\n",
      "Epoch 960 train loss: 0.36336648939177396 test loss: 0.46972572803497314\n",
      "Epoch 961 train loss: 0.6203034121077508 test loss: 0.5235845446586609\n",
      "Epoch 962 train loss: 0.394960319949314 test loss: 0.2832140028476715\n",
      "Epoch 963 train loss: 0.31284582493826746 test loss: 0.7146608829498291\n",
      "Epoch 964 train loss: 0.38187591526657344 test loss: 0.6474400758743286\n",
      "Epoch 965 train loss: 0.3251799767836928 test loss: 0.5111552476882935\n",
      "Epoch 966 train loss: 0.41442506457678974 test loss: 0.4391952157020569\n",
      "Epoch 967 train loss: 0.37663953681476414 test loss: 0.43828436732292175\n",
      "Epoch 968 train loss: 0.4189565818523988 test loss: 0.2848632335662842\n",
      "Epoch 969 train loss: 0.4084139517042786 test loss: 0.4210333228111267\n",
      "Epoch 970 train loss: 0.39977567475289105 test loss: 0.36933356523513794\n",
      "Epoch 971 train loss: 0.5852538287639618 test loss: 0.6251478791236877\n",
      "Epoch 972 train loss: 0.44686501249670985 test loss: 0.1997293382883072\n",
      "Epoch 973 train loss: 0.29836670830845835 test loss: 0.5377656817436218\n",
      "Epoch 974 train loss: 0.45669026719406247 test loss: 0.4329868257045746\n",
      "Epoch 975 train loss: 0.3828282095491886 test loss: 0.11693563312292099\n",
      "Epoch 976 train loss: 0.3691110710147768 test loss: 0.5253941416740417\n",
      "Epoch 977 train loss: 0.42579241226194425 test loss: 0.6568010449409485\n",
      "Epoch 978 train loss: 0.4276678301393986 test loss: 0.40605518221855164\n",
      "Epoch 979 train loss: 0.3394793601240963 test loss: 0.25374194979667664\n",
      "Epoch 980 train loss: 0.526154170697555 test loss: 0.36620885133743286\n",
      "Epoch 981 train loss: 0.39032979600597173 test loss: 0.3307391107082367\n",
      "Epoch 982 train loss: 0.41709141633473334 test loss: 0.27357378602027893\n",
      "Epoch 983 train loss: 0.5459620325127617 test loss: 0.7107453942298889\n",
      "Epoch 984 train loss: 0.359637576341629 test loss: 0.33210331201553345\n",
      "Epoch 985 train loss: 0.38992179511114955 test loss: 0.37867918610572815\n",
      "Epoch 986 train loss: 0.3827407452277839 test loss: 0.39402276277542114\n",
      "Epoch 987 train loss: 0.4475433984771371 test loss: 0.5227229595184326\n",
      "Epoch 988 train loss: 0.2830744104459882 test loss: 0.9576295018196106\n",
      "Epoch 989 train loss: 0.29921369566582146 test loss: 0.6247084140777588\n",
      "Epoch 990 train loss: 0.39805039428174493 test loss: 0.3332144021987915\n",
      "Epoch 991 train loss: 0.29616046492010356 test loss: 0.5699666142463684\n",
      "Epoch 992 train loss: 0.3311494161374867 test loss: 0.36493247747421265\n",
      "Epoch 993 train loss: 0.522840364696458 test loss: 0.45688775181770325\n",
      "Epoch 994 train loss: 0.47147818868979813 test loss: 0.2576335072517395\n",
      "Epoch 995 train loss: 0.49174471623264254 test loss: 1.2968703508377075\n",
      "Epoch 996 train loss: 0.41436462034471333 test loss: 0.2378975749015808\n",
      "Epoch 997 train loss: 0.5214123301208019 test loss: 0.4159523844718933\n",
      "Epoch 998 train loss: 0.45066807814873755 test loss: 0.6688562631607056\n",
      "Epoch 999 train loss: 0.3038668395485729 test loss: 0.7652100920677185\n"
     ]
    }
   ],
   "source": [
    "best_valid_loss = float('inf')\n",
    "loss_train = []\n",
    "loss_test= []\n",
    "for i, model in enumerate(models):\n",
    "    print(f\"Training {type(model).__name__}\")\n",
    "    \n",
    "    #start_time = time.time()\n",
    "\n",
    "    for epoch in range(N_EPOCHS):\n",
    "        #start_time = time.time()\n",
    "        loss  = train(model, train_iterator, optimizer, criterion) \n",
    "        test_loss = test(model, test_iterator, optimizer, criterion)\n",
    "        print(f'Epoch {epoch} train loss: {loss} test loss: {test_loss}') \n",
    "        loss_train.append(loss)\n",
    "        loss_test.append(test_loss)\n",
    "        \n",
    "        # if epoch % 50 == 0:\n",
    "        #     clear_output(wait=True)\n",
    "            \n",
    "        # if test_loss  < best_valid_loss:\n",
    "        #         best_valid_loss = test_loss\n",
    "        #         torch.save(model.state_dict(), f'./drive/Shareddrives/BI&A/Prediction_Code/models/TCN/{name}.pt')"
   ]
  },
  {
   "cell_type": "code",
   "execution_count": 50,
   "id": "72a1cc4c-8aa1-4d0e-8519-bee36c293b40",
   "metadata": {
    "executionInfo": {
     "elapsed": 57917,
     "status": "aborted",
     "timestamp": 1619509212338,
     "user": {
      "displayName": "Sitiporn Saelim",
      "photoUrl": "",
      "userId": "04392232392828254116"
     },
     "user_tz": -420
    },
    "id": "72a1cc4c-8aa1-4d0e-8519-bee36c293b40"
   },
   "outputs": [
    {
     "data": {
      "text/plain": [
       "<matplotlib.legend.Legend at 0x7fac3d8dd320>"
      ]
     },
     "execution_count": 50,
     "metadata": {},
     "output_type": "execute_result"
    },
    {
     "data": {
      "image/png": "[encoded data removed]",
      "text/plain": [
       "<matplotlib.figure.Figure at 0x7fac3fb74f98>"
      ]
     },
     "metadata": {
      "needs_background": "light"
     },
     "output_type": "display_data"
    }
   ],
   "source": [
    "plt.figure(figsize=(30, 10))\n",
    "plt.plot(loss_train)\n",
    "plt.plot(loss_test)\n",
    "plt.legend(['loss_train','loss_test'])"
   ]
  },
  {
   "cell_type": "markdown",
   "id": "o10jSvM5Nh-r",
   "metadata": {
    "id": "o10jSvM5Nh-r"
   },
   "source": [
    "# Predicted daily case"
   ]
  },
  {
   "cell_type": "code",
   "execution_count": 51,
   "id": "25078c02-a8be-4f1e-a706-2ec7cd3c8a27",
   "metadata": {
    "executionInfo": {
     "elapsed": 57915,
     "status": "aborted",
     "timestamp": 1619509212340,
     "user": {
      "displayName": "Sitiporn Saelim",
      "photoUrl": "",
      "userId": "04392232392828254116"
     },
     "user_tz": -420
    },
    "id": "25078c02-a8be-4f1e-a706-2ec7cd3c8a27"
   },
   "outputs": [
    {
     "name": "stderr",
     "output_type": "stream",
     "text": [
      "/usr/local/lib/python3.6/dist-packages/torch/nn/modules/loss.py:528: UserWarning: Using a target size (torch.Size([1])) that is different to the input size (torch.Size([1, 1])). This will likely lead to incorrect results due to broadcasting. Please ensure they have the same size.\n",
      "  return F.mse_loss(input, target, reduction=self.reduction)\n"
     ]
    }
   ],
   "source": [
    "with torch.no_grad():\n",
    "  test_seq = X_test[:1]\n",
    "  preds = []\n",
    "  test_losses = []\n",
    "  for i in range(len(X_test)):\n",
    "    y_test_pred = model(test_seq.to(device))\n",
    "    test_loss = criterion(y_test_pred.float(), y_test[i].to(device))\n",
    "    test_losses.append(test_loss.item())\n",
    "    pred = torch.flatten(y_test_pred).item()\n",
    "    preds.append(pred)\n",
    "    new_seq = test_seq.cpu().numpy().flatten()\n",
    "    new_seq = np.append(new_seq, [pred])\n",
    "    new_seq = new_seq[1:]\n",
    "    test_seq = torch.as_tensor(new_seq).view(1, 1, seq_length).float()"
   ]
  },
  {
   "cell_type": "code",
   "execution_count": 52,
   "id": "38ebdf50-f85d-4aac-844d-7c073681c1bf",
   "metadata": {
    "executionInfo": {
     "elapsed": 57914,
     "status": "aborted",
     "timestamp": 1619509212341,
     "user": {
      "displayName": "Sitiporn Saelim",
      "photoUrl": "",
      "userId": "04392232392828254116"
     },
     "user_tz": -420
    },
    "id": "38ebdf50-f85d-4aac-844d-7c073681c1bf"
   },
   "outputs": [],
   "source": [
    "true_cases = scaler.inverse_transform(\n",
    "    np.expand_dims(y_test.cpu().flatten().numpy(), axis=0)\n",
    ").flatten()\n",
    "\n",
    "test_case = scaler.inverse_transform(test_data).flatten()\n",
    "\n",
    "predicted_cases = scaler.inverse_transform(\n",
    "  np.expand_dims(preds, axis=0)\n",
    ").flatten()"
   ]
  },
  {
   "cell_type": "code",
   "execution_count": 54,
   "id": "3e9e4d32-28c1-4c59-8ed5-81487b19f8bb",
   "metadata": {},
   "outputs": [
    {
     "data": {
      "text/plain": [
       "array([27631.69155599, 15267.14533953, 21626.50389234, 11184.45002544,\n",
       "       27496.14349867, 17617.05348924, 35677.84846641, 17721.26759109,\n",
       "       15860.58655722, 30962.17150894, 20776.0300994 , 16853.54216319,\n",
       "        9660.67504029,  6534.47471712, 14008.67865525,  6534.47471712,\n",
       "       12988.95408042,  8083.97426464, 12062.5350032 ,  8584.75587926,\n",
       "        6534.47471712, 11591.93083773,  5898.97214821,  5970.37694937,\n",
       "        3518.47703284,  6534.47471712,  6534.47471712,  6534.47471712,\n",
       "        6590.88374559,  5179.8526466 ,  8140.08367551, 10489.7195723 ,\n",
       "        7338.26032656,  5595.31294165,  2531.09384464,  5203.65551863,\n",
       "        2496.16917328,  5941.4469776 ,  6534.47471712,  2260.81060046,\n",
       "        5643.2065651 ,  3917.99905096,  5466.81088659,  5051.20474439,\n",
       "        6534.47471712,  2082.56483464,  2958.88086542,  4494.29515787,\n",
       "        6534.47471712,  6534.47471712,  6534.47471712,  4937.69706811,\n",
       "        4313.60901994,  4232.68086905])"
      ]
     },
     "execution_count": 54,
     "metadata": {},
     "output_type": "execute_result"
    }
   ],
   "source": [
    "predicted_cases"
   ]
  },
  {
   "cell_type": "code",
   "execution_count": 53,
   "id": "2dc939c0-2540-4c7d-8534-6568449693df",
   "metadata": {
    "executionInfo": {
     "elapsed": 57908,
     "status": "aborted",
     "timestamp": 1619509212341,
     "user": {
      "displayName": "Sitiporn Saelim",
      "photoUrl": "",
      "userId": "04392232392828254116"
     },
     "user_tz": -420
    },
    "id": "2dc939c0-2540-4c7d-8534-6568449693df"
   },
   "outputs": [
    {
     "name": "stderr",
     "output_type": "stream",
     "text": [
      "/usr/lib/python3/dist-packages/matplotlib/cbook/__init__.py:2019: FutureWarning: Support for multi-dimensional indexing (e.g. `obj[:, None]`) is deprecated and will be removed in a future version.  Convert to a numpy array before indexing instead.\n",
      "  x[:, None]\n",
      "/usr/lib/python3/dist-packages/matplotlib/axes/_base.py:249: FutureWarning: Support for multi-dimensional indexing (e.g. `obj[:, None]`) is deprecated and will be removed in a future version.  Convert to a numpy array before indexing instead.\n",
      "  x = x[:, np.newaxis]\n"
     ]
    },
    {
     "data": {
      "image/png": "[encoded data removed]",
      "text/plain": [
       "<matplotlib.figure.Figure at 0x7fac3fcdb320>"
      ]
     },
     "metadata": {
      "needs_background": "light"
     },
     "output_type": "display_data"
    }
   ],
   "source": [
    "plt.figure(figsize=(20,10))\n",
    "plt.title(f\"Daily cases :{STATE}\\nmodel:{name}\")\n",
    "plt.plot(\n",
    "  df_clean.index[:len(train_data)], \n",
    "  scaler.inverse_transform(train_data).flatten(),\n",
    "  label='Historical Daily Cases'\n",
    ")\n",
    "\n",
    "plt.plot(\n",
    "  df_clean.index[len(train_data):len(train_data)+len(test_data)], \n",
    "  test_case,\n",
    "  label='Real Daily Cases'\n",
    ")\n",
    "\n",
    "# plt.plot(\n",
    "#   df_clean.index[len(train_data):len(train_data)+len(test_data)], \n",
    "#   test_data,\n",
    "#   label='Scale Daily Cases'\n",
    "# )\n",
    "\n",
    "plt.plot(\n",
    "  df_clean.index[len(train_data)+seq_length+1:len(train_data)+len(test_data)], \n",
    "  predicted_cases, \n",
    "  label='Predicted Daily Cases'\n",
    ")\n",
    "\n",
    "# plt.plot(\n",
    "#   df_clean.index[len(train_data)+seq_length+1:len(train_data)+len(test_data)], \n",
    "#   (np.asarray(preds)), \n",
    "#   label='Original Predicted Daily Cases'\n",
    "# )\n",
    "\n",
    "plt.legend();"
   ]
  },
  {
   "cell_type": "code",
   "execution_count": 1,
   "id": "7QUg2uOaANja",
   "metadata": {
    "executionInfo": {
     "elapsed": 57908,
     "status": "aborted",
     "timestamp": 1619509212343,
     "user": {
      "displayName": "Sitiporn Saelim",
      "photoUrl": "",
      "userId": "04392232392828254116"
     },
     "user_tz": -420
    },
    "id": "7QUg2uOaANja"
   },
   "outputs": [
    {
     "ename": "NameError",
     "evalue": "name 'predicted_cases' is not defined",
     "output_type": "error",
     "traceback": [
      "\u001b[0;31m---------------------------------------------------------------------------\u001b[0m",
      "\u001b[0;31mNameError\u001b[0m                                 Traceback (most recent call last)",
      "\u001b[0;32m<ipython-input-1-fc3f7dfba600>\u001b[0m in \u001b[0;36m<module>\u001b[0;34m\u001b[0m\n\u001b[0;32m----> 1\u001b[0;31m \u001b[0mpredicted_cases\u001b[0m\u001b[0;34m\u001b[0m\u001b[0;34m\u001b[0m\u001b[0m\n\u001b[0m",
      "\u001b[0;31mNameError\u001b[0m: name 'predicted_cases' is not defined"
     ]
    }
   ],
   "source": [
    "predicted_cases"
   ]
  },
  {
   "cell_type": "code",
   "execution_count": 56,
   "id": "9fd514ee-a567-459b-8a7e-1696b8e7fec5",
   "metadata": {},
   "outputs": [],
   "source": [
    "#np.savetxt('TCN_California.csv', predicted_cases, delimiter=',')"
   ]
  },
  {
   "cell_type": "code",
   "execution_count": null,
   "id": "1f0bef41-9cae-493b-b914-d8e7f87017d2",
   "metadata": {},
   "outputs": [],
   "source": [
    "with torch.no_grad():\n",
    "  test_seq = X_test[:1]\n",
    "  preds = []\n",
    "  test_losses = []\n",
    "  for i in range(len(X_test)):\n",
    "    y_test_pred = model(test_seq.to(device))\n",
    "    test_loss = criterion(y_test_pred.float(), y_test[i].to(device))\n",
    "    test_losses.append(test_loss.item())\n",
    "    pred = torch.flatten(y_test_pred).item()\n",
    "    preds.append(pred)\n",
    "    new_seq = test_seq.cpu().numpy().flatten()\n",
    "    new_seq = np.append(new_seq, [pred])\n",
    "    new_seq = new_seq[1:]\n",
    "    test_seq = torch.as_tensor(new_seq).view(1, 1, seq_length).float()"
   ]
  }
 ],
 "metadata": {
  "accelerator": "GPU",
  "colab": {
   "name": "2.2_TCN_California.ipynb",
   "provenance": []
  },
  "kernelspec": {
   "display_name": "Python 3",
   "language": "python",
   "name": "python3"
  },
  "language_info": {
   "codemirror_mode": {
    "name": "ipython",
    "version": 3
   },
   "file_extension": ".py",
   "mimetype": "text/x-python",
   "name": "python",
   "nbconvert_exporter": "python",
   "pygments_lexer": "ipython3",
   "version": "3.6.9"
  }
 },
 "nbformat": 4,
 "nbformat_minor": 5
}
