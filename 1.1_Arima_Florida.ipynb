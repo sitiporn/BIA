{
 "cells": [
  {
   "cell_type": "code",
   "execution_count": 1,
   "id": "ZymfhJQ_63Lj",
   "metadata": {
    "colab": {
     "base_uri": "https://localhost:8080/"
    },
    "executionInfo": {
     "elapsed": 33083,
     "status": "ok",
     "timestamp": 1619509187255,
     "user": {
      "displayName": "Sitiporn Saelim",
      "photoUrl": "",
      "userId": "04392232392828254116"
     },
     "user_tz": -420
    },
    "id": "ZymfhJQ_63Lj",
    "outputId": "10bc1c00-f2bc-4f1b-f4a8-2fd51e72d47f"
   },
   "outputs": [],
   "source": [
    "# from google.colab import drive\n",
    "# drive.mount('/content/drive')"
   ]
  },
  {
   "cell_type": "code",
   "execution_count": 2,
   "id": "96b5819f-e8ac-4c3c-9c28-93afb6ac738f",
   "metadata": {
    "executionInfo": {
     "elapsed": 37627,
     "status": "ok",
     "timestamp": 1619509191805,
     "user": {
      "displayName": "Sitiporn Saelim",
      "photoUrl": "",
      "userId": "04392232392828254116"
     },
     "user_tz": -420
    },
    "id": "96b5819f-e8ac-4c3c-9c28-93afb6ac738f"
   },
   "outputs": [],
   "source": [
    "import numpy as np\n",
    "import pandas as pd\n",
    "import torch\n",
    "import torch.nn as nn\n",
    "import torch.nn.functional as F\n",
    "import torch.optim as optim\n",
    "from torch.utils.data import TensorDataset, DataLoader\n",
    "from sklearn.preprocessing import MinMaxScaler, StandardScaler\n",
    "import matplotlib.pyplot as plt\n",
    "from tqdm import tqdm"
   ]
  },
  {
   "cell_type": "code",
   "execution_count": 3,
   "id": "f788572f-61f5-4edd-a4b7-ba8c292c8589",
   "metadata": {
    "executionInfo": {
     "elapsed": 37626,
     "status": "ok",
     "timestamp": 1619509191807,
     "user": {
      "displayName": "Sitiporn Saelim",
      "photoUrl": "",
      "userId": "04392232392828254116"
     },
     "user_tz": -420
    },
    "id": "f788572f-61f5-4edd-a4b7-ba8c292c8589"
   },
   "outputs": [],
   "source": [
    "##===\n",
    "# Select state we want to predict\n",
    "# New York , California , Florida , Texas\n",
    "STATE = 'Florida'\n",
    "\n",
    "WEIGHTDECAY = 0\n",
    "TRAIN = True\n",
    "seq_length = 21\n",
    "N_EPOCHS = 1000\n",
    "device = torch.device('cuda' if torch.cuda.is_available() else 'cpu')\n",
    "##===\n",
    "\n",
    "#### Model Config ===\n",
    "# channel_config = np.array([[1,64,128],[128,64,64],[64,32,1]])\n",
    "#channel_config = np.array([[1,7,14],[14,7,7],[7,4,1]])\n",
    "channel_config = np.array([[1,7,14],[14,21,14],[14,7,1]])"
   ]
  },
  {
   "cell_type": "markdown",
   "id": "ad882fe1-7a80-4ca8-9a54-82dc294c48df",
   "metadata": {
    "id": "ad882fe1-7a80-4ca8-9a54-82dc294c48df"
   },
   "source": [
    "## Data frame Format"
   ]
  },
  {
   "cell_type": "markdown",
   "id": "de64a227-a629-42e1-99b6-333734cca580",
   "metadata": {
    "id": "de64a227-a629-42e1-99b6-333734cca580"
   },
   "source": [
    "### Import Data from CSV file"
   ]
  },
  {
   "cell_type": "code",
   "execution_count": 4,
   "id": "5e908914-f968-489e-a2a5-ef500dc4001f",
   "metadata": {
    "executionInfo": {
     "elapsed": 46165,
     "status": "ok",
     "timestamp": 1619509200353,
     "user": {
      "displayName": "Sitiporn Saelim",
      "photoUrl": "",
      "userId": "04392232392828254116"
     },
     "user_tz": -420
    },
    "id": "5e908914-f968-489e-a2a5-ef500dc4001f"
   },
   "outputs": [],
   "source": [
    "#df = pd.read_excel(\"./drive/Shareddrives/BI&A/Data/Cleaned Data.xlsx\")\n",
    "df = pd.read_csv('Cleaned_data.csv')"
   ]
  },
  {
   "cell_type": "code",
   "execution_count": 5,
   "id": "344a4ff7-ad56-4738-93fa-6fadca83fe0f",
   "metadata": {
    "colab": {
     "base_uri": "https://localhost:8080/",
     "height": 226
    },
    "executionInfo": {
     "elapsed": 46152,
     "status": "ok",
     "timestamp": 1619509200354,
     "user": {
      "displayName": "Sitiporn Saelim",
      "photoUrl": "",
      "userId": "04392232392828254116"
     },
     "user_tz": -420
    },
    "id": "344a4ff7-ad56-4738-93fa-6fadca83fe0f",
    "outputId": "1cb3b9b8-2571-4898-ed91-0a08754b3570"
   },
   "outputs": [
    {
     "data": {
      "text/html": [
       "<div>\n",
       "<style scoped>\n",
       "    .dataframe tbody tr th:only-of-type {\n",
       "        vertical-align: middle;\n",
       "    }\n",
       "\n",
       "    .dataframe tbody tr th {\n",
       "        vertical-align: top;\n",
       "    }\n",
       "\n",
       "    .dataframe thead th {\n",
       "        text-align: right;\n",
       "    }\n",
       "</style>\n",
       "<table border=\"1\" class=\"dataframe\">\n",
       "  <thead>\n",
       "    <tr style=\"text-align: right;\">\n",
       "      <th></th>\n",
       "      <th>date</th>\n",
       "      <th>state</th>\n",
       "      <th>fips</th>\n",
       "      <th>cases</th>\n",
       "      <th>daily_cases</th>\n",
       "      <th>deaths</th>\n",
       "      <th>daily_deaths</th>\n",
       "      <th>total_vaccinations</th>\n",
       "      <th>total_distributed</th>\n",
       "      <th>daily_distributed</th>\n",
       "      <th>total_people_vaccinated</th>\n",
       "      <th>daily_people_vaccinated</th>\n",
       "      <th>total_people_fully_vaccinated</th>\n",
       "      <th>daily_people_fully_vaccinated</th>\n",
       "      <th>daily_vaccinations</th>\n",
       "      <th>mobility_composite</th>\n",
       "    </tr>\n",
       "  </thead>\n",
       "  <tbody>\n",
       "    <tr>\n",
       "      <th>0</th>\n",
       "      <td>3/13/2021</td>\n",
       "      <td>Alabama</td>\n",
       "      <td>1</td>\n",
       "      <td>503305</td>\n",
       "      <td>594</td>\n",
       "      <td>10327</td>\n",
       "      <td>28</td>\n",
       "      <td>1288242</td>\n",
       "      <td>1918560.0</td>\n",
       "      <td>80160.0</td>\n",
       "      <td>841394.0</td>\n",
       "      <td>24976.0</td>\n",
       "      <td>492755.0</td>\n",
       "      <td>20430.0</td>\n",
       "      <td>26,935</td>\n",
       "      <td>-1.013041</td>\n",
       "    </tr>\n",
       "    <tr>\n",
       "      <th>1</th>\n",
       "      <td>3/12/2021</td>\n",
       "      <td>Alabama</td>\n",
       "      <td>1</td>\n",
       "      <td>502711</td>\n",
       "      <td>448</td>\n",
       "      <td>10299</td>\n",
       "      <td>25</td>\n",
       "      <td>1249205</td>\n",
       "      <td>1838400.0</td>\n",
       "      <td>22170.0</td>\n",
       "      <td>816418.0</td>\n",
       "      <td>25554.0</td>\n",
       "      <td>472325.0</td>\n",
       "      <td>19579.0</td>\n",
       "      <td>26,375</td>\n",
       "      <td>-1.013041</td>\n",
       "    </tr>\n",
       "    <tr>\n",
       "      <th>2</th>\n",
       "      <td>3/11/2021</td>\n",
       "      <td>Alabama</td>\n",
       "      <td>1</td>\n",
       "      <td>502263</td>\n",
       "      <td>865</td>\n",
       "      <td>10274</td>\n",
       "      <td>52</td>\n",
       "      <td>1209802</td>\n",
       "      <td>1816230.0</td>\n",
       "      <td>40570.0</td>\n",
       "      <td>790864.0</td>\n",
       "      <td>22362.0</td>\n",
       "      <td>452746.0</td>\n",
       "      <td>17728.0</td>\n",
       "      <td>25,376</td>\n",
       "      <td>-1.013041</td>\n",
       "    </tr>\n",
       "    <tr>\n",
       "      <th>3</th>\n",
       "      <td>3/10/2021</td>\n",
       "      <td>Alabama</td>\n",
       "      <td>1</td>\n",
       "      <td>501398</td>\n",
       "      <td>782</td>\n",
       "      <td>10222</td>\n",
       "      <td>36</td>\n",
       "      <td>1173820</td>\n",
       "      <td>1775660.0</td>\n",
       "      <td>86610.0</td>\n",
       "      <td>768502.0</td>\n",
       "      <td>21234.0</td>\n",
       "      <td>435018.0</td>\n",
       "      <td>14935.0</td>\n",
       "      <td>24,827</td>\n",
       "      <td>-1.013041</td>\n",
       "    </tr>\n",
       "    <tr>\n",
       "      <th>4</th>\n",
       "      <td>3/9/2021</td>\n",
       "      <td>Alabama</td>\n",
       "      <td>1</td>\n",
       "      <td>500616</td>\n",
       "      <td>524</td>\n",
       "      <td>10186</td>\n",
       "      <td>38</td>\n",
       "      <td>1140984</td>\n",
       "      <td>1689050.0</td>\n",
       "      <td>60700.0</td>\n",
       "      <td>747268.0</td>\n",
       "      <td>14301.0</td>\n",
       "      <td>420083.0</td>\n",
       "      <td>10146.0</td>\n",
       "      <td>24,118</td>\n",
       "      <td>-1.013041</td>\n",
       "    </tr>\n",
       "  </tbody>\n",
       "</table>\n",
       "</div>"
      ],
      "text/plain": [
       "        date    state  fips   cases  daily_cases  deaths  daily_deaths  \\\n",
       "0  3/13/2021  Alabama     1  503305          594   10327            28   \n",
       "1  3/12/2021  Alabama     1  502711          448   10299            25   \n",
       "2  3/11/2021  Alabama     1  502263          865   10274            52   \n",
       "3  3/10/2021  Alabama     1  501398          782   10222            36   \n",
       "4   3/9/2021  Alabama     1  500616          524   10186            38   \n",
       "\n",
       "  total_vaccinations  total_distributed  daily_distributed  \\\n",
       "0            1288242          1918560.0            80160.0   \n",
       "1            1249205          1838400.0            22170.0   \n",
       "2            1209802          1816230.0            40570.0   \n",
       "3            1173820          1775660.0            86610.0   \n",
       "4            1140984          1689050.0            60700.0   \n",
       "\n",
       "   total_people_vaccinated  daily_people_vaccinated  \\\n",
       "0                 841394.0                  24976.0   \n",
       "1                 816418.0                  25554.0   \n",
       "2                 790864.0                  22362.0   \n",
       "3                 768502.0                  21234.0   \n",
       "4                 747268.0                  14301.0   \n",
       "\n",
       "   total_people_fully_vaccinated  daily_people_fully_vaccinated  \\\n",
       "0                       492755.0                        20430.0   \n",
       "1                       472325.0                        19579.0   \n",
       "2                       452746.0                        17728.0   \n",
       "3                       435018.0                        14935.0   \n",
       "4                       420083.0                        10146.0   \n",
       "\n",
       "  daily_vaccinations  mobility_composite  \n",
       "0             26,935           -1.013041  \n",
       "1             26,375           -1.013041  \n",
       "2             25,376           -1.013041  \n",
       "3             24,827           -1.013041  \n",
       "4             24,118           -1.013041  "
      ]
     },
     "execution_count": 5,
     "metadata": {},
     "output_type": "execute_result"
    }
   ],
   "source": [
    "df.head()"
   ]
  },
  {
   "cell_type": "code",
   "execution_count": 6,
   "id": "21ae967e-fe62-4c78-a5e9-b3ce7158917c",
   "metadata": {
    "colab": {
     "base_uri": "https://localhost:8080/"
    },
    "executionInfo": {
     "elapsed": 46141,
     "status": "ok",
     "timestamp": 1619509200356,
     "user": {
      "displayName": "Sitiporn Saelim",
      "photoUrl": "",
      "userId": "04392232392828254116"
     },
     "user_tz": -420
    },
    "id": "21ae967e-fe62-4c78-a5e9-b3ce7158917c",
    "outputId": "c98dc023-b5a6-446c-d9cc-ca4cb2cd3f98"
   },
   "outputs": [
    {
     "name": "stdout",
     "output_type": "stream",
     "text": [
      "<class 'pandas.core.frame.DataFrame'>\n",
      "RangeIndex: 20618 entries, 0 to 20617\n",
      "Data columns (total 16 columns):\n",
      " #   Column                         Non-Null Count  Dtype  \n",
      "---  ------                         --------------  -----  \n",
      " 0   date                           20618 non-null  object \n",
      " 1   state                          20618 non-null  object \n",
      " 2   fips                           20618 non-null  int64  \n",
      " 3   cases                          20618 non-null  int64  \n",
      " 4   daily_cases                    20618 non-null  int64  \n",
      " 5   deaths                         20618 non-null  int64  \n",
      " 6   daily_deaths                   20618 non-null  int64  \n",
      " 7   total_vaccinations             3801 non-null   object \n",
      " 8   total_distributed              3801 non-null   float64\n",
      " 9   daily_distributed              3801 non-null   float64\n",
      " 10  total_people_vaccinated        3801 non-null   float64\n",
      " 11  daily_people_vaccinated        3801 non-null   float64\n",
      " 12  total_people_fully_vaccinated  3801 non-null   float64\n",
      " 13  daily_people_fully_vaccinated  3801 non-null   float64\n",
      " 14  daily_vaccinations             3779 non-null   object \n",
      " 15  mobility_composite             19353 non-null  float64\n",
      "dtypes: float64(7), int64(5), object(4)\n",
      "memory usage: 2.5+ MB\n"
     ]
    }
   ],
   "source": [
    "df.info()"
   ]
  },
  {
   "cell_type": "code",
   "execution_count": 7,
   "id": "836c3722-619c-4ea8-a6f0-22214d8ee8b9",
   "metadata": {
    "colab": {
     "base_uri": "https://localhost:8080/",
     "height": 206
    },
    "executionInfo": {
     "elapsed": 46132,
     "status": "ok",
     "timestamp": 1619509200357,
     "user": {
      "displayName": "Sitiporn Saelim",
      "photoUrl": "",
      "userId": "04392232392828254116"
     },
     "user_tz": -420
    },
    "id": "836c3722-619c-4ea8-a6f0-22214d8ee8b9",
    "outputId": "4b3cf9f1-c8c6-4cf9-8646-de5ef6411df1"
   },
   "outputs": [
    {
     "data": {
      "text/html": [
       "<div>\n",
       "<style scoped>\n",
       "    .dataframe tbody tr th:only-of-type {\n",
       "        vertical-align: middle;\n",
       "    }\n",
       "\n",
       "    .dataframe tbody tr th {\n",
       "        vertical-align: top;\n",
       "    }\n",
       "\n",
       "    .dataframe thead th {\n",
       "        text-align: right;\n",
       "    }\n",
       "</style>\n",
       "<table border=\"1\" class=\"dataframe\">\n",
       "  <thead>\n",
       "    <tr style=\"text-align: right;\">\n",
       "      <th></th>\n",
       "      <th>date</th>\n",
       "      <th>state</th>\n",
       "      <th>fips</th>\n",
       "      <th>daily_cases</th>\n",
       "      <th>daily_deaths</th>\n",
       "      <th>daily_distributed</th>\n",
       "      <th>daily_people_vaccinated</th>\n",
       "      <th>daily_people_fully_vaccinated</th>\n",
       "      <th>daily_vaccinations</th>\n",
       "      <th>mobility_composite</th>\n",
       "    </tr>\n",
       "  </thead>\n",
       "  <tbody>\n",
       "    <tr>\n",
       "      <th>0</th>\n",
       "      <td>3/13/2021</td>\n",
       "      <td>Alabama</td>\n",
       "      <td>1</td>\n",
       "      <td>594</td>\n",
       "      <td>28</td>\n",
       "      <td>80160.0</td>\n",
       "      <td>24976.0</td>\n",
       "      <td>20430.0</td>\n",
       "      <td>26,935</td>\n",
       "      <td>-1.013041</td>\n",
       "    </tr>\n",
       "    <tr>\n",
       "      <th>1</th>\n",
       "      <td>3/12/2021</td>\n",
       "      <td>Alabama</td>\n",
       "      <td>1</td>\n",
       "      <td>448</td>\n",
       "      <td>25</td>\n",
       "      <td>22170.0</td>\n",
       "      <td>25554.0</td>\n",
       "      <td>19579.0</td>\n",
       "      <td>26,375</td>\n",
       "      <td>-1.013041</td>\n",
       "    </tr>\n",
       "    <tr>\n",
       "      <th>2</th>\n",
       "      <td>3/11/2021</td>\n",
       "      <td>Alabama</td>\n",
       "      <td>1</td>\n",
       "      <td>865</td>\n",
       "      <td>52</td>\n",
       "      <td>40570.0</td>\n",
       "      <td>22362.0</td>\n",
       "      <td>17728.0</td>\n",
       "      <td>25,376</td>\n",
       "      <td>-1.013041</td>\n",
       "    </tr>\n",
       "    <tr>\n",
       "      <th>3</th>\n",
       "      <td>3/10/2021</td>\n",
       "      <td>Alabama</td>\n",
       "      <td>1</td>\n",
       "      <td>782</td>\n",
       "      <td>36</td>\n",
       "      <td>86610.0</td>\n",
       "      <td>21234.0</td>\n",
       "      <td>14935.0</td>\n",
       "      <td>24,827</td>\n",
       "      <td>-1.013041</td>\n",
       "    </tr>\n",
       "    <tr>\n",
       "      <th>4</th>\n",
       "      <td>3/9/2021</td>\n",
       "      <td>Alabama</td>\n",
       "      <td>1</td>\n",
       "      <td>524</td>\n",
       "      <td>38</td>\n",
       "      <td>60700.0</td>\n",
       "      <td>14301.0</td>\n",
       "      <td>10146.0</td>\n",
       "      <td>24,118</td>\n",
       "      <td>-1.013041</td>\n",
       "    </tr>\n",
       "  </tbody>\n",
       "</table>\n",
       "</div>"
      ],
      "text/plain": [
       "        date    state  fips  daily_cases  daily_deaths  daily_distributed  \\\n",
       "0  3/13/2021  Alabama     1          594            28            80160.0   \n",
       "1  3/12/2021  Alabama     1          448            25            22170.0   \n",
       "2  3/11/2021  Alabama     1          865            52            40570.0   \n",
       "3  3/10/2021  Alabama     1          782            36            86610.0   \n",
       "4   3/9/2021  Alabama     1          524            38            60700.0   \n",
       "\n",
       "   daily_people_vaccinated  daily_people_fully_vaccinated daily_vaccinations  \\\n",
       "0                  24976.0                        20430.0             26,935   \n",
       "1                  25554.0                        19579.0             26,375   \n",
       "2                  22362.0                        17728.0             25,376   \n",
       "3                  21234.0                        14935.0             24,827   \n",
       "4                  14301.0                        10146.0             24,118   \n",
       "\n",
       "   mobility_composite  \n",
       "0           -1.013041  \n",
       "1           -1.013041  \n",
       "2           -1.013041  \n",
       "3           -1.013041  \n",
       "4           -1.013041  "
      ]
     },
     "execution_count": 7,
     "metadata": {},
     "output_type": "execute_result"
    }
   ],
   "source": [
    "df = df.drop(labels=['cases', 'deaths', 'total_vaccinations', 'total_distributed', 'total_people_vaccinated', 'total_people_fully_vaccinated'], axis=1)\n",
    "df.head()"
   ]
  },
  {
   "cell_type": "code",
   "execution_count": 8,
   "id": "cd39e90b-0daa-4780-a915-99e2c188b7f2",
   "metadata": {
    "colab": {
     "base_uri": "https://localhost:8080/"
    },
    "executionInfo": {
     "elapsed": 46122,
     "status": "ok",
     "timestamp": 1619509200358,
     "user": {
      "displayName": "Sitiporn Saelim",
      "photoUrl": "",
      "userId": "04392232392828254116"
     },
     "user_tz": -420
    },
    "id": "cd39e90b-0daa-4780-a915-99e2c188b7f2",
    "outputId": "f2f42d23-de95-4150-b07b-d8a731b97fb2"
   },
   "outputs": [
    {
     "data": {
      "text/plain": [
       "array(['Alabama', 'Alaska', 'Arizona', 'Arkansas', 'California',\n",
       "       'Colorado', 'Connecticut', 'Delaware', 'District of Columbia',\n",
       "       'Florida', 'Georgia', 'Guam', 'Hawaii', 'Idaho', 'Illinois',\n",
       "       'Indiana', 'Iowa', 'Kansas', 'Kentucky', 'Louisiana', 'Maine',\n",
       "       'Maryland', 'Massachusetts', 'Michigan', 'Minnesota',\n",
       "       'Mississippi', 'Missouri', 'Montana', 'Nebraska', 'Nevada',\n",
       "       'New Hampshire', 'New Jersey', 'New Mexico', 'New York',\n",
       "       'North Carolina', 'North Dakota', 'Northern Mariana Islands',\n",
       "       'Ohio', 'Oklahoma', 'Oregon', 'Pennsylvania', 'Puerto Rico',\n",
       "       'Rhode Island', 'South Carolina', 'South Dakota', 'Tennessee',\n",
       "       'Texas', 'Utah', 'Vermont', 'Virgin Islands', 'Virginia',\n",
       "       'Washington', 'West Virginia', 'Wisconsin', 'Wyoming'],\n",
       "      dtype=object)"
      ]
     },
     "execution_count": 8,
     "metadata": {},
     "output_type": "execute_result"
    }
   ],
   "source": [
    "df['state'].unique()"
   ]
  },
  {
   "cell_type": "code",
   "execution_count": 9,
   "id": "5d059c19-c413-4820-85a8-18632ef73b7f",
   "metadata": {
    "colab": {
     "base_uri": "https://localhost:8080/",
     "height": 424
    },
    "executionInfo": {
     "elapsed": 46114,
     "status": "ok",
     "timestamp": 1619509200360,
     "user": {
      "displayName": "Sitiporn Saelim",
      "photoUrl": "",
      "userId": "04392232392828254116"
     },
     "user_tz": -420
    },
    "id": "5d059c19-c413-4820-85a8-18632ef73b7f",
    "outputId": "8d30ea18-e07a-4bf3-b20c-edb24c321d1b"
   },
   "outputs": [
    {
     "data": {
      "text/html": [
       "<div>\n",
       "<style scoped>\n",
       "    .dataframe tbody tr th:only-of-type {\n",
       "        vertical-align: middle;\n",
       "    }\n",
       "\n",
       "    .dataframe tbody tr th {\n",
       "        vertical-align: top;\n",
       "    }\n",
       "\n",
       "    .dataframe thead th {\n",
       "        text-align: right;\n",
       "    }\n",
       "</style>\n",
       "<table border=\"1\" class=\"dataframe\">\n",
       "  <thead>\n",
       "    <tr style=\"text-align: right;\">\n",
       "      <th></th>\n",
       "      <th>date</th>\n",
       "      <th>state</th>\n",
       "      <th>fips</th>\n",
       "      <th>daily_cases</th>\n",
       "      <th>daily_deaths</th>\n",
       "      <th>daily_distributed</th>\n",
       "      <th>daily_people_vaccinated</th>\n",
       "      <th>daily_people_fully_vaccinated</th>\n",
       "      <th>daily_vaccinations</th>\n",
       "      <th>mobility_composite</th>\n",
       "    </tr>\n",
       "  </thead>\n",
       "  <tbody>\n",
       "    <tr>\n",
       "      <th>19484</th>\n",
       "      <td>2020-01-21</td>\n",
       "      <td>Washington</td>\n",
       "      <td>53</td>\n",
       "      <td>1</td>\n",
       "      <td>0</td>\n",
       "      <td>NaN</td>\n",
       "      <td>NaN</td>\n",
       "      <td>NaN</td>\n",
       "      <td>NaN</td>\n",
       "      <td>NaN</td>\n",
       "    </tr>\n",
       "    <tr>\n",
       "      <th>19483</th>\n",
       "      <td>2020-01-22</td>\n",
       "      <td>Washington</td>\n",
       "      <td>53</td>\n",
       "      <td>0</td>\n",
       "      <td>0</td>\n",
       "      <td>NaN</td>\n",
       "      <td>NaN</td>\n",
       "      <td>NaN</td>\n",
       "      <td>NaN</td>\n",
       "      <td>NaN</td>\n",
       "    </tr>\n",
       "    <tr>\n",
       "      <th>19482</th>\n",
       "      <td>2020-01-23</td>\n",
       "      <td>Washington</td>\n",
       "      <td>53</td>\n",
       "      <td>0</td>\n",
       "      <td>0</td>\n",
       "      <td>NaN</td>\n",
       "      <td>NaN</td>\n",
       "      <td>NaN</td>\n",
       "      <td>NaN</td>\n",
       "      <td>NaN</td>\n",
       "    </tr>\n",
       "    <tr>\n",
       "      <th>5684</th>\n",
       "      <td>2020-01-24</td>\n",
       "      <td>Illinois</td>\n",
       "      <td>17</td>\n",
       "      <td>1</td>\n",
       "      <td>0</td>\n",
       "      <td>NaN</td>\n",
       "      <td>NaN</td>\n",
       "      <td>NaN</td>\n",
       "      <td>NaN</td>\n",
       "      <td>NaN</td>\n",
       "    </tr>\n",
       "    <tr>\n",
       "      <th>19481</th>\n",
       "      <td>2020-01-24</td>\n",
       "      <td>Washington</td>\n",
       "      <td>53</td>\n",
       "      <td>0</td>\n",
       "      <td>0</td>\n",
       "      <td>NaN</td>\n",
       "      <td>NaN</td>\n",
       "      <td>NaN</td>\n",
       "      <td>NaN</td>\n",
       "      <td>NaN</td>\n",
       "    </tr>\n",
       "    <tr>\n",
       "      <th>...</th>\n",
       "      <td>...</td>\n",
       "      <td>...</td>\n",
       "      <td>...</td>\n",
       "      <td>...</td>\n",
       "      <td>...</td>\n",
       "      <td>...</td>\n",
       "      <td>...</td>\n",
       "      <td>...</td>\n",
       "      <td>...</td>\n",
       "      <td>...</td>\n",
       "    </tr>\n",
       "    <tr>\n",
       "      <th>20250</th>\n",
       "      <td>2021-03-13</td>\n",
       "      <td>Wyoming</td>\n",
       "      <td>56</td>\n",
       "      <td>0</td>\n",
       "      <td>0</td>\n",
       "      <td>0.0</td>\n",
       "      <td>4086.0</td>\n",
       "      <td>2945.0</td>\n",
       "      <td>4,085</td>\n",
       "      <td>0.000000</td>\n",
       "    </tr>\n",
       "    <tr>\n",
       "      <th>4168</th>\n",
       "      <td>2021-03-13</td>\n",
       "      <td>Guam</td>\n",
       "      <td>66</td>\n",
       "      <td>1</td>\n",
       "      <td>0</td>\n",
       "      <td>0.0</td>\n",
       "      <td>226.0</td>\n",
       "      <td>1440.0</td>\n",
       "      <td>1,272</td>\n",
       "      <td>-5.361115</td>\n",
       "    </tr>\n",
       "    <tr>\n",
       "      <th>13475</th>\n",
       "      <td>2021-03-13</td>\n",
       "      <td>Northern Mariana Islands</td>\n",
       "      <td>69</td>\n",
       "      <td>1</td>\n",
       "      <td>0</td>\n",
       "      <td>0.0</td>\n",
       "      <td>230.0</td>\n",
       "      <td>163.0</td>\n",
       "      <td>246</td>\n",
       "      <td>NaN</td>\n",
       "    </tr>\n",
       "    <tr>\n",
       "      <th>15319</th>\n",
       "      <td>2021-03-13</td>\n",
       "      <td>Puerto Rico</td>\n",
       "      <td>72</td>\n",
       "      <td>235</td>\n",
       "      <td>0</td>\n",
       "      <td>19550.0</td>\n",
       "      <td>32455.0</td>\n",
       "      <td>20400.0</td>\n",
       "      <td>19,615</td>\n",
       "      <td>0.000000</td>\n",
       "    </tr>\n",
       "    <tr>\n",
       "      <th>18330</th>\n",
       "      <td>2021-03-13</td>\n",
       "      <td>Virgin Islands</td>\n",
       "      <td>78</td>\n",
       "      <td>0</td>\n",
       "      <td>0</td>\n",
       "      <td>NaN</td>\n",
       "      <td>NaN</td>\n",
       "      <td>NaN</td>\n",
       "      <td>NaN</td>\n",
       "      <td>NaN</td>\n",
       "    </tr>\n",
       "  </tbody>\n",
       "</table>\n",
       "<p>20618 rows × 10 columns</p>\n",
       "</div>"
      ],
      "text/plain": [
       "            date                     state  fips  daily_cases  daily_deaths  \\\n",
       "19484 2020-01-21                Washington    53            1             0   \n",
       "19483 2020-01-22                Washington    53            0             0   \n",
       "19482 2020-01-23                Washington    53            0             0   \n",
       "5684  2020-01-24                  Illinois    17            1             0   \n",
       "19481 2020-01-24                Washington    53            0             0   \n",
       "...          ...                       ...   ...          ...           ...   \n",
       "20250 2021-03-13                   Wyoming    56            0             0   \n",
       "4168  2021-03-13                      Guam    66            1             0   \n",
       "13475 2021-03-13  Northern Mariana Islands    69            1             0   \n",
       "15319 2021-03-13               Puerto Rico    72          235             0   \n",
       "18330 2021-03-13            Virgin Islands    78            0             0   \n",
       "\n",
       "       daily_distributed  daily_people_vaccinated  \\\n",
       "19484                NaN                      NaN   \n",
       "19483                NaN                      NaN   \n",
       "19482                NaN                      NaN   \n",
       "5684                 NaN                      NaN   \n",
       "19481                NaN                      NaN   \n",
       "...                  ...                      ...   \n",
       "20250                0.0                   4086.0   \n",
       "4168                 0.0                    226.0   \n",
       "13475                0.0                    230.0   \n",
       "15319            19550.0                  32455.0   \n",
       "18330                NaN                      NaN   \n",
       "\n",
       "       daily_people_fully_vaccinated daily_vaccinations  mobility_composite  \n",
       "19484                            NaN                NaN                 NaN  \n",
       "19483                            NaN                NaN                 NaN  \n",
       "19482                            NaN                NaN                 NaN  \n",
       "5684                             NaN                NaN                 NaN  \n",
       "19481                            NaN                NaN                 NaN  \n",
       "...                              ...                ...                 ...  \n",
       "20250                         2945.0              4,085            0.000000  \n",
       "4168                          1440.0              1,272           -5.361115  \n",
       "13475                          163.0                246                 NaN  \n",
       "15319                        20400.0             19,615            0.000000  \n",
       "18330                            NaN                NaN                 NaN  \n",
       "\n",
       "[20618 rows x 10 columns]"
      ]
     },
     "execution_count": 9,
     "metadata": {},
     "output_type": "execute_result"
    }
   ],
   "source": [
    "# Set date to be datetime format and sort by date and fips\n",
    "df['date'] = pd.to_datetime(df.date)\n",
    "df = df.sort_values(by=['date', 'fips'], axis=0, ascending=True)\n",
    "df"
   ]
  },
  {
   "cell_type": "code",
   "execution_count": 10,
   "id": "a6675f3e-4cdc-4c46-80ab-f222d50a4f86",
   "metadata": {
    "colab": {
     "base_uri": "https://localhost:8080/",
     "height": 455
    },
    "executionInfo": {
     "elapsed": 46105,
     "status": "ok",
     "timestamp": 1619509200361,
     "user": {
      "displayName": "Sitiporn Saelim",
      "photoUrl": "",
      "userId": "04392232392828254116"
     },
     "user_tz": -420
    },
    "id": "a6675f3e-4cdc-4c46-80ab-f222d50a4f86",
    "outputId": "072e1c55-bd87-4a72-9cda-f177430f51e4"
   },
   "outputs": [
    {
     "data": {
      "text/html": [
       "<div>\n",
       "<style scoped>\n",
       "    .dataframe tbody tr th:only-of-type {\n",
       "        vertical-align: middle;\n",
       "    }\n",
       "\n",
       "    .dataframe tbody tr th {\n",
       "        vertical-align: top;\n",
       "    }\n",
       "\n",
       "    .dataframe thead th {\n",
       "        text-align: right;\n",
       "    }\n",
       "</style>\n",
       "<table border=\"1\" class=\"dataframe\">\n",
       "  <thead>\n",
       "    <tr style=\"text-align: right;\">\n",
       "      <th></th>\n",
       "      <th>state</th>\n",
       "      <th>fips</th>\n",
       "      <th>daily_cases</th>\n",
       "      <th>daily_deaths</th>\n",
       "      <th>daily_distributed</th>\n",
       "      <th>daily_people_vaccinated</th>\n",
       "      <th>daily_people_fully_vaccinated</th>\n",
       "      <th>daily_vaccinations</th>\n",
       "      <th>mobility_composite</th>\n",
       "    </tr>\n",
       "    <tr>\n",
       "      <th>date</th>\n",
       "      <th></th>\n",
       "      <th></th>\n",
       "      <th></th>\n",
       "      <th></th>\n",
       "      <th></th>\n",
       "      <th></th>\n",
       "      <th></th>\n",
       "      <th></th>\n",
       "      <th></th>\n",
       "    </tr>\n",
       "  </thead>\n",
       "  <tbody>\n",
       "    <tr>\n",
       "      <th>2020-03-01</th>\n",
       "      <td>Florida</td>\n",
       "      <td>12</td>\n",
       "      <td>2</td>\n",
       "      <td>0</td>\n",
       "      <td>NaN</td>\n",
       "      <td>NaN</td>\n",
       "      <td>NaN</td>\n",
       "      <td>NaN</td>\n",
       "      <td>2.066859</td>\n",
       "    </tr>\n",
       "    <tr>\n",
       "      <th>2020-03-02</th>\n",
       "      <td>Florida</td>\n",
       "      <td>12</td>\n",
       "      <td>0</td>\n",
       "      <td>0</td>\n",
       "      <td>NaN</td>\n",
       "      <td>NaN</td>\n",
       "      <td>NaN</td>\n",
       "      <td>NaN</td>\n",
       "      <td>2.060743</td>\n",
       "    </tr>\n",
       "    <tr>\n",
       "      <th>2020-03-03</th>\n",
       "      <td>Florida</td>\n",
       "      <td>12</td>\n",
       "      <td>1</td>\n",
       "      <td>0</td>\n",
       "      <td>NaN</td>\n",
       "      <td>NaN</td>\n",
       "      <td>NaN</td>\n",
       "      <td>NaN</td>\n",
       "      <td>1.995093</td>\n",
       "    </tr>\n",
       "    <tr>\n",
       "      <th>2020-03-04</th>\n",
       "      <td>Florida</td>\n",
       "      <td>12</td>\n",
       "      <td>0</td>\n",
       "      <td>0</td>\n",
       "      <td>NaN</td>\n",
       "      <td>NaN</td>\n",
       "      <td>NaN</td>\n",
       "      <td>NaN</td>\n",
       "      <td>1.845753</td>\n",
       "    </tr>\n",
       "    <tr>\n",
       "      <th>2020-03-05</th>\n",
       "      <td>Florida</td>\n",
       "      <td>12</td>\n",
       "      <td>1</td>\n",
       "      <td>0</td>\n",
       "      <td>NaN</td>\n",
       "      <td>NaN</td>\n",
       "      <td>NaN</td>\n",
       "      <td>NaN</td>\n",
       "      <td>1.581910</td>\n",
       "    </tr>\n",
       "    <tr>\n",
       "      <th>...</th>\n",
       "      <td>...</td>\n",
       "      <td>...</td>\n",
       "      <td>...</td>\n",
       "      <td>...</td>\n",
       "      <td>...</td>\n",
       "      <td>...</td>\n",
       "      <td>...</td>\n",
       "      <td>...</td>\n",
       "      <td>...</td>\n",
       "    </tr>\n",
       "    <tr>\n",
       "      <th>2021-03-09</th>\n",
       "      <td>Florida</td>\n",
       "      <td>12</td>\n",
       "      <td>4426</td>\n",
       "      <td>125</td>\n",
       "      <td>683890.0</td>\n",
       "      <td>41970.0</td>\n",
       "      <td>18925.0</td>\n",
       "      <td>126,219</td>\n",
       "      <td>-15.422641</td>\n",
       "    </tr>\n",
       "    <tr>\n",
       "      <th>2021-03-10</th>\n",
       "      <td>Florida</td>\n",
       "      <td>12</td>\n",
       "      <td>4853</td>\n",
       "      <td>59</td>\n",
       "      <td>75830.0</td>\n",
       "      <td>73199.0</td>\n",
       "      <td>37152.0</td>\n",
       "      <td>128,975</td>\n",
       "      <td>-15.422641</td>\n",
       "    </tr>\n",
       "    <tr>\n",
       "      <th>2021-03-11</th>\n",
       "      <td>Florida</td>\n",
       "      <td>12</td>\n",
       "      <td>5065</td>\n",
       "      <td>92</td>\n",
       "      <td>64860.0</td>\n",
       "      <td>130259.0</td>\n",
       "      <td>67710.0</td>\n",
       "      <td>145,410</td>\n",
       "      <td>-15.422641</td>\n",
       "    </tr>\n",
       "    <tr>\n",
       "      <th>2021-03-12</th>\n",
       "      <td>Florida</td>\n",
       "      <td>12</td>\n",
       "      <td>5214</td>\n",
       "      <td>105</td>\n",
       "      <td>282020.0</td>\n",
       "      <td>112933.0</td>\n",
       "      <td>63642.0</td>\n",
       "      <td>166,386</td>\n",
       "      <td>-15.422641</td>\n",
       "    </tr>\n",
       "    <tr>\n",
       "      <th>2021-03-13</th>\n",
       "      <td>Florida</td>\n",
       "      <td>12</td>\n",
       "      <td>5244</td>\n",
       "      <td>80</td>\n",
       "      <td>267360.0</td>\n",
       "      <td>248741.0</td>\n",
       "      <td>156284.0</td>\n",
       "      <td>188,491</td>\n",
       "      <td>-15.422641</td>\n",
       "    </tr>\n",
       "  </tbody>\n",
       "</table>\n",
       "<p>378 rows × 9 columns</p>\n",
       "</div>"
      ],
      "text/plain": [
       "              state  fips  daily_cases  daily_deaths  daily_distributed  \\\n",
       "date                                                                      \n",
       "2020-03-01  Florida    12            2             0                NaN   \n",
       "2020-03-02  Florida    12            0             0                NaN   \n",
       "2020-03-03  Florida    12            1             0                NaN   \n",
       "2020-03-04  Florida    12            0             0                NaN   \n",
       "2020-03-05  Florida    12            1             0                NaN   \n",
       "...             ...   ...          ...           ...                ...   \n",
       "2021-03-09  Florida    12         4426           125           683890.0   \n",
       "2021-03-10  Florida    12         4853            59            75830.0   \n",
       "2021-03-11  Florida    12         5065            92            64860.0   \n",
       "2021-03-12  Florida    12         5214           105           282020.0   \n",
       "2021-03-13  Florida    12         5244            80           267360.0   \n",
       "\n",
       "            daily_people_vaccinated  daily_people_fully_vaccinated  \\\n",
       "date                                                                 \n",
       "2020-03-01                      NaN                            NaN   \n",
       "2020-03-02                      NaN                            NaN   \n",
       "2020-03-03                      NaN                            NaN   \n",
       "2020-03-04                      NaN                            NaN   \n",
       "2020-03-05                      NaN                            NaN   \n",
       "...                             ...                            ...   \n",
       "2021-03-09                  41970.0                        18925.0   \n",
       "2021-03-10                  73199.0                        37152.0   \n",
       "2021-03-11                 130259.0                        67710.0   \n",
       "2021-03-12                 112933.0                        63642.0   \n",
       "2021-03-13                 248741.0                       156284.0   \n",
       "\n",
       "           daily_vaccinations  mobility_composite  \n",
       "date                                               \n",
       "2020-03-01                NaN            2.066859  \n",
       "2020-03-02                NaN            2.060743  \n",
       "2020-03-03                NaN            1.995093  \n",
       "2020-03-04                NaN            1.845753  \n",
       "2020-03-05                NaN            1.581910  \n",
       "...                       ...                 ...  \n",
       "2021-03-09            126,219          -15.422641  \n",
       "2021-03-10            128,975          -15.422641  \n",
       "2021-03-11            145,410          -15.422641  \n",
       "2021-03-12            166,386          -15.422641  \n",
       "2021-03-13            188,491          -15.422641  \n",
       "\n",
       "[378 rows x 9 columns]"
      ]
     },
     "execution_count": 10,
     "metadata": {},
     "output_type": "execute_result"
    }
   ],
   "source": [
    "df_clean = df[df.state == STATE]\n",
    "df_clean = df_clean.set_index('date')\n",
    "df_clean"
   ]
  },
  {
   "cell_type": "code",
   "execution_count": 11,
   "id": "a8eccf57-7c24-4496-b2fa-2af17ebf8f28",
   "metadata": {
    "colab": {
     "base_uri": "https://localhost:8080/"
    },
    "executionInfo": {
     "elapsed": 46101,
     "status": "ok",
     "timestamp": 1619509200363,
     "user": {
      "displayName": "Sitiporn Saelim",
      "photoUrl": "",
      "userId": "04392232392828254116"
     },
     "user_tz": -420
    },
    "id": "a8eccf57-7c24-4496-b2fa-2af17ebf8f28",
    "outputId": "7fa3dcff-6ae6-423b-eab1-542e1e601795"
   },
   "outputs": [
    {
     "data": {
      "text/plain": [
       "(378, 1)"
      ]
     },
     "execution_count": 11,
     "metadata": {},
     "output_type": "execute_result"
    }
   ],
   "source": [
    "rmlabels=['state', 'fips', 'daily_deaths', 'daily_distributed','daily_people_vaccinated', 'daily_people_fully_vaccinated',\n",
    "          'daily_vaccinations', 'mobility_composite']\n",
    "df_clean = df_clean.drop(labels=rmlabels, axis=1)\n",
    "df_clean = df_clean.iloc[df_clean.shape[0]-378:]\n",
    "df_clean.shape"
   ]
  },
  {
   "cell_type": "code",
   "execution_count": 12,
   "id": "c201a119-d9fa-4518-abef-46b721091fb8",
   "metadata": {
    "colab": {
     "base_uri": "https://localhost:8080/",
     "height": 324
    },
    "executionInfo": {
     "elapsed": 46924,
     "status": "ok",
     "timestamp": 1619509201196,
     "user": {
      "displayName": "Sitiporn Saelim",
      "photoUrl": "",
      "userId": "04392232392828254116"
     },
     "user_tz": -420
    },
    "id": "c201a119-d9fa-4518-abef-46b721091fb8",
    "outputId": "9e0a18be-bc92-49d7-8de0-384963febafe"
   },
   "outputs": [
    {
     "data": {
      "text/plain": [
       "<matplotlib.axes._subplots.AxesSubplot at 0x7fdb4542eda0>"
      ]
     },
     "execution_count": 12,
     "metadata": {},
     "output_type": "execute_result"
    },
    {
     "data": {
      "image/png": "[encoded data removed]",
      "text/plain": [
       "<matplotlib.figure.Figure at 0x7fdb4542e3c8>"
      ]
     },
     "metadata": {
      "needs_background": "light"
     },
     "output_type": "display_data"
    }
   ],
   "source": [
    "df_clean.plot(title=f\"Daily cases :{STATE}\")"
   ]
  },
  {
   "cell_type": "code",
   "execution_count": 13,
   "id": "23c4f150-3637-4570-adb3-6b5f40617af6",
   "metadata": {
    "colab": {
     "base_uri": "https://localhost:8080/",
     "height": 206
    },
    "executionInfo": {
     "elapsed": 46917,
     "status": "ok",
     "timestamp": 1619509201196,
     "user": {
      "displayName": "Sitiporn Saelim",
      "photoUrl": "",
      "userId": "04392232392828254116"
     },
     "user_tz": -420
    },
    "id": "23c4f150-3637-4570-adb3-6b5f40617af6",
    "outputId": "8358c33b-8cd9-4df1-f937-d9ad57e69578"
   },
   "outputs": [
    {
     "data": {
      "text/html": [
       "<div>\n",
       "<style scoped>\n",
       "    .dataframe tbody tr th:only-of-type {\n",
       "        vertical-align: middle;\n",
       "    }\n",
       "\n",
       "    .dataframe tbody tr th {\n",
       "        vertical-align: top;\n",
       "    }\n",
       "\n",
       "    .dataframe thead th {\n",
       "        text-align: right;\n",
       "    }\n",
       "</style>\n",
       "<table border=\"1\" class=\"dataframe\">\n",
       "  <thead>\n",
       "    <tr style=\"text-align: right;\">\n",
       "      <th></th>\n",
       "      <th>date</th>\n",
       "      <th>state</th>\n",
       "      <th>fips</th>\n",
       "      <th>daily_cases</th>\n",
       "      <th>daily_deaths</th>\n",
       "      <th>daily_distributed</th>\n",
       "      <th>daily_people_vaccinated</th>\n",
       "      <th>daily_people_fully_vaccinated</th>\n",
       "      <th>daily_vaccinations</th>\n",
       "      <th>mobility_composite</th>\n",
       "    </tr>\n",
       "  </thead>\n",
       "  <tbody>\n",
       "    <tr>\n",
       "      <th>19484</th>\n",
       "      <td>2020-01-21</td>\n",
       "      <td>Washington</td>\n",
       "      <td>53</td>\n",
       "      <td>1</td>\n",
       "      <td>0</td>\n",
       "      <td>NaN</td>\n",
       "      <td>NaN</td>\n",
       "      <td>NaN</td>\n",
       "      <td>NaN</td>\n",
       "      <td>NaN</td>\n",
       "    </tr>\n",
       "    <tr>\n",
       "      <th>19483</th>\n",
       "      <td>2020-01-22</td>\n",
       "      <td>Washington</td>\n",
       "      <td>53</td>\n",
       "      <td>0</td>\n",
       "      <td>0</td>\n",
       "      <td>NaN</td>\n",
       "      <td>NaN</td>\n",
       "      <td>NaN</td>\n",
       "      <td>NaN</td>\n",
       "      <td>NaN</td>\n",
       "    </tr>\n",
       "    <tr>\n",
       "      <th>19482</th>\n",
       "      <td>2020-01-23</td>\n",
       "      <td>Washington</td>\n",
       "      <td>53</td>\n",
       "      <td>0</td>\n",
       "      <td>0</td>\n",
       "      <td>NaN</td>\n",
       "      <td>NaN</td>\n",
       "      <td>NaN</td>\n",
       "      <td>NaN</td>\n",
       "      <td>NaN</td>\n",
       "    </tr>\n",
       "    <tr>\n",
       "      <th>5684</th>\n",
       "      <td>2020-01-24</td>\n",
       "      <td>Illinois</td>\n",
       "      <td>17</td>\n",
       "      <td>1</td>\n",
       "      <td>0</td>\n",
       "      <td>NaN</td>\n",
       "      <td>NaN</td>\n",
       "      <td>NaN</td>\n",
       "      <td>NaN</td>\n",
       "      <td>NaN</td>\n",
       "    </tr>\n",
       "    <tr>\n",
       "      <th>19481</th>\n",
       "      <td>2020-01-24</td>\n",
       "      <td>Washington</td>\n",
       "      <td>53</td>\n",
       "      <td>0</td>\n",
       "      <td>0</td>\n",
       "      <td>NaN</td>\n",
       "      <td>NaN</td>\n",
       "      <td>NaN</td>\n",
       "      <td>NaN</td>\n",
       "      <td>NaN</td>\n",
       "    </tr>\n",
       "  </tbody>\n",
       "</table>\n",
       "</div>"
      ],
      "text/plain": [
       "            date       state  fips  daily_cases  daily_deaths  \\\n",
       "19484 2020-01-21  Washington    53            1             0   \n",
       "19483 2020-01-22  Washington    53            0             0   \n",
       "19482 2020-01-23  Washington    53            0             0   \n",
       "5684  2020-01-24    Illinois    17            1             0   \n",
       "19481 2020-01-24  Washington    53            0             0   \n",
       "\n",
       "       daily_distributed  daily_people_vaccinated  \\\n",
       "19484                NaN                      NaN   \n",
       "19483                NaN                      NaN   \n",
       "19482                NaN                      NaN   \n",
       "5684                 NaN                      NaN   \n",
       "19481                NaN                      NaN   \n",
       "\n",
       "       daily_people_fully_vaccinated daily_vaccinations  mobility_composite  \n",
       "19484                            NaN                NaN                 NaN  \n",
       "19483                            NaN                NaN                 NaN  \n",
       "19482                            NaN                NaN                 NaN  \n",
       "5684                             NaN                NaN                 NaN  \n",
       "19481                            NaN                NaN                 NaN  "
      ]
     },
     "execution_count": 13,
     "metadata": {},
     "output_type": "execute_result"
    }
   ],
   "source": [
    "df.head()"
   ]
  },
  {
   "cell_type": "code",
   "execution_count": 14,
   "id": "e8f7a48d-81a7-4b17-aedb-5923ffcbe32f",
   "metadata": {
    "executionInfo": {
     "elapsed": 46916,
     "status": "ok",
     "timestamp": 1619509201197,
     "user": {
      "displayName": "Sitiporn Saelim",
      "photoUrl": "",
      "userId": "04392232392828254116"
     },
     "user_tz": -420
    },
    "id": "e8f7a48d-81a7-4b17-aedb-5923ffcbe32f"
   },
   "outputs": [],
   "source": [
    "df_state = df[df.state == STATE]"
   ]
  },
  {
   "cell_type": "code",
   "execution_count": 15,
   "id": "db9e99af-23dc-4e4e-a124-92d83a36d885",
   "metadata": {
    "colab": {
     "base_uri": "https://localhost:8080/",
     "height": 408
    },
    "executionInfo": {
     "elapsed": 47772,
     "status": "ok",
     "timestamp": 1619509202061,
     "user": {
      "displayName": "Sitiporn Saelim",
      "photoUrl": "",
      "userId": "04392232392828254116"
     },
     "user_tz": -420
    },
    "id": "db9e99af-23dc-4e4e-a124-92d83a36d885",
    "outputId": "0ba43519-6419-485a-f90b-ea123d762d7d"
   },
   "outputs": [
    {
     "data": {
      "image/png": "[encoded data removed]",
      "text/plain": [
       "<matplotlib.figure.Figure at 0x7fdb45141198>"
      ]
     },
     "metadata": {
      "needs_background": "light"
     },
     "output_type": "display_data"
    }
   ],
   "source": [
    "import pandas as pd\n",
    "import seaborn as sn\n",
    "import matplotlib.pyplot as plt\n",
    "\n",
    "corrMatrix = df_state.corr()\n",
    "sn.heatmap(corrMatrix, annot=True)\n",
    "plt.show()"
   ]
  },
  {
   "cell_type": "markdown",
   "id": "6662892c-7d17-4a48-a17c-83731bd9759e",
   "metadata": {
    "id": "6662892c-7d17-4a48-a17c-83731bd9759e"
   },
   "source": [
    "### select the high correlation to be our factors"
   ]
  },
  {
   "cell_type": "markdown",
   "id": "a276e2d6-9e04-4b58-955b-a4631b50d829",
   "metadata": {
    "id": "a276e2d6-9e04-4b58-955b-a4631b50d829"
   },
   "source": [
    "- daily death\n",
    "- daily people vacinated \n",
    "- daily_distibuted  \n",
    "- daily case "
   ]
  },
  {
   "cell_type": "code",
   "execution_count": 16,
   "id": "d6229abd-17d0-4e2b-b303-f4e2044f5079",
   "metadata": {
    "colab": {
     "base_uri": "https://localhost:8080/"
    },
    "executionInfo": {
     "elapsed": 47768,
     "status": "ok",
     "timestamp": 1619509202062,
     "user": {
      "displayName": "Sitiporn Saelim",
      "photoUrl": "",
      "userId": "04392232392828254116"
     },
     "user_tz": -420
    },
    "id": "d6229abd-17d0-4e2b-b303-f4e2044f5079",
    "outputId": "7c9c1a5f-eb10-40df-ba25-ae5f3f2cfc59"
   },
   "outputs": [
    {
     "data": {
      "text/plain": [
       "Index(['date', 'state', 'fips', 'daily_cases', 'daily_deaths',\n",
       "       'daily_distributed', 'daily_people_vaccinated',\n",
       "       'daily_people_fully_vaccinated', 'daily_vaccinations',\n",
       "       'mobility_composite'],\n",
       "      dtype='object')"
      ]
     },
     "execution_count": 16,
     "metadata": {},
     "output_type": "execute_result"
    }
   ],
   "source": [
    "df_state.columns"
   ]
  },
  {
   "cell_type": "code",
   "execution_count": 17,
   "id": "39b13fd3-a58b-476e-9bdd-65c1f96f8311",
   "metadata": {
    "executionInfo": {
     "elapsed": 47765,
     "status": "ok",
     "timestamp": 1619509202062,
     "user": {
      "displayName": "Sitiporn Saelim",
      "photoUrl": "",
      "userId": "04392232392828254116"
     },
     "user_tz": -420
    },
    "id": "39b13fd3-a58b-476e-9bdd-65c1f96f8311"
   },
   "outputs": [],
   "source": [
    "df_state = df_state.set_index('date') "
   ]
  },
  {
   "cell_type": "code",
   "execution_count": 18,
   "id": "598184b0-4082-404b-9b4d-3729f6297e39",
   "metadata": {
    "colab": {
     "base_uri": "https://localhost:8080/",
     "height": 0
    },
    "executionInfo": {
     "elapsed": 47758,
     "status": "ok",
     "timestamp": 1619509202063,
     "user": {
      "displayName": "Sitiporn Saelim",
      "photoUrl": "",
      "userId": "04392232392828254116"
     },
     "user_tz": -420
    },
    "id": "598184b0-4082-404b-9b4d-3729f6297e39",
    "outputId": "7255bf5b-fbb9-416f-bea6-b833636a8c77"
   },
   "outputs": [
    {
     "data": {
      "text/html": [
       "<div>\n",
       "<style scoped>\n",
       "    .dataframe tbody tr th:only-of-type {\n",
       "        vertical-align: middle;\n",
       "    }\n",
       "\n",
       "    .dataframe tbody tr th {\n",
       "        vertical-align: top;\n",
       "    }\n",
       "\n",
       "    .dataframe thead th {\n",
       "        text-align: right;\n",
       "    }\n",
       "</style>\n",
       "<table border=\"1\" class=\"dataframe\">\n",
       "  <thead>\n",
       "    <tr style=\"text-align: right;\">\n",
       "      <th></th>\n",
       "      <th>state</th>\n",
       "      <th>fips</th>\n",
       "      <th>daily_cases</th>\n",
       "      <th>daily_deaths</th>\n",
       "      <th>daily_distributed</th>\n",
       "      <th>daily_people_vaccinated</th>\n",
       "      <th>daily_people_fully_vaccinated</th>\n",
       "      <th>daily_vaccinations</th>\n",
       "      <th>mobility_composite</th>\n",
       "    </tr>\n",
       "    <tr>\n",
       "      <th>date</th>\n",
       "      <th></th>\n",
       "      <th></th>\n",
       "      <th></th>\n",
       "      <th></th>\n",
       "      <th></th>\n",
       "      <th></th>\n",
       "      <th></th>\n",
       "      <th></th>\n",
       "      <th></th>\n",
       "    </tr>\n",
       "  </thead>\n",
       "  <tbody>\n",
       "    <tr>\n",
       "      <th>2020-03-01</th>\n",
       "      <td>Florida</td>\n",
       "      <td>12</td>\n",
       "      <td>2</td>\n",
       "      <td>0</td>\n",
       "      <td>NaN</td>\n",
       "      <td>NaN</td>\n",
       "      <td>NaN</td>\n",
       "      <td>NaN</td>\n",
       "      <td>2.066859</td>\n",
       "    </tr>\n",
       "    <tr>\n",
       "      <th>2020-03-02</th>\n",
       "      <td>Florida</td>\n",
       "      <td>12</td>\n",
       "      <td>0</td>\n",
       "      <td>0</td>\n",
       "      <td>NaN</td>\n",
       "      <td>NaN</td>\n",
       "      <td>NaN</td>\n",
       "      <td>NaN</td>\n",
       "      <td>2.060743</td>\n",
       "    </tr>\n",
       "    <tr>\n",
       "      <th>2020-03-03</th>\n",
       "      <td>Florida</td>\n",
       "      <td>12</td>\n",
       "      <td>1</td>\n",
       "      <td>0</td>\n",
       "      <td>NaN</td>\n",
       "      <td>NaN</td>\n",
       "      <td>NaN</td>\n",
       "      <td>NaN</td>\n",
       "      <td>1.995093</td>\n",
       "    </tr>\n",
       "    <tr>\n",
       "      <th>2020-03-04</th>\n",
       "      <td>Florida</td>\n",
       "      <td>12</td>\n",
       "      <td>0</td>\n",
       "      <td>0</td>\n",
       "      <td>NaN</td>\n",
       "      <td>NaN</td>\n",
       "      <td>NaN</td>\n",
       "      <td>NaN</td>\n",
       "      <td>1.845753</td>\n",
       "    </tr>\n",
       "    <tr>\n",
       "      <th>2020-03-05</th>\n",
       "      <td>Florida</td>\n",
       "      <td>12</td>\n",
       "      <td>1</td>\n",
       "      <td>0</td>\n",
       "      <td>NaN</td>\n",
       "      <td>NaN</td>\n",
       "      <td>NaN</td>\n",
       "      <td>NaN</td>\n",
       "      <td>1.581910</td>\n",
       "    </tr>\n",
       "  </tbody>\n",
       "</table>\n",
       "</div>"
      ],
      "text/plain": [
       "              state  fips  daily_cases  daily_deaths  daily_distributed  \\\n",
       "date                                                                      \n",
       "2020-03-01  Florida    12            2             0                NaN   \n",
       "2020-03-02  Florida    12            0             0                NaN   \n",
       "2020-03-03  Florida    12            1             0                NaN   \n",
       "2020-03-04  Florida    12            0             0                NaN   \n",
       "2020-03-05  Florida    12            1             0                NaN   \n",
       "\n",
       "            daily_people_vaccinated  daily_people_fully_vaccinated  \\\n",
       "date                                                                 \n",
       "2020-03-01                      NaN                            NaN   \n",
       "2020-03-02                      NaN                            NaN   \n",
       "2020-03-03                      NaN                            NaN   \n",
       "2020-03-04                      NaN                            NaN   \n",
       "2020-03-05                      NaN                            NaN   \n",
       "\n",
       "           daily_vaccinations  mobility_composite  \n",
       "date                                               \n",
       "2020-03-01                NaN            2.066859  \n",
       "2020-03-02                NaN            2.060743  \n",
       "2020-03-03                NaN            1.995093  \n",
       "2020-03-04                NaN            1.845753  \n",
       "2020-03-05                NaN            1.581910  "
      ]
     },
     "execution_count": 18,
     "metadata": {},
     "output_type": "execute_result"
    }
   ],
   "source": [
    "df_state.head()"
   ]
  },
  {
   "cell_type": "code",
   "execution_count": 19,
   "id": "2bd8ef7b-99ba-4c1f-8c67-df4bf7ead2b7",
   "metadata": {
    "executionInfo": {
     "elapsed": 47757,
     "status": "ok",
     "timestamp": 1619509202063,
     "user": {
      "displayName": "Sitiporn Saelim",
      "photoUrl": "",
      "userId": "04392232392828254116"
     },
     "user_tz": -420
    },
    "id": "2bd8ef7b-99ba-4c1f-8c67-df4bf7ead2b7"
   },
   "outputs": [],
   "source": [
    "df_state = df_state.drop(['state', 'fips',\n",
    "       'daily_people_vaccinated',\n",
    "       'daily_people_fully_vaccinated',\n",
    "       'mobility_composite'], axis=1)"
   ]
  },
  {
   "cell_type": "code",
   "execution_count": 20,
   "id": "8f2c8249-9da1-4cf9-b176-b70aa3610b4f",
   "metadata": {
    "colab": {
     "base_uri": "https://localhost:8080/"
    },
    "executionInfo": {
     "elapsed": 47752,
     "status": "ok",
     "timestamp": 1619509202064,
     "user": {
      "displayName": "Sitiporn Saelim",
      "photoUrl": "",
      "userId": "04392232392828254116"
     },
     "user_tz": -420
    },
    "id": "8f2c8249-9da1-4cf9-b176-b70aa3610b4f",
    "outputId": "e9d93a03-a9ba-4903-923e-2b06246f86fb"
   },
   "outputs": [
    {
     "name": "stdout",
     "output_type": "stream",
     "text": [
      "<class 'pandas.core.frame.DataFrame'>\n",
      "DatetimeIndex: 378 entries, 2020-03-01 to 2021-03-13\n",
      "Data columns (total 4 columns):\n",
      " #   Column              Non-Null Count  Dtype  \n",
      "---  ------              --------------  -----  \n",
      " 0   daily_cases         378 non-null    int64  \n",
      " 1   daily_deaths        378 non-null    int64  \n",
      " 2   daily_distributed   72 non-null     float64\n",
      " 3   daily_vaccinations  72 non-null     object \n",
      "dtypes: float64(1), int64(2), object(1)\n",
      "memory usage: 14.8+ KB\n"
     ]
    }
   ],
   "source": [
    "df_state.info()"
   ]
  },
  {
   "cell_type": "code",
   "execution_count": 21,
   "id": "d02afb67-eb2f-4da9-a7ab-75c97cc2cb93",
   "metadata": {
    "executionInfo": {
     "elapsed": 47751,
     "status": "ok",
     "timestamp": 1619509202066,
     "user": {
      "displayName": "Sitiporn Saelim",
      "photoUrl": "",
      "userId": "04392232392828254116"
     },
     "user_tz": -420
    },
    "id": "d02afb67-eb2f-4da9-a7ab-75c97cc2cb93"
   },
   "outputs": [],
   "source": [
    "df_state_clean = df_state.dropna()"
   ]
  },
  {
   "cell_type": "code",
   "execution_count": 22,
   "id": "066ceb35-f5b7-47d2-ac4a-d36f27214d34",
   "metadata": {
    "executionInfo": {
     "elapsed": 47749,
     "status": "ok",
     "timestamp": 1619509202066,
     "user": {
      "displayName": "Sitiporn Saelim",
      "photoUrl": "",
      "userId": "04392232392828254116"
     },
     "user_tz": -420
    },
    "id": "066ceb35-f5b7-47d2-ac4a-d36f27214d34"
   },
   "outputs": [],
   "source": [
    "df_state_clean = df_state_clean.replace(',','', regex=True)"
   ]
  },
  {
   "cell_type": "code",
   "execution_count": 23,
   "id": "3f9c5ecd-cbe0-45a4-9c6c-a9323ca98203",
   "metadata": {
    "colab": {
     "base_uri": "https://localhost:8080/"
    },
    "executionInfo": {
     "elapsed": 47745,
     "status": "ok",
     "timestamp": 1619509202067,
     "user": {
      "displayName": "Sitiporn Saelim",
      "photoUrl": "",
      "userId": "04392232392828254116"
     },
     "user_tz": -420
    },
    "id": "3f9c5ecd-cbe0-45a4-9c6c-a9323ca98203",
    "outputId": "645fa38f-de1c-4c93-a772-172fe2fa9511"
   },
   "outputs": [
    {
     "data": {
      "text/plain": [
       "(72, 4)"
      ]
     },
     "execution_count": 23,
     "metadata": {},
     "output_type": "execute_result"
    }
   ],
   "source": [
    "df_state_clean.shape"
   ]
  },
  {
   "cell_type": "code",
   "execution_count": 24,
   "id": "ae9bb82b-3168-4ac9-be30-f19c39c8ace6",
   "metadata": {
    "colab": {
     "base_uri": "https://localhost:8080/"
    },
    "executionInfo": {
     "elapsed": 47742,
     "status": "ok",
     "timestamp": 1619509202068,
     "user": {
      "displayName": "Sitiporn Saelim",
      "photoUrl": "",
      "userId": "04392232392828254116"
     },
     "user_tz": -420
    },
    "id": "ae9bb82b-3168-4ac9-be30-f19c39c8ace6",
    "outputId": "3c456f74-a3eb-4639-f54e-d955a4425280"
   },
   "outputs": [
    {
     "name": "stdout",
     "output_type": "stream",
     "text": [
      "<class 'pandas.core.frame.DataFrame'>\n",
      "DatetimeIndex: 72 entries, 2021-01-01 to 2021-03-13\n",
      "Data columns (total 4 columns):\n",
      " #   Column              Non-Null Count  Dtype  \n",
      "---  ------              --------------  -----  \n",
      " 0   daily_cases         72 non-null     int64  \n",
      " 1   daily_deaths        72 non-null     int64  \n",
      " 2   daily_distributed   72 non-null     float64\n",
      " 3   daily_vaccinations  72 non-null     object \n",
      "dtypes: float64(1), int64(2), object(1)\n",
      "memory usage: 2.8+ KB\n"
     ]
    }
   ],
   "source": [
    "df_state_clean.info()"
   ]
  },
  {
   "cell_type": "code",
   "execution_count": 25,
   "id": "c2a67ca0-bb2c-45ba-ad06-818b775b284f",
   "metadata": {
    "colab": {
     "base_uri": "https://localhost:8080/"
    },
    "executionInfo": {
     "elapsed": 47739,
     "status": "ok",
     "timestamp": 1619509202069,
     "user": {
      "displayName": "Sitiporn Saelim",
      "photoUrl": "",
      "userId": "04392232392828254116"
     },
     "user_tz": -420
    },
    "id": "c2a67ca0-bb2c-45ba-ad06-818b775b284f",
    "outputId": "4271289a-2c33-49c2-a104-452e25cc4c93"
   },
   "outputs": [
    {
     "data": {
      "text/plain": [
       "(72, 4)"
      ]
     },
     "execution_count": 25,
     "metadata": {},
     "output_type": "execute_result"
    }
   ],
   "source": [
    "df_state_clean.shape"
   ]
  },
  {
   "cell_type": "markdown",
   "id": "41e6cf0c-dc31-46f8-9fb7-58a5f722b13d",
   "metadata": {
    "id": "41e6cf0c-dc31-46f8-9fb7-58a5f722b13d"
   },
   "source": [
    "4_TCN_California## DATA Shape\n",
    "- (batch_size,data point,channel)\n",
    "\n",
    "### For CNN shape\n",
    "- Shape:\n",
    "        Input:(batch_size,channel, data point)\n",
    "        "
   ]
  },
  {
   "cell_type": "code",
   "execution_count": 26,
   "id": "6c184b07-5c84-4dfc-83c8-3ee084b21dc0",
   "metadata": {
    "colab": {
     "base_uri": "https://localhost:8080/",
     "height": 324
    },
    "executionInfo": {
     "elapsed": 48420,
     "status": "ok",
     "timestamp": 1619509202757,
     "user": {
      "displayName": "Sitiporn Saelim",
      "photoUrl": "",
      "userId": "04392232392828254116"
     },
     "user_tz": -420
    },
    "id": "6c184b07-5c84-4dfc-83c8-3ee084b21dc0",
    "outputId": "35504cc1-7940-43e1-d655-94fe842d11d4"
   },
   "outputs": [
    {
     "data": {
      "text/plain": [
       "<matplotlib.axes._subplots.AxesSubplot at 0x7fdb44984898>"
      ]
     },
     "execution_count": 26,
     "metadata": {},
     "output_type": "execute_result"
    },
    {
     "data": {
      "image/png": "[encoded data removed]",
      "text/plain": [
       "<matplotlib.figure.Figure at 0x7fdb452f05f8>"
      ]
     },
     "metadata": {
      "needs_background": "light"
     },
     "output_type": "display_data"
    }
   ],
   "source": [
    "df_clean.plot(title=f\"Daily cases :{STATE}\")"
   ]
  },
  {
   "cell_type": "code",
   "execution_count": 27,
   "id": "ebbadcba-a484-49b3-93cd-4ecab2707ab3",
   "metadata": {
    "colab": {
     "base_uri": "https://localhost:8080/"
    },
    "executionInfo": {
     "elapsed": 48417,
     "status": "ok",
     "timestamp": 1619509202758,
     "user": {
      "displayName": "Sitiporn Saelim",
      "photoUrl": "",
      "userId": "04392232392828254116"
     },
     "user_tz": -420
    },
    "id": "ebbadcba-a484-49b3-93cd-4ecab2707ab3",
    "outputId": "751c2aaa-be95-4157-fa04-b312945935af"
   },
   "outputs": [
    {
     "data": {
      "text/plain": [
       "378"
      ]
     },
     "execution_count": 27,
     "metadata": {},
     "output_type": "execute_result"
    }
   ],
   "source": [
    "df_clean.shape[0]"
   ]
  },
  {
   "cell_type": "code",
   "execution_count": 28,
   "id": "3c12e985-d837-4f1d-994f-09c7549ee47a",
   "metadata": {
    "colab": {
     "base_uri": "https://localhost:8080/"
    },
    "executionInfo": {
     "elapsed": 48412,
     "status": "ok",
     "timestamp": 1619509202759,
     "user": {
      "displayName": "Sitiporn Saelim",
      "photoUrl": "",
      "userId": "04392232392828254116"
     },
     "user_tz": -420
    },
    "id": "3c12e985-d837-4f1d-994f-09c7549ee47a",
    "outputId": "fc0addb9-0af3-44f0-b2bb-820a75893e2f"
   },
   "outputs": [
    {
     "data": {
      "text/plain": [
       "((302, 1), (76, 1))"
      ]
     },
     "execution_count": 28,
     "metadata": {},
     "output_type": "execute_result"
    }
   ],
   "source": [
    "train_data = df_clean.iloc[:int(len(df_clean)*0.8)]\n",
    "test_data = df_clean.iloc[int(len(df_clean)*0.8):]\n",
    "\n",
    "# train_data = np.expand_dims(train_data, axis=1)\n",
    "# test_data = np.expand_dims(test_data, axis=1)\n",
    "\n",
    "train_data.shape, test_data.shape "
   ]
  },
  {
   "cell_type": "code",
   "execution_count": 29,
   "id": "9f83ef7b-d478-42f6-ae8e-f5c3a3a8239f",
   "metadata": {
    "executionInfo": {
     "elapsed": 48410,
     "status": "ok",
     "timestamp": 1619509202760,
     "user": {
      "displayName": "Sitiporn Saelim",
      "photoUrl": "",
      "userId": "04392232392828254116"
     },
     "user_tz": -420
    },
    "id": "9f83ef7b-d478-42f6-ae8e-f5c3a3a8239f"
   },
   "outputs": [],
   "source": [
    "# scaler = MinMaxScaler()\n",
    "scaler = StandardScaler()\n",
    "\n",
    "scaler = scaler.fit(train_data)\n",
    "\n",
    "train_data = scaler.transform(train_data)\n",
    "\n",
    "test_data = scaler.transform(test_data)"
   ]
  },
  {
   "cell_type": "code",
   "execution_count": 30,
   "id": "15532477-1a0e-44c2-a270-128a09cefaab",
   "metadata": {
    "executionInfo": {
     "elapsed": 48407,
     "status": "ok",
     "timestamp": 1619509202761,
     "user": {
      "displayName": "Sitiporn Saelim",
      "photoUrl": "",
      "userId": "04392232392828254116"
     },
     "user_tz": -420
    },
    "id": "15532477-1a0e-44c2-a270-128a09cefaab"
   },
   "outputs": [],
   "source": [
    "train_data = np.asarray(train_data)\n",
    "test_data = np.asarray(test_data)"
   ]
  },
  {
   "cell_type": "code",
   "execution_count": 31,
   "id": "e957bba3-ef61-40d2-bb90-0db349eb26e0",
   "metadata": {
    "executionInfo": {
     "elapsed": 48406,
     "status": "ok",
     "timestamp": 1619509202762,
     "user": {
      "displayName": "Sitiporn Saelim",
      "photoUrl": "",
      "userId": "04392232392828254116"
     },
     "user_tz": -420
    },
    "id": "e957bba3-ef61-40d2-bb90-0db349eb26e0"
   },
   "outputs": [],
   "source": [
    "def create_sequences(data, seq_length):\n",
    "    xs = []\n",
    "    ys = []\n",
    "    \n",
    "    for i in range(len(data)-seq_length-1):\n",
    "        x = data[i:(i+seq_length)]\n",
    "        #print(i)\n",
    "        y = data[i+seq_length]\n",
    "        xs.append(x)\n",
    "        ys.append(y)\n",
    "\n",
    "    return np.array(xs), np.array(ys)"
   ]
  },
  {
   "cell_type": "code",
   "execution_count": 32,
   "id": "580acfdd-8af4-470d-8b41-b4a737e38cbc",
   "metadata": {
    "executionInfo": {
     "elapsed": 48403,
     "status": "ok",
     "timestamp": 1619509202763,
     "user": {
      "displayName": "Sitiporn Saelim",
      "photoUrl": "",
      "userId": "04392232392828254116"
     },
     "user_tz": -420
    },
    "id": "580acfdd-8af4-470d-8b41-b4a737e38cbc"
   },
   "outputs": [],
   "source": [
    "X_train, y_train = create_sequences(train_data, seq_length)\n",
    "X_test, y_test = create_sequences(test_data, seq_length)\n",
    "\n",
    "X_train = torch.from_numpy(X_train).float()\n",
    "y_train = torch.from_numpy(y_train).float()\n",
    "\n",
    "X_test = torch.from_numpy(X_test).float()\n",
    "y_test = torch.from_numpy(y_test).float()"
   ]
  },
  {
   "cell_type": "code",
   "execution_count": 33,
   "id": "6a9dcc9e-4638-48f6-859b-09d860477355",
   "metadata": {
    "colab": {
     "base_uri": "https://localhost:8080/"
    },
    "executionInfo": {
     "elapsed": 48398,
     "status": "ok",
     "timestamp": 1619509202763,
     "user": {
      "displayName": "Sitiporn Saelim",
      "photoUrl": "",
      "userId": "04392232392828254116"
     },
     "user_tz": -420
    },
    "id": "6a9dcc9e-4638-48f6-859b-09d860477355",
    "outputId": "e15edeca-c419-419b-e74b-c8b56818caf0"
   },
   "outputs": [
    {
     "data": {
      "text/plain": [
       "(torch.Size([280, 21, 1]),\n",
       " torch.Size([280, 1]),\n",
       " torch.Size([54, 21, 1]),\n",
       " torch.Size([54, 1]))"
      ]
     },
     "execution_count": 33,
     "metadata": {},
     "output_type": "execute_result"
    }
   ],
   "source": [
    "X_train.shape , y_train.shape , X_test.shape, y_test.shape"
   ]
  },
  {
   "cell_type": "code",
   "execution_count": 34,
   "id": "cdc119a6-14a0-4285-ab6e-3bdf3b9b3f9a",
   "metadata": {
    "executionInfo": {
     "elapsed": 48397,
     "status": "ok",
     "timestamp": 1619509202765,
     "user": {
      "displayName": "Sitiporn Saelim",
      "photoUrl": "",
      "userId": "04392232392828254116"
     },
     "user_tz": -420
    },
    "id": "cdc119a6-14a0-4285-ab6e-3bdf3b9b3f9a"
   },
   "outputs": [],
   "source": [
    "X_train = torch.reshape(X_train,(X_train.shape[0],1,-1))\n",
    "X_test =  torch.reshape(X_test,(X_test.shape[0],1,-1))"
   ]
  },
  {
   "cell_type": "code",
   "execution_count": 35,
   "id": "966746ba-33e5-4424-8346-37dd3c7bea01",
   "metadata": {
    "colab": {
     "base_uri": "https://localhost:8080/"
    },
    "executionInfo": {
     "elapsed": 48392,
     "status": "ok",
     "timestamp": 1619509202765,
     "user": {
      "displayName": "Sitiporn Saelim",
      "photoUrl": "",
      "userId": "04392232392828254116"
     },
     "user_tz": -420
    },
    "id": "966746ba-33e5-4424-8346-37dd3c7bea01",
    "outputId": "1353a78d-c36d-4c8c-d328-4b0076a65325"
   },
   "outputs": [
    {
     "data": {
      "text/plain": [
       "(torch.Size([280, 1, 21]),\n",
       " torch.Size([280, 1]),\n",
       " torch.Size([54, 1, 21]),\n",
       " torch.Size([54, 1]))"
      ]
     },
     "execution_count": 35,
     "metadata": {},
     "output_type": "execute_result"
    }
   ],
   "source": [
    "X_train.shape , y_train.shape , X_test.shape, y_test.shape"
   ]
  },
  {
   "cell_type": "code",
   "execution_count": 36,
   "id": "a9PLF5Yy9ZRy",
   "metadata": {
    "colab": {
     "base_uri": "https://localhost:8080/",
     "height": 282
    },
    "executionInfo": {
     "elapsed": 48899,
     "status": "ok",
     "timestamp": 1619509203278,
     "user": {
      "displayName": "Sitiporn Saelim",
      "photoUrl": "",
      "userId": "04392232392828254116"
     },
     "user_tz": -420
    },
    "id": "a9PLF5Yy9ZRy",
    "outputId": "77b630a4-3c19-4725-d804-2470be27149a"
   },
   "outputs": [
    {
     "data": {
      "text/plain": [
       "[<matplotlib.lines.Line2D at 0x7fdb447df6a0>]"
      ]
     },
     "execution_count": 36,
     "metadata": {},
     "output_type": "execute_result"
    },
    {
     "data": {
      "image/png": "[encoded data removed]",
      "text/plain": [
       "<matplotlib.figure.Figure at 0x7fdb44984978>"
      ]
     },
     "metadata": {
      "needs_background": "light"
     },
     "output_type": "display_data"
    }
   ],
   "source": [
    "plt.plot(range(len(X_train.flatten())), X_train.flatten())"
   ]
  },
  {
   "cell_type": "code",
   "execution_count": 37,
   "id": "365d5788-cc34-4817-a2e7-bd0811710ee6",
   "metadata": {
    "executionInfo": {
     "elapsed": 48897,
     "status": "ok",
     "timestamp": 1619509203278,
     "user": {
      "displayName": "Sitiporn Saelim",
      "photoUrl": "",
      "userId": "04392232392828254116"
     },
     "user_tz": -420
    },
    "id": "365d5788-cc34-4817-a2e7-bd0811710ee6"
   },
   "outputs": [],
   "source": [
    "from torch.utils.data import TensorDataset\n",
    "\n",
    "# Define dataset\n",
    "ds_train = TensorDataset(X_train, y_train)\n",
    "ds_test = TensorDataset(X_test, y_test)"
   ]
  },
  {
   "cell_type": "code",
   "execution_count": 38,
   "id": "30d22c12-cb30-4a04-9280-85fa7018d82a",
   "metadata": {
    "executionInfo": {
     "elapsed": 48896,
     "status": "ok",
     "timestamp": 1619509203279,
     "user": {
      "displayName": "Sitiporn Saelim",
      "photoUrl": "",
      "userId": "04392232392828254116"
     },
     "user_tz": -420
    },
    "id": "30d22c12-cb30-4a04-9280-85fa7018d82a"
   },
   "outputs": [],
   "source": [
    "BATCH_SIZE = 7  #keeping it binary so it fits GPU\n",
    "# #Train set loader\n",
    "train_iterator = torch.utils.data.DataLoader(dataset=ds_train, \n",
    "                                           batch_size=BATCH_SIZE, \n",
    "                                            shuffle=True)\n",
    "#Test set loader\n",
    "test_iterator = torch.utils.data.DataLoader(dataset=ds_test, \n",
    "                                          batch_size=BATCH_SIZE, \n",
    "                                          shuffle=True)"
   ]
  },
  {
   "cell_type": "markdown",
   "id": "nwqMkVWkNcpl",
   "metadata": {
    "id": "nwqMkVWkNcpl"
   },
   "source": [
    "# Training Section"
   ]
  },
  {
   "cell_type": "markdown",
   "id": "17a936f1-f68a-411a-b61c-c4067a1207bd",
   "metadata": {
    "id": "17a936f1-f68a-411a-b61c-c4067a1207bd"
   },
   "source": [
    "## Define Model"
   ]
  },
  {
   "cell_type": "code",
   "execution_count": 39,
   "id": "ff4391ed-a40f-4fcd-9e6a-ead688102775",
   "metadata": {
    "executionInfo": {
     "elapsed": 48895,
     "status": "ok",
     "timestamp": 1619509203280,
     "user": {
      "displayName": "Sitiporn Saelim",
      "photoUrl": "",
      "userId": "04392232392828254116"
     },
     "user_tz": -420
    },
    "id": "ff4391ed-a40f-4fcd-9e6a-ead688102775"
   },
   "outputs": [],
   "source": [
    "class ResidualBlock(nn.Module):\n",
    "    def __init__(self,kernel_size=3,dilation=1,in_dim=16,hidden_dim=64,out_dim=128):\n",
    "        super(ResidualBlock, self).__init__()\n",
    "        self.pad = (kernel_size - 1) * dilation\n",
    "        \n",
    "        #self.casual1 = nn.Conv1d(in_channels=16,out_channels=32,kernel_size=kernel_size,stride=1,padding=self.pad,dilation=dilation)\n",
    "        #self.casual2 = nn.Conv1d(in_channels=32,out_channels=64,kernel_size=kernel_size,stride=1,padding=self.pad,dilation=dilation)\n",
    "        \n",
    "        self.layer_1 = nn.Sequential(nn.utils.weight_norm(nn.Conv1d(in_channels=in_dim,out_channels=hidden_dim,\n",
    "                                     kernel_size=kernel_size,stride=1,padding=self.pad,dilation=dilation)),\n",
    "                                     nn.LeakyReLU(0.1),nn.Dropout(p=0.2))\n",
    "         \n",
    "        self.layer_2 = nn.Sequential(nn.utils.weight_norm(nn.Conv1d(in_channels=hidden_dim,out_channels=out_dim,\n",
    "                                    kernel_size=kernel_size,stride=1,padding=self.pad,dilation=dilation)),\n",
    "                                    nn.LeakyReLU(0.1),nn.Dropout(p=0.2))\n",
    "        \n",
    "        self.conv1_1 = nn.Conv1d(in_channels=in_dim,out_channels=out_dim,\n",
    "                                                        kernel_size=1,stride=1,padding=0,dilation=1)\n",
    "        \n",
    "    def forward(self,x):\n",
    "        \n",
    "        x_iden = x\n",
    "        x = self.layer_1(x)\n",
    "        x = x[:,:,:-self.pad]\n",
    "        #print(x.shape)\n",
    "        x = self.layer_2(x) \n",
    "        x = x[:,:,:-self.pad]\n",
    "        #print(x.shape)\n",
    "        x_iden = self.conv1_1(x_iden)\n",
    "        #print(x_iden.shape)\n",
    "        x = x + x_iden\n",
    "        \n",
    "        return x         "
   ]
  },
  {
   "cell_type": "code",
   "execution_count": 40,
   "id": "0c50375b-7e32-4447-985b-3cb7c4a9a88f",
   "metadata": {
    "executionInfo": {
     "elapsed": 48892,
     "status": "ok",
     "timestamp": 1619509203280,
     "user": {
      "displayName": "Sitiporn Saelim",
      "photoUrl": "",
      "userId": "04392232392828254116"
     },
     "user_tz": -420
    },
    "id": "0c50375b-7e32-4447-985b-3cb7c4a9a88f"
   },
   "outputs": [],
   "source": [
    "class TemporalConvNet(nn.Module):\n",
    "    def __init__(self,num_residual_layers,channel_config,num_classes):\n",
    "        super(TemporalConvNet, self).__init__()\n",
    "        self.num_residual_layers = num_residual_layers \n",
    "        self.residual_layers = []\n",
    "        #print(self.num_residual_layers)\n",
    "        \n",
    "        for i in range(self.num_residual_layers):\n",
    "            d = pow(2, i)\n",
    "            #print(d)\n",
    "            self.residual_layers.append(ResidualBlock(kernel_size=3,dilation=d,in_dim=channel_config[i][0],hidden_dim=channel_config[i][1],out_dim=channel_config[i][2]).to(device))        \n",
    "      \n",
    "        self.fc = nn.Sequential(nn.Linear(21 , 14),nn.ReLU(),nn.Dropout(0.5),\n",
    "                                nn.Linear(14,7),nn.ReLU(),\n",
    "                                nn.Dropout(0.5),nn.Linear(7,4))\n",
    "        \n",
    "        \n",
    "        self.out = nn.Linear(4, 1)\n",
    "        #self.softmax = nn.LogSoftmax(dim=1)\n",
    "        \n",
    "\n",
    "        #self.fc = nn.Sequential(nn.Linear(75 ,100),nn.ReLU(),nn.Linear(100,10))\n",
    "        \n",
    "    def forward(self,x):\n",
    "        for layer in self.residual_layers:\n",
    "            x = layer(x)\n",
    "        #print(\"layer :\",x.shape)\n",
    "        x = torch.flatten(x,start_dim=1)\n",
    "        #print(\"flatten:\",x.shape)        \n",
    "        x = self.fc(x).to(device)\n",
    "        \n",
    "        x = self.out(x).to(device)\n",
    "        #print(x.shape)\n",
    "    \n",
    "        return x"
   ]
  },
  {
   "cell_type": "code",
   "execution_count": 41,
   "id": "4828ea44-9f63-4640-a5d9-36de8a59dadb",
   "metadata": {
    "colab": {
     "base_uri": "https://localhost:8080/"
    },
    "executionInfo": {
     "elapsed": 48888,
     "status": "ok",
     "timestamp": 1619509203281,
     "user": {
      "displayName": "Sitiporn Saelim",
      "photoUrl": "",
      "userId": "04392232392828254116"
     },
     "user_tz": -420
    },
    "id": "4828ea44-9f63-4640-a5d9-36de8a59dadb",
    "outputId": "410043ae-c241-4ba6-b3e2-746f4add817b"
   },
   "outputs": [
    {
     "name": "stdout",
     "output_type": "stream",
     "text": [
      "Configured device:  cuda\n"
     ]
    }
   ],
   "source": [
    "print(\"Configured device: \", device)"
   ]
  },
  {
   "cell_type": "markdown",
   "id": "4b5b241f-00f7-4bf2-9c21-8852104cfc83",
   "metadata": {
    "id": "4b5b241f-00f7-4bf2-9c21-8852104cfc83"
   },
   "source": [
    "## Create model"
   ]
  },
  {
   "cell_type": "code",
   "execution_count": 42,
   "id": "49e276f0-ef26-49fe-982e-9846df90261c",
   "metadata": {
    "executionInfo": {
     "elapsed": 57248,
     "status": "ok",
     "timestamp": 1619509211643,
     "user": {
      "displayName": "Sitiporn Saelim",
      "photoUrl": "",
      "userId": "04392232392828254116"
     },
     "user_tz": -420
    },
    "id": "49e276f0-ef26-49fe-982e-9846df90261c"
   },
   "outputs": [],
   "source": [
    "model_Tcn = TemporalConvNet(num_residual_layers=3,channel_config=channel_config,num_classes=1)\n",
    "model_Tcn = model_Tcn.float()\n",
    "models = [model_Tcn]"
   ]
  },
  {
   "cell_type": "code",
   "execution_count": 43,
   "id": "e9b02cf6-e8f4-4885-844c-fbe367ee456c",
   "metadata": {
    "executionInfo": {
     "elapsed": 57249,
     "status": "ok",
     "timestamp": 1619509211646,
     "user": {
      "displayName": "Sitiporn Saelim",
      "photoUrl": "",
      "userId": "04392232392828254116"
     },
     "user_tz": -420
    },
    "id": "e9b02cf6-e8f4-4885-844c-fbe367ee456c"
   },
   "outputs": [],
   "source": [
    "for model in models:\n",
    "    model = model.to(device)"
   ]
  },
  {
   "cell_type": "markdown",
   "id": "cf3c0d2e-9240-4b30-8695-b8c86e02506c",
   "metadata": {
    "id": "cf3c0d2e-9240-4b30-8695-b8c86e02506c"
   },
   "source": [
    "### Create Optimizer"
   ]
  },
  {
   "cell_type": "code",
   "execution_count": 44,
   "id": "ed97a139-94a0-48b7-b415-ccf51a58b346",
   "metadata": {
    "executionInfo": {
     "elapsed": 57249,
     "status": "ok",
     "timestamp": 1619509211650,
     "user": {
      "displayName": "Sitiporn Saelim",
      "photoUrl": "",
      "userId": "04392232392828254116"
     },
     "user_tz": -420
    },
    "id": "ed97a139-94a0-48b7-b415-ccf51a58b346"
   },
   "outputs": [],
   "source": [
    "import torch.optim as optim\n",
    "#0.01\n",
    "learning_rate = 1e-4\n",
    "\n",
    "optimizer = optim.Adam(model.parameters())\n",
    "\n",
    "criterion = torch.nn.MSELoss().float() #nn.NLLLoss()\n",
    "optimizer = torch.optim.Adam(model.parameters(), lr=learning_rate)"
   ]
  },
  {
   "cell_type": "markdown",
   "id": "5fe76e97-cd26-4824-8bb1-1b7ca11631fd",
   "metadata": {
    "id": "5fe76e97-cd26-4824-8bb1-1b7ca11631fd"
   },
   "source": [
    "### Training Function"
   ]
  },
  {
   "cell_type": "code",
   "execution_count": 45,
   "id": "a2b7a551-3e07-4e10-9547-c0d499e5a9a6",
   "metadata": {
    "executionInfo": {
     "elapsed": 57248,
     "status": "ok",
     "timestamp": 1619509211652,
     "user": {
      "displayName": "Sitiporn Saelim",
      "photoUrl": "",
      "userId": "04392232392828254116"
     },
     "user_tz": -420
    },
    "id": "a2b7a551-3e07-4e10-9547-c0d499e5a9a6"
   },
   "outputs": [],
   "source": [
    "def train(model, iterator, optimizer, criterion):\n",
    "    total = 0\n",
    "    correct = 0\n",
    "    epoch_loss = 0\n",
    "    epoch_acc = 0\n",
    "   # loss_list = []\n",
    "    model.train()\n",
    "    \n",
    "    for batch, num_cases in iterator:\n",
    "        \n",
    "        #Move tensors to the configured device\n",
    "        batch = batch.to(device)\n",
    "        num_cases = num_cases.to(device) \n",
    "#         num_cases = num_cases[:,-1]\n",
    "#         num_cases =  torch.reshape(num_cases, (num_cases.shape[0], 1))\n",
    "        #Forward pass\n",
    "        #print(\"batch train:\",batch.shape)\n",
    "        outputs = model(batch.float())\n",
    "#         print(\"outputs:\",outputs.shape)\n",
    "#         print(\"num_cases :\",num_cases.shape)\n",
    "#         print(\"outputs :\",outputs)\n",
    "#         print(\"num_cases :\",num_cases)\n",
    "        loss = criterion(outputs, num_cases.float())\n",
    "        \n",
    "        # Backward and optimize\n",
    "        optimizer.zero_grad()\n",
    "        loss.backward()\n",
    "        optimizer.step()\n",
    "        #loss_list.append(loss.data)  \n",
    "         \n",
    "#         #check accuracy\n",
    "#         predictions = model(batch.float())\n",
    "#         _, predicted = torch.max(predictions.data, 1)  #returns max value, indices\n",
    "#          #keep track of total\n",
    "#         correct += (predicted == labels).sum().item()  #.item() give the raw number\n",
    "#         acc = 100 * (correct / total)\n",
    "                \n",
    "        epoch_loss += loss.item()\n",
    "#         epoch_acc = acc\n",
    "      \n",
    "    return epoch_loss / len(iterator)  #, epoch_acc, predicted"
   ]
  },
  {
   "cell_type": "code",
   "execution_count": 46,
   "id": "d816be15-ba87-40e5-8182-8983d08fb978",
   "metadata": {
    "executionInfo": {
     "elapsed": 57249,
     "status": "ok",
     "timestamp": 1619509211655,
     "user": {
      "displayName": "Sitiporn Saelim",
      "photoUrl": "",
      "userId": "04392232392828254116"
     },
     "user_tz": -420
    },
    "id": "d816be15-ba87-40e5-8182-8983d08fb978"
   },
   "outputs": [],
   "source": [
    "def test(model,iterator, optimizer, criterion):\n",
    "    total = 0\n",
    "    correct = 0\n",
    "    epoch_loss = 0\n",
    "    epoch_acc = 0\n",
    "   # loss_list = []\n",
    "    for batch, num_cases in iterator:\n",
    "        batch = batch.to(device)\n",
    "        num_cases = num_cases.to(device)\n",
    "        #print(\"batch test:\",batch.shape)\n",
    "        with torch.no_grad():\n",
    "            y_test_pred = model(batch.float())\n",
    "            loss = criterion(y_test_pred, num_cases.float())\n",
    "            epoch_loss += loss\n",
    "            \n",
    "    return epoch_loss / len(iterator)  "
   ]
  },
  {
   "cell_type": "code",
   "execution_count": 47,
   "id": "e4afaa15-4100-4c52-80fb-c7ca85fbe37c",
   "metadata": {
    "executionInfo": {
     "elapsed": 57248,
     "status": "ok",
     "timestamp": 1619509211656,
     "user": {
      "displayName": "Sitiporn Saelim",
      "photoUrl": "",
      "userId": "04392232392828254116"
     },
     "user_tz": -420
    },
    "id": "e4afaa15-4100-4c52-80fb-c7ca85fbe37c"
   },
   "outputs": [],
   "source": [
    "from IPython.display import clear_output"
   ]
  },
  {
   "cell_type": "code",
   "execution_count": 48,
   "id": "66e0a334-0206-4e81-ac46-7a8b1c92fcfb",
   "metadata": {
    "executionInfo": {
     "elapsed": 57247,
     "status": "ok",
     "timestamp": 1619509211657,
     "user": {
      "displayName": "Sitiporn Saelim",
      "photoUrl": "",
      "userId": "04392232392828254116"
     },
     "user_tz": -420
    },
    "id": "66e0a334-0206-4e81-ac46-7a8b1c92fcfb"
   },
   "outputs": [],
   "source": [
    "name = f\"Epoch ={N_EPOCHS} LR = {learning_rate} Adam\""
   ]
  },
  {
   "cell_type": "code",
   "execution_count": 49,
   "id": "9509ba65-c59a-4318-886e-f7e0e565770a",
   "metadata": {
    "colab": {
     "base_uri": "https://localhost:8080/",
     "height": 400
    },
    "executionInfo": {
     "elapsed": 57927,
     "status": "error",
     "timestamp": 1619509212344,
     "user": {
      "displayName": "Sitiporn Saelim",
      "photoUrl": "",
      "userId": "04392232392828254116"
     },
     "user_tz": -420
    },
    "id": "9509ba65-c59a-4318-886e-f7e0e565770a",
    "outputId": "0adfd7c6-19f2-45f9-ade8-d5071d8987cf"
   },
   "outputs": [
    {
     "name": "stdout",
     "output_type": "stream",
     "text": [
      "Training TemporalConvNet\n",
      "Epoch 0 train loss: 1.0939509388059379 test loss: 1.6448242664337158\n",
      "Epoch 1 train loss: 1.0769629951566457 test loss: 1.648061752319336\n",
      "Epoch 2 train loss: 1.0800870407372714 test loss: 1.7209348678588867\n",
      "Epoch 3 train loss: 1.0484490301460028 test loss: 1.4597790241241455\n",
      "Epoch 4 train loss: 1.0510913603007794 test loss: 1.3959094285964966\n",
      "Epoch 5 train loss: 1.0375611875206232 test loss: 1.3663434982299805\n",
      "Epoch 6 train loss: 1.0449268395081162 test loss: 1.3918819427490234\n",
      "Epoch 7 train loss: 1.03298618234694 test loss: 1.4304711818695068\n",
      "Epoch 8 train loss: 1.034761031717062 test loss: 1.3416234254837036\n",
      "Epoch 9 train loss: 0.9878552161157131 test loss: 1.2858686447143555\n",
      "Epoch 10 train loss: 0.990246494859457 test loss: 1.2998489141464233\n",
      "Epoch 11 train loss: 0.9453949876129627 test loss: 1.3582134246826172\n",
      "Epoch 12 train loss: 0.9783950693905353 test loss: 1.1388366222381592\n",
      "Epoch 13 train loss: 0.9732401918619871 test loss: 1.213594913482666\n",
      "Epoch 14 train loss: 0.9511978019028902 test loss: 1.0287951231002808\n",
      "Epoch 15 train loss: 0.9142019800841809 test loss: 1.1376726627349854\n",
      "Epoch 16 train loss: 0.9572737060487271 test loss: 1.2949035167694092\n",
      "Epoch 17 train loss: 0.8835457898676395 test loss: 1.1477031707763672\n",
      "Epoch 18 train loss: 0.9054655231535435 test loss: 0.9809147715568542\n",
      "Epoch 19 train loss: 0.8959250457584857 test loss: 0.8580890893936157\n",
      "Epoch 20 train loss: 0.8774462286382914 test loss: 0.92251056432724\n",
      "Epoch 21 train loss: 0.8826288558542729 test loss: 1.0953011512756348\n",
      "Epoch 22 train loss: 0.8871230877935886 test loss: 0.7803815603256226\n",
      "Epoch 23 train loss: 0.9066492676734924 test loss: 0.9806544184684753\n",
      "Epoch 24 train loss: 0.8532511748373508 test loss: 1.0227439403533936\n",
      "Epoch 25 train loss: 0.8682441666722298 test loss: 0.8345892429351807\n",
      "Epoch 26 train loss: 0.8434534803032875 test loss: 0.9852240085601807\n",
      "Epoch 27 train loss: 0.8484520465135574 test loss: 0.8873505592346191\n",
      "Epoch 28 train loss: 0.8877547048032284 test loss: 0.7939943075180054\n",
      "Epoch 29 train loss: 0.8662329783663154 test loss: 0.878136932849884\n",
      "Epoch 30 train loss: 0.8716207221150398 test loss: 0.7848169803619385\n",
      "Epoch 31 train loss: 0.826492152363062 test loss: 0.9161254167556763\n",
      "Epoch 32 train loss: 0.8649390336126089 test loss: 0.6992138028144836\n",
      "Epoch 33 train loss: 0.8222636297345162 test loss: 0.8503432869911194\n",
      "Epoch 34 train loss: 0.7916809163987637 test loss: 0.8929006457328796\n",
      "Epoch 35 train loss: 0.8249903209507465 test loss: 0.6829238533973694\n",
      "Epoch 36 train loss: 0.7594028044492006 test loss: 0.8969191908836365\n",
      "Epoch 37 train loss: 0.8499154828488826 test loss: 0.7862874865531921\n",
      "Epoch 38 train loss: 0.8061326049268246 test loss: 0.860249936580658\n",
      "Epoch 39 train loss: 0.8016034111380577 test loss: 0.808114230632782\n",
      "Epoch 40 train loss: 0.8249673895537853 test loss: 0.7109618782997131\n",
      "Epoch 41 train loss: 0.7774776559323072 test loss: 0.9581886529922485\n",
      "Epoch 42 train loss: 0.7292063791304827 test loss: 0.7387267351150513\n",
      "Epoch 43 train loss: 0.811235549300909 test loss: 0.8560470938682556\n",
      "Epoch 44 train loss: 0.8212720107287168 test loss: 0.7087909579277039\n",
      "Epoch 45 train loss: 0.8069652989506721 test loss: 0.9010380506515503\n",
      "Epoch 46 train loss: 0.7833983816206456 test loss: 0.9610918164253235\n",
      "Epoch 47 train loss: 0.7786182325333357 test loss: 0.6917115449905396\n",
      "Epoch 48 train loss: 0.841260839253664 test loss: 0.7538340091705322\n",
      "Epoch 49 train loss: 0.8154817720875144 test loss: 0.7295141220092773\n",
      "Epoch 50 train loss: 0.8001605108380317 test loss: 0.9352200031280518\n",
      "Epoch 51 train loss: 0.7356238819658756 test loss: 0.6005794405937195\n",
      "Epoch 52 train loss: 0.7808654628694057 test loss: 0.74730384349823\n",
      "Epoch 53 train loss: 0.8114571813493967 test loss: 0.8159545063972473\n",
      "Epoch 54 train loss: 0.763085912913084 test loss: 0.8593947887420654\n",
      "Epoch 55 train loss: 0.7743042647838593 test loss: 0.7113082408905029\n",
      "Epoch 56 train loss: 0.7002388924360275 test loss: 0.8844088315963745\n",
      "Epoch 57 train loss: 0.7711254268884659 test loss: 0.7950499653816223\n",
      "Epoch 58 train loss: 0.6964261282235384 test loss: 0.528293251991272\n",
      "Epoch 59 train loss: 0.6891751937568188 test loss: 0.8537177443504333\n",
      "Epoch 60 train loss: 0.7833566322922707 test loss: 0.5750352740287781\n",
      "Epoch 61 train loss: 0.8324771735817194 test loss: 0.8841111063957214\n",
      "Epoch 62 train loss: 0.7649625647813082 test loss: 0.8453739285469055\n",
      "Epoch 63 train loss: 0.7535764772444964 test loss: 0.8064854145050049\n",
      "Epoch 64 train loss: 0.8309858229011298 test loss: 0.7674513459205627\n",
      "Epoch 65 train loss: 0.7433846887201071 test loss: 0.7904912233352661\n",
      "Epoch 66 train loss: 0.7375312209129333 test loss: 0.7295286655426025\n",
      "Epoch 67 train loss: 0.8082712560892105 test loss: 0.9829285144805908\n",
      "Epoch 68 train loss: 0.7052637655287981 test loss: 0.8928691744804382\n",
      "Epoch 69 train loss: 0.80269955098629 test loss: 0.9069520235061646\n",
      "Epoch 70 train loss: 0.7009990744292736 test loss: 0.8772913813591003\n",
      "Epoch 71 train loss: 0.7076381459832192 test loss: 0.909327507019043\n",
      "Epoch 72 train loss: 0.745968296378851 test loss: 0.9558865427970886\n",
      "Epoch 73 train loss: 0.7466485746204853 test loss: 0.7032257318496704\n",
      "Epoch 74 train loss: 0.7486648980528117 test loss: 0.9364123344421387\n",
      "Epoch 75 train loss: 0.7261291559785604 test loss: 0.8344926834106445\n",
      "Epoch 76 train loss: 0.7005700524896383 test loss: 0.5751285552978516\n",
      "Epoch 77 train loss: 0.6959755849093199 test loss: 0.956970751285553\n",
      "Epoch 78 train loss: 0.7259062770754099 test loss: 0.9424507021903992\n",
      "Epoch 79 train loss: 0.7569551143795252 test loss: 0.6901777386665344\n",
      "Epoch 80 train loss: 0.7689092315733432 test loss: 0.6295627355575562\n",
      "Epoch 81 train loss: 0.6699199680238962 test loss: 0.5980800986289978\n",
      "Epoch 82 train loss: 0.6660756874829531 test loss: 0.8069499135017395\n",
      "Epoch 83 train loss: 0.7269235905259848 test loss: 0.7560689449310303\n",
      "Epoch 84 train loss: 0.6704060368239879 test loss: 0.6300836205482483\n",
      "Epoch 85 train loss: 0.7689789302647114 test loss: 0.8790689706802368\n",
      "Epoch 86 train loss: 0.7506386794149875 test loss: 0.9780912399291992\n",
      "Epoch 87 train loss: 0.7004408564418554 test loss: 0.6962519288063049\n",
      "Epoch 88 train loss: 0.6550230845808983 test loss: 0.6952576041221619\n",
      "Epoch 89 train loss: 0.7524591974914074 test loss: 0.7747029066085815\n",
      "Epoch 90 train loss: 0.6819423634558917 test loss: 0.7367938756942749\n",
      "Epoch 91 train loss: 0.6727510936558246 test loss: 0.7494029402732849\n",
      "Epoch 92 train loss: 0.6854411456733942 test loss: 0.9142724275588989\n",
      "Epoch 93 train loss: 0.6824448760598898 test loss: 0.9631021618843079\n",
      "Epoch 94 train loss: 0.6628945123404264 test loss: 0.7308796644210815\n",
      "Epoch 95 train loss: 0.7098744556307792 test loss: 0.8114002346992493\n",
      "Epoch 96 train loss: 0.6470115881413221 test loss: 0.8727507591247559\n",
      "Epoch 97 train loss: 0.6796737674623727 test loss: 0.48482421040534973\n",
      "Epoch 98 train loss: 0.704054218903184 test loss: 0.7195375561714172\n",
      "Epoch 99 train loss: 0.6504906132817269 test loss: 0.7940024733543396\n",
      "Epoch 100 train loss: 0.5950430583208799 test loss: 0.9195984601974487\n",
      "Epoch 101 train loss: 0.602863534539938 test loss: 0.8362606167793274\n",
      "Epoch 102 train loss: 0.682799668237567 test loss: 0.5733078122138977\n",
      "Epoch 103 train loss: 0.6192248586565257 test loss: 0.8335407972335815\n",
      "Epoch 104 train loss: 0.6191134566441179 test loss: 0.7823076248168945\n",
      "Epoch 105 train loss: 0.6978535659611225 test loss: 0.5484346151351929\n",
      "Epoch 106 train loss: 0.6604020677506923 test loss: 0.7439907193183899\n",
      "Epoch 107 train loss: 0.6430355668067932 test loss: 0.7202468514442444\n",
      "Epoch 108 train loss: 0.6118804037570953 test loss: 0.7261374592781067\n",
      "Epoch 109 train loss: 0.7252096593379974 test loss: 0.627475917339325\n",
      "Epoch 110 train loss: 0.6499269437044859 test loss: 0.8924885392189026\n",
      "Epoch 111 train loss: 0.5875215053558349 test loss: 0.6282696723937988\n",
      "Epoch 112 train loss: 0.6881257835775614 test loss: 0.974334180355072\n",
      "Epoch 113 train loss: 0.634163660183549 test loss: 0.5712239146232605\n",
      "Epoch 114 train loss: 0.6763828121125698 test loss: 0.5787321329116821\n",
      "Epoch 115 train loss: 0.7110848933458328 test loss: 0.7359269857406616\n",
      "Epoch 116 train loss: 0.5836105009540915 test loss: 0.7564186453819275\n",
      "Epoch 117 train loss: 0.5455865907482803 test loss: 0.8837658762931824\n",
      "Epoch 118 train loss: 0.6066434487700463 test loss: 0.7186276912689209\n",
      "Epoch 119 train loss: 0.6591820016503334 test loss: 0.6697671413421631\n",
      "Epoch 120 train loss: 0.6513860706239939 test loss: 0.8697182536125183\n",
      "Epoch 121 train loss: 0.6219741508364678 test loss: 0.7530853152275085\n",
      "Epoch 122 train loss: 0.6831490088254213 test loss: 0.6692395210266113\n",
      "Epoch 123 train loss: 0.6852257331833244 test loss: 0.7421422600746155\n",
      "Epoch 124 train loss: 0.6644127175211907 test loss: 0.6188105940818787\n",
      "Epoch 125 train loss: 0.5750079400837421 test loss: 0.6839151978492737\n",
      "Epoch 126 train loss: 0.6383964981883764 test loss: 0.7294940948486328\n",
      "Epoch 127 train loss: 0.5552873305976391 test loss: 0.8859390616416931\n",
      "Epoch 128 train loss: 0.6544564999639988 test loss: 0.82244873046875\n",
      "Epoch 129 train loss: 0.5822321530431509 test loss: 0.5639867186546326\n",
      "Epoch 130 train loss: 0.654018386080861 test loss: 0.8826484680175781\n",
      "Epoch 131 train loss: 0.5938239302486181 test loss: 0.6013858318328857\n",
      "Epoch 132 train loss: 0.5880575900897383 test loss: 0.7179409265518188\n",
      "Epoch 133 train loss: 0.6394933426752687 test loss: 0.7408126592636108\n",
      "Epoch 134 train loss: 0.609219504147768 test loss: 1.0769671201705933\n",
      "Epoch 135 train loss: 0.5744572758674622 test loss: 1.0942952632904053\n",
      "Epoch 136 train loss: 0.6404886711388826 test loss: 0.8679023385047913\n",
      "Epoch 137 train loss: 0.6295931279659271 test loss: 0.8156678080558777\n",
      "Epoch 138 train loss: 0.6050643751397728 test loss: 0.742390513420105\n",
      "Epoch 139 train loss: 0.6372319772839546 test loss: 0.8022006154060364\n",
      "Epoch 140 train loss: 0.5548391552641988 test loss: 1.0228681564331055\n",
      "Epoch 141 train loss: 0.6075414607301355 test loss: 0.5137890577316284\n",
      "Epoch 142 train loss: 0.6009364042431116 test loss: 0.8562303781509399\n",
      "Epoch 143 train loss: 0.6441292379051446 test loss: 0.8339813351631165\n",
      "Epoch 144 train loss: 0.6940591283142566 test loss: 0.8209799528121948\n",
      "Epoch 145 train loss: 0.6068049307912589 test loss: 0.9571001529693604\n",
      "Epoch 146 train loss: 0.6390738314017653 test loss: 0.7425562143325806\n",
      "Epoch 147 train loss: 0.6101327996701003 test loss: 1.0989271402359009\n",
      "Epoch 148 train loss: 0.6417587500065565 test loss: 0.6556826829910278\n",
      "Epoch 149 train loss: 0.6189763203263283 test loss: 0.5709444284439087\n",
      "Epoch 150 train loss: 0.5834569159895182 test loss: 0.9556229114532471\n",
      "Epoch 151 train loss: 0.5454063504934311 test loss: 0.8536133170127869\n",
      "Epoch 152 train loss: 0.594888535514474 test loss: 0.9926929473876953\n",
      "Epoch 153 train loss: 0.5197067134082317 test loss: 0.7966597676277161\n",
      "Epoch 154 train loss: 0.5654817242175341 test loss: 0.8552528023719788\n",
      "Epoch 155 train loss: 0.701387682557106 test loss: 0.7000476121902466\n",
      "Epoch 156 train loss: 0.6085587635636329 test loss: 0.9440158009529114\n",
      "Epoch 157 train loss: 0.5486484365537763 test loss: 0.7044451832771301\n",
      "Epoch 158 train loss: 0.5710824953392148 test loss: 0.8884341716766357\n",
      "Epoch 159 train loss: 0.5291792958974838 test loss: 0.7618899345397949\n",
      "Epoch 160 train loss: 0.6743209712207318 test loss: 0.9032783508300781\n",
      "Epoch 161 train loss: 0.6043570049107074 test loss: 0.7752901315689087\n",
      "Epoch 162 train loss: 0.5846951365470886 test loss: 0.731939435005188\n",
      "Epoch 163 train loss: 0.5440236013382673 test loss: 0.6685463190078735\n",
      "Epoch 164 train loss: 0.5238440740853548 test loss: 0.5919830799102783\n",
      "Epoch 165 train loss: 0.5841171987354755 test loss: 0.9256476759910583\n",
      "Epoch 166 train loss: 0.6112860601395369 test loss: 0.6078937649726868\n",
      "Epoch 167 train loss: 0.6093569595366717 test loss: 0.6885324716567993\n",
      "Epoch 168 train loss: 0.6078211903572083 test loss: 0.800406277179718\n",
      "Epoch 169 train loss: 0.5815880917012691 test loss: 0.653898298740387\n",
      "Epoch 170 train loss: 0.6385688975453376 test loss: 0.8994318246841431\n",
      "Epoch 171 train loss: 0.5574690319597722 test loss: 0.7604749798774719\n",
      "Epoch 172 train loss: 0.5420688167214394 test loss: 0.9804101586341858\n",
      "Epoch 173 train loss: 0.6117407375946641 test loss: 0.9862775802612305\n",
      "Epoch 174 train loss: 0.6150260390713811 test loss: 0.7507511377334595\n",
      "Epoch 175 train loss: 0.593932443484664 test loss: 0.7521470189094543\n",
      "Epoch 176 train loss: 0.6157027816399931 test loss: 1.0034804344177246\n",
      "Epoch 177 train loss: 0.6661959452554583 test loss: 0.7274385094642639\n",
      "Epoch 178 train loss: 0.46715294998139145 test loss: 0.6730480194091797\n",
      "Epoch 179 train loss: 0.5882430303841829 test loss: 0.7829011678695679\n",
      "Epoch 180 train loss: 0.5765512705780566 test loss: 0.6607820391654968\n",
      "Epoch 181 train loss: 0.5201956246048212 test loss: 1.0088331699371338\n",
      "Epoch 182 train loss: 0.6027192146517336 test loss: 0.7264000773429871\n",
      "Epoch 183 train loss: 0.5705686947330832 test loss: 0.7289031147956848\n",
      "Epoch 184 train loss: 0.5233497891575098 test loss: 0.7525362968444824\n",
      "Epoch 185 train loss: 0.552720851637423 test loss: 0.7501726150512695\n",
      "Epoch 186 train loss: 0.5980858618393541 test loss: 0.87758469581604\n",
      "Epoch 187 train loss: 0.5362183086574077 test loss: 0.6817497611045837\n",
      "Epoch 188 train loss: 0.622011480666697 test loss: 0.7093439698219299\n",
      "Epoch 189 train loss: 0.6016049331054092 test loss: 0.8018396496772766\n",
      "Epoch 190 train loss: 0.7280298301950097 test loss: 0.7544355988502502\n",
      "Epoch 191 train loss: 0.500655285641551 test loss: 0.7977983951568604\n",
      "Epoch 192 train loss: 0.5158590787090361 test loss: 0.9035183191299438\n",
      "Epoch 193 train loss: 0.5651295885443688 test loss: 0.9774757027626038\n",
      "Epoch 194 train loss: 0.5557063560932874 test loss: 0.843224823474884\n",
      "Epoch 195 train loss: 0.5452679136767984 test loss: 0.6562582850456238\n",
      "Epoch 196 train loss: 0.6396715924143791 test loss: 0.687015175819397\n",
      "Epoch 197 train loss: 0.5181019678711891 test loss: 0.705289900302887\n",
      "Epoch 198 train loss: 0.5530356911942362 test loss: 0.9424012899398804\n",
      "Epoch 199 train loss: 0.5245186690241098 test loss: 0.8107044696807861\n",
      "Epoch 200 train loss: 0.5376270597800612 test loss: 0.7369182109832764\n",
      "Epoch 201 train loss: 0.6426790188997984 test loss: 0.7147880792617798\n",
      "Epoch 202 train loss: 0.5665889292955398 test loss: 1.0287357568740845\n",
      "Epoch 203 train loss: 0.48849895782768726 test loss: 0.879832923412323\n",
      "Epoch 204 train loss: 0.487234278395772 test loss: 0.7575224041938782\n",
      "Epoch 205 train loss: 0.5332212641835212 test loss: 0.7555496096611023\n",
      "Epoch 206 train loss: 0.5683963168412447 test loss: 0.7954081296920776\n",
      "Epoch 207 train loss: 0.5369563462212682 test loss: 0.7403919100761414\n",
      "Epoch 208 train loss: 0.5274355329573155 test loss: 0.8338108658790588\n",
      "Epoch 209 train loss: 0.6382392711937428 test loss: 0.7278675436973572\n",
      "Epoch 210 train loss: 0.6033940091729164 test loss: 0.7790356278419495\n",
      "Epoch 211 train loss: 0.6603125745430589 test loss: 0.8108410835266113\n",
      "Epoch 212 train loss: 0.5193552866578102 test loss: 0.786521852016449\n",
      "Epoch 213 train loss: 0.5754105867817998 test loss: 0.7359896302223206\n",
      "Epoch 214 train loss: 0.6022899527102709 test loss: 0.7823812365531921\n",
      "Epoch 215 train loss: 0.5402981108054519 test loss: 0.7409316897392273\n",
      "Epoch 216 train loss: 0.5500784108415246 test loss: 0.4717187285423279\n",
      "Epoch 217 train loss: 0.504411068931222 test loss: 0.8679707646369934\n",
      "Epoch 218 train loss: 0.5397888892330229 test loss: 0.8170368671417236\n",
      "Epoch 219 train loss: 0.5272360073402524 test loss: 0.6597002148628235\n",
      "Epoch 220 train loss: 0.5687844172120095 test loss: 0.8239234685897827\n",
      "Epoch 221 train loss: 0.6285054616630077 test loss: 0.6975707411766052\n",
      "Epoch 222 train loss: 0.6369174506515265 test loss: 0.7113600969314575\n",
      "Epoch 223 train loss: 0.48694961704313755 test loss: 0.6882160902023315\n",
      "Epoch 224 train loss: 0.6846934448927641 test loss: 0.8428627252578735\n",
      "Epoch 225 train loss: 0.600452802143991 test loss: 0.8287961483001709\n",
      "Epoch 226 train loss: 0.5691383630037308 test loss: 0.8529542684555054\n",
      "Epoch 227 train loss: 0.6052844589576125 test loss: 0.7567158937454224\n",
      "Epoch 228 train loss: 0.5235777048394084 test loss: 0.7664666175842285\n",
      "Epoch 229 train loss: 0.6135510768741369 test loss: 0.7226256728172302\n",
      "Epoch 230 train loss: 0.5573189169168472 test loss: 1.0069694519042969\n",
      "Epoch 231 train loss: 0.5980363115668297 test loss: 0.6256828308105469\n",
      "Epoch 232 train loss: 0.5718783589079977 test loss: 0.7751425504684448\n",
      "Epoch 233 train loss: 0.6063020888715982 test loss: 0.6076143383979797\n",
      "Epoch 234 train loss: 0.6369572831317782 test loss: 0.7478371858596802\n",
      "Epoch 235 train loss: 0.5614227479323745 test loss: 0.8129280805587769\n",
      "Epoch 236 train loss: 0.6349717196077108 test loss: 0.8620824813842773\n",
      "Epoch 237 train loss: 0.5521234614774585 test loss: 1.0347967147827148\n",
      "Epoch 238 train loss: 0.5863280993886292 test loss: 0.6803674101829529\n",
      "Epoch 239 train loss: 0.5408584015443921 test loss: 0.8603943586349487\n",
      "Epoch 240 train loss: 0.5729553051292896 test loss: 0.6838648915290833\n",
      "Epoch 241 train loss: 0.5549361232668162 test loss: 0.7616950869560242\n",
      "Epoch 242 train loss: 0.6414958171546459 test loss: 0.8513076305389404\n",
      "Epoch 243 train loss: 0.5508217945694923 test loss: 0.9295409917831421\n",
      "Epoch 244 train loss: 0.5223081629723311 test loss: 0.6291072964668274\n",
      "Epoch 245 train loss: 0.5224591065198183 test loss: 0.9474412202835083\n",
      "Epoch 246 train loss: 0.5139381939545273 test loss: 1.1282086372375488\n",
      "Epoch 247 train loss: 0.5591199800372124 test loss: 0.6659325957298279\n",
      "Epoch 248 train loss: 0.5459654550999403 test loss: 0.6666498780250549\n",
      "Epoch 249 train loss: 0.5680273214355112 test loss: 0.7422701120376587\n",
      "Epoch 250 train loss: 0.5194679072126747 test loss: 0.8590877652168274\n",
      "Epoch 251 train loss: 0.5347869051620364 test loss: 0.8602664470672607\n",
      "Epoch 252 train loss: 0.552771863155067 test loss: 0.9238241910934448\n",
      "Epoch 253 train loss: 0.62095818053931 test loss: 0.7010865211486816\n",
      "Epoch 254 train loss: 0.5568255037069321 test loss: 0.9637157917022705\n",
      "Epoch 255 train loss: 0.559883251041174 test loss: 0.5735223293304443\n",
      "Epoch 256 train loss: 0.5302795572206378 test loss: 0.8287853598594666\n",
      "Epoch 257 train loss: 0.543564491160214 test loss: 1.0845516920089722\n",
      "Epoch 258 train loss: 0.5467836771160364 test loss: 0.7527652978897095\n",
      "Epoch 259 train loss: 0.5726027507334948 test loss: 0.670532763004303\n",
      "Epoch 260 train loss: 0.5303690763190388 test loss: 0.8700233101844788\n",
      "Epoch 261 train loss: 0.5948297258466482 test loss: 0.7423733472824097\n",
      "Epoch 262 train loss: 0.5274951225146651 test loss: 0.6070700287818909\n",
      "Epoch 263 train loss: 0.587259317189455 test loss: 0.7345415949821472\n",
      "Epoch 264 train loss: 0.5340566307306289 test loss: 0.8761442303657532\n",
      "Epoch 265 train loss: 0.5333630664274096 test loss: 0.8214926719665527\n",
      "Epoch 266 train loss: 0.608046504855156 test loss: 0.7903834581375122\n",
      "Epoch 267 train loss: 0.5517731363885104 test loss: 0.9864514470100403\n",
      "Epoch 268 train loss: 0.5790668232366443 test loss: 0.6843902468681335\n",
      "Epoch 269 train loss: 0.5217284979298711 test loss: 0.636282742023468\n",
      "Epoch 270 train loss: 0.550782953761518 test loss: 0.5724416971206665\n",
      "Epoch 271 train loss: 0.5233386421576143 test loss: 0.8979848027229309\n",
      "Epoch 272 train loss: 0.5237175295129418 test loss: 0.8134641647338867\n",
      "Epoch 273 train loss: 0.6141487900167704 test loss: 0.5870826244354248\n",
      "Epoch 274 train loss: 0.5024220950901508 test loss: 0.915398120880127\n",
      "Epoch 275 train loss: 0.5892873506993055 test loss: 0.8452303409576416\n",
      "Epoch 276 train loss: 0.6072969987988472 test loss: 0.6416323184967041\n",
      "Epoch 277 train loss: 0.48167729564011097 test loss: 0.7833910584449768\n",
      "Epoch 278 train loss: 0.6098617887124419 test loss: 0.7998161911964417\n",
      "Epoch 279 train loss: 0.5423674739897251 test loss: 0.7463130950927734\n",
      "Epoch 280 train loss: 0.4492369804531336 test loss: 0.7419184446334839\n",
      "Epoch 281 train loss: 0.5165741970762611 test loss: 0.5506380200386047\n",
      "Epoch 282 train loss: 0.5623142577707767 test loss: 0.8632283806800842\n",
      "Epoch 283 train loss: 0.5462452966719866 test loss: 0.841241717338562\n",
      "Epoch 284 train loss: 0.5183122124522924 test loss: 0.7167379260063171\n",
      "Epoch 285 train loss: 0.5284172244369983 test loss: 0.6204549670219421\n",
      "Epoch 286 train loss: 0.6325848834589124 test loss: 0.8156987428665161\n",
      "Epoch 287 train loss: 0.5774705672636629 test loss: 0.5017074346542358\n",
      "Epoch 288 train loss: 0.5311004310846329 test loss: 0.7015169858932495\n",
      "Epoch 289 train loss: 0.5986040038987994 test loss: 1.0071367025375366\n",
      "Epoch 290 train loss: 0.4822724681347609 test loss: 0.6994211673736572\n",
      "Epoch 291 train loss: 0.5737111363559961 test loss: 0.9679727554321289\n",
      "Epoch 292 train loss: 0.5191785760223866 test loss: 0.7470923066139221\n",
      "Epoch 293 train loss: 0.636836782284081 test loss: 0.950386643409729\n",
      "Epoch 294 train loss: 0.5547460088506341 test loss: 0.7262853980064392\n",
      "Epoch 295 train loss: 0.5455647882074117 test loss: 0.828950822353363\n",
      "Epoch 296 train loss: 0.5656966885551811 test loss: 0.6148863434791565\n",
      "Epoch 297 train loss: 0.5814503517001868 test loss: 1.079965591430664\n",
      "Epoch 298 train loss: 0.5115418806672096 test loss: 0.708159863948822\n",
      "Epoch 299 train loss: 0.5632162760943175 test loss: 0.5675981640815735\n",
      "Epoch 300 train loss: 0.5912620186805725 test loss: 0.924006998538971\n",
      "Epoch 301 train loss: 0.4500536970794201 test loss: 0.8989854454994202\n",
      "Epoch 302 train loss: 0.5053895507007837 test loss: 0.5641773343086243\n",
      "Epoch 303 train loss: 0.5146564265713096 test loss: 0.9452706575393677\n",
      "Epoch 304 train loss: 0.5895130349323153 test loss: 0.8486636281013489\n",
      "Epoch 305 train loss: 0.4646360093727708 test loss: 0.7120440602302551\n",
      "Epoch 306 train loss: 0.6148170856758952 test loss: 0.7050861120223999\n",
      "Epoch 307 train loss: 0.4993841018527746 test loss: 0.8177704811096191\n",
      "Epoch 308 train loss: 0.5013524051755667 test loss: 0.6594189405441284\n",
      "Epoch 309 train loss: 0.48589139338582754 test loss: 0.7587927579879761\n",
      "Epoch 310 train loss: 0.4987705137580633 test loss: 0.7494179606437683\n",
      "Epoch 311 train loss: 0.5122707473114133 test loss: 0.5467219948768616\n",
      "Epoch 312 train loss: 0.47864792458713057 test loss: 0.7758967876434326\n",
      "Epoch 313 train loss: 0.57308767773211 test loss: 0.7498872876167297\n",
      "Epoch 314 train loss: 0.5633239975199104 test loss: 0.7968153357505798\n",
      "Epoch 315 train loss: 0.5404727026820183 test loss: 0.7831060886383057\n",
      "Epoch 316 train loss: 0.6775189265608788 test loss: 0.9095492959022522\n",
      "Epoch 317 train loss: 0.5155188081786036 test loss: 0.9250568747520447\n",
      "Epoch 318 train loss: 0.5220338253304362 test loss: 0.8372239470481873\n",
      "Epoch 319 train loss: 0.5198754893615842 test loss: 0.7228578925132751\n",
      "Epoch 320 train loss: 0.539841178432107 test loss: 0.6498845219612122\n",
      "Epoch 321 train loss: 0.5253438388928771 test loss: 1.043584942817688\n",
      "Epoch 322 train loss: 0.5498133668676018 test loss: 0.8621923923492432\n",
      "Epoch 323 train loss: 0.6060218269005417 test loss: 0.7901319265365601\n",
      "Epoch 324 train loss: 0.6390703828074038 test loss: 0.7753373980522156\n",
      "Epoch 325 train loss: 0.5381699437275529 test loss: 0.8542986512184143\n",
      "Epoch 326 train loss: 0.589765751734376 test loss: 0.6497332453727722\n",
      "Epoch 327 train loss: 0.4746330793946981 test loss: 0.8913964033126831\n",
      "Epoch 328 train loss: 0.520659101381898 test loss: 0.7073342204093933\n",
      "Epoch 329 train loss: 0.567563570663333 test loss: 0.8722265362739563\n",
      "Epoch 330 train loss: 0.5729215253144503 test loss: 0.6626735925674438\n",
      "Epoch 331 train loss: 0.5287912048399448 test loss: 0.7763679027557373\n",
      "Epoch 332 train loss: 0.5112613081932068 test loss: 0.6158027052879333\n",
      "Epoch 333 train loss: 0.5488215319812297 test loss: 0.9101245403289795\n",
      "Epoch 334 train loss: 0.6197714893147349 test loss: 0.739138126373291\n",
      "Epoch 335 train loss: 0.5999269429594278 test loss: 0.7765955328941345\n",
      "Epoch 336 train loss: 0.5464919190853834 test loss: 0.6551191806793213\n",
      "Epoch 337 train loss: 0.5594644149765372 test loss: 0.7239238619804382\n",
      "Epoch 338 train loss: 0.5296070381999016 test loss: 0.8005292415618896\n",
      "Epoch 339 train loss: 0.5237525621429086 test loss: 0.6693375110626221\n",
      "Epoch 340 train loss: 0.5238995946012437 test loss: 0.7544094920158386\n",
      "Epoch 341 train loss: 0.513966777548194 test loss: 0.7893880009651184\n",
      "Epoch 342 train loss: 0.524473312497139 test loss: 0.7008683681488037\n",
      "Epoch 343 train loss: 0.5954838051460684 test loss: 0.8987085819244385\n",
      "Epoch 344 train loss: 0.579570090584457 test loss: 0.8170502185821533\n",
      "Epoch 345 train loss: 0.5897525569424034 test loss: 0.4913974702358246\n",
      "Epoch 346 train loss: 0.4851680647581816 test loss: 0.6346452236175537\n",
      "Epoch 347 train loss: 0.5411314683035016 test loss: 0.5780807137489319\n",
      "Epoch 348 train loss: 0.48566086664795877 test loss: 0.8803380131721497\n",
      "Epoch 349 train loss: 0.46933909952640535 test loss: 0.5252735018730164\n",
      "Epoch 350 train loss: 0.5078207353129983 test loss: 1.048158049583435\n",
      "Epoch 351 train loss: 0.5535105157643556 test loss: 0.8703370690345764\n",
      "Epoch 352 train loss: 0.5201768448576332 test loss: 0.825242817401886\n",
      "Epoch 353 train loss: 0.5929007768630982 test loss: 0.8296728134155273\n",
      "Epoch 354 train loss: 0.5446510151959956 test loss: 0.8654939532279968\n",
      "Epoch 355 train loss: 0.522653172723949 test loss: 0.9640884399414062\n",
      "Epoch 356 train loss: 0.574243799969554 test loss: 0.5768470168113708\n",
      "Epoch 357 train loss: 0.5448026383295655 test loss: 0.6395819783210754\n",
      "Epoch 358 train loss: 0.522065363638103 test loss: 0.7309667468070984\n",
      "Epoch 359 train loss: 0.5182136194780469 test loss: 0.7351723313331604\n",
      "Epoch 360 train loss: 0.4741165578365326 test loss: 0.8493762612342834\n",
      "Epoch 361 train loss: 0.5699721794575453 test loss: 0.6991122961044312\n",
      "Epoch 362 train loss: 0.5117744702845812 test loss: 0.6101503968238831\n",
      "Epoch 363 train loss: 0.5173447411507368 test loss: 0.6655144691467285\n",
      "Epoch 364 train loss: 0.4513141065835953 test loss: 0.6370084881782532\n",
      "Epoch 365 train loss: 0.47261381559073923 test loss: 0.5603610873222351\n",
      "Epoch 366 train loss: 0.5917142514139414 test loss: 0.7937619686126709\n",
      "Epoch 367 train loss: 0.5026245819404721 test loss: 0.8082950711250305\n",
      "Epoch 368 train loss: 0.4951657185330987 test loss: 0.8022847175598145\n",
      "Epoch 369 train loss: 0.4942644776776433 test loss: 0.6485370397567749\n",
      "Epoch 370 train loss: 0.6164351522922515 test loss: 0.6777751445770264\n",
      "Epoch 371 train loss: 0.4422856172546744 test loss: 0.6001815795898438\n",
      "Epoch 372 train loss: 0.5507012302055955 test loss: 0.6418625116348267\n",
      "Epoch 373 train loss: 0.49379958109930155 test loss: 0.7731997966766357\n",
      "Epoch 374 train loss: 0.5088366001844407 test loss: 0.5859165191650391\n",
      "Epoch 375 train loss: 0.6493622479960323 test loss: 0.6787043809890747\n",
      "Epoch 376 train loss: 0.4650591609068215 test loss: 0.6838505268096924\n",
      "Epoch 377 train loss: 0.5028748517856002 test loss: 0.7594002485275269\n",
      "Epoch 378 train loss: 0.49544687308371066 test loss: 0.6483122110366821\n",
      "Epoch 379 train loss: 0.5282663578167558 test loss: 0.6479342579841614\n",
      "Epoch 380 train loss: 0.5492490619421005 test loss: 0.6235405802726746\n",
      "Epoch 381 train loss: 0.54980413839221 test loss: 0.5555188655853271\n",
      "Epoch 382 train loss: 0.5291728757321834 test loss: 0.7132642865180969\n",
      "Epoch 383 train loss: 0.6385806344449521 test loss: 0.4800499975681305\n",
      "Epoch 384 train loss: 0.551465567201376 test loss: 0.7689424157142639\n",
      "Epoch 385 train loss: 0.5334333557635546 test loss: 0.7160446643829346\n",
      "Epoch 386 train loss: 0.5423924647271633 test loss: 0.953292727470398\n",
      "Epoch 387 train loss: 0.5581934584304691 test loss: 0.6184177994728088\n",
      "Epoch 388 train loss: 0.5024063581600785 test loss: 0.8656095862388611\n",
      "Epoch 389 train loss: 0.6173925681039691 test loss: 0.800696849822998\n",
      "Epoch 390 train loss: 0.5294826373457908 test loss: 0.6036360859870911\n",
      "Epoch 391 train loss: 0.45072219576686623 test loss: 0.7710983157157898\n",
      "Epoch 392 train loss: 0.5816042071208358 test loss: 0.5856691002845764\n",
      "Epoch 393 train loss: 0.4368512535467744 test loss: 0.49857640266418457\n",
      "Epoch 394 train loss: 0.5009293178096413 test loss: 0.8549058437347412\n",
      "Epoch 395 train loss: 0.5024812835268676 test loss: 0.6157071590423584\n",
      "Epoch 396 train loss: 0.5490895075723529 test loss: 1.0454579591751099\n",
      "Epoch 397 train loss: 0.523161293566227 test loss: 0.8132603764533997\n",
      "Epoch 398 train loss: 0.458032332547009 test loss: 0.9116054773330688\n",
      "Epoch 399 train loss: 0.47615430802106856 test loss: 0.8177239894866943\n",
      "Epoch 400 train loss: 0.4981124674901366 test loss: 0.6107760667800903\n",
      "Epoch 401 train loss: 0.44695468712598085 test loss: 0.6253052949905396\n",
      "Epoch 402 train loss: 0.5361186744645238 test loss: 0.7056146860122681\n",
      "Epoch 403 train loss: 0.4595425224862993 test loss: 0.8143613338470459\n",
      "Epoch 404 train loss: 0.49720698576420547 test loss: 0.6462363600730896\n",
      "Epoch 405 train loss: 0.5846640009433031 test loss: 1.072007656097412\n",
      "Epoch 406 train loss: 0.5535063964314759 test loss: 0.5194733738899231\n",
      "Epoch 407 train loss: 0.5539108222350478 test loss: 0.8431281447410583\n",
      "Epoch 408 train loss: 0.5259494183585047 test loss: 0.6471987366676331\n",
      "Epoch 409 train loss: 0.539606086537242 test loss: 0.5207957625389099\n",
      "Epoch 410 train loss: 0.6028153579682112 test loss: 0.6321156620979309\n",
      "Epoch 411 train loss: 0.5394675336778164 test loss: 0.7144842743873596\n",
      "Epoch 412 train loss: 0.45817113886587324 test loss: 0.6840779781341553\n",
      "Epoch 413 train loss: 0.5209557028487325 test loss: 0.6862391829490662\n",
      "Epoch 414 train loss: 0.528066523745656 test loss: 0.7570400834083557\n",
      "Epoch 415 train loss: 0.5168653093278408 test loss: 0.628891110420227\n",
      "Epoch 416 train loss: 0.5209063397720456 test loss: 0.620219886302948\n",
      "Epoch 417 train loss: 0.5157535722479224 test loss: 0.7759157419204712\n",
      "Epoch 418 train loss: 0.47707948721945287 test loss: 0.6852511167526245\n",
      "Epoch 419 train loss: 0.5263245338574052 test loss: 0.4903039336204529\n",
      "Epoch 420 train loss: 0.4146754566580057 test loss: 0.6442879438400269\n",
      "Epoch 421 train loss: 0.5751434396952391 test loss: 0.669965922832489\n",
      "Epoch 422 train loss: 0.4928446993231773 test loss: 0.4972025156021118\n",
      "Epoch 423 train loss: 0.5349457303062082 test loss: 0.6913827657699585\n",
      "Epoch 424 train loss: 0.447460101172328 test loss: 1.20868980884552\n",
      "Epoch 425 train loss: 0.4714789120480418 test loss: 0.6436801552772522\n",
      "Epoch 426 train loss: 0.4571909621357918 test loss: 0.6164110898971558\n",
      "Epoch 427 train loss: 0.5303439501672983 test loss: 0.8358679413795471\n",
      "Epoch 428 train loss: 0.5356864647939801 test loss: 0.6156870126724243\n",
      "Epoch 429 train loss: 0.4752580655738711 test loss: 0.7787253856658936\n",
      "Epoch 430 train loss: 0.4848070369102061 test loss: 0.8151262402534485\n",
      "Epoch 431 train loss: 0.4911861438304186 test loss: 1.0867549180984497\n",
      "Epoch 432 train loss: 0.5749091755598783 test loss: 0.6978912353515625\n",
      "Epoch 433 train loss: 0.49200303480029106 test loss: 0.7684049010276794\n",
      "Epoch 434 train loss: 0.533066849783063 test loss: 0.6178575158119202\n",
      "Epoch 435 train loss: 0.4342203587293625 test loss: 0.7191038131713867\n",
      "Epoch 436 train loss: 0.4930432077497244 test loss: 0.8206474184989929\n",
      "Epoch 437 train loss: 0.6032646379433573 test loss: 0.9210124015808105\n",
      "Epoch 438 train loss: 0.5882077943533659 test loss: 0.8129725456237793\n",
      "Epoch 439 train loss: 0.5843112375587225 test loss: 0.674191951751709\n",
      "Epoch 440 train loss: 0.613538009673357 test loss: 0.9641836285591125\n",
      "Epoch 441 train loss: 0.4937758080661297 test loss: 0.7554694414138794\n",
      "Epoch 442 train loss: 0.4763097479939461 test loss: 0.8621927499771118\n",
      "Epoch 443 train loss: 0.5436638341285288 test loss: 0.7847122550010681\n",
      "Epoch 444 train loss: 0.48120068535208704 test loss: 0.7649074196815491\n",
      "Epoch 445 train loss: 0.5036471804603935 test loss: 0.6996201276779175\n",
      "Epoch 446 train loss: 0.4762988150119781 test loss: 0.6503223776817322\n",
      "Epoch 447 train loss: 0.5045805145986378 test loss: 0.6983217000961304\n",
      "Epoch 448 train loss: 0.5149648952297866 test loss: 0.7309964299201965\n",
      "Epoch 449 train loss: 0.5221748115494848 test loss: 0.6533634066581726\n",
      "Epoch 450 train loss: 0.5229187352582813 test loss: 0.6158710718154907\n",
      "Epoch 451 train loss: 0.5987496115267277 test loss: 0.7017413377761841\n",
      "Epoch 452 train loss: 0.4922143646515906 test loss: 0.8892867565155029\n",
      "Epoch 453 train loss: 0.5416836932301521 test loss: 0.6616408824920654\n",
      "Epoch 454 train loss: 0.46105531342327594 test loss: 0.664307177066803\n",
      "Epoch 455 train loss: 0.4915875120088458 test loss: 0.752475380897522\n",
      "Epoch 456 train loss: 0.4890254009515047 test loss: 0.7008184790611267\n",
      "Epoch 457 train loss: 0.5038253743201494 test loss: 0.7806763052940369\n",
      "Epoch 458 train loss: 0.4409008972346783 test loss: 0.6330009698867798\n",
      "Epoch 459 train loss: 0.46435254998505116 test loss: 0.6252481937408447\n",
      "Epoch 460 train loss: 0.4967318274080753 test loss: 0.5319940447807312\n",
      "Epoch 461 train loss: 0.4854074092581868 test loss: 0.7128407955169678\n",
      "Epoch 462 train loss: 0.5062614347785711 test loss: 0.6582034230232239\n",
      "Epoch 463 train loss: 0.507784834690392 test loss: 0.9333947896957397\n",
      "Epoch 464 train loss: 0.4636083932593465 test loss: 0.7696441411972046\n",
      "Epoch 465 train loss: 0.4626696752384305 test loss: 1.1027226448059082\n",
      "Epoch 466 train loss: 0.5441097512841224 test loss: 0.7455515265464783\n",
      "Epoch 467 train loss: 0.46193066872656346 test loss: 0.7448633313179016\n",
      "Epoch 468 train loss: 0.5329412678256631 test loss: 0.7499306797981262\n",
      "Epoch 469 train loss: 0.4282121418043971 test loss: 0.7625489234924316\n",
      "Epoch 470 train loss: 0.5107684426009655 test loss: 0.7766095399856567\n",
      "Epoch 471 train loss: 0.48608553167432544 test loss: 0.7846812009811401\n",
      "Epoch 472 train loss: 0.5601378792896867 test loss: 0.8099185824394226\n",
      "Epoch 473 train loss: 0.5075656762346625 test loss: 0.6081690788269043\n",
      "Epoch 474 train loss: 0.431890338473022 test loss: 0.6086848974227905\n",
      "Epoch 475 train loss: 0.5024676386266946 test loss: 0.7045227289199829\n",
      "Epoch 476 train loss: 0.47775962110608816 test loss: 0.7939690351486206\n",
      "Epoch 477 train loss: 0.5420809601433575 test loss: 0.8184189200401306\n",
      "Epoch 478 train loss: 0.4881862476468086 test loss: 0.7117631435394287\n",
      "Epoch 479 train loss: 0.4729563597589731 test loss: 0.7531335949897766\n",
      "Epoch 480 train loss: 0.4648873755708337 test loss: 0.4702133536338806\n",
      "Epoch 481 train loss: 0.4777352510020137 test loss: 0.9100082516670227\n",
      "Epoch 482 train loss: 0.5651176320388913 test loss: 0.6237494945526123\n",
      "Epoch 483 train loss: 0.4227909443899989 test loss: 0.662909984588623\n",
      "Epoch 484 train loss: 0.44770841505378484 test loss: 0.8865629434585571\n",
      "Epoch 485 train loss: 0.5634701061993838 test loss: 0.7619943618774414\n",
      "Epoch 486 train loss: 0.5549355028197169 test loss: 0.9940873384475708\n",
      "Epoch 487 train loss: 0.485068641230464 test loss: 0.6549465656280518\n",
      "Epoch 488 train loss: 0.5138546196743846 test loss: 0.6975159049034119\n",
      "Epoch 489 train loss: 0.48760896921157837 test loss: 0.8953461050987244\n",
      "Epoch 490 train loss: 0.5345753686502576 test loss: 0.6899035573005676\n",
      "Epoch 491 train loss: 0.5271077428013087 test loss: 0.8077741265296936\n",
      "Epoch 492 train loss: 0.4393200078979135 test loss: 0.7806582450866699\n",
      "Epoch 493 train loss: 0.5031808882951736 test loss: 0.623052179813385\n",
      "Epoch 494 train loss: 0.4634213296696544 test loss: 0.71170574426651\n",
      "Epoch 495 train loss: 0.4330497061833739 test loss: 0.8756147623062134\n",
      "Epoch 496 train loss: 0.46021818369627 test loss: 0.8439911007881165\n",
      "Epoch 497 train loss: 0.5371768968179822 test loss: 0.6164137125015259\n",
      "Epoch 498 train loss: 0.518568255379796 test loss: 0.5071935653686523\n",
      "Epoch 499 train loss: 0.4847811644896865 test loss: 0.5876359343528748\n",
      "Epoch 500 train loss: 0.4325471745803952 test loss: 0.6646700501441956\n",
      "Epoch 501 train loss: 0.4990949723869562 test loss: 0.6480023860931396\n",
      "Epoch 502 train loss: 0.5493404304608702 test loss: 0.8617679476737976\n",
      "Epoch 503 train loss: 0.5524690710008144 test loss: 0.7294251322746277\n",
      "Epoch 504 train loss: 0.45048209484666585 test loss: 0.6121610999107361\n",
      "Epoch 505 train loss: 0.5026586204767227 test loss: 0.6303809881210327\n",
      "Epoch 506 train loss: 0.5754762688651681 test loss: 0.7242647409439087\n",
      "Epoch 507 train loss: 0.4579154595732689 test loss: 0.7291621565818787\n",
      "Epoch 508 train loss: 0.5134890789166093 test loss: 0.7643877863883972\n",
      "Epoch 509 train loss: 0.5408751936629415 test loss: 0.6526893377304077\n",
      "Epoch 510 train loss: 0.4647238587960601 test loss: 0.7160242795944214\n",
      "Epoch 511 train loss: 0.4403903428465128 test loss: 0.777256429195404\n",
      "Epoch 512 train loss: 0.49583010720089077 test loss: 0.7686305046081543\n",
      "Epoch 513 train loss: 0.47710045650601385 test loss: 0.6410632133483887\n",
      "Epoch 514 train loss: 0.531627326272428 test loss: 0.670854926109314\n",
      "Epoch 515 train loss: 0.48146468214690685 test loss: 0.615151047706604\n",
      "Epoch 516 train loss: 0.49574531354010104 test loss: 0.8776047229766846\n",
      "Epoch 517 train loss: 0.5050494441762566 test loss: 0.7234241366386414\n",
      "Epoch 518 train loss: 0.44628876596689226 test loss: 0.7590664029121399\n",
      "Epoch 519 train loss: 0.4941419444978237 test loss: 0.9071770310401917\n",
      "Epoch 520 train loss: 0.5690202958881855 test loss: 0.6240296959877014\n",
      "Epoch 521 train loss: 0.6097821032628417 test loss: 0.7848571538925171\n",
      "Epoch 522 train loss: 0.4673195159062743 test loss: 0.8406534790992737\n",
      "Epoch 523 train loss: 0.43541003968566655 test loss: 0.9077212810516357\n",
      "Epoch 524 train loss: 0.4953932510688901 test loss: 0.8033013343811035\n",
      "Epoch 525 train loss: 0.47052859235554934 test loss: 0.5135611891746521\n",
      "Epoch 526 train loss: 0.556917778402567 test loss: 0.6439065337181091\n",
      "Epoch 527 train loss: 0.5355049137026071 test loss: 0.6412332653999329\n",
      "Epoch 528 train loss: 0.5139451688155532 test loss: 0.7144718170166016\n",
      "Epoch 529 train loss: 0.488174335937947 test loss: 0.6536251306533813\n",
      "Epoch 530 train loss: 0.4630849797278643 test loss: 0.9583449363708496\n",
      "Epoch 531 train loss: 0.6298987394198775 test loss: 0.5120245814323425\n",
      "Epoch 532 train loss: 0.47272407449781895 test loss: 0.6459609270095825\n",
      "Epoch 533 train loss: 0.4986362520605326 test loss: 0.6043208837509155\n",
      "Epoch 534 train loss: 0.47492799181491135 test loss: 0.7373472452163696\n",
      "Epoch 535 train loss: 0.46686712857335805 test loss: 0.7428957223892212\n",
      "Epoch 536 train loss: 0.4863345847465098 test loss: 1.0726819038391113\n",
      "Epoch 537 train loss: 0.5016896789893508 test loss: 0.5747509002685547\n",
      "Epoch 538 train loss: 0.4780103800818324 test loss: 0.9522258043289185\n",
      "Epoch 539 train loss: 0.5065163481980562 test loss: 0.9098224639892578\n",
      "Epoch 540 train loss: 0.5122182520106435 test loss: 0.6575755476951599\n",
      "Epoch 541 train loss: 0.5796487874351441 test loss: 0.7730041146278381\n",
      "Epoch 542 train loss: 0.5450847879052162 test loss: 0.5776005983352661\n",
      "Epoch 543 train loss: 0.4971123706549406 test loss: 0.6460623145103455\n",
      "Epoch 544 train loss: 0.5256242306903005 test loss: 0.8542327880859375\n",
      "Epoch 545 train loss: 0.5079071724787354 test loss: 0.7311947345733643\n",
      "Epoch 546 train loss: 0.476225474756211 test loss: 0.8976072669029236\n",
      "Epoch 547 train loss: 0.4523945640772581 test loss: 0.9924608469009399\n",
      "Epoch 548 train loss: 0.5348589390516281 test loss: 0.6397583484649658\n",
      "Epoch 549 train loss: 0.5245790220797062 test loss: 0.5872741341590881\n",
      "Epoch 550 train loss: 0.614352160319686 test loss: 0.5566450357437134\n",
      "Epoch 551 train loss: 0.45926598832011223 test loss: 0.7882147431373596\n",
      "Epoch 552 train loss: 0.5224539482966065 test loss: 0.510574221611023\n",
      "Epoch 553 train loss: 0.4156068503856659 test loss: 0.7605108022689819\n",
      "Epoch 554 train loss: 0.4714861813932657 test loss: 0.7852991819381714\n",
      "Epoch 555 train loss: 0.48450335394591093 test loss: 0.6445821523666382\n",
      "Epoch 556 train loss: 0.468280290812254 test loss: 0.7477133870124817\n",
      "Epoch 557 train loss: 0.4973919024690986 test loss: 0.8656536340713501\n",
      "Epoch 558 train loss: 0.494029257260263 test loss: 0.8164862990379333\n",
      "Epoch 559 train loss: 0.4536050694063306 test loss: 0.8458727598190308\n",
      "Epoch 560 train loss: 0.45747553249821066 test loss: 0.6964303255081177\n",
      "Epoch 561 train loss: 0.5913095468655228 test loss: 0.8876280784606934\n",
      "Epoch 562 train loss: 0.4864157570526004 test loss: 0.6543802618980408\n",
      "Epoch 563 train loss: 0.49385520834475755 test loss: 0.6452564001083374\n",
      "Epoch 564 train loss: 0.544224058277905 test loss: 0.6515142917633057\n",
      "Epoch 565 train loss: 0.4814141282811761 test loss: 0.9081830382347107\n",
      "Epoch 566 train loss: 0.48737990856170654 test loss: 0.7640413641929626\n",
      "Epoch 567 train loss: 0.4923477452248335 test loss: 0.8324599266052246\n",
      "Epoch 568 train loss: 0.4918146412819624 test loss: 0.5678364634513855\n",
      "Epoch 569 train loss: 0.4764430185779929 test loss: 0.6092206835746765\n",
      "Epoch 570 train loss: 0.5009892765432596 test loss: 1.043274998664856\n",
      "Epoch 571 train loss: 0.47441360391676424 test loss: 0.6016301512718201\n",
      "Epoch 572 train loss: 0.4539938859641552 test loss: 0.7351212501525879\n",
      "Epoch 573 train loss: 0.44625388607382777 test loss: 0.6971937417984009\n",
      "Epoch 574 train loss: 0.45524812042713164 test loss: 0.7241050601005554\n",
      "Epoch 575 train loss: 0.4723645722493529 test loss: 0.8077905178070068\n",
      "Epoch 576 train loss: 0.46432651244103906 test loss: 0.7760564684867859\n",
      "Epoch 577 train loss: 0.5280586700886488 test loss: 0.973351240158081\n",
      "Epoch 578 train loss: 0.41328581161797046 test loss: 0.8674284219741821\n",
      "Epoch 579 train loss: 0.4841826856136322 test loss: 0.6731038689613342\n",
      "Epoch 580 train loss: 0.4476559957489371 test loss: 0.7793174982070923\n",
      "Epoch 581 train loss: 0.5430033807642758 test loss: 0.6732409596443176\n",
      "Epoch 582 train loss: 0.45318471398204563 test loss: 0.7207180857658386\n",
      "Epoch 583 train loss: 0.4919435176998377 test loss: 0.6864057183265686\n",
      "Epoch 584 train loss: 0.4296950617805123 test loss: 0.658043384552002\n",
      "Epoch 585 train loss: 0.4813084282912314 test loss: 0.630196750164032\n",
      "Epoch 586 train loss: 0.4666243756189942 test loss: 0.9884715676307678\n",
      "Epoch 587 train loss: 0.447230876609683 test loss: 0.735211968421936\n",
      "Epoch 588 train loss: 0.48715008050203323 test loss: 0.7243527770042419\n",
      "Epoch 589 train loss: 0.49000652581453324 test loss: 0.7725915312767029\n",
      "Epoch 590 train loss: 0.4228402156382799 test loss: 0.8757317662239075\n",
      "Epoch 591 train loss: 0.4377428149804473 test loss: 0.7753368616104126\n",
      "Epoch 592 train loss: 0.46174751929938795 test loss: 0.5644685626029968\n",
      "Epoch 593 train loss: 0.48672152366489174 test loss: 0.8830989003181458\n",
      "Epoch 594 train loss: 0.4758417814970016 test loss: 0.5431619882583618\n",
      "Epoch 595 train loss: 0.4372233051806688 test loss: 0.7352903485298157\n",
      "Epoch 596 train loss: 0.4917747789993882 test loss: 0.8476541042327881\n",
      "Epoch 597 train loss: 0.4510405372828245 test loss: 0.7607212662696838\n",
      "Epoch 598 train loss: 0.4970869492739439 test loss: 0.6932855248451233\n",
      "Epoch 599 train loss: 0.5208581713959575 test loss: 0.6247939467430115\n",
      "Epoch 600 train loss: 0.521504030097276 test loss: 0.8303255438804626\n",
      "Epoch 601 train loss: 0.47829033648595215 test loss: 0.7309304475784302\n",
      "Epoch 602 train loss: 0.48474076520651577 test loss: 0.852943480014801\n",
      "Epoch 603 train loss: 0.39671316295862197 test loss: 0.6491243839263916\n",
      "Epoch 604 train loss: 0.4455401334911585 test loss: 0.8371755480766296\n",
      "Epoch 605 train loss: 0.4834300884976983 test loss: 0.742066502571106\n",
      "Epoch 606 train loss: 0.5075456857681274 test loss: 0.6460424661636353\n",
      "Epoch 607 train loss: 0.4874153258278966 test loss: 0.5043805837631226\n",
      "Epoch 608 train loss: 0.45623119585216043 test loss: 0.3260490596294403\n",
      "Epoch 609 train loss: 0.46527600307017564 test loss: 0.9111846685409546\n",
      "Epoch 610 train loss: 0.49819762967526915 test loss: 0.5777802467346191\n",
      "Epoch 611 train loss: 0.5466836493462324 test loss: 0.7471702098846436\n",
      "Epoch 612 train loss: 0.5301186844706536 test loss: 0.580840528011322\n",
      "Epoch 613 train loss: 0.5717378746718168 test loss: 0.6813058853149414\n",
      "Epoch 614 train loss: 0.39032042752951385 test loss: 0.5534252524375916\n",
      "Epoch 615 train loss: 0.41099186819046735 test loss: 0.8509876132011414\n",
      "Epoch 616 train loss: 0.6218240128830075 test loss: 0.7384644746780396\n",
      "Epoch 617 train loss: 0.48942189309746026 test loss: 0.676354706287384\n",
      "Epoch 618 train loss: 0.3836410501040518 test loss: 0.6141805052757263\n",
      "Epoch 619 train loss: 0.4530897852964699 test loss: 0.7885447144508362\n",
      "Epoch 620 train loss: 0.5030956614762545 test loss: 0.9617849588394165\n",
      "Epoch 621 train loss: 0.5315739548765123 test loss: 0.6625769138336182\n",
      "Epoch 622 train loss: 0.5283872786909342 test loss: 0.6693576574325562\n",
      "Epoch 623 train loss: 0.40749119985848664 test loss: 0.8508180975914001\n",
      "Epoch 624 train loss: 0.4562514041550457 test loss: 0.7933360934257507\n",
      "Epoch 625 train loss: 0.47458356991410255 test loss: 0.7084176540374756\n",
      "Epoch 626 train loss: 0.4589084779843688 test loss: 0.6653719544410706\n",
      "Epoch 627 train loss: 0.5232293896377087 test loss: 0.7902848124504089\n",
      "Epoch 628 train loss: 0.5124152272939682 test loss: 1.0864663124084473\n",
      "Epoch 629 train loss: 0.5119961446151138 test loss: 0.8084308505058289\n",
      "Epoch 630 train loss: 0.45850004311650994 test loss: 0.7684129476547241\n",
      "Epoch 631 train loss: 0.48014188278466463 test loss: 0.8565622568130493\n",
      "Epoch 632 train loss: 0.45857994593679907 test loss: 0.7108264565467834\n",
      "Epoch 633 train loss: 0.5410589243285358 test loss: 0.7132713794708252\n",
      "Epoch 634 train loss: 0.4493862146511674 test loss: 0.8549835085868835\n",
      "Epoch 635 train loss: 0.44791846685111525 test loss: 1.1789100170135498\n",
      "Epoch 636 train loss: 0.4940208103507757 test loss: 0.7928312420845032\n",
      "Epoch 637 train loss: 0.472923031821847 test loss: 0.8070337772369385\n",
      "Epoch 638 train loss: 0.4664493675343692 test loss: 0.645871639251709\n",
      "Epoch 639 train loss: 0.5218682058155537 test loss: 0.9004119634628296\n",
      "Epoch 640 train loss: 0.45192077327519653 test loss: 0.8515980243682861\n",
      "Epoch 641 train loss: 0.4456671314314008 test loss: 0.6869979500770569\n",
      "Epoch 642 train loss: 0.3812316250056028 test loss: 0.7905745506286621\n",
      "Epoch 643 train loss: 0.4092801443301141 test loss: 0.751494288444519\n",
      "Epoch 644 train loss: 0.41990327648818493 test loss: 0.7611972689628601\n",
      "Epoch 645 train loss: 0.44412385746836663 test loss: 0.907827615737915\n",
      "Epoch 646 train loss: 0.5193934613838792 test loss: 0.7596368193626404\n",
      "Epoch 647 train loss: 0.4433846216648817 test loss: 0.5771708488464355\n",
      "Epoch 648 train loss: 0.4509640339761972 test loss: 0.7811789512634277\n",
      "Epoch 649 train loss: 0.4644506126642227 test loss: 0.8297332525253296\n",
      "Epoch 650 train loss: 0.5592312302440405 test loss: 0.7965402603149414\n",
      "Epoch 651 train loss: 0.4898624027147889 test loss: 0.7159681916236877\n",
      "Epoch 652 train loss: 0.48104836586862804 test loss: 0.7525529265403748\n",
      "Epoch 653 train loss: 0.4292116259224713 test loss: 0.9473523497581482\n",
      "Epoch 654 train loss: 0.4527743449434638 test loss: 0.9289684891700745\n",
      "Epoch 655 train loss: 0.5162075709551572 test loss: 0.6900491118431091\n",
      "Epoch 656 train loss: 0.4972574256360531 test loss: 0.5893619060516357\n",
      "Epoch 657 train loss: 0.5251135917380452 test loss: 0.6502147912979126\n",
      "Epoch 658 train loss: 0.43122512493282555 test loss: 1.1426976919174194\n",
      "Epoch 659 train loss: 0.4385243639349937 test loss: 0.8369936943054199\n",
      "Epoch 660 train loss: 0.5508956167846918 test loss: 0.551251232624054\n",
      "Epoch 661 train loss: 0.49607606111094354 test loss: 0.5703861713409424\n",
      "Epoch 662 train loss: 0.49846674762666227 test loss: 0.6973909735679626\n",
      "Epoch 663 train loss: 0.4010109223425388 test loss: 0.7382068037986755\n",
      "Epoch 664 train loss: 0.4424324411898851 test loss: 0.6068862676620483\n",
      "Epoch 665 train loss: 0.4069880867376924 test loss: 0.8574490547180176\n",
      "Epoch 666 train loss: 0.5615794437006116 test loss: 1.0074021816253662\n",
      "Epoch 667 train loss: 0.4513704713433981 test loss: 0.7355793118476868\n",
      "Epoch 668 train loss: 0.47185437399894 test loss: 0.8064214587211609\n",
      "Epoch 669 train loss: 0.5057761343196034 test loss: 0.5738323330879211\n",
      "Epoch 670 train loss: 0.46081363074481485 test loss: 0.5362817049026489\n",
      "Epoch 671 train loss: 0.4902979018166661 test loss: 0.9340132474899292\n",
      "Epoch 672 train loss: 0.5403694728389382 test loss: 0.7309845089912415\n",
      "Epoch 673 train loss: 0.44601051080971954 test loss: 0.7000555992126465\n",
      "Epoch 674 train loss: 0.4507148152217269 test loss: 0.5174058675765991\n",
      "Epoch 675 train loss: 0.46132358759641645 test loss: 0.5315487384796143\n",
      "Epoch 676 train loss: 0.5471651926636696 test loss: 0.5633318424224854\n",
      "Epoch 677 train loss: 0.5038276176899672 test loss: 0.8447145819664001\n",
      "Epoch 678 train loss: 0.49096512850373986 test loss: 0.6386066675186157\n",
      "Epoch 679 train loss: 0.5013534735888243 test loss: 0.7126282453536987\n",
      "Epoch 680 train loss: 0.45360469073057175 test loss: 0.587249755859375\n",
      "Epoch 681 train loss: 0.6011037798598409 test loss: 0.8101068139076233\n",
      "Epoch 682 train loss: 0.435478494502604 test loss: 0.897350549697876\n",
      "Epoch 683 train loss: 0.45512628061696886 test loss: 1.1047998666763306\n",
      "Epoch 684 train loss: 0.5286780359223485 test loss: 0.6080349683761597\n",
      "Epoch 685 train loss: 0.5539281221106649 test loss: 0.9595617651939392\n",
      "Epoch 686 train loss: 0.5050765488296747 test loss: 0.6821098327636719\n",
      "Epoch 687 train loss: 0.5377367556095123 test loss: 0.5654691457748413\n",
      "Epoch 688 train loss: 0.5454854125156998 test loss: 0.9289050698280334\n",
      "Epoch 689 train loss: 0.5120744507759809 test loss: 0.7242631316184998\n",
      "Epoch 690 train loss: 0.4659847103059292 test loss: 0.9384389519691467\n",
      "Epoch 691 train loss: 0.49473288776353 test loss: 0.6155846118927002\n",
      "Epoch 692 train loss: 0.41216273196041586 test loss: 0.694230854511261\n",
      "Epoch 693 train loss: 0.4427302207797766 test loss: 0.5688431262969971\n",
      "Epoch 694 train loss: 0.5506373438984156 test loss: 0.9169569611549377\n",
      "Epoch 695 train loss: 0.4650231819599867 test loss: 0.9488742351531982\n",
      "Epoch 696 train loss: 0.40068887360394 test loss: 0.6991428732872009\n",
      "Epoch 697 train loss: 0.49588490296155213 test loss: 0.744942307472229\n",
      "Epoch 698 train loss: 0.5106304960325361 test loss: 0.8040140271186829\n",
      "Epoch 699 train loss: 0.489367706514895 test loss: 0.8891289234161377\n",
      "Epoch 700 train loss: 0.5010602287948132 test loss: 0.8470478057861328\n",
      "Epoch 701 train loss: 0.4569793716073036 test loss: 0.5191603899002075\n",
      "Epoch 702 train loss: 0.49805759992450477 test loss: 0.6875489950180054\n",
      "Epoch 703 train loss: 0.4128849107772112 test loss: 0.5832158923149109\n",
      "Epoch 704 train loss: 0.5198830544948578 test loss: 0.7234824299812317\n",
      "Epoch 705 train loss: 0.4821845947764814 test loss: 0.5585854053497314\n",
      "Epoch 706 train loss: 0.5371683845296502 test loss: 0.6807163953781128\n",
      "Epoch 707 train loss: 0.5187858406454324 test loss: 0.5163562893867493\n",
      "Epoch 708 train loss: 0.5799630928784609 test loss: 0.8626099824905396\n",
      "Epoch 709 train loss: 0.5394489859230817 test loss: 0.6867010593414307\n",
      "Epoch 710 train loss: 0.5707447897642851 test loss: 0.6278279423713684\n",
      "Epoch 711 train loss: 0.5618108492344618 test loss: 0.6508896946907043\n",
      "Epoch 712 train loss: 0.5204800579696893 test loss: 0.676697850227356\n",
      "Epoch 713 train loss: 0.48192603029310704 test loss: 0.44893214106559753\n",
      "Epoch 714 train loss: 0.43741618320345876 test loss: 0.7979867458343506\n",
      "Epoch 715 train loss: 0.4739519950002432 test loss: 1.1428040266036987\n",
      "Epoch 716 train loss: 0.5189754765480756 test loss: 0.6073178052902222\n",
      "Epoch 717 train loss: 0.4445864653214812 test loss: 0.7833389639854431\n",
      "Epoch 718 train loss: 0.4766645908355713 test loss: 0.6689597368240356\n",
      "Epoch 719 train loss: 0.4586855793371797 test loss: 0.6473261713981628\n",
      "Epoch 720 train loss: 0.4458477786742151 test loss: 0.6034688949584961\n",
      "Epoch 721 train loss: 0.38073709663003685 test loss: 0.8297080993652344\n",
      "Epoch 722 train loss: 0.5631127009168267 test loss: 0.5603950023651123\n",
      "Epoch 723 train loss: 0.4262725213542581 test loss: 0.6586319208145142\n",
      "Epoch 724 train loss: 0.48942154869437215 test loss: 0.833760678768158\n",
      "Epoch 725 train loss: 0.4796050149947405 test loss: 0.7493640184402466\n",
      "Epoch 726 train loss: 0.4912994627840817 test loss: 0.5833329558372498\n",
      "Epoch 727 train loss: 0.5151693226769567 test loss: 0.8513539433479309\n",
      "Epoch 728 train loss: 0.4820572895929217 test loss: 0.7360474467277527\n",
      "Epoch 729 train loss: 0.48738422207534315 test loss: 0.9007534384727478\n",
      "Epoch 730 train loss: 0.4385616505518556 test loss: 0.6630524396896362\n",
      "Epoch 731 train loss: 0.48868842218071223 test loss: 1.1788076162338257\n",
      "Epoch 732 train loss: 0.4242499152198434 test loss: 0.683360755443573\n",
      "Epoch 733 train loss: 0.4973456975072622 test loss: 0.7757132053375244\n",
      "Epoch 734 train loss: 0.4865566924214363 test loss: 0.8327493667602539\n",
      "Epoch 735 train loss: 0.47726523466408255 test loss: 0.8112891912460327\n",
      "Epoch 736 train loss: 0.482577640004456 test loss: 0.6463318467140198\n",
      "Epoch 737 train loss: 0.45055092833936217 test loss: 0.6553671360015869\n",
      "Epoch 738 train loss: 0.5578843675553798 test loss: 0.9664261341094971\n",
      "Epoch 739 train loss: 0.6281546866521239 test loss: 0.7304259538650513\n",
      "Epoch 740 train loss: 0.4446029545739293 test loss: 0.7647461295127869\n",
      "Epoch 741 train loss: 0.4584483321756124 test loss: 0.7984839081764221\n",
      "Epoch 742 train loss: 0.4704567834734917 test loss: 0.9142702221870422\n",
      "Epoch 743 train loss: 0.44760618843138217 test loss: 0.4569830298423767\n",
      "Epoch 744 train loss: 0.5323680697008968 test loss: 1.0801514387130737\n",
      "Epoch 745 train loss: 0.46378369238227607 test loss: 0.8720754981040955\n",
      "Epoch 746 train loss: 0.4737833319231868 test loss: 0.6258971691131592\n",
      "Epoch 747 train loss: 0.4625900987535715 test loss: 0.6924363374710083\n",
      "Epoch 748 train loss: 0.48634048402309416 test loss: 0.6819764375686646\n",
      "Epoch 749 train loss: 0.444943967089057 test loss: 0.7380002737045288\n",
      "Epoch 750 train loss: 0.5079352298751474 test loss: 0.8915092945098877\n",
      "Epoch 751 train loss: 0.4743657504208386 test loss: 0.619295060634613\n",
      "Epoch 752 train loss: 0.5056690455414354 test loss: 0.6936091184616089\n",
      "Epoch 753 train loss: 0.510567994043231 test loss: 0.8458340764045715\n",
      "Epoch 754 train loss: 0.5376950426027178 test loss: 0.5636220574378967\n",
      "Epoch 755 train loss: 0.4531003061681986 test loss: 0.6726998686790466\n",
      "Epoch 756 train loss: 0.4458765545859933 test loss: 0.7209352254867554\n",
      "Epoch 757 train loss: 0.4876801025122404 test loss: 0.8850664496421814\n",
      "Epoch 758 train loss: 0.6315231587737798 test loss: 0.5931062698364258\n",
      "Epoch 759 train loss: 0.4525432324036956 test loss: 0.8064290881156921\n",
      "Epoch 760 train loss: 0.534076670370996 test loss: 0.5159379839897156\n",
      "Epoch 761 train loss: 0.5074251467362046 test loss: 0.6192794442176819\n",
      "Epoch 762 train loss: 0.43246447909623387 test loss: 0.7542201280593872\n",
      "Epoch 763 train loss: 0.4679016303271055 test loss: 0.7688785791397095\n",
      "Epoch 764 train loss: 0.4724848631769419 test loss: 0.7596327662467957\n",
      "Epoch 765 train loss: 0.4433451047167182 test loss: 0.8991515040397644\n",
      "Epoch 766 train loss: 0.5083198154345154 test loss: 0.8437584638595581\n",
      "Epoch 767 train loss: 0.5723461812362075 test loss: 0.6471286416053772\n",
      "Epoch 768 train loss: 0.529702010191977 test loss: 0.6124802231788635\n",
      "Epoch 769 train loss: 0.4250895645469427 test loss: 0.637068510055542\n",
      "Epoch 770 train loss: 0.453390690498054 test loss: 0.6315901875495911\n",
      "Epoch 771 train loss: 0.5046439569443464 test loss: 0.6279496550559998\n",
      "Epoch 772 train loss: 0.4717754255980253 test loss: 0.7908934950828552\n",
      "Epoch 773 train loss: 0.5238537278026343 test loss: 0.705615758895874\n",
      "Epoch 774 train loss: 0.4754004614427686 test loss: 0.7346588969230652\n",
      "Epoch 775 train loss: 0.47572151739150287 test loss: 0.5808125734329224\n",
      "Epoch 776 train loss: 0.4532183464616537 test loss: 0.6818671226501465\n",
      "Epoch 777 train loss: 0.5170875277370215 test loss: 0.8048880100250244\n",
      "Epoch 778 train loss: 0.4479708086699247 test loss: 0.6415248513221741\n",
      "Epoch 779 train loss: 0.4988331934437156 test loss: 0.5416463613510132\n",
      "Epoch 780 train loss: 0.4650956771336496 test loss: 0.8146268725395203\n",
      "Epoch 781 train loss: 0.5672847921028733 test loss: 0.8785202503204346\n",
      "Epoch 782 train loss: 0.4626845961436629 test loss: 0.8279007077217102\n",
      "Epoch 783 train loss: 0.535656675323844 test loss: 0.6643956899642944\n",
      "Epoch 784 train loss: 0.5311260037124157 test loss: 0.6836711764335632\n",
      "Epoch 785 train loss: 0.4149981776252389 test loss: 0.5602366328239441\n",
      "Epoch 786 train loss: 0.4633370124734938 test loss: 0.8034768104553223\n",
      "Epoch 787 train loss: 0.46817659521475435 test loss: 0.6788780093193054\n",
      "Epoch 788 train loss: 0.5061940368264913 test loss: 0.844225287437439\n",
      "Epoch 789 train loss: 0.509993564337492 test loss: 0.6860278248786926\n",
      "Epoch 790 train loss: 0.5188271159306168 test loss: 0.8194284439086914\n",
      "Epoch 791 train loss: 0.5126053840853274 test loss: 0.8741550445556641\n",
      "Epoch 792 train loss: 0.40786660425364973 test loss: 0.7555398941040039\n",
      "Epoch 793 train loss: 0.4562804157845676 test loss: 0.6849053502082825\n",
      "Epoch 794 train loss: 0.5048682985827326 test loss: 0.7000885009765625\n",
      "Epoch 795 train loss: 0.43855276703834534 test loss: 0.8243519067764282\n",
      "Epoch 796 train loss: 0.4577606989070773 test loss: 0.6167149543762207\n",
      "Epoch 797 train loss: 0.4859361143782735 test loss: 0.8635579943656921\n",
      "Epoch 798 train loss: 0.4965070582926273 test loss: 0.8358839154243469\n",
      "Epoch 799 train loss: 0.5073994439095258 test loss: 0.6938390731811523\n",
      "Epoch 800 train loss: 0.41839271746575835 test loss: 0.467099130153656\n",
      "Epoch 801 train loss: 0.5449760114774108 test loss: 0.5600097179412842\n",
      "Epoch 802 train loss: 0.4782599875703454 test loss: 0.8893483877182007\n",
      "Epoch 803 train loss: 0.4960187556222081 test loss: 0.7788445353507996\n",
      "Epoch 804 train loss: 0.3859455857425928 test loss: 0.8907805681228638\n",
      "Epoch 805 train loss: 0.4499913413077593 test loss: 0.8615078926086426\n",
      "Epoch 806 train loss: 0.4943589625880122 test loss: 0.8533214926719666\n",
      "Epoch 807 train loss: 0.5371142944321037 test loss: 0.5971852540969849\n",
      "Epoch 808 train loss: 0.4982315870001912 test loss: 0.7165942192077637\n",
      "Epoch 809 train loss: 0.4111846093088388 test loss: 0.6853103041648865\n",
      "Epoch 810 train loss: 0.415577981993556 test loss: 0.9324212074279785\n",
      "Epoch 811 train loss: 0.42719521652907133 test loss: 0.5320311188697815\n",
      "Epoch 812 train loss: 0.5374753162264824 test loss: 0.7387047410011292\n",
      "Epoch 813 train loss: 0.46832448448985814 test loss: 0.8156068325042725\n",
      "Epoch 814 train loss: 0.39728956799954174 test loss: 0.7285493016242981\n",
      "Epoch 815 train loss: 0.5072819076478481 test loss: 0.637024998664856\n",
      "Epoch 816 train loss: 0.4954477185383439 test loss: 0.6508311033248901\n",
      "Epoch 817 train loss: 0.441556335799396 test loss: 1.1318254470825195\n",
      "Epoch 818 train loss: 0.5154233513399958 test loss: 0.4907040596008301\n",
      "Epoch 819 train loss: 0.47333661988377573 test loss: 0.8655625581741333\n",
      "Epoch 820 train loss: 0.46837858241051433 test loss: 0.9320909976959229\n",
      "Epoch 821 train loss: 0.5022369753569365 test loss: 0.7958013415336609\n",
      "Epoch 822 train loss: 0.535133193153888 test loss: 0.8378139138221741\n",
      "Epoch 823 train loss: 0.38773324973881246 test loss: 0.48143109679222107\n",
      "Epoch 824 train loss: 0.5191103321500122 test loss: 0.6603087782859802\n",
      "Epoch 825 train loss: 0.4908387616276741 test loss: 0.7991771697998047\n",
      "Epoch 826 train loss: 0.5347725290805101 test loss: 0.6017119288444519\n",
      "Epoch 827 train loss: 0.5024844393134117 test loss: 1.1071860790252686\n",
      "Epoch 828 train loss: 0.48590103574097154 test loss: 0.5994908213615417\n",
      "Epoch 829 train loss: 0.4797770731151104 test loss: 0.6062334775924683\n",
      "Epoch 830 train loss: 0.4391432047821581 test loss: 0.6524662971496582\n",
      "Epoch 831 train loss: 0.4464598186314106 test loss: 0.70225989818573\n",
      "Epoch 832 train loss: 0.4803267404437065 test loss: 0.7536885142326355\n",
      "Epoch 833 train loss: 0.5384461304172874 test loss: 0.7678929567337036\n",
      "Epoch 834 train loss: 0.5155408686026931 test loss: 0.9120590686798096\n",
      "Epoch 835 train loss: 0.37221618425101044 test loss: 0.8470989465713501\n",
      "Epoch 836 train loss: 0.523243241943419 test loss: 0.8184415698051453\n",
      "Epoch 837 train loss: 0.49651488922536374 test loss: 0.6415367722511292\n",
      "Epoch 838 train loss: 0.51097776517272 test loss: 0.5353044867515564\n",
      "Epoch 839 train loss: 0.4292156105861068 test loss: 0.7586352229118347\n",
      "Epoch 840 train loss: 0.498609465919435 test loss: 0.8139481544494629\n",
      "Epoch 841 train loss: 0.4861837489530444 test loss: 1.016521692276001\n",
      "Epoch 842 train loss: 0.5041627582162619 test loss: 0.779690146446228\n",
      "Epoch 843 train loss: 0.4672008803114295 test loss: 0.5379023551940918\n",
      "Epoch 844 train loss: 0.4936964834108949 test loss: 0.634634792804718\n",
      "Epoch 845 train loss: 0.4983461548574269 test loss: 0.8820738792419434\n",
      "Epoch 846 train loss: 0.37368100620806216 test loss: 0.6337850689888\n",
      "Epoch 847 train loss: 0.41592095140367746 test loss: 0.6985998153686523\n",
      "Epoch 848 train loss: 0.45874986071139573 test loss: 0.6754029989242554\n",
      "Epoch 849 train loss: 0.4781838171184063 test loss: 0.7632858157157898\n",
      "Epoch 850 train loss: 0.398471924290061 test loss: 0.8758662939071655\n",
      "Epoch 851 train loss: 0.5148190435022115 test loss: 0.7209529876708984\n",
      "Epoch 852 train loss: 0.4986971506848931 test loss: 0.6879784464836121\n",
      "Epoch 853 train loss: 0.4677038474008441 test loss: 0.7003059983253479\n",
      "Epoch 854 train loss: 0.4902358793653548 test loss: 0.7485407590866089\n",
      "Epoch 855 train loss: 0.43042431902140377 test loss: 0.8110246658325195\n",
      "Epoch 856 train loss: 0.38078434597700833 test loss: 0.742965817451477\n",
      "Epoch 857 train loss: 0.43042191304266453 test loss: 0.5964208841323853\n",
      "Epoch 858 train loss: 0.4925618157722056 test loss: 0.9359346032142639\n",
      "Epoch 859 train loss: 0.4473966021090746 test loss: 0.7538177967071533\n",
      "Epoch 860 train loss: 0.5174066103994847 test loss: 0.7827322483062744\n",
      "Epoch 861 train loss: 0.4462673306465149 test loss: 0.8337419629096985\n",
      "Epoch 862 train loss: 0.5428762970492244 test loss: 0.9071012139320374\n",
      "Epoch 863 train loss: 0.5350487848743797 test loss: 0.8204929232597351\n",
      "Epoch 864 train loss: 0.4825271967798471 test loss: 0.9628292918205261\n",
      "Epoch 865 train loss: 0.495208946056664 test loss: 0.60430908203125\n",
      "Epoch 866 train loss: 0.5346025589853525 test loss: 0.9283303022384644\n",
      "Epoch 867 train loss: 0.4751767197623849 test loss: 0.6614901423454285\n",
      "Epoch 868 train loss: 0.4951925162225962 test loss: 0.8426637649536133\n",
      "Epoch 869 train loss: 0.5062209716066718 test loss: 0.7900721430778503\n",
      "Epoch 870 train loss: 0.5214562671259045 test loss: 0.6865233182907104\n",
      "Epoch 871 train loss: 0.5545050214976073 test loss: 0.6345497369766235\n",
      "Epoch 872 train loss: 0.505929658934474 test loss: 0.8641260862350464\n",
      "Epoch 873 train loss: 0.5683280395343899 test loss: 0.8128227591514587\n",
      "Epoch 874 train loss: 0.4629796605557203 test loss: 0.48717689514160156\n",
      "Epoch 875 train loss: 0.4829994374886155 test loss: 0.5896149277687073\n",
      "Epoch 876 train loss: 0.4438621086999774 test loss: 0.6213260293006897\n",
      "Epoch 877 train loss: 0.5090264424681663 test loss: 0.5801895260810852\n",
      "Epoch 878 train loss: 0.5116381922736764 test loss: 0.7899221181869507\n",
      "Epoch 879 train loss: 0.4770156593993306 test loss: 0.6406265497207642\n",
      "Epoch 880 train loss: 0.4559045655652881 test loss: 0.6359130144119263\n",
      "Epoch 881 train loss: 0.41799441929906606 test loss: 0.6243155002593994\n",
      "Epoch 882 train loss: 0.41490835044533014 test loss: 0.68739914894104\n",
      "Epoch 883 train loss: 0.5341261105611921 test loss: 0.8682463765144348\n",
      "Epoch 884 train loss: 0.4287241991609335 test loss: 0.825085461139679\n",
      "Epoch 885 train loss: 0.413392808008939 test loss: 0.8701056241989136\n",
      "Epoch 886 train loss: 0.5203668002970516 test loss: 0.521280825138092\n",
      "Epoch 887 train loss: 0.40735550383105873 test loss: 0.6485216021537781\n",
      "Epoch 888 train loss: 0.519835744984448 test loss: 0.8523855805397034\n",
      "Epoch 889 train loss: 0.4637090040370822 test loss: 0.6431651711463928\n",
      "Epoch 890 train loss: 0.4702125363983214 test loss: 0.7504832744598389\n",
      "Epoch 891 train loss: 0.45890889866277573 test loss: 0.849370539188385\n",
      "Epoch 892 train loss: 0.4550678227096796 test loss: 0.5540711283683777\n",
      "Epoch 893 train loss: 0.41222559921443463 test loss: 0.9341176152229309\n",
      "Epoch 894 train loss: 0.45907157063484194 test loss: 0.7050964832305908\n",
      "Epoch 895 train loss: 0.4561241935938597 test loss: 0.8302677273750305\n",
      "Epoch 896 train loss: 0.3975036509335041 test loss: 0.8193657994270325\n",
      "Epoch 897 train loss: 0.465087578818202 test loss: 0.7233980298042297\n",
      "Epoch 898 train loss: 0.485679823346436 test loss: 0.6086292862892151\n",
      "Epoch 899 train loss: 0.49636722058057786 test loss: 0.6142318844795227\n",
      "Epoch 900 train loss: 0.41752636302262547 test loss: 0.72489333152771\n",
      "Epoch 901 train loss: 0.4943605652078986 test loss: 0.6298463940620422\n",
      "Epoch 902 train loss: 0.5423274584114551 test loss: 0.8668000102043152\n",
      "Epoch 903 train loss: 0.43333194497972727 test loss: 1.219900369644165\n",
      "Epoch 904 train loss: 0.4503010524436831 test loss: 0.7685214281082153\n",
      "Epoch 905 train loss: 0.4455716612748802 test loss: 0.7771472930908203\n",
      "Epoch 906 train loss: 0.46892392076551914 test loss: 0.6733627915382385\n",
      "Epoch 907 train loss: 0.4539140762761235 test loss: 0.7160109877586365\n",
      "Epoch 908 train loss: 0.492594407312572 test loss: 0.8565440773963928\n",
      "Epoch 909 train loss: 0.4215979501605034 test loss: 0.6642175912857056\n",
      "Epoch 910 train loss: 0.523265583626926 test loss: 0.7886433601379395\n",
      "Epoch 911 train loss: 0.3963890114799142 test loss: 0.7689980268478394\n",
      "Epoch 912 train loss: 0.4155333833768964 test loss: 0.6037547588348389\n",
      "Epoch 913 train loss: 0.46294265799224377 test loss: 0.5816632509231567\n",
      "Epoch 914 train loss: 0.5421920068562031 test loss: 0.6971145868301392\n",
      "Epoch 915 train loss: 0.4356610944494605 test loss: 0.8452371954917908\n",
      "Epoch 916 train loss: 0.45787304239347576 test loss: 0.48674991726875305\n",
      "Epoch 917 train loss: 0.47854994274675844 test loss: 1.019416332244873\n",
      "Epoch 918 train loss: 0.4839700933545828 test loss: 0.6584876775741577\n",
      "Epoch 919 train loss: 0.5131104925647378 test loss: 0.9276143908500671\n",
      "Epoch 920 train loss: 0.6377334829419852 test loss: 0.8135406970977783\n",
      "Epoch 921 train loss: 0.41420891396701337 test loss: 0.5805608630180359\n",
      "Epoch 922 train loss: 0.4797842983156443 test loss: 0.6006475687026978\n",
      "Epoch 923 train loss: 0.4252802051603794 test loss: 0.7218008041381836\n",
      "Epoch 924 train loss: 0.4910073772072792 test loss: 0.6597776412963867\n",
      "Epoch 925 train loss: 0.5050190515816212 test loss: 0.5733257532119751\n",
      "Epoch 926 train loss: 0.542310260143131 test loss: 0.7181689739227295\n",
      "Epoch 927 train loss: 0.5201684907078743 test loss: 0.7077036499977112\n",
      "Epoch 928 train loss: 0.4338820746168494 test loss: 0.596436619758606\n",
      "Epoch 929 train loss: 0.4670642871409655 test loss: 0.562188446521759\n",
      "Epoch 930 train loss: 0.5114122278988361 test loss: 0.6714627146720886\n",
      "Epoch 931 train loss: 0.5620819386094809 test loss: 0.6923401355743408\n",
      "Epoch 932 train loss: 0.5007253997027874 test loss: 0.6014451384544373\n",
      "Epoch 933 train loss: 0.5239057557657361 test loss: 0.6900184154510498\n",
      "Epoch 934 train loss: 0.5308074073866009 test loss: 0.6719762086868286\n",
      "Epoch 935 train loss: 0.37904575411230323 test loss: 0.5683209300041199\n",
      "Epoch 936 train loss: 0.48640852328389883 test loss: 0.651400089263916\n",
      "Epoch 937 train loss: 0.46294523812830446 test loss: 0.6029870510101318\n",
      "Epoch 938 train loss: 0.48549513760954144 test loss: 0.6031696200370789\n",
      "Epoch 939 train loss: 0.4256001627072692 test loss: 0.7487963438034058\n",
      "Epoch 940 train loss: 0.4802425988018513 test loss: 0.6554574370384216\n",
      "Epoch 941 train loss: 0.48152288924902675 test loss: 0.6304028630256653\n",
      "Epoch 942 train loss: 0.6074865691363811 test loss: 0.7167834043502808\n",
      "Epoch 943 train loss: 0.48840564414858817 test loss: 0.8350526690483093\n",
      "Epoch 944 train loss: 0.48907157890498637 test loss: 0.6709179878234863\n",
      "Epoch 945 train loss: 0.5112859020009637 test loss: 0.9327440857887268\n",
      "Epoch 946 train loss: 0.47346517350524664 test loss: 0.5768676996231079\n",
      "Epoch 947 train loss: 0.4925099904183298 test loss: 0.7081030607223511\n",
      "Epoch 948 train loss: 0.5173271626234055 test loss: 0.7801694869995117\n",
      "Epoch 949 train loss: 0.4197378309443593 test loss: 0.5794270038604736\n",
      "Epoch 950 train loss: 0.42777937222272155 test loss: 0.8336852192878723\n",
      "Epoch 951 train loss: 0.45769817270338536 test loss: 0.8123563528060913\n",
      "Epoch 952 train loss: 0.42181726563721894 test loss: 0.7754749655723572\n",
      "Epoch 953 train loss: 0.4424158319830894 test loss: 0.7828794717788696\n",
      "Epoch 954 train loss: 0.555952138453722 test loss: 0.8281993865966797\n",
      "Epoch 955 train loss: 0.44639027416706084 test loss: 0.7666698098182678\n",
      "Epoch 956 train loss: 0.5089795775711536 test loss: 0.7729238271713257\n",
      "Epoch 957 train loss: 0.5126812744885683 test loss: 0.6172890067100525\n",
      "Epoch 958 train loss: 0.4370073139667511 test loss: 0.8045487999916077\n",
      "Epoch 959 train loss: 0.4398119248449802 test loss: 0.7903302311897278\n",
      "Epoch 960 train loss: 0.44128282740712166 test loss: 0.8050603270530701\n",
      "Epoch 961 train loss: 0.4535301278345287 test loss: 0.7802359461784363\n",
      "Epoch 962 train loss: 0.48152996599674225 test loss: 0.9833723306655884\n",
      "Epoch 963 train loss: 0.41931645609438417 test loss: 1.0139542818069458\n",
      "Epoch 964 train loss: 0.45200098901987074 test loss: 0.7697774171829224\n",
      "Epoch 965 train loss: 0.45394727904349563 test loss: 1.0326581001281738\n",
      "Epoch 966 train loss: 0.4933830603957176 test loss: 0.7034461498260498\n",
      "Epoch 967 train loss: 0.6482800785452127 test loss: 0.763701319694519\n",
      "Epoch 968 train loss: 0.5349646082147956 test loss: 1.119525671005249\n",
      "Epoch 969 train loss: 0.48435272872447965 test loss: 0.7690331935882568\n",
      "Epoch 970 train loss: 0.42974445391446353 test loss: 0.5529213547706604\n",
      "Epoch 971 train loss: 0.4976869162172079 test loss: 0.5883627533912659\n",
      "Epoch 972 train loss: 0.43031875770539046 test loss: 0.8731892704963684\n",
      "Epoch 973 train loss: 0.4854231862351298 test loss: 0.5656437873840332\n",
      "Epoch 974 train loss: 0.4258117534220219 test loss: 0.7957282066345215\n",
      "Epoch 975 train loss: 0.5036537870764732 test loss: 0.6885737180709839\n",
      "Epoch 976 train loss: 0.5082826402969658 test loss: 0.7168518900871277\n",
      "Epoch 977 train loss: 0.5829476363025605 test loss: 0.5182965397834778\n",
      "Epoch 978 train loss: 0.46950121913105247 test loss: 0.7581216096878052\n",
      "Epoch 979 train loss: 0.45392215475440023 test loss: 0.9665019512176514\n",
      "Epoch 980 train loss: 0.4304290447384119 test loss: 0.8847939968109131\n",
      "Epoch 981 train loss: 0.49160043280571697 test loss: 1.0845074653625488\n",
      "Epoch 982 train loss: 0.48949262462556364 test loss: 0.656680703163147\n",
      "Epoch 983 train loss: 0.5479215359315276 test loss: 0.8797321319580078\n",
      "Epoch 984 train loss: 0.4490553144365549 test loss: 0.6785949468612671\n",
      "Epoch 985 train loss: 0.5303524430841208 test loss: 0.7197512984275818\n",
      "Epoch 986 train loss: 0.4700347593985498 test loss: 0.5935748219490051\n",
      "Epoch 987 train loss: 0.4778125986456871 test loss: 0.6664727926254272\n",
      "Epoch 988 train loss: 0.46330975033342836 test loss: 0.8326555490493774\n",
      "Epoch 989 train loss: 0.47762720556929705 test loss: 0.9460228681564331\n",
      "Epoch 990 train loss: 0.48407320166006684 test loss: 0.6080960035324097\n",
      "Epoch 991 train loss: 0.4438055735081434 test loss: 0.6383312344551086\n",
      "Epoch 992 train loss: 0.44333948912099 test loss: 0.7621516585350037\n",
      "Epoch 993 train loss: 0.4329939173534513 test loss: 0.6752440929412842\n",
      "Epoch 994 train loss: 0.49204604849219324 test loss: 0.7175804972648621\n",
      "Epoch 995 train loss: 0.46893118787556887 test loss: 0.7578160762786865\n",
      "Epoch 996 train loss: 0.39398211166262626 test loss: 0.4752766191959381\n",
      "Epoch 997 train loss: 0.4433928534388542 test loss: 0.6263777613639832\n",
      "Epoch 998 train loss: 0.4997576707974076 test loss: 0.4867185056209564\n",
      "Epoch 999 train loss: 0.5030339244753123 test loss: 1.0991714000701904\n"
     ]
    }
   ],
   "source": [
    "best_valid_loss = float('inf')\n",
    "loss_train = []\n",
    "loss_test= []\n",
    "for i, model in enumerate(models):\n",
    "    print(f\"Training {type(model).__name__}\")\n",
    "    \n",
    "    #start_time = time.time()\n",
    "\n",
    "    for epoch in range(N_EPOCHS):\n",
    "        #start_time = time.time()\n",
    "        loss  = train(model, train_iterator, optimizer, criterion) \n",
    "        test_loss = test(model, test_iterator, optimizer, criterion)\n",
    "        print(f'Epoch {epoch} train loss: {loss} test loss: {test_loss}') \n",
    "        loss_train.append(loss)\n",
    "        loss_test.append(test_loss)\n",
    "        \n",
    "        # if epoch % 50 == 0:\n",
    "        #     clear_output(wait=True)\n",
    "            \n",
    "        # if test_loss  < best_valid_loss:\n",
    "        #         best_valid_loss = test_loss\n",
    "        #         torch.save(model.state_dict(), f'./drive/Shareddrives/BI&A/Prediction_Code/models/TCN/{name}.pt')"
   ]
  },
  {
   "cell_type": "code",
   "execution_count": 50,
   "id": "72a1cc4c-8aa1-4d0e-8519-bee36c293b40",
   "metadata": {
    "executionInfo": {
     "elapsed": 57917,
     "status": "aborted",
     "timestamp": 1619509212338,
     "user": {
      "displayName": "Sitiporn Saelim",
      "photoUrl": "",
      "userId": "04392232392828254116"
     },
     "user_tz": -420
    },
    "id": "72a1cc4c-8aa1-4d0e-8519-bee36c293b40"
   },
   "outputs": [
    {
     "data": {
      "text/plain": [
       "<matplotlib.legend.Legend at 0x7fdb4252fdd8>"
      ]
     },
     "execution_count": 50,
     "metadata": {},
     "output_type": "execute_result"
    },
    {
     "data": {
      "image/png": "[encoded data removed]",
      "text/plain": [
       "<matplotlib.figure.Figure at 0x7fdb447c3240>"
      ]
     },
     "metadata": {
      "needs_background": "light"
     },
     "output_type": "display_data"
    }
   ],
   "source": [
    "plt.figure(figsize=(30, 10))\n",
    "plt.plot(loss_train)\n",
    "plt.plot(loss_test)\n",
    "plt.legend(['loss_train','loss_test'])"
   ]
  },
  {
   "cell_type": "code",
   "execution_count": null,
   "id": "249df8e2-6a3c-4fe6-87c9-a5cc279a5637",
   "metadata": {},
   "outputs": [],
   "source": []
  },
  {
   "cell_type": "markdown",
   "id": "o10jSvM5Nh-r",
   "metadata": {
    "id": "o10jSvM5Nh-r"
   },
   "source": [
    "# Predicted daily case"
   ]
  },
  {
   "cell_type": "code",
   "execution_count": 51,
   "id": "25078c02-a8be-4f1e-a706-2ec7cd3c8a27",
   "metadata": {
    "executionInfo": {
     "elapsed": 57915,
     "status": "aborted",
     "timestamp": 1619509212340,
     "user": {
      "displayName": "Sitiporn Saelim",
      "photoUrl": "",
      "userId": "04392232392828254116"
     },
     "user_tz": -420
    },
    "id": "25078c02-a8be-4f1e-a706-2ec7cd3c8a27"
   },
   "outputs": [
    {
     "name": "stderr",
     "output_type": "stream",
     "text": [
      "/usr/local/lib/python3.6/dist-packages/torch/nn/modules/loss.py:528: UserWarning: Using a target size (torch.Size([1])) that is different to the input size (torch.Size([1, 1])). This will likely lead to incorrect results due to broadcasting. Please ensure they have the same size.\n",
      "  return F.mse_loss(input, target, reduction=self.reduction)\n"
     ]
    }
   ],
   "source": [
    "with torch.no_grad():\n",
    "  test_seq = X_test[:1]\n",
    "  preds = []\n",
    "  test_losses = []\n",
    "  for i in range(len(X_test)):\n",
    "    y_test_pred = model(test_seq.to(device))\n",
    "    test_loss = criterion(y_test_pred.float(), y_test[i].to(device))\n",
    "    test_losses.append(test_loss.item())\n",
    "    pred = torch.flatten(y_test_pred).item()\n",
    "    preds.append(pred)\n",
    "    new_seq = test_seq.cpu().numpy().flatten()\n",
    "    new_seq = np.append(new_seq, [pred])\n",
    "    new_seq = new_seq[1:]\n",
    "    test_seq = torch.as_tensor(new_seq).view(1, 1, seq_length).float()"
   ]
  },
  {
   "cell_type": "code",
   "execution_count": 52,
   "id": "38ebdf50-f85d-4aac-844d-7c073681c1bf",
   "metadata": {
    "executionInfo": {
     "elapsed": 57914,
     "status": "aborted",
     "timestamp": 1619509212341,
     "user": {
      "displayName": "Sitiporn Saelim",
      "photoUrl": "",
      "userId": "04392232392828254116"
     },
     "user_tz": -420
    },
    "id": "38ebdf50-f85d-4aac-844d-7c073681c1bf"
   },
   "outputs": [],
   "source": [
    "true_cases = scaler.inverse_transform(\n",
    "    np.expand_dims(y_test.cpu().flatten().numpy(), axis=0)\n",
    ").flatten()\n",
    "\n",
    "test_case = scaler.inverse_transform(test_data).flatten()\n",
    "\n",
    "predicted_cases = scaler.inverse_transform(\n",
    "  np.expand_dims(preds, axis=0)\n",
    ").flatten()"
   ]
  },
  {
   "cell_type": "code",
   "execution_count": 53,
   "id": "2dc939c0-2540-4c7d-8534-6568449693df",
   "metadata": {
    "executionInfo": {
     "elapsed": 57908,
     "status": "aborted",
     "timestamp": 1619509212341,
     "user": {
      "displayName": "Sitiporn Saelim",
      "photoUrl": "",
      "userId": "04392232392828254116"
     },
     "user_tz": -420
    },
    "id": "2dc939c0-2540-4c7d-8534-6568449693df"
   },
   "outputs": [
    {
     "name": "stderr",
     "output_type": "stream",
     "text": [
      "/usr/lib/python3/dist-packages/matplotlib/cbook/__init__.py:2019: FutureWarning: Support for multi-dimensional indexing (e.g. `obj[:, None]`) is deprecated and will be removed in a future version.  Convert to a numpy array before indexing instead.\n",
      "  x[:, None]\n",
      "/usr/lib/python3/dist-packages/matplotlib/axes/_base.py:249: FutureWarning: Support for multi-dimensional indexing (e.g. `obj[:, None]`) is deprecated and will be removed in a future version.  Convert to a numpy array before indexing instead.\n",
      "  x = x[:, np.newaxis]\n"
     ]
    },
    {
     "data": {
      "image/png": "[encoded data removed]",
      "text/plain": [
       "<matplotlib.figure.Figure at 0x7fdb424a0048>"
      ]
     },
     "metadata": {
      "needs_background": "light"
     },
     "output_type": "display_data"
    }
   ],
   "source": [
    "plt.figure(figsize=(20,10))\n",
    "plt.title(f\"Daily cases :{STATE}\\nmodel:{name}\")\n",
    "plt.plot(\n",
    "  df_clean.index[:len(train_data)], \n",
    "  scaler.inverse_transform(train_data).flatten(),\n",
    "  label='Historical Daily Cases'\n",
    ")\n",
    "\n",
    "plt.plot(\n",
    "  df_clean.index[len(train_data):len(train_data)+len(test_data)], \n",
    "  test_case,\n",
    "  label='Real Daily Cases'\n",
    ")\n",
    "\n",
    "# plt.plot(\n",
    "#   df_clean.index[len(train_data):len(train_data)+len(test_data)], \n",
    "#   test_data,\n",
    "#   label='Scale Daily Cases'\n",
    "# )\n",
    "\n",
    "plt.plot(\n",
    "  df_clean.index[len(train_data)+seq_length+1:len(train_data)+len(test_data)], \n",
    "  predicted_cases, \n",
    "  label='Predicted Daily Cases'\n",
    ")\n",
    "\n",
    "# plt.plot(\n",
    "#   df_clean.index[len(train_data)+seq_length+1:len(train_data)+len(test_data)], \n",
    "#   (np.asarray(preds)), \n",
    "#   label='Original Predicted Daily Cases'\n",
    "# )\n",
    "\n",
    "plt.legend();"
   ]
  },
  {
   "cell_type": "code",
   "execution_count": null,
   "id": "7QUg2uOaANja",
   "metadata": {
    "executionInfo": {
     "elapsed": 57908,
     "status": "aborted",
     "timestamp": 1619509212343,
     "user": {
      "displayName": "Sitiporn Saelim",
      "photoUrl": "",
      "userId": "04392232392828254116"
     },
     "user_tz": -420
    },
    "id": "7QUg2uOaANja"
   },
   "outputs": [],
   "source": []
  }
 ],
 "metadata": {
  "accelerator": "GPU",
  "colab": {
   "name": "2.2_TCN_California.ipynb",
   "provenance": []
  },
  "kernelspec": {
   "display_name": "Python 3",
   "language": "python",
   "name": "python3"
  },
  "language_info": {
   "codemirror_mode": {
    "name": "ipython",
    "version": 3
   },
   "file_extension": ".py",
   "mimetype": "text/x-python",
   "name": "python",
   "nbconvert_exporter": "python",
   "pygments_lexer": "ipython3",
   "version": "3.6.9"
  }
 },
 "nbformat": 4,
 "nbformat_minor": 5
}
