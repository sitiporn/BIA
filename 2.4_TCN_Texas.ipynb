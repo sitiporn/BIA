{
 "cells": [
  {
   "cell_type": "code",
   "execution_count": 1,
   "id": "ZymfhJQ_63Lj",
   "metadata": {
    "colab": {
     "base_uri": "https://localhost:8080/"
    },
    "executionInfo": {
     "elapsed": 33083,
     "status": "ok",
     "timestamp": 1619509187255,
     "user": {
      "displayName": "Sitiporn Saelim",
      "photoUrl": "",
      "userId": "04392232392828254116"
     },
     "user_tz": -420
    },
    "id": "ZymfhJQ_63Lj",
    "outputId": "10bc1c00-f2bc-4f1b-f4a8-2fd51e72d47f"
   },
   "outputs": [],
   "source": [
    "# from google.colab import drive\n",
    "# drive.mount('/content/drive')"
   ]
  },
  {
   "cell_type": "code",
   "execution_count": 2,
   "id": "96b5819f-e8ac-4c3c-9c28-93afb6ac738f",
   "metadata": {
    "executionInfo": {
     "elapsed": 37627,
     "status": "ok",
     "timestamp": 1619509191805,
     "user": {
      "displayName": "Sitiporn Saelim",
      "photoUrl": "",
      "userId": "04392232392828254116"
     },
     "user_tz": -420
    },
    "id": "96b5819f-e8ac-4c3c-9c28-93afb6ac738f"
   },
   "outputs": [],
   "source": [
    "import numpy as np\n",
    "import pandas as pd\n",
    "import torch\n",
    "import torch.nn as nn\n",
    "import torch.nn.functional as F\n",
    "import torch.optim as optim\n",
    "from torch.utils.data import TensorDataset, DataLoader\n",
    "from sklearn.preprocessing import MinMaxScaler, StandardScaler\n",
    "import matplotlib.pyplot as plt\n",
    "from tqdm import tqdm"
   ]
  },
  {
   "cell_type": "code",
   "execution_count": 3,
   "id": "f788572f-61f5-4edd-a4b7-ba8c292c8589",
   "metadata": {
    "executionInfo": {
     "elapsed": 37626,
     "status": "ok",
     "timestamp": 1619509191807,
     "user": {
      "displayName": "Sitiporn Saelim",
      "photoUrl": "",
      "userId": "04392232392828254116"
     },
     "user_tz": -420
    },
    "id": "f788572f-61f5-4edd-a4b7-ba8c292c8589"
   },
   "outputs": [],
   "source": [
    "##===\n",
    "# Select state we want to predict\n",
    "# New York , California , Florida , Texas\n",
    "STATE = 'Texas'\n",
    "\n",
    "WEIGHTDECAY = 0\n",
    "TRAIN = True\n",
    "seq_length = 21\n",
    "N_EPOCHS = 1000\n",
    "device = torch.device('cuda' if torch.cuda.is_available() else 'cpu')\n",
    "##===\n",
    "\n",
    "#### Model Config ===\n",
    "# channel_config = np.array([[1,64,128],[128,64,64],[64,32,1]])\n",
    "#channel_config = np.array([[1,7,14],[14,7,7],[7,4,1]])\n",
    "channel_config = np.array([[1,7,14],[14,21,14],[14,7,1]])"
   ]
  },
  {
   "cell_type": "markdown",
   "id": "ad882fe1-7a80-4ca8-9a54-82dc294c48df",
   "metadata": {
    "id": "ad882fe1-7a80-4ca8-9a54-82dc294c48df"
   },
   "source": [
    "## Data frame Format"
   ]
  },
  {
   "cell_type": "markdown",
   "id": "de64a227-a629-42e1-99b6-333734cca580",
   "metadata": {
    "id": "de64a227-a629-42e1-99b6-333734cca580"
   },
   "source": [
    "### Import Data from CSV file"
   ]
  },
  {
   "cell_type": "code",
   "execution_count": 4,
   "id": "5e908914-f968-489e-a2a5-ef500dc4001f",
   "metadata": {
    "executionInfo": {
     "elapsed": 46165,
     "status": "ok",
     "timestamp": 1619509200353,
     "user": {
      "displayName": "Sitiporn Saelim",
      "photoUrl": "",
      "userId": "04392232392828254116"
     },
     "user_tz": -420
    },
    "id": "5e908914-f968-489e-a2a5-ef500dc4001f"
   },
   "outputs": [],
   "source": [
    "#df = pd.read_excel(\"./drive/Shareddrives/BI&A/Data/Cleaned Data.xlsx\")\n",
    "df = pd.read_csv('Cleaned_data.csv')"
   ]
  },
  {
   "cell_type": "code",
   "execution_count": 5,
   "id": "344a4ff7-ad56-4738-93fa-6fadca83fe0f",
   "metadata": {
    "colab": {
     "base_uri": "https://localhost:8080/",
     "height": 226
    },
    "executionInfo": {
     "elapsed": 46152,
     "status": "ok",
     "timestamp": 1619509200354,
     "user": {
      "displayName": "Sitiporn Saelim",
      "photoUrl": "",
      "userId": "04392232392828254116"
     },
     "user_tz": -420
    },
    "id": "344a4ff7-ad56-4738-93fa-6fadca83fe0f",
    "outputId": "1cb3b9b8-2571-4898-ed91-0a08754b3570"
   },
   "outputs": [
    {
     "data": {
      "text/html": [
       "<div>\n",
       "<style scoped>\n",
       "    .dataframe tbody tr th:only-of-type {\n",
       "        vertical-align: middle;\n",
       "    }\n",
       "\n",
       "    .dataframe tbody tr th {\n",
       "        vertical-align: top;\n",
       "    }\n",
       "\n",
       "    .dataframe thead th {\n",
       "        text-align: right;\n",
       "    }\n",
       "</style>\n",
       "<table border=\"1\" class=\"dataframe\">\n",
       "  <thead>\n",
       "    <tr style=\"text-align: right;\">\n",
       "      <th></th>\n",
       "      <th>date</th>\n",
       "      <th>state</th>\n",
       "      <th>fips</th>\n",
       "      <th>cases</th>\n",
       "      <th>daily_cases</th>\n",
       "      <th>deaths</th>\n",
       "      <th>daily_deaths</th>\n",
       "      <th>total_vaccinations</th>\n",
       "      <th>total_distributed</th>\n",
       "      <th>daily_distributed</th>\n",
       "      <th>total_people_vaccinated</th>\n",
       "      <th>daily_people_vaccinated</th>\n",
       "      <th>total_people_fully_vaccinated</th>\n",
       "      <th>daily_people_fully_vaccinated</th>\n",
       "      <th>daily_vaccinations</th>\n",
       "      <th>mobility_composite</th>\n",
       "    </tr>\n",
       "  </thead>\n",
       "  <tbody>\n",
       "    <tr>\n",
       "      <th>0</th>\n",
       "      <td>3/13/2021</td>\n",
       "      <td>Alabama</td>\n",
       "      <td>1</td>\n",
       "      <td>503305</td>\n",
       "      <td>594</td>\n",
       "      <td>10327</td>\n",
       "      <td>28</td>\n",
       "      <td>1288242</td>\n",
       "      <td>1918560.0</td>\n",
       "      <td>80160.0</td>\n",
       "      <td>841394.0</td>\n",
       "      <td>24976.0</td>\n",
       "      <td>492755.0</td>\n",
       "      <td>20430.0</td>\n",
       "      <td>26,935</td>\n",
       "      <td>-1.013041</td>\n",
       "    </tr>\n",
       "    <tr>\n",
       "      <th>1</th>\n",
       "      <td>3/12/2021</td>\n",
       "      <td>Alabama</td>\n",
       "      <td>1</td>\n",
       "      <td>502711</td>\n",
       "      <td>448</td>\n",
       "      <td>10299</td>\n",
       "      <td>25</td>\n",
       "      <td>1249205</td>\n",
       "      <td>1838400.0</td>\n",
       "      <td>22170.0</td>\n",
       "      <td>816418.0</td>\n",
       "      <td>25554.0</td>\n",
       "      <td>472325.0</td>\n",
       "      <td>19579.0</td>\n",
       "      <td>26,375</td>\n",
       "      <td>-1.013041</td>\n",
       "    </tr>\n",
       "    <tr>\n",
       "      <th>2</th>\n",
       "      <td>3/11/2021</td>\n",
       "      <td>Alabama</td>\n",
       "      <td>1</td>\n",
       "      <td>502263</td>\n",
       "      <td>865</td>\n",
       "      <td>10274</td>\n",
       "      <td>52</td>\n",
       "      <td>1209802</td>\n",
       "      <td>1816230.0</td>\n",
       "      <td>40570.0</td>\n",
       "      <td>790864.0</td>\n",
       "      <td>22362.0</td>\n",
       "      <td>452746.0</td>\n",
       "      <td>17728.0</td>\n",
       "      <td>25,376</td>\n",
       "      <td>-1.013041</td>\n",
       "    </tr>\n",
       "    <tr>\n",
       "      <th>3</th>\n",
       "      <td>3/10/2021</td>\n",
       "      <td>Alabama</td>\n",
       "      <td>1</td>\n",
       "      <td>501398</td>\n",
       "      <td>782</td>\n",
       "      <td>10222</td>\n",
       "      <td>36</td>\n",
       "      <td>1173820</td>\n",
       "      <td>1775660.0</td>\n",
       "      <td>86610.0</td>\n",
       "      <td>768502.0</td>\n",
       "      <td>21234.0</td>\n",
       "      <td>435018.0</td>\n",
       "      <td>14935.0</td>\n",
       "      <td>24,827</td>\n",
       "      <td>-1.013041</td>\n",
       "    </tr>\n",
       "    <tr>\n",
       "      <th>4</th>\n",
       "      <td>3/9/2021</td>\n",
       "      <td>Alabama</td>\n",
       "      <td>1</td>\n",
       "      <td>500616</td>\n",
       "      <td>524</td>\n",
       "      <td>10186</td>\n",
       "      <td>38</td>\n",
       "      <td>1140984</td>\n",
       "      <td>1689050.0</td>\n",
       "      <td>60700.0</td>\n",
       "      <td>747268.0</td>\n",
       "      <td>14301.0</td>\n",
       "      <td>420083.0</td>\n",
       "      <td>10146.0</td>\n",
       "      <td>24,118</td>\n",
       "      <td>-1.013041</td>\n",
       "    </tr>\n",
       "  </tbody>\n",
       "</table>\n",
       "</div>"
      ],
      "text/plain": [
       "        date    state  fips   cases  daily_cases  deaths  daily_deaths  \\\n",
       "0  3/13/2021  Alabama     1  503305          594   10327            28   \n",
       "1  3/12/2021  Alabama     1  502711          448   10299            25   \n",
       "2  3/11/2021  Alabama     1  502263          865   10274            52   \n",
       "3  3/10/2021  Alabama     1  501398          782   10222            36   \n",
       "4   3/9/2021  Alabama     1  500616          524   10186            38   \n",
       "\n",
       "  total_vaccinations  total_distributed  daily_distributed  \\\n",
       "0            1288242          1918560.0            80160.0   \n",
       "1            1249205          1838400.0            22170.0   \n",
       "2            1209802          1816230.0            40570.0   \n",
       "3            1173820          1775660.0            86610.0   \n",
       "4            1140984          1689050.0            60700.0   \n",
       "\n",
       "   total_people_vaccinated  daily_people_vaccinated  \\\n",
       "0                 841394.0                  24976.0   \n",
       "1                 816418.0                  25554.0   \n",
       "2                 790864.0                  22362.0   \n",
       "3                 768502.0                  21234.0   \n",
       "4                 747268.0                  14301.0   \n",
       "\n",
       "   total_people_fully_vaccinated  daily_people_fully_vaccinated  \\\n",
       "0                       492755.0                        20430.0   \n",
       "1                       472325.0                        19579.0   \n",
       "2                       452746.0                        17728.0   \n",
       "3                       435018.0                        14935.0   \n",
       "4                       420083.0                        10146.0   \n",
       "\n",
       "  daily_vaccinations  mobility_composite  \n",
       "0             26,935           -1.013041  \n",
       "1             26,375           -1.013041  \n",
       "2             25,376           -1.013041  \n",
       "3             24,827           -1.013041  \n",
       "4             24,118           -1.013041  "
      ]
     },
     "execution_count": 5,
     "metadata": {},
     "output_type": "execute_result"
    }
   ],
   "source": [
    "df.head()"
   ]
  },
  {
   "cell_type": "code",
   "execution_count": 6,
   "id": "21ae967e-fe62-4c78-a5e9-b3ce7158917c",
   "metadata": {
    "colab": {
     "base_uri": "https://localhost:8080/"
    },
    "executionInfo": {
     "elapsed": 46141,
     "status": "ok",
     "timestamp": 1619509200356,
     "user": {
      "displayName": "Sitiporn Saelim",
      "photoUrl": "",
      "userId": "04392232392828254116"
     },
     "user_tz": -420
    },
    "id": "21ae967e-fe62-4c78-a5e9-b3ce7158917c",
    "outputId": "c98dc023-b5a6-446c-d9cc-ca4cb2cd3f98"
   },
   "outputs": [
    {
     "name": "stdout",
     "output_type": "stream",
     "text": [
      "<class 'pandas.core.frame.DataFrame'>\n",
      "RangeIndex: 20618 entries, 0 to 20617\n",
      "Data columns (total 16 columns):\n",
      " #   Column                         Non-Null Count  Dtype  \n",
      "---  ------                         --------------  -----  \n",
      " 0   date                           20618 non-null  object \n",
      " 1   state                          20618 non-null  object \n",
      " 2   fips                           20618 non-null  int64  \n",
      " 3   cases                          20618 non-null  int64  \n",
      " 4   daily_cases                    20618 non-null  int64  \n",
      " 5   deaths                         20618 non-null  int64  \n",
      " 6   daily_deaths                   20618 non-null  int64  \n",
      " 7   total_vaccinations             3801 non-null   object \n",
      " 8   total_distributed              3801 non-null   float64\n",
      " 9   daily_distributed              3801 non-null   float64\n",
      " 10  total_people_vaccinated        3801 non-null   float64\n",
      " 11  daily_people_vaccinated        3801 non-null   float64\n",
      " 12  total_people_fully_vaccinated  3801 non-null   float64\n",
      " 13  daily_people_fully_vaccinated  3801 non-null   float64\n",
      " 14  daily_vaccinations             3779 non-null   object \n",
      " 15  mobility_composite             19353 non-null  float64\n",
      "dtypes: float64(7), int64(5), object(4)\n",
      "memory usage: 2.5+ MB\n"
     ]
    }
   ],
   "source": [
    "df.info()"
   ]
  },
  {
   "cell_type": "code",
   "execution_count": 7,
   "id": "836c3722-619c-4ea8-a6f0-22214d8ee8b9",
   "metadata": {
    "colab": {
     "base_uri": "https://localhost:8080/",
     "height": 206
    },
    "executionInfo": {
     "elapsed": 46132,
     "status": "ok",
     "timestamp": 1619509200357,
     "user": {
      "displayName": "Sitiporn Saelim",
      "photoUrl": "",
      "userId": "04392232392828254116"
     },
     "user_tz": -420
    },
    "id": "836c3722-619c-4ea8-a6f0-22214d8ee8b9",
    "outputId": "4b3cf9f1-c8c6-4cf9-8646-de5ef6411df1"
   },
   "outputs": [
    {
     "data": {
      "text/html": [
       "<div>\n",
       "<style scoped>\n",
       "    .dataframe tbody tr th:only-of-type {\n",
       "        vertical-align: middle;\n",
       "    }\n",
       "\n",
       "    .dataframe tbody tr th {\n",
       "        vertical-align: top;\n",
       "    }\n",
       "\n",
       "    .dataframe thead th {\n",
       "        text-align: right;\n",
       "    }\n",
       "</style>\n",
       "<table border=\"1\" class=\"dataframe\">\n",
       "  <thead>\n",
       "    <tr style=\"text-align: right;\">\n",
       "      <th></th>\n",
       "      <th>date</th>\n",
       "      <th>state</th>\n",
       "      <th>fips</th>\n",
       "      <th>daily_cases</th>\n",
       "      <th>daily_deaths</th>\n",
       "      <th>daily_distributed</th>\n",
       "      <th>daily_people_vaccinated</th>\n",
       "      <th>daily_people_fully_vaccinated</th>\n",
       "      <th>daily_vaccinations</th>\n",
       "      <th>mobility_composite</th>\n",
       "    </tr>\n",
       "  </thead>\n",
       "  <tbody>\n",
       "    <tr>\n",
       "      <th>0</th>\n",
       "      <td>3/13/2021</td>\n",
       "      <td>Alabama</td>\n",
       "      <td>1</td>\n",
       "      <td>594</td>\n",
       "      <td>28</td>\n",
       "      <td>80160.0</td>\n",
       "      <td>24976.0</td>\n",
       "      <td>20430.0</td>\n",
       "      <td>26,935</td>\n",
       "      <td>-1.013041</td>\n",
       "    </tr>\n",
       "    <tr>\n",
       "      <th>1</th>\n",
       "      <td>3/12/2021</td>\n",
       "      <td>Alabama</td>\n",
       "      <td>1</td>\n",
       "      <td>448</td>\n",
       "      <td>25</td>\n",
       "      <td>22170.0</td>\n",
       "      <td>25554.0</td>\n",
       "      <td>19579.0</td>\n",
       "      <td>26,375</td>\n",
       "      <td>-1.013041</td>\n",
       "    </tr>\n",
       "    <tr>\n",
       "      <th>2</th>\n",
       "      <td>3/11/2021</td>\n",
       "      <td>Alabama</td>\n",
       "      <td>1</td>\n",
       "      <td>865</td>\n",
       "      <td>52</td>\n",
       "      <td>40570.0</td>\n",
       "      <td>22362.0</td>\n",
       "      <td>17728.0</td>\n",
       "      <td>25,376</td>\n",
       "      <td>-1.013041</td>\n",
       "    </tr>\n",
       "    <tr>\n",
       "      <th>3</th>\n",
       "      <td>3/10/2021</td>\n",
       "      <td>Alabama</td>\n",
       "      <td>1</td>\n",
       "      <td>782</td>\n",
       "      <td>36</td>\n",
       "      <td>86610.0</td>\n",
       "      <td>21234.0</td>\n",
       "      <td>14935.0</td>\n",
       "      <td>24,827</td>\n",
       "      <td>-1.013041</td>\n",
       "    </tr>\n",
       "    <tr>\n",
       "      <th>4</th>\n",
       "      <td>3/9/2021</td>\n",
       "      <td>Alabama</td>\n",
       "      <td>1</td>\n",
       "      <td>524</td>\n",
       "      <td>38</td>\n",
       "      <td>60700.0</td>\n",
       "      <td>14301.0</td>\n",
       "      <td>10146.0</td>\n",
       "      <td>24,118</td>\n",
       "      <td>-1.013041</td>\n",
       "    </tr>\n",
       "  </tbody>\n",
       "</table>\n",
       "</div>"
      ],
      "text/plain": [
       "        date    state  fips  daily_cases  daily_deaths  daily_distributed  \\\n",
       "0  3/13/2021  Alabama     1          594            28            80160.0   \n",
       "1  3/12/2021  Alabama     1          448            25            22170.0   \n",
       "2  3/11/2021  Alabama     1          865            52            40570.0   \n",
       "3  3/10/2021  Alabama     1          782            36            86610.0   \n",
       "4   3/9/2021  Alabama     1          524            38            60700.0   \n",
       "\n",
       "   daily_people_vaccinated  daily_people_fully_vaccinated daily_vaccinations  \\\n",
       "0                  24976.0                        20430.0             26,935   \n",
       "1                  25554.0                        19579.0             26,375   \n",
       "2                  22362.0                        17728.0             25,376   \n",
       "3                  21234.0                        14935.0             24,827   \n",
       "4                  14301.0                        10146.0             24,118   \n",
       "\n",
       "   mobility_composite  \n",
       "0           -1.013041  \n",
       "1           -1.013041  \n",
       "2           -1.013041  \n",
       "3           -1.013041  \n",
       "4           -1.013041  "
      ]
     },
     "execution_count": 7,
     "metadata": {},
     "output_type": "execute_result"
    }
   ],
   "source": [
    "df = df.drop(labels=['cases', 'deaths', 'total_vaccinations', 'total_distributed', 'total_people_vaccinated', 'total_people_fully_vaccinated'], axis=1)\n",
    "df.head()"
   ]
  },
  {
   "cell_type": "code",
   "execution_count": 8,
   "id": "cd39e90b-0daa-4780-a915-99e2c188b7f2",
   "metadata": {
    "colab": {
     "base_uri": "https://localhost:8080/"
    },
    "executionInfo": {
     "elapsed": 46122,
     "status": "ok",
     "timestamp": 1619509200358,
     "user": {
      "displayName": "Sitiporn Saelim",
      "photoUrl": "",
      "userId": "04392232392828254116"
     },
     "user_tz": -420
    },
    "id": "cd39e90b-0daa-4780-a915-99e2c188b7f2",
    "outputId": "f2f42d23-de95-4150-b07b-d8a731b97fb2"
   },
   "outputs": [
    {
     "data": {
      "text/plain": [
       "array(['Alabama', 'Alaska', 'Arizona', 'Arkansas', 'California',\n",
       "       'Colorado', 'Connecticut', 'Delaware', 'District of Columbia',\n",
       "       'Florida', 'Georgia', 'Guam', 'Hawaii', 'Idaho', 'Illinois',\n",
       "       'Indiana', 'Iowa', 'Kansas', 'Kentucky', 'Louisiana', 'Maine',\n",
       "       'Maryland', 'Massachusetts', 'Michigan', 'Minnesota',\n",
       "       'Mississippi', 'Missouri', 'Montana', 'Nebraska', 'Nevada',\n",
       "       'New Hampshire', 'New Jersey', 'New Mexico', 'New York',\n",
       "       'North Carolina', 'North Dakota', 'Northern Mariana Islands',\n",
       "       'Ohio', 'Oklahoma', 'Oregon', 'Pennsylvania', 'Puerto Rico',\n",
       "       'Rhode Island', 'South Carolina', 'South Dakota', 'Tennessee',\n",
       "       'Texas', 'Utah', 'Vermont', 'Virgin Islands', 'Virginia',\n",
       "       'Washington', 'West Virginia', 'Wisconsin', 'Wyoming'],\n",
       "      dtype=object)"
      ]
     },
     "execution_count": 8,
     "metadata": {},
     "output_type": "execute_result"
    }
   ],
   "source": [
    "df['state'].unique()"
   ]
  },
  {
   "cell_type": "code",
   "execution_count": 9,
   "id": "5d059c19-c413-4820-85a8-18632ef73b7f",
   "metadata": {
    "colab": {
     "base_uri": "https://localhost:8080/",
     "height": 424
    },
    "executionInfo": {
     "elapsed": 46114,
     "status": "ok",
     "timestamp": 1619509200360,
     "user": {
      "displayName": "Sitiporn Saelim",
      "photoUrl": "",
      "userId": "04392232392828254116"
     },
     "user_tz": -420
    },
    "id": "5d059c19-c413-4820-85a8-18632ef73b7f",
    "outputId": "8d30ea18-e07a-4bf3-b20c-edb24c321d1b"
   },
   "outputs": [
    {
     "data": {
      "text/html": [
       "<div>\n",
       "<style scoped>\n",
       "    .dataframe tbody tr th:only-of-type {\n",
       "        vertical-align: middle;\n",
       "    }\n",
       "\n",
       "    .dataframe tbody tr th {\n",
       "        vertical-align: top;\n",
       "    }\n",
       "\n",
       "    .dataframe thead th {\n",
       "        text-align: right;\n",
       "    }\n",
       "</style>\n",
       "<table border=\"1\" class=\"dataframe\">\n",
       "  <thead>\n",
       "    <tr style=\"text-align: right;\">\n",
       "      <th></th>\n",
       "      <th>date</th>\n",
       "      <th>state</th>\n",
       "      <th>fips</th>\n",
       "      <th>daily_cases</th>\n",
       "      <th>daily_deaths</th>\n",
       "      <th>daily_distributed</th>\n",
       "      <th>daily_people_vaccinated</th>\n",
       "      <th>daily_people_fully_vaccinated</th>\n",
       "      <th>daily_vaccinations</th>\n",
       "      <th>mobility_composite</th>\n",
       "    </tr>\n",
       "  </thead>\n",
       "  <tbody>\n",
       "    <tr>\n",
       "      <th>19484</th>\n",
       "      <td>2020-01-21</td>\n",
       "      <td>Washington</td>\n",
       "      <td>53</td>\n",
       "      <td>1</td>\n",
       "      <td>0</td>\n",
       "      <td>NaN</td>\n",
       "      <td>NaN</td>\n",
       "      <td>NaN</td>\n",
       "      <td>NaN</td>\n",
       "      <td>NaN</td>\n",
       "    </tr>\n",
       "    <tr>\n",
       "      <th>19483</th>\n",
       "      <td>2020-01-22</td>\n",
       "      <td>Washington</td>\n",
       "      <td>53</td>\n",
       "      <td>0</td>\n",
       "      <td>0</td>\n",
       "      <td>NaN</td>\n",
       "      <td>NaN</td>\n",
       "      <td>NaN</td>\n",
       "      <td>NaN</td>\n",
       "      <td>NaN</td>\n",
       "    </tr>\n",
       "    <tr>\n",
       "      <th>19482</th>\n",
       "      <td>2020-01-23</td>\n",
       "      <td>Washington</td>\n",
       "      <td>53</td>\n",
       "      <td>0</td>\n",
       "      <td>0</td>\n",
       "      <td>NaN</td>\n",
       "      <td>NaN</td>\n",
       "      <td>NaN</td>\n",
       "      <td>NaN</td>\n",
       "      <td>NaN</td>\n",
       "    </tr>\n",
       "    <tr>\n",
       "      <th>5684</th>\n",
       "      <td>2020-01-24</td>\n",
       "      <td>Illinois</td>\n",
       "      <td>17</td>\n",
       "      <td>1</td>\n",
       "      <td>0</td>\n",
       "      <td>NaN</td>\n",
       "      <td>NaN</td>\n",
       "      <td>NaN</td>\n",
       "      <td>NaN</td>\n",
       "      <td>NaN</td>\n",
       "    </tr>\n",
       "    <tr>\n",
       "      <th>19481</th>\n",
       "      <td>2020-01-24</td>\n",
       "      <td>Washington</td>\n",
       "      <td>53</td>\n",
       "      <td>0</td>\n",
       "      <td>0</td>\n",
       "      <td>NaN</td>\n",
       "      <td>NaN</td>\n",
       "      <td>NaN</td>\n",
       "      <td>NaN</td>\n",
       "      <td>NaN</td>\n",
       "    </tr>\n",
       "    <tr>\n",
       "      <th>...</th>\n",
       "      <td>...</td>\n",
       "      <td>...</td>\n",
       "      <td>...</td>\n",
       "      <td>...</td>\n",
       "      <td>...</td>\n",
       "      <td>...</td>\n",
       "      <td>...</td>\n",
       "      <td>...</td>\n",
       "      <td>...</td>\n",
       "      <td>...</td>\n",
       "    </tr>\n",
       "    <tr>\n",
       "      <th>20250</th>\n",
       "      <td>2021-03-13</td>\n",
       "      <td>Wyoming</td>\n",
       "      <td>56</td>\n",
       "      <td>0</td>\n",
       "      <td>0</td>\n",
       "      <td>0.0</td>\n",
       "      <td>4086.0</td>\n",
       "      <td>2945.0</td>\n",
       "      <td>4,085</td>\n",
       "      <td>0.000000</td>\n",
       "    </tr>\n",
       "    <tr>\n",
       "      <th>4168</th>\n",
       "      <td>2021-03-13</td>\n",
       "      <td>Guam</td>\n",
       "      <td>66</td>\n",
       "      <td>1</td>\n",
       "      <td>0</td>\n",
       "      <td>0.0</td>\n",
       "      <td>226.0</td>\n",
       "      <td>1440.0</td>\n",
       "      <td>1,272</td>\n",
       "      <td>-5.361115</td>\n",
       "    </tr>\n",
       "    <tr>\n",
       "      <th>13475</th>\n",
       "      <td>2021-03-13</td>\n",
       "      <td>Northern Mariana Islands</td>\n",
       "      <td>69</td>\n",
       "      <td>1</td>\n",
       "      <td>0</td>\n",
       "      <td>0.0</td>\n",
       "      <td>230.0</td>\n",
       "      <td>163.0</td>\n",
       "      <td>246</td>\n",
       "      <td>NaN</td>\n",
       "    </tr>\n",
       "    <tr>\n",
       "      <th>15319</th>\n",
       "      <td>2021-03-13</td>\n",
       "      <td>Puerto Rico</td>\n",
       "      <td>72</td>\n",
       "      <td>235</td>\n",
       "      <td>0</td>\n",
       "      <td>19550.0</td>\n",
       "      <td>32455.0</td>\n",
       "      <td>20400.0</td>\n",
       "      <td>19,615</td>\n",
       "      <td>0.000000</td>\n",
       "    </tr>\n",
       "    <tr>\n",
       "      <th>18330</th>\n",
       "      <td>2021-03-13</td>\n",
       "      <td>Virgin Islands</td>\n",
       "      <td>78</td>\n",
       "      <td>0</td>\n",
       "      <td>0</td>\n",
       "      <td>NaN</td>\n",
       "      <td>NaN</td>\n",
       "      <td>NaN</td>\n",
       "      <td>NaN</td>\n",
       "      <td>NaN</td>\n",
       "    </tr>\n",
       "  </tbody>\n",
       "</table>\n",
       "<p>20618 rows × 10 columns</p>\n",
       "</div>"
      ],
      "text/plain": [
       "            date                     state  fips  daily_cases  daily_deaths  \\\n",
       "19484 2020-01-21                Washington    53            1             0   \n",
       "19483 2020-01-22                Washington    53            0             0   \n",
       "19482 2020-01-23                Washington    53            0             0   \n",
       "5684  2020-01-24                  Illinois    17            1             0   \n",
       "19481 2020-01-24                Washington    53            0             0   \n",
       "...          ...                       ...   ...          ...           ...   \n",
       "20250 2021-03-13                   Wyoming    56            0             0   \n",
       "4168  2021-03-13                      Guam    66            1             0   \n",
       "13475 2021-03-13  Northern Mariana Islands    69            1             0   \n",
       "15319 2021-03-13               Puerto Rico    72          235             0   \n",
       "18330 2021-03-13            Virgin Islands    78            0             0   \n",
       "\n",
       "       daily_distributed  daily_people_vaccinated  \\\n",
       "19484                NaN                      NaN   \n",
       "19483                NaN                      NaN   \n",
       "19482                NaN                      NaN   \n",
       "5684                 NaN                      NaN   \n",
       "19481                NaN                      NaN   \n",
       "...                  ...                      ...   \n",
       "20250                0.0                   4086.0   \n",
       "4168                 0.0                    226.0   \n",
       "13475                0.0                    230.0   \n",
       "15319            19550.0                  32455.0   \n",
       "18330                NaN                      NaN   \n",
       "\n",
       "       daily_people_fully_vaccinated daily_vaccinations  mobility_composite  \n",
       "19484                            NaN                NaN                 NaN  \n",
       "19483                            NaN                NaN                 NaN  \n",
       "19482                            NaN                NaN                 NaN  \n",
       "5684                             NaN                NaN                 NaN  \n",
       "19481                            NaN                NaN                 NaN  \n",
       "...                              ...                ...                 ...  \n",
       "20250                         2945.0              4,085            0.000000  \n",
       "4168                          1440.0              1,272           -5.361115  \n",
       "13475                          163.0                246                 NaN  \n",
       "15319                        20400.0             19,615            0.000000  \n",
       "18330                            NaN                NaN                 NaN  \n",
       "\n",
       "[20618 rows x 10 columns]"
      ]
     },
     "execution_count": 9,
     "metadata": {},
     "output_type": "execute_result"
    }
   ],
   "source": [
    "# Set date to be datetime format and sort by date and fips\n",
    "df['date'] = pd.to_datetime(df.date)\n",
    "df = df.sort_values(by=['date', 'fips'], axis=0, ascending=True)\n",
    "df"
   ]
  },
  {
   "cell_type": "code",
   "execution_count": 10,
   "id": "a6675f3e-4cdc-4c46-80ab-f222d50a4f86",
   "metadata": {
    "colab": {
     "base_uri": "https://localhost:8080/",
     "height": 455
    },
    "executionInfo": {
     "elapsed": 46105,
     "status": "ok",
     "timestamp": 1619509200361,
     "user": {
      "displayName": "Sitiporn Saelim",
      "photoUrl": "",
      "userId": "04392232392828254116"
     },
     "user_tz": -420
    },
    "id": "a6675f3e-4cdc-4c46-80ab-f222d50a4f86",
    "outputId": "072e1c55-bd87-4a72-9cda-f177430f51e4"
   },
   "outputs": [
    {
     "data": {
      "text/html": [
       "<div>\n",
       "<style scoped>\n",
       "    .dataframe tbody tr th:only-of-type {\n",
       "        vertical-align: middle;\n",
       "    }\n",
       "\n",
       "    .dataframe tbody tr th {\n",
       "        vertical-align: top;\n",
       "    }\n",
       "\n",
       "    .dataframe thead th {\n",
       "        text-align: right;\n",
       "    }\n",
       "</style>\n",
       "<table border=\"1\" class=\"dataframe\">\n",
       "  <thead>\n",
       "    <tr style=\"text-align: right;\">\n",
       "      <th></th>\n",
       "      <th>state</th>\n",
       "      <th>fips</th>\n",
       "      <th>daily_cases</th>\n",
       "      <th>daily_deaths</th>\n",
       "      <th>daily_distributed</th>\n",
       "      <th>daily_people_vaccinated</th>\n",
       "      <th>daily_people_fully_vaccinated</th>\n",
       "      <th>daily_vaccinations</th>\n",
       "      <th>mobility_composite</th>\n",
       "    </tr>\n",
       "    <tr>\n",
       "      <th>date</th>\n",
       "      <th></th>\n",
       "      <th></th>\n",
       "      <th></th>\n",
       "      <th></th>\n",
       "      <th></th>\n",
       "      <th></th>\n",
       "      <th></th>\n",
       "      <th></th>\n",
       "      <th></th>\n",
       "    </tr>\n",
       "  </thead>\n",
       "  <tbody>\n",
       "    <tr>\n",
       "      <th>2020-02-12</th>\n",
       "      <td>Texas</td>\n",
       "      <td>48</td>\n",
       "      <td>1</td>\n",
       "      <td>0</td>\n",
       "      <td>NaN</td>\n",
       "      <td>NaN</td>\n",
       "      <td>NaN</td>\n",
       "      <td>NaN</td>\n",
       "      <td>-0.534251</td>\n",
       "    </tr>\n",
       "    <tr>\n",
       "      <th>2020-02-13</th>\n",
       "      <td>Texas</td>\n",
       "      <td>48</td>\n",
       "      <td>1</td>\n",
       "      <td>0</td>\n",
       "      <td>NaN</td>\n",
       "      <td>NaN</td>\n",
       "      <td>NaN</td>\n",
       "      <td>NaN</td>\n",
       "      <td>-0.062539</td>\n",
       "    </tr>\n",
       "    <tr>\n",
       "      <th>2020-02-14</th>\n",
       "      <td>Texas</td>\n",
       "      <td>48</td>\n",
       "      <td>0</td>\n",
       "      <td>0</td>\n",
       "      <td>NaN</td>\n",
       "      <td>NaN</td>\n",
       "      <td>NaN</td>\n",
       "      <td>NaN</td>\n",
       "      <td>0.373968</td>\n",
       "    </tr>\n",
       "    <tr>\n",
       "      <th>2020-02-15</th>\n",
       "      <td>Texas</td>\n",
       "      <td>48</td>\n",
       "      <td>0</td>\n",
       "      <td>0</td>\n",
       "      <td>NaN</td>\n",
       "      <td>NaN</td>\n",
       "      <td>NaN</td>\n",
       "      <td>NaN</td>\n",
       "      <td>0.754066</td>\n",
       "    </tr>\n",
       "    <tr>\n",
       "      <th>2020-02-16</th>\n",
       "      <td>Texas</td>\n",
       "      <td>48</td>\n",
       "      <td>0</td>\n",
       "      <td>0</td>\n",
       "      <td>NaN</td>\n",
       "      <td>NaN</td>\n",
       "      <td>NaN</td>\n",
       "      <td>NaN</td>\n",
       "      <td>1.069516</td>\n",
       "    </tr>\n",
       "    <tr>\n",
       "      <th>...</th>\n",
       "      <td>...</td>\n",
       "      <td>...</td>\n",
       "      <td>...</td>\n",
       "      <td>...</td>\n",
       "      <td>...</td>\n",
       "      <td>...</td>\n",
       "      <td>...</td>\n",
       "      <td>...</td>\n",
       "      <td>...</td>\n",
       "    </tr>\n",
       "    <tr>\n",
       "      <th>2021-03-09</th>\n",
       "      <td>Texas</td>\n",
       "      <td>48</td>\n",
       "      <td>5409</td>\n",
       "      <td>184</td>\n",
       "      <td>444420.0</td>\n",
       "      <td>168326.0</td>\n",
       "      <td>68666.0</td>\n",
       "      <td>191,891</td>\n",
       "      <td>-7.686501</td>\n",
       "    </tr>\n",
       "    <tr>\n",
       "      <th>2021-03-10</th>\n",
       "      <td>Texas</td>\n",
       "      <td>48</td>\n",
       "      <td>5350</td>\n",
       "      <td>202</td>\n",
       "      <td>815040.0</td>\n",
       "      <td>165705.0</td>\n",
       "      <td>77828.0</td>\n",
       "      <td>191,158</td>\n",
       "      <td>-7.686501</td>\n",
       "    </tr>\n",
       "    <tr>\n",
       "      <th>2021-03-11</th>\n",
       "      <td>Texas</td>\n",
       "      <td>48</td>\n",
       "      <td>6185</td>\n",
       "      <td>212</td>\n",
       "      <td>150650.0</td>\n",
       "      <td>153209.0</td>\n",
       "      <td>60099.0</td>\n",
       "      <td>193,081</td>\n",
       "      <td>-7.686501</td>\n",
       "    </tr>\n",
       "    <tr>\n",
       "      <th>2021-03-12</th>\n",
       "      <td>Texas</td>\n",
       "      <td>48</td>\n",
       "      <td>5230</td>\n",
       "      <td>223</td>\n",
       "      <td>225150.0</td>\n",
       "      <td>206533.0</td>\n",
       "      <td>92580.0</td>\n",
       "      <td>202,045</td>\n",
       "      <td>-7.738001</td>\n",
       "    </tr>\n",
       "    <tr>\n",
       "      <th>2021-03-13</th>\n",
       "      <td>Texas</td>\n",
       "      <td>48</td>\n",
       "      <td>2876</td>\n",
       "      <td>141</td>\n",
       "      <td>81900.0</td>\n",
       "      <td>192733.0</td>\n",
       "      <td>85206.0</td>\n",
       "      <td>204,566</td>\n",
       "      <td>-7.738001</td>\n",
       "    </tr>\n",
       "  </tbody>\n",
       "</table>\n",
       "<p>396 rows × 9 columns</p>\n",
       "</div>"
      ],
      "text/plain": [
       "            state  fips  daily_cases  daily_deaths  daily_distributed  \\\n",
       "date                                                                    \n",
       "2020-02-12  Texas    48            1             0                NaN   \n",
       "2020-02-13  Texas    48            1             0                NaN   \n",
       "2020-02-14  Texas    48            0             0                NaN   \n",
       "2020-02-15  Texas    48            0             0                NaN   \n",
       "2020-02-16  Texas    48            0             0                NaN   \n",
       "...           ...   ...          ...           ...                ...   \n",
       "2021-03-09  Texas    48         5409           184           444420.0   \n",
       "2021-03-10  Texas    48         5350           202           815040.0   \n",
       "2021-03-11  Texas    48         6185           212           150650.0   \n",
       "2021-03-12  Texas    48         5230           223           225150.0   \n",
       "2021-03-13  Texas    48         2876           141            81900.0   \n",
       "\n",
       "            daily_people_vaccinated  daily_people_fully_vaccinated  \\\n",
       "date                                                                 \n",
       "2020-02-12                      NaN                            NaN   \n",
       "2020-02-13                      NaN                            NaN   \n",
       "2020-02-14                      NaN                            NaN   \n",
       "2020-02-15                      NaN                            NaN   \n",
       "2020-02-16                      NaN                            NaN   \n",
       "...                             ...                            ...   \n",
       "2021-03-09                 168326.0                        68666.0   \n",
       "2021-03-10                 165705.0                        77828.0   \n",
       "2021-03-11                 153209.0                        60099.0   \n",
       "2021-03-12                 206533.0                        92580.0   \n",
       "2021-03-13                 192733.0                        85206.0   \n",
       "\n",
       "           daily_vaccinations  mobility_composite  \n",
       "date                                               \n",
       "2020-02-12                NaN           -0.534251  \n",
       "2020-02-13                NaN           -0.062539  \n",
       "2020-02-14                NaN            0.373968  \n",
       "2020-02-15                NaN            0.754066  \n",
       "2020-02-16                NaN            1.069516  \n",
       "...                       ...                 ...  \n",
       "2021-03-09            191,891           -7.686501  \n",
       "2021-03-10            191,158           -7.686501  \n",
       "2021-03-11            193,081           -7.686501  \n",
       "2021-03-12            202,045           -7.738001  \n",
       "2021-03-13            204,566           -7.738001  \n",
       "\n",
       "[396 rows x 9 columns]"
      ]
     },
     "execution_count": 10,
     "metadata": {},
     "output_type": "execute_result"
    }
   ],
   "source": [
    "df_clean = df[df.state == STATE]\n",
    "df_clean = df_clean.set_index('date')\n",
    "df_clean"
   ]
  },
  {
   "cell_type": "code",
   "execution_count": 11,
   "id": "a8eccf57-7c24-4496-b2fa-2af17ebf8f28",
   "metadata": {
    "colab": {
     "base_uri": "https://localhost:8080/"
    },
    "executionInfo": {
     "elapsed": 46101,
     "status": "ok",
     "timestamp": 1619509200363,
     "user": {
      "displayName": "Sitiporn Saelim",
      "photoUrl": "",
      "userId": "04392232392828254116"
     },
     "user_tz": -420
    },
    "id": "a8eccf57-7c24-4496-b2fa-2af17ebf8f28",
    "outputId": "7fa3dcff-6ae6-423b-eab1-542e1e601795"
   },
   "outputs": [
    {
     "data": {
      "text/plain": [
       "(378, 1)"
      ]
     },
     "execution_count": 11,
     "metadata": {},
     "output_type": "execute_result"
    }
   ],
   "source": [
    "rmlabels=['state', 'fips', 'daily_deaths', 'daily_distributed','daily_people_vaccinated', 'daily_people_fully_vaccinated',\n",
    "          'daily_vaccinations', 'mobility_composite']\n",
    "df_clean = df_clean.drop(labels=rmlabels, axis=1)\n",
    "df_clean = df_clean.iloc[df_clean.shape[0]-378:]\n",
    "df_clean.shape"
   ]
  },
  {
   "cell_type": "code",
   "execution_count": 12,
   "id": "c201a119-d9fa-4518-abef-46b721091fb8",
   "metadata": {
    "colab": {
     "base_uri": "https://localhost:8080/",
     "height": 324
    },
    "executionInfo": {
     "elapsed": 46924,
     "status": "ok",
     "timestamp": 1619509201196,
     "user": {
      "displayName": "Sitiporn Saelim",
      "photoUrl": "",
      "userId": "04392232392828254116"
     },
     "user_tz": -420
    },
    "id": "c201a119-d9fa-4518-abef-46b721091fb8",
    "outputId": "9e0a18be-bc92-49d7-8de0-384963febafe"
   },
   "outputs": [
    {
     "data": {
      "text/plain": [
       "<matplotlib.axes._subplots.AxesSubplot at 0x7f9669170ac8>"
      ]
     },
     "execution_count": 12,
     "metadata": {},
     "output_type": "execute_result"
    },
    {
     "data": {
      "image/png": "[encoded data removed]",
      "text/plain": [
       "<matplotlib.figure.Figure at 0x7f96691700f0>"
      ]
     },
     "metadata": {
      "needs_background": "light"
     },
     "output_type": "display_data"
    }
   ],
   "source": [
    "df_clean.plot(title=f\"Daily cases :{STATE}\")"
   ]
  },
  {
   "cell_type": "code",
   "execution_count": 13,
   "id": "23c4f150-3637-4570-adb3-6b5f40617af6",
   "metadata": {
    "colab": {
     "base_uri": "https://localhost:8080/",
     "height": 206
    },
    "executionInfo": {
     "elapsed": 46917,
     "status": "ok",
     "timestamp": 1619509201196,
     "user": {
      "displayName": "Sitiporn Saelim",
      "photoUrl": "",
      "userId": "04392232392828254116"
     },
     "user_tz": -420
    },
    "id": "23c4f150-3637-4570-adb3-6b5f40617af6",
    "outputId": "8358c33b-8cd9-4df1-f937-d9ad57e69578"
   },
   "outputs": [
    {
     "data": {
      "text/html": [
       "<div>\n",
       "<style scoped>\n",
       "    .dataframe tbody tr th:only-of-type {\n",
       "        vertical-align: middle;\n",
       "    }\n",
       "\n",
       "    .dataframe tbody tr th {\n",
       "        vertical-align: top;\n",
       "    }\n",
       "\n",
       "    .dataframe thead th {\n",
       "        text-align: right;\n",
       "    }\n",
       "</style>\n",
       "<table border=\"1\" class=\"dataframe\">\n",
       "  <thead>\n",
       "    <tr style=\"text-align: right;\">\n",
       "      <th></th>\n",
       "      <th>date</th>\n",
       "      <th>state</th>\n",
       "      <th>fips</th>\n",
       "      <th>daily_cases</th>\n",
       "      <th>daily_deaths</th>\n",
       "      <th>daily_distributed</th>\n",
       "      <th>daily_people_vaccinated</th>\n",
       "      <th>daily_people_fully_vaccinated</th>\n",
       "      <th>daily_vaccinations</th>\n",
       "      <th>mobility_composite</th>\n",
       "    </tr>\n",
       "  </thead>\n",
       "  <tbody>\n",
       "    <tr>\n",
       "      <th>19484</th>\n",
       "      <td>2020-01-21</td>\n",
       "      <td>Washington</td>\n",
       "      <td>53</td>\n",
       "      <td>1</td>\n",
       "      <td>0</td>\n",
       "      <td>NaN</td>\n",
       "      <td>NaN</td>\n",
       "      <td>NaN</td>\n",
       "      <td>NaN</td>\n",
       "      <td>NaN</td>\n",
       "    </tr>\n",
       "    <tr>\n",
       "      <th>19483</th>\n",
       "      <td>2020-01-22</td>\n",
       "      <td>Washington</td>\n",
       "      <td>53</td>\n",
       "      <td>0</td>\n",
       "      <td>0</td>\n",
       "      <td>NaN</td>\n",
       "      <td>NaN</td>\n",
       "      <td>NaN</td>\n",
       "      <td>NaN</td>\n",
       "      <td>NaN</td>\n",
       "    </tr>\n",
       "    <tr>\n",
       "      <th>19482</th>\n",
       "      <td>2020-01-23</td>\n",
       "      <td>Washington</td>\n",
       "      <td>53</td>\n",
       "      <td>0</td>\n",
       "      <td>0</td>\n",
       "      <td>NaN</td>\n",
       "      <td>NaN</td>\n",
       "      <td>NaN</td>\n",
       "      <td>NaN</td>\n",
       "      <td>NaN</td>\n",
       "    </tr>\n",
       "    <tr>\n",
       "      <th>5684</th>\n",
       "      <td>2020-01-24</td>\n",
       "      <td>Illinois</td>\n",
       "      <td>17</td>\n",
       "      <td>1</td>\n",
       "      <td>0</td>\n",
       "      <td>NaN</td>\n",
       "      <td>NaN</td>\n",
       "      <td>NaN</td>\n",
       "      <td>NaN</td>\n",
       "      <td>NaN</td>\n",
       "    </tr>\n",
       "    <tr>\n",
       "      <th>19481</th>\n",
       "      <td>2020-01-24</td>\n",
       "      <td>Washington</td>\n",
       "      <td>53</td>\n",
       "      <td>0</td>\n",
       "      <td>0</td>\n",
       "      <td>NaN</td>\n",
       "      <td>NaN</td>\n",
       "      <td>NaN</td>\n",
       "      <td>NaN</td>\n",
       "      <td>NaN</td>\n",
       "    </tr>\n",
       "  </tbody>\n",
       "</table>\n",
       "</div>"
      ],
      "text/plain": [
       "            date       state  fips  daily_cases  daily_deaths  \\\n",
       "19484 2020-01-21  Washington    53            1             0   \n",
       "19483 2020-01-22  Washington    53            0             0   \n",
       "19482 2020-01-23  Washington    53            0             0   \n",
       "5684  2020-01-24    Illinois    17            1             0   \n",
       "19481 2020-01-24  Washington    53            0             0   \n",
       "\n",
       "       daily_distributed  daily_people_vaccinated  \\\n",
       "19484                NaN                      NaN   \n",
       "19483                NaN                      NaN   \n",
       "19482                NaN                      NaN   \n",
       "5684                 NaN                      NaN   \n",
       "19481                NaN                      NaN   \n",
       "\n",
       "       daily_people_fully_vaccinated daily_vaccinations  mobility_composite  \n",
       "19484                            NaN                NaN                 NaN  \n",
       "19483                            NaN                NaN                 NaN  \n",
       "19482                            NaN                NaN                 NaN  \n",
       "5684                             NaN                NaN                 NaN  \n",
       "19481                            NaN                NaN                 NaN  "
      ]
     },
     "execution_count": 13,
     "metadata": {},
     "output_type": "execute_result"
    }
   ],
   "source": [
    "df.head()"
   ]
  },
  {
   "cell_type": "code",
   "execution_count": 14,
   "id": "e8f7a48d-81a7-4b17-aedb-5923ffcbe32f",
   "metadata": {
    "executionInfo": {
     "elapsed": 46916,
     "status": "ok",
     "timestamp": 1619509201197,
     "user": {
      "displayName": "Sitiporn Saelim",
      "photoUrl": "",
      "userId": "04392232392828254116"
     },
     "user_tz": -420
    },
    "id": "e8f7a48d-81a7-4b17-aedb-5923ffcbe32f"
   },
   "outputs": [],
   "source": [
    "df_state = df[df.state == STATE]"
   ]
  },
  {
   "cell_type": "code",
   "execution_count": 15,
   "id": "db9e99af-23dc-4e4e-a124-92d83a36d885",
   "metadata": {
    "colab": {
     "base_uri": "https://localhost:8080/",
     "height": 408
    },
    "executionInfo": {
     "elapsed": 47772,
     "status": "ok",
     "timestamp": 1619509202061,
     "user": {
      "displayName": "Sitiporn Saelim",
      "photoUrl": "",
      "userId": "04392232392828254116"
     },
     "user_tz": -420
    },
    "id": "db9e99af-23dc-4e4e-a124-92d83a36d885",
    "outputId": "0ba43519-6419-485a-f90b-ea123d762d7d"
   },
   "outputs": [
    {
     "data": {
      "image/png": "[encoded data removed]",
      "text/plain": [
       "<matplotlib.figure.Figure at 0x7f9668efceb8>"
      ]
     },
     "metadata": {
      "needs_background": "light"
     },
     "output_type": "display_data"
    }
   ],
   "source": [
    "import pandas as pd\n",
    "import seaborn as sn\n",
    "import matplotlib.pyplot as plt\n",
    "\n",
    "corrMatrix = df_state.corr()\n",
    "sn.heatmap(corrMatrix, annot=True)\n",
    "plt.show()"
   ]
  },
  {
   "cell_type": "markdown",
   "id": "6662892c-7d17-4a48-a17c-83731bd9759e",
   "metadata": {
    "id": "6662892c-7d17-4a48-a17c-83731bd9759e"
   },
   "source": [
    "### select the high correlation to be our factors"
   ]
  },
  {
   "cell_type": "markdown",
   "id": "a276e2d6-9e04-4b58-955b-a4631b50d829",
   "metadata": {
    "id": "a276e2d6-9e04-4b58-955b-a4631b50d829"
   },
   "source": [
    "- daily death\n",
    "- daily people vacinated \n",
    "- daily_distibuted  \n",
    "- daily case "
   ]
  },
  {
   "cell_type": "code",
   "execution_count": 16,
   "id": "d6229abd-17d0-4e2b-b303-f4e2044f5079",
   "metadata": {
    "colab": {
     "base_uri": "https://localhost:8080/"
    },
    "executionInfo": {
     "elapsed": 47768,
     "status": "ok",
     "timestamp": 1619509202062,
     "user": {
      "displayName": "Sitiporn Saelim",
      "photoUrl": "",
      "userId": "04392232392828254116"
     },
     "user_tz": -420
    },
    "id": "d6229abd-17d0-4e2b-b303-f4e2044f5079",
    "outputId": "7c9c1a5f-eb10-40df-ba25-ae5f3f2cfc59"
   },
   "outputs": [
    {
     "data": {
      "text/plain": [
       "Index(['date', 'state', 'fips', 'daily_cases', 'daily_deaths',\n",
       "       'daily_distributed', 'daily_people_vaccinated',\n",
       "       'daily_people_fully_vaccinated', 'daily_vaccinations',\n",
       "       'mobility_composite'],\n",
       "      dtype='object')"
      ]
     },
     "execution_count": 16,
     "metadata": {},
     "output_type": "execute_result"
    }
   ],
   "source": [
    "df_state.columns"
   ]
  },
  {
   "cell_type": "code",
   "execution_count": 17,
   "id": "39b13fd3-a58b-476e-9bdd-65c1f96f8311",
   "metadata": {
    "executionInfo": {
     "elapsed": 47765,
     "status": "ok",
     "timestamp": 1619509202062,
     "user": {
      "displayName": "Sitiporn Saelim",
      "photoUrl": "",
      "userId": "04392232392828254116"
     },
     "user_tz": -420
    },
    "id": "39b13fd3-a58b-476e-9bdd-65c1f96f8311"
   },
   "outputs": [],
   "source": [
    "df_state = df_state.set_index('date') "
   ]
  },
  {
   "cell_type": "code",
   "execution_count": 18,
   "id": "598184b0-4082-404b-9b4d-3729f6297e39",
   "metadata": {
    "colab": {
     "base_uri": "https://localhost:8080/",
     "height": 0
    },
    "executionInfo": {
     "elapsed": 47758,
     "status": "ok",
     "timestamp": 1619509202063,
     "user": {
      "displayName": "Sitiporn Saelim",
      "photoUrl": "",
      "userId": "04392232392828254116"
     },
     "user_tz": -420
    },
    "id": "598184b0-4082-404b-9b4d-3729f6297e39",
    "outputId": "7255bf5b-fbb9-416f-bea6-b833636a8c77"
   },
   "outputs": [
    {
     "data": {
      "text/html": [
       "<div>\n",
       "<style scoped>\n",
       "    .dataframe tbody tr th:only-of-type {\n",
       "        vertical-align: middle;\n",
       "    }\n",
       "\n",
       "    .dataframe tbody tr th {\n",
       "        vertical-align: top;\n",
       "    }\n",
       "\n",
       "    .dataframe thead th {\n",
       "        text-align: right;\n",
       "    }\n",
       "</style>\n",
       "<table border=\"1\" class=\"dataframe\">\n",
       "  <thead>\n",
       "    <tr style=\"text-align: right;\">\n",
       "      <th></th>\n",
       "      <th>state</th>\n",
       "      <th>fips</th>\n",
       "      <th>daily_cases</th>\n",
       "      <th>daily_deaths</th>\n",
       "      <th>daily_distributed</th>\n",
       "      <th>daily_people_vaccinated</th>\n",
       "      <th>daily_people_fully_vaccinated</th>\n",
       "      <th>daily_vaccinations</th>\n",
       "      <th>mobility_composite</th>\n",
       "    </tr>\n",
       "    <tr>\n",
       "      <th>date</th>\n",
       "      <th></th>\n",
       "      <th></th>\n",
       "      <th></th>\n",
       "      <th></th>\n",
       "      <th></th>\n",
       "      <th></th>\n",
       "      <th></th>\n",
       "      <th></th>\n",
       "      <th></th>\n",
       "    </tr>\n",
       "  </thead>\n",
       "  <tbody>\n",
       "    <tr>\n",
       "      <th>2020-02-12</th>\n",
       "      <td>Texas</td>\n",
       "      <td>48</td>\n",
       "      <td>1</td>\n",
       "      <td>0</td>\n",
       "      <td>NaN</td>\n",
       "      <td>NaN</td>\n",
       "      <td>NaN</td>\n",
       "      <td>NaN</td>\n",
       "      <td>-0.534251</td>\n",
       "    </tr>\n",
       "    <tr>\n",
       "      <th>2020-02-13</th>\n",
       "      <td>Texas</td>\n",
       "      <td>48</td>\n",
       "      <td>1</td>\n",
       "      <td>0</td>\n",
       "      <td>NaN</td>\n",
       "      <td>NaN</td>\n",
       "      <td>NaN</td>\n",
       "      <td>NaN</td>\n",
       "      <td>-0.062539</td>\n",
       "    </tr>\n",
       "    <tr>\n",
       "      <th>2020-02-14</th>\n",
       "      <td>Texas</td>\n",
       "      <td>48</td>\n",
       "      <td>0</td>\n",
       "      <td>0</td>\n",
       "      <td>NaN</td>\n",
       "      <td>NaN</td>\n",
       "      <td>NaN</td>\n",
       "      <td>NaN</td>\n",
       "      <td>0.373968</td>\n",
       "    </tr>\n",
       "    <tr>\n",
       "      <th>2020-02-15</th>\n",
       "      <td>Texas</td>\n",
       "      <td>48</td>\n",
       "      <td>0</td>\n",
       "      <td>0</td>\n",
       "      <td>NaN</td>\n",
       "      <td>NaN</td>\n",
       "      <td>NaN</td>\n",
       "      <td>NaN</td>\n",
       "      <td>0.754066</td>\n",
       "    </tr>\n",
       "    <tr>\n",
       "      <th>2020-02-16</th>\n",
       "      <td>Texas</td>\n",
       "      <td>48</td>\n",
       "      <td>0</td>\n",
       "      <td>0</td>\n",
       "      <td>NaN</td>\n",
       "      <td>NaN</td>\n",
       "      <td>NaN</td>\n",
       "      <td>NaN</td>\n",
       "      <td>1.069516</td>\n",
       "    </tr>\n",
       "  </tbody>\n",
       "</table>\n",
       "</div>"
      ],
      "text/plain": [
       "            state  fips  daily_cases  daily_deaths  daily_distributed  \\\n",
       "date                                                                    \n",
       "2020-02-12  Texas    48            1             0                NaN   \n",
       "2020-02-13  Texas    48            1             0                NaN   \n",
       "2020-02-14  Texas    48            0             0                NaN   \n",
       "2020-02-15  Texas    48            0             0                NaN   \n",
       "2020-02-16  Texas    48            0             0                NaN   \n",
       "\n",
       "            daily_people_vaccinated  daily_people_fully_vaccinated  \\\n",
       "date                                                                 \n",
       "2020-02-12                      NaN                            NaN   \n",
       "2020-02-13                      NaN                            NaN   \n",
       "2020-02-14                      NaN                            NaN   \n",
       "2020-02-15                      NaN                            NaN   \n",
       "2020-02-16                      NaN                            NaN   \n",
       "\n",
       "           daily_vaccinations  mobility_composite  \n",
       "date                                               \n",
       "2020-02-12                NaN           -0.534251  \n",
       "2020-02-13                NaN           -0.062539  \n",
       "2020-02-14                NaN            0.373968  \n",
       "2020-02-15                NaN            0.754066  \n",
       "2020-02-16                NaN            1.069516  "
      ]
     },
     "execution_count": 18,
     "metadata": {},
     "output_type": "execute_result"
    }
   ],
   "source": [
    "df_state.head()"
   ]
  },
  {
   "cell_type": "code",
   "execution_count": 19,
   "id": "2bd8ef7b-99ba-4c1f-8c67-df4bf7ead2b7",
   "metadata": {
    "executionInfo": {
     "elapsed": 47757,
     "status": "ok",
     "timestamp": 1619509202063,
     "user": {
      "displayName": "Sitiporn Saelim",
      "photoUrl": "",
      "userId": "04392232392828254116"
     },
     "user_tz": -420
    },
    "id": "2bd8ef7b-99ba-4c1f-8c67-df4bf7ead2b7"
   },
   "outputs": [],
   "source": [
    "df_state = df_state.drop(['state', 'fips',\n",
    "       'daily_people_vaccinated',\n",
    "       'daily_people_fully_vaccinated',\n",
    "       'mobility_composite'], axis=1)"
   ]
  },
  {
   "cell_type": "code",
   "execution_count": 20,
   "id": "8f2c8249-9da1-4cf9-b176-b70aa3610b4f",
   "metadata": {
    "colab": {
     "base_uri": "https://localhost:8080/"
    },
    "executionInfo": {
     "elapsed": 47752,
     "status": "ok",
     "timestamp": 1619509202064,
     "user": {
      "displayName": "Sitiporn Saelim",
      "photoUrl": "",
      "userId": "04392232392828254116"
     },
     "user_tz": -420
    },
    "id": "8f2c8249-9da1-4cf9-b176-b70aa3610b4f",
    "outputId": "e9d93a03-a9ba-4903-923e-2b06246f86fb"
   },
   "outputs": [
    {
     "name": "stdout",
     "output_type": "stream",
     "text": [
      "<class 'pandas.core.frame.DataFrame'>\n",
      "DatetimeIndex: 396 entries, 2020-02-12 to 2021-03-13\n",
      "Data columns (total 4 columns):\n",
      " #   Column              Non-Null Count  Dtype  \n",
      "---  ------              --------------  -----  \n",
      " 0   daily_cases         396 non-null    int64  \n",
      " 1   daily_deaths        396 non-null    int64  \n",
      " 2   daily_distributed   72 non-null     float64\n",
      " 3   daily_vaccinations  72 non-null     object \n",
      "dtypes: float64(1), int64(2), object(1)\n",
      "memory usage: 15.5+ KB\n"
     ]
    }
   ],
   "source": [
    "df_state.info()"
   ]
  },
  {
   "cell_type": "code",
   "execution_count": 21,
   "id": "d02afb67-eb2f-4da9-a7ab-75c97cc2cb93",
   "metadata": {
    "executionInfo": {
     "elapsed": 47751,
     "status": "ok",
     "timestamp": 1619509202066,
     "user": {
      "displayName": "Sitiporn Saelim",
      "photoUrl": "",
      "userId": "04392232392828254116"
     },
     "user_tz": -420
    },
    "id": "d02afb67-eb2f-4da9-a7ab-75c97cc2cb93"
   },
   "outputs": [],
   "source": [
    "df_state_clean = df_state.dropna()"
   ]
  },
  {
   "cell_type": "code",
   "execution_count": 22,
   "id": "066ceb35-f5b7-47d2-ac4a-d36f27214d34",
   "metadata": {
    "executionInfo": {
     "elapsed": 47749,
     "status": "ok",
     "timestamp": 1619509202066,
     "user": {
      "displayName": "Sitiporn Saelim",
      "photoUrl": "",
      "userId": "04392232392828254116"
     },
     "user_tz": -420
    },
    "id": "066ceb35-f5b7-47d2-ac4a-d36f27214d34"
   },
   "outputs": [],
   "source": [
    "df_state_clean = df_state_clean.replace(',','', regex=True)"
   ]
  },
  {
   "cell_type": "code",
   "execution_count": 23,
   "id": "3f9c5ecd-cbe0-45a4-9c6c-a9323ca98203",
   "metadata": {
    "colab": {
     "base_uri": "https://localhost:8080/"
    },
    "executionInfo": {
     "elapsed": 47745,
     "status": "ok",
     "timestamp": 1619509202067,
     "user": {
      "displayName": "Sitiporn Saelim",
      "photoUrl": "",
      "userId": "04392232392828254116"
     },
     "user_tz": -420
    },
    "id": "3f9c5ecd-cbe0-45a4-9c6c-a9323ca98203",
    "outputId": "645fa38f-de1c-4c93-a772-172fe2fa9511"
   },
   "outputs": [
    {
     "data": {
      "text/plain": [
       "(72, 4)"
      ]
     },
     "execution_count": 23,
     "metadata": {},
     "output_type": "execute_result"
    }
   ],
   "source": [
    "df_state_clean.shape"
   ]
  },
  {
   "cell_type": "code",
   "execution_count": 24,
   "id": "ae9bb82b-3168-4ac9-be30-f19c39c8ace6",
   "metadata": {
    "colab": {
     "base_uri": "https://localhost:8080/"
    },
    "executionInfo": {
     "elapsed": 47742,
     "status": "ok",
     "timestamp": 1619509202068,
     "user": {
      "displayName": "Sitiporn Saelim",
      "photoUrl": "",
      "userId": "04392232392828254116"
     },
     "user_tz": -420
    },
    "id": "ae9bb82b-3168-4ac9-be30-f19c39c8ace6",
    "outputId": "3c456f74-a3eb-4639-f54e-d955a4425280"
   },
   "outputs": [
    {
     "name": "stdout",
     "output_type": "stream",
     "text": [
      "<class 'pandas.core.frame.DataFrame'>\n",
      "DatetimeIndex: 72 entries, 2021-01-01 to 2021-03-13\n",
      "Data columns (total 4 columns):\n",
      " #   Column              Non-Null Count  Dtype  \n",
      "---  ------              --------------  -----  \n",
      " 0   daily_cases         72 non-null     int64  \n",
      " 1   daily_deaths        72 non-null     int64  \n",
      " 2   daily_distributed   72 non-null     float64\n",
      " 3   daily_vaccinations  72 non-null     object \n",
      "dtypes: float64(1), int64(2), object(1)\n",
      "memory usage: 2.8+ KB\n"
     ]
    }
   ],
   "source": [
    "df_state_clean.info()"
   ]
  },
  {
   "cell_type": "code",
   "execution_count": 25,
   "id": "c2a67ca0-bb2c-45ba-ad06-818b775b284f",
   "metadata": {
    "colab": {
     "base_uri": "https://localhost:8080/"
    },
    "executionInfo": {
     "elapsed": 47739,
     "status": "ok",
     "timestamp": 1619509202069,
     "user": {
      "displayName": "Sitiporn Saelim",
      "photoUrl": "",
      "userId": "04392232392828254116"
     },
     "user_tz": -420
    },
    "id": "c2a67ca0-bb2c-45ba-ad06-818b775b284f",
    "outputId": "4271289a-2c33-49c2-a104-452e25cc4c93"
   },
   "outputs": [
    {
     "data": {
      "text/plain": [
       "(72, 4)"
      ]
     },
     "execution_count": 25,
     "metadata": {},
     "output_type": "execute_result"
    }
   ],
   "source": [
    "df_state_clean.shape"
   ]
  },
  {
   "cell_type": "markdown",
   "id": "41e6cf0c-dc31-46f8-9fb7-58a5f722b13d",
   "metadata": {
    "id": "41e6cf0c-dc31-46f8-9fb7-58a5f722b13d"
   },
   "source": [
    "4_TCN_California## DATA Shape\n",
    "- (batch_size,data point,channel)\n",
    "\n",
    "### For CNN shape\n",
    "- Shape:\n",
    "        Input:(batch_size,channel, data point)\n",
    "        "
   ]
  },
  {
   "cell_type": "code",
   "execution_count": 26,
   "id": "6c184b07-5c84-4dfc-83c8-3ee084b21dc0",
   "metadata": {
    "colab": {
     "base_uri": "https://localhost:8080/",
     "height": 324
    },
    "executionInfo": {
     "elapsed": 48420,
     "status": "ok",
     "timestamp": 1619509202757,
     "user": {
      "displayName": "Sitiporn Saelim",
      "photoUrl": "",
      "userId": "04392232392828254116"
     },
     "user_tz": -420
    },
    "id": "6c184b07-5c84-4dfc-83c8-3ee084b21dc0",
    "outputId": "35504cc1-7940-43e1-d655-94fe842d11d4"
   },
   "outputs": [
    {
     "data": {
      "text/plain": [
       "<matplotlib.axes._subplots.AxesSubplot at 0x7f96691deef0>"
      ]
     },
     "execution_count": 26,
     "metadata": {},
     "output_type": "execute_result"
    },
    {
     "data": {
      "image/png": "[encoded data removed]",
      "text/plain": [
       "<matplotlib.figure.Figure at 0x7f9669019d68>"
      ]
     },
     "metadata": {
      "needs_background": "light"
     },
     "output_type": "display_data"
    }
   ],
   "source": [
    "df_clean.plot(title=f\"Daily cases :{STATE}\")"
   ]
  },
  {
   "cell_type": "code",
   "execution_count": 27,
   "id": "ebbadcba-a484-49b3-93cd-4ecab2707ab3",
   "metadata": {
    "colab": {
     "base_uri": "https://localhost:8080/"
    },
    "executionInfo": {
     "elapsed": 48417,
     "status": "ok",
     "timestamp": 1619509202758,
     "user": {
      "displayName": "Sitiporn Saelim",
      "photoUrl": "",
      "userId": "04392232392828254116"
     },
     "user_tz": -420
    },
    "id": "ebbadcba-a484-49b3-93cd-4ecab2707ab3",
    "outputId": "751c2aaa-be95-4157-fa04-b312945935af"
   },
   "outputs": [
    {
     "data": {
      "text/plain": [
       "378"
      ]
     },
     "execution_count": 27,
     "metadata": {},
     "output_type": "execute_result"
    }
   ],
   "source": [
    "df_clean.shape[0]"
   ]
  },
  {
   "cell_type": "code",
   "execution_count": 28,
   "id": "3c12e985-d837-4f1d-994f-09c7549ee47a",
   "metadata": {
    "colab": {
     "base_uri": "https://localhost:8080/"
    },
    "executionInfo": {
     "elapsed": 48412,
     "status": "ok",
     "timestamp": 1619509202759,
     "user": {
      "displayName": "Sitiporn Saelim",
      "photoUrl": "",
      "userId": "04392232392828254116"
     },
     "user_tz": -420
    },
    "id": "3c12e985-d837-4f1d-994f-09c7549ee47a",
    "outputId": "fc0addb9-0af3-44f0-b2bb-820a75893e2f"
   },
   "outputs": [
    {
     "data": {
      "text/plain": [
       "((302, 1), (76, 1))"
      ]
     },
     "execution_count": 28,
     "metadata": {},
     "output_type": "execute_result"
    }
   ],
   "source": [
    "train_data = df_clean.iloc[:int(len(df_clean)*0.8)]\n",
    "test_data = df_clean.iloc[int(len(df_clean)*0.8):]\n",
    "\n",
    "# train_data = np.expand_dims(train_data, axis=1)\n",
    "# test_data = np.expand_dims(test_data, axis=1)\n",
    "\n",
    "train_data.shape, test_data.shape "
   ]
  },
  {
   "cell_type": "code",
   "execution_count": 29,
   "id": "9f83ef7b-d478-42f6-ae8e-f5c3a3a8239f",
   "metadata": {
    "executionInfo": {
     "elapsed": 48410,
     "status": "ok",
     "timestamp": 1619509202760,
     "user": {
      "displayName": "Sitiporn Saelim",
      "photoUrl": "",
      "userId": "04392232392828254116"
     },
     "user_tz": -420
    },
    "id": "9f83ef7b-d478-42f6-ae8e-f5c3a3a8239f"
   },
   "outputs": [],
   "source": [
    "# scaler = MinMaxScaler()\n",
    "scaler = StandardScaler()\n",
    "\n",
    "scaler = scaler.fit(train_data)\n",
    "\n",
    "train_data = scaler.transform(train_data)\n",
    "\n",
    "test_data = scaler.transform(test_data)"
   ]
  },
  {
   "cell_type": "code",
   "execution_count": 30,
   "id": "15532477-1a0e-44c2-a270-128a09cefaab",
   "metadata": {
    "executionInfo": {
     "elapsed": 48407,
     "status": "ok",
     "timestamp": 1619509202761,
     "user": {
      "displayName": "Sitiporn Saelim",
      "photoUrl": "",
      "userId": "04392232392828254116"
     },
     "user_tz": -420
    },
    "id": "15532477-1a0e-44c2-a270-128a09cefaab"
   },
   "outputs": [],
   "source": [
    "train_data = np.asarray(train_data)\n",
    "test_data = np.asarray(test_data)"
   ]
  },
  {
   "cell_type": "code",
   "execution_count": 31,
   "id": "e957bba3-ef61-40d2-bb90-0db349eb26e0",
   "metadata": {
    "executionInfo": {
     "elapsed": 48406,
     "status": "ok",
     "timestamp": 1619509202762,
     "user": {
      "displayName": "Sitiporn Saelim",
      "photoUrl": "",
      "userId": "04392232392828254116"
     },
     "user_tz": -420
    },
    "id": "e957bba3-ef61-40d2-bb90-0db349eb26e0"
   },
   "outputs": [],
   "source": [
    "def create_sequences(data, seq_length):\n",
    "    xs = []\n",
    "    ys = []\n",
    "    \n",
    "    for i in range(len(data)-seq_length-1):\n",
    "        x = data[i:(i+seq_length)]\n",
    "        #print(i)\n",
    "        y = data[i+seq_length]\n",
    "        xs.append(x)\n",
    "        ys.append(y)\n",
    "\n",
    "    return np.array(xs), np.array(ys)"
   ]
  },
  {
   "cell_type": "code",
   "execution_count": 32,
   "id": "580acfdd-8af4-470d-8b41-b4a737e38cbc",
   "metadata": {
    "executionInfo": {
     "elapsed": 48403,
     "status": "ok",
     "timestamp": 1619509202763,
     "user": {
      "displayName": "Sitiporn Saelim",
      "photoUrl": "",
      "userId": "04392232392828254116"
     },
     "user_tz": -420
    },
    "id": "580acfdd-8af4-470d-8b41-b4a737e38cbc"
   },
   "outputs": [],
   "source": [
    "X_train, y_train = create_sequences(train_data, seq_length)\n",
    "X_test, y_test = create_sequences(test_data, seq_length)\n",
    "\n",
    "X_train = torch.from_numpy(X_train).float()\n",
    "y_train = torch.from_numpy(y_train).float()\n",
    "\n",
    "X_test = torch.from_numpy(X_test).float()\n",
    "y_test = torch.from_numpy(y_test).float()"
   ]
  },
  {
   "cell_type": "code",
   "execution_count": 33,
   "id": "6a9dcc9e-4638-48f6-859b-09d860477355",
   "metadata": {
    "colab": {
     "base_uri": "https://localhost:8080/"
    },
    "executionInfo": {
     "elapsed": 48398,
     "status": "ok",
     "timestamp": 1619509202763,
     "user": {
      "displayName": "Sitiporn Saelim",
      "photoUrl": "",
      "userId": "04392232392828254116"
     },
     "user_tz": -420
    },
    "id": "6a9dcc9e-4638-48f6-859b-09d860477355",
    "outputId": "e15edeca-c419-419b-e74b-c8b56818caf0"
   },
   "outputs": [
    {
     "data": {
      "text/plain": [
       "(torch.Size([280, 21, 1]),\n",
       " torch.Size([280, 1]),\n",
       " torch.Size([54, 21, 1]),\n",
       " torch.Size([54, 1]))"
      ]
     },
     "execution_count": 33,
     "metadata": {},
     "output_type": "execute_result"
    }
   ],
   "source": [
    "X_train.shape , y_train.shape , X_test.shape, y_test.shape"
   ]
  },
  {
   "cell_type": "code",
   "execution_count": 34,
   "id": "cdc119a6-14a0-4285-ab6e-3bdf3b9b3f9a",
   "metadata": {
    "executionInfo": {
     "elapsed": 48397,
     "status": "ok",
     "timestamp": 1619509202765,
     "user": {
      "displayName": "Sitiporn Saelim",
      "photoUrl": "",
      "userId": "04392232392828254116"
     },
     "user_tz": -420
    },
    "id": "cdc119a6-14a0-4285-ab6e-3bdf3b9b3f9a"
   },
   "outputs": [],
   "source": [
    "X_train = torch.reshape(X_train,(X_train.shape[0],1,-1))\n",
    "X_test =  torch.reshape(X_test,(X_test.shape[0],1,-1))"
   ]
  },
  {
   "cell_type": "code",
   "execution_count": 35,
   "id": "966746ba-33e5-4424-8346-37dd3c7bea01",
   "metadata": {
    "colab": {
     "base_uri": "https://localhost:8080/"
    },
    "executionInfo": {
     "elapsed": 48392,
     "status": "ok",
     "timestamp": 1619509202765,
     "user": {
      "displayName": "Sitiporn Saelim",
      "photoUrl": "",
      "userId": "04392232392828254116"
     },
     "user_tz": -420
    },
    "id": "966746ba-33e5-4424-8346-37dd3c7bea01",
    "outputId": "1353a78d-c36d-4c8c-d328-4b0076a65325"
   },
   "outputs": [
    {
     "data": {
      "text/plain": [
       "(torch.Size([280, 1, 21]),\n",
       " torch.Size([280, 1]),\n",
       " torch.Size([54, 1, 21]),\n",
       " torch.Size([54, 1]))"
      ]
     },
     "execution_count": 35,
     "metadata": {},
     "output_type": "execute_result"
    }
   ],
   "source": [
    "X_train.shape , y_train.shape , X_test.shape, y_test.shape"
   ]
  },
  {
   "cell_type": "code",
   "execution_count": 36,
   "id": "a9PLF5Yy9ZRy",
   "metadata": {
    "colab": {
     "base_uri": "https://localhost:8080/",
     "height": 282
    },
    "executionInfo": {
     "elapsed": 48899,
     "status": "ok",
     "timestamp": 1619509203278,
     "user": {
      "displayName": "Sitiporn Saelim",
      "photoUrl": "",
      "userId": "04392232392828254116"
     },
     "user_tz": -420
    },
    "id": "a9PLF5Yy9ZRy",
    "outputId": "77b630a4-3c19-4725-d804-2470be27149a"
   },
   "outputs": [
    {
     "data": {
      "text/plain": [
       "[<matplotlib.lines.Line2D at 0x7f9668522518>]"
      ]
     },
     "execution_count": 36,
     "metadata": {},
     "output_type": "execute_result"
    },
    {
     "data": {
      "image/png": "[encoded data removed]",
      "text/plain": [
       "<matplotlib.figure.Figure at 0x7f9668607e80>"
      ]
     },
     "metadata": {
      "needs_background": "light"
     },
     "output_type": "display_data"
    }
   ],
   "source": [
    "plt.plot(range(len(X_train.flatten())), X_train.flatten())"
   ]
  },
  {
   "cell_type": "code",
   "execution_count": 37,
   "id": "365d5788-cc34-4817-a2e7-bd0811710ee6",
   "metadata": {
    "executionInfo": {
     "elapsed": 48897,
     "status": "ok",
     "timestamp": 1619509203278,
     "user": {
      "displayName": "Sitiporn Saelim",
      "photoUrl": "",
      "userId": "04392232392828254116"
     },
     "user_tz": -420
    },
    "id": "365d5788-cc34-4817-a2e7-bd0811710ee6"
   },
   "outputs": [],
   "source": [
    "from torch.utils.data import TensorDataset\n",
    "\n",
    "# Define dataset\n",
    "ds_train = TensorDataset(X_train, y_train)\n",
    "ds_test = TensorDataset(X_test, y_test)"
   ]
  },
  {
   "cell_type": "code",
   "execution_count": 38,
   "id": "30d22c12-cb30-4a04-9280-85fa7018d82a",
   "metadata": {
    "executionInfo": {
     "elapsed": 48896,
     "status": "ok",
     "timestamp": 1619509203279,
     "user": {
      "displayName": "Sitiporn Saelim",
      "photoUrl": "",
      "userId": "04392232392828254116"
     },
     "user_tz": -420
    },
    "id": "30d22c12-cb30-4a04-9280-85fa7018d82a"
   },
   "outputs": [],
   "source": [
    "BATCH_SIZE = 7  #keeping it binary so it fits GPU\n",
    "# #Train set loader\n",
    "train_iterator = torch.utils.data.DataLoader(dataset=ds_train, \n",
    "                                           batch_size=BATCH_SIZE, \n",
    "                                            shuffle=True)\n",
    "#Test set loader\n",
    "test_iterator = torch.utils.data.DataLoader(dataset=ds_test, \n",
    "                                          batch_size=BATCH_SIZE, \n",
    "                                          shuffle=True)"
   ]
  },
  {
   "cell_type": "markdown",
   "id": "nwqMkVWkNcpl",
   "metadata": {
    "id": "nwqMkVWkNcpl"
   },
   "source": [
    "# Training Section"
   ]
  },
  {
   "cell_type": "markdown",
   "id": "17a936f1-f68a-411a-b61c-c4067a1207bd",
   "metadata": {
    "id": "17a936f1-f68a-411a-b61c-c4067a1207bd"
   },
   "source": [
    "## Define Model"
   ]
  },
  {
   "cell_type": "code",
   "execution_count": 39,
   "id": "ff4391ed-a40f-4fcd-9e6a-ead688102775",
   "metadata": {
    "executionInfo": {
     "elapsed": 48895,
     "status": "ok",
     "timestamp": 1619509203280,
     "user": {
      "displayName": "Sitiporn Saelim",
      "photoUrl": "",
      "userId": "04392232392828254116"
     },
     "user_tz": -420
    },
    "id": "ff4391ed-a40f-4fcd-9e6a-ead688102775"
   },
   "outputs": [],
   "source": [
    "class ResidualBlock(nn.Module):\n",
    "    def __init__(self,kernel_size=3,dilation=1,in_dim=16,hidden_dim=64,out_dim=128):\n",
    "        super(ResidualBlock, self).__init__()\n",
    "        self.pad = (kernel_size - 1) * dilation\n",
    "        \n",
    "        #self.casual1 = nn.Conv1d(in_channels=16,out_channels=32,kernel_size=kernel_size,stride=1,padding=self.pad,dilation=dilation)\n",
    "        #self.casual2 = nn.Conv1d(in_channels=32,out_channels=64,kernel_size=kernel_size,stride=1,padding=self.pad,dilation=dilation)\n",
    "        \n",
    "        self.layer_1 = nn.Sequential(nn.utils.weight_norm(nn.Conv1d(in_channels=in_dim,out_channels=hidden_dim,\n",
    "                                     kernel_size=kernel_size,stride=1,padding=self.pad,dilation=dilation)),\n",
    "                                     nn.LeakyReLU(0.1),nn.Dropout(p=0.2))\n",
    "         \n",
    "        self.layer_2 = nn.Sequential(nn.utils.weight_norm(nn.Conv1d(in_channels=hidden_dim,out_channels=out_dim,\n",
    "                                    kernel_size=kernel_size,stride=1,padding=self.pad,dilation=dilation)),\n",
    "                                    nn.LeakyReLU(0.1),nn.Dropout(p=0.2))\n",
    "        \n",
    "        self.conv1_1 = nn.Conv1d(in_channels=in_dim,out_channels=out_dim,\n",
    "                                                        kernel_size=1,stride=1,padding=0,dilation=1)\n",
    "        \n",
    "    def forward(self,x):\n",
    "        \n",
    "        x_iden = x\n",
    "        x = self.layer_1(x)\n",
    "        x = x[:,:,:-self.pad]\n",
    "        #print(x.shape)\n",
    "        x = self.layer_2(x) \n",
    "        x = x[:,:,:-self.pad]\n",
    "        #print(x.shape)\n",
    "        x_iden = self.conv1_1(x_iden)\n",
    "        #print(x_iden.shape)\n",
    "        x = x + x_iden\n",
    "        \n",
    "        return x         "
   ]
  },
  {
   "cell_type": "code",
   "execution_count": 40,
   "id": "0c50375b-7e32-4447-985b-3cb7c4a9a88f",
   "metadata": {
    "executionInfo": {
     "elapsed": 48892,
     "status": "ok",
     "timestamp": 1619509203280,
     "user": {
      "displayName": "Sitiporn Saelim",
      "photoUrl": "",
      "userId": "04392232392828254116"
     },
     "user_tz": -420
    },
    "id": "0c50375b-7e32-4447-985b-3cb7c4a9a88f"
   },
   "outputs": [],
   "source": [
    "class TemporalConvNet(nn.Module):\n",
    "    def __init__(self,num_residual_layers,channel_config,num_classes):\n",
    "        super(TemporalConvNet, self).__init__()\n",
    "        self.num_residual_layers = num_residual_layers \n",
    "        self.residual_layers = []\n",
    "        #print(self.num_residual_layers)\n",
    "        \n",
    "        for i in range(self.num_residual_layers):\n",
    "            d = pow(2, i)\n",
    "            #print(d)\n",
    "            self.residual_layers.append(ResidualBlock(kernel_size=3,dilation=d,in_dim=channel_config[i][0],hidden_dim=channel_config[i][1],out_dim=channel_config[i][2]).to(device))        \n",
    "      \n",
    "        self.fc = nn.Sequential(nn.Linear(21 , 14),nn.ReLU(),nn.Dropout(0.5),\n",
    "                                nn.Linear(14,7),nn.ReLU(),\n",
    "                                nn.Dropout(0.5),nn.Linear(7,4))\n",
    "        \n",
    "        \n",
    "        self.out = nn.Linear(4, 1)\n",
    "        #self.softmax = nn.LogSoftmax(dim=1)\n",
    "        \n",
    "\n",
    "        #self.fc = nn.Sequential(nn.Linear(75 ,100),nn.ReLU(),nn.Linear(100,10))\n",
    "        \n",
    "    def forward(self,x):\n",
    "        for layer in self.residual_layers:\n",
    "            x = layer(x)\n",
    "        #print(\"layer :\",x.shape)\n",
    "        x = torch.flatten(x,start_dim=1)\n",
    "        #print(\"flatten:\",x.shape)        \n",
    "        x = self.fc(x).to(device)\n",
    "        \n",
    "        x = self.out(x).to(device)\n",
    "        #print(x.shape)\n",
    "    \n",
    "        return x"
   ]
  },
  {
   "cell_type": "code",
   "execution_count": 41,
   "id": "4828ea44-9f63-4640-a5d9-36de8a59dadb",
   "metadata": {
    "colab": {
     "base_uri": "https://localhost:8080/"
    },
    "executionInfo": {
     "elapsed": 48888,
     "status": "ok",
     "timestamp": 1619509203281,
     "user": {
      "displayName": "Sitiporn Saelim",
      "photoUrl": "",
      "userId": "04392232392828254116"
     },
     "user_tz": -420
    },
    "id": "4828ea44-9f63-4640-a5d9-36de8a59dadb",
    "outputId": "410043ae-c241-4ba6-b3e2-746f4add817b"
   },
   "outputs": [
    {
     "name": "stdout",
     "output_type": "stream",
     "text": [
      "Configured device:  cuda\n"
     ]
    }
   ],
   "source": [
    "print(\"Configured device: \", device)"
   ]
  },
  {
   "cell_type": "markdown",
   "id": "4b5b241f-00f7-4bf2-9c21-8852104cfc83",
   "metadata": {
    "id": "4b5b241f-00f7-4bf2-9c21-8852104cfc83"
   },
   "source": [
    "## Create model"
   ]
  },
  {
   "cell_type": "code",
   "execution_count": 42,
   "id": "49e276f0-ef26-49fe-982e-9846df90261c",
   "metadata": {
    "executionInfo": {
     "elapsed": 57248,
     "status": "ok",
     "timestamp": 1619509211643,
     "user": {
      "displayName": "Sitiporn Saelim",
      "photoUrl": "",
      "userId": "04392232392828254116"
     },
     "user_tz": -420
    },
    "id": "49e276f0-ef26-49fe-982e-9846df90261c"
   },
   "outputs": [],
   "source": [
    "model_Tcn = TemporalConvNet(num_residual_layers=3,channel_config=channel_config,num_classes=1)\n",
    "model_Tcn = model_Tcn.float()\n",
    "models = [model_Tcn]"
   ]
  },
  {
   "cell_type": "code",
   "execution_count": 43,
   "id": "e9b02cf6-e8f4-4885-844c-fbe367ee456c",
   "metadata": {
    "executionInfo": {
     "elapsed": 57249,
     "status": "ok",
     "timestamp": 1619509211646,
     "user": {
      "displayName": "Sitiporn Saelim",
      "photoUrl": "",
      "userId": "04392232392828254116"
     },
     "user_tz": -420
    },
    "id": "e9b02cf6-e8f4-4885-844c-fbe367ee456c"
   },
   "outputs": [],
   "source": [
    "for model in models:\n",
    "    model = model.to(device)"
   ]
  },
  {
   "cell_type": "markdown",
   "id": "cf3c0d2e-9240-4b30-8695-b8c86e02506c",
   "metadata": {
    "id": "cf3c0d2e-9240-4b30-8695-b8c86e02506c"
   },
   "source": [
    "### Create Optimizer"
   ]
  },
  {
   "cell_type": "code",
   "execution_count": 44,
   "id": "ed97a139-94a0-48b7-b415-ccf51a58b346",
   "metadata": {
    "executionInfo": {
     "elapsed": 57249,
     "status": "ok",
     "timestamp": 1619509211650,
     "user": {
      "displayName": "Sitiporn Saelim",
      "photoUrl": "",
      "userId": "04392232392828254116"
     },
     "user_tz": -420
    },
    "id": "ed97a139-94a0-48b7-b415-ccf51a58b346"
   },
   "outputs": [],
   "source": [
    "import torch.optim as optim\n",
    "#0.01\n",
    "learning_rate = 1e-4\n",
    "\n",
    "optimizer = optim.Adam(model.parameters())\n",
    "\n",
    "criterion = torch.nn.MSELoss().float() #nn.NLLLoss()\n",
    "optimizer = torch.optim.Adam(model.parameters(), lr=learning_rate)"
   ]
  },
  {
   "cell_type": "markdown",
   "id": "5fe76e97-cd26-4824-8bb1-1b7ca11631fd",
   "metadata": {
    "id": "5fe76e97-cd26-4824-8bb1-1b7ca11631fd"
   },
   "source": [
    "### Training Function"
   ]
  },
  {
   "cell_type": "code",
   "execution_count": 45,
   "id": "a2b7a551-3e07-4e10-9547-c0d499e5a9a6",
   "metadata": {
    "executionInfo": {
     "elapsed": 57248,
     "status": "ok",
     "timestamp": 1619509211652,
     "user": {
      "displayName": "Sitiporn Saelim",
      "photoUrl": "",
      "userId": "04392232392828254116"
     },
     "user_tz": -420
    },
    "id": "a2b7a551-3e07-4e10-9547-c0d499e5a9a6"
   },
   "outputs": [],
   "source": [
    "def train(model, iterator, optimizer, criterion):\n",
    "    total = 0\n",
    "    correct = 0\n",
    "    epoch_loss = 0\n",
    "    epoch_acc = 0\n",
    "   # loss_list = []\n",
    "    model.train()\n",
    "    \n",
    "    for batch, num_cases in iterator:\n",
    "        \n",
    "        #Move tensors to the configured device\n",
    "        batch = batch.to(device)\n",
    "        num_cases = num_cases.to(device) \n",
    "#         num_cases = num_cases[:,-1]\n",
    "#         num_cases =  torch.reshape(num_cases, (num_cases.shape[0], 1))\n",
    "        #Forward pass\n",
    "        #print(\"batch train:\",batch.shape)\n",
    "        outputs = model(batch.float())\n",
    "#         print(\"outputs:\",outputs.shape)\n",
    "#         print(\"num_cases :\",num_cases.shape)\n",
    "#         print(\"outputs :\",outputs)\n",
    "#         print(\"num_cases :\",num_cases)\n",
    "        loss = criterion(outputs, num_cases.float())\n",
    "        \n",
    "        # Backward and optimize\n",
    "        optimizer.zero_grad()\n",
    "        loss.backward()\n",
    "        optimizer.step()\n",
    "        #loss_list.append(loss.data)  \n",
    "         \n",
    "#         #check accuracy\n",
    "#         predictions = model(batch.float())\n",
    "#         _, predicted = torch.max(predictions.data, 1)  #returns max value, indices\n",
    "#          #keep track of total\n",
    "#         correct += (predicted == labels).sum().item()  #.item() give the raw number\n",
    "#         acc = 100 * (correct / total)\n",
    "                \n",
    "        epoch_loss += loss.item()\n",
    "#         epoch_acc = acc\n",
    "      \n",
    "    return epoch_loss / len(iterator)  #, epoch_acc, predicted"
   ]
  },
  {
   "cell_type": "code",
   "execution_count": 46,
   "id": "d816be15-ba87-40e5-8182-8983d08fb978",
   "metadata": {
    "executionInfo": {
     "elapsed": 57249,
     "status": "ok",
     "timestamp": 1619509211655,
     "user": {
      "displayName": "Sitiporn Saelim",
      "photoUrl": "",
      "userId": "04392232392828254116"
     },
     "user_tz": -420
    },
    "id": "d816be15-ba87-40e5-8182-8983d08fb978"
   },
   "outputs": [],
   "source": [
    "def test(model,iterator, optimizer, criterion):\n",
    "    total = 0\n",
    "    correct = 0\n",
    "    epoch_loss = 0\n",
    "    epoch_acc = 0\n",
    "   # loss_list = []\n",
    "    for batch, num_cases in iterator:\n",
    "        batch = batch.to(device)\n",
    "        num_cases = num_cases.to(device)\n",
    "        #print(\"batch test:\",batch.shape)\n",
    "        with torch.no_grad():\n",
    "            y_test_pred = model(batch.float())\n",
    "            loss = criterion(y_test_pred, num_cases.float())\n",
    "            epoch_loss += loss\n",
    "            \n",
    "    return epoch_loss / len(iterator)  "
   ]
  },
  {
   "cell_type": "code",
   "execution_count": 47,
   "id": "e4afaa15-4100-4c52-80fb-c7ca85fbe37c",
   "metadata": {
    "executionInfo": {
     "elapsed": 57248,
     "status": "ok",
     "timestamp": 1619509211656,
     "user": {
      "displayName": "Sitiporn Saelim",
      "photoUrl": "",
      "userId": "04392232392828254116"
     },
     "user_tz": -420
    },
    "id": "e4afaa15-4100-4c52-80fb-c7ca85fbe37c"
   },
   "outputs": [],
   "source": [
    "from IPython.display import clear_output"
   ]
  },
  {
   "cell_type": "code",
   "execution_count": 48,
   "id": "66e0a334-0206-4e81-ac46-7a8b1c92fcfb",
   "metadata": {
    "executionInfo": {
     "elapsed": 57247,
     "status": "ok",
     "timestamp": 1619509211657,
     "user": {
      "displayName": "Sitiporn Saelim",
      "photoUrl": "",
      "userId": "04392232392828254116"
     },
     "user_tz": -420
    },
    "id": "66e0a334-0206-4e81-ac46-7a8b1c92fcfb"
   },
   "outputs": [],
   "source": [
    "name = f\"Epoch ={N_EPOCHS} LR = {learning_rate} Adam\""
   ]
  },
  {
   "cell_type": "code",
   "execution_count": 49,
   "id": "9509ba65-c59a-4318-886e-f7e0e565770a",
   "metadata": {
    "colab": {
     "base_uri": "https://localhost:8080/",
     "height": 400
    },
    "executionInfo": {
     "elapsed": 57927,
     "status": "error",
     "timestamp": 1619509212344,
     "user": {
      "displayName": "Sitiporn Saelim",
      "photoUrl": "",
      "userId": "04392232392828254116"
     },
     "user_tz": -420
    },
    "id": "9509ba65-c59a-4318-886e-f7e0e565770a",
    "outputId": "0adfd7c6-19f2-45f9-ade8-d5071d8987cf"
   },
   "outputs": [
    {
     "name": "stdout",
     "output_type": "stream",
     "text": [
      "Training TemporalConvNet\n",
      "Epoch 0 train loss: 0.9834814704023301 test loss: 2.1411008834838867\n",
      "Epoch 1 train loss: 0.9716354753822088 test loss: 2.1962289810180664\n",
      "Epoch 2 train loss: 0.97052810639143 test loss: 2.3572871685028076\n",
      "Epoch 3 train loss: 0.971752942353487 test loss: 2.250685930252075\n",
      "Epoch 4 train loss: 0.9642071131616831 test loss: 2.186866283416748\n",
      "Epoch 5 train loss: 0.973651422932744 test loss: 2.163447380065918\n",
      "Epoch 6 train loss: 0.968192457780242 test loss: 2.174384355545044\n",
      "Epoch 7 train loss: 0.9596923444420099 test loss: 2.2234880924224854\n",
      "Epoch 8 train loss: 0.9609371349215508 test loss: 2.1784822940826416\n",
      "Epoch 9 train loss: 0.9570239949971437 test loss: 2.161137104034424\n",
      "Epoch 10 train loss: 0.958263972401619 test loss: 2.1820130348205566\n",
      "Epoch 11 train loss: 0.9587584152817726 test loss: 2.2422752380371094\n",
      "Epoch 12 train loss: 0.9509001899510622 test loss: 2.1749229431152344\n",
      "Epoch 13 train loss: 0.9474560499191285 test loss: 2.176224946975708\n",
      "Epoch 14 train loss: 0.9496664289385081 test loss: 2.2424027919769287\n",
      "Epoch 15 train loss: 0.9538506215438247 test loss: 2.251286029815674\n",
      "Epoch 16 train loss: 0.937756196781993 test loss: 2.188323736190796\n",
      "Epoch 17 train loss: 0.9441922560334206 test loss: 2.1760947704315186\n",
      "Epoch 18 train loss: 0.9421932227909565 test loss: 2.418668508529663\n",
      "Epoch 19 train loss: 0.9400786779820919 test loss: 2.2041015625\n",
      "Epoch 20 train loss: 0.9344745250418782 test loss: 2.2409729957580566\n",
      "Epoch 21 train loss: 0.9355620570480824 test loss: 2.160829782485962\n",
      "Epoch 22 train loss: 0.9346319556236267 test loss: 2.1718270778656006\n",
      "Epoch 23 train loss: 0.9143975351005793 test loss: 2.180283308029175\n",
      "Epoch 24 train loss: 0.931069765985012 test loss: 2.2401533126831055\n",
      "Epoch 25 train loss: 0.9254941944032907 test loss: 2.218721866607666\n",
      "Epoch 26 train loss: 0.9119020190089941 test loss: 2.1556146144866943\n",
      "Epoch 27 train loss: 0.9294404385611414 test loss: 2.1555044651031494\n",
      "Epoch 28 train loss: 0.912179720774293 test loss: 2.146768093109131\n",
      "Epoch 29 train loss: 0.907623966038227 test loss: 2.349884271621704\n",
      "Epoch 30 train loss: 0.9213172305375338 test loss: 2.1693265438079834\n",
      "Epoch 31 train loss: 0.9126775398850441 test loss: 2.2774274349212646\n",
      "Epoch 32 train loss: 0.8980978282168508 test loss: 2.2104086875915527\n",
      "Epoch 33 train loss: 0.8845082107931376 test loss: 2.1800763607025146\n",
      "Epoch 34 train loss: 0.8949300978332758 test loss: 2.185242176055908\n",
      "Epoch 35 train loss: 0.8988820355385542 test loss: 2.5219879150390625\n",
      "Epoch 36 train loss: 0.8890120989643038 test loss: 2.18158221244812\n",
      "Epoch 37 train loss: 0.8816582713276148 test loss: 2.1660282611846924\n",
      "Epoch 38 train loss: 0.8769076563417911 test loss: 2.317352294921875\n",
      "Epoch 39 train loss: 0.8911291632801295 test loss: 2.145637035369873\n",
      "Epoch 40 train loss: 0.8970903023146093 test loss: 2.155189275741577\n",
      "Epoch 41 train loss: 0.8977050550282002 test loss: 2.1260082721710205\n",
      "Epoch 42 train loss: 0.8589737594127655 test loss: 2.0993804931640625\n",
      "Epoch 43 train loss: 0.8578389203175902 test loss: 2.3425040245056152\n",
      "Epoch 44 train loss: 0.8729061845690012 test loss: 2.1135709285736084\n",
      "Epoch 45 train loss: 0.8612354321405291 test loss: 2.1693999767303467\n",
      "Epoch 46 train loss: 0.8695988290011882 test loss: 2.0777530670166016\n",
      "Epoch 47 train loss: 0.8931761087849737 test loss: 2.065885543823242\n",
      "Epoch 48 train loss: 0.859763590618968 test loss: 2.127222776412964\n",
      "Epoch 49 train loss: 0.8613022856414319 test loss: 2.0809121131896973\n",
      "Epoch 50 train loss: 0.8455268532037735 test loss: 2.3039140701293945\n",
      "Epoch 51 train loss: 0.8543478941544891 test loss: 2.0641438961029053\n",
      "Epoch 52 train loss: 0.8608479090034962 test loss: 2.0541489124298096\n",
      "Epoch 53 train loss: 0.8297702422365546 test loss: 2.019759178161621\n",
      "Epoch 54 train loss: 0.8395204577594996 test loss: 2.0193283557891846\n",
      "Epoch 55 train loss: 0.8486780934035778 test loss: 2.0384409427642822\n",
      "Epoch 56 train loss: 0.8670801857486368 test loss: 2.054935932159424\n",
      "Epoch 57 train loss: 0.836026132106781 test loss: 2.032062530517578\n",
      "Epoch 58 train loss: 0.8481688482686878 test loss: 2.0102579593658447\n",
      "Epoch 59 train loss: 0.831708001717925 test loss: 2.087573766708374\n",
      "Epoch 60 train loss: 0.8468822531402111 test loss: 2.176900625228882\n",
      "Epoch 61 train loss: 0.8903269249945879 test loss: 2.04909610748291\n",
      "Epoch 62 train loss: 0.8386651331558823 test loss: 2.009129285812378\n",
      "Epoch 63 train loss: 0.7998281225562096 test loss: 2.075087547302246\n",
      "Epoch 64 train loss: 0.8415074752643704 test loss: 1.9697924852371216\n",
      "Epoch 65 train loss: 0.8219259444624185 test loss: 1.963819980621338\n",
      "Epoch 66 train loss: 0.8396518666297197 test loss: 1.9832818508148193\n",
      "Epoch 67 train loss: 0.8324117930606008 test loss: 2.0287976264953613\n",
      "Epoch 68 train loss: 0.8454591352492571 test loss: 2.095703363418579\n",
      "Epoch 69 train loss: 0.8404132163152098 test loss: 2.016939163208008\n",
      "Epoch 70 train loss: 0.8292865239083766 test loss: 1.9803411960601807\n",
      "Epoch 71 train loss: 0.8289748324081302 test loss: 1.9630329608917236\n",
      "Epoch 72 train loss: 0.8242747411131859 test loss: 1.972870111465454\n",
      "Epoch 73 train loss: 0.8329564984887838 test loss: 2.1620709896087646\n",
      "Epoch 74 train loss: 0.8470950286835432 test loss: 1.916306734085083\n",
      "Epoch 75 train loss: 0.8606288522481919 test loss: 2.0404419898986816\n",
      "Epoch 76 train loss: 0.8207036395557225 test loss: 2.034653425216675\n",
      "Epoch 77 train loss: 0.8094844348728657 test loss: 1.883545160293579\n",
      "Epoch 78 train loss: 0.831899088434875 test loss: 1.969376564025879\n",
      "Epoch 79 train loss: 0.830977626144886 test loss: 2.1073718070983887\n",
      "Epoch 80 train loss: 0.8259207362309098 test loss: 1.889347791671753\n",
      "Epoch 81 train loss: 0.8046349124982953 test loss: 1.873640775680542\n",
      "Epoch 82 train loss: 0.8373548276722431 test loss: 2.0639970302581787\n",
      "Epoch 83 train loss: 0.8248171303421259 test loss: 1.9763890504837036\n",
      "Epoch 84 train loss: 0.8032132552936673 test loss: 1.8951473236083984\n",
      "Epoch 85 train loss: 0.8195015002042055 test loss: 1.8838443756103516\n",
      "Epoch 86 train loss: 0.8051147472113371 test loss: 1.7845815420150757\n",
      "Epoch 87 train loss: 0.8263467665761709 test loss: 1.8813891410827637\n",
      "Epoch 88 train loss: 0.8276138931512833 test loss: 1.8912683725357056\n",
      "Epoch 89 train loss: 0.8502361334860324 test loss: 1.7685461044311523\n",
      "Epoch 90 train loss: 0.8033918920904398 test loss: 1.9431523084640503\n",
      "Epoch 91 train loss: 0.784918599948287 test loss: 1.860947608947754\n",
      "Epoch 92 train loss: 0.827051692083478 test loss: 1.8740440607070923\n",
      "Epoch 93 train loss: 0.7885777696967124 test loss: 1.8601701259613037\n",
      "Epoch 94 train loss: 0.8130637098103761 test loss: 1.799917221069336\n",
      "Epoch 95 train loss: 0.7701544154435396 test loss: 1.866302490234375\n",
      "Epoch 96 train loss: 0.813758198171854 test loss: 1.8733385801315308\n",
      "Epoch 97 train loss: 0.8369066264480353 test loss: 1.9177970886230469\n",
      "Epoch 98 train loss: 0.8338679290376604 test loss: 1.8726032972335815\n",
      "Epoch 99 train loss: 0.7938144445419312 test loss: 1.949779987335205\n",
      "Epoch 100 train loss: 0.7972170107066632 test loss: 1.8934826850891113\n",
      "Epoch 101 train loss: 0.7951558878645301 test loss: 1.7270089387893677\n",
      "Epoch 102 train loss: 0.7697503518313169 test loss: 1.8800055980682373\n",
      "Epoch 103 train loss: 0.8159163311123848 test loss: 1.79120671749115\n",
      "Epoch 104 train loss: 0.8201187800616025 test loss: 1.7270588874816895\n",
      "Epoch 105 train loss: 0.7909752065315843 test loss: 1.7887837886810303\n",
      "Epoch 106 train loss: 0.7909681543707847 test loss: 1.8521981239318848\n",
      "Epoch 107 train loss: 0.8124121405184269 test loss: 2.0428550243377686\n",
      "Epoch 108 train loss: 0.8006356952711939 test loss: 1.8511476516723633\n",
      "Epoch 109 train loss: 0.7966182883828878 test loss: 1.982206106185913\n",
      "Epoch 110 train loss: 0.8199269158765674 test loss: 1.8646082878112793\n",
      "Epoch 111 train loss: 0.7794896068051458 test loss: 1.7793900966644287\n",
      "Epoch 112 train loss: 0.7848968571051955 test loss: 1.77410888671875\n",
      "Epoch 113 train loss: 0.8031346289440989 test loss: 1.6724315881729126\n",
      "Epoch 114 train loss: 0.787646371498704 test loss: 1.7127659320831299\n",
      "Epoch 115 train loss: 0.8216675460338593 test loss: 1.6764968633651733\n",
      "Epoch 116 train loss: 0.7668976517394185 test loss: 1.7146246433258057\n",
      "Epoch 117 train loss: 0.7757974633947015 test loss: 1.7005281448364258\n",
      "Epoch 118 train loss: 0.7919863145798445 test loss: 1.8221149444580078\n",
      "Epoch 119 train loss: 0.7861275419592857 test loss: 1.8060020208358765\n",
      "Epoch 120 train loss: 0.7888222608715296 test loss: 1.5928666591644287\n",
      "Epoch 121 train loss: 0.7922723343595862 test loss: 1.7502518892288208\n",
      "Epoch 122 train loss: 0.7906790468841791 test loss: 1.7974857091903687\n",
      "Epoch 123 train loss: 0.7487927955575288 test loss: 1.8429529666900635\n",
      "Epoch 124 train loss: 0.785440542921424 test loss: 1.592873215675354\n",
      "Epoch 125 train loss: 0.7841630697250366 test loss: 1.6965885162353516\n",
      "Epoch 126 train loss: 0.76636500954628 test loss: 1.6338467597961426\n",
      "Epoch 127 train loss: 0.7746088236570359 test loss: 1.7018235921859741\n",
      "Epoch 128 train loss: 0.8115059323608875 test loss: 1.8676807880401611\n",
      "Epoch 129 train loss: 0.7999346271157265 test loss: 1.6909289360046387\n",
      "Epoch 130 train loss: 0.7614109208807349 test loss: 1.7634978294372559\n",
      "Epoch 131 train loss: 0.7855645481497049 test loss: 1.4863632917404175\n",
      "Epoch 132 train loss: 0.795961766410619 test loss: 1.6859941482543945\n",
      "Epoch 133 train loss: 0.7912595147266984 test loss: 1.630671501159668\n",
      "Epoch 134 train loss: 0.7905101636424661 test loss: 1.7970556020736694\n",
      "Epoch 135 train loss: 0.815577294304967 test loss: 1.6209875345230103\n",
      "Epoch 136 train loss: 0.7671267114579677 test loss: 1.3899563550949097\n",
      "Epoch 137 train loss: 0.752697772346437 test loss: 1.7271538972854614\n",
      "Epoch 138 train loss: 0.7454722916707397 test loss: 1.6097649335861206\n",
      "Epoch 139 train loss: 0.7563081678003073 test loss: 1.6090036630630493\n",
      "Epoch 140 train loss: 0.7521370474249125 test loss: 1.6668884754180908\n",
      "Epoch 141 train loss: 0.7590610245242715 test loss: 1.523190975189209\n",
      "Epoch 142 train loss: 0.7848538551479578 test loss: 1.4826408624649048\n",
      "Epoch 143 train loss: 0.7516087682917714 test loss: 1.606298804283142\n",
      "Epoch 144 train loss: 0.7373437762260437 test loss: 1.6211967468261719\n",
      "Epoch 145 train loss: 0.7439338617026806 test loss: 1.6666322946548462\n",
      "Epoch 146 train loss: 0.7644210562109948 test loss: 1.5084340572357178\n",
      "Epoch 147 train loss: 0.784127633087337 test loss: 1.569541573524475\n",
      "Epoch 148 train loss: 0.7619073055684566 test loss: 1.8729100227355957\n",
      "Epoch 149 train loss: 0.7713776568882167 test loss: 1.6453821659088135\n",
      "Epoch 150 train loss: 0.8018017981201411 test loss: 1.6592813730239868\n",
      "Epoch 151 train loss: 0.7467527620494365 test loss: 1.4677824974060059\n",
      "Epoch 152 train loss: 0.7431061197072267 test loss: 1.354282259941101\n",
      "Epoch 153 train loss: 0.7307520439848304 test loss: 1.6544082164764404\n",
      "Epoch 154 train loss: 0.7595621392130851 test loss: 1.412017583847046\n",
      "Epoch 155 train loss: 0.7779114868491888 test loss: 1.567408800125122\n",
      "Epoch 156 train loss: 0.7589623115956783 test loss: 1.3991615772247314\n",
      "Epoch 157 train loss: 0.7409145444631576 test loss: 1.6216121912002563\n",
      "Epoch 158 train loss: 0.7903510259464384 test loss: 1.5401530265808105\n",
      "Epoch 159 train loss: 0.7484291011467576 test loss: 1.0942058563232422\n",
      "Epoch 160 train loss: 0.7865580460056663 test loss: 1.3408693075180054\n",
      "Epoch 161 train loss: 0.7554546118713915 test loss: 1.5168262720108032\n",
      "Epoch 162 train loss: 0.7105977989733219 test loss: 1.4830739498138428\n",
      "Epoch 163 train loss: 0.7528154006227851 test loss: 1.5512346029281616\n",
      "Epoch 164 train loss: 0.7308767028152943 test loss: 1.5739004611968994\n",
      "Epoch 165 train loss: 0.7109553833957761 test loss: 1.4514883756637573\n",
      "Epoch 166 train loss: 0.7352880695834756 test loss: 1.4039931297302246\n",
      "Epoch 167 train loss: 0.7172169489786029 test loss: 1.8096611499786377\n",
      "Epoch 168 train loss: 0.7007134806364774 test loss: 1.3355692625045776\n",
      "Epoch 169 train loss: 0.7293917924165726 test loss: 1.3305500745773315\n",
      "Epoch 170 train loss: 0.7284627737477422 test loss: 1.5503206253051758\n",
      "Epoch 171 train loss: 0.7760557149536907 test loss: 1.4543750286102295\n",
      "Epoch 172 train loss: 0.7515464562922716 test loss: 1.2894272804260254\n",
      "Epoch 173 train loss: 0.7434542585164309 test loss: 1.5717374086380005\n",
      "Epoch 174 train loss: 0.7214586535468698 test loss: 1.5291742086410522\n",
      "Epoch 175 train loss: 0.7268429972231388 test loss: 1.5168371200561523\n",
      "Epoch 176 train loss: 0.7778315331786871 test loss: 1.6119911670684814\n",
      "Epoch 177 train loss: 0.6878515414893627 test loss: 1.4763884544372559\n",
      "Epoch 178 train loss: 0.7238316114991903 test loss: 1.677409291267395\n",
      "Epoch 179 train loss: 0.7274749943055212 test loss: 1.1659263372421265\n",
      "Epoch 180 train loss: 0.7580311976373195 test loss: 1.1339536905288696\n",
      "Epoch 181 train loss: 0.7386836804449558 test loss: 1.7366796731948853\n",
      "Epoch 182 train loss: 0.677647250238806 test loss: 1.4952478408813477\n",
      "Epoch 183 train loss: 0.7474551741033792 test loss: 1.3792093992233276\n",
      "Epoch 184 train loss: 0.7133951063267887 test loss: 1.2433260679244995\n",
      "Epoch 185 train loss: 0.7173796044662595 test loss: 1.3250540494918823\n",
      "Epoch 186 train loss: 0.7548666279762983 test loss: 1.0771511793136597\n",
      "Epoch 187 train loss: 0.7033714031800627 test loss: 1.3718068599700928\n",
      "Epoch 188 train loss: 0.7326226977631449 test loss: 1.2725931406021118\n",
      "Epoch 189 train loss: 0.7636743469163776 test loss: 1.505591869354248\n",
      "Epoch 190 train loss: 0.7383964700624347 test loss: 1.598455786705017\n",
      "Epoch 191 train loss: 0.7282351940870285 test loss: 1.2534044981002808\n",
      "Epoch 192 train loss: 0.6641786940395832 test loss: 1.4812848567962646\n",
      "Epoch 193 train loss: 0.7579777417704463 test loss: 1.522067904472351\n",
      "Epoch 194 train loss: 0.6924087638035417 test loss: 1.3436466455459595\n",
      "Epoch 195 train loss: 0.6834384677931666 test loss: 1.2948131561279297\n",
      "Epoch 196 train loss: 0.705908671580255 test loss: 1.3639782667160034\n",
      "Epoch 197 train loss: 0.708706222847104 test loss: 1.799164056777954\n",
      "Epoch 198 train loss: 0.7038188638165593 test loss: 1.2975038290023804\n",
      "Epoch 199 train loss: 0.7137751566246152 test loss: 1.3718204498291016\n",
      "Epoch 200 train loss: 0.7617999689653516 test loss: 1.6193785667419434\n",
      "Epoch 201 train loss: 0.6928555548191071 test loss: 1.3744029998779297\n",
      "Epoch 202 train loss: 0.7055790973827243 test loss: 1.4637335538864136\n",
      "Epoch 203 train loss: 0.7272821107879281 test loss: 1.2759729623794556\n",
      "Epoch 204 train loss: 0.7101276574656368 test loss: 1.3462326526641846\n",
      "Epoch 205 train loss: 0.6376827232539654 test loss: 1.5240929126739502\n",
      "Epoch 206 train loss: 0.6364853080362082 test loss: 1.2568292617797852\n",
      "Epoch 207 train loss: 0.6527888022363186 test loss: 1.3424122333526611\n",
      "Epoch 208 train loss: 0.6906552074477077 test loss: 1.146867036819458\n",
      "Epoch 209 train loss: 0.7242566438391804 test loss: 1.4626322984695435\n",
      "Epoch 210 train loss: 0.6457961422391236 test loss: 1.5765976905822754\n",
      "Epoch 211 train loss: 0.705061481706798 test loss: 1.3422443866729736\n",
      "Epoch 212 train loss: 0.6938221642747522 test loss: 1.6356555223464966\n",
      "Epoch 213 train loss: 0.6829320294782519 test loss: 1.407684326171875\n",
      "Epoch 214 train loss: 0.7251582475379109 test loss: 1.4974123239517212\n",
      "Epoch 215 train loss: 0.6633988756686449 test loss: 1.7712745666503906\n",
      "Epoch 216 train loss: 0.6394739478826523 test loss: 1.350616455078125\n",
      "Epoch 217 train loss: 0.7221568618901074 test loss: 1.3257644176483154\n",
      "Epoch 218 train loss: 0.68788205916062 test loss: 1.0585808753967285\n",
      "Epoch 219 train loss: 0.6439883488230407 test loss: 0.9735760688781738\n",
      "Epoch 220 train loss: 0.6476722916588187 test loss: 1.3596782684326172\n",
      "Epoch 221 train loss: 0.6293034726753831 test loss: 1.441010594367981\n",
      "Epoch 222 train loss: 0.6177168838679791 test loss: 0.9134883880615234\n",
      "Epoch 223 train loss: 0.6986632708460092 test loss: 1.3017610311508179\n",
      "Epoch 224 train loss: 0.7008022097870708 test loss: 1.5747615098953247\n",
      "Epoch 225 train loss: 0.7149957397952675 test loss: 1.4547418355941772\n",
      "Epoch 226 train loss: 0.6700331788510084 test loss: 1.2835477590560913\n",
      "Epoch 227 train loss: 0.6924466468393803 test loss: 1.4537440538406372\n",
      "Epoch 228 train loss: 0.7407354589551687 test loss: 1.3906545639038086\n",
      "Epoch 229 train loss: 0.709929016418755 test loss: 1.3524303436279297\n",
      "Epoch 230 train loss: 0.7126816626638174 test loss: 1.3712140321731567\n",
      "Epoch 231 train loss: 0.6689217717386782 test loss: 1.3939156532287598\n",
      "Epoch 232 train loss: 0.572753862850368 test loss: 1.1434861421585083\n",
      "Epoch 233 train loss: 0.6512022856622934 test loss: 1.2307441234588623\n",
      "Epoch 234 train loss: 0.6631025576032699 test loss: 0.9894909262657166\n",
      "Epoch 235 train loss: 0.6765433290973306 test loss: 1.5517359972000122\n",
      "Epoch 236 train loss: 0.6290780796669424 test loss: 1.3819900751113892\n",
      "Epoch 237 train loss: 0.6863866670057177 test loss: 1.0197865962982178\n",
      "Epoch 238 train loss: 0.6722770060412586 test loss: 1.5364521741867065\n",
      "Epoch 239 train loss: 0.6283600056543946 test loss: 1.2888352870941162\n",
      "Epoch 240 train loss: 0.5833757117390632 test loss: 1.57697331905365\n",
      "Epoch 241 train loss: 0.6302000225521625 test loss: 1.40150785446167\n",
      "Epoch 242 train loss: 0.6733837820589542 test loss: 1.2062809467315674\n",
      "Epoch 243 train loss: 0.658644221816212 test loss: 1.5555965900421143\n",
      "Epoch 244 train loss: 0.6160684214904905 test loss: 1.0243041515350342\n",
      "Epoch 245 train loss: 0.6869821473956108 test loss: 1.1742655038833618\n",
      "Epoch 246 train loss: 0.6473437211941928 test loss: 1.1609467267990112\n",
      "Epoch 247 train loss: 0.632858800701797 test loss: 1.3751168251037598\n",
      "Epoch 248 train loss: 0.6529174575582146 test loss: 0.9513832926750183\n",
      "Epoch 249 train loss: 0.6658480629324913 test loss: 1.326488733291626\n",
      "Epoch 250 train loss: 0.6090583089739084 test loss: 1.0603176355361938\n",
      "Epoch 251 train loss: 0.6822184503078461 test loss: 1.1764163970947266\n",
      "Epoch 252 train loss: 0.7234832431189716 test loss: 1.1945072412490845\n",
      "Epoch 253 train loss: 0.656777789676562 test loss: 0.9289518594741821\n",
      "Epoch 254 train loss: 0.6614714078605175 test loss: 1.8034813404083252\n",
      "Epoch 255 train loss: 0.6768235936760902 test loss: 1.511884331703186\n",
      "Epoch 256 train loss: 0.6315853256732226 test loss: 0.8901697993278503\n",
      "Epoch 257 train loss: 0.6701511012390255 test loss: 1.1807323694229126\n",
      "Epoch 258 train loss: 0.6532882237806916 test loss: 1.1466646194458008\n",
      "Epoch 259 train loss: 0.6488424438983202 test loss: 1.0605071783065796\n",
      "Epoch 260 train loss: 0.6854505438357592 test loss: 1.344997525215149\n",
      "Epoch 261 train loss: 0.6482974426355212 test loss: 1.4736003875732422\n",
      "Epoch 262 train loss: 0.6991794761270285 test loss: 1.6160001754760742\n",
      "Epoch 263 train loss: 0.6995604779571295 test loss: 1.664631724357605\n",
      "Epoch 264 train loss: 0.5654574803076684 test loss: 1.4320272207260132\n",
      "Epoch 265 train loss: 0.6552430490031839 test loss: 1.079598069190979\n",
      "Epoch 266 train loss: 0.5716459750197828 test loss: 1.2014955282211304\n",
      "Epoch 267 train loss: 0.6621864084154367 test loss: 1.598376750946045\n",
      "Epoch 268 train loss: 0.6970794971100986 test loss: 1.254141092300415\n",
      "Epoch 269 train loss: 0.6383199196308851 test loss: 1.283884882926941\n",
      "Epoch 270 train loss: 0.6161509020254016 test loss: 1.318320631980896\n",
      "Epoch 271 train loss: 0.6619571587070823 test loss: 1.1303654909133911\n",
      "Epoch 272 train loss: 0.6703219214454293 test loss: 1.5980288982391357\n",
      "Epoch 273 train loss: 0.606838340125978 test loss: 1.58408522605896\n",
      "Epoch 274 train loss: 0.58043272793293 test loss: 1.3488585948944092\n",
      "Epoch 275 train loss: 0.6560059703886509 test loss: 1.1631019115447998\n",
      "Epoch 276 train loss: 0.640045552700758 test loss: 1.3335012197494507\n",
      "Epoch 277 train loss: 0.6670075701549649 test loss: 1.3188705444335938\n",
      "Epoch 278 train loss: 0.5813029309734702 test loss: 1.4121936559677124\n",
      "Epoch 279 train loss: 0.6010491894558072 test loss: 1.4451515674591064\n",
      "Epoch 280 train loss: 0.6246138218790293 test loss: 1.1441062688827515\n",
      "Epoch 281 train loss: 0.5874880508519709 test loss: 1.5274816751480103\n",
      "Epoch 282 train loss: 0.6191834323108196 test loss: 1.4650473594665527\n",
      "Epoch 283 train loss: 0.7009015075862408 test loss: 1.4575011730194092\n",
      "Epoch 284 train loss: 0.6551098814234138 test loss: 1.3107283115386963\n",
      "Epoch 285 train loss: 0.6461215481162071 test loss: 1.3799827098846436\n",
      "Epoch 286 train loss: 0.6323327201418578 test loss: 1.429477334022522\n",
      "Epoch 287 train loss: 0.581073229201138 test loss: 1.4689441919326782\n",
      "Epoch 288 train loss: 0.6568930306471884 test loss: 1.261536717414856\n",
      "Epoch 289 train loss: 0.5429641773924232 test loss: 1.6296308040618896\n",
      "Epoch 290 train loss: 0.5712589940056205 test loss: 1.359203815460205\n",
      "Epoch 291 train loss: 0.5357103521004319 test loss: 0.9833657741546631\n",
      "Epoch 292 train loss: 0.6173305355012417 test loss: 1.0860649347305298\n",
      "Epoch 293 train loss: 0.6507298814132809 test loss: 1.4575027227401733\n",
      "Epoch 294 train loss: 0.6391931913793087 test loss: 1.2723408937454224\n",
      "Epoch 295 train loss: 0.5732326835393906 test loss: 1.5423544645309448\n",
      "Epoch 296 train loss: 0.669520691037178 test loss: 1.5347628593444824\n",
      "Epoch 297 train loss: 0.6612430356442929 test loss: 1.5076282024383545\n",
      "Epoch 298 train loss: 0.5788096057251095 test loss: 1.1704061031341553\n",
      "Epoch 299 train loss: 0.687859748583287 test loss: 0.9608068466186523\n",
      "Epoch 300 train loss: 0.6456613361835479 test loss: 1.5769821405410767\n",
      "Epoch 301 train loss: 0.6617176778614521 test loss: 1.745286464691162\n",
      "Epoch 302 train loss: 0.6033660382032394 test loss: 1.1326186656951904\n",
      "Epoch 303 train loss: 0.5391044563613832 test loss: 1.9742825031280518\n",
      "Epoch 304 train loss: 0.5482467946596443 test loss: 1.389404058456421\n",
      "Epoch 305 train loss: 0.6764857051894069 test loss: 1.5269761085510254\n",
      "Epoch 306 train loss: 0.657403897214681 test loss: 1.4556865692138672\n",
      "Epoch 307 train loss: 0.6232247771695256 test loss: 1.388387680053711\n",
      "Epoch 308 train loss: 0.6595299799926579 test loss: 1.1242520809173584\n",
      "Epoch 309 train loss: 0.4987178580835462 test loss: 1.1392028331756592\n",
      "Epoch 310 train loss: 0.6464796299114823 test loss: 1.24627685546875\n",
      "Epoch 311 train loss: 0.6472619280219079 test loss: 0.9710451364517212\n",
      "Epoch 312 train loss: 0.5550100573338568 test loss: 1.6162792444229126\n",
      "Epoch 313 train loss: 0.6167181580327451 test loss: 1.3424149751663208\n",
      "Epoch 314 train loss: 0.5716611625626683 test loss: 1.0946112871170044\n",
      "Epoch 315 train loss: 0.6822294181212782 test loss: 1.2007746696472168\n",
      "Epoch 316 train loss: 0.6886520793661475 test loss: 1.7047039270401\n",
      "Epoch 317 train loss: 0.628471296466887 test loss: 1.5188614130020142\n",
      "Epoch 318 train loss: 0.6243002491071821 test loss: 1.5277223587036133\n",
      "Epoch 319 train loss: 0.5978359547443688 test loss: 1.2952780723571777\n",
      "Epoch 320 train loss: 0.6532542688772083 test loss: 1.4080455303192139\n",
      "Epoch 321 train loss: 0.6186276623979211 test loss: 1.0100172758102417\n",
      "Epoch 322 train loss: 0.5990256232209503 test loss: 1.4683986902236938\n",
      "Epoch 323 train loss: 0.6007153982296586 test loss: 1.4955999851226807\n",
      "Epoch 324 train loss: 0.6120453650131822 test loss: 0.934310793876648\n",
      "Epoch 325 train loss: 0.6322729649022222 test loss: 1.2778371572494507\n",
      "Epoch 326 train loss: 0.6303613886237145 test loss: 1.1797634363174438\n",
      "Epoch 327 train loss: 0.5908913411200046 test loss: 1.2250783443450928\n",
      "Epoch 328 train loss: 0.6422230343334376 test loss: 1.2400118112564087\n",
      "Epoch 329 train loss: 0.5682944981381297 test loss: 1.1807132959365845\n",
      "Epoch 330 train loss: 0.6642534011974931 test loss: 1.4684410095214844\n",
      "Epoch 331 train loss: 0.6557874446734786 test loss: 1.518597960472107\n",
      "Epoch 332 train loss: 0.6248967183753849 test loss: 1.1786118745803833\n",
      "Epoch 333 train loss: 0.6872600674629211 test loss: 1.1867903470993042\n",
      "Epoch 334 train loss: 0.6402951311320066 test loss: 0.9460294246673584\n",
      "Epoch 335 train loss: 0.5485165799036622 test loss: 1.358953833580017\n",
      "Epoch 336 train loss: 0.6215411134064197 test loss: 1.3314226865768433\n",
      "Epoch 337 train loss: 0.6515105082653463 test loss: 1.2616521120071411\n",
      "Epoch 338 train loss: 0.6352673612535 test loss: 1.3262519836425781\n",
      "Epoch 339 train loss: 0.6334865137003363 test loss: 1.1980910301208496\n",
      "Epoch 340 train loss: 0.6541923554614186 test loss: 1.233541488647461\n",
      "Epoch 341 train loss: 0.5331509876064956 test loss: 1.192826509475708\n",
      "Epoch 342 train loss: 0.7095888637006282 test loss: 1.5662535429000854\n",
      "Epoch 343 train loss: 0.6604928275570273 test loss: 1.4353430271148682\n",
      "Epoch 344 train loss: 0.6888557817786932 test loss: 1.424914836883545\n",
      "Epoch 345 train loss: 0.6565747039858252 test loss: 1.0719654560089111\n",
      "Epoch 346 train loss: 0.6943554098717868 test loss: 1.3385672569274902\n",
      "Epoch 347 train loss: 0.6258935801684856 test loss: 1.474590539932251\n",
      "Epoch 348 train loss: 0.6117319606244565 test loss: 1.015553593635559\n",
      "Epoch 349 train loss: 0.5915978575125337 test loss: 1.104597568511963\n",
      "Epoch 350 train loss: 0.6623387638479471 test loss: 1.3497453927993774\n",
      "Epoch 351 train loss: 0.6669110359624029 test loss: 1.1296030282974243\n",
      "Epoch 352 train loss: 0.6690947270020843 test loss: 1.2337671518325806\n",
      "Epoch 353 train loss: 0.6472732375375927 test loss: 1.1994843482971191\n",
      "Epoch 354 train loss: 0.5820152825675905 test loss: 1.1199204921722412\n",
      "Epoch 355 train loss: 0.6497592320665717 test loss: 1.4780348539352417\n",
      "Epoch 356 train loss: 0.6146442165598274 test loss: 0.9896775484085083\n",
      "Epoch 357 train loss: 0.5892286617308855 test loss: 1.507415771484375\n",
      "Epoch 358 train loss: 0.6232587551698089 test loss: 1.2443068027496338\n",
      "Epoch 359 train loss: 0.5781357981264591 test loss: 1.4236615896224976\n",
      "Epoch 360 train loss: 0.5723592326045036 test loss: 1.2114465236663818\n",
      "Epoch 361 train loss: 0.523123889695853 test loss: 1.094648838043213\n",
      "Epoch 362 train loss: 0.5473696782253683 test loss: 1.1808583736419678\n",
      "Epoch 363 train loss: 0.4713790233246982 test loss: 1.5282491445541382\n",
      "Epoch 364 train loss: 0.6312558729201555 test loss: 0.9877084493637085\n",
      "Epoch 365 train loss: 0.6637776562012732 test loss: 1.45957350730896\n",
      "Epoch 366 train loss: 0.5980423854663968 test loss: 1.468636155128479\n",
      "Epoch 367 train loss: 0.5933744600042701 test loss: 1.465578556060791\n",
      "Epoch 368 train loss: 0.6298255940899253 test loss: 1.4305989742279053\n",
      "Epoch 369 train loss: 0.6632614420726896 test loss: 1.0126826763153076\n",
      "Epoch 370 train loss: 0.5998134855180979 test loss: 1.316897988319397\n",
      "Epoch 371 train loss: 0.5697475435677916 test loss: 1.4558813571929932\n",
      "Epoch 372 train loss: 0.629629566706717 test loss: 1.2584391832351685\n",
      "Epoch 373 train loss: 0.6476778784766793 test loss: 1.083815097808838\n",
      "Epoch 374 train loss: 0.6394089736044407 test loss: 1.2603626251220703\n",
      "Epoch 375 train loss: 0.6260715545155108 test loss: 1.6065568923950195\n",
      "Epoch 376 train loss: 0.5648791749961675 test loss: 1.304707407951355\n",
      "Epoch 377 train loss: 0.6030347293242813 test loss: 1.3439502716064453\n",
      "Epoch 378 train loss: 0.6174495765008032 test loss: 1.8592479228973389\n",
      "Epoch 379 train loss: 0.6588624063879251 test loss: 1.3449641466140747\n",
      "Epoch 380 train loss: 0.7103573710657656 test loss: 1.4279423952102661\n",
      "Epoch 381 train loss: 0.6608538209460676 test loss: 1.1056303977966309\n",
      "Epoch 382 train loss: 0.6396482596173882 test loss: 1.4075654745101929\n",
      "Epoch 383 train loss: 0.604944886546582 test loss: 1.2897427082061768\n",
      "Epoch 384 train loss: 0.611714630946517 test loss: 1.4032273292541504\n",
      "Epoch 385 train loss: 0.6055669115390628 test loss: 1.2506933212280273\n",
      "Epoch 386 train loss: 0.5514076616615057 test loss: 1.712461233139038\n",
      "Epoch 387 train loss: 0.5947519497945905 test loss: 1.1108909845352173\n",
      "Epoch 388 train loss: 0.5437856765463949 test loss: 1.2958407402038574\n",
      "Epoch 389 train loss: 0.6071104316972196 test loss: 1.1798110008239746\n",
      "Epoch 390 train loss: 0.5672509523108602 test loss: 1.0604898929595947\n",
      "Epoch 391 train loss: 0.6526457360945642 test loss: 1.3552078008651733\n",
      "Epoch 392 train loss: 0.5385962465777994 test loss: 1.237941026687622\n",
      "Epoch 393 train loss: 0.6492927944287658 test loss: 1.204710841178894\n",
      "Epoch 394 train loss: 0.5984852666035294 test loss: 1.1089469194412231\n",
      "Epoch 395 train loss: 0.6095271652564407 test loss: 1.6339282989501953\n",
      "Epoch 396 train loss: 0.5601517150178552 test loss: 0.9219452738761902\n",
      "Epoch 397 train loss: 0.5903906192630529 test loss: 1.9134331941604614\n",
      "Epoch 398 train loss: 0.5674262878485024 test loss: 1.3792023658752441\n",
      "Epoch 399 train loss: 0.6465981645509601 test loss: 1.615418553352356\n",
      "Epoch 400 train loss: 0.6207583220675588 test loss: 1.113537073135376\n",
      "Epoch 401 train loss: 0.5379110615700483 test loss: 1.647818922996521\n",
      "Epoch 402 train loss: 0.6017601115629077 test loss: 0.7870841026306152\n",
      "Epoch 403 train loss: 0.6167799246497452 test loss: 1.6401865482330322\n",
      "Epoch 404 train loss: 0.6207344699651003 test loss: 1.3897583484649658\n",
      "Epoch 405 train loss: 0.7597295513376594 test loss: 0.9914029240608215\n",
      "Epoch 406 train loss: 0.5836982917971909 test loss: 1.0703563690185547\n",
      "Epoch 407 train loss: 0.7687603088095785 test loss: 1.5194662809371948\n",
      "Epoch 408 train loss: 0.5582368444651366 test loss: 1.1924927234649658\n",
      "Epoch 409 train loss: 0.68638059142977 test loss: 0.9247339367866516\n",
      "Epoch 410 train loss: 0.7269606409594417 test loss: 1.3567246198654175\n",
      "Epoch 411 train loss: 0.619328815676272 test loss: 0.9794878959655762\n",
      "Epoch 412 train loss: 0.6510564101859927 test loss: 1.0466904640197754\n",
      "Epoch 413 train loss: 0.6039210418239236 test loss: 1.3075153827667236\n",
      "Epoch 414 train loss: 0.6052376034669578 test loss: 1.241858959197998\n",
      "Epoch 415 train loss: 0.6327408503741025 test loss: 1.421643853187561\n",
      "Epoch 416 train loss: 0.631643686722964 test loss: 1.2126610279083252\n",
      "Epoch 417 train loss: 0.6689839125610888 test loss: 1.2380160093307495\n",
      "Epoch 418 train loss: 0.5798835973255336 test loss: 1.26851487159729\n",
      "Epoch 419 train loss: 0.5907562669366598 test loss: 1.2441092729568481\n",
      "Epoch 420 train loss: 0.6091077365446835 test loss: 1.3393113613128662\n",
      "Epoch 421 train loss: 0.6507607951760292 test loss: 1.4941049814224243\n",
      "Epoch 422 train loss: 0.6081544493325055 test loss: 1.3797084093093872\n",
      "Epoch 423 train loss: 0.6582977833226323 test loss: 1.3938744068145752\n",
      "Epoch 424 train loss: 0.5967063436284661 test loss: 1.0854369401931763\n",
      "Epoch 425 train loss: 0.5646034783683718 test loss: 1.7604625225067139\n",
      "Epoch 426 train loss: 0.6564786290749908 test loss: 1.496033787727356\n",
      "Epoch 427 train loss: 0.5837851084768773 test loss: 1.577103614807129\n",
      "Epoch 428 train loss: 0.6036771964281797 test loss: 1.6137361526489258\n",
      "Epoch 429 train loss: 0.5881516266614198 test loss: 1.5493922233581543\n",
      "Epoch 430 train loss: 0.580944468267262 test loss: 1.2544569969177246\n",
      "Epoch 431 train loss: 0.5785188297741115 test loss: 1.5507694482803345\n",
      "Epoch 432 train loss: 0.5600341062061489 test loss: 1.4891997575759888\n",
      "Epoch 433 train loss: 0.6436426360160112 test loss: 1.5796372890472412\n",
      "Epoch 434 train loss: 0.6599242740310729 test loss: 1.340343713760376\n",
      "Epoch 435 train loss: 0.5479773588012904 test loss: 0.8497424721717834\n",
      "Epoch 436 train loss: 0.5553535578772426 test loss: 1.2218564748764038\n",
      "Epoch 437 train loss: 0.5969002925790846 test loss: 1.2198448181152344\n",
      "Epoch 438 train loss: 0.5751348220743239 test loss: 1.537969708442688\n",
      "Epoch 439 train loss: 0.5439256293699145 test loss: 1.6403589248657227\n",
      "Epoch 440 train loss: 0.5861459083855152 test loss: 1.2065390348434448\n",
      "Epoch 441 train loss: 0.6518649810925126 test loss: 1.6504149436950684\n",
      "Epoch 442 train loss: 0.5633530799299479 test loss: 1.3058830499649048\n",
      "Epoch 443 train loss: 0.5789535898715258 test loss: 1.4620487689971924\n",
      "Epoch 444 train loss: 0.6512917838059366 test loss: 1.4718458652496338\n",
      "Epoch 445 train loss: 0.6424167750403285 test loss: 1.379935383796692\n",
      "Epoch 446 train loss: 0.7091397481039167 test loss: 1.4740276336669922\n",
      "Epoch 447 train loss: 0.5565608078613877 test loss: 0.9523016214370728\n",
      "Epoch 448 train loss: 0.5510268181562423 test loss: 1.3852577209472656\n",
      "Epoch 449 train loss: 0.6147188864648342 test loss: 1.1429585218429565\n",
      "Epoch 450 train loss: 0.5909745359793306 test loss: 1.0226887464523315\n",
      "Epoch 451 train loss: 0.6023051557131112 test loss: 1.5471343994140625\n",
      "Epoch 452 train loss: 0.5856281837448478 test loss: 1.1396328210830688\n",
      "Epoch 453 train loss: 0.630766189377755 test loss: 1.146538496017456\n",
      "Epoch 454 train loss: 0.6061088745482266 test loss: 1.2144074440002441\n",
      "Epoch 455 train loss: 0.5959146605804563 test loss: 1.130007028579712\n",
      "Epoch 456 train loss: 0.5196192743256688 test loss: 1.14055597782135\n",
      "Epoch 457 train loss: 0.654387544374913 test loss: 1.2365593910217285\n",
      "Epoch 458 train loss: 0.6089796152897179 test loss: 1.310867190361023\n",
      "Epoch 459 train loss: 0.6510943909175694 test loss: 1.232682228088379\n",
      "Epoch 460 train loss: 0.5213972512632609 test loss: 1.546891212463379\n",
      "Epoch 461 train loss: 0.5836411898955702 test loss: 1.2131567001342773\n",
      "Epoch 462 train loss: 0.6353786968626082 test loss: 1.160074234008789\n",
      "Epoch 463 train loss: 0.5991994196549058 test loss: 1.219836950302124\n",
      "Epoch 464 train loss: 0.6082947639748454 test loss: 1.3638956546783447\n",
      "Epoch 465 train loss: 0.6293633744120598 test loss: 0.897097110748291\n",
      "Epoch 466 train loss: 0.5586682779714465 test loss: 1.5708171129226685\n",
      "Epoch 467 train loss: 0.6655228802934289 test loss: 1.201004147529602\n",
      "Epoch 468 train loss: 0.6017489660531282 test loss: 1.7176039218902588\n",
      "Epoch 469 train loss: 0.5884210505755618 test loss: 1.4217122793197632\n",
      "Epoch 470 train loss: 0.5662662869319319 test loss: 1.4417754411697388\n",
      "Epoch 471 train loss: 0.6064620900899171 test loss: 1.1942750215530396\n",
      "Epoch 472 train loss: 0.6453375864773989 test loss: 1.4910019636154175\n",
      "Epoch 473 train loss: 0.5741681408137083 test loss: 1.1266058683395386\n",
      "Epoch 474 train loss: 0.5776587199419737 test loss: 1.2957412004470825\n",
      "Epoch 475 train loss: 0.5940185336396098 test loss: 1.083966851234436\n",
      "Epoch 476 train loss: 0.5956804358400405 test loss: 1.2481069564819336\n",
      "Epoch 477 train loss: 0.5564056890085339 test loss: 1.1208667755126953\n",
      "Epoch 478 train loss: 0.6012731920927763 test loss: 1.324016809463501\n",
      "Epoch 479 train loss: 0.6677742910571396 test loss: 1.1671806573867798\n",
      "Epoch 480 train loss: 0.6294822961091995 test loss: 1.2282012701034546\n",
      "Epoch 481 train loss: 0.5376126691699028 test loss: 1.4257293939590454\n",
      "Epoch 482 train loss: 0.6552603813819587 test loss: 1.7752541303634644\n",
      "Epoch 483 train loss: 0.5423400769010186 test loss: 1.7768746614456177\n",
      "Epoch 484 train loss: 0.6084545817226171 test loss: 1.2733609676361084\n",
      "Epoch 485 train loss: 0.6421590489335358 test loss: 0.8942656517028809\n",
      "Epoch 486 train loss: 0.626893762126565 test loss: 1.6445766687393188\n",
      "Epoch 487 train loss: 0.6430767456069588 test loss: 1.3815897703170776\n",
      "Epoch 488 train loss: 0.6257480391301214 test loss: 1.1068509817123413\n",
      "Epoch 489 train loss: 0.587728441786021 test loss: 1.6120234727859497\n",
      "Epoch 490 train loss: 0.6741566863842309 test loss: 1.33405339717865\n",
      "Epoch 491 train loss: 0.5287407618016005 test loss: 1.5865925550460815\n",
      "Epoch 492 train loss: 0.6262696580961347 test loss: 1.467021107673645\n",
      "Epoch 493 train loss: 0.4899835427291691 test loss: 1.0204448699951172\n",
      "Epoch 494 train loss: 0.6235564596951008 test loss: 1.3034175634384155\n",
      "Epoch 495 train loss: 0.698523065354675 test loss: 1.3047151565551758\n",
      "Epoch 496 train loss: 0.5810132931917906 test loss: 1.1835722923278809\n",
      "Epoch 497 train loss: 0.6512585920747369 test loss: 1.346337914466858\n",
      "Epoch 498 train loss: 0.6666558438912034 test loss: 1.5583245754241943\n",
      "Epoch 499 train loss: 0.6455421195365488 test loss: 1.0317037105560303\n",
      "Epoch 500 train loss: 0.6430393291637302 test loss: 1.4943203926086426\n",
      "Epoch 501 train loss: 0.5728571306914091 test loss: 1.0838109254837036\n",
      "Epoch 502 train loss: 0.5521024430170656 test loss: 1.6460826396942139\n",
      "Epoch 503 train loss: 0.604401333630085 test loss: 1.1416748762130737\n",
      "Epoch 504 train loss: 0.6506261296570301 test loss: 1.672560453414917\n",
      "Epoch 505 train loss: 0.6436861012130976 test loss: 1.9650979042053223\n",
      "Epoch 506 train loss: 0.5185182625427842 test loss: 1.306018352508545\n",
      "Epoch 507 train loss: 0.665837698802352 test loss: 1.1137244701385498\n",
      "Epoch 508 train loss: 0.6145714355632663 test loss: 1.4417997598648071\n",
      "Epoch 509 train loss: 0.6652100241975859 test loss: 1.2612173557281494\n",
      "Epoch 510 train loss: 0.6573981779627502 test loss: 1.6183818578720093\n",
      "Epoch 511 train loss: 0.6188228189013898 test loss: 1.7611640691757202\n",
      "Epoch 512 train loss: 0.5497693155892194 test loss: 1.3689302206039429\n",
      "Epoch 513 train loss: 0.6178968722932041 test loss: 1.356645107269287\n",
      "Epoch 514 train loss: 0.5933598448522389 test loss: 1.4867182970046997\n",
      "Epoch 515 train loss: 0.6289468728937209 test loss: 1.5213127136230469\n",
      "Epoch 516 train loss: 0.5632777449209243 test loss: 1.5323959589004517\n",
      "Epoch 517 train loss: 0.6781468510627746 test loss: 1.171160340309143\n",
      "Epoch 518 train loss: 0.6331243075430393 test loss: 1.0904167890548706\n",
      "Epoch 519 train loss: 0.5404679098166525 test loss: 1.1752185821533203\n",
      "Epoch 520 train loss: 0.5443885125219822 test loss: 1.5531935691833496\n",
      "Epoch 521 train loss: 0.6131075510755182 test loss: 1.9012006521224976\n",
      "Epoch 522 train loss: 0.6072306185495109 test loss: 1.5131654739379883\n",
      "Epoch 523 train loss: 0.5604047410190105 test loss: 1.3953566551208496\n",
      "Epoch 524 train loss: 0.623729957640171 test loss: 1.7171961069107056\n",
      "Epoch 525 train loss: 0.664739185757935 test loss: 1.0819934606552124\n",
      "Epoch 526 train loss: 0.656150565855205 test loss: 2.165479898452759\n",
      "Epoch 527 train loss: 0.6007637910544872 test loss: 1.3523894548416138\n",
      "Epoch 528 train loss: 0.6380981529131532 test loss: 1.2969926595687866\n",
      "Epoch 529 train loss: 0.7687626868486405 test loss: 1.4604700803756714\n",
      "Epoch 530 train loss: 0.6063901571556926 test loss: 1.41669499874115\n",
      "Epoch 531 train loss: 0.613727393001318 test loss: 1.1215265989303589\n",
      "Epoch 532 train loss: 0.5428238123655319 test loss: 1.09420645236969\n",
      "Epoch 533 train loss: 0.5461170921102166 test loss: 1.5455377101898193\n",
      "Epoch 534 train loss: 0.37255066595971587 test loss: 1.2800683975219727\n",
      "Epoch 535 train loss: 0.5906678795814514 test loss: 1.265236258506775\n",
      "Epoch 536 train loss: 0.599635676946491 test loss: 1.1888200044631958\n",
      "Epoch 537 train loss: 0.5615071360953152 test loss: 0.9686892628669739\n",
      "Epoch 538 train loss: 0.5685701504349708 test loss: 1.1393811702728271\n",
      "Epoch 539 train loss: 0.5649125107564033 test loss: 0.9908015727996826\n",
      "Epoch 540 train loss: 0.6056149989366532 test loss: 1.3255094289779663\n",
      "Epoch 541 train loss: 0.5495404211804271 test loss: 1.4446618556976318\n",
      "Epoch 542 train loss: 0.5485857978463173 test loss: 1.368817925453186\n",
      "Epoch 543 train loss: 0.5626045925542712 test loss: 1.1071038246154785\n",
      "Epoch 544 train loss: 0.6611070590093732 test loss: 1.2021554708480835\n",
      "Epoch 545 train loss: 0.6257090722210705 test loss: 1.2163859605789185\n",
      "Epoch 546 train loss: 0.4910076420754194 test loss: 1.01011323928833\n",
      "Epoch 547 train loss: 0.6190404620021581 test loss: 1.3191020488739014\n",
      "Epoch 548 train loss: 0.5556938061490655 test loss: 1.6907296180725098\n",
      "Epoch 549 train loss: 0.6381664469838142 test loss: 1.3431979417800903\n",
      "Epoch 550 train loss: 0.5447584806010127 test loss: 1.122740626335144\n",
      "Epoch 551 train loss: 0.5880874022841454 test loss: 1.1286975145339966\n",
      "Epoch 552 train loss: 0.57211897643283 test loss: 1.421816110610962\n",
      "Epoch 553 train loss: 0.6149338848888874 test loss: 1.3103418350219727\n",
      "Epoch 554 train loss: 0.54671899843961 test loss: 1.215510606765747\n",
      "Epoch 555 train loss: 0.5939874511212111 test loss: 1.1908265352249146\n",
      "Epoch 556 train loss: 0.5606091851368546 test loss: 1.1521795988082886\n",
      "Epoch 557 train loss: 0.6561234360560775 test loss: 2.2904016971588135\n",
      "Epoch 558 train loss: 0.5906527485698462 test loss: 1.1950379610061646\n",
      "Epoch 559 train loss: 0.6584288931451738 test loss: 1.1646556854248047\n",
      "Epoch 560 train loss: 0.5316670110449195 test loss: 1.0235154628753662\n",
      "Epoch 561 train loss: 0.5903139179572463 test loss: 1.5341615676879883\n",
      "Epoch 562 train loss: 0.564767287299037 test loss: 1.1469767093658447\n",
      "Epoch 563 train loss: 0.6258257810026407 test loss: 1.0931193828582764\n",
      "Epoch 564 train loss: 0.5928933718241751 test loss: 1.2319027185440063\n",
      "Epoch 565 train loss: 0.6361019001342356 test loss: 1.8826794624328613\n",
      "Epoch 566 train loss: 0.5738898985087871 test loss: 1.3553502559661865\n",
      "Epoch 567 train loss: 0.5679672129452229 test loss: 1.2556064128875732\n",
      "Epoch 568 train loss: 0.5998467387631535 test loss: 1.7231667041778564\n",
      "Epoch 569 train loss: 0.6700988097116352 test loss: 1.4407864809036255\n",
      "Epoch 570 train loss: 0.6233817717060447 test loss: 1.3465511798858643\n",
      "Epoch 571 train loss: 0.5638046159408987 test loss: 1.4290567636489868\n",
      "Epoch 572 train loss: 0.5773514244705439 test loss: 1.5906949043273926\n",
      "Epoch 573 train loss: 0.6912145622074604 test loss: 1.293083667755127\n",
      "Epoch 574 train loss: 0.46941922334954145 test loss: 1.3067495822906494\n",
      "Epoch 575 train loss: 0.5338646854273975 test loss: 1.0227258205413818\n",
      "Epoch 576 train loss: 0.5840890865307301 test loss: 1.054502248764038\n",
      "Epoch 577 train loss: 0.5487647850066424 test loss: 1.2557358741760254\n",
      "Epoch 578 train loss: 0.5898708584718406 test loss: 1.137985110282898\n",
      "Epoch 579 train loss: 0.5723760677501559 test loss: 1.1461181640625\n",
      "Epoch 580 train loss: 0.6279068587347865 test loss: 2.193641185760498\n",
      "Epoch 581 train loss: 0.4878463068045676 test loss: 1.5035820007324219\n",
      "Epoch 582 train loss: 0.647117979079485 test loss: 1.3974806070327759\n",
      "Epoch 583 train loss: 0.5609770400449634 test loss: 1.5107403993606567\n",
      "Epoch 584 train loss: 0.6173156788572669 test loss: 1.16925847530365\n",
      "Epoch 585 train loss: 0.5557852595578879 test loss: 1.361163854598999\n",
      "Epoch 586 train loss: 0.5999242590740324 test loss: 1.3954908847808838\n",
      "Epoch 587 train loss: 0.5827837091870606 test loss: 0.9408188462257385\n",
      "Epoch 588 train loss: 0.6465307970531284 test loss: 1.2474697828292847\n",
      "Epoch 589 train loss: 0.5636866702698171 test loss: 1.8195538520812988\n",
      "Epoch 590 train loss: 0.605813990905881 test loss: 1.2925832271575928\n",
      "Epoch 591 train loss: 0.5414459584280849 test loss: 1.049498438835144\n",
      "Epoch 592 train loss: 0.6334594098851085 test loss: 0.98993319272995\n",
      "Epoch 593 train loss: 0.5408812154084444 test loss: 1.543006181716919\n",
      "Epoch 594 train loss: 0.6019159624353051 test loss: 1.5358551740646362\n",
      "Epoch 595 train loss: 0.6665781702846288 test loss: 1.4670881032943726\n",
      "Epoch 596 train loss: 0.4592549336142838 test loss: 1.4667619466781616\n",
      "Epoch 597 train loss: 0.5831698906607926 test loss: 1.2428812980651855\n",
      "Epoch 598 train loss: 0.592286983691156 test loss: 1.4052553176879883\n",
      "Epoch 599 train loss: 0.46356196380220355 test loss: 0.9595903754234314\n",
      "Epoch 600 train loss: 0.6269080183468759 test loss: 1.693386435508728\n",
      "Epoch 601 train loss: 0.4882969392463565 test loss: 1.2964425086975098\n",
      "Epoch 602 train loss: 0.5730977410450577 test loss: 1.3063255548477173\n",
      "Epoch 603 train loss: 0.6114761488512158 test loss: 1.4102754592895508\n",
      "Epoch 604 train loss: 0.5951113559305667 test loss: 1.6846388578414917\n",
      "Epoch 605 train loss: 0.5277703524567187 test loss: 1.599743127822876\n",
      "Epoch 606 train loss: 0.6304596913978457 test loss: 1.4463064670562744\n",
      "Epoch 607 train loss: 0.6293673726730049 test loss: 1.4774672985076904\n",
      "Epoch 608 train loss: 0.5603080844506622 test loss: 1.1055570840835571\n",
      "Epoch 609 train loss: 0.5441567515023052 test loss: 1.6963962316513062\n",
      "Epoch 610 train loss: 0.514076819224283 test loss: 1.4292993545532227\n",
      "Epoch 611 train loss: 0.5666957715526223 test loss: 1.581956148147583\n",
      "Epoch 612 train loss: 0.4690129891037941 test loss: 1.3566980361938477\n",
      "Epoch 613 train loss: 0.5758686642628164 test loss: 0.9971137046813965\n",
      "Epoch 614 train loss: 0.497543984092772 test loss: 1.2916665077209473\n",
      "Epoch 615 train loss: 0.5427858351729811 test loss: 1.0022789239883423\n",
      "Epoch 616 train loss: 0.5355409971438349 test loss: 1.3210065364837646\n",
      "Epoch 617 train loss: 0.6060184340924024 test loss: 1.0879323482513428\n",
      "Epoch 618 train loss: 0.5640660311095417 test loss: 1.5362128019332886\n",
      "Epoch 619 train loss: 0.5064324345439672 test loss: 1.3559520244598389\n",
      "Epoch 620 train loss: 0.5725193211343139 test loss: 1.46907639503479\n",
      "Epoch 621 train loss: 0.5928894806653261 test loss: 1.6549705266952515\n",
      "Epoch 622 train loss: 0.5990316312760114 test loss: 1.5224475860595703\n",
      "Epoch 623 train loss: 0.5223327678628266 test loss: 1.3415374755859375\n",
      "Epoch 624 train loss: 0.5705799019429832 test loss: 1.6716845035552979\n",
      "Epoch 625 train loss: 0.60776507249102 test loss: 1.6107572317123413\n",
      "Epoch 626 train loss: 0.5192846472375094 test loss: 1.052438735961914\n",
      "Epoch 627 train loss: 0.6431280227378011 test loss: 1.3884166479110718\n",
      "Epoch 628 train loss: 0.6175884400494397 test loss: 1.6473037004470825\n",
      "Epoch 629 train loss: 0.44928958602249625 test loss: 1.653131127357483\n",
      "Epoch 630 train loss: 0.5604217412881554 test loss: 1.1921522617340088\n",
      "Epoch 631 train loss: 0.636567072197795 test loss: 1.6008408069610596\n",
      "Epoch 632 train loss: 0.7198132507503032 test loss: 1.3626811504364014\n",
      "Epoch 633 train loss: 0.5361688719131052 test loss: 1.256318211555481\n",
      "Epoch 634 train loss: 0.6054672881495208 test loss: 1.8717453479766846\n",
      "Epoch 635 train loss: 0.46948605962097645 test loss: 1.4063270092010498\n",
      "Epoch 636 train loss: 0.5506179904565215 test loss: 1.4790598154067993\n",
      "Epoch 637 train loss: 0.6539028573781251 test loss: 1.6240549087524414\n",
      "Epoch 638 train loss: 0.5987038348335773 test loss: 1.5033141374588013\n",
      "Epoch 639 train loss: 0.5427903048694134 test loss: 2.0004239082336426\n",
      "Epoch 640 train loss: 0.5209002781659364 test loss: 1.133528232574463\n",
      "Epoch 641 train loss: 0.5275657428428531 test loss: 1.2211248874664307\n",
      "Epoch 642 train loss: 0.6155309192836285 test loss: 1.5136433839797974\n",
      "Epoch 643 train loss: 0.6193519997876138 test loss: 1.7729188203811646\n",
      "Epoch 644 train loss: 0.5587129207327962 test loss: 1.368082880973816\n",
      "Epoch 645 train loss: 0.43514646105468274 test loss: 1.5704978704452515\n",
      "Epoch 646 train loss: 0.4858106535859406 test loss: 1.6175907850265503\n",
      "Epoch 647 train loss: 0.6207710977643728 test loss: 0.7776356935501099\n",
      "Epoch 648 train loss: 0.5917852913029492 test loss: 1.505105972290039\n",
      "Epoch 649 train loss: 0.5935075985267758 test loss: 1.4523372650146484\n",
      "Epoch 650 train loss: 0.602745209634304 test loss: 1.6675302982330322\n",
      "Epoch 651 train loss: 0.6523877469822764 test loss: 1.626226544380188\n",
      "Epoch 652 train loss: 0.4548202228732407 test loss: 1.4261631965637207\n",
      "Epoch 653 train loss: 0.4576844288036227 test loss: 1.603419542312622\n",
      "Epoch 654 train loss: 0.6256374659948051 test loss: 1.0664652585983276\n",
      "Epoch 655 train loss: 0.6041618986055255 test loss: 1.4334886074066162\n",
      "Epoch 656 train loss: 0.5830972674302757 test loss: 1.6852744817733765\n",
      "Epoch 657 train loss: 0.47183342510834336 test loss: 1.194493055343628\n",
      "Epoch 658 train loss: 0.6507913472130895 test loss: 1.466835379600525\n",
      "Epoch 659 train loss: 0.6077971449121833 test loss: 1.109485387802124\n",
      "Epoch 660 train loss: 0.6426728392019868 test loss: 1.3192578554153442\n",
      "Epoch 661 train loss: 0.5464340368285775 test loss: 1.2436572313308716\n",
      "Epoch 662 train loss: 0.5091005202382803 test loss: 1.7400844097137451\n",
      "Epoch 663 train loss: 0.5784480247646571 test loss: 1.2743874788284302\n",
      "Epoch 664 train loss: 0.505527978297323 test loss: 1.7445297241210938\n",
      "Epoch 665 train loss: 0.571530876122415 test loss: 1.5973680019378662\n",
      "Epoch 666 train loss: 0.6086447793059051 test loss: 1.5715121030807495\n",
      "Epoch 667 train loss: 0.5454157800413668 test loss: 1.4799811840057373\n",
      "Epoch 668 train loss: 0.5629663821309805 test loss: 1.5430207252502441\n",
      "Epoch 669 train loss: 0.6512456152588129 test loss: 1.509861946105957\n",
      "Epoch 670 train loss: 0.6257405007258058 test loss: 1.15095853805542\n",
      "Epoch 671 train loss: 0.5851300024427474 test loss: 1.3904120922088623\n",
      "Epoch 672 train loss: 0.5630734898149967 test loss: 1.5644047260284424\n",
      "Epoch 673 train loss: 0.5583966452162713 test loss: 1.7010964155197144\n",
      "Epoch 674 train loss: 0.5741924326866865 test loss: 1.6303433179855347\n",
      "Epoch 675 train loss: 0.546831878926605 test loss: 1.564443826675415\n",
      "Epoch 676 train loss: 0.5544727619737386 test loss: 1.5042057037353516\n",
      "Epoch 677 train loss: 0.5616131173446774 test loss: 1.124110460281372\n",
      "Epoch 678 train loss: 0.5731760896742344 test loss: 1.0097957849502563\n",
      "Epoch 679 train loss: 0.5354938154108823 test loss: 1.267153263092041\n",
      "Epoch 680 train loss: 0.6546195329166948 test loss: 0.9549441933631897\n",
      "Epoch 681 train loss: 0.5607679556123912 test loss: 1.6855255365371704\n",
      "Epoch 682 train loss: 0.567408581264317 test loss: 1.3900671005249023\n",
      "Epoch 683 train loss: 0.5768058195710182 test loss: 1.4229460954666138\n",
      "Epoch 684 train loss: 0.6427661798894405 test loss: 0.89920973777771\n",
      "Epoch 685 train loss: 0.6179465250112116 test loss: 1.4383580684661865\n",
      "Epoch 686 train loss: 0.570606083702296 test loss: 0.8461458086967468\n",
      "Epoch 687 train loss: 0.6662295252084732 test loss: 1.5169720649719238\n",
      "Epoch 688 train loss: 0.6223323479294777 test loss: 1.3570867776870728\n",
      "Epoch 689 train loss: 0.5120094828307629 test loss: 1.4532685279846191\n",
      "Epoch 690 train loss: 0.6233934707939625 test loss: 1.8305962085723877\n",
      "Epoch 691 train loss: 0.6889402559027076 test loss: 1.152637004852295\n",
      "Epoch 692 train loss: 0.6337128110229969 test loss: 1.3620649576187134\n",
      "Epoch 693 train loss: 0.6194947589188814 test loss: 2.0358502864837646\n",
      "Epoch 694 train loss: 0.4353636471554637 test loss: 1.5965296030044556\n",
      "Epoch 695 train loss: 0.5817113356664777 test loss: 1.6847577095031738\n",
      "Epoch 696 train loss: 0.48467803802341225 test loss: 1.2430609464645386\n",
      "Epoch 697 train loss: 0.5284241148270666 test loss: 1.7085826396942139\n",
      "Epoch 698 train loss: 0.5631871465593576 test loss: 1.508025050163269\n",
      "Epoch 699 train loss: 0.4818249214440584 test loss: 0.9968422651290894\n",
      "Epoch 700 train loss: 0.5698904625140131 test loss: 1.4116326570510864\n",
      "Epoch 701 train loss: 0.5351532157510519 test loss: 1.6808031797409058\n",
      "Epoch 702 train loss: 0.5971951148938388 test loss: 1.8547337055206299\n",
      "Epoch 703 train loss: 0.5136629809625447 test loss: 1.3776572942733765\n",
      "Epoch 704 train loss: 0.6126363106071949 test loss: 1.8145289421081543\n",
      "Epoch 705 train loss: 0.5404767218977213 test loss: 1.5961713790893555\n",
      "Epoch 706 train loss: 0.5717610728926956 test loss: 1.3195288181304932\n",
      "Epoch 707 train loss: 0.5621932782232761 test loss: 1.2930506467819214\n",
      "Epoch 708 train loss: 0.621872334741056 test loss: 1.3947256803512573\n",
      "Epoch 709 train loss: 0.7153520595282317 test loss: 1.3085346221923828\n",
      "Epoch 710 train loss: 0.6066141845658422 test loss: 1.2090513706207275\n",
      "Epoch 711 train loss: 0.5389742771163583 test loss: 1.6381688117980957\n",
      "Epoch 712 train loss: 0.573868875298649 test loss: 1.5522211790084839\n",
      "Epoch 713 train loss: 0.5729596582241356 test loss: 2.020716905593872\n",
      "Epoch 714 train loss: 0.5816718185320496 test loss: 1.239333987236023\n",
      "Epoch 715 train loss: 0.5783369707874954 test loss: 1.6453059911727905\n",
      "Epoch 716 train loss: 0.6464523728005588 test loss: 1.5411229133605957\n",
      "Epoch 717 train loss: 0.647810869012028 test loss: 1.4440230131149292\n",
      "Epoch 718 train loss: 0.6043940402567387 test loss: 1.2097805738449097\n",
      "Epoch 719 train loss: 0.6007831672206521 test loss: 1.754223346710205\n",
      "Epoch 720 train loss: 0.5654390852898359 test loss: 1.0842088460922241\n",
      "Epoch 721 train loss: 0.5641544191166759 test loss: 1.4447717666625977\n",
      "Epoch 722 train loss: 0.682585184648633 test loss: 1.3860644102096558\n",
      "Epoch 723 train loss: 0.5945979427546263 test loss: 1.4582817554473877\n",
      "Epoch 724 train loss: 0.5133551049046219 test loss: 1.4386112689971924\n",
      "Epoch 725 train loss: 0.5429501323029399 test loss: 1.3363183736801147\n",
      "Epoch 726 train loss: 0.5628360939212144 test loss: 1.4946426153182983\n",
      "Epoch 727 train loss: 0.5193434169515967 test loss: 1.0434808731079102\n",
      "Epoch 728 train loss: 0.6251996853388846 test loss: 1.300430178642273\n",
      "Epoch 729 train loss: 0.5874019900336862 test loss: 1.3558934926986694\n",
      "Epoch 730 train loss: 0.5642625512555242 test loss: 1.352530837059021\n",
      "Epoch 731 train loss: 0.44353900775313376 test loss: 1.3976980447769165\n",
      "Epoch 732 train loss: 0.573906556610018 test loss: 1.48418128490448\n",
      "Epoch 733 train loss: 0.6586989980190993 test loss: 1.0084848403930664\n",
      "Epoch 734 train loss: 0.576611699257046 test loss: 1.687416911125183\n",
      "Epoch 735 train loss: 0.4762529824860394 test loss: 1.0949552059173584\n",
      "Epoch 736 train loss: 0.5922480231150985 test loss: 1.3729336261749268\n",
      "Epoch 737 train loss: 0.5753382693976163 test loss: 1.6179543733596802\n",
      "Epoch 738 train loss: 0.6299060361459852 test loss: 1.4217630624771118\n",
      "Epoch 739 train loss: 0.5004672283306718 test loss: 1.7223728895187378\n",
      "Epoch 740 train loss: 0.5469520236365497 test loss: 1.209291696548462\n",
      "Epoch 741 train loss: 0.5228086486458778 test loss: 1.5778391361236572\n",
      "Epoch 742 train loss: 0.6241871928796172 test loss: 1.2924625873565674\n",
      "Epoch 743 train loss: 0.6268851984292269 test loss: 1.3672502040863037\n",
      "Epoch 744 train loss: 0.5486407008953392 test loss: 1.7659144401550293\n",
      "Epoch 745 train loss: 0.5453896075487137 test loss: 0.6321216225624084\n",
      "Epoch 746 train loss: 0.4248229555785656 test loss: 1.6676286458969116\n",
      "Epoch 747 train loss: 0.5869257718324661 test loss: 1.447206735610962\n",
      "Epoch 748 train loss: 0.5106658194214105 test loss: 0.9286174178123474\n",
      "Epoch 749 train loss: 0.51622724365443 test loss: 1.049134373664856\n",
      "Epoch 750 train loss: 0.6043312529567629 test loss: 1.3850196599960327\n",
      "Epoch 751 train loss: 0.5224604549817741 test loss: 1.8703104257583618\n",
      "Epoch 752 train loss: 0.5652881368994713 test loss: 2.021054744720459\n",
      "Epoch 753 train loss: 0.6226858430542052 test loss: 0.9657610058784485\n",
      "Epoch 754 train loss: 0.5097721504047513 test loss: 1.4294319152832031\n",
      "Epoch 755 train loss: 0.568235503975302 test loss: 1.6411982774734497\n",
      "Epoch 756 train loss: 0.5242485051974655 test loss: 1.9704631567001343\n",
      "Epoch 757 train loss: 0.6101929927244782 test loss: 1.5242860317230225\n",
      "Epoch 758 train loss: 0.5405957499518991 test loss: 2.132784843444824\n",
      "Epoch 759 train loss: 0.5863913762383163 test loss: 0.8199740648269653\n",
      "Epoch 760 train loss: 0.5992729464545846 test loss: 1.3810313940048218\n",
      "Epoch 761 train loss: 0.5264849928673356 test loss: 1.5577056407928467\n",
      "Epoch 762 train loss: 0.41309468895196916 test loss: 1.275808334350586\n",
      "Epoch 763 train loss: 0.6514610745944083 test loss: 1.2495918273925781\n",
      "Epoch 764 train loss: 0.5300143839791417 test loss: 1.1782265901565552\n",
      "Epoch 765 train loss: 0.444701035018079 test loss: 1.6230385303497314\n",
      "Epoch 766 train loss: 0.6038900776766241 test loss: 1.377656102180481\n",
      "Epoch 767 train loss: 0.5763964142650366 test loss: 1.817122459411621\n",
      "Epoch 768 train loss: 0.5127909207716584 test loss: 1.542232632637024\n",
      "Epoch 769 train loss: 0.6413181002251804 test loss: 1.7423425912857056\n",
      "Epoch 770 train loss: 0.49413355309516194 test loss: 1.4059697389602661\n",
      "Epoch 771 train loss: 0.6003162725828588 test loss: 1.4249998331069946\n",
      "Epoch 772 train loss: 0.5111029821448028 test loss: 1.5479445457458496\n",
      "Epoch 773 train loss: 0.5369058225303889 test loss: 1.4889041185379028\n",
      "Epoch 774 train loss: 0.5126579141244292 test loss: 1.0274728536605835\n",
      "Epoch 775 train loss: 0.5044938228093088 test loss: 1.0376840829849243\n",
      "Epoch 776 train loss: 0.5712530801072717 test loss: 1.4493054151535034\n",
      "Epoch 777 train loss: 0.5378446089103818 test loss: 1.5587843656539917\n",
      "Epoch 778 train loss: 0.5350597955286502 test loss: 1.2340340614318848\n",
      "Epoch 779 train loss: 0.5677545491140336 test loss: 1.2257503271102905\n",
      "Epoch 780 train loss: 0.48956403899937867 test loss: 1.0897163152694702\n",
      "Epoch 781 train loss: 0.46797653851099313 test loss: 1.3443251848220825\n",
      "Epoch 782 train loss: 0.5618140751495957 test loss: 1.502168893814087\n",
      "Epoch 783 train loss: 0.4887801133096218 test loss: 1.4248149394989014\n",
      "Epoch 784 train loss: 0.6282480049878358 test loss: 1.9458496570587158\n",
      "Epoch 785 train loss: 0.6229744289070368 test loss: 0.9135793447494507\n",
      "Epoch 786 train loss: 0.6499912950210274 test loss: 1.7311795949935913\n",
      "Epoch 787 train loss: 0.5585769208148121 test loss: 0.8569852709770203\n",
      "Epoch 788 train loss: 0.6781751427799463 test loss: 1.5458600521087646\n",
      "Epoch 789 train loss: 0.4768775573000312 test loss: 1.5832722187042236\n",
      "Epoch 790 train loss: 0.597130311653018 test loss: 1.1632590293884277\n",
      "Epoch 791 train loss: 0.4733578830957413 test loss: 1.6520538330078125\n",
      "Epoch 792 train loss: 0.6496474329382181 test loss: 1.140956163406372\n",
      "Epoch 793 train loss: 0.590438337624073 test loss: 1.9115535020828247\n",
      "Epoch 794 train loss: 0.6224644260481 test loss: 1.3857035636901855\n",
      "Epoch 795 train loss: 0.5930314153432846 test loss: 0.9576385021209717\n",
      "Epoch 796 train loss: 0.6117531380616128 test loss: 1.3218588829040527\n",
      "Epoch 797 train loss: 0.5829994047060609 test loss: 1.4002089500427246\n",
      "Epoch 798 train loss: 0.5219847709871829 test loss: 1.3674579858779907\n",
      "Epoch 799 train loss: 0.5265003383159638 test loss: 1.2092231512069702\n",
      "Epoch 800 train loss: 0.6869559752754867 test loss: 1.7769641876220703\n",
      "Epoch 801 train loss: 0.5405874824151397 test loss: 0.8909626007080078\n",
      "Epoch 802 train loss: 0.5067008618265391 test loss: 1.8357422351837158\n",
      "Epoch 803 train loss: 0.6429869077168405 test loss: 1.4199084043502808\n",
      "Epoch 804 train loss: 0.614027073327452 test loss: 1.140319585800171\n",
      "Epoch 805 train loss: 0.488935318775475 test loss: 1.6541342735290527\n",
      "Epoch 806 train loss: 0.5362373417243361 test loss: 1.1013505458831787\n",
      "Epoch 807 train loss: 0.5479549984447658 test loss: 1.2455267906188965\n",
      "Epoch 808 train loss: 0.5295237690210343 test loss: 0.9099722504615784\n",
      "Epoch 809 train loss: 0.6288529882207513 test loss: 1.4159972667694092\n",
      "Epoch 810 train loss: 0.5476928567513824 test loss: 1.5058401823043823\n",
      "Epoch 811 train loss: 0.5177071979735046 test loss: 1.4090533256530762\n",
      "Epoch 812 train loss: 0.5534178403206169 test loss: 1.564245581626892\n",
      "Epoch 813 train loss: 0.4803701873868704 test loss: 0.9870436191558838\n",
      "Epoch 814 train loss: 0.5673771225847304 test loss: 1.4928237199783325\n",
      "Epoch 815 train loss: 0.6054075799882412 test loss: 1.3798867464065552\n",
      "Epoch 816 train loss: 0.46534498743712904 test loss: 1.7625291347503662\n",
      "Epoch 817 train loss: 0.6575203486718237 test loss: 1.5714815855026245\n",
      "Epoch 818 train loss: 0.5433022278826684 test loss: 1.1178615093231201\n",
      "Epoch 819 train loss: 0.5630552660673857 test loss: 1.7196650505065918\n",
      "Epoch 820 train loss: 0.5777265899814665 test loss: 1.720808506011963\n",
      "Epoch 821 train loss: 0.5338398790918291 test loss: 1.8838505744934082\n",
      "Epoch 822 train loss: 0.554856974305585 test loss: 1.5361008644104004\n",
      "Epoch 823 train loss: 0.4365393794607371 test loss: 1.968360185623169\n",
      "Epoch 824 train loss: 0.5977788901887834 test loss: 1.1948846578598022\n",
      "Epoch 825 train loss: 0.5754323488101363 test loss: 1.5403910875320435\n",
      "Epoch 826 train loss: 0.5155271899886429 test loss: 1.4434468746185303\n",
      "Epoch 827 train loss: 0.3875232780817896 test loss: 1.4183756113052368\n",
      "Epoch 828 train loss: 0.6207277852110564 test loss: 1.3338980674743652\n",
      "Epoch 829 train loss: 0.5631961523555219 test loss: 1.183971881866455\n",
      "Epoch 830 train loss: 0.5560405815485865 test loss: 1.0106152296066284\n",
      "Epoch 831 train loss: 0.6297587633132935 test loss: 1.4182260036468506\n",
      "Epoch 832 train loss: 0.4708264948800206 test loss: 1.5681140422821045\n",
      "Epoch 833 train loss: 0.4930828112177551 test loss: 1.2810359001159668\n",
      "Epoch 834 train loss: 0.5927340975031257 test loss: 1.0450841188430786\n",
      "Epoch 835 train loss: 0.4632724835537374 test loss: 1.3949737548828125\n",
      "Epoch 836 train loss: 0.5143338270485401 test loss: 1.1744049787521362\n",
      "Epoch 837 train loss: 0.48687918931245805 test loss: 1.9793312549591064\n",
      "Epoch 838 train loss: 0.6992270404472947 test loss: 1.952897071838379\n",
      "Epoch 839 train loss: 0.537288252171129 test loss: 1.5379939079284668\n",
      "Epoch 840 train loss: 0.6255172306671739 test loss: 0.8943795561790466\n",
      "Epoch 841 train loss: 0.5235347730107606 test loss: 2.5125010013580322\n",
      "Epoch 842 train loss: 0.5640505374409258 test loss: 1.2855294942855835\n",
      "Epoch 843 train loss: 0.5188827950507402 test loss: 1.6092529296875\n",
      "Epoch 844 train loss: 0.6166069048456848 test loss: 2.0901126861572266\n",
      "Epoch 845 train loss: 0.5401552735827864 test loss: 1.4863944053649902\n",
      "Epoch 846 train loss: 0.4541856937110424 test loss: 1.225429654121399\n",
      "Epoch 847 train loss: 0.5262000881135463 test loss: 1.3266321420669556\n",
      "Epoch 848 train loss: 0.5552681220695377 test loss: 1.1742618083953857\n",
      "Epoch 849 train loss: 0.6334284600801766 test loss: 1.317731261253357\n",
      "Epoch 850 train loss: 0.5670144533738494 test loss: 1.2937854528427124\n",
      "Epoch 851 train loss: 0.5552335438318551 test loss: 1.1470773220062256\n",
      "Epoch 852 train loss: 0.5201913486234844 test loss: 1.705552339553833\n",
      "Epoch 853 train loss: 0.5991097957827151 test loss: 1.503605604171753\n",
      "Epoch 854 train loss: 0.588464647717774 test loss: 1.6745383739471436\n",
      "Epoch 855 train loss: 0.4591881189495325 test loss: 1.716610312461853\n",
      "Epoch 856 train loss: 0.5741916209459305 test loss: 1.8323415517807007\n",
      "Epoch 857 train loss: 0.527683618478477 test loss: 1.2717005014419556\n",
      "Epoch 858 train loss: 0.5695378817617893 test loss: 1.4334089756011963\n",
      "Epoch 859 train loss: 0.6354306714609266 test loss: 1.140479326248169\n",
      "Epoch 860 train loss: 0.5491078844293952 test loss: 1.497477650642395\n",
      "Epoch 861 train loss: 0.39746942911297084 test loss: 1.2073938846588135\n",
      "Epoch 862 train loss: 0.5735563236288727 test loss: 1.9608699083328247\n",
      "Epoch 863 train loss: 0.7079007422551513 test loss: 1.1236077547073364\n",
      "Epoch 864 train loss: 0.6221075868234038 test loss: 1.011246681213379\n",
      "Epoch 865 train loss: 0.6401147987693548 test loss: 1.2350873947143555\n",
      "Epoch 866 train loss: 0.5799415355548263 test loss: 1.0900352001190186\n",
      "Epoch 867 train loss: 0.5782912795897573 test loss: 1.789067268371582\n",
      "Epoch 868 train loss: 0.5749456764198839 test loss: 1.6520339250564575\n",
      "Epoch 869 train loss: 0.4554904719814658 test loss: 2.016256332397461\n",
      "Epoch 870 train loss: 0.5261437710374594 test loss: 1.405282974243164\n",
      "Epoch 871 train loss: 0.4800224145874381 test loss: 1.4724445343017578\n",
      "Epoch 872 train loss: 0.5308085147291421 test loss: 1.7321165800094604\n",
      "Epoch 873 train loss: 0.584672602917999 test loss: 1.5495222806930542\n",
      "Epoch 874 train loss: 0.582086281105876 test loss: 1.1860417127609253\n",
      "Epoch 875 train loss: 0.5220218204893172 test loss: 0.6781205534934998\n",
      "Epoch 876 train loss: 0.5703271090053021 test loss: 1.4641480445861816\n",
      "Epoch 877 train loss: 0.43009088351391256 test loss: 1.4436087608337402\n",
      "Epoch 878 train loss: 0.48230558875948193 test loss: 1.4758946895599365\n",
      "Epoch 879 train loss: 0.504561695177108 test loss: 1.9574569463729858\n",
      "Epoch 880 train loss: 0.5591760507319122 test loss: 1.8352068662643433\n",
      "Epoch 881 train loss: 0.621354335732758 test loss: 1.6882684230804443\n",
      "Epoch 882 train loss: 0.4522368164733052 test loss: 1.1369869709014893\n",
      "Epoch 883 train loss: 0.42411131514236333 test loss: 1.3589677810668945\n",
      "Epoch 884 train loss: 0.53971191290766 test loss: 1.5520148277282715\n",
      "Epoch 885 train loss: 0.4615682605654001 test loss: 2.0168497562408447\n",
      "Epoch 886 train loss: 0.5842412035912276 test loss: 0.8197725415229797\n",
      "Epoch 887 train loss: 0.572738741338253 test loss: 1.6856969594955444\n",
      "Epoch 888 train loss: 0.4676090787164867 test loss: 1.1276203393936157\n",
      "Epoch 889 train loss: 0.5632532841525972 test loss: 1.1358364820480347\n",
      "Epoch 890 train loss: 0.5687668129801751 test loss: 1.3859981298446655\n",
      "Epoch 891 train loss: 0.5743574120569974 test loss: 1.2706797122955322\n",
      "Epoch 892 train loss: 0.5549003886990249 test loss: 2.585052013397217\n",
      "Epoch 893 train loss: 0.5414644921198487 test loss: 2.1126179695129395\n",
      "Epoch 894 train loss: 0.5980817577801645 test loss: 2.100482225418091\n",
      "Epoch 895 train loss: 0.5429653463885188 test loss: 1.632667064666748\n",
      "Epoch 896 train loss: 0.6227538703009486 test loss: 1.2156492471694946\n",
      "Epoch 897 train loss: 0.5371552862226963 test loss: 1.1103639602661133\n",
      "Epoch 898 train loss: 0.5899181829765439 test loss: 1.4615641832351685\n",
      "Epoch 899 train loss: 0.563752730563283 test loss: 1.5799087285995483\n",
      "Epoch 900 train loss: 0.575192515924573 test loss: 1.9787721633911133\n",
      "Epoch 901 train loss: 0.40082737831398846 test loss: 0.9034139513969421\n",
      "Epoch 902 train loss: 0.5049905310384929 test loss: 1.0754605531692505\n",
      "Epoch 903 train loss: 0.7069559903349727 test loss: 1.9859555959701538\n",
      "Epoch 904 train loss: 0.5538105149753392 test loss: 2.044647455215454\n",
      "Epoch 905 train loss: 0.5846307035535574 test loss: 1.8539892435073853\n",
      "Epoch 906 train loss: 0.6261909414082766 test loss: 1.5372129678726196\n",
      "Epoch 907 train loss: 0.6157415328547359 test loss: 1.0261986255645752\n",
      "Epoch 908 train loss: 0.501684769243002 test loss: 1.1849987506866455\n",
      "Epoch 909 train loss: 0.6005341304466129 test loss: 1.8645312786102295\n",
      "Epoch 910 train loss: 0.5395970583893359 test loss: 1.1395902633666992\n",
      "Epoch 911 train loss: 0.5807681538164615 test loss: 0.9646672606468201\n",
      "Epoch 912 train loss: 0.5394318638369441 test loss: 1.371050238609314\n",
      "Epoch 913 train loss: 0.5433110718615353 test loss: 1.8181378841400146\n",
      "Epoch 914 train loss: 0.5191447729244828 test loss: 1.8902912139892578\n",
      "Epoch 915 train loss: 0.5486594300717116 test loss: 1.5761703252792358\n",
      "Epoch 916 train loss: 0.5777946412563324 test loss: 1.5100431442260742\n",
      "Epoch 917 train loss: 0.5714511850848794 test loss: 1.5209418535232544\n",
      "Epoch 918 train loss: 0.4177171353250742 test loss: 1.4529364109039307\n",
      "Epoch 919 train loss: 0.5851666989736259 test loss: 1.6736688613891602\n",
      "Epoch 920 train loss: 0.39960821913555267 test loss: 1.450852394104004\n",
      "Epoch 921 train loss: 0.5742545204237104 test loss: 1.8986642360687256\n",
      "Epoch 922 train loss: 0.5432743120938539 test loss: 1.317867636680603\n",
      "Epoch 923 train loss: 0.5460794754792004 test loss: 1.1615040302276611\n",
      "Epoch 924 train loss: 0.5214176015928388 test loss: 1.1480869054794312\n",
      "Epoch 925 train loss: 0.4678881808184087 test loss: 0.8328160643577576\n",
      "Epoch 926 train loss: 0.5586871657520532 test loss: 1.6633015871047974\n",
      "Epoch 927 train loss: 0.5363480138592422 test loss: 0.9657475352287292\n",
      "Epoch 928 train loss: 0.4182448467239738 test loss: 1.5183672904968262\n",
      "Epoch 929 train loss: 0.6686570796184241 test loss: 1.569722294807434\n",
      "Epoch 930 train loss: 0.5168915770947933 test loss: 1.5605851411819458\n",
      "Epoch 931 train loss: 0.5898396485485137 test loss: 0.9773029685020447\n",
      "Epoch 932 train loss: 0.5002282828092575 test loss: 2.146439552307129\n",
      "Epoch 933 train loss: 0.5737121850252151 test loss: 1.7033625841140747\n",
      "Epoch 934 train loss: 0.5053184984251857 test loss: 1.811049461364746\n",
      "Epoch 935 train loss: 0.48182355454191567 test loss: 1.9460467100143433\n",
      "Epoch 936 train loss: 0.5472472989931703 test loss: 1.3730216026306152\n",
      "Epoch 937 train loss: 0.4710018611513078 test loss: 1.5926897525787354\n",
      "Epoch 938 train loss: 0.6707155526615679 test loss: 1.5917471647262573\n",
      "Epoch 939 train loss: 0.6354153465479613 test loss: 1.5238969326019287\n",
      "Epoch 940 train loss: 0.641748751141131 test loss: 1.4092811346054077\n",
      "Epoch 941 train loss: 0.47286614021286366 test loss: 1.516984224319458\n",
      "Epoch 942 train loss: 0.4453655776567757 test loss: 1.2914258241653442\n",
      "Epoch 943 train loss: 0.43651494206860664 test loss: 1.4118107557296753\n",
      "Epoch 944 train loss: 0.6069597417488695 test loss: 1.6671048402786255\n",
      "Epoch 945 train loss: 0.5590886426158249 test loss: 1.4368292093276978\n",
      "Epoch 946 train loss: 0.4681712206453085 test loss: 1.1074045896530151\n",
      "Epoch 947 train loss: 0.5818574026226997 test loss: 1.6575736999511719\n",
      "Epoch 948 train loss: 0.5648204759694636 test loss: 1.9801157712936401\n",
      "Epoch 949 train loss: 0.6284065021201968 test loss: 1.1821668148040771\n",
      "Epoch 950 train loss: 0.6063530638813972 test loss: 1.4313726425170898\n",
      "Epoch 951 train loss: 0.5762115604244172 test loss: 1.7965024709701538\n",
      "Epoch 952 train loss: 0.6076502827461809 test loss: 1.2189851999282837\n",
      "Epoch 953 train loss: 0.611363563593477 test loss: 1.2910447120666504\n",
      "Epoch 954 train loss: 0.5731832479126752 test loss: 2.0041825771331787\n",
      "Epoch 955 train loss: 0.547674569231458 test loss: 1.7447630167007446\n",
      "Epoch 956 train loss: 0.6188021447975188 test loss: 1.649518370628357\n",
      "Epoch 957 train loss: 0.5746834443882107 test loss: 1.41349458694458\n",
      "Epoch 958 train loss: 0.4483832797734067 test loss: 1.2797101736068726\n",
      "Epoch 959 train loss: 0.6099380644038319 test loss: 1.3824052810668945\n",
      "Epoch 960 train loss: 0.6919329256750644 test loss: 1.3304604291915894\n",
      "Epoch 961 train loss: 0.5913004555739463 test loss: 1.6098344326019287\n",
      "Epoch 962 train loss: 0.47889148257672787 test loss: 1.41923189163208\n",
      "Epoch 963 train loss: 0.6878756742924452 test loss: 1.5993133783340454\n",
      "Epoch 964 train loss: 0.5719512469135225 test loss: 1.8285655975341797\n",
      "Epoch 965 train loss: 0.4362860586494207 test loss: 1.377627968788147\n",
      "Epoch 966 train loss: 0.47983793197199703 test loss: 1.2716375589370728\n",
      "Epoch 967 train loss: 0.5469271414913237 test loss: 1.4416186809539795\n",
      "Epoch 968 train loss: 0.6220011189579964 test loss: 1.4052692651748657\n",
      "Epoch 969 train loss: 0.5139062722213567 test loss: 1.3328208923339844\n",
      "Epoch 970 train loss: 0.661830598441884 test loss: 1.8502275943756104\n",
      "Epoch 971 train loss: 0.489609875716269 test loss: 1.3171849250793457\n",
      "Epoch 972 train loss: 0.45451594740152357 test loss: 1.1871615648269653\n",
      "Epoch 973 train loss: 0.6497810374945402 test loss: 1.1642189025878906\n",
      "Epoch 974 train loss: 0.5142352261580527 test loss: 1.9345862865447998\n",
      "Epoch 975 train loss: 0.6733452755957842 test loss: 2.157918691635132\n",
      "Epoch 976 train loss: 0.5914631795138121 test loss: 1.8890551328659058\n",
      "Epoch 977 train loss: 0.5596202977001667 test loss: 1.586164116859436\n",
      "Epoch 978 train loss: 0.506585980206728 test loss: 1.4219778776168823\n",
      "Epoch 979 train loss: 0.6633007388561964 test loss: 1.2665784358978271\n",
      "Epoch 980 train loss: 0.5710654738591984 test loss: 1.2436513900756836\n",
      "Epoch 981 train loss: 0.6398658309597522 test loss: 1.7820558547973633\n",
      "Epoch 982 train loss: 0.574417918920517 test loss: 2.1044702529907227\n",
      "Epoch 983 train loss: 0.5307048440910875 test loss: 1.0560654401779175\n",
      "Epoch 984 train loss: 0.5780618630349637 test loss: 1.6018167734146118\n",
      "Epoch 985 train loss: 0.5235774251632392 test loss: 1.2091295719146729\n",
      "Epoch 986 train loss: 0.6055294514633716 test loss: 1.5449687242507935\n",
      "Epoch 987 train loss: 0.5443605040200055 test loss: 1.3804765939712524\n",
      "Epoch 988 train loss: 0.6216191106010228 test loss: 1.571353554725647\n",
      "Epoch 989 train loss: 0.5674984604120255 test loss: 1.5582125186920166\n",
      "Epoch 990 train loss: 0.49173003202304244 test loss: 1.1019898653030396\n",
      "Epoch 991 train loss: 0.5667483874596655 test loss: 1.3656493425369263\n",
      "Epoch 992 train loss: 0.515032934397459 test loss: 1.8761839866638184\n",
      "Epoch 993 train loss: 0.5367552060633898 test loss: 1.559682846069336\n",
      "Epoch 994 train loss: 0.6210195500403642 test loss: 1.3881826400756836\n",
      "Epoch 995 train loss: 0.6202905985526741 test loss: 1.8835642337799072\n",
      "Epoch 996 train loss: 0.5935285719111562 test loss: 1.2450522184371948\n",
      "Epoch 997 train loss: 0.551058947108686 test loss: 1.6791249513626099\n",
      "Epoch 998 train loss: 0.6623411839827895 test loss: 1.358460545539856\n",
      "Epoch 999 train loss: 0.5976571509614587 test loss: 1.5590648651123047\n"
     ]
    }
   ],
   "source": [
    "best_valid_loss = float('inf')\n",
    "loss_train = []\n",
    "loss_test= []\n",
    "for i, model in enumerate(models):\n",
    "    print(f\"Training {type(model).__name__}\")\n",
    "    \n",
    "    #start_time = time.time()\n",
    "\n",
    "    for epoch in range(N_EPOCHS):\n",
    "        #start_time = time.time()\n",
    "        loss  = train(model, train_iterator, optimizer, criterion) \n",
    "        test_loss = test(model, test_iterator, optimizer, criterion)\n",
    "        print(f'Epoch {epoch} train loss: {loss} test loss: {test_loss}') \n",
    "        loss_train.append(loss)\n",
    "        loss_test.append(test_loss)\n",
    "        \n",
    "        # if epoch % 50 == 0:\n",
    "        #     clear_output(wait=True)\n",
    "            \n",
    "        # if test_loss  < best_valid_loss:\n",
    "        #         best_valid_loss = test_loss\n",
    "        #         torch.save(model.state_dict(), f'./drive/Shareddrives/BI&A/Prediction_Code/models/TCN/{name}.pt')"
   ]
  },
  {
   "cell_type": "code",
   "execution_count": 50,
   "id": "72a1cc4c-8aa1-4d0e-8519-bee36c293b40",
   "metadata": {
    "executionInfo": {
     "elapsed": 57917,
     "status": "aborted",
     "timestamp": 1619509212338,
     "user": {
      "displayName": "Sitiporn Saelim",
      "photoUrl": "",
      "userId": "04392232392828254116"
     },
     "user_tz": -420
    },
    "id": "72a1cc4c-8aa1-4d0e-8519-bee36c293b40"
   },
   "outputs": [
    {
     "data": {
      "text/plain": [
       "<matplotlib.legend.Legend at 0x7f966826ecf8>"
      ]
     },
     "execution_count": 50,
     "metadata": {},
     "output_type": "execute_result"
    },
    {
     "data": {
      "image/png": "[encoded data removed]",
      "text/plain": [
       "<matplotlib.figure.Figure at 0x7f9668507be0>"
      ]
     },
     "metadata": {
      "needs_background": "light"
     },
     "output_type": "display_data"
    }
   ],
   "source": [
    "plt.figure(figsize=(30, 10))\n",
    "plt.plot(loss_train)\n",
    "plt.plot(loss_test)\n",
    "plt.legend(['loss_train','loss_test'])"
   ]
  },
  {
   "cell_type": "markdown",
   "id": "o10jSvM5Nh-r",
   "metadata": {
    "id": "o10jSvM5Nh-r"
   },
   "source": [
    "# Predicted daily case"
   ]
  },
  {
   "cell_type": "code",
   "execution_count": 51,
   "id": "25078c02-a8be-4f1e-a706-2ec7cd3c8a27",
   "metadata": {
    "executionInfo": {
     "elapsed": 57915,
     "status": "aborted",
     "timestamp": 1619509212340,
     "user": {
      "displayName": "Sitiporn Saelim",
      "photoUrl": "",
      "userId": "04392232392828254116"
     },
     "user_tz": -420
    },
    "id": "25078c02-a8be-4f1e-a706-2ec7cd3c8a27"
   },
   "outputs": [
    {
     "name": "stderr",
     "output_type": "stream",
     "text": [
      "/usr/local/lib/python3.6/dist-packages/torch/nn/modules/loss.py:528: UserWarning: Using a target size (torch.Size([1])) that is different to the input size (torch.Size([1, 1])). This will likely lead to incorrect results due to broadcasting. Please ensure they have the same size.\n",
      "  return F.mse_loss(input, target, reduction=self.reduction)\n"
     ]
    }
   ],
   "source": [
    "with torch.no_grad():\n",
    "  test_seq = X_test[:1]\n",
    "  preds = []\n",
    "  test_losses = []\n",
    "  for i in range(len(X_test)):\n",
    "    y_test_pred = model(test_seq.to(device))\n",
    "    test_loss = criterion(y_test_pred.float(), y_test[i].to(device))\n",
    "    test_losses.append(test_loss.item())\n",
    "    pred = torch.flatten(y_test_pred).item()\n",
    "    preds.append(pred)\n",
    "    new_seq = test_seq.cpu().numpy().flatten()\n",
    "    new_seq = np.append(new_seq, [pred])\n",
    "    new_seq = new_seq[1:]\n",
    "    test_seq = torch.as_tensor(new_seq).view(1, 1, seq_length).float()"
   ]
  },
  {
   "cell_type": "code",
   "execution_count": 52,
   "id": "38ebdf50-f85d-4aac-844d-7c073681c1bf",
   "metadata": {
    "executionInfo": {
     "elapsed": 57914,
     "status": "aborted",
     "timestamp": 1619509212341,
     "user": {
      "displayName": "Sitiporn Saelim",
      "photoUrl": "",
      "userId": "04392232392828254116"
     },
     "user_tz": -420
    },
    "id": "38ebdf50-f85d-4aac-844d-7c073681c1bf"
   },
   "outputs": [],
   "source": [
    "true_cases = scaler.inverse_transform(\n",
    "    np.expand_dims(y_test.cpu().flatten().numpy(), axis=0)\n",
    ").flatten()\n",
    "\n",
    "test_case = scaler.inverse_transform(test_data).flatten()\n",
    "\n",
    "predicted_cases = scaler.inverse_transform(\n",
    "  np.expand_dims(preds, axis=0)\n",
    ").flatten()"
   ]
  },
  {
   "cell_type": "code",
   "execution_count": 53,
   "id": "2dc939c0-2540-4c7d-8534-6568449693df",
   "metadata": {
    "executionInfo": {
     "elapsed": 57908,
     "status": "aborted",
     "timestamp": 1619509212341,
     "user": {
      "displayName": "Sitiporn Saelim",
      "photoUrl": "",
      "userId": "04392232392828254116"
     },
     "user_tz": -420
    },
    "id": "2dc939c0-2540-4c7d-8534-6568449693df"
   },
   "outputs": [
    {
     "name": "stderr",
     "output_type": "stream",
     "text": [
      "/usr/lib/python3/dist-packages/matplotlib/cbook/__init__.py:2019: FutureWarning: Support for multi-dimensional indexing (e.g. `obj[:, None]`) is deprecated and will be removed in a future version.  Convert to a numpy array before indexing instead.\n",
      "  x[:, None]\n",
      "/usr/lib/python3/dist-packages/matplotlib/axes/_base.py:249: FutureWarning: Support for multi-dimensional indexing (e.g. `obj[:, None]`) is deprecated and will be removed in a future version.  Convert to a numpy array before indexing instead.\n",
      "  x = x[:, np.newaxis]\n"
     ]
    },
    {
     "data": {
      "image/png": "[encoded data removed]",
      "text/plain": [
       "<matplotlib.figure.Figure at 0x7f966823d4a8>"
      ]
     },
     "metadata": {
      "needs_background": "light"
     },
     "output_type": "display_data"
    }
   ],
   "source": [
    "plt.figure(figsize=(20,10))\n",
    "plt.title(f\"Daily cases :{STATE}\\nmodel:{name}\")\n",
    "plt.plot(\n",
    "  df_clean.index[:len(train_data)], \n",
    "  scaler.inverse_transform(train_data).flatten(),\n",
    "  label='Historical Daily Cases'\n",
    ")\n",
    "\n",
    "plt.plot(\n",
    "  df_clean.index[len(train_data):len(train_data)+len(test_data)], \n",
    "  test_case,\n",
    "  label='Real Daily Cases'\n",
    ")\n",
    "\n",
    "# plt.plot(\n",
    "#   df_clean.index[len(train_data):len(train_data)+len(test_data)], \n",
    "#   test_data,\n",
    "#   label='Scale Daily Cases'\n",
    "# )\n",
    "\n",
    "plt.plot(\n",
    "  df_clean.index[len(train_data)+seq_length+1:len(train_data)+len(test_data)], \n",
    "  predicted_cases, \n",
    "  label='Predicted Daily Cases'\n",
    ")\n",
    "\n",
    "# plt.plot(\n",
    "#   df_clean.index[len(train_data)+seq_length+1:len(train_data)+len(test_data)], \n",
    "#   (np.asarray(preds)), \n",
    "#   label='Original Predicted Daily Cases'\n",
    "# )\n",
    "\n",
    "plt.legend();"
   ]
  },
  {
   "cell_type": "code",
   "execution_count": 54,
   "id": "7QUg2uOaANja",
   "metadata": {
    "executionInfo": {
     "elapsed": 57908,
     "status": "aborted",
     "timestamp": 1619509212343,
     "user": {
      "displayName": "Sitiporn Saelim",
      "photoUrl": "",
      "userId": "04392232392828254116"
     },
     "user_tz": -420
    },
    "id": "7QUg2uOaANja"
   },
   "outputs": [],
   "source": [
    "#np.savetxt('TCN_Texas.csv', predicted_cases, delimiter=',')"
   ]
  },
  {
   "cell_type": "code",
   "execution_count": null,
   "id": "d0a6b23e-547f-4c90-9405-3f5df3cd6425",
   "metadata": {},
   "outputs": [],
   "source": []
  },
  {
   "cell_type": "code",
   "execution_count": 55,
   "id": "74938405-c1c8-49d1-8b68-874d967e809f",
   "metadata": {},
   "outputs": [],
   "source": [
    "with torch.no_grad():\n",
    "  test_seq = X_test[-1:]\n",
    "  preds_future = []\n",
    "  test_losses = []\n",
    "  for i in range(90):\n",
    "    y_test_pred = model(test_seq.to(device))\n",
    "    #test_loss = criterion(y_test_pred.float(), y_test[i].to(device))\n",
    "    #test_losses.append(test_loss.item())\n",
    "    pred = torch.flatten(y_test_pred).item()\n",
    "    preds_future.append(pred)\n",
    "    new_seq = test_seq.cpu().numpy().flatten()\n",
    "    new_seq = np.append(new_seq, [pred])\n",
    "    new_seq = new_seq[1:]\n",
    "    test_seq = torch.as_tensor(new_seq).view(1, 1, seq_length).float()"
   ]
  },
  {
   "cell_type": "code",
   "execution_count": 56,
   "id": "7442fb5f-26c9-41b4-8893-48e1fd870526",
   "metadata": {},
   "outputs": [],
   "source": [
    "predicted_cases_future = scaler.inverse_transform(\n",
    "  np.expand_dims(preds_future, axis=0)\n",
    ").flatten()\n",
    "\n",
    "past_days = scaler.inverse_transform(\n",
    "  np.expand_dims(X_test[-1:], axis=0)\n",
    ").flatten()"
   ]
  },
  {
   "cell_type": "markdown",
   "id": "d5822ce9-6ee4-44ab-ab4c-0157eb9bb10f",
   "metadata": {},
   "source": [
    "### the number of prediction days"
   ]
  },
  {
   "cell_type": "code",
   "execution_count": 57,
   "id": "f6fb42e0-11e0-43b9-9f8b-53a47440b5f5",
   "metadata": {},
   "outputs": [
    {
     "data": {
      "text/plain": [
       "((90,), (21,))"
      ]
     },
     "execution_count": 57,
     "metadata": {},
     "output_type": "execute_result"
    }
   ],
   "source": [
    "predicted_cases_future.shape , past_days.shape"
   ]
  },
  {
   "cell_type": "markdown",
   "id": "c81269be-0c91-4001-94ff-a86217528594",
   "metadata": {},
   "source": [
    "### Concat the last 21 days of data with 90 days of prediction"
   ]
  },
  {
   "cell_type": "code",
   "execution_count": 58,
   "id": "678de161-754d-4705-bf6b-dd791e4415d0",
   "metadata": {},
   "outputs": [],
   "source": [
    "new_data = np.concatenate((past_days, predicted_cases_future), axis=None)"
   ]
  },
  {
   "cell_type": "code",
   "execution_count": 59,
   "id": "816fe8cc-4ddd-42a6-b3e8-c15cbb96f6d2",
   "metadata": {},
   "outputs": [],
   "source": [
    "#np.savetxt('TCN_Texas_21days+90days.csv', new_data, delimiter=',')"
   ]
  },
  {
   "cell_type": "code",
   "execution_count": 60,
   "id": "a9a2735f-254a-4df8-9eb1-b7a93d65bf2c",
   "metadata": {},
   "outputs": [
    {
     "data": {
      "text/plain": [
       "<matplotlib.legend.Legend at 0x7f96680f8e10>"
      ]
     },
     "execution_count": 60,
     "metadata": {},
     "output_type": "execute_result"
    },
    {
     "data": {
      "image/png": "[encoded data removed]",
      "text/plain": [
       "<matplotlib.figure.Figure at 0x7f9668658e10>"
      ]
     },
     "metadata": {
      "needs_background": "light"
     },
     "output_type": "display_data"
    }
   ],
   "source": [
    "plt.plot(np.arange(22,112),predicted_cases_future)\n",
    "plt.plot(np.arange(1,22),past_days)\n",
    "plt.legend([\"predicted_cases_future\", \"past days\"])"
   ]
  },
  {
   "cell_type": "code",
   "execution_count": null,
   "id": "6bf83e17-550e-4aca-9fae-b7a53382fc3d",
   "metadata": {},
   "outputs": [],
   "source": []
  }
 ],
 "metadata": {
  "accelerator": "GPU",
  "colab": {
   "name": "2.2_TCN_California.ipynb",
   "provenance": []
  },
  "kernelspec": {
   "display_name": "Python 3",
   "language": "python",
   "name": "python3"
  },
  "language_info": {
   "codemirror_mode": {
    "name": "ipython",
    "version": 3
   },
   "file_extension": ".py",
   "mimetype": "text/x-python",
   "name": "python",
   "nbconvert_exporter": "python",
   "pygments_lexer": "ipython3",
   "version": "3.6.9"
  }
 },
 "nbformat": 4,
 "nbformat_minor": 5
}
